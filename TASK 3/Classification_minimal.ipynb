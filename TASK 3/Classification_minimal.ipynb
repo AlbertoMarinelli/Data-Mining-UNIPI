{
 "cells": [
  {
   "attachments": {},
   "cell_type": "markdown",
   "metadata": {},
   "source": [
    "# Task 3 Classification\n",
    "*Alberto Roberto Marinelli, Giacomo Cignoni, Alessandro Bucci*"
   ]
  },
  {
   "attachments": {},
   "cell_type": "markdown",
   "metadata": {},
   "source": [
    "## Version with MINIMAL set of features"
   ]
  },
  {
   "attachments": {},
   "cell_type": "markdown",
   "metadata": {},
   "source": [
    "## Importing Libraries\n",
    "First we import libraries necessary to classify the data"
   ]
  },
  {
   "cell_type": "code",
   "execution_count": 1,
   "metadata": {},
   "outputs": [],
   "source": [
    "import numpy as np\n",
    "import pandas as pd\n",
    "from tqdm import tqdm\n",
    "import matplotlib.pyplot as plt\n",
    "from sklearn.preprocessing import StandardScaler\n",
    "from sklearn.model_selection import cross_val_score, KFold, StratifiedKFold, train_test_split\n",
    "from sklearn.model_selection import GridSearchCV, cross_validate\n",
    "from sklearn.metrics import accuracy_score, f1_score, confusion_matrix, make_scorer, balanced_accuracy_score, classification_report\n",
    "from sklearn.preprocessing import normalize"
   ]
  },
  {
   "cell_type": "code",
   "execution_count": 2,
   "metadata": {},
   "outputs": [],
   "source": [
    "df = pd.read_csv(\"../dataset/user_indicators_uncorrelated.csv\") "
   ]
  },
  {
   "cell_type": "code",
   "execution_count": 3,
   "metadata": {},
   "outputs": [],
   "source": [
    "dict_colors_bot = { 1: 'teal', 0: 'sandybrown'}"
   ]
  },
  {
   "cell_type": "code",
   "execution_count": 4,
   "metadata": {},
   "outputs": [],
   "source": [
    "# Functions that prints the classification report\n",
    "def report_scores(test_label, test_pred):\n",
    "    print(classification_report(test_label, \n",
    "                            test_pred, \n",
    "                            target_names=['non-bot', 'bot']))"
   ]
  },
  {
   "attachments": {},
   "cell_type": "markdown",
   "metadata": {},
   "source": [
    "## Dataset cleaning and preprocessing"
   ]
  },
  {
   "attachments": {},
   "cell_type": "markdown",
   "metadata": {},
   "source": [
    "Convert total success score to log scale"
   ]
  },
  {
   "cell_type": "code",
   "execution_count": 5,
   "metadata": {},
   "outputs": [
    {
     "ename": "AttributeError",
     "evalue": "'DataFrame' object has no attribute 'total_success_score'",
     "output_type": "error",
     "traceback": [
      "\u001b[1;31m---------------------------------------------------------------------------\u001b[0m",
      "\u001b[1;31mAttributeError\u001b[0m                            Traceback (most recent call last)",
      "\u001b[1;32m<ipython-input-5-f2fe62c69785>\u001b[0m in \u001b[0;36m<module>\u001b[1;34m\u001b[0m\n\u001b[1;32m----> 1\u001b[1;33m \u001b[0mdf\u001b[0m\u001b[1;33m.\u001b[0m\u001b[0mtotal_success_score\u001b[0m \u001b[1;33m=\u001b[0m \u001b[0mnp\u001b[0m\u001b[1;33m.\u001b[0m\u001b[0mlog\u001b[0m\u001b[1;33m(\u001b[0m\u001b[0mdf\u001b[0m\u001b[1;33m.\u001b[0m\u001b[0mtotal_success_score\u001b[0m \u001b[1;33m+\u001b[0m \u001b[1;36m1\u001b[0m\u001b[1;33m)\u001b[0m\u001b[1;33m\u001b[0m\u001b[1;33m\u001b[0m\u001b[0m\n\u001b[0m",
      "\u001b[1;32mc:\\Users\\giaco\\anaconda3\\envs\\PythonGPU\\lib\\site-packages\\pandas\\core\\generic.py\u001b[0m in \u001b[0;36m__getattr__\u001b[1;34m(self, name)\u001b[0m\n\u001b[0;32m   5485\u001b[0m         ):\n\u001b[0;32m   5486\u001b[0m             \u001b[1;32mreturn\u001b[0m \u001b[0mself\u001b[0m\u001b[1;33m[\u001b[0m\u001b[0mname\u001b[0m\u001b[1;33m]\u001b[0m\u001b[1;33m\u001b[0m\u001b[1;33m\u001b[0m\u001b[0m\n\u001b[1;32m-> 5487\u001b[1;33m         \u001b[1;32mreturn\u001b[0m \u001b[0mobject\u001b[0m\u001b[1;33m.\u001b[0m\u001b[0m__getattribute__\u001b[0m\u001b[1;33m(\u001b[0m\u001b[0mself\u001b[0m\u001b[1;33m,\u001b[0m \u001b[0mname\u001b[0m\u001b[1;33m)\u001b[0m\u001b[1;33m\u001b[0m\u001b[1;33m\u001b[0m\u001b[0m\n\u001b[0m\u001b[0;32m   5488\u001b[0m \u001b[1;33m\u001b[0m\u001b[0m\n\u001b[0;32m   5489\u001b[0m     \u001b[1;32mdef\u001b[0m \u001b[0m__setattr__\u001b[0m\u001b[1;33m(\u001b[0m\u001b[0mself\u001b[0m\u001b[1;33m,\u001b[0m \u001b[0mname\u001b[0m\u001b[1;33m:\u001b[0m \u001b[0mstr\u001b[0m\u001b[1;33m,\u001b[0m \u001b[0mvalue\u001b[0m\u001b[1;33m)\u001b[0m \u001b[1;33m->\u001b[0m \u001b[1;32mNone\u001b[0m\u001b[1;33m:\u001b[0m\u001b[1;33m\u001b[0m\u001b[1;33m\u001b[0m\u001b[0m\n",
      "\u001b[1;31mAttributeError\u001b[0m: 'DataFrame' object has no attribute 'total_success_score'"
     ]
    }
   ],
   "source": [
    "df.total_success_score = np.log(df.total_success_score + 1)"
   ]
  },
  {
   "attachments": {},
   "cell_type": "markdown",
   "metadata": {},
   "source": [
    "Show ratio of bot/not-bot labels in the dataset"
   ]
  },
  {
   "cell_type": "code",
   "execution_count": null,
   "metadata": {},
   "outputs": [
    {
     "name": "stdout",
     "output_type": "stream",
     "text": [
      "Int64Index([1, 0], dtype='int64')\n"
     ]
    },
    {
     "data": {
      "image/png": "[encoded data removed]",
      "text/plain": [
       "<Figure size 640x480 with 1 Axes>"
      ]
     },
     "metadata": {},
     "output_type": "display_data"
    },
    {
     "name": "stdout",
     "output_type": "stream",
     "text": [
      "1    6116\n",
      "0    5392\n",
      "Name: bot, dtype: int64\n"
     ]
    }
   ],
   "source": [
    "bot_value_count = df['bot'].value_counts()\n",
    "print(bot_value_count.keys())\n",
    "# Show pie plot\n",
    "labels = ['non-bot', 'bot']\n",
    "plt.pie(bot_value_count, labels= bot_value_count.index, colors=[dict_colors_bot[v] for v in bot_value_count.keys()])\n",
    "plt.show()\n",
    "print(bot_value_count)"
   ]
  },
  {
   "cell_type": "markdown",
   "metadata": {},
   "source": [
    "### Extract labels and data"
   ]
  },
  {
   "cell_type": "code",
   "execution_count": 6,
   "metadata": {},
   "outputs": [
    {
     "name": "stdout",
     "output_type": "stream",
     "text": [
      "<class 'pandas.core.frame.DataFrame'>\n",
      "RangeIndex: 11508 entries, 0 to 11507\n",
      "Data columns (total 27 columns):\n",
      " #   Column                            Non-Null Count  Dtype  \n",
      "---  ------                            --------------  -----  \n",
      " 0   user_id                           11508 non-null  int64  \n",
      " 1   lang                              11508 non-null  object \n",
      " 2   bot                               11508 non-null  int64  \n",
      " 3   created_at                        11508 non-null  object \n",
      " 4   statuses_count                    11508 non-null  int64  \n",
      " 5   tweet_count                       11508 non-null  int64  \n",
      " 6   avg_text_len                      11508 non-null  float64\n",
      " 7   entropy_minute                    11508 non-null  float64\n",
      " 8   entropy_day                       11508 non-null  float64\n",
      " 9   post_in_2012                      11508 non-null  int64  \n",
      " 10  post_in_2013                      11508 non-null  int64  \n",
      " 11  post_in_2014                      11508 non-null  int64  \n",
      " 12  post_in_2015                      11508 non-null  int64  \n",
      " 13  post_in_2016                      11508 non-null  int64  \n",
      " 14  post_in_2017                      11508 non-null  int64  \n",
      " 15  post_in_2018                      11508 non-null  int64  \n",
      " 16  post_in_2019                      11508 non-null  int64  \n",
      " 17  post_in_2020                      11508 non-null  int64  \n",
      " 18  years_outside_of_plausible_range  11508 non-null  int64  \n",
      " 19  creation_year                     11508 non-null  int64  \n",
      " 20  reply_count_avg                   11508 non-null  float64\n",
      " 21  favorite_count_avg                11508 non-null  float64\n",
      " 22  num_hashtags_avg                  11508 non-null  float64\n",
      " 23  num_urls_avg                      11508 non-null  float64\n",
      " 24  num_mentions_avg                  11508 non-null  float64\n",
      " 25  retweet_count_sum                 11508 non-null  int64  \n",
      " 26  favorite_count_sum                11508 non-null  int64  \n",
      "dtypes: float64(8), int64(17), object(2)\n",
      "memory usage: 2.4+ MB\n"
     ]
    }
   ],
   "source": [
    "df.info()"
   ]
  },
  {
   "attachments": {},
   "cell_type": "markdown",
   "metadata": {},
   "source": [
    "Exclude some user specific features that are not useful or no to be used in classifcation"
   ]
  },
  {
   "cell_type": "code",
   "execution_count": 125,
   "metadata": {},
   "outputs": [],
   "source": [
    "y = df['bot'].to_numpy()\n",
    "\n",
    "del df['user_id']\n",
    "del df['created_at']\n",
    "del df['bot']\n",
    "del df['post_in_2012']\n",
    "del df['post_in_2013']\n",
    "del df['post_in_2014']\n",
    "del df['post_in_2015']\n",
    "del df['post_in_2016']\n",
    "del df['post_in_2017']\n",
    "del df['post_in_2018']\n",
    "del df['post_in_2019']\n",
    "del df['post_in_2020']\n",
    "del df['years_outside_of_plausible_range']\n",
    "del df['creation_year']\n",
    "del df['reply_count_avg']\n",
    "del df['favorite_count_avg']\n",
    "del df['num_hashtags_avg']\n",
    "del df['num_urls_avg']\n",
    "del df['num_mentions_avg']\n",
    "del df['retweet_count_sum']\n",
    "del df['favorite_count_sum']\n",
    "\n",
    "X = df.to_numpy()"
   ]
  },
  {
   "attachments": {},
   "cell_type": "markdown",
   "metadata": {},
   "source": [
    "The following features are used for this version of classification."
   ]
  },
  {
   "cell_type": "code",
   "execution_count": 126,
   "metadata": {},
   "outputs": [
    {
     "name": "stdout",
     "output_type": "stream",
     "text": [
      "<class 'pandas.core.frame.DataFrame'>\n",
      "RangeIndex: 11508 entries, 0 to 11507\n",
      "Data columns (total 31 columns):\n",
      " #   Column              Non-Null Count  Dtype  \n",
      "---  ------              --------------  -----  \n",
      " 0   statuses_count      11508 non-null  float64\n",
      " 1   tweet_count         11508 non-null  int64  \n",
      " 2   avg_text_len        11508 non-null  float64\n",
      " 3   entropy_minute      11508 non-null  float64\n",
      " 4   entropy_day         11508 non-null  float64\n",
      " 5   reply_count_avg     11508 non-null  float64\n",
      " 6   favorite_count_avg  11508 non-null  float64\n",
      " 7   num_hashtags_avg    11508 non-null  float64\n",
      " 8   num_urls_avg        11508 non-null  float64\n",
      " 9   num_mentions_avg    11508 non-null  float64\n",
      " 10  retweet_count_sum   11508 non-null  float64\n",
      " 11  favorite_count_sum  11508 non-null  float64\n",
      " 12  lang_ar             11508 non-null  uint8  \n",
      " 13  lang_da             11508 non-null  uint8  \n",
      " 14  lang_de             11508 non-null  uint8  \n",
      " 15  lang_el             11508 non-null  uint8  \n",
      " 16  lang_en             11508 non-null  uint8  \n",
      " 17  lang_es             11508 non-null  uint8  \n",
      " 18  lang_fil            11508 non-null  uint8  \n",
      " 19  lang_fr             11508 non-null  uint8  \n",
      " 20  lang_id             11508 non-null  uint8  \n",
      " 21  lang_it             11508 non-null  uint8  \n",
      " 22  lang_ja             11508 non-null  uint8  \n",
      " 23  lang_ko             11508 non-null  uint8  \n",
      " 24  lang_nl             11508 non-null  uint8  \n",
      " 25  lang_pl             11508 non-null  uint8  \n",
      " 26  lang_pt             11508 non-null  uint8  \n",
      " 27  lang_ru             11508 non-null  uint8  \n",
      " 28  lang_sv             11508 non-null  uint8  \n",
      " 29  lang_tr             11508 non-null  uint8  \n",
      " 30  lang_zh             11508 non-null  uint8  \n",
      "dtypes: float64(11), int64(1), uint8(19)\n",
      "memory usage: 1.3 MB\n"
     ]
    }
   ],
   "source": [
    "df.info()"
   ]
  },
  {
   "attachments": {},
   "cell_type": "markdown",
   "metadata": {},
   "source": [
    "### Train Test split"
   ]
  },
  {
   "attachments": {},
   "cell_type": "markdown",
   "metadata": {},
   "source": [
    "We split the dataset in training, validation and test sets (70/15/15 split). Combining training and validation set, we also defined a development set (85% of data), as some models do not require validation."
   ]
  },
  {
   "cell_type": "code",
   "execution_count": 127,
   "metadata": {},
   "outputs": [],
   "source": [
    "X_dev, X_test, y_dev, y_test = train_test_split(X, y, random_state=15, test_size=0.15, stratify=y)\n",
    "X_train, X_val, y_train, y_val = train_test_split(X_dev, y_dev, random_state=15, test_size=0.18, stratify=y_dev)"
   ]
  },
  {
   "cell_type": "code",
   "execution_count": 128,
   "metadata": {},
   "outputs": [
    {
     "name": "stdout",
     "output_type": "stream",
     "text": [
      "Development set size: 9781 - Bot ratio: 0.53\n",
      "     Train set size: 8020 - Bot ratio: 0.53\n",
      "     Validation set size: 1761 - Bot ratio: 0.53\n",
      "Test set size: 1727 - Bot ratio: 0.53\n"
     ]
    }
   ],
   "source": [
    "print('Development set size:', len(y_dev), '- Bot ratio:', round(np.count_nonzero(y_dev)/len(y_dev), 2))\n",
    "print('     Train set size:', len(y_train), '- Bot ratio:', round(np.count_nonzero(y_train)/len(y_train), 2))\n",
    "print('     Validation set size:', len(y_val), '- Bot ratio:', round(np.count_nonzero(y_val)/len(y_val), 2))\n",
    "print('Test set size:', len(y_test), '- Bot ratio:', round(np.count_nonzero(y_test)/len(y_test), 2))"
   ]
  },
  {
   "attachments": {},
   "cell_type": "markdown",
   "metadata": {},
   "source": [
    "### Normalization  \n",
    "A good practice in classification to avoid the bias given by the range of the different attribute is normalization. We used z-score normalization."
   ]
  },
  {
   "cell_type": "code",
   "execution_count": 129,
   "metadata": {},
   "outputs": [],
   "source": [
    "scaler = StandardScaler()\n",
    "X_std_dev = scaler.fit_transform(X_dev)\n",
    "X_std_train = scaler.fit_transform(X_train)\n",
    "X_std_val = scaler.fit_transform(X_val)\n",
    "X_std_test = scaler.fit_transform(X_test)"
   ]
  },
  {
   "attachments": {},
   "cell_type": "markdown",
   "metadata": {},
   "source": [
    "## KNN"
   ]
  },
  {
   "cell_type": "code",
   "execution_count": 130,
   "metadata": {},
   "outputs": [],
   "source": [
    "from sklearn.neighbors import KNeighborsClassifier"
   ]
  },
  {
   "attachments": {},
   "cell_type": "markdown",
   "metadata": {},
   "source": [
    "We try different values for K and evaluate their performance on validation."
   ]
  },
  {
   "cell_type": "code",
   "execution_count": 131,
   "metadata": {},
   "outputs": [
    {
     "name": "stderr",
     "output_type": "stream",
     "text": [
      "100%|██████████| 19/19 [01:07<00:00,  3.56s/it]\n"
     ]
    }
   ],
   "source": [
    "k_list = [x for x in range(1, 20)]\n",
    "knn_list = []\n",
    "acc_tr_list = []\n",
    "acc_val_list = []\n",
    "\n",
    "\n",
    "for k in tqdm(k_list):\n",
    "    # Create knn model\n",
    "    knn = KNeighborsClassifier(n_neighbors=k)\n",
    "    knn.fit(X_std_train, y_train)\n",
    "    knn_list.append(knn)\n",
    "    # Predict for train and validation sets\n",
    "    y_pred_train = knn.predict(X_std_train)\n",
    "    y_pred_val = knn.predict(X_std_val)\n",
    "    # Accuracy\n",
    "    acc_tr = accuracy_score(y_train, y_pred_train)\n",
    "    acc_val = accuracy_score(y_val, y_pred_val)\n",
    "    acc_tr_list.append(acc_tr)\n",
    "    acc_val_list.append(acc_val)"
   ]
  },
  {
   "cell_type": "code",
   "execution_count": 132,
   "metadata": {},
   "outputs": [
    {
     "data": {
      "image/png": "[encoded data removed]",
      "text/plain": [
       "<Figure size 640x480 with 1 Axes>"
      ]
     },
     "metadata": {},
     "output_type": "display_data"
    }
   ],
   "source": [
    "plt.plot(range(len(acc_tr_list)), acc_tr_list, 'r--', label='training')\n",
    "plt.plot(range(len(acc_val_list)), acc_val_list, 'b-',  label='validation')\n",
    "plt.ylabel('accuracy')\n",
    "plt.xlabel('K')\n",
    "plt.tick_params(axis='both', which='major', labelsize=22)\n",
    "plt.title('KNN')\n",
    "plt.axvline(10)\n",
    "plt.legend(loc=\"upper right\")\n",
    "plt.show()"
   ]
  },
  {
   "cell_type": "markdown",
   "metadata": {},
   "source": [
    "We select K=10, as it is the smaller K where the model does not fall into overfitting."
   ]
  },
  {
   "attachments": {},
   "cell_type": "markdown",
   "metadata": {},
   "source": [
    "Now let's see in more depth the scores on validation and test."
   ]
  },
  {
   "cell_type": "code",
   "execution_count": 133,
   "metadata": {},
   "outputs": [
    {
     "name": "stdout",
     "output_type": "stream",
     "text": [
      "## Validation:\n",
      "              precision    recall  f1-score   support\n",
      "\n",
      "     non-bot       0.89      0.72      0.80       825\n",
      "         bot       0.79      0.92      0.85       936\n",
      "\n",
      "    accuracy                           0.83      1761\n",
      "   macro avg       0.84      0.82      0.82      1761\n",
      "weighted avg       0.84      0.83      0.82      1761\n",
      "\n",
      "## Test:\n",
      "              precision    recall  f1-score   support\n",
      "\n",
      "     non-bot       0.86      0.73      0.79       809\n",
      "         bot       0.79      0.90      0.84       918\n",
      "\n",
      "    accuracy                           0.82      1727\n",
      "   macro avg       0.83      0.82      0.82      1727\n",
      "weighted avg       0.83      0.82      0.82      1727\n",
      "\n"
     ]
    }
   ],
   "source": [
    "knn = knn_list[9]\n",
    "\n",
    "y_pred_val = knn.predict(X_std_val)\n",
    "print('## Validation:')\n",
    "report_scores(y_val, y_pred_val)\n",
    "\n",
    "y_pred_test = knn.predict(X_std_test)\n",
    "print('## Test:')\n",
    "report_scores(y_test, y_pred_test)"
   ]
  },
  {
   "attachments": {},
   "cell_type": "markdown",
   "metadata": {},
   "source": [
    "Performances on test is very similar to validation. We have slightly lower recall for non-bots (0.73), meaning that there are a signinficant number of bots classified as 0."
   ]
  },
  {
   "attachments": {},
   "cell_type": "markdown",
   "metadata": {},
   "source": [
    "## Bayesian classifier"
   ]
  },
  {
   "cell_type": "code",
   "execution_count": 134,
   "metadata": {},
   "outputs": [],
   "source": [
    "from sklearn.naive_bayes import GaussianNB, BernoulliNB "
   ]
  },
  {
   "attachments": {},
   "cell_type": "markdown",
   "metadata": {},
   "source": [
    "Both Gaussian and Bernoulli Bayesian classifier are tested on validation."
   ]
  },
  {
   "cell_type": "code",
   "execution_count": 161,
   "metadata": {},
   "outputs": [
    {
     "name": "stdout",
     "output_type": "stream",
     "text": [
      "## Validation:\n",
      "              precision    recall  f1-score   support\n",
      "\n",
      "     non-bot       0.51      1.00      0.67       825\n",
      "         bot       1.00      0.14      0.24       936\n",
      "\n",
      "    accuracy                           0.54      1761\n",
      "   macro avg       0.75      0.57      0.46      1761\n",
      "weighted avg       0.77      0.54      0.44      1761\n",
      "\n"
     ]
    }
   ],
   "source": [
    "gnb = GaussianNB()\n",
    "\n",
    "y_pred_val = gnb.fit(X_std_train, y_train).predict(X_std_val)\n",
    "print('## Validation:')\n",
    "report_scores(y_val, y_pred_val)"
   ]
  },
  {
   "cell_type": "code",
   "execution_count": 163,
   "metadata": {},
   "outputs": [
    {
     "name": "stdout",
     "output_type": "stream",
     "text": [
      "## Validation:\n",
      "              precision    recall  f1-score   support\n",
      "\n",
      "     non-bot       0.79      0.66      0.72       825\n",
      "         bot       0.74      0.85      0.79       936\n",
      "\n",
      "    accuracy                           0.76      1761\n",
      "   macro avg       0.76      0.75      0.75      1761\n",
      "weighted avg       0.76      0.76      0.75      1761\n",
      "\n"
     ]
    }
   ],
   "source": [
    "bnb = BernoulliNB()\n",
    "\n",
    "y_pred_val = bnb.fit(X_std_train, y_train).predict(X_std_val)\n",
    "print('## Validation:')\n",
    "report_scores(y_val, y_pred_val)"
   ]
  },
  {
   "attachments": {},
   "cell_type": "markdown",
   "metadata": {},
   "source": [
    "Only the Bernoulli Naive Bayes achieves satisfactory scores on valoidation, while Gaussian Naive Bayes fails to classify correctly, having an accuracy only slightly over 0.5. So we only test on test set Bernoulli after retrain on the whole development set."
   ]
  },
  {
   "cell_type": "code",
   "execution_count": 164,
   "metadata": {},
   "outputs": [
    {
     "name": "stdout",
     "output_type": "stream",
     "text": [
      "## Test:\n",
      "              precision    recall  f1-score   support\n",
      "\n",
      "     non-bot       0.80      0.66      0.72       809\n",
      "         bot       0.74      0.86      0.80       918\n",
      "\n",
      "    accuracy                           0.76      1727\n",
      "   macro avg       0.77      0.76      0.76      1727\n",
      "weighted avg       0.77      0.76      0.76      1727\n",
      "\n"
     ]
    }
   ],
   "source": [
    "bnb = BernoulliNB()\n",
    "\n",
    "\n",
    "y_pred_test = bnb.fit(X_std_dev, y_dev).predict(X_std_test)\n",
    "print('## Test:')\n",
    "report_scores(y_test, y_pred_test)"
   ]
  },
  {
   "attachments": {},
   "cell_type": "markdown",
   "metadata": {},
   "source": [
    "Bernoulli Naive Bayes instead reaches decent accuracy but still lower than the others models."
   ]
  },
  {
   "attachments": {},
   "cell_type": "markdown",
   "metadata": {},
   "source": [
    "## Decision Tree"
   ]
  },
  {
   "cell_type": "code",
   "execution_count": 137,
   "metadata": {},
   "outputs": [],
   "source": [
    "from sklearn.tree import DecisionTreeClassifier"
   ]
  },
  {
   "cell_type": "code",
   "execution_count": 138,
   "metadata": {},
   "outputs": [],
   "source": [
    "# Function that finds the best decision tree doing hyperparameter search through CV.\n",
    "# Retrains on the whole set at the end.\n",
    "def build_decision_tree(X, y, cv=6, print_res=True):\n",
    "    params = [{\n",
    "    'criterion': ['gini', 'entropy'],\n",
    "    'max_depth': [5, 10, None],\n",
    "    'max_features': ['sqrt', 'log2', None],\n",
    "    'min_samples_split': [2, 4, 6],\n",
    "    'min_samples_leaf': [2, 4]\n",
    "    }] \n",
    "    clf = GridSearchCV(DecisionTreeClassifier(), params, refit = True, cv=cv, scoring='accuracy', n_jobs=-1, verbose=10)\n",
    "    clf.fit(X, y)\n",
    "    if print_res:\n",
    "        print(\"DT - Best parameters set found:\")\n",
    "        print(clf.best_params_)\n",
    "        print(\"DT - Best accuraccy score found:\")\n",
    "        print(clf.best_score_)\n",
    "    \n",
    "    return(clf.best_score_, clf.best_estimator_)"
   ]
  },
  {
   "attachments": {},
   "cell_type": "markdown",
   "metadata": {},
   "source": [
    "Get the best decision tree doing Cross Validation on the entire development set."
   ]
  },
  {
   "cell_type": "code",
   "execution_count": 139,
   "metadata": {},
   "outputs": [
    {
     "name": "stdout",
     "output_type": "stream",
     "text": [
      "Fitting 6 folds for each of 108 candidates, totalling 648 fits\n",
      "DT - Best parameters set found:\n",
      "{'criterion': 'entropy', 'max_depth': 10, 'max_features': None, 'min_samples_leaf': 2, 'min_samples_split': 6}\n",
      "DT - Best accuraccy score found:\n",
      "0.8420404007728582\n"
     ]
    }
   ],
   "source": [
    "best_score_dt, best_dt = build_decision_tree(X_std_dev, y_dev)"
   ]
  },
  {
   "attachments": {},
   "cell_type": "markdown",
   "metadata": {},
   "source": [
    "Test the best DT"
   ]
  },
  {
   "cell_type": "code",
   "execution_count": 140,
   "metadata": {},
   "outputs": [
    {
     "name": "stdout",
     "output_type": "stream",
     "text": [
      "## Test:\n",
      "              precision    recall  f1-score   support\n",
      "\n",
      "     non-bot       0.94      0.72      0.81       809\n",
      "         bot       0.79      0.96      0.87       918\n",
      "\n",
      "    accuracy                           0.84      1727\n",
      "   macro avg       0.87      0.84      0.84      1727\n",
      "weighted avg       0.86      0.84      0.84      1727\n",
      "\n"
     ]
    }
   ],
   "source": [
    "y_pred_test = best_dt.predict(X_std_test)\n",
    "print('## Test:')\n",
    "report_scores(y_test, y_pred_test)"
   ]
  },
  {
   "attachments": {},
   "cell_type": "markdown",
   "metadata": {},
   "source": [
    "Performances on test are the same as the CV score of the best model, so we don't have overfitting at all. Again, we have slightly lower recall for non-bots (0.72), meaning that there are a signinficant number of bots classified as 0."
   ]
  },
  {
   "attachments": {},
   "cell_type": "markdown",
   "metadata": {},
   "source": [
    "## Random Forest"
   ]
  },
  {
   "cell_type": "code",
   "execution_count": 141,
   "metadata": {},
   "outputs": [],
   "source": [
    "from sklearn.ensemble import RandomForestClassifier, VotingClassifier"
   ]
  },
  {
   "cell_type": "code",
   "execution_count": 142,
   "metadata": {},
   "outputs": [],
   "source": [
    "# Function that finds the best random forest doing hyperparameter search through CV.\n",
    "# Retrains on the whole set at the end.\n",
    "def build_random_forest(X, y, cv=6, print_res=True):\n",
    "    params = [{\n",
    "    'max_depth': [5, 15, None],\n",
    "    'max_features': ['log2', None],\n",
    "    'min_samples_leaf': [1, 2, 4],\n",
    "    'n_estimators': [32, 64, 128]\n",
    "    }] \n",
    "    clf = GridSearchCV(RandomForestClassifier(), params, refit = True, cv=cv, scoring='accuracy', n_jobs=-1, verbose=10)\n",
    "    clf.fit(X, y)\n",
    "    if print_res:\n",
    "        print(\"RF - Best parameters set found:\")\n",
    "        print(clf.best_params_)\n",
    "        print(\"RF - Best accuraccy score found:\")\n",
    "        print(clf.best_score_)\n",
    "    \n",
    "    return(clf.best_score_, clf.best_estimator_)"
   ]
  },
  {
   "attachments": {},
   "cell_type": "markdown",
   "metadata": {},
   "source": [
    "Get the best Random Forest model doing Cross Validation on the entire development set."
   ]
  },
  {
   "cell_type": "code",
   "execution_count": 143,
   "metadata": {},
   "outputs": [
    {
     "name": "stdout",
     "output_type": "stream",
     "text": [
      "Fitting 6 folds for each of 54 candidates, totalling 324 fits\n",
      "RF - Best parameters set found:\n",
      "{'max_depth': None, 'max_features': 'log2', 'min_samples_leaf': 2, 'n_estimators': 128}\n",
      "RF - Best accuraccy score found:\n",
      "0.8518553486325149\n"
     ]
    }
   ],
   "source": [
    "best_score_rf, best_rf = build_random_forest(X_std_dev, y_dev)"
   ]
  },
  {
   "cell_type": "code",
   "execution_count": 144,
   "metadata": {},
   "outputs": [
    {
     "name": "stdout",
     "output_type": "stream",
     "text": [
      "RF - Best accuraccy score found:\n",
      "0.8518553486325149\n"
     ]
    }
   ],
   "source": [
    "print(\"RF - Best accuraccy score found:\")\n",
    "print(best_score_rf)"
   ]
  },
  {
   "attachments": {},
   "cell_type": "markdown",
   "metadata": {},
   "source": [
    "Test the best RF model."
   ]
  },
  {
   "cell_type": "code",
   "execution_count": 145,
   "metadata": {},
   "outputs": [
    {
     "name": "stdout",
     "output_type": "stream",
     "text": [
      "## Test:\n",
      "              precision    recall  f1-score   support\n",
      "\n",
      "     non-bot       0.96      0.72      0.82       809\n",
      "         bot       0.80      0.97      0.88       918\n",
      "\n",
      "    accuracy                           0.85      1727\n",
      "   macro avg       0.88      0.85      0.85      1727\n",
      "weighted avg       0.87      0.85      0.85      1727\n",
      "\n"
     ]
    }
   ],
   "source": [
    "y_pred_test = best_rf.predict(X_std_test)\n",
    "print('## Test:')\n",
    "report_scores(y_test, y_pred_test)"
   ]
  },
  {
   "attachments": {},
   "cell_type": "markdown",
   "metadata": {},
   "source": [
    "Performances on test are the same as the CV score of the best model, so we don't have overfitting at all. Again, we have slightly lower recall for non-bots (0.72), meaning that there are a signinficant number of bots classified as 0."
   ]
  },
  {
   "attachments": {},
   "cell_type": "markdown",
   "metadata": {},
   "source": [
    "## SVM"
   ]
  },
  {
   "cell_type": "code",
   "execution_count": 146,
   "metadata": {},
   "outputs": [],
   "source": [
    "from sklearn import svm"
   ]
  },
  {
   "cell_type": "code",
   "execution_count": 147,
   "metadata": {},
   "outputs": [],
   "source": [
    "# Function that finds the best random forest doing hyperparameter search through CV.\n",
    "# Retrains on the whole set at the end.\n",
    "def build_SVM(X, y, cv=6, print_res=True):\n",
    "    params = [\n",
    "    {\"kernel\": [\"rbf\", \"linear\", \"sigmoid\"], \"gamma\": [\"scale\", \"auto\"], \"C\": [0.1, 1, 10, 100]},\n",
    "    {\"kernel\": [\"poly\"], \"degree\": [2,3,4], \"gamma\": [\"scale\", \"auto\"], \"C\": [0.1, 1, 10, 100]},\n",
    "\n",
    "    ] \n",
    "    clf = GridSearchCV(svm.SVC(), params, refit = True, cv=cv, scoring='accuracy', n_jobs=-1, verbose=10)\n",
    "    clf.fit(X, y)\n",
    "    if print_res:\n",
    "        print(\"SVM - Best parameters set found:\")\n",
    "        print(clf.best_params_)\n",
    "        print(\"SVM - Best accuracy score found:\")\n",
    "        print(clf.best_score_)\n",
    "\n",
    "    return(clf.best_score_, clf.best_estimator_)"
   ]
  },
  {
   "attachments": {},
   "cell_type": "markdown",
   "metadata": {},
   "source": [
    "Get the best SVM doing Cross Validation on the entire development set."
   ]
  },
  {
   "cell_type": "code",
   "execution_count": 148,
   "metadata": {},
   "outputs": [
    {
     "name": "stdout",
     "output_type": "stream",
     "text": [
      "Fitting 6 folds for each of 72 candidates, totalling 432 fits\n",
      "SVM - Best parameters set found:\n",
      "{'C': 1, 'gamma': 'scale', 'kernel': 'rbf'}\n",
      "SVM - Best accuracy score found:\n",
      "0.8446982605675567\n"
     ]
    }
   ],
   "source": [
    "best_score_svm, best_svm = build_SVM(X_std_dev, y_dev)"
   ]
  },
  {
   "attachments": {},
   "cell_type": "markdown",
   "metadata": {},
   "source": [
    "Test the best SVM"
   ]
  },
  {
   "cell_type": "code",
   "execution_count": 149,
   "metadata": {},
   "outputs": [
    {
     "name": "stdout",
     "output_type": "stream",
     "text": [
      "## Test:\n",
      "              precision    recall  f1-score   support\n",
      "\n",
      "     non-bot       0.95      0.70      0.80       809\n",
      "         bot       0.78      0.97      0.87       918\n",
      "\n",
      "    accuracy                           0.84      1727\n",
      "   macro avg       0.87      0.83      0.84      1727\n",
      "weighted avg       0.86      0.84      0.84      1727\n",
      "\n"
     ]
    }
   ],
   "source": [
    "y_pred_test = best_svm.predict(X_std_test)\n",
    "print('## Test:')\n",
    "report_scores(y_test, y_pred_test)"
   ]
  },
  {
   "attachments": {},
   "cell_type": "markdown",
   "metadata": {},
   "source": [
    "Performances on test are slightly higher then the CV score of the best model, so we don't have overfitting at all. Again, we have slightly lower recall for non-bots (0.70), meaning that there are a signinficant number of bots classified as 0."
   ]
  },
  {
   "attachments": {},
   "cell_type": "markdown",
   "metadata": {},
   "source": [
    "## MLP"
   ]
  },
  {
   "cell_type": "code",
   "execution_count": 150,
   "metadata": {},
   "outputs": [],
   "source": [
    "#Dependencies\n",
    "import keras\n",
    "from keras.models import Sequential\n",
    "from keras.layers import Dense, Dropout\n",
    "from keras import callbacks"
   ]
  },
  {
   "cell_type": "code",
   "execution_count": 151,
   "metadata": {},
   "outputs": [],
   "source": [
    "# Function that builds a NN from a list configuration containing layer neurons\n",
    "def build_nn(layers_config):\n",
    "    model = Sequential()\n",
    "\n",
    "    for i, layer_neurons in enumerate(layers_config):\n",
    "        # Add hidden layers with the current number of neurons\n",
    "        if i==0: # First layer\n",
    "            model.add(Dense(layer_neurons, activation='relu', input_dim=X_std_train.shape[1]))\n",
    "        else:\n",
    "            model.add(Dropout(.2))\n",
    "            model.add(Dense(layer_neurons, activation='relu', input_dim=layers_config[i-1]))\n",
    "    \n",
    "    # Add the output layer\n",
    "    model.add(Dense(1, activation='sigmoid'))\n",
    "    \n",
    "    # Compile the model\n",
    "    model.compile(loss='binary_crossentropy', optimizer='adam', metrics=['accuracy'])\n",
    "    \n",
    "    return model"
   ]
  },
  {
   "attachments": {},
   "cell_type": "markdown",
   "metadata": {},
   "source": [
    "Build, train and test on validation all the configurations for the MLP."
   ]
  },
  {
   "cell_type": "code",
   "execution_count": 152,
   "metadata": {},
   "outputs": [
    {
     "name": "stdout",
     "output_type": "stream",
     "text": [
      "NN with  [48, 16] configuration - Validation Score: 0.8438387513160706 - Epochs: 12\n",
      "NN with  [24, 12] configuration - Validation Score: 0.8449744582176208 - Epochs: 26\n",
      "NN with  [24] configuration - Validation Score: 0.8461101651191711 - Epochs: 19\n",
      "NN with  [12] configuration - Validation Score: 0.8415672779083252 - Epochs: 27\n",
      "NN with  [48, 24] configuration - Validation Score: 0.8466780185699463 - Epochs: 17\n",
      "NN with  [64, 24, 6] configuration - Validation Score: 0.8483815789222717 - Epochs: 20\n"
     ]
    }
   ],
   "source": [
    "# Define a list of possible lists of numbers of neurons for each layer\n",
    "layers_config_list = [[32, 16], [16, 8], [20], [12], [48, 16], [64, 24, 6]]\n",
    "\n",
    "history_list = []\n",
    "models_list = []\n",
    "val_acc_list = []\n",
    "\n",
    "# Iterate over all possible combinations of number of layers and neurons\n",
    "for layers_config in layers_config_list:\n",
    "    # Builds NN architecture\n",
    "    model = build_nn(layers_config)\n",
    "\n",
    "    # Add early stopping that checks val loss\n",
    "    earlystopping = callbacks.EarlyStopping(monitor =\"val_loss\", \n",
    "                                    mode =\"min\", patience = 3, \n",
    "                                    restore_best_weights = True)\n",
    "    \n",
    "    # Train the model on the training set\n",
    "    history = model.fit(X_std_train, y_train, validation_data = (X_std_val,y_val),\n",
    "        epochs=40, batch_size=32, verbose=0, callbacks=[earlystopping])\n",
    "    \n",
    "    # Evaluate the model on the validation set\n",
    "    _, accuracy = model.evaluate(X_std_val, y_val, verbose=0)\n",
    "\n",
    "    # Save and show results\n",
    "    print('NN with ', layers_config, 'configuration - Validation Score:', accuracy,\n",
    "        '- Epochs:', earlystopping.stopped_epoch)\n",
    "    history_list.append(history)\n",
    "    models_list.append(model)\n",
    "    val_acc_list.append(accuracy)"
   ]
  },
  {
   "attachments": {},
   "cell_type": "markdown",
   "metadata": {},
   "source": [
    "The best NN is the one with 3 hidden layers (64, 24 and 6 neurons each), which reaches the highest validation accuracy."
   ]
  },
  {
   "cell_type": "code",
   "execution_count": 153,
   "metadata": {},
   "outputs": [],
   "source": [
    "best_nn_index = 5\n",
    "\n",
    "best_history = history_list[best_nn_index]\n",
    "best_nn = models_list[best_nn_index]"
   ]
  },
  {
   "attachments": {},
   "cell_type": "markdown",
   "metadata": {},
   "source": [
    "Training curves of best NN"
   ]
  },
  {
   "cell_type": "code",
   "execution_count": 154,
   "metadata": {},
   "outputs": [
    {
     "data": {
      "image/png": "[encoded data removed]",
      "text/plain": [
       "<Figure size 640x480 with 1 Axes>"
      ]
     },
     "metadata": {},
     "output_type": "display_data"
    }
   ],
   "source": [
    "plt.plot(best_history.history['loss']) \n",
    "plt.plot(best_history.history['val_loss']) \n",
    "plt.title('Val loss of best NN') \n",
    "plt.ylabel('Loss') \n",
    "plt.xlabel('Epoch') \n",
    "plt.legend(['Train', 'Validation'], loc='upper left') \n",
    "plt.show()"
   ]
  },
  {
   "attachments": {},
   "cell_type": "markdown",
   "metadata": {},
   "source": [
    "Retrain on whole development set"
   ]
  },
  {
   "cell_type": "code",
   "execution_count": 173,
   "metadata": {},
   "outputs": [],
   "source": [
    "# Builds NN architecture\n",
    "model = build_nn(layers_config_list[best_nn_index])\n",
    "\n",
    "# Train the model on the whole development set\n",
    "final_history = model.fit(X_std_dev, y_dev, validation_data = (X_std_test, y_test), epochs=24, batch_size=32, verbose=0)\n",
    "\n",
    "# Evaluate the model on the test set\n",
    "y_pred_test = np.rint(model.predict(X_std_test, verbose=0))"
   ]
  },
  {
   "attachments": {},
   "cell_type": "markdown",
   "metadata": {},
   "source": [
    "Retraining + test curves"
   ]
  },
  {
   "cell_type": "code",
   "execution_count": 174,
   "metadata": {},
   "outputs": [
    {
     "data": {
      "image/png": "[encoded data removed]",
      "text/plain": [
       "<Figure size 640x480 with 1 Axes>"
      ]
     },
     "metadata": {},
     "output_type": "display_data"
    }
   ],
   "source": [
    "plt.plot(final_history.history['loss']) \n",
    "plt.plot(final_history.history['val_loss']) \n",
    "plt.title('Tst loss of best NN') \n",
    "plt.ylabel('Loss') \n",
    "plt.xlabel('Epoch') \n",
    "plt.legend(['Retrain', 'Test'], loc='upper left') \n",
    "plt.show()"
   ]
  },
  {
   "attachments": {},
   "cell_type": "markdown",
   "metadata": {},
   "source": [
    "Show test results"
   ]
  },
  {
   "cell_type": "code",
   "execution_count": 176,
   "metadata": {},
   "outputs": [
    {
     "name": "stdout",
     "output_type": "stream",
     "text": [
      "NN with  [64, 24, 6] configuration\n",
      "              precision    recall  f1-score   support\n",
      "\n",
      "     non-bot       0.97      0.70      0.81       809\n",
      "         bot       0.79      0.98      0.87       918\n",
      "\n",
      "    accuracy                           0.85      1727\n",
      "   macro avg       0.88      0.84      0.84      1727\n",
      "weighted avg       0.87      0.85      0.84      1727\n",
      "\n"
     ]
    }
   ],
   "source": [
    "print('NN with ', layers_config, 'configuration')\n",
    "report_scores(y_test, y_pred_test)"
   ]
  },
  {
   "attachments": {},
   "cell_type": "markdown",
   "metadata": {},
   "source": [
    "## Conclusions"
   ]
  },
  {
   "attachments": {},
   "cell_type": "markdown",
   "metadata": {},
   "source": [
    "Overall, the best models on test set are the MLP and Random Forest, altough with much simpler models such as Decision Tree and even K-NN we get comparable accuracies."
   ]
  }
 ],
 "metadata": {
  "kernelspec": {
   "display_name": "PythonGPU",
   "language": "python",
   "name": "python3"
  },
  "language_info": {
   "codemirror_mode": {
    "name": "ipython",
    "version": 3
   },
   "file_extension": ".py",
   "mimetype": "text/x-python",
   "name": "python",
   "nbconvert_exporter": "python",
   "pygments_lexer": "ipython3",
   "version": "3.7.11"
  },
  "orig_nbformat": 4,
  "vscode": {
   "interpreter": {
    "hash": "d0730f60e148d57a1e4c6f650409706dbcf5ffb151704137abb6195cb5ab6161"
   }
  }
 },
 "nbformat": 4,
 "nbformat_minor": 2
}
