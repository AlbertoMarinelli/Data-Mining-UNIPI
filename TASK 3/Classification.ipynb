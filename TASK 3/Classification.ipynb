{
 "cells": [
  {
   "cell_type": "markdown",
   "metadata": {},
   "source": [
    "# Task 3 Classification\n",
    "*Alberto Roberto Marinelli, Giacomo Cignoni, Alessandro Bucci*\n",
    "## Importing Libraries\n",
    "First we import the libraries necessary to classify the data"
   ]
  },
  {
   "cell_type": "code",
   "execution_count": 1,
   "metadata": {},
   "outputs": [],
   "source": [
    "import numpy as np\n",
    "import pandas as pd\n",
    "import matplotlib.pyplot as plt\n",
    "from math import pi\n",
    "from sklearn.preprocessing import StandardScaler, MinMaxScaler\n",
    "\n",
    "from sklearn.model_selection import cross_val_score, KFold, cross_val_score, StratifiedKFold, train_test_split\n",
    "from sklearn.model_selection import GridSearchCV, cross_validate\n",
    "from sklearn.metrics import accuracy_score, f1_score, confusion_matrix, make_scorer, balanced_accuracy_score, classification_report\n",
    "from sklearn.preprocessing import normalize"
   ]
  },
  {
   "cell_type": "code",
   "execution_count": 2,
   "metadata": {},
   "outputs": [],
   "source": [
    "df = pd.read_csv(\"../dataset/user_indicators_uncorrelated.csv\") "
   ]
  },
  {
   "cell_type": "code",
   "execution_count": 3,
   "metadata": {},
   "outputs": [],
   "source": [
    "dict_colors_bot = { 1: 'teal', 0: 'sandybrown'}"
   ]
  },
  {
   "cell_type": "code",
   "execution_count": 4,
   "metadata": {},
   "outputs": [],
   "source": [
    "def report_scores(test_label, test_pred):\n",
    "    print(classification_report(test_label, \n",
    "                            test_pred, \n",
    "                            target_names=['non-bot', 'bot']))"
   ]
  },
  {
   "cell_type": "markdown",
   "metadata": {},
   "source": [
    "### Dataframe preprocessing"
   ]
  },
  {
   "cell_type": "code",
   "execution_count": 5,
   "metadata": {},
   "outputs": [],
   "source": [
    "df.statuses_count = np.log(df.statuses_count + 1)\n",
    "df.favorite_count_avg = np.log(df.favorite_count_avg  + 1)\n",
    "df.favorite_count_sum = np.log(df.favorite_count_sum + 1)\n",
    "df.retweet_count_sum = np.log(df.retweet_count_sum + 1)\n",
    "df.reply_count_avg = np.log(df.reply_count_avg + 1)"
   ]
  },
  {
   "cell_type": "code",
   "execution_count": 6,
   "metadata": {},
   "outputs": [
    {
     "name": "stdout",
     "output_type": "stream",
     "text": [
      "Int64Index([1, 0], dtype='int64')\n"
     ]
    },
    {
     "data": {
      "image/png": "[encoded data removed]",
      "text/plain": [
       "<Figure size 640x480 with 1 Axes>"
      ]
     },
     "metadata": {},
     "output_type": "display_data"
    },
    {
     "name": "stdout",
     "output_type": "stream",
     "text": [
      "1    6116\n",
      "0    5392\n",
      "Name: bot, dtype: int64\n"
     ]
    }
   ],
   "source": [
    "bot_value_count = df['bot'].value_counts()\n",
    "print(bot_value_count.keys())\n",
    "# Show pie plot\n",
    "labels = ['non-bot', 'bot']\n",
    "plt.pie(bot_value_count, labels= bot_value_count.index, colors=[dict_colors_bot[v] for v in bot_value_count.keys()])\n",
    "plt.show()\n",
    "print(bot_value_count)"
   ]
  },
  {
   "cell_type": "markdown",
   "metadata": {},
   "source": [
    "### Extract labels and data"
   ]
  },
  {
   "cell_type": "markdown",
   "metadata": {},
   "source": [
    "Exclude some user specific features that are not useful or no to be used in clustering\n",
    "(TODO: include lang?)"
   ]
  },
  {
   "cell_type": "code",
   "execution_count": 7,
   "metadata": {},
   "outputs": [],
   "source": [
    "y = df['bot'].to_numpy()\n",
    "\n",
    "cat_feature = df[['user_id', 'lang', 'created_at']]\n",
    "del df['user_id']\n",
    "del df['lang']\n",
    "del df['created_at']\n",
    "del df['bot']\n",
    "df.head()\n",
    "\n",
    "X = df.to_numpy()"
   ]
  },
  {
   "cell_type": "markdown",
   "metadata": {},
   "source": [
    "Bot/non-bot ratio in whole dataset"
   ]
  },
  {
   "cell_type": "markdown",
   "metadata": {},
   "source": [
    "# Train Test split"
   ]
  },
  {
   "cell_type": "code",
   "execution_count": 8,
   "metadata": {},
   "outputs": [],
   "source": [
    "X_dev, X_test, y_dev, y_test = train_test_split(X, y, random_state=15, test_size=0.15, stratify=y)\n",
    "X_train, X_val, y_train, y_val = train_test_split(X_dev, y_dev, random_state=15, test_size=0.18, stratify=y_dev)"
   ]
  },
  {
   "cell_type": "code",
   "execution_count": 9,
   "metadata": {},
   "outputs": [
    {
     "name": "stdout",
     "output_type": "stream",
     "text": [
      "Development set size: 9781 - Bot ratio: 0.53\n",
      "     Train set size: 8020 - Bot ratio: 0.53\n",
      "     Validation set size: 1761 - Bot ratio: 0.53\n",
      "Test set size: 1727 - Bot ratio: 0.53\n"
     ]
    }
   ],
   "source": [
    "print('Development set size:', len(y_dev), '- Bot ratio:', round(np.count_nonzero(y_dev)/len(y_dev), 2))\n",
    "print('     Train set size:', len(y_train), '- Bot ratio:', round(np.count_nonzero(y_train)/len(y_train), 2))\n",
    "print('     Validation set size:', len(y_val), '- Bot ratio:', round(np.count_nonzero(y_val)/len(y_val), 2))\n",
    "print('Test set size:', len(y_test), '- Bot ratio:', round(np.count_nonzero(y_test)/len(y_test), 2))"
   ]
  },
  {
   "cell_type": "markdown",
   "metadata": {},
   "source": [
    "## Classification Preprocessing - Normalization  \n",
    "A good practice in clustering to avoid the bias given by the range of the different attribute is normalization.  \n",
    "The most common adopted normalizations are: Z-Score and Min-Max.\n",
    "\n",
    "We tried both normalizations to be used in subsequent clusterings."
   ]
  },
  {
   "cell_type": "code",
   "execution_count": 10,
   "metadata": {},
   "outputs": [],
   "source": [
    "scaler = MinMaxScaler()\n",
    "X_minmax_dev = scaler.fit_transform(X_dev)\n",
    "X_minmax_train = scaler.fit_transform(X_train)\n",
    "X_minmax_val = scaler.fit_transform(X_val)\n",
    "X_minmax_test = scaler.fit_transform(X_test)\n"
   ]
  },
  {
   "cell_type": "code",
   "execution_count": 11,
   "metadata": {},
   "outputs": [],
   "source": [
    "scaler = StandardScaler()\n",
    "X_std_dev = scaler.fit_transform(X_dev)\n",
    "X_std_train = scaler.fit_transform(X_train)\n",
    "X_std_val = scaler.fit_transform(X_val)\n",
    "X_std_test = scaler.fit_transform(X_test)"
   ]
  },
  {
   "cell_type": "markdown",
   "metadata": {},
   "source": [
    "# KNN"
   ]
  },
  {
   "cell_type": "code",
   "execution_count": null,
   "metadata": {},
   "outputs": [],
   "source": [
    "from sklearn.neighbors import KNeighborsClassifier"
   ]
  },
  {
   "cell_type": "code",
   "execution_count": null,
   "metadata": {},
   "outputs": [],
   "source": [
    "k_list = [x for x in range(1, 20)]\n",
    "knn_list = []\n",
    "acc_tr_list = []\n",
    "acc_val_list = []\n",
    "\n",
    "\n",
    "for k in k_list:\n",
    "    # Create knn model\n",
    "    knn = KNeighborsClassifier(n_neighbors=k)\n",
    "    knn.fit(X_std_train, y_train)\n",
    "    knn_list.append(knn)\n",
    "    # Predict for train and validation sets\n",
    "    y_pred_train = knn.predict(X_std_train)\n",
    "    y_pred_val = knn.predict(X_std_val)\n",
    "    # Accuracy\n",
    "    acc_tr = accuracy_score(y_train, y_pred_train)\n",
    "    acc_val = accuracy_score(y_val, y_pred_val)\n",
    "    acc_tr_list.append(acc_tr)\n",
    "    acc_val_list.append(acc_val)\n",
    "\n",
    "    #print('Accuracy train with k=', k, ':', acc_tr)\n",
    "    #print('Accuracy validation with k=', k, ':', acc_val)"
   ]
  },
  {
   "cell_type": "code",
   "execution_count": null,
   "metadata": {},
   "outputs": [
    {
     "data": {
      "image/png": "[encoded data removed]",
      "text/plain": [
       "<Figure size 640x480 with 1 Axes>"
      ]
     },
     "metadata": {},
     "output_type": "display_data"
    }
   ],
   "source": [
    "plt.plot(range(len(acc_tr_list)), acc_tr_list, 'r--', label='training')\n",
    "plt.plot(range(len(acc_val_list)), acc_val_list, 'b-',  label='validation')\n",
    "plt.ylabel('accuracy')\n",
    "plt.xlabel('K')\n",
    "plt.tick_params(axis='both', which='major', labelsize=22)\n",
    "plt.title('KNN')\n",
    "plt.legend(loc=\"upper right\")\n",
    "plt.show()"
   ]
  },
  {
   "cell_type": "markdown",
   "metadata": {},
   "source": [
    "We select K=10, as it is the smaller K where the model does not fall into overfitting."
   ]
  },
  {
   "cell_type": "code",
   "execution_count": null,
   "metadata": {},
   "outputs": [
    {
     "name": "stdout",
     "output_type": "stream",
     "text": [
      "## Validation:\n",
      "              precision    recall  f1-score   support\n",
      "\n",
      "     non-bot       0.90      0.72      0.80       825\n",
      "         bot       0.79      0.93      0.85       936\n",
      "\n",
      "    accuracy                           0.83      1761\n",
      "   macro avg       0.84      0.82      0.83      1761\n",
      "weighted avg       0.84      0.83      0.83      1761\n",
      "\n",
      "## Test:\n",
      "              precision    recall  f1-score   support\n",
      "\n",
      "     non-bot       0.87      0.72      0.79       809\n",
      "         bot       0.79      0.90      0.84       918\n",
      "\n",
      "    accuracy                           0.82      1727\n",
      "   macro avg       0.83      0.81      0.82      1727\n",
      "weighted avg       0.82      0.82      0.82      1727\n",
      "\n"
     ]
    }
   ],
   "source": [
    "knn = knn_list[9]\n",
    "\n",
    "y_pred_val = knn.predict(X_std_val)\n",
    "print('## Validation:')\n",
    "report_scores(y_val, y_pred_val)\n",
    "\n",
    "y_pred_test = knn.predict(X_std_test)\n",
    "print('## Test:')\n",
    "report_scores(y_test, y_pred_test)"
   ]
  },
  {
   "cell_type": "markdown",
   "metadata": {},
   "source": [
    "Performances on test is very similar to validation. We have slightly lower recall for non-bots (0.72), meaning that there are a signinficant number of bots classified as 0."
   ]
  },
  {
   "cell_type": "markdown",
   "metadata": {},
   "source": [
    "# Bayesian classifier"
   ]
  },
  {
   "cell_type": "code",
   "execution_count": 26,
   "metadata": {},
   "outputs": [],
   "source": [
    "from sklearn.naive_bayes import GaussianNB, BernoulliNB "
   ]
  },
  {
   "cell_type": "code",
   "execution_count": 27,
   "metadata": {},
   "outputs": [
    {
     "name": "stdout",
     "output_type": "stream",
     "text": [
      "## Train:\n",
      "              precision    recall  f1-score   support\n",
      "\n",
      "     non-bot       0.99      0.63      0.77      4583\n",
      "         bot       0.75      0.99      0.86      5198\n",
      "\n",
      "    accuracy                           0.82      9781\n",
      "   macro avg       0.87      0.81      0.81      9781\n",
      "weighted avg       0.86      0.82      0.82      9781\n",
      "\n",
      "## Test:\n",
      "              precision    recall  f1-score   support\n",
      "\n",
      "     non-bot       0.47      1.00      0.64       809\n",
      "         bot       0.00      0.00      0.00       918\n",
      "\n",
      "    accuracy                           0.47      1727\n",
      "   macro avg       0.23      0.50      0.32      1727\n",
      "weighted avg       0.22      0.47      0.30      1727\n",
      "\n"
     ]
    },
    {
     "name": "stderr",
     "output_type": "stream",
     "text": [
      "c:\\Users\\alber\\anaconda3\\envs\\dataMiningEnv\\lib\\site-packages\\sklearn\\metrics\\_classification.py:1318: UndefinedMetricWarning: Precision and F-score are ill-defined and being set to 0.0 in labels with no predicted samples. Use `zero_division` parameter to control this behavior.\n",
      "  _warn_prf(average, modifier, msg_start, len(result))\n",
      "c:\\Users\\alber\\anaconda3\\envs\\dataMiningEnv\\lib\\site-packages\\sklearn\\metrics\\_classification.py:1318: UndefinedMetricWarning: Precision and F-score are ill-defined and being set to 0.0 in labels with no predicted samples. Use `zero_division` parameter to control this behavior.\n",
      "  _warn_prf(average, modifier, msg_start, len(result))\n",
      "c:\\Users\\alber\\anaconda3\\envs\\dataMiningEnv\\lib\\site-packages\\sklearn\\metrics\\_classification.py:1318: UndefinedMetricWarning: Precision and F-score are ill-defined and being set to 0.0 in labels with no predicted samples. Use `zero_division` parameter to control this behavior.\n",
      "  _warn_prf(average, modifier, msg_start, len(result))\n"
     ]
    }
   ],
   "source": [
    "gnb = GaussianNB()\n",
    "\n",
    "y_pred_train = gnb.fit(X_std_dev, y_dev).predict(X_std_dev)\n",
    "print('## Train:')\n",
    "report_scores(y_dev, y_pred_train)\n",
    "\n",
    "y_pred_test = gnb.fit(X_std_dev, y_dev).predict(X_std_test)\n",
    "print('## Test:')\n",
    "report_scores(y_test, y_pred_test)"
   ]
  },
  {
   "cell_type": "code",
   "execution_count": 28,
   "metadata": {},
   "outputs": [
    {
     "name": "stdout",
     "output_type": "stream",
     "text": [
      "## Train:\n",
      "              precision    recall  f1-score   support\n",
      "\n",
      "     non-bot       0.77      0.63      0.69      4583\n",
      "         bot       0.72      0.83      0.77      5198\n",
      "\n",
      "    accuracy                           0.74      9781\n",
      "   macro avg       0.74      0.73      0.73      9781\n",
      "weighted avg       0.74      0.74      0.73      9781\n",
      "\n",
      "## Test:\n",
      "              precision    recall  f1-score   support\n",
      "\n",
      "     non-bot       0.79      0.64      0.71       809\n",
      "         bot       0.73      0.85      0.78       918\n",
      "\n",
      "    accuracy                           0.75      1727\n",
      "   macro avg       0.76      0.74      0.74      1727\n",
      "weighted avg       0.76      0.75      0.75      1727\n",
      "\n"
     ]
    }
   ],
   "source": [
    "bnb = BernoulliNB()\n",
    "\n",
    "y_pred_train = bnb.fit(X_std_dev, y_dev).predict(X_std_dev)\n",
    "print('## Train:')\n",
    "report_scores(y_dev, y_pred_train)\n",
    "\n",
    "y_pred_test = bnb.fit(X_std_dev, y_dev).predict(X_std_test)\n",
    "print('## Test:')\n",
    "report_scores(y_test, y_pred_test)"
   ]
  },
  {
   "cell_type": "markdown",
   "metadata": {},
   "source": [
    "# Decision Tree"
   ]
  },
  {
   "cell_type": "code",
   "execution_count": null,
   "metadata": {},
   "outputs": [],
   "source": [
    "from sklearn.tree import DecisionTreeClassifier"
   ]
  },
  {
   "cell_type": "code",
   "execution_count": 36,
   "metadata": {},
   "outputs": [],
   "source": [
    "def build_decision_tree(X, y, cv=6, print_res=True):\n",
    "    params = [{\n",
    "    'criterion': ['gini', 'entropy'],\n",
    "    #'max_depth': [5, 10, 20, None],\n",
    "    'max_features': ['auto', 'log2'],\n",
    "    #'min_samples_split': [2, 4, 6],\n",
    "    #'min_samples_leaf': [2, 4]\n",
    "    }] \n",
    "    clf = GridSearchCV(DecisionTreeClassifier(), params, refit = True, cv=cv, scoring='accuracy')\n",
    "    clf.fit(X, y)\n",
    "    if print_res:\n",
    "        print(\"DT - Best parameters set found:\")\n",
    "        print(clf.best_params_)\n",
    "        print(\"DT - Best accuraccy score found:\")\n",
    "        print(clf.best_score_)\n",
    "    \n",
    "    return(clf.best_score_, clf.best_estimator_)"
   ]
  },
  {
   "cell_type": "code",
   "execution_count": 37,
   "metadata": {},
   "outputs": [
    {
     "name": "stdout",
     "output_type": "stream",
     "text": [
      "DT - Best parameters set found:\n",
      "{'criterion': 'entropy', 'max_features': 'auto'}\n",
      "DT - Best accuraccy score found:\n",
      "0.7913296696545333\n"
     ]
    }
   ],
   "source": [
    "best_score_dt, best_dt = build_decision_tree(X_std_dev, y_dev)"
   ]
  },
  {
   "cell_type": "code",
   "execution_count": 38,
   "metadata": {},
   "outputs": [
    {
     "name": "stdout",
     "output_type": "stream",
     "text": [
      "## Test:\n",
      "              precision    recall  f1-score   support\n",
      "\n",
      "     non-bot       0.69      0.81      0.74       809\n",
      "         bot       0.80      0.68      0.73       918\n",
      "\n",
      "    accuracy                           0.74      1727\n",
      "   macro avg       0.75      0.74      0.74      1727\n",
      "weighted avg       0.75      0.74      0.74      1727\n",
      "\n"
     ]
    }
   ],
   "source": [
    "y_pred_test = best_dt.predict(X_std_test)\n",
    "print('## Test:')\n",
    "report_scores(y_test, y_pred_test)"
   ]
  },
  {
   "cell_type": "markdown",
   "metadata": {},
   "source": [
    "# Random Forest"
   ]
  },
  {
   "cell_type": "code",
   "execution_count": 29,
   "metadata": {},
   "outputs": [],
   "source": [
    "from sklearn.ensemble import RandomForestClassifier, VotingClassifier"
   ]
  },
  {
   "cell_type": "code",
   "execution_count": 37,
   "metadata": {},
   "outputs": [],
   "source": [
    "def build_random_forest(X, y, cv=6, print_res=True):\n",
    "    params = [{\n",
    "    'max_depth': [20],\n",
    "    'max_features': ['auto', 'log2'],\n",
    "    #'min_samples_leaf': [1, 2], # da tunare\n",
    "    #'n_estimators': [32, 64, 128]\n",
    "    }] \n",
    "    clf = GridSearchCV(RandomForestClassifier(), params, refit = True, cv=cv, scoring='accuracy')\n",
    "    clf.fit(X, y)\n",
    "    if print_res:\n",
    "        print(\"RF - Best parameters set found:\")\n",
    "        print(clf.best_params_)\n",
    "        print(\"RF - Best accuraccy score found:\")\n",
    "        print(clf.best_score_)\n",
    "    \n",
    "    return(clf.best_score_, clf.best_estimator_)"
   ]
  },
  {
   "cell_type": "code",
   "execution_count": 38,
   "metadata": {},
   "outputs": [
    {
     "name": "stdout",
     "output_type": "stream",
     "text": [
      "RF - Best parameters set found:\n",
      "{'max_depth': 20, 'max_features': 'auto'}\n",
      "RF - Best accuraccy score found:\n",
      "0.8605458655723274\n"
     ]
    }
   ],
   "source": [
    "best_score_rf, best_rf = build_random_forest(X_std_dev, y_dev)"
   ]
  },
  {
   "cell_type": "code",
   "execution_count": 39,
   "metadata": {},
   "outputs": [
    {
     "name": "stdout",
     "output_type": "stream",
     "text": [
      "## Test:\n",
      "              precision    recall  f1-score   support\n",
      "\n",
      "     non-bot       0.53      1.00      0.69       809\n",
      "         bot       1.00      0.21      0.35       918\n",
      "\n",
      "    accuracy                           0.58      1727\n",
      "   macro avg       0.76      0.61      0.52      1727\n",
      "weighted avg       0.78      0.58      0.51      1727\n",
      "\n"
     ]
    }
   ],
   "source": [
    "y_pred_test = best_rf.predict(X_std_test)\n",
    "print('## Test:')\n",
    "report_scores(y_test, y_pred_test)"
   ]
  },
  {
   "cell_type": "markdown",
   "metadata": {},
   "source": [
    "# SVM"
   ]
  },
  {
   "cell_type": "code",
   "execution_count": null,
   "metadata": {},
   "outputs": [],
   "source": [
    "from sklearn import svm"
   ]
  },
  {
   "cell_type": "code",
   "execution_count": 47,
   "metadata": {},
   "outputs": [],
   "source": [
    "def build_SVM(X, y, cv=6, print_res=True):\n",
    "    params = [\n",
    "    {\"kernel\": [\"rbf\"], \"gamma\": [\"scale\", \"auto\"], \"C\": [0.1, 10]},\n",
    "    #{\"kernel\": [\"rbf\", \"linear\", \"sigmoid\"], \"gamma\": [\"scale\", \"auto\"], \"C\": [0.1, 1, 10, 100, 300, 1000]},\n",
    "    #{\"kernel\": [\"poly\"], \"degree\": [2,3,4], \"gamma\": [\"scale\", \"auto\"], \"C\": [0.1, 1, 10, 100, 300, 1000]},\n",
    "\n",
    "    ] \n",
    "    clf = GridSearchCV(svm.SVC(), params, refit = True, cv=cv, scoring='accuracy')\n",
    "    clf.fit(X, y) #doppio refit?\n",
    "    if print_res:\n",
    "        print(\"SVM - Best parameters set found:\")\n",
    "        print(clf.best_params_)\n",
    "        print(\"SVM - Best accuracy score found:\")\n",
    "        print(clf.best_score_)\n",
    "\n",
    "    return(clf.best_score_, clf.best_estimator_)"
   ]
  },
  {
   "cell_type": "code",
   "execution_count": 48,
   "metadata": {},
   "outputs": [
    {
     "name": "stdout",
     "output_type": "stream",
     "text": [
      "SV M - Best parameters set found:\n",
      "{'C': 10, 'gamma': 'auto', 'kernel': 'rbf'}\n",
      "SVM - Best accuracy score found:\n",
      "0.8410552414300908\n"
     ]
    }
   ],
   "source": [
    "best_score_svm, best_svm = build_SVM(X_std_dev, y_dev)"
   ]
  },
  {
   "cell_type": "code",
   "execution_count": 49,
   "metadata": {},
   "outputs": [
    {
     "name": "stdout",
     "output_type": "stream",
     "text": [
      "## Test:\n",
      "              precision    recall  f1-score   support\n",
      "\n",
      "     non-bot       0.97      0.70      0.81       809\n",
      "         bot       0.79      0.98      0.87       918\n",
      "\n",
      "    accuracy                           0.85      1727\n",
      "   macro avg       0.88      0.84      0.84      1727\n",
      "weighted avg       0.87      0.85      0.85      1727\n",
      "\n"
     ]
    }
   ],
   "source": [
    "y_pred_test = best_svm.predict(X_std_test)\n",
    "print('## Test:')\n",
    "report_scores(y_test, y_pred_test)"
   ]
  },
  {
   "cell_type": "markdown",
   "metadata": {},
   "source": [
    "# MLP"
   ]
  },
  {
   "cell_type": "code",
   "execution_count": null,
   "metadata": {},
   "outputs": [],
   "source": []
  }
 ],
 "metadata": {
  "kernelspec": {
   "display_name": "Python 3.7.13 ('dataMiningEnv')",
   "language": "python",
   "name": "python3"
  },
  "language_info": {
   "codemirror_mode": {
    "name": "ipython",
    "version": 3
   },
   "file_extension": ".py",
   "mimetype": "text/x-python",
   "name": "python",
   "nbconvert_exporter": "python",
   "pygments_lexer": "ipython3",
   "version": "3.7.13"
  },
  "orig_nbformat": 4,
  "vscode": {
   "interpreter": {
    "hash": "c40c772eaee8ca11ff79c6ae9ceb6f8cf9a67edeabb89d2b5d546b1f7b0ef101"
   }
  }
 },
 "nbformat": 4,
 "nbformat_minor": 2
}
