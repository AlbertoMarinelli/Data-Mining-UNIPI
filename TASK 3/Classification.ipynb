{
 "cells": [
  {
   "cell_type": "markdown",
   "metadata": {},
   "source": [
    "# Task 3 Classification\n",
    "*Alberto Roberto Marinelli, Giacomo Cignoni, Alessandro Bucci*\n",
    "## Importing Libraries\n",
    "First we import the libraries necessary to classify the data"
   ]
  },
  {
   "cell_type": "code",
   "execution_count": 1,
   "metadata": {},
   "outputs": [],
   "source": [
    "import numpy as np\n",
    "import pandas as pd\n",
    "import tqdm\n",
    "import matplotlib.pyplot as plt\n",
    "from sklearn.preprocessing import StandardScaler\n",
    "from sklearn.model_selection import cross_val_score, KFold, StratifiedKFold, train_test_split\n",
    "from sklearn.model_selection import GridSearchCV, cross_validate\n",
    "from sklearn.metrics import accuracy_score, f1_score, confusion_matrix, make_scorer, balanced_accuracy_score, classification_report\n",
    "from sklearn.preprocessing import normalize"
   ]
  },
  {
   "cell_type": "code",
   "execution_count": 2,
   "metadata": {},
   "outputs": [],
   "source": [
    "df = pd.read_csv(\"../dataset/user_indicators_uncorrelated.csv\") "
   ]
  },
  {
   "cell_type": "code",
   "execution_count": 3,
   "metadata": {},
   "outputs": [],
   "source": [
    "dict_colors_bot = { 1: 'teal', 0: 'sandybrown'}"
   ]
  },
  {
   "cell_type": "code",
   "execution_count": 4,
   "metadata": {},
   "outputs": [],
   "source": [
    "def report_scores(test_label, test_pred):\n",
    "    print(classification_report(test_label, \n",
    "                            test_pred, \n",
    "                            target_names=['non-bot', 'bot']))"
   ]
  },
  {
   "cell_type": "markdown",
   "metadata": {},
   "source": [
    "### Dataframe preprocessing"
   ]
  },
  {
   "cell_type": "code",
   "execution_count": 5,
   "metadata": {},
   "outputs": [],
   "source": [
    "df.statuses_count = np.log(df.statuses_count + 1)\n",
    "df.favorite_count_avg = np.log(df.favorite_count_avg  + 1)\n",
    "df.favorite_count_sum = np.log(df.favorite_count_sum + 1)\n",
    "df.retweet_count_sum = np.log(df.retweet_count_sum + 1)\n",
    "df.reply_count_avg = np.log(df.reply_count_avg + 1)"
   ]
  },
  {
   "cell_type": "code",
   "execution_count": 6,
   "metadata": {},
   "outputs": [
    {
     "name": "stdout",
     "output_type": "stream",
     "text": [
      "Int64Index([1, 0], dtype='int64')\n"
     ]
    },
    {
     "data": {
      "image/png": "[encoded data removed]",
      "text/plain": [
       "<Figure size 640x480 with 1 Axes>"
      ]
     },
     "metadata": {},
     "output_type": "display_data"
    },
    {
     "name": "stdout",
     "output_type": "stream",
     "text": [
      "1    6116\n",
      "0    5392\n",
      "Name: bot, dtype: int64\n"
     ]
    }
   ],
   "source": [
    "bot_value_count = df['bot'].value_counts()\n",
    "print(bot_value_count.keys())\n",
    "# Show pie plot\n",
    "labels = ['non-bot', 'bot']\n",
    "plt.pie(bot_value_count, labels= bot_value_count.index, colors=[dict_colors_bot[v] for v in bot_value_count.keys()])\n",
    "plt.show()\n",
    "print(bot_value_count)"
   ]
  },
  {
   "cell_type": "markdown",
   "metadata": {},
   "source": [
    "### Extract labels and data"
   ]
  },
  {
   "cell_type": "markdown",
   "metadata": {},
   "source": [
    "Exclude some user specific features that are not useful or no to be used in clustering\n",
    "(TODO: include lang?)"
   ]
  },
  {
   "cell_type": "code",
   "execution_count": 7,
   "metadata": {},
   "outputs": [],
   "source": [
    "y = df['bot'].to_numpy()\n",
    "\n",
    "cat_feature = df[['user_id', 'lang', 'created_at']]\n",
    "del df['user_id']\n",
    "del df['lang']\n",
    "del df['created_at']\n",
    "del df['bot']\n",
    "del df['post_in_2012']\n",
    "del df['post_in_2013']\n",
    "del df['post_in_2014']\n",
    "del df['post_in_2015']\n",
    "del df['post_in_2016']\n",
    "del df['post_in_2017']\n",
    "del df['post_in_2018']\n",
    "del df['post_in_2019']\n",
    "del df['post_in_2020']\n",
    "del df['years_outside_of_plausible_range']\n",
    "del df['creation_year']\n",
    "df.head()\n",
    "\n",
    "X = df.to_numpy()"
   ]
  },
  {
   "cell_type": "markdown",
   "metadata": {},
   "source": [
    "Bot/non-bot ratio in whole dataset"
   ]
  },
  {
   "cell_type": "markdown",
   "metadata": {},
   "source": [
    "# Train Test split"
   ]
  },
  {
   "cell_type": "code",
   "execution_count": 8,
   "metadata": {},
   "outputs": [],
   "source": [
    "X_dev, X_test, y_dev, y_test = train_test_split(X, y, random_state=15, test_size=0.15, stratify=y)\n",
    "X_train, X_val, y_train, y_val = train_test_split(X_dev, y_dev, random_state=15, test_size=0.18, stratify=y_dev)"
   ]
  },
  {
   "cell_type": "code",
   "execution_count": 9,
   "metadata": {},
   "outputs": [
    {
     "name": "stdout",
     "output_type": "stream",
     "text": [
      "Development set size: 9781 - Bot ratio: 0.53\n",
      "     Train set size: 8020 - Bot ratio: 0.53\n",
      "     Validation set size: 1761 - Bot ratio: 0.53\n",
      "Test set size: 1727 - Bot ratio: 0.53\n"
     ]
    }
   ],
   "source": [
    "print('Development set size:', len(y_dev), '- Bot ratio:', round(np.count_nonzero(y_dev)/len(y_dev), 2))\n",
    "print('     Train set size:', len(y_train), '- Bot ratio:', round(np.count_nonzero(y_train)/len(y_train), 2))\n",
    "print('     Validation set size:', len(y_val), '- Bot ratio:', round(np.count_nonzero(y_val)/len(y_val), 2))\n",
    "print('Test set size:', len(y_test), '- Bot ratio:', round(np.count_nonzero(y_test)/len(y_test), 2))"
   ]
  },
  {
   "cell_type": "markdown",
   "metadata": {},
   "source": [
    "## Classification Preprocessing - Normalization  \n",
    "A good practice in clustering to avoid the bias given by the range of the different attribute is normalization.  \n",
    "The most common adopted normalizations are: Z-Score and Min-Max.\n",
    "\n",
    "We tried both normalizations to be used in subsequent clusterings."
   ]
  },
  {
   "cell_type": "code",
   "execution_count": 10,
   "metadata": {},
   "outputs": [],
   "source": [
    "scaler = StandardScaler()\n",
    "X_std_dev = scaler.fit_transform(X_dev)\n",
    "X_std_train = scaler.fit_transform(X_train)\n",
    "X_std_val = scaler.fit_transform(X_val)\n",
    "X_std_test = scaler.fit_transform(X_test)"
   ]
  },
  {
   "cell_type": "markdown",
   "metadata": {},
   "source": [
    "# KNN"
   ]
  },
  {
   "cell_type": "code",
   "execution_count": 11,
   "metadata": {},
   "outputs": [],
   "source": [
    "from sklearn.neighbors import KNeighborsClassifier"
   ]
  },
  {
   "cell_type": "code",
   "execution_count": 12,
   "metadata": {},
   "outputs": [],
   "source": [
    "k_list = [x for x in range(1, 20)]\n",
    "knn_list = []\n",
    "acc_tr_list = []\n",
    "acc_val_list = []\n",
    "\n",
    "\n",
    "for k in tqdm(k_list):\n",
    "    # Create knn model\n",
    "    knn = KNeighborsClassifier(n_neighbors=k)\n",
    "    knn.fit(X_std_train, y_train)\n",
    "    knn_list.append(knn)\n",
    "    # Predict for train and validation sets\n",
    "    y_pred_train = knn.predict(X_std_train)\n",
    "    y_pred_val = knn.predict(X_std_val)\n",
    "    # Accuracy\n",
    "    acc_tr = accuracy_score(y_train, y_pred_train)\n",
    "    acc_val = accuracy_score(y_val, y_pred_val)\n",
    "    acc_tr_list.append(acc_tr)\n",
    "    acc_val_list.append(acc_val)\n",
    "\n",
    "    #print('Accuracy train with k=', k, ':', acc_tr)\n",
    "    #print('Accuracy validation with k=', k, ':', acc_val)"
   ]
  },
  {
   "cell_type": "code",
   "execution_count": 13,
   "metadata": {},
   "outputs": [
    {
     "data": {
      "image/png": "[encoded data removed]",
      "text/plain": [
       "<Figure size 640x480 with 1 Axes>"
      ]
     },
     "metadata": {},
     "output_type": "display_data"
    }
   ],
   "source": [
    "plt.plot(range(len(acc_tr_list)), acc_tr_list, 'r--', label='training')\n",
    "plt.plot(range(len(acc_val_list)), acc_val_list, 'b-',  label='validation')\n",
    "plt.ylabel('accuracy')\n",
    "plt.xlabel('K')\n",
    "plt.tick_params(axis='both', which='major', labelsize=22)\n",
    "plt.title('KNN')\n",
    "plt.axvline(10)\n",
    "plt.legend(loc=\"upper right\")\n",
    "plt.show()"
   ]
  },
  {
   "cell_type": "markdown",
   "metadata": {},
   "source": [
    "We select K=10, as it is the smaller K where the model does not fall into overfitting."
   ]
  },
  {
   "cell_type": "code",
   "execution_count": 14,
   "metadata": {},
   "outputs": [
    {
     "name": "stdout",
     "output_type": "stream",
     "text": [
      "## Validation:\n",
      "              precision    recall  f1-score   support\n",
      "\n",
      "     non-bot       0.89      0.72      0.79       825\n",
      "         bot       0.79      0.92      0.85       936\n",
      "\n",
      "    accuracy                           0.83      1761\n",
      "   macro avg       0.84      0.82      0.82      1761\n",
      "weighted avg       0.84      0.83      0.82      1761\n",
      "\n",
      "## Test:\n",
      "              precision    recall  f1-score   support\n",
      "\n",
      "     non-bot       0.86      0.72      0.79       809\n",
      "         bot       0.79      0.89      0.84       918\n",
      "\n",
      "    accuracy                           0.81      1727\n",
      "   macro avg       0.82      0.81      0.81      1727\n",
      "weighted avg       0.82      0.81      0.81      1727\n",
      "\n"
     ]
    }
   ],
   "source": [
    "knn = knn_list[9]\n",
    "\n",
    "y_pred_val = knn.predict(X_std_val)\n",
    "print('## Validation:')\n",
    "report_scores(y_val, y_pred_val)\n",
    "\n",
    "y_pred_test = knn.predict(X_std_test)\n",
    "print('## Test:')\n",
    "report_scores(y_test, y_pred_test)"
   ]
  },
  {
   "cell_type": "markdown",
   "metadata": {},
   "source": [
    "Performances on test is very similar to validation. We have slightly lower recall for non-bots (0.72), meaning that there are a signinficant number of bots classified as 0."
   ]
  },
  {
   "cell_type": "markdown",
   "metadata": {},
   "source": [
    "# Bayesian classifier"
   ]
  },
  {
   "cell_type": "code",
   "execution_count": 17,
   "metadata": {},
   "outputs": [],
   "source": [
    "from sklearn.naive_bayes import GaussianNB, BernoulliNB "
   ]
  },
  {
   "cell_type": "code",
   "execution_count": 18,
   "metadata": {},
   "outputs": [
    {
     "name": "stdout",
     "output_type": "stream",
     "text": [
      "## Train:\n",
      "              precision    recall  f1-score   support\n",
      "\n",
      "     non-bot       0.78      0.62      0.69      4583\n",
      "         bot       0.72      0.84      0.78      5198\n",
      "\n",
      "    accuracy                           0.74      9781\n",
      "   macro avg       0.75      0.73      0.73      9781\n",
      "weighted avg       0.75      0.74      0.74      9781\n",
      "\n",
      "## Test:\n",
      "              precision    recall  f1-score   support\n",
      "\n",
      "     non-bot       0.74      0.68      0.71       809\n",
      "         bot       0.73      0.79      0.76       918\n",
      "\n",
      "    accuracy                           0.74      1727\n",
      "   macro avg       0.74      0.73      0.73      1727\n",
      "weighted avg       0.74      0.74      0.73      1727\n",
      "\n"
     ]
    }
   ],
   "source": [
    "gnb = GaussianNB()\n",
    "\n",
    "y_pred_train = gnb.fit(X_std_dev, y_dev).predict(X_std_dev)\n",
    "print('## Train:')\n",
    "report_scores(y_dev, y_pred_train)\n",
    "\n",
    "y_pred_test = gnb.fit(X_std_dev, y_dev).predict(X_std_test)\n",
    "print('## Test:')\n",
    "report_scores(y_test, y_pred_test)"
   ]
  },
  {
   "cell_type": "code",
   "execution_count": 19,
   "metadata": {},
   "outputs": [
    {
     "name": "stdout",
     "output_type": "stream",
     "text": [
      "## Train:\n",
      "              precision    recall  f1-score   support\n",
      "\n",
      "     non-bot       0.68      0.67      0.68      4583\n",
      "         bot       0.71      0.72      0.72      5198\n",
      "\n",
      "    accuracy                           0.70      9781\n",
      "   macro avg       0.70      0.70      0.70      9781\n",
      "weighted avg       0.70      0.70      0.70      9781\n",
      "\n",
      "## Test:\n",
      "              precision    recall  f1-score   support\n",
      "\n",
      "     non-bot       0.68      0.67      0.68       809\n",
      "         bot       0.72      0.73      0.72       918\n",
      "\n",
      "    accuracy                           0.70      1727\n",
      "   macro avg       0.70      0.70      0.70      1727\n",
      "weighted avg       0.70      0.70      0.70      1727\n",
      "\n"
     ]
    }
   ],
   "source": [
    "bnb = BernoulliNB()\n",
    "\n",
    "y_pred_train = bnb.fit(X_std_dev, y_dev).predict(X_std_dev)\n",
    "print('## Train:')\n",
    "report_scores(y_dev, y_pred_train)\n",
    "\n",
    "y_pred_test = bnb.fit(X_std_dev, y_dev).predict(X_std_test)\n",
    "print('## Test:')\n",
    "report_scores(y_test, y_pred_test)"
   ]
  },
  {
   "cell_type": "markdown",
   "metadata": {},
   "source": [
    "# Decision Tree"
   ]
  },
  {
   "cell_type": "code",
   "execution_count": 16,
   "metadata": {},
   "outputs": [],
   "source": [
    "from sklearn.tree import DecisionTreeClassifier"
   ]
  },
  {
   "cell_type": "code",
   "execution_count": 29,
   "metadata": {},
   "outputs": [],
   "source": [
    "def build_decision_tree(X, y, cv=6, print_res=True):\n",
    "    params = [{\n",
    "    'criterion': ['gini', 'entropy'],\n",
    "    'max_depth': [5, 10, None],\n",
    "    'max_features': ['sqrt', 'log2', None],\n",
    "    'min_samples_split': [2, 4, 6],\n",
    "    'min_samples_leaf': [2, 4]\n",
    "    }] \n",
    "    clf = GridSearchCV(DecisionTreeClassifier(), params, refit = True, cv=cv, scoring='accuracy', n_jobs=-1, verbose=10)\n",
    "    clf.fit(X, y)\n",
    "    if print_res:\n",
    "        print(\"DT - Best parameters set found:\")\n",
    "        print(clf.best_params_)\n",
    "        print(\"DT - Best accuraccy score found:\")\n",
    "        print(clf.best_score_)\n",
    "    \n",
    "    return(clf.best_score_, clf.best_estimator_)"
   ]
  },
  {
   "cell_type": "code",
   "execution_count": 30,
   "metadata": {},
   "outputs": [
    {
     "name": "stdout",
     "output_type": "stream",
     "text": [
      "Fitting 6 folds for each of 108 candidates, totalling 648 fits\n",
      "DT - Best parameters set found:\n",
      "{'criterion': 'gini', 'max_depth': 10, 'max_features': None, 'min_samples_leaf': 4, 'min_samples_split': 2}\n",
      "DT - Best accuraccy score found:\n",
      "0.838768855971784\n"
     ]
    }
   ],
   "source": [
    "best_score_dt, best_dt = build_decision_tree(X_std_dev, y_dev)"
   ]
  },
  {
   "cell_type": "code",
   "execution_count": 31,
   "metadata": {},
   "outputs": [
    {
     "name": "stdout",
     "output_type": "stream",
     "text": [
      "## Test:\n",
      "              precision    recall  f1-score   support\n",
      "\n",
      "     non-bot       0.92      0.71      0.80       809\n",
      "         bot       0.79      0.95      0.86       918\n",
      "\n",
      "    accuracy                           0.84      1727\n",
      "   macro avg       0.85      0.83      0.83      1727\n",
      "weighted avg       0.85      0.84      0.83      1727\n",
      "\n"
     ]
    }
   ],
   "source": [
    "y_pred_test = best_dt.predict(X_std_test)\n",
    "print('## Test:')\n",
    "report_scores(y_test, y_pred_test)"
   ]
  },
  {
   "attachments": {},
   "cell_type": "markdown",
   "metadata": {},
   "source": [
    "Performances on test are the same as the CV score of the best model, so we don't have overfitting at all. Again, we have slightly lower recall for non-bots (0.71), meaning that there are a signinficant number of bots classified as 0."
   ]
  },
  {
   "cell_type": "markdown",
   "metadata": {},
   "source": [
    "# Random Forest"
   ]
  },
  {
   "cell_type": "code",
   "execution_count": 34,
   "metadata": {},
   "outputs": [],
   "source": [
    "from sklearn.ensemble import RandomForestClassifier, VotingClassifier"
   ]
  },
  {
   "cell_type": "code",
   "execution_count": 35,
   "metadata": {},
   "outputs": [],
   "source": [
    "def build_random_forest(X, y, cv=6, print_res=True):\n",
    "    params = [{\n",
    "    'max_depth': [5, 15, None],\n",
    "    'max_features': ['log2', None],\n",
    "    'min_samples_leaf': [1, 2, 4],\n",
    "    'n_estimators': [32, 64, 128]\n",
    "    }] \n",
    "    clf = GridSearchCV(RandomForestClassifier(), params, refit = True, cv=cv, scoring='accuracy', n_jobs=-1, verbose=10)\n",
    "    clf.fit(X, y)\n",
    "    if print_res:\n",
    "        print(\"RF - Best parameters set found:\")\n",
    "        print(clf.best_params_)\n",
    "        print(\"RF - Best accuraccy score found:\")\n",
    "        print(clf.best_score_)\n",
    "    \n",
    "    return(clf.best_score_, clf.best_estimator_)"
   ]
  },
  {
   "cell_type": "code",
   "execution_count": 36,
   "metadata": {},
   "outputs": [
    {
     "name": "stdout",
     "output_type": "stream",
     "text": [
      "Fitting 6 folds for each of 54 candidates, totalling 324 fits\n",
      "RF - Best parameters set found:\n",
      "{'max_depth': 15, 'max_features': 'log2', 'min_samples_leaf': 1, 'n_estimators': 128}\n",
      "RF - Best accuraccy score found:\n",
      "0.8505259172048715\n"
     ]
    }
   ],
   "source": [
    "best_score_rf, best_rf = build_random_forest(X_std_dev, y_dev)"
   ]
  },
  {
   "cell_type": "code",
   "execution_count": 38,
   "metadata": {},
   "outputs": [
    {
     "name": "stdout",
     "output_type": "stream",
     "text": [
      "RF - Best accuraccy score found:\n",
      "0.8505259172048715\n"
     ]
    }
   ],
   "source": [
    "print(\"RF - Best accuraccy score found:\")\n",
    "print(best_score_rf)"
   ]
  },
  {
   "cell_type": "code",
   "execution_count": 37,
   "metadata": {},
   "outputs": [
    {
     "name": "stdout",
     "output_type": "stream",
     "text": [
      "## Test:\n",
      "              precision    recall  f1-score   support\n",
      "\n",
      "     non-bot       0.96      0.72      0.82       809\n",
      "         bot       0.80      0.97      0.88       918\n",
      "\n",
      "    accuracy                           0.86      1727\n",
      "   macro avg       0.88      0.85      0.85      1727\n",
      "weighted avg       0.88      0.86      0.85      1727\n",
      "\n"
     ]
    }
   ],
   "source": [
    "y_pred_test = best_rf.predict(X_std_test)\n",
    "print('## Test:')\n",
    "report_scores(y_test, y_pred_test)"
   ]
  },
  {
   "attachments": {},
   "cell_type": "markdown",
   "metadata": {},
   "source": [
    "Performances on test are the same as the CV score of the best model, so we don't have overfitting at all. Again, we have slightly lower recall for non-bots (0.72), meaning that there are a signinficant number of bots classified as 0."
   ]
  },
  {
   "cell_type": "markdown",
   "metadata": {},
   "source": [
    "# SVM"
   ]
  },
  {
   "cell_type": "code",
   "execution_count": 39,
   "metadata": {},
   "outputs": [],
   "source": [
    "from sklearn import svm"
   ]
  },
  {
   "cell_type": "code",
   "execution_count": 40,
   "metadata": {},
   "outputs": [],
   "source": [
    "def build_SVM(X, y, cv=6, print_res=True):\n",
    "    params = [\n",
    "    {\"kernel\": [\"rbf\", \"linear\", \"sigmoid\"], \"gamma\": [\"scale\", \"auto\"], \"C\": [0.1, 1, 10, 100, 300, 1000]},\n",
    "    {\"kernel\": [\"poly\"], \"degree\": [2,3,4], \"gamma\": [\"scale\", \"auto\"], \"C\": [0.1, 1, 10, 100, 300, 1000]},\n",
    "\n",
    "    ] \n",
    "    clf = GridSearchCV(svm.SVC(), params, refit = True, cv=cv, scoring='accuracy', n_jobs=-1, verbose=10)\n",
    "    clf.fit(X, y)\n",
    "    if print_res:\n",
    "        print(\"SVM - Best parameters set found:\")\n",
    "        print(clf.best_params_)\n",
    "        print(\"SVM - Best accuracy score found:\")\n",
    "        print(clf.best_score_)\n",
    "\n",
    "    return(clf.best_score_, clf.best_estimator_)"
   ]
  },
  {
   "cell_type": "code",
   "execution_count": 41,
   "metadata": {},
   "outputs": [
    {
     "name": "stdout",
     "output_type": "stream",
     "text": [
      "Fitting 6 folds for each of 72 candidates, totalling 432 fits\n",
      "SVM - Best parameters set found:\n",
      "{'C': 10, 'gamma': 'scale', 'kernel': 'rbf'}\n",
      "SVM - Best accuracy score found:\n",
      "0.8437781405513572\n"
     ]
    }
   ],
   "source": [
    "best_score_svm, best_svm = build_SVM(X_std_dev, y_dev)"
   ]
  },
  {
   "cell_type": "code",
   "execution_count": 42,
   "metadata": {},
   "outputs": [
    {
     "name": "stdout",
     "output_type": "stream",
     "text": [
      "## Test:\n",
      "              precision    recall  f1-score   support\n",
      "\n",
      "     non-bot       0.96      0.70      0.81       809\n",
      "         bot       0.79      0.97      0.87       918\n",
      "\n",
      "    accuracy                           0.85      1727\n",
      "   macro avg       0.87      0.84      0.84      1727\n",
      "weighted avg       0.87      0.85      0.84      1727\n",
      "\n"
     ]
    }
   ],
   "source": [
    "y_pred_test = best_svm.predict(X_std_test)\n",
    "print('## Test:')\n",
    "report_scores(y_test, y_pred_test)"
   ]
  },
  {
   "attachments": {},
   "cell_type": "markdown",
   "metadata": {},
   "source": [
    "Performances on test are slightly higher then the CV score of the best model, so we don't have overfitting at all. Again, we have slightly lower recall for non-bots (0.70), meaning that there are a signinficant number of bots classified as 0."
   ]
  },
  {
   "cell_type": "markdown",
   "metadata": {},
   "source": [
    "# MLP"
   ]
  },
  {
   "cell_type": "code",
   "execution_count": 11,
   "metadata": {},
   "outputs": [
    {
     "name": "stderr",
     "output_type": "stream",
     "text": [
      "Using TensorFlow backend.\n"
     ]
    }
   ],
   "source": [
    "#Dependencies\n",
    "import keras\n",
    "from keras.models import Sequential\n",
    "from keras.layers import Dense, Dropout"
   ]
  },
  {
   "cell_type": "code",
   "execution_count": 12,
   "metadata": {},
   "outputs": [
    {
     "name": "stdout",
     "output_type": "stream",
     "text": [
      "Epoch 1/20\n",
      "8020/8020 [==============================] - 4s 438us/step - loss: 0.4784 - accuracy: 0.7857\n",
      "Epoch 2/20\n",
      "8020/8020 [==============================] - 2s 311us/step - loss: 0.3967 - accuracy: 0.8365\n",
      "Epoch 3/20\n",
      "8020/8020 [==============================] - 2s 307us/step - loss: 0.3774 - accuracy: 0.8397\n",
      "Epoch 4/20\n",
      "8020/8020 [==============================] - 3s 322us/step - loss: 0.3673 - accuracy: 0.8424\n",
      "Epoch 5/20\n",
      "8020/8020 [==============================] - 2s 266us/step - loss: 0.3610 - accuracy: 0.8434\n",
      "Epoch 6/20\n",
      "8020/8020 [==============================] - 2s 300us/step - loss: 0.3567 - accuracy: 0.8434\n",
      "Epoch 7/20\n",
      "8020/8020 [==============================] - 3s 417us/step - loss: 0.3543 - accuracy: 0.8433\n",
      "Epoch 8/20\n",
      "8020/8020 [==============================] - 3s 361us/step - loss: 0.3520 - accuracy: 0.8448\n",
      "Epoch 9/20\n",
      "8020/8020 [==============================] - 2s 247us/step - loss: 0.3508 - accuracy: 0.8441\n",
      "Epoch 10/20\n",
      "8020/8020 [==============================] - 2s 292us/step - loss: 0.3489 - accuracy: 0.8454\n",
      "Epoch 11/20\n",
      "8020/8020 [==============================] - 3s 323us/step - loss: 0.3486 - accuracy: 0.8461\n",
      "Epoch 12/20\n",
      "8020/8020 [==============================] - 2s 308us/step - loss: 0.3465 - accuracy: 0.8463\n",
      "Epoch 13/20\n",
      "8020/8020 [==============================] - 3s 322us/step - loss: 0.3451 - accuracy: 0.8468\n",
      "Epoch 14/20\n",
      "8020/8020 [==============================] - 3s 321us/step - loss: 0.3453 - accuracy: 0.8468\n",
      "Epoch 15/20\n",
      "8020/8020 [==============================] - 3s 350us/step - loss: 0.3448 - accuracy: 0.8470\n",
      "Epoch 16/20\n",
      "8020/8020 [==============================] - 2s 281us/step - loss: 0.3445 - accuracy: 0.8468\n",
      "Epoch 17/20\n",
      "8020/8020 [==============================] - 2s 230us/step - loss: 0.3434 - accuracy: 0.8486\n",
      "Epoch 18/20\n",
      "8020/8020 [==============================] - 2s 289us/step - loss: 0.3427 - accuracy: 0.8485\n",
      "Epoch 19/20\n",
      "8020/8020 [==============================] - 2s 305us/step - loss: 0.3422 - accuracy: 0.8478\n",
      "Epoch 20/20\n",
      "8020/8020 [==============================] - 2s 281us/step - loss: 0.3417 - accuracy: 0.8488\n",
      "NN with  [32, 16] configuration - Validation Score: 0.8398637175559998\n",
      "Epoch 1/20\n",
      "8020/8020 [==============================] - 4s 440us/step - loss: 0.6032 - accuracy: 0.7463\n",
      "Epoch 2/20\n",
      "8020/8020 [==============================] - 3s 399us/step - loss: 0.5659 - accuracy: 0.7726\n",
      "Epoch 3/20\n",
      "8020/8020 [==============================] - 3s 388us/step - loss: 0.5511 - accuracy: 0.7680\n",
      "Epoch 4/20\n",
      "8020/8020 [==============================] - 3s 433us/step - loss: 0.5305 - accuracy: 0.7778\n",
      "Epoch 5/20\n",
      "8020/8020 [==============================] - 3s 373us/step - loss: 0.5182 - accuracy: 0.7802\n",
      "Epoch 6/20\n",
      "8020/8020 [==============================] - 3s 426us/step - loss: 0.5171 - accuracy: 0.7759\n",
      "Epoch 7/20\n",
      "8020/8020 [==============================] - 3s 382us/step - loss: 0.5136 - accuracy: 0.7752\n",
      "Epoch 8/20\n",
      "8020/8020 [==============================] - 4s 501us/step - loss: 0.5202 - accuracy: 0.7678\n",
      "Epoch 9/20\n",
      "8020/8020 [==============================] - 4s 455us/step - loss: 0.5033 - accuracy: 0.7822\n",
      "Epoch 10/20\n",
      "8020/8020 [==============================] - 4s 455us/step - loss: 0.5138 - accuracy: 0.7721\n",
      "Epoch 11/20\n",
      "8020/8020 [==============================] - 4s 480us/step - loss: 0.5069 - accuracy: 0.7764\n",
      "Epoch 12/20\n",
      "8020/8020 [==============================] - 3s 380us/step - loss: 0.5053 - accuracy: 0.7782\n",
      "Epoch 13/20\n",
      "8020/8020 [==============================] - 3s 396us/step - loss: 0.5114 - accuracy: 0.7711\n",
      "Epoch 14/20\n",
      "8020/8020 [==============================] - 4s 526us/step - loss: 0.5119 - accuracy: 0.7692\n",
      "Epoch 15/20\n",
      "8020/8020 [==============================] - 3s 404us/step - loss: 0.5120 - accuracy: 0.7698\n",
      "Epoch 16/20\n",
      "8020/8020 [==============================] - 3s 369us/step - loss: 0.5018 - accuracy: 0.7788\n",
      "Epoch 17/20\n",
      "8020/8020 [==============================] - 3s 349us/step - loss: 0.5137 - accuracy: 0.7687\n",
      "Epoch 18/20\n",
      "8020/8020 [==============================] - 3s 374us/step - loss: 0.5033 - accuracy: 0.7774\n",
      "Epoch 19/20\n",
      "8020/8020 [==============================] - 3s 386us/step - loss: 0.5022 - accuracy: 0.7781\n",
      "Epoch 20/20\n",
      "8020/8020 [==============================] - 3s 379us/step - loss: 0.5172 - accuracy: 0.7641\n",
      "NN with  [32, 16] configuration - Validation Score: 0.8324815630912781\n",
      "Epoch 1/20\n",
      "8020/8020 [==============================] - 2s 243us/step - loss: 0.5051 - accuracy: 0.7759\n",
      "Epoch 2/20\n",
      "8020/8020 [==============================] - 2s 269us/step - loss: 0.4144 - accuracy: 0.8201\n",
      "Epoch 3/20\n",
      "8020/8020 [==============================] - 2s 244us/step - loss: 0.3889 - accuracy: 0.8379\n",
      "Epoch 4/20\n",
      "8020/8020 [==============================] - 2s 226us/step - loss: 0.3761 - accuracy: 0.8409\n",
      "Epoch 5/20\n",
      "8020/8020 [==============================] - 2s 230us/step - loss: 0.3686 - accuracy: 0.8416\n",
      "Epoch 6/20\n",
      "8020/8020 [==============================] - 2s 279us/step - loss: 0.3638 - accuracy: 0.8418\n",
      "Epoch 7/20\n",
      "8020/8020 [==============================] - 2s 312us/step - loss: 0.3606 - accuracy: 0.8434\n",
      "Epoch 8/20\n",
      "8020/8020 [==============================] - 3s 415us/step - loss: 0.3578 - accuracy: 0.84290s - loss: 0.355\n",
      "Epoch 9/20\n",
      "8020/8020 [==============================] - 3s 434us/step - loss: 0.3557 - accuracy: 0.8441\n",
      "Epoch 10/20\n",
      "8020/8020 [==============================] - 4s 504us/step - loss: 0.3546 - accuracy: 0.8444\n",
      "Epoch 11/20\n",
      "8020/8020 [==============================] - 4s 441us/step - loss: 0.3528 - accuracy: 0.8446\n",
      "Epoch 12/20\n",
      "8020/8020 [==============================] - 5s 643us/step - loss: 0.3520 - accuracy: 0.8449\n",
      "Epoch 13/20\n",
      "8020/8020 [==============================] - 4s 546us/step - loss: 0.3505 - accuracy: 0.8444\n",
      "Epoch 14/20\n",
      "8020/8020 [==============================] - 5s 681us/step - loss: 0.3497 - accuracy: 0.84390s - loss: 0.3498 - accuracy: 0.\n",
      "Epoch 15/20\n",
      "8020/8020 [==============================] - 5s 630us/step - loss: 0.3490 - accuracy: 0.8445\n",
      "Epoch 16/20\n",
      "8020/8020 [==============================] - 4s 513us/step - loss: 0.3480 - accuracy: 0.8453\n",
      "Epoch 17/20\n",
      "8020/8020 [==============================] - 5s 576us/step - loss: 0.3477 - accuracy: 0.8443\n",
      "Epoch 18/20\n",
      "8020/8020 [==============================] - 4s 437us/step - loss: 0.3473 - accuracy: 0.8451\n",
      "Epoch 19/20\n",
      "8020/8020 [==============================] - 5s 578us/step - loss: 0.3467 - accuracy: 0.8454\n",
      "Epoch 20/20\n",
      "8020/8020 [==============================] - 4s 457us/step - loss: 0.3463 - accuracy: 0.8450\n",
      "NN with  [16, 8] configuration - Validation Score: 0.8381601572036743\n",
      "Epoch 1/20\n",
      "8020/8020 [==============================] - 4s 536us/step - loss: 0.6471 - accuracy: 0.5749\n",
      "Epoch 2/20\n",
      "8020/8020 [==============================] - 3s 352us/step - loss: 0.5842 - accuracy: 0.7716\n",
      "Epoch 3/20\n",
      "8020/8020 [==============================] - 3s 342us/step - loss: 0.5588 - accuracy: 0.7763\n",
      "Epoch 4/20\n",
      "8020/8020 [==============================] - 3s 355us/step - loss: 0.5471 - accuracy: 0.7706\n",
      "Epoch 5/20\n",
      "8020/8020 [==============================] - 3s 338us/step - loss: 0.5375 - accuracy: 0.7687\n",
      "Epoch 6/20\n",
      "8020/8020 [==============================] - 3s 372us/step - loss: 0.5214 - accuracy: 0.7793\n",
      "Epoch 7/20\n",
      "8020/8020 [==============================] - 3s 397us/step - loss: 0.5233 - accuracy: 0.7724\n",
      "Epoch 8/20\n",
      "8020/8020 [==============================] - 3s 410us/step - loss: 0.5197 - accuracy: 0.7718\n",
      "Epoch 9/20\n",
      "8020/8020 [==============================] - 3s 421us/step - loss: 0.5205 - accuracy: 0.7683\n",
      "Epoch 10/20\n",
      "8020/8020 [==============================] - 3s 374us/step - loss: 0.5116 - accuracy: 0.7754\n",
      "Epoch 11/20\n",
      "8020/8020 [==============================] - 3s 341us/step - loss: 0.5176 - accuracy: 0.7678\n",
      "Epoch 12/20\n",
      "8020/8020 [==============================] - 3s 397us/step - loss: 0.5209 - accuracy: 0.7660\n",
      "Epoch 13/20\n",
      "8020/8020 [==============================] - 3s 372us/step - loss: 0.5099 - accuracy: 0.7739\n",
      "Epoch 14/20\n",
      "8020/8020 [==============================] - 3s 436us/step - loss: 0.5096 - accuracy: 0.7744\n",
      "Epoch 15/20\n",
      "8020/8020 [==============================] - 3s 406us/step - loss: 0.5119 - accuracy: 0.7713\n",
      "Epoch 16/20\n",
      "8020/8020 [==============================] - 4s 471us/step - loss: 0.5097 - accuracy: 0.7737\n",
      "Epoch 17/20\n",
      "8020/8020 [==============================] - 3s 372us/step - loss: 0.5121 - accuracy: 0.77010s - loss: 0.5111 \n",
      "Epoch 18/20\n",
      "8020/8020 [==============================] - 3s 407us/step - loss: 0.5071 - accuracy: 0.7749\n",
      "Epoch 19/20\n",
      "8020/8020 [==============================] - 3s 394us/step - loss: 0.5124 - accuracy: 0.7697\n",
      "Epoch 20/20\n",
      "8020/8020 [==============================] - 3s 433us/step - loss: 0.5109 - accuracy: 0.7724\n",
      "NN with  [16, 8] configuration - Validation Score: 0.8296422362327576\n",
      "Epoch 1/20\n",
      "8020/8020 [==============================] - 2s 288us/step - loss: 0.5453 - accuracy: 0.7390\n",
      "Epoch 2/20\n",
      "8020/8020 [==============================] - 2s 229us/step - loss: 0.4186 - accuracy: 0.8281\n",
      "Epoch 3/20\n",
      "8020/8020 [==============================] - 2s 304us/step - loss: 0.3867 - accuracy: 0.8368\n",
      "Epoch 4/20\n",
      "8020/8020 [==============================] - 2s 250us/step - loss: 0.3740 - accuracy: 0.8388\n",
      "Epoch 5/20\n",
      "8020/8020 [==============================] - 2s 247us/step - loss: 0.3674 - accuracy: 0.8395\n",
      "Epoch 6/20\n",
      "8020/8020 [==============================] - 2s 270us/step - loss: 0.3633 - accuracy: 0.8414\n",
      "Epoch 7/20\n",
      "8020/8020 [==============================] - 2s 250us/step - loss: 0.3603 - accuracy: 0.8418\n",
      "Epoch 8/20\n",
      "8020/8020 [==============================] - 2s 245us/step - loss: 0.3580 - accuracy: 0.8418\n",
      "Epoch 9/20\n",
      "8020/8020 [==============================] - 2s 244us/step - loss: 0.3561 - accuracy: 0.8426\n",
      "Epoch 10/20\n",
      "8020/8020 [==============================] - 3s 359us/step - loss: 0.3541 - accuracy: 0.8421\n",
      "Epoch 11/20\n",
      "8020/8020 [==============================] - 2s 279us/step - loss: 0.3530 - accuracy: 0.8436\n",
      "Epoch 12/20\n",
      "8020/8020 [==============================] - 2s 294us/step - loss: 0.3518 - accuracy: 0.8443\n",
      "Epoch 13/20\n",
      "8020/8020 [==============================] - 3s 318us/step - loss: 0.3507 - accuracy: 0.8444\n",
      "Epoch 14/20\n",
      "8020/8020 [==============================] - 3s 317us/step - loss: 0.3500 - accuracy: 0.8435\n",
      "Epoch 15/20\n",
      "8020/8020 [==============================] - 3s 399us/step - loss: 0.3494 - accuracy: 0.84480s -\n",
      "Epoch 16/20\n",
      "8020/8020 [==============================] - 2s 236us/step - loss: 0.3488 - accuracy: 0.8441\n",
      "Epoch 17/20\n",
      "8020/8020 [==============================] - 3s 319us/step - loss: 0.3478 - accuracy: 0.8455\n",
      "Epoch 18/20\n",
      "8020/8020 [==============================] - 3s 315us/step - loss: 0.3471 - accuracy: 0.8448\n",
      "Epoch 19/20\n",
      "8020/8020 [==============================] - 2s 245us/step - loss: 0.3468 - accuracy: 0.8443\n",
      "Epoch 20/20\n",
      "8020/8020 [==============================] - 4s 444us/step - loss: 0.3463 - accuracy: 0.8441\n",
      "NN with  [16] configuration - Validation Score: 0.8381601572036743\n",
      "Epoch 1/20\n",
      "8020/8020 [==============================] - 2s 279us/step - loss: 0.5557 - accuracy: 0.7140\n",
      "Epoch 2/20\n",
      "8020/8020 [==============================] - 2s 240us/step - loss: 0.4585 - accuracy: 0.8031\n",
      "Epoch 3/20\n",
      "8020/8020 [==============================] - 2s 213us/step - loss: 0.4251 - accuracy: 0.8120\n",
      "Epoch 4/20\n",
      "8020/8020 [==============================] - 3s 337us/step - loss: 0.4051 - accuracy: 0.8249\n",
      "Epoch 5/20\n",
      "8020/8020 [==============================] - 2s 276us/step - loss: 0.3898 - accuracy: 0.8384\n",
      "Epoch 6/20\n",
      "8020/8020 [==============================] - 2s 196us/step - loss: 0.3795 - accuracy: 0.8401\n",
      "Epoch 7/20\n",
      "8020/8020 [==============================] - 2s 211us/step - loss: 0.3731 - accuracy: 0.8409\n",
      "Epoch 8/20\n",
      "8020/8020 [==============================] - 2s 216us/step - loss: 0.3687 - accuracy: 0.8409\n",
      "Epoch 9/20\n",
      "8020/8020 [==============================] - 2s 215us/step - loss: 0.3658 - accuracy: 0.8413\n",
      "Epoch 10/20\n",
      "8020/8020 [==============================] - 2s 270us/step - loss: 0.3638 - accuracy: 0.8408\n",
      "Epoch 11/20\n",
      "8020/8020 [==============================] - 2s 222us/step - loss: 0.3623 - accuracy: 0.8409\n",
      "Epoch 12/20\n",
      "8020/8020 [==============================] - 2s 264us/step - loss: 0.3607 - accuracy: 0.8406\n",
      "Epoch 13/20\n",
      "8020/8020 [==============================] - 3s 327us/step - loss: 0.3602 - accuracy: 0.8421\n",
      "Epoch 14/20\n",
      "8020/8020 [==============================] - 4s 438us/step - loss: 0.3589 - accuracy: 0.8410\n",
      "Epoch 15/20\n",
      "8020/8020 [==============================] - 2s 294us/step - loss: 0.3586 - accuracy: 0.8416\n",
      "Epoch 16/20\n",
      "8020/8020 [==============================] - 2s 264us/step - loss: 0.3579 - accuracy: 0.8420\n",
      "Epoch 17/20\n",
      "8020/8020 [==============================] - 2s 257us/step - loss: 0.3573 - accuracy: 0.8414\n",
      "Epoch 18/20\n",
      "8020/8020 [==============================] - 2s 241us/step - loss: 0.3564 - accuracy: 0.8415\n",
      "Epoch 19/20\n",
      "8020/8020 [==============================] - 2s 245us/step - loss: 0.3563 - accuracy: 0.8425\n",
      "Epoch 20/20\n",
      "8020/8020 [==============================] - 3s 341us/step - loss: 0.3548 - accuracy: 0.8431\n",
      "NN with  [8] configuration - Validation Score: 0.8375923037528992\n",
      "Epoch 1/20\n",
      "8020/8020 [==============================] - 3s 365us/step - loss: 0.4596 - accuracy: 0.7971\n",
      "Epoch 2/20\n",
      "8020/8020 [==============================] - 3s 356us/step - loss: 0.3820 - accuracy: 0.8395\n",
      "Epoch 3/20\n",
      "8020/8020 [==============================] - 3s 328us/step - loss: 0.3671 - accuracy: 0.8415\n",
      "Epoch 4/20\n",
      "8020/8020 [==============================] - 2s 245us/step - loss: 0.3603 - accuracy: 0.8423\n",
      "Epoch 5/20\n",
      "8020/8020 [==============================] - 2s 214us/step - loss: 0.3561 - accuracy: 0.8433\n",
      "Epoch 6/20\n",
      "8020/8020 [==============================] - 2s 217us/step - loss: 0.3534 - accuracy: 0.8431\n",
      "Epoch 7/20\n",
      "8020/8020 [==============================] - 2s 220us/step - loss: 0.3507 - accuracy: 0.8446\n",
      "Epoch 8/20\n",
      "8020/8020 [==============================] - 2s 205us/step - loss: 0.3490 - accuracy: 0.8445\n",
      "Epoch 9/20\n",
      "8020/8020 [==============================] - 2s 223us/step - loss: 0.3469 - accuracy: 0.8448\n",
      "Epoch 10/20\n",
      "8020/8020 [==============================] - 2s 311us/step - loss: 0.3461 - accuracy: 0.8446\n",
      "Epoch 11/20\n",
      "8020/8020 [==============================] - 2s 197us/step - loss: 0.3447 - accuracy: 0.8454\n",
      "Epoch 12/20\n",
      "8020/8020 [==============================] - 2s 222us/step - loss: 0.3440 - accuracy: 0.8463\n",
      "Epoch 13/20\n",
      "8020/8020 [==============================] - 2s 193us/step - loss: 0.3429 - accuracy: 0.8473\n",
      "Epoch 14/20\n",
      "8020/8020 [==============================] - 2s 220us/step - loss: 0.3420 - accuracy: 0.8479\n",
      "Epoch 15/20\n",
      "8020/8020 [==============================] - 2s 213us/step - loss: 0.3415 - accuracy: 0.8474\n",
      "Epoch 16/20\n",
      "8020/8020 [==============================] - 2s 279us/step - loss: 0.3410 - accuracy: 0.8478\n",
      "Epoch 17/20\n",
      "8020/8020 [==============================] - 2s 282us/step - loss: 0.3406 - accuracy: 0.8476\n",
      "Epoch 18/20\n",
      "8020/8020 [==============================] - 2s 199us/step - loss: 0.3394 - accuracy: 0.8485\n",
      "Epoch 19/20\n",
      "8020/8020 [==============================] - 2s 248us/step - loss: 0.3397 - accuracy: 0.84950s - loss: 0.340\n",
      "Epoch 20/20\n",
      "8020/8020 [==============================] - 2s 214us/step - loss: 0.3388 - accuracy: 0.8483\n",
      "NN with  [48, 24] configuration - Validation Score: 0.8398637175559998\n",
      "Epoch 1/20\n",
      "8020/8020 [==============================] - 5s 588us/step - loss: 0.6483 - accuracy: 0.5744\n",
      "Epoch 2/20\n",
      "8020/8020 [==============================] - 3s 430us/step - loss: 0.5781 - accuracy: 0.7698\n",
      "Epoch 3/20\n",
      "8020/8020 [==============================] - 3s 388us/step - loss: 0.5530 - accuracy: 0.7728\n",
      "Epoch 4/20\n",
      "8020/8020 [==============================] - 4s 452us/step - loss: 0.5386 - accuracy: 0.7709\n",
      "Epoch 5/20\n",
      "8020/8020 [==============================] - 4s 460us/step - loss: 0.5240 - accuracy: 0.7753\n",
      "Epoch 6/20\n",
      "8020/8020 [==============================] - 3s 367us/step - loss: 0.5208 - accuracy: 0.7704\n",
      "Epoch 7/20\n",
      "8020/8020 [==============================] - 4s 482us/step - loss: 0.5179 - accuracy: 0.77130s - loss: 0.5\n",
      "Epoch 8/20\n",
      "8020/8020 [==============================] - 3s 369us/step - loss: 0.5099 - accuracy: 0.7758\n",
      "Epoch 9/20\n",
      "8020/8020 [==============================] - 3s 358us/step - loss: 0.5130 - accuracy: 0.7708\n",
      "Epoch 10/20\n",
      "8020/8020 [==============================] - 3s 323us/step - loss: 0.5027 - accuracy: 0.7792\n",
      "Epoch 11/20\n",
      "8020/8020 [==============================] - 3s 348us/step - loss: 0.5067 - accuracy: 0.7751\n",
      "Epoch 12/20\n",
      "8020/8020 [==============================] - 3s 350us/step - loss: 0.4993 - accuracy: 0.7809\n",
      "Epoch 13/20\n",
      "8020/8020 [==============================] - 3s 338us/step - loss: 0.5012 - accuracy: 0.7787\n",
      "Epoch 14/20\n",
      "8020/8020 [==============================] - 3s 319us/step - loss: 0.5037 - accuracy: 0.7758\n",
      "Epoch 15/20\n",
      "8020/8020 [==============================] - 3s 312us/step - loss: 0.5059 - accuracy: 0.7753\n",
      "Epoch 16/20\n",
      "8020/8020 [==============================] - 2s 299us/step - loss: 0.5043 - accuracy: 0.7747\n",
      "Epoch 17/20\n",
      "8020/8020 [==============================] - 2s 299us/step - loss: 0.5019 - accuracy: 0.7782\n",
      "Epoch 18/20\n",
      "8020/8020 [==============================] - 3s 341us/step - loss: 0.5111 - accuracy: 0.76930s - los\n",
      "Epoch 19/20\n",
      "8020/8020 [==============================] - 3s 381us/step - loss: 0.5044 - accuracy: 0.7752\n",
      "Epoch 20/20\n",
      "8020/8020 [==============================] - 8s 968us/step - loss: 0.4969 - accuracy: 0.78050s - loss: 0.4978 - \n",
      "NN with  [48, 24] configuration - Validation Score: 0.8336172699928284\n"
     ]
    }
   ],
   "source": [
    "# Define a list of possible lists of numbers of neurons for each layer\n",
    "layers_config_arr = [[32, 16], [16, 8], [16], [8], [48, 24]]\n",
    "\n",
    "# Initialize the best model to an arbitrary value\n",
    "best_model = None\n",
    "best_history = None\n",
    "best_accuracy = 0\n",
    "\n",
    "# Iterate over all possible combinations of number of layers and neurons\n",
    "for layers_config in layers_config_arr:\n",
    "    model = Sequential()\n",
    "\n",
    "    for i, layer_neurons in enumerate(layers_config):\n",
    "        # Add hidden layers with the current number of neurons\n",
    "        if i==0: # First layer\n",
    "            model.add(Dense(layer_neurons, activation='relu', input_dim=X_std_train.shape[1]))\n",
    "        else:\n",
    "            model.add(Dropout(.2))\n",
    "            model.add(Dense(layer_neurons, activation='relu', input_dim=layers_config[i-1]))\n",
    "        \n",
    "        # Add the output layer\n",
    "        model.add(Dense(1, activation='sigmoid'))\n",
    "        \n",
    "        # Compile the model\n",
    "        model.compile(loss='binary_crossentropy', optimizer='adam', metrics=['accuracy'])\n",
    "        \n",
    "        # Train the model on the training set\n",
    "        history = model.fit(X_std_train, y_train, epochs=20, batch_size=32, verbose=1)\n",
    "        \n",
    "        # Evaluate the model on the validation set\n",
    "        _, accuracy = model.evaluate(X_std_val, y_val, verbose=0)\n",
    "        print('NN with ', layers_config, 'configuration - Validation Score:', accuracy)\n",
    "        \n",
    "        # If the model has better accuracy, update the best model\n",
    "        if accuracy > best_accuracy:\n",
    "            best_model = model\n",
    "            best_history = history\n",
    "            best_accuracy = accuracy"
   ]
  },
  {
   "attachments": {},
   "cell_type": "markdown",
   "metadata": {},
   "source": [
    "Training curves of best NN"
   ]
  },
  {
   "cell_type": "code",
   "execution_count": 13,
   "metadata": {},
   "outputs": [
    {
     "name": "stderr",
     "output_type": "stream",
     "text": [
      "ERROR:root:Internal Python error in the inspect module.\n",
      "Below is the traceback from this internal error.\n",
      "\n",
      "ERROR:root:Internal Python error in the inspect module.\n",
      "Below is the traceback from this internal error.\n",
      "\n",
      "ERROR:root:Internal Python error in the inspect module.\n",
      "Below is the traceback from this internal error.\n",
      "\n"
     ]
    },
    {
     "name": "stdout",
     "output_type": "stream",
     "text": [
      "Traceback (most recent call last):\n",
      "  File \"c:\\Users\\giaco\\anaconda3\\envs\\PythonGPU\\lib\\site-packages\\IPython\\core\\interactiveshell.py\", line 3441, in run_code\n",
      "    exec(code_obj, self.user_global_ns, self.user_ns)\n",
      "  File \"<ipython-input-13-95b5fcea8130>\", line 2, in <module>\n",
      "    plt.plot(best_history.history['val_loss'])\n",
      "KeyError: 'val_loss'\n",
      "\n",
      "During handling of the above exception, another exception occurred:\n",
      "\n",
      "Traceback (most recent call last):\n",
      "  File \"c:\\Users\\giaco\\anaconda3\\envs\\PythonGPU\\lib\\site-packages\\IPython\\core\\interactiveshell.py\", line 2061, in showtraceback\n",
      "    stb = value._render_traceback_()\n",
      "AttributeError: 'KeyError' object has no attribute '_render_traceback_'\n",
      "\n",
      "During handling of the above exception, another exception occurred:\n",
      "\n",
      "Traceback (most recent call last):\n",
      "  File \"c:\\Users\\giaco\\anaconda3\\envs\\PythonGPU\\lib\\site-packages\\IPython\\core\\ultratb.py\", line 1101, in get_records\n",
      "    return _fixed_getinnerframes(etb, number_of_lines_of_context, tb_offset)\n",
      "  File \"c:\\Users\\giaco\\anaconda3\\envs\\PythonGPU\\lib\\site-packages\\IPython\\core\\ultratb.py\", line 248, in wrapped\n",
      "    return f(*args, **kwargs)\n",
      "  File \"c:\\Users\\giaco\\anaconda3\\envs\\PythonGPU\\lib\\site-packages\\IPython\\core\\ultratb.py\", line 281, in _fixed_getinnerframes\n",
      "    records = fix_frame_records_filenames(inspect.getinnerframes(etb, context))\n",
      "  File \"c:\\Users\\giaco\\anaconda3\\envs\\PythonGPU\\lib\\inspect.py\", line 1502, in getinnerframes\n",
      "    frameinfo = (tb.tb_frame,) + getframeinfo(tb, context)\n",
      "  File \"c:\\Users\\giaco\\anaconda3\\envs\\PythonGPU\\lib\\inspect.py\", line 1460, in getframeinfo\n",
      "    filename = getsourcefile(frame) or getfile(frame)\n",
      "  File \"c:\\Users\\giaco\\anaconda3\\envs\\PythonGPU\\lib\\inspect.py\", line 696, in getsourcefile\n",
      "    if getattr(getmodule(object, filename), '__loader__', None) is not None:\n",
      "  File \"c:\\Users\\giaco\\anaconda3\\envs\\PythonGPU\\lib\\inspect.py\", line 733, in getmodule\n",
      "    if ismodule(module) and hasattr(module, '__file__'):\n",
      "  File \"c:\\Users\\giaco\\anaconda3\\envs\\PythonGPU\\lib\\site-packages\\tensorflow\\__init__.py\", line 50, in __getattr__\n",
      "    module = self._load()\n",
      "  File \"c:\\Users\\giaco\\anaconda3\\envs\\PythonGPU\\lib\\site-packages\\tensorflow\\__init__.py\", line 44, in _load\n",
      "    module = _importlib.import_module(self.__name__)\n",
      "  File \"c:\\Users\\giaco\\anaconda3\\envs\\PythonGPU\\lib\\importlib\\__init__.py\", line 127, in import_module\n",
      "    return _bootstrap._gcd_import(name[level:], package, level)\n",
      "  File \"<frozen importlib._bootstrap>\", line 1006, in _gcd_import\n",
      "  File \"<frozen importlib._bootstrap>\", line 983, in _find_and_load\n",
      "  File \"<frozen importlib._bootstrap>\", line 965, in _find_and_load_unlocked\n",
      "ModuleNotFoundError: No module named 'tensorflow_core.estimator'\n",
      "Traceback (most recent call last):\n",
      "  File \"c:\\Users\\giaco\\anaconda3\\envs\\PythonGPU\\lib\\site-packages\\IPython\\core\\interactiveshell.py\", line 3441, in run_code\n",
      "    exec(code_obj, self.user_global_ns, self.user_ns)\n",
      "  File \"<ipython-input-13-95b5fcea8130>\", line 2, in <module>\n",
      "    plt.plot(best_history.history['val_loss'])\n",
      "KeyError: 'val_loss'\n",
      "\n",
      "During handling of the above exception, another exception occurred:\n",
      "\n",
      "Traceback (most recent call last):\n",
      "  File \"c:\\Users\\giaco\\anaconda3\\envs\\PythonGPU\\lib\\site-packages\\IPython\\core\\interactiveshell.py\", line 2061, in showtraceback\n",
      "    stb = value._render_traceback_()\n",
      "AttributeError: 'KeyError' object has no attribute '_render_traceback_'\n",
      "\n",
      "During handling of the above exception, another exception occurred:\n",
      "\n",
      "Traceback (most recent call last):\n",
      "  File \"c:\\Users\\giaco\\anaconda3\\envs\\PythonGPU\\lib\\site-packages\\IPython\\core\\interactiveshell.py\", line 3361, in run_ast_nodes\n",
      "    if (await self.run_code(code, result,  async_=asy)):\n",
      "  File \"c:\\Users\\giaco\\anaconda3\\envs\\PythonGPU\\lib\\site-packages\\IPython\\core\\interactiveshell.py\", line 3458, in run_code\n",
      "    self.showtraceback(running_compiled_code=True)\n",
      "  File \"c:\\Users\\giaco\\anaconda3\\envs\\PythonGPU\\lib\\site-packages\\IPython\\core\\interactiveshell.py\", line 2064, in showtraceback\n",
      "    value, tb, tb_offset=tb_offset)\n",
      "  File \"c:\\Users\\giaco\\anaconda3\\envs\\PythonGPU\\lib\\site-packages\\IPython\\core\\ultratb.py\", line 1368, in structured_traceback\n",
      "    self, etype, value, tb, tb_offset, number_of_lines_of_context)\n",
      "  File \"c:\\Users\\giaco\\anaconda3\\envs\\PythonGPU\\lib\\site-packages\\IPython\\core\\ultratb.py\", line 1268, in structured_traceback\n",
      "    self, etype, value, tb, tb_offset, number_of_lines_of_context\n",
      "  File \"c:\\Users\\giaco\\anaconda3\\envs\\PythonGPU\\lib\\site-packages\\IPython\\core\\ultratb.py\", line 1125, in structured_traceback\n",
      "    tb_offset)\n",
      "  File \"c:\\Users\\giaco\\anaconda3\\envs\\PythonGPU\\lib\\site-packages\\IPython\\core\\ultratb.py\", line 1082, in format_exception_as_a_whole\n",
      "    last_unique, recursion_repeat = find_recursion(orig_etype, evalue, records)\n",
      "  File \"c:\\Users\\giaco\\anaconda3\\envs\\PythonGPU\\lib\\site-packages\\IPython\\core\\ultratb.py\", line 382, in find_recursion\n",
      "    return len(records), 0\n",
      "TypeError: object of type 'NoneType' has no len()\n",
      "\n",
      "During handling of the above exception, another exception occurred:\n",
      "\n",
      "Traceback (most recent call last):\n",
      "  File \"c:\\Users\\giaco\\anaconda3\\envs\\PythonGPU\\lib\\site-packages\\IPython\\core\\interactiveshell.py\", line 2061, in showtraceback\n",
      "    stb = value._render_traceback_()\n",
      "AttributeError: 'TypeError' object has no attribute '_render_traceback_'\n",
      "\n",
      "During handling of the above exception, another exception occurred:\n",
      "\n",
      "Traceback (most recent call last):\n",
      "  File \"c:\\Users\\giaco\\anaconda3\\envs\\PythonGPU\\lib\\site-packages\\IPython\\core\\ultratb.py\", line 1101, in get_records\n",
      "    return _fixed_getinnerframes(etb, number_of_lines_of_context, tb_offset)\n",
      "  File \"c:\\Users\\giaco\\anaconda3\\envs\\PythonGPU\\lib\\site-packages\\IPython\\core\\ultratb.py\", line 248, in wrapped\n",
      "    return f(*args, **kwargs)\n",
      "  File \"c:\\Users\\giaco\\anaconda3\\envs\\PythonGPU\\lib\\site-packages\\IPython\\core\\ultratb.py\", line 281, in _fixed_getinnerframes\n",
      "    records = fix_frame_records_filenames(inspect.getinnerframes(etb, context))\n",
      "  File \"c:\\Users\\giaco\\anaconda3\\envs\\PythonGPU\\lib\\inspect.py\", line 1502, in getinnerframes\n",
      "    frameinfo = (tb.tb_frame,) + getframeinfo(tb, context)\n",
      "  File \"c:\\Users\\giaco\\anaconda3\\envs\\PythonGPU\\lib\\inspect.py\", line 1460, in getframeinfo\n",
      "    filename = getsourcefile(frame) or getfile(frame)\n",
      "  File \"c:\\Users\\giaco\\anaconda3\\envs\\PythonGPU\\lib\\inspect.py\", line 696, in getsourcefile\n",
      "    if getattr(getmodule(object, filename), '__loader__', None) is not None:\n",
      "  File \"c:\\Users\\giaco\\anaconda3\\envs\\PythonGPU\\lib\\inspect.py\", line 733, in getmodule\n",
      "    if ismodule(module) and hasattr(module, '__file__'):\n",
      "  File \"c:\\Users\\giaco\\anaconda3\\envs\\PythonGPU\\lib\\site-packages\\tensorflow\\__init__.py\", line 50, in __getattr__\n",
      "    module = self._load()\n",
      "  File \"c:\\Users\\giaco\\anaconda3\\envs\\PythonGPU\\lib\\site-packages\\tensorflow\\__init__.py\", line 44, in _load\n",
      "    module = _importlib.import_module(self.__name__)\n",
      "  File \"c:\\Users\\giaco\\anaconda3\\envs\\PythonGPU\\lib\\importlib\\__init__.py\", line 127, in import_module\n",
      "    return _bootstrap._gcd_import(name[level:], package, level)\n",
      "  File \"<frozen importlib._bootstrap>\", line 1006, in _gcd_import\n",
      "  File \"<frozen importlib._bootstrap>\", line 983, in _find_and_load\n",
      "  File \"<frozen importlib._bootstrap>\", line 965, in _find_and_load_unlocked\n",
      "ModuleNotFoundError: No module named 'tensorflow_core.estimator'\n",
      "Traceback (most recent call last):\n",
      "  File \"c:\\Users\\giaco\\anaconda3\\envs\\PythonGPU\\lib\\site-packages\\IPython\\core\\interactiveshell.py\", line 3441, in run_code\n",
      "    exec(code_obj, self.user_global_ns, self.user_ns)\n",
      "  File \"<ipython-input-13-95b5fcea8130>\", line 2, in <module>\n",
      "    plt.plot(best_history.history['val_loss'])\n",
      "KeyError: 'val_loss'\n",
      "\n",
      "During handling of the above exception, another exception occurred:\n",
      "\n",
      "Traceback (most recent call last):\n",
      "  File \"c:\\Users\\giaco\\anaconda3\\envs\\PythonGPU\\lib\\site-packages\\IPython\\core\\interactiveshell.py\", line 2061, in showtraceback\n",
      "    stb = value._render_traceback_()\n",
      "AttributeError: 'KeyError' object has no attribute '_render_traceback_'\n",
      "\n",
      "During handling of the above exception, another exception occurred:\n",
      "\n",
      "Traceback (most recent call last):\n",
      "  File \"c:\\Users\\giaco\\anaconda3\\envs\\PythonGPU\\lib\\site-packages\\IPython\\core\\interactiveshell.py\", line 3361, in run_ast_nodes\n",
      "    if (await self.run_code(code, result,  async_=asy)):\n",
      "  File \"c:\\Users\\giaco\\anaconda3\\envs\\PythonGPU\\lib\\site-packages\\IPython\\core\\interactiveshell.py\", line 3458, in run_code\n",
      "    self.showtraceback(running_compiled_code=True)\n",
      "  File \"c:\\Users\\giaco\\anaconda3\\envs\\PythonGPU\\lib\\site-packages\\IPython\\core\\interactiveshell.py\", line 2064, in showtraceback\n",
      "    value, tb, tb_offset=tb_offset)\n",
      "  File \"c:\\Users\\giaco\\anaconda3\\envs\\PythonGPU\\lib\\site-packages\\IPython\\core\\ultratb.py\", line 1368, in structured_traceback\n",
      "    self, etype, value, tb, tb_offset, number_of_lines_of_context)\n",
      "  File \"c:\\Users\\giaco\\anaconda3\\envs\\PythonGPU\\lib\\site-packages\\IPython\\core\\ultratb.py\", line 1268, in structured_traceback\n",
      "    self, etype, value, tb, tb_offset, number_of_lines_of_context\n",
      "  File \"c:\\Users\\giaco\\anaconda3\\envs\\PythonGPU\\lib\\site-packages\\IPython\\core\\ultratb.py\", line 1125, in structured_traceback\n",
      "    tb_offset)\n",
      "  File \"c:\\Users\\giaco\\anaconda3\\envs\\PythonGPU\\lib\\site-packages\\IPython\\core\\ultratb.py\", line 1082, in format_exception_as_a_whole\n",
      "    last_unique, recursion_repeat = find_recursion(orig_etype, evalue, records)\n",
      "  File \"c:\\Users\\giaco\\anaconda3\\envs\\PythonGPU\\lib\\site-packages\\IPython\\core\\ultratb.py\", line 382, in find_recursion\n",
      "    return len(records), 0\n",
      "TypeError: object of type 'NoneType' has no len()\n",
      "\n",
      "During handling of the above exception, another exception occurred:\n",
      "\n",
      "Traceback (most recent call last):\n",
      "  File \"c:\\Users\\giaco\\anaconda3\\envs\\PythonGPU\\lib\\site-packages\\IPython\\core\\interactiveshell.py\", line 2061, in showtraceback\n",
      "    stb = value._render_traceback_()\n",
      "AttributeError: 'TypeError' object has no attribute '_render_traceback_'\n",
      "\n",
      "During handling of the above exception, another exception occurred:\n",
      "\n",
      "Traceback (most recent call last):\n",
      "  File \"c:\\Users\\giaco\\anaconda3\\envs\\PythonGPU\\lib\\site-packages\\IPython\\core\\interactiveshell.py\", line 2944, in _run_cell\n",
      "    return runner(coro)\n",
      "  File \"c:\\Users\\giaco\\anaconda3\\envs\\PythonGPU\\lib\\site-packages\\IPython\\core\\async_helpers.py\", line 68, in _pseudo_sync_runner\n",
      "    coro.send(None)\n",
      "  File \"c:\\Users\\giaco\\anaconda3\\envs\\PythonGPU\\lib\\site-packages\\IPython\\core\\interactiveshell.py\", line 3170, in run_cell_async\n",
      "    interactivity=interactivity, compiler=compiler, result=result)\n",
      "  File \"c:\\Users\\giaco\\anaconda3\\envs\\PythonGPU\\lib\\site-packages\\IPython\\core\\interactiveshell.py\", line 3380, in run_ast_nodes\n",
      "    self.showtraceback()\n",
      "  File \"c:\\Users\\giaco\\anaconda3\\envs\\PythonGPU\\lib\\site-packages\\IPython\\core\\interactiveshell.py\", line 2064, in showtraceback\n",
      "    value, tb, tb_offset=tb_offset)\n",
      "  File \"c:\\Users\\giaco\\anaconda3\\envs\\PythonGPU\\lib\\site-packages\\IPython\\core\\ultratb.py\", line 1368, in structured_traceback\n",
      "    self, etype, value, tb, tb_offset, number_of_lines_of_context)\n",
      "  File \"c:\\Users\\giaco\\anaconda3\\envs\\PythonGPU\\lib\\site-packages\\IPython\\core\\ultratb.py\", line 1268, in structured_traceback\n",
      "    self, etype, value, tb, tb_offset, number_of_lines_of_context\n",
      "  File \"c:\\Users\\giaco\\anaconda3\\envs\\PythonGPU\\lib\\site-packages\\IPython\\core\\ultratb.py\", line 1143, in structured_traceback\n",
      "    chained_exceptions_tb_offset)\n",
      "  File \"c:\\Users\\giaco\\anaconda3\\envs\\PythonGPU\\lib\\site-packages\\IPython\\core\\ultratb.py\", line 1082, in format_exception_as_a_whole\n",
      "    last_unique, recursion_repeat = find_recursion(orig_etype, evalue, records)\n",
      "  File \"c:\\Users\\giaco\\anaconda3\\envs\\PythonGPU\\lib\\site-packages\\IPython\\core\\ultratb.py\", line 382, in find_recursion\n",
      "    return len(records), 0\n",
      "TypeError: object of type 'NoneType' has no len()\n",
      "\n",
      "During handling of the above exception, another exception occurred:\n",
      "\n",
      "Traceback (most recent call last):\n",
      "  File \"c:\\Users\\giaco\\anaconda3\\envs\\PythonGPU\\lib\\site-packages\\IPython\\core\\interactiveshell.py\", line 2061, in showtraceback\n",
      "    stb = value._render_traceback_()\n",
      "AttributeError: 'TypeError' object has no attribute '_render_traceback_'\n",
      "\n",
      "During handling of the above exception, another exception occurred:\n",
      "\n",
      "Traceback (most recent call last):\n",
      "  File \"c:\\Users\\giaco\\anaconda3\\envs\\PythonGPU\\lib\\site-packages\\IPython\\core\\ultratb.py\", line 1101, in get_records\n",
      "    return _fixed_getinnerframes(etb, number_of_lines_of_context, tb_offset)\n",
      "  File \"c:\\Users\\giaco\\anaconda3\\envs\\PythonGPU\\lib\\site-packages\\IPython\\core\\ultratb.py\", line 248, in wrapped\n",
      "    return f(*args, **kwargs)\n",
      "  File \"c:\\Users\\giaco\\anaconda3\\envs\\PythonGPU\\lib\\site-packages\\IPython\\core\\ultratb.py\", line 281, in _fixed_getinnerframes\n",
      "    records = fix_frame_records_filenames(inspect.getinnerframes(etb, context))\n",
      "  File \"c:\\Users\\giaco\\anaconda3\\envs\\PythonGPU\\lib\\inspect.py\", line 1502, in getinnerframes\n",
      "    frameinfo = (tb.tb_frame,) + getframeinfo(tb, context)\n",
      "  File \"c:\\Users\\giaco\\anaconda3\\envs\\PythonGPU\\lib\\inspect.py\", line 1460, in getframeinfo\n",
      "    filename = getsourcefile(frame) or getfile(frame)\n",
      "  File \"c:\\Users\\giaco\\anaconda3\\envs\\PythonGPU\\lib\\inspect.py\", line 696, in getsourcefile\n",
      "    if getattr(getmodule(object, filename), '__loader__', None) is not None:\n",
      "  File \"c:\\Users\\giaco\\anaconda3\\envs\\PythonGPU\\lib\\inspect.py\", line 733, in getmodule\n",
      "    if ismodule(module) and hasattr(module, '__file__'):\n",
      "  File \"c:\\Users\\giaco\\anaconda3\\envs\\PythonGPU\\lib\\site-packages\\tensorflow\\__init__.py\", line 50, in __getattr__\n",
      "    module = self._load()\n",
      "  File \"c:\\Users\\giaco\\anaconda3\\envs\\PythonGPU\\lib\\site-packages\\tensorflow\\__init__.py\", line 44, in _load\n",
      "    module = _importlib.import_module(self.__name__)\n",
      "  File \"c:\\Users\\giaco\\anaconda3\\envs\\PythonGPU\\lib\\importlib\\__init__.py\", line 127, in import_module\n",
      "    return _bootstrap._gcd_import(name[level:], package, level)\n",
      "  File \"<frozen importlib._bootstrap>\", line 1006, in _gcd_import\n",
      "  File \"<frozen importlib._bootstrap>\", line 983, in _find_and_load\n",
      "  File \"<frozen importlib._bootstrap>\", line 965, in _find_and_load_unlocked\n",
      "ModuleNotFoundError: No module named 'tensorflow_core.estimator'\n"
     ]
    }
   ],
   "source": [
    "plt.plot(best_history.history['loss']) \n",
    "plt.plot(best_history.history['val_loss']) \n",
    "plt.title('Model loss') \n",
    "plt.ylabel('Loss') \n",
    "plt.xlabel('Epoch') \n",
    "plt.legend(['Train', 'Validation'], loc='upper left') \n",
    "plt.show()"
   ]
  },
  {
   "cell_type": "code",
   "execution_count": null,
   "metadata": {},
   "outputs": [],
   "source": []
  },
  {
   "cell_type": "code",
   "execution_count": null,
   "metadata": {},
   "outputs": [],
   "source": []
  },
  {
   "cell_type": "code",
   "execution_count": null,
   "metadata": {},
   "outputs": [],
   "source": []
  },
  {
   "cell_type": "code",
   "execution_count": null,
   "metadata": {},
   "outputs": [],
   "source": []
  },
  {
   "cell_type": "code",
   "execution_count": 33,
   "metadata": {},
   "outputs": [],
   "source": [
    "# Neural network\n",
    "model = Sequential()\n",
    "model.add(Dense(30, input_dim=12, activation=\"relu\"))\n",
    "model.add(Dropout(.25))\n",
    "model.add(Dense(15, activation=\"sigmoid\"))\n",
    "model.add(Dense(1, activation=\"sigmoid\"))\n",
    "model.compile(loss='mse', optimizer=\"Adam\", metrics=['accuracy'])"
   ]
  },
  {
   "cell_type": "code",
   "execution_count": 34,
   "metadata": {},
   "outputs": [
    {
     "name": "stdout",
     "output_type": "stream",
     "text": [
      "Epoch 1/20\n",
      "251/251 [==============================] - 5s 7ms/step - loss: 0.2278 - accuracy: 0.6517 - val_loss: 0.2013 - val_accuracy: 0.7439\n",
      "Epoch 2/20\n",
      "251/251 [==============================] - 1s 5ms/step - loss: 0.1805 - accuracy: 0.7600 - val_loss: 0.1632 - val_accuracy: 0.8035\n",
      "Epoch 3/20\n",
      "251/251 [==============================] - 1s 4ms/step - loss: 0.1504 - accuracy: 0.8080 - val_loss: 0.1442 - val_accuracy: 0.8075\n",
      "Epoch 4/20\n",
      "251/251 [==============================] - 1s 4ms/step - loss: 0.1389 - accuracy: 0.8198 - val_loss: 0.1377 - val_accuracy: 0.8171\n",
      "Epoch 5/20\n",
      "251/251 [==============================] - 1s 4ms/step - loss: 0.1321 - accuracy: 0.8278 - val_loss: 0.1396 - val_accuracy: 0.8200\n",
      "Epoch 6/20\n",
      "251/251 [==============================] - 1s 4ms/step - loss: 0.1282 - accuracy: 0.8329 - val_loss: 0.1373 - val_accuracy: 0.8308\n",
      "Epoch 7/20\n",
      "251/251 [==============================] - 1s 4ms/step - loss: 0.1261 - accuracy: 0.8359 - val_loss: 0.1416 - val_accuracy: 0.8240\n",
      "Epoch 8/20\n",
      "251/251 [==============================] - 1s 4ms/step - loss: 0.1246 - accuracy: 0.8375 - val_loss: 0.1368 - val_accuracy: 0.8279\n",
      "Epoch 9/20\n",
      "251/251 [==============================] - 1s 4ms/step - loss: 0.1237 - accuracy: 0.8380 - val_loss: 0.1320 - val_accuracy: 0.8285\n",
      "Epoch 10/20\n",
      "251/251 [==============================] - 1s 4ms/step - loss: 0.1231 - accuracy: 0.8404 - val_loss: 0.1365 - val_accuracy: 0.8251\n",
      "Epoch 11/20\n",
      "251/251 [==============================] - 1s 4ms/step - loss: 0.1214 - accuracy: 0.8393 - val_loss: 0.1421 - val_accuracy: 0.8166\n",
      "Epoch 12/20\n",
      "251/251 [==============================] - 1s 4ms/step - loss: 0.1206 - accuracy: 0.8399 - val_loss: 0.1371 - val_accuracy: 0.8228\n",
      "Epoch 13/20\n",
      "251/251 [==============================] - 1s 4ms/step - loss: 0.1193 - accuracy: 0.8421 - val_loss: 0.1379 - val_accuracy: 0.8177\n",
      "Epoch 14/20\n",
      "251/251 [==============================] - 1s 4ms/step - loss: 0.1204 - accuracy: 0.8395 - val_loss: 0.1365 - val_accuracy: 0.8166\n",
      "Epoch 15/20\n",
      "251/251 [==============================] - 1s 4ms/step - loss: 0.1198 - accuracy: 0.8416 - val_loss: 0.1361 - val_accuracy: 0.8211\n",
      "Epoch 16/20\n",
      "251/251 [==============================] - 1s 4ms/step - loss: 0.1192 - accuracy: 0.8414 - val_loss: 0.1389 - val_accuracy: 0.8177\n",
      "Epoch 17/20\n",
      "251/251 [==============================] - 1s 4ms/step - loss: 0.1189 - accuracy: 0.8421 - val_loss: 0.1378 - val_accuracy: 0.8189\n",
      "Epoch 18/20\n",
      "251/251 [==============================] - 1s 4ms/step - loss: 0.1185 - accuracy: 0.8423 - val_loss: 0.1355 - val_accuracy: 0.8223\n",
      "Epoch 19/20\n",
      "251/251 [==============================] - 1s 4ms/step - loss: 0.1175 - accuracy: 0.8438 - val_loss: 0.1340 - val_accuracy: 0.8251\n",
      "Epoch 20/20\n",
      "251/251 [==============================] - 1s 4ms/step - loss: 0.1180 - accuracy: 0.8431 - val_loss: 0.1380 - val_accuracy: 0.8217\n"
     ]
    }
   ],
   "source": [
    "history = model.fit(X_std_train, y_train,validation_data = (X_std_val,y_val), epochs=20, batch_size=32)"
   ]
  },
  {
   "cell_type": "code",
   "execution_count": 35,
   "metadata": {},
   "outputs": [
    {
     "name": "stdout",
     "output_type": "stream",
     "text": [
      "251/251 [==============================] - 1s 3ms/step\n",
      "## Training:\n",
      "              precision    recall  f1-score   support\n",
      "\n",
      "     non-bot       0.96      0.70      0.81      3758\n",
      "         bot       0.79      0.97      0.87      4262\n",
      "\n",
      "    accuracy                           0.85      8020\n",
      "   macro avg       0.87      0.84      0.84      8020\n",
      "weighted avg       0.87      0.85      0.84      8020\n",
      "\n"
     ]
    }
   ],
   "source": [
    "y_pred_train = model.predict(X_std_train)\n",
    "#Converting predictions to label\n",
    "y_pred_train = np.rint(y_pred_train)\n",
    "print('## Training:')\n",
    "report_scores(y_train, y_pred_train)"
   ]
  },
  {
   "cell_type": "code",
   "execution_count": 36,
   "metadata": {},
   "outputs": [
    {
     "data": {
      "image/png": "[encoded data removed]",
      "text/plain": [
       "<Figure size 640x480 with 1 Axes>"
      ]
     },
     "metadata": {},
     "output_type": "display_data"
    }
   ],
   "source": [
    "plt.plot(history.history['loss']) \n",
    "plt.plot(history.history['val_loss']) \n",
    "plt.title('Model loss') \n",
    "plt.ylabel('Loss') \n",
    "plt.xlabel('Epoch') \n",
    "plt.legend(['Train', 'Validation'], loc='upper left') \n",
    "plt.show()"
   ]
  }
 ],
 "metadata": {
  "kernelspec": {
   "display_name": "PythonGPU",
   "language": "python",
   "name": "python3"
  },
  "language_info": {
   "codemirror_mode": {
    "name": "ipython",
    "version": 3
   },
   "file_extension": ".py",
   "mimetype": "text/x-python",
   "name": "python",
   "nbconvert_exporter": "python",
   "pygments_lexer": "ipython3",
   "version": "3.7.11"
  },
  "orig_nbformat": 4,
  "vscode": {
   "interpreter": {
    "hash": "d0730f60e148d57a1e4c6f650409706dbcf5ffb151704137abb6195cb5ab6161"
   }
  }
 },
 "nbformat": 4,
 "nbformat_minor": 2
}
