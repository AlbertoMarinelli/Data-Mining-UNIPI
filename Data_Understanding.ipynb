{
 "cells": [
  {
   "cell_type": "markdown",
   "metadata": {},
   "source": [
    "# Libraries"
   ]
  },
  {
   "cell_type": "code",
   "execution_count": 54,
   "metadata": {},
   "outputs": [],
   "source": [
    "import math\n",
    "import numpy as np\n",
    "import pandas as pd\n",
    "import scipy.stats as stats\n",
    "import matplotlib.pyplot as plt\n",
    "from pandas.api.types import is_numeric_dtype\n",
    "\n",
    "from collections import defaultdict\n",
    "from scipy.stats.stats import pearsonr"
   ]
  },
  {
   "cell_type": "markdown",
   "metadata": {},
   "source": [
    "# Data Understanding\n",
    "## Data informations\n",
    "Displaying the dataset info before doing any operations on the data"
   ]
  },
  {
   "cell_type": "code",
   "execution_count": 55,
   "metadata": {},
   "outputs": [
    {
     "name": "stdout",
     "output_type": "stream",
     "text": [
      "<class 'pandas.core.frame.DataFrame'>\n",
      "Index: 1000 entries, 509354017856950272 to 2312918930458324\n",
      "Data columns (total 9 columns):\n",
      " #   Column          Non-Null Count  Dtype \n",
      "---  ------          --------------  ----- \n",
      " 0   user_id         971 non-null    object\n",
      " 1   retweet_count   959 non-null    object\n",
      " 2   reply_count     949 non-null    object\n",
      " 3   favorite_count  951 non-null    object\n",
      " 4   num_hashtags    913 non-null    object\n",
      " 5   num_urls        947 non-null    object\n",
      " 6   num_mentions    937 non-null    object\n",
      " 7   created_at      1000 non-null   object\n",
      " 8   text            961 non-null    object\n",
      "dtypes: object(9)\n",
      "memory usage: 78.1+ KB\n"
     ]
    }
   ],
   "source": [
    "df_tweets = pd.read_csv('./dataset/tweets.csv', sep=',', index_col=0)  # load tweets\n",
    "df_tweets.info() #print info"
   ]
  },
  {
   "cell_type": "markdown",
   "metadata": {},
   "source": [
    "Dropping duplicates and display changes using info()"
   ]
  },
  {
   "cell_type": "code",
   "execution_count": 56,
   "metadata": {},
   "outputs": [
    {
     "name": "stdout",
     "output_type": "stream",
     "text": [
      "<class 'pandas.core.frame.DataFrame'>\n",
      "Index: 1000 entries, 509354017856950272 to 2312918930458324\n",
      "Data columns (total 9 columns):\n",
      " #   Column          Non-Null Count  Dtype \n",
      "---  ------          --------------  ----- \n",
      " 0   user_id         971 non-null    object\n",
      " 1   retweet_count   959 non-null    object\n",
      " 2   reply_count     949 non-null    object\n",
      " 3   favorite_count  951 non-null    object\n",
      " 4   num_hashtags    913 non-null    object\n",
      " 5   num_urls        947 non-null    object\n",
      " 6   num_mentions    937 non-null    object\n",
      " 7   created_at      1000 non-null   object\n",
      " 8   text            961 non-null    object\n",
      "dtypes: object(9)\n",
      "memory usage: 78.1+ KB\n"
     ]
    }
   ],
   "source": [
    "df_tweets.drop_duplicates()\n",
    "df_tweets.info()"
   ]
  },
  {
   "cell_type": "code",
   "execution_count": 57,
   "metadata": {},
   "outputs": [
    {
     "name": "stdout",
     "output_type": "stream",
     "text": [
      "<class 'pandas.core.frame.DataFrame'>\n",
      "Index: 956 entries, 509354017856950272 to 587485987414155264\n",
      "Data columns (total 9 columns):\n",
      " #   Column          Non-Null Count  Dtype \n",
      "---  ------          --------------  ----- \n",
      " 0   user_id         956 non-null    int64 \n",
      " 1   retweet_count   925 non-null    object\n",
      " 2   reply_count     921 non-null    object\n",
      " 3   favorite_count  919 non-null    object\n",
      " 4   num_hashtags    892 non-null    object\n",
      " 5   num_urls        912 non-null    object\n",
      " 6   num_mentions    910 non-null    object\n",
      " 7   created_at      956 non-null    object\n",
      " 8   text            927 non-null    object\n",
      "dtypes: int64(1), object(8)\n",
      "memory usage: 74.7+ KB\n"
     ]
    }
   ],
   "source": [
    "#Cleaning 'user_id'\n",
    "#df_tweets['user_id'] = pd.to_numeric(df_tweets['user_id'], errors='ignore') # not needed\n",
    "\n",
    "df_tweets = df_tweets.drop(df_tweets[pd.to_numeric(df_tweets['user_id'], errors='coerce').isnull()].index)\n",
    "\n",
    "df_tweets['user_id'] = pd.to_numeric(df_tweets['user_id'], errors='ignore') # Olny after this instruction the column becomes numerics\n",
    "\n",
    "int_mask = df_tweets['user_id'].apply(lambda x : pd.api.types.is_integer(x)) # to keep only the integers\n",
    "\n",
    "df_tweets = df_tweets[int_mask]\n",
    "\n",
    "df_tweets.info()"
   ]
  },
  {
   "cell_type": "code",
   "execution_count": 58,
   "metadata": {},
   "outputs": [
    {
     "name": "stdout",
     "output_type": "stream",
     "text": [
      "<class 'pandas.core.frame.DataFrame'>\n",
      "Index: 956 entries, 509354017856950272 to 587485987414155264\n",
      "Data columns (total 9 columns):\n",
      " #   Column          Non-Null Count  Dtype \n",
      "---  ------          --------------  ----- \n",
      " 0   user_id         956 non-null    int64 \n",
      " 1   retweet_count   925 non-null    object\n",
      " 2   reply_count     921 non-null    object\n",
      " 3   favorite_count  919 non-null    object\n",
      " 4   num_hashtags    892 non-null    object\n",
      " 5   num_urls        912 non-null    object\n",
      " 6   num_mentions    910 non-null    object\n",
      " 7   created_at      956 non-null    object\n",
      " 8   text            927 non-null    object\n",
      "dtypes: int64(1), object(8)\n",
      "memory usage: 74.7+ KB\n"
     ]
    }
   ],
   "source": [
    "#Cleaning 'user_id'\n",
    "#df_tweets['user_id'] = pd.to_numeric(df_tweets['user_id'], errors='ignore') # not needed\n",
    "\n",
    "df_tweets = df_tweets.drop(df_tweets[pd.to_numeric(df_tweets['user_id'], errors='coerce').isnull()].index)\n",
    "\n",
    "df_tweets['user_id'] = pd.to_numeric(df_tweets['user_id'], errors='ignore') # Olny after this instruction the column becomes numerics\n",
    "\n",
    "int_mask = df_tweets['user_id'].apply(lambda x : pd.api.types.is_integer(x)) # to keep only the integers\n",
    "\n",
    "df_tweets = df_tweets[int_mask]\n",
    "\n",
    "df_tweets.info()"
   ]
  },
  {
   "cell_type": "code",
   "execution_count": 59,
   "metadata": {},
   "outputs": [
    {
     "name": "stdout",
     "output_type": "stream",
     "text": [
      "<class 'pandas.core.frame.DataFrame'>\n",
      "Index: 956 entries, 509354017856950272 to 587485987414155264\n",
      "Data columns (total 9 columns):\n",
      " #   Column          Non-Null Count  Dtype         \n",
      "---  ------          --------------  -----         \n",
      " 0   user_id         956 non-null    int64         \n",
      " 1   retweet_count   925 non-null    object        \n",
      " 2   reply_count     921 non-null    object        \n",
      " 3   favorite_count  919 non-null    object        \n",
      " 4   num_hashtags    892 non-null    object        \n",
      " 5   num_urls        912 non-null    object        \n",
      " 6   num_mentions    910 non-null    object        \n",
      " 7   created_at      956 non-null    datetime64[ns]\n",
      " 8   text            927 non-null    object        \n",
      "dtypes: datetime64[ns](1), int64(1), object(7)\n",
      "memory usage: 74.7+ KB\n"
     ]
    }
   ],
   "source": [
    "#Cleaning 'created_at' #da questo si può creare l'entropia dell'utente\n",
    "\n",
    "df_tweets['created_at'] = pd.to_datetime(df_tweets['created_at'], errors='coerce')\n",
    "\n",
    "df_tweets.info()"
   ]
  },
  {
   "cell_type": "code",
   "execution_count": 61,
   "metadata": {},
   "outputs": [
    {
     "name": "stdout",
     "output_type": "stream",
     "text": [
      "<class 'pandas.core.frame.DataFrame'>\n",
      "Index: 845 entries, 509354017856950272 to 587485987414155264\n",
      "Data columns (total 9 columns):\n",
      " #   Column          Non-Null Count  Dtype         \n",
      "---  ------          --------------  -----         \n",
      " 0   user_id         845 non-null    int64         \n",
      " 1   retweet_count   845 non-null    int64         \n",
      " 2   reply_count     845 non-null    float64       \n",
      " 3   favorite_count  845 non-null    float64       \n",
      " 4   num_hashtags    845 non-null    float64       \n",
      " 5   num_urls        845 non-null    float64       \n",
      " 6   num_mentions    845 non-null    int64         \n",
      " 7   created_at      845 non-null    datetime64[ns]\n",
      " 8   text            844 non-null    object        \n",
      "dtypes: datetime64[ns](1), float64(4), int64(3), object(1)\n",
      "memory usage: 98.3+ KB\n"
     ]
    }
   ],
   "source": [
    "df_tweets = df_tweets.drop(df_tweets[pd.to_numeric(df_tweets['retweet_count'], errors='coerce').isnull()].index)\n",
    "\n",
    "df_tweets['retweet_count'] = pd.to_numeric(df_tweets['retweet_count'], errors='ignore') # Only after this instruction the column becomes numerics\n",
    "\n",
    "\n",
    "df_tweets = df_tweets.drop(df_tweets[pd.to_numeric(df_tweets['reply_count'], errors='coerce').isnull()].index)\n",
    "\n",
    "df_tweets['reply_count'] = pd.to_numeric(df_tweets['reply_count'], errors='ignore') # Only after this instruction the column becomes numerics\n",
    "\n",
    "int_mask = df_tweets['reply_count'].apply(lambda x : pd.api.types.is_integer(x)) # to keep only the integers\n",
    "\n",
    "#df_tweets = df_tweets[int_mask]\n",
    "\n",
    "#df_tweets['reply_count'] = pd.to_numeric(df_tweets['reply_count'], errors='ignore') # Only after this instruction the column becomes numerics\n",
    "\n",
    "\n",
    "df_tweets = df_tweets.drop(df_tweets[pd.to_numeric(df_tweets['favorite_count'], errors='coerce').isnull()].index)\n",
    "\n",
    "df_tweets['favorite_count'] = pd.to_numeric(df_tweets['favorite_count'], errors='ignore') # Only after this instruction the column becomes numerics\n",
    "\n",
    "\n",
    "df_tweets = df_tweets.drop(df_tweets[pd.to_numeric(df_tweets['num_hashtags'], errors='coerce').isnull()].index)\n",
    "\n",
    "df_tweets['num_hashtags'] = pd.to_numeric(df_tweets['num_hashtags'], errors='ignore') # Only after this instruction the column becomes numerics\n",
    "\n",
    "\n",
    "df_tweets = df_tweets.drop(df_tweets[pd.to_numeric(df_tweets['num_urls'], errors='coerce').isnull()].index)\n",
    "\n",
    "df_tweets['num_urls'] = pd.to_numeric(df_tweets['num_urls'], errors='ignore') # Only after this instruction the column becomes numerics\n",
    "\n",
    "\n",
    "df_tweets = df_tweets.drop(df_tweets[pd.to_numeric(df_tweets['num_mentions'], errors='coerce').isnull()].index)\n",
    "\n",
    "df_tweets['num_mentions'] = pd.to_numeric(df_tweets['num_mentions'], errors='ignore') # Only after this instruction the column becomes numerics\n",
    "\n",
    "df_tweets[]"
   ]
  }
 ],
 "metadata": {
  "kernelspec": {
   "display_name": "Python 3.7.13 ('dataMiningEnv')",
   "language": "python",
   "name": "python3"
  },
  "language_info": {
   "codemirror_mode": {
    "name": "ipython",
    "version": 3
   },
   "file_extension": ".py",
   "mimetype": "text/x-python",
   "name": "python",
   "nbconvert_exporter": "python",
   "pygments_lexer": "ipython3",
   "version": "3.7.13"
  },
  "orig_nbformat": 4,
  "vscode": {
   "interpreter": {
    "hash": "ce66766ca3893cb1226d696fde69a866d0cab1d434d25c0e4ac78a42eaec01f7"
   }
  }
 },
 "nbformat": 4,
 "nbformat_minor": 2
}
