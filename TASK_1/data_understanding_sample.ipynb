{
 "cells": [
  {
   "cell_type": "markdown",
   "metadata": {},
   "source": [
    "# Task 1.1 Data Understanding\n",
    "*Alberto Roberto Marinelli, Giacomo Cignoni, Alessandro Bucci*\n",
    "## Importing Libraries\n",
    "First we import the libraries necessary to analyze the data"
   ]
  },
  {
   "cell_type": "code",
   "execution_count": 7,
   "metadata": {},
   "outputs": [],
   "source": [
    "import math\n",
    "import sys\n",
    "import numpy as np\n",
    "import pandas as pd\n",
    "import seaborn as sn\n",
    "import scipy.stats as stats\n",
    "import matplotlib.pyplot as plt\n",
    "from sklearn import decomposition"
   ]
  },
  {
   "cell_type": "code",
   "execution_count": 8,
   "metadata": {},
   "outputs": [],
   "source": [
    "pd.set_option('mode.use_inf_as_na', True)\n",
    "\n",
    "def mr_bins(number_of_samples):\n",
    "    return (np.log2(number_of_samples)).astype('int64') + 1\n"
   ]
  },
  {
   "cell_type": "markdown",
   "metadata": {},
   "source": [
    "Then we load the datasets"
   ]
  },
  {
   "cell_type": "code",
   "execution_count": 14,
   "metadata": {},
   "outputs": [],
   "source": [
    "df_tweets_sample = pd.read_csv('../dataset/tweets.csv', sep=',', index_col=0)  # load tweets\n",
    "df_users = pd.read_csv('../dataset/users.csv', sep=',', index_col=0)  # load users"
   ]
  },
  {
   "cell_type": "code",
   "execution_count": 10,
   "metadata": {},
   "outputs": [
    {
     "name": "stdout",
     "output_type": "stream",
     "text": [
      "<class 'pandas.core.frame.DataFrame'>\n",
      "Int64Index: 11508 entries, 2353593986 to 933183398\n",
      "Data columns (total 5 columns):\n",
      " #   Column          Non-Null Count  Dtype  \n",
      "---  ------          --------------  -----  \n",
      " 0   name            11507 non-null  object \n",
      " 1   lang            11508 non-null  object \n",
      " 2   bot             11508 non-null  int64  \n",
      " 3   created_at      11508 non-null  object \n",
      " 4   statuses_count  11109 non-null  float64\n",
      "dtypes: float64(1), int64(1), object(3)\n",
      "memory usage: 539.4+ KB\n"
     ]
    }
   ],
   "source": [
    "df_users.info()"
   ]
  },
  {
   "cell_type": "code",
   "execution_count": 11,
   "metadata": {},
   "outputs": [
    {
     "name": "stdout",
     "output_type": "stream",
     "text": [
      "<class 'pandas.core.frame.DataFrame'>\n",
      "Index: 136647 entries, 528578456452612097 to 520574848935153664\n",
      "Data columns (total 9 columns):\n",
      " #   Column          Non-Null Count   Dtype \n",
      "---  ------          --------------   ----- \n",
      " 0   user_id         134464 non-null  object\n",
      " 1   retweet_count   132232 non-null  object\n",
      " 2   reply_count     130163 non-null  object\n",
      " 3   favorite_count  130128 non-null  object\n",
      " 4   num_hashtags    126020 non-null  object\n",
      " 5   num_urls        130145 non-null  object\n",
      " 6   num_mentions    128069 non-null  object\n",
      " 7   created_at      136647 non-null  object\n",
      " 8   text            131286 non-null  object\n",
      "dtypes: object(9)\n",
      "memory usage: 10.4+ MB\n"
     ]
    }
   ],
   "source": [
    "df_tweets_sample.info()"
   ]
  },
  {
   "cell_type": "code",
   "execution_count": 12,
   "metadata": {},
   "outputs": [
    {
     "data": {
      "text/html": [
       "<div>\n",
       "<style scoped>\n",
       "    .dataframe tbody tr th:only-of-type {\n",
       "        vertical-align: middle;\n",
       "    }\n",
       "\n",
       "    .dataframe tbody tr th {\n",
       "        vertical-align: top;\n",
       "    }\n",
       "\n",
       "    .dataframe thead th {\n",
       "        text-align: right;\n",
       "    }\n",
       "</style>\n",
       "<table border=\"1\" class=\"dataframe\">\n",
       "  <thead>\n",
       "    <tr style=\"text-align: right;\">\n",
       "      <th></th>\n",
       "      <th>user_id</th>\n",
       "      <th>retweet_count</th>\n",
       "      <th>reply_count</th>\n",
       "      <th>favorite_count</th>\n",
       "      <th>num_hashtags</th>\n",
       "      <th>num_urls</th>\n",
       "      <th>num_mentions</th>\n",
       "      <th>created_at</th>\n",
       "      <th>text</th>\n",
       "    </tr>\n",
       "    <tr>\n",
       "      <th>id</th>\n",
       "      <th></th>\n",
       "      <th></th>\n",
       "      <th></th>\n",
       "      <th></th>\n",
       "      <th></th>\n",
       "      <th></th>\n",
       "      <th></th>\n",
       "      <th></th>\n",
       "      <th></th>\n",
       "    </tr>\n",
       "  </thead>\n",
       "  <tbody>\n",
       "    <tr>\n",
       "      <th>528578456452612097</th>\n",
       "      <td>567430901</td>\n",
       "      <td>0</td>\n",
       "      <td>0</td>\n",
       "      <td>0</td>\n",
       "      <td>0</td>\n",
       "      <td>0</td>\n",
       "      <td>0</td>\n",
       "      <td>2019-11-03 16:04:59</td>\n",
       "      <td>La sera, a letto.Lui:- FarÃ² di te la donna pi...</td>\n",
       "    </tr>\n",
       "    <tr>\n",
       "      <th>492852780101406721</th>\n",
       "      <td>277506943</td>\n",
       "      <td>0</td>\n",
       "      <td>0</td>\n",
       "      <td>2</td>\n",
       "      <td>1</td>\n",
       "      <td>0</td>\n",
       "      <td>0</td>\n",
       "      <td>2019-07-28 02:03:54</td>\n",
       "      <td>#RFGoNaked http://t.co/eaf1sO4TWL</td>\n",
       "    </tr>\n",
       "    <tr>\n",
       "      <th>888885286917605</th>\n",
       "      <td>317296274</td>\n",
       "      <td>0</td>\n",
       "      <td>dcl83oci</td>\n",
       "      <td>NaN</td>\n",
       "      <td>NaN</td>\n",
       "      <td>NaN</td>\n",
       "      <td>NaN</td>\n",
       "      <td>2020-03-21 17:43:22</td>\n",
       "      <td>Volunteers report 100% retail tobacco complian...</td>\n",
       "    </tr>\n",
       "    <tr>\n",
       "      <th>516101108960206848</th>\n",
       "      <td>1372026204</td>\n",
       "      <td>0</td>\n",
       "      <td>0</td>\n",
       "      <td>0</td>\n",
       "      <td>4</td>\n",
       "      <td>1</td>\n",
       "      <td>0</td>\n",
       "      <td>2019-09-30 05:44:27</td>\n",
       "      <td>What HR Lessons Did I Learn Whilst Managing Me...</td>\n",
       "    </tr>\n",
       "    <tr>\n",
       "      <th>528187250392461312</th>\n",
       "      <td>468101494</td>\n",
       "      <td>0</td>\n",
       "      <td>0</td>\n",
       "      <td>0</td>\n",
       "      <td>0</td>\n",
       "      <td>0</td>\n",
       "      <td>0</td>\n",
       "      <td>2019-11-02 14:10:28</td>\n",
       "      <td>-Cara, ti voglio POSSEDERE dove non te ti ha m...</td>\n",
       "    </tr>\n",
       "    <tr>\n",
       "      <th>...</th>\n",
       "      <td>...</td>\n",
       "      <td>...</td>\n",
       "      <td>...</td>\n",
       "      <td>...</td>\n",
       "      <td>...</td>\n",
       "      <td>...</td>\n",
       "      <td>...</td>\n",
       "      <td>...</td>\n",
       "      <td>...</td>\n",
       "    </tr>\n",
       "    <tr>\n",
       "      <th>500184073814700033</th>\n",
       "      <td>576148031</td>\n",
       "      <td>0</td>\n",
       "      <td>0</td>\n",
       "      <td>0</td>\n",
       "      <td>0</td>\n",
       "      <td>0</td>\n",
       "      <td>0</td>\n",
       "      <td>2019-08-17 07:35:50</td>\n",
       "      <td>Porta bene Renzi!  Grazie \"presidente\"</td>\n",
       "    </tr>\n",
       "    <tr>\n",
       "      <th>578072909085724672</th>\n",
       "      <td>25693756</td>\n",
       "      <td>0</td>\n",
       "      <td>0</td>\n",
       "      <td>0</td>\n",
       "      <td>0</td>\n",
       "      <td>0</td>\n",
       "      <td>1</td>\n",
       "      <td>2020-03-19 05:58:16</td>\n",
       "      <td>@malakhstudios You OK?</td>\n",
       "    </tr>\n",
       "    <tr>\n",
       "      <th>588013533557841920</th>\n",
       "      <td>2395918790</td>\n",
       "      <td>0</td>\n",
       "      <td>0</td>\n",
       "      <td>0</td>\n",
       "      <td>0</td>\n",
       "      <td>0</td>\n",
       "      <td>0</td>\n",
       "      <td>2020-04-15 16:18:45</td>\n",
       "      <td>If there is Jacob Whiteside, there is also Jac...</td>\n",
       "    </tr>\n",
       "    <tr>\n",
       "      <th>591597103090020352</th>\n",
       "      <td>2290983830</td>\n",
       "      <td>8</td>\n",
       "      <td>0</td>\n",
       "      <td>0</td>\n",
       "      <td>0</td>\n",
       "      <td>0</td>\n",
       "      <td>1</td>\n",
       "      <td>2020-04-25 13:38:35</td>\n",
       "      <td>RT @Katie_Edwards_: RT if you like watermelon!...</td>\n",
       "    </tr>\n",
       "    <tr>\n",
       "      <th>520574848935153664</th>\n",
       "      <td>161256906</td>\n",
       "      <td>0</td>\n",
       "      <td>0</td>\n",
       "      <td>0</td>\n",
       "      <td>0</td>\n",
       "      <td>1</td>\n",
       "      <td>0</td>\n",
       "      <td>2019-10-12 14:01:30</td>\n",
       "      <td>Check out these top 10 science fiction authors...</td>\n",
       "    </tr>\n",
       "  </tbody>\n",
       "</table>\n",
       "<p>136647 rows × 9 columns</p>\n",
       "</div>"
      ],
      "text/plain": [
       "                       user_id retweet_count reply_count favorite_count  \\\n",
       "id                                                                        \n",
       "528578456452612097   567430901             0           0              0   \n",
       "492852780101406721   277506943             0           0              2   \n",
       "888885286917605      317296274             0    dcl83oci            NaN   \n",
       "516101108960206848  1372026204             0           0              0   \n",
       "528187250392461312   468101494             0           0              0   \n",
       "...                        ...           ...         ...            ...   \n",
       "500184073814700033   576148031             0           0              0   \n",
       "578072909085724672    25693756             0           0              0   \n",
       "588013533557841920  2395918790             0           0              0   \n",
       "591597103090020352  2290983830             8           0              0   \n",
       "520574848935153664   161256906             0           0              0   \n",
       "\n",
       "                   num_hashtags num_urls num_mentions           created_at  \\\n",
       "id                                                                           \n",
       "528578456452612097            0        0            0  2019-11-03 16:04:59   \n",
       "492852780101406721            1        0            0  2019-07-28 02:03:54   \n",
       "888885286917605             NaN      NaN          NaN  2020-03-21 17:43:22   \n",
       "516101108960206848            4        1            0  2019-09-30 05:44:27   \n",
       "528187250392461312            0        0            0  2019-11-02 14:10:28   \n",
       "...                         ...      ...          ...                  ...   \n",
       "500184073814700033            0        0            0  2019-08-17 07:35:50   \n",
       "578072909085724672            0        0            1  2020-03-19 05:58:16   \n",
       "588013533557841920            0        0            0  2020-04-15 16:18:45   \n",
       "591597103090020352            0        0            1  2020-04-25 13:38:35   \n",
       "520574848935153664            0        1            0  2019-10-12 14:01:30   \n",
       "\n",
       "                                                                 text  \n",
       "id                                                                     \n",
       "528578456452612097  La sera, a letto.Lui:- FarÃ² di te la donna pi...  \n",
       "492852780101406721                  #RFGoNaked http://t.co/eaf1sO4TWL  \n",
       "888885286917605     Volunteers report 100% retail tobacco complian...  \n",
       "516101108960206848  What HR Lessons Did I Learn Whilst Managing Me...  \n",
       "528187250392461312  -Cara, ti voglio POSSEDERE dove non te ti ha m...  \n",
       "...                                                               ...  \n",
       "500184073814700033             Porta bene Renzi!  Grazie \"presidente\"  \n",
       "578072909085724672                             @malakhstudios You OK?  \n",
       "588013533557841920  If there is Jacob Whiteside, there is also Jac...  \n",
       "591597103090020352  RT @Katie_Edwards_: RT if you like watermelon!...  \n",
       "520574848935153664  Check out these top 10 science fiction authors...  \n",
       "\n",
       "[136647 rows x 9 columns]"
      ]
     },
     "execution_count": 12,
     "metadata": {},
     "output_type": "execute_result"
    }
   ],
   "source": [
    "df_tweets_sample"
   ]
  },
  {
   "cell_type": "markdown",
   "metadata": {},
   "source": []
  },
  {
   "cell_type": "markdown",
   "metadata": {},
   "source": [
    "## Features informations\n",
    "### Users dataset\n",
    "id, name, lang, bot, created_at and statuses_count\n",
    "* **id** (*Numerical*)\n",
    "  * Type: **Int64**\n",
    "  * Description: Is the identifier of the single user, it will be used to join the datasets, so it is necessary that this data is a non-null integer.\n",
    "* **name** (*Categorical*)\n",
    "  * Type: **String**\n",
    "  * Description: The name of the user.\n",
    "* **lang** (*Categorical*)\n",
    "  * Type: **String**\n",
    "  * Description: The user’s language selected\n",
    "* **bot** (*Numerical*)\n",
    "  * Type: **Boolean**\n",
    "  * Description: A binary variable that indicates if a user is a bot or a genuine user\n",
    "* **created_at** (*Numerical*)\n",
    "  * Type: **Datetime64**\n",
    "  * Description: The timestamp of when the user was created\n",
    "* **statuses_count** (*Numerical*)\n",
    "  * Type: **Int64**\n",
    "  * Description: The count of the tweets made by the user at the moment of data crawling.\n",
    "### Tweets dataset\n",
    "* **id** (*Numerical*)\n",
    "  * Type: **Object**\n",
    "  * Description: Is the identifier of the single tweet, it should be int64, but we decided to consder it object because it does not affect the data if it is not an integer.\n",
    "* **user_id** (*Numerical*)\n",
    "  * Type: **Int64**\n",
    "  * Description: Is the identifier of the single user, it will be used to join the datasets, so it is necessary that this data is a non-null integer\n",
    "* **retweet_count** (*Numerical*)\n",
    "  * Type: **Int64**\n",
    "  * Description: The number of retweets of the single tweet\n",
    "* **reply_count** (*Numerical*)\n",
    "  * Type: **Int64**\n",
    "  * Description: The number of replies of the single tweet\n",
    "* **favorite_count** (*Numerical*)\n",
    "  * Type: **Int64**\n",
    "  * Description: The number of favorites (or likes) of the single tweet\n",
    "* **num_hashtags** (*Numerical*)\n",
    "  * Type: **Int64**\n",
    "  * Description: The number of hashtags in the single tweet\n",
    "* **num_urls** (*Numerical*)\n",
    "  * Type: **Int64**\n",
    "  * Description: The number of urls in the single tweet\n",
    "* **num_mentions** (*Numerical*)\n",
    "  * Type: **Int64**\n",
    "  * Description: The number of mentions in the single tweet\n",
    "* **created_at** (*Numerical*)\n",
    "  * Type: **Datetime64**\n",
    "  * Description: The timestamp of when the single tweet was created\n",
    "* **text** (*Categorical*)\n",
    "  * Type: **String**\n",
    "  * Description: The text of the single tweet"
   ]
  },
  {
   "cell_type": "markdown",
   "metadata": {},
   "source": [
    "# Datatype Casting\n",
    "## Users dataframe casting"
   ]
  },
  {
   "cell_type": "code",
   "execution_count": null,
   "metadata": {},
   "outputs": [
    {
     "name": "stdout",
     "output_type": "stream",
     "text": [
      "<class 'pandas.core.frame.DataFrame'>\n",
      "Int64Index: 11508 entries, 2353593986 to 933183398\n",
      "Data columns (total 5 columns):\n",
      " #   Column          Non-Null Count  Dtype  \n",
      "---  ------          --------------  -----  \n",
      " 0   name            11507 non-null  object \n",
      " 1   lang            11508 non-null  object \n",
      " 2   bot             11508 non-null  int64  \n",
      " 3   created_at      11508 non-null  object \n",
      " 4   statuses_count  11109 non-null  float64\n",
      "dtypes: float64(1), int64(1), object(3)\n",
      "memory usage: 539.4+ KB\n"
     ]
    }
   ],
   "source": [
    "df_users.info()"
   ]
  },
  {
   "cell_type": "markdown",
   "metadata": {},
   "source": [
    "Cast name and lang columns to string and created_at to DateTime in df_users"
   ]
  },
  {
   "cell_type": "code",
   "execution_count": null,
   "metadata": {},
   "outputs": [],
   "source": [
    "df_users.name = df_users.name.astype('string')\n",
    "df_users.lang = df_users.lang.astype('string')\n"
   ]
  },
  {
   "cell_type": "markdown",
   "metadata": {},
   "source": [
    "Showing how 'lang' is composed with a logarithmic scale bar plot"
   ]
  },
  {
   "cell_type": "code",
   "execution_count": null,
   "metadata": {},
   "outputs": [
    {
     "name": "stdout",
     "output_type": "stream",
     "text": [
      "Langs in the user dataset:\n",
      "en                    0.866354\n",
      "it                    0.078728\n",
      "es                    0.027720\n",
      "pt                    0.005648\n",
      "en-gb                 0.004345\n",
      "ru                    0.003650\n",
      "fr                    0.003128\n",
      "ja                    0.002868\n",
      "zh-tw                 0.001477\n",
      "tr                    0.001217\n",
      "id                    0.001043\n",
      "ko                    0.000782\n",
      "de                    0.000695\n",
      "nl                    0.000521\n",
      "en-GB                 0.000348\n",
      "ar                    0.000261\n",
      "zh-TW                 0.000261\n",
      "Select Language...    0.000174\n",
      "da                    0.000174\n",
      "zh-cn                 0.000087\n",
      "sv                    0.000087\n",
      "el                    0.000087\n",
      "fil                   0.000087\n",
      "xx-lc                 0.000087\n",
      "pl                    0.000087\n",
      "en-AU                 0.000087\n",
      "Name: lang, dtype: float64\n"
     ]
    },
    {
     "data": {
      "image/png": "[encoded data removed]",
      "text/plain": [
       "<Figure size 432x288 with 1 Axes>"
      ]
     },
     "metadata": {
      "needs_background": "light"
     },
     "output_type": "display_data"
    }
   ],
   "source": [
    "lang_distribution = df_users.lang.value_counts(normalize=True)\n",
    "print('Langs in the user dataset:')\n",
    "print(lang_distribution)\n",
    "\n",
    "lang_distribution.plot(kind=\"bar\")\n",
    "plt.yscale('log')"
   ]
  },
  {
   "cell_type": "markdown",
   "metadata": {},
   "source": [
    "We decided that if the lang contains a dash, we'll take into consideration only the lang before it.\n",
    "\n",
    "E.g.: \"en-gb\" will become \"en\", \"zh-tw\" will become \"zh\"."
   ]
  },
  {
   "cell_type": "code",
   "execution_count": null,
   "metadata": {},
   "outputs": [],
   "source": [
    "import re\n",
    "\n",
    "def lang_correction(lang_string):\n",
    "    lang = lang_string\n",
    "    lang = re.sub('-.*$', '', lang)\n",
    "\n",
    "    return lang\n",
    "\n",
    "df_users.lang = df_users.lang.apply(lang_correction)\n"
   ]
  },
  {
   "cell_type": "markdown",
   "metadata": {},
   "source": [
    "Substituting \"Select Language...\" with the mode. "
   ]
  },
  {
   "cell_type": "code",
   "execution_count": null,
   "metadata": {},
   "outputs": [],
   "source": [
    "df_users.lang.replace(to_replace=\"Select Language...\",value=df_users.lang.mode()[0], inplace=True)"
   ]
  },
  {
   "cell_type": "markdown",
   "metadata": {},
   "source": [
    "We looked at the tweets with the user id equal to the one who has 'lang' equal to xx, and determined that theier posts were english, so we changed 'lang' to 'en', which is also the mode.\n",
    "\n",
    "TODO: check if other strange languages in full tweets dataset"
   ]
  },
  {
   "cell_type": "code",
   "execution_count": null,
   "metadata": {},
   "outputs": [],
   "source": [
    "df_users.lang.replace(to_replace=\"xx\",value=df_users.lang.mode()[0], inplace=True)"
   ]
  },
  {
   "cell_type": "markdown",
   "metadata": {},
   "source": [
    "Displaying the cleaned 'lang' in log scale:"
   ]
  },
  {
   "cell_type": "code",
   "execution_count": null,
   "metadata": {},
   "outputs": [
    {
     "name": "stdout",
     "output_type": "stream",
     "text": [
      "Langs in the user dataset:\n",
      "en     0.871394\n",
      "it     0.078728\n",
      "es     0.027720\n",
      "pt     0.005648\n",
      "ru     0.003650\n",
      "fr     0.003128\n",
      "ja     0.002868\n",
      "zh     0.001825\n",
      "tr     0.001217\n",
      "id     0.001043\n",
      "ko     0.000782\n",
      "de     0.000695\n",
      "nl     0.000521\n",
      "ar     0.000261\n",
      "da     0.000174\n",
      "el     0.000087\n",
      "fil    0.000087\n",
      "pl     0.000087\n",
      "sv     0.000087\n",
      "Name: lang, dtype: float64\n"
     ]
    },
    {
     "data": {
      "image/png": "[encoded data removed]",
      "text/plain": [
       "<Figure size 432x288 with 1 Axes>"
      ]
     },
     "metadata": {
      "needs_background": "light"
     },
     "output_type": "display_data"
    }
   ],
   "source": [
    "lang_distribution = df_users.lang.value_counts(normalize=True)\n",
    "print('Langs in the user dataset:')\n",
    "print(lang_distribution)\n",
    "\n",
    "lang_distribution.plot(kind=\"bar\")\n",
    "plt.yscale('log')"
   ]
  },
  {
   "cell_type": "markdown",
   "metadata": {},
   "source": [
    "Cast statuses_count to Int64, bot to bool and created_at to DateTime in df_users"
   ]
  },
  {
   "cell_type": "code",
   "execution_count": null,
   "metadata": {},
   "outputs": [],
   "source": [
    "df_users.statuses_count = df_users.statuses_count.astype('Int64', errors='raise')\n",
    "df_users.bot = df_users.bot.astype('bool', errors='raise')\n",
    "df_users.created_at = pd.to_datetime(df_users.created_at, errors='coerce')\n"
   ]
  },
  {
   "cell_type": "code",
   "execution_count": null,
   "metadata": {},
   "outputs": [
    {
     "name": "stdout",
     "output_type": "stream",
     "text": [
      "<class 'pandas.core.frame.DataFrame'>\n",
      "Int64Index: 11508 entries, 2353593986 to 933183398\n",
      "Data columns (total 5 columns):\n",
      " #   Column          Non-Null Count  Dtype         \n",
      "---  ------          --------------  -----         \n",
      " 0   name            11507 non-null  string        \n",
      " 1   lang            11508 non-null  object        \n",
      " 2   bot             11508 non-null  bool          \n",
      " 3   created_at      11508 non-null  datetime64[ns]\n",
      " 4   statuses_count  11109 non-null  Int64         \n",
      "dtypes: Int64(1), bool(1), datetime64[ns](1), object(1), string(1)\n",
      "memory usage: 472.0+ KB\n"
     ]
    }
   ],
   "source": [
    "df_users.info()"
   ]
  },
  {
   "cell_type": "markdown",
   "metadata": {},
   "source": [
    "## Tweets dataframe casting\n",
    "\n",
    "Int64 casting for numeric columns in df_tweets"
   ]
  },
  {
   "cell_type": "code",
   "execution_count": null,
   "metadata": {},
   "outputs": [
    {
     "name": "stdout",
     "output_type": "stream",
     "text": [
      "<class 'pandas.core.frame.DataFrame'>\n",
      "Index: 136648 entries, 528578456452612097 to 520574848935153664\n",
      "Data columns (total 9 columns):\n",
      " #   Column          Non-Null Count   Dtype \n",
      "---  ------          --------------   ----- \n",
      " 0   user_id         134465 non-null  object\n",
      " 1   retweet_count   132233 non-null  object\n",
      " 2   reply_count     130164 non-null  object\n",
      " 3   favorite_count  130128 non-null  object\n",
      " 4   num_hashtags    126021 non-null  object\n",
      " 5   num_urls        130146 non-null  object\n",
      " 6   num_mentions    128069 non-null  object\n",
      " 7   created_at      136648 non-null  object\n",
      " 8   text            131287 non-null  object\n",
      "dtypes: object(9)\n",
      "memory usage: 15.4+ MB\n"
     ]
    }
   ],
   "source": [
    "df_tweets_sample.info()"
   ]
  },
  {
   "cell_type": "code",
   "execution_count": 15,
   "metadata": {},
   "outputs": [],
   "source": [
    "def cast_int(x):\n",
    "    try:\n",
    "        return np.int64(x)\n",
    "    except:\n",
    "        return pd.NA\n",
    "    \n",
    "\n",
    "for col_name in df_tweets_sample.iloc[:, : 7]:\n",
    "    # Cast objects to float. after this instruction the column becomes numerics\n",
    "    df_tweets_sample[col_name] = pd.to_numeric(df_tweets_sample[col_name], downcast= 'float', errors='coerce')\n",
    "\n",
    "    # Substitute values outside of Int64 limits with NaN\n",
    "    df_tweets_sample[col_name] = df_tweets_sample[col_name].apply(cast_int)\n",
    "\n",
    "    # Cast to Int64\n",
    "    df_tweets_sample[col_name] = df_tweets_sample[col_name].astype('Int64', errors='raise')\n",
    "\n"
   ]
  },
  {
   "cell_type": "markdown",
   "metadata": {},
   "source": [
    "Cast text column to string and created_at to DateTime in df_tweets"
   ]
  },
  {
   "cell_type": "code",
   "execution_count": 16,
   "metadata": {},
   "outputs": [],
   "source": [
    "df_tweets_sample.text = df_tweets_sample.text.astype('string')\n",
    "df_tweets_sample.created_at = pd.to_datetime(df_tweets_sample.created_at, errors='coerce')"
   ]
  },
  {
   "cell_type": "code",
   "execution_count": 17,
   "metadata": {},
   "outputs": [
    {
     "name": "stdout",
     "output_type": "stream",
     "text": [
      "<class 'pandas.core.frame.DataFrame'>\n",
      "Index: 13664696 entries, 509354017856950272 to 486479812614451200\n",
      "Data columns (total 9 columns):\n",
      " #   Column          Dtype         \n",
      "---  ------          -----         \n",
      " 0   user_id         Int64         \n",
      " 1   retweet_count   Int64         \n",
      " 2   reply_count     Int64         \n",
      " 3   favorite_count  Int64         \n",
      " 4   num_hashtags    Int64         \n",
      " 5   num_urls        Int64         \n",
      " 6   num_mentions    Int64         \n",
      " 7   created_at      datetime64[ns]\n",
      " 8   text            string        \n",
      "dtypes: Int64(7), datetime64[ns](1), string(1)\n",
      "memory usage: 1.1+ GB\n"
     ]
    }
   ],
   "source": [
    "df_tweets_sample.info()"
   ]
  },
  {
   "cell_type": "code",
   "execution_count": 340,
   "metadata": {},
   "outputs": [
    {
     "data": {
      "text/plain": [
       "<AxesSubplot:ylabel='id'>"
      ]
     },
     "execution_count": 340,
     "metadata": {},
     "output_type": "execute_result"
    },
    {
     "data": {
      "image/png": "[encoded data removed]",
      "text/plain": [
       "<Figure size 864x360 with 1 Axes>"
      ]
     },
     "metadata": {
      "needs_background": "light"
     },
     "output_type": "display_data"
    }
   ],
   "source": [
    "fig, ax = plt.subplots(figsize=(12,5)) \n",
    "sn.heatmap(df_tweets_sample.isnull(), cbar=False, xticklabels=True, ax=ax, yticklabels=False)"
   ]
  },
  {
   "cell_type": "markdown",
   "metadata": {},
   "source": [
    "Drop tweets where user_id is NaN"
   ]
  },
  {
   "cell_type": "code",
   "execution_count": 341,
   "metadata": {},
   "outputs": [],
   "source": [
    "df_tweets_sample.dropna(subset=['user_id'], how='any', inplace=True)"
   ]
  },
  {
   "cell_type": "code",
   "execution_count": 342,
   "metadata": {},
   "outputs": [
    {
     "data": {
      "text/html": [
       "<div>\n",
       "<style scoped>\n",
       "    .dataframe tbody tr th:only-of-type {\n",
       "        vertical-align: middle;\n",
       "    }\n",
       "\n",
       "    .dataframe tbody tr th {\n",
       "        vertical-align: top;\n",
       "    }\n",
       "\n",
       "    .dataframe thead th {\n",
       "        text-align: right;\n",
       "    }\n",
       "</style>\n",
       "<table border=\"1\" class=\"dataframe\">\n",
       "  <thead>\n",
       "    <tr style=\"text-align: right;\">\n",
       "      <th></th>\n",
       "      <th>lang</th>\n",
       "      <th>bot</th>\n",
       "      <th>created_at</th>\n",
       "      <th>statuses_count</th>\n",
       "    </tr>\n",
       "    <tr>\n",
       "      <th>id</th>\n",
       "      <th></th>\n",
       "      <th></th>\n",
       "      <th></th>\n",
       "      <th></th>\n",
       "    </tr>\n",
       "  </thead>\n",
       "  <tbody>\n",
       "    <tr>\n",
       "      <th>2353593986</th>\n",
       "      <td>en</td>\n",
       "      <td>True</td>\n",
       "      <td>2019-02-22 18:00:42</td>\n",
       "      <td>76</td>\n",
       "    </tr>\n",
       "    <tr>\n",
       "      <th>2358850842</th>\n",
       "      <td>en</td>\n",
       "      <td>False</td>\n",
       "      <td>2019-02-26 03:02:32</td>\n",
       "      <td>54</td>\n",
       "    </tr>\n",
       "    <tr>\n",
       "      <th>137959629</th>\n",
       "      <td>en</td>\n",
       "      <td>True</td>\n",
       "      <td>2015-04-30 07:09:56</td>\n",
       "      <td>3</td>\n",
       "    </tr>\n",
       "    <tr>\n",
       "      <th>466124818</th>\n",
       "      <td>it</td>\n",
       "      <td>True</td>\n",
       "      <td>2017-01-18 02:49:18</td>\n",
       "      <td>50</td>\n",
       "    </tr>\n",
       "    <tr>\n",
       "      <th>2571493866</th>\n",
       "      <td>en</td>\n",
       "      <td>False</td>\n",
       "      <td>2019-06-18 19:30:21</td>\n",
       "      <td>7085</td>\n",
       "    </tr>\n",
       "    <tr>\n",
       "      <th>...</th>\n",
       "      <td>...</td>\n",
       "      <td>...</td>\n",
       "      <td>...</td>\n",
       "      <td>...</td>\n",
       "    </tr>\n",
       "    <tr>\n",
       "      <th>2911861962</th>\n",
       "      <td>en</td>\n",
       "      <td>False</td>\n",
       "      <td>2019-11-29 13:16:02</td>\n",
       "      <td>1126</td>\n",
       "    </tr>\n",
       "    <tr>\n",
       "      <th>1378532629</th>\n",
       "      <td>en</td>\n",
       "      <td>False</td>\n",
       "      <td>2018-04-27 03:01:58</td>\n",
       "      <td>3024</td>\n",
       "    </tr>\n",
       "    <tr>\n",
       "      <th>126984069</th>\n",
       "      <td>es</td>\n",
       "      <td>False</td>\n",
       "      <td>2015-03-29 17:01:24</td>\n",
       "      <td>6</td>\n",
       "    </tr>\n",
       "    <tr>\n",
       "      <th>2383025796</th>\n",
       "      <td>en</td>\n",
       "      <td>True</td>\n",
       "      <td>2019-03-13 02:44:13</td>\n",
       "      <td>42</td>\n",
       "    </tr>\n",
       "    <tr>\n",
       "      <th>933183398</th>\n",
       "      <td>en</td>\n",
       "      <td>False</td>\n",
       "      <td>2017-11-09 23:24:16</td>\n",
       "      <td>5279</td>\n",
       "    </tr>\n",
       "  </tbody>\n",
       "</table>\n",
       "<p>11508 rows × 4 columns</p>\n",
       "</div>"
      ],
      "text/plain": [
       "           lang    bot          created_at  statuses_count\n",
       "id                                                        \n",
       "2353593986   en   True 2019-02-22 18:00:42              76\n",
       "2358850842   en  False 2019-02-26 03:02:32              54\n",
       "137959629    en   True 2015-04-30 07:09:56               3\n",
       "466124818    it   True 2017-01-18 02:49:18              50\n",
       "2571493866   en  False 2019-06-18 19:30:21            7085\n",
       "...         ...    ...                 ...             ...\n",
       "2911861962   en  False 2019-11-29 13:16:02            1126\n",
       "1378532629   en  False 2018-04-27 03:01:58            3024\n",
       "126984069    es  False 2015-03-29 17:01:24               6\n",
       "2383025796   en   True 2019-03-13 02:44:13              42\n",
       "933183398    en  False 2017-11-09 23:24:16            5279\n",
       "\n",
       "[11508 rows x 4 columns]"
      ]
     },
     "execution_count": 342,
     "metadata": {},
     "output_type": "execute_result"
    }
   ],
   "source": [
    "df_users.drop(columns=['name'])"
   ]
  },
  {
   "cell_type": "markdown",
   "metadata": {},
   "source": [
    "# Joining tables\n",
    "Joining the tables to make sure we work only on the user into the user DB"
   ]
  },
  {
   "cell_type": "code",
   "execution_count": 343,
   "metadata": {},
   "outputs": [],
   "source": [
    "#df_joined = df_tweets_sample.join(df_users, on='user_id', how='inner', lsuffix='_tweet', rsuffix='_user')\n",
    "df_joined = df_tweets_sample.join(df_users, on='user_id', how='inner', lsuffix='_tweet', rsuffix='_user')"
   ]
  },
  {
   "cell_type": "code",
   "execution_count": 344,
   "metadata": {},
   "outputs": [
    {
     "name": "stdout",
     "output_type": "stream",
     "text": [
      "<class 'pandas.core.frame.DataFrame'>\n",
      "Index: 10579 entries, 46646049035625229 to 20257469400702069\n",
      "Data columns (total 14 columns):\n",
      " #   Column            Non-Null Count  Dtype         \n",
      "---  ------            --------------  -----         \n",
      " 0   user_id           10579 non-null  Int64         \n",
      " 1   retweet_count     10225 non-null  Int64         \n",
      " 2   reply_count       10167 non-null  Int64         \n",
      " 3   favorite_count    10147 non-null  Int64         \n",
      " 4   num_hashtags      9984 non-null   Int64         \n",
      " 5   num_urls          10160 non-null  Int64         \n",
      " 6   num_mentions      10069 non-null  Int64         \n",
      " 7   created_at_tweet  10579 non-null  datetime64[ns]\n",
      " 8   text              10327 non-null  string        \n",
      " 9   name              10579 non-null  string        \n",
      " 10  lang              10579 non-null  object        \n",
      " 11  bot               10579 non-null  bool          \n",
      " 12  created_at_user   10579 non-null  datetime64[ns]\n",
      " 13  statuses_count    10577 non-null  Int64         \n",
      "dtypes: Int64(8), bool(1), datetime64[ns](2), object(1), string(2)\n",
      "memory usage: 1.2+ MB\n"
     ]
    }
   ],
   "source": [
    "df_joined.num_hashtags = df_joined.num_hashtags.astype('Int64')\n",
    "df_joined.num_mentions = df_joined.num_mentions.astype('Int64')\n",
    "df_joined.info()"
   ]
  },
  {
   "cell_type": "markdown",
   "metadata": {},
   "source": [
    "Function that returns the substitute attribute of a tweet. It ish the median value of the attribute of other tweets of the same user, if there are enough valid tweets, otherwise it is the median value from users which have same 'bot' attribute"
   ]
  },
  {
   "cell_type": "markdown",
   "metadata": {},
   "source": [
    "# Outliers Detection\n",
    "\n",
    "We now explore the distributions in order to find the outliers of each attribute."
   ]
  },
  {
   "cell_type": "markdown",
   "metadata": {},
   "source": [
    "## User Outliers\n",
    "\n",
    "We check 'created_at' whit a bar plot by year."
   ]
  },
  {
   "cell_type": "code",
   "execution_count": 345,
   "metadata": {},
   "outputs": [
    {
     "data": {
      "text/plain": [
       "<AxesSubplot:xlabel='created_at'>"
      ]
     },
     "execution_count": 345,
     "metadata": {},
     "output_type": "execute_result"
    },
    {
     "data": {
      "image/png": "[encoded data removed]",
      "text/plain": [
       "<Figure size 432x288 with 1 Axes>"
      ]
     },
     "metadata": {
      "needs_background": "light"
     },
     "output_type": "display_data"
    }
   ],
   "source": [
    "df_users.created_at.groupby(df_users.created_at.dt.year).count().plot(kind='bar')"
   ]
  },
  {
   "cell_type": "markdown",
   "metadata": {},
   "source": [
    "Since Twitter was founded in 2006 and the oldest user is from 2012, there are no lower bound outliers.\n",
    "\n",
    "Since the crawling was done in 2020, and there are no users created later than 2020, there are no upper bound outliers.\n",
    "\n",
    "Now we check \"statuses_count\""
   ]
  },
  {
   "cell_type": "code",
   "execution_count": 346,
   "metadata": {},
   "outputs": [
    {
     "data": {
      "image/png": "[encoded data removed]",
      "text/plain": [
       "<Figure size 1152x360 with 2 Axes>"
      ]
     },
     "metadata": {
      "needs_background": "light"
     },
     "output_type": "display_data"
    }
   ],
   "source": [
    "\n",
    "fig, (ax1, ax2) = plt.subplots(1, 2, figsize=(16, 5))\n",
    "df_users.boxplot(column=\"statuses_count\", ax=ax1)\n",
    "ax1.set_yscale('log')\n",
    "df_users.hist(column=\"statuses_count\", ax=ax2, stacked=True, bins=mr_bins(df_users.statuses_count.count()))\n",
    "ax2.set_yscale('log')\n",
    "fig.subplots_adjust(wspace=0.3)\n"
   ]
  },
  {
   "cell_type": "markdown",
   "metadata": {},
   "source": [
    "There are no outliers, because there is no limit on how much a user can publish in a given period of time and also there are not negative values that would be invalid.\n",
    "\n",
    "## Tweets Outliers"
   ]
  },
  {
   "cell_type": "markdown",
   "metadata": {},
   "source": []
  },
  {
   "cell_type": "code",
   "execution_count": 347,
   "metadata": {},
   "outputs": [],
   "source": [
    "#Da eliminare\n",
    "Q1 = df_tweets_sample.quantile(0.25)  # first quartile\n",
    "Q3 = df_tweets_sample.quantile(0.75)  # third quartile\n",
    "InterQRange = Q3 - Q1  # interquartile range\n",
    "\n",
    "lower_bound = (Q1 - 1.5 * InterQRange).astype('int64')  \n",
    "median = (df_tweets_sample.quantile(0.5)).astype('int64') \n",
    "upper_bound = (Q3 + 1.5 * InterQRange).astype('int64')"
   ]
  },
  {
   "cell_type": "markdown",
   "metadata": {},
   "source": [
    "Now we check \"retweet_count\""
   ]
  },
  {
   "cell_type": "code",
   "execution_count": 348,
   "metadata": {},
   "outputs": [
    {
     "data": {
      "image/png": "[encoded data removed]",
      "text/plain": [
       "<Figure size 1152x360 with 2 Axes>"
      ]
     },
     "metadata": {
      "needs_background": "light"
     },
     "output_type": "display_data"
    }
   ],
   "source": [
    "fig, (ax1, ax2) = plt.subplots(1, 2, figsize=(16, 5))\n",
    "df_joined.boxplot(column=\"retweet_count\", ax=ax1)\n",
    "#ax1.set_yscale('log')\n",
    "df_joined.hist(column=\"retweet_count\", ax=ax2, stacked=True, bins=mr_bins(df_joined.retweet_count.count()))\n",
    "ax2.set_yscale('log')\n",
    "fig.subplots_adjust(wspace=0.3)"
   ]
  },
  {
   "cell_type": "markdown",
   "metadata": {},
   "source": [
    "The most retweet tweet has more than 4*10^6 retweets, so we not consider a retweet count over that threshold"
   ]
  },
  {
   "cell_type": "markdown",
   "metadata": {},
   "source": [
    "'reply_count'"
   ]
  },
  {
   "cell_type": "code",
   "execution_count": 349,
   "metadata": {},
   "outputs": [
    {
     "data": {
      "image/png": "[encoded data removed]",
      "text/plain": [
       "<Figure size 1152x360 with 2 Axes>"
      ]
     },
     "metadata": {
      "needs_background": "light"
     },
     "output_type": "display_data"
    }
   ],
   "source": [
    "fig, (ax1, ax2) = plt.subplots(1, 2, figsize=(16, 5))\n",
    "df_joined.boxplot(column=\"reply_count\", ax=ax1)\n",
    "#ax1.set_yscale('log')\n",
    "df_joined.hist(column=\"reply_count\", ax=ax2, stacked=True, bins=mr_bins(df_joined.reply_count.count()))\n",
    "ax2.set_yscale('log')\n",
    "fig.subplots_adjust(wspace=0.3)"
   ]
  },
  {
   "cell_type": "markdown",
   "metadata": {},
   "source": [
    "'favorite_count'"
   ]
  },
  {
   "cell_type": "code",
   "execution_count": 350,
   "metadata": {},
   "outputs": [
    {
     "data": {
      "image/png": "[encoded data removed]",
      "text/plain": [
       "<Figure size 1152x360 with 2 Axes>"
      ]
     },
     "metadata": {
      "needs_background": "light"
     },
     "output_type": "display_data"
    }
   ],
   "source": [
    "fig, (ax1, ax2) = plt.subplots(1, 2, figsize=(16, 5))\n",
    "df_joined.boxplot(column=\"favorite_count\", ax=ax1)\n",
    "#ax1.set_yscale('log')\n",
    "df_joined.hist(column=\"favorite_count\", ax=ax2, stacked=True, bins=mr_bins(df_joined.favorite_count.count()))\n",
    "ax2.set_yscale('log')\n",
    "fig.subplots_adjust(wspace=0.3)"
   ]
  },
  {
   "cell_type": "markdown",
   "metadata": {},
   "source": [
    "'num_hashtags', since the max char in a tweet is 280, we decided to replace with the median number of hashtags everything that is above that threshold"
   ]
  },
  {
   "cell_type": "code",
   "execution_count": 351,
   "metadata": {},
   "outputs": [
    {
     "ename": "TypeError",
     "evalue": "boolean value of NA is ambiguous",
     "output_type": "error",
     "traceback": [
      "\u001b[1;31m---------------------------------------------------------------------------\u001b[0m",
      "\u001b[1;31mTypeError\u001b[0m                                 Traceback (most recent call last)",
      "\u001b[1;32m<ipython-input-351-2bb32e471ba2>\u001b[0m in \u001b[0;36m<module>\u001b[1;34m\u001b[0m\n\u001b[1;32m----> 1\u001b[1;33m \u001b[0mdf_tweets_sample\u001b[0m\u001b[1;33m.\u001b[0m\u001b[0mnum_hashtags\u001b[0m \u001b[1;33m=\u001b[0m \u001b[0mdf_tweets_sample\u001b[0m\u001b[1;33m.\u001b[0m\u001b[0mnum_hashtags\u001b[0m\u001b[1;33m.\u001b[0m\u001b[0mapply\u001b[0m\u001b[1;33m(\u001b[0m\u001b[1;32mlambda\u001b[0m \u001b[0mx\u001b[0m\u001b[1;33m:\u001b[0m \u001b[0mx\u001b[0m \u001b[1;32mif\u001b[0m \u001b[0mx\u001b[0m \u001b[1;33m<\u001b[0m \u001b[1;36m280\u001b[0m \u001b[1;32melse\u001b[0m \u001b[0mdf_tweets_sample\u001b[0m\u001b[1;33m.\u001b[0m\u001b[0mnum_hashtags\u001b[0m\u001b[1;33m.\u001b[0m\u001b[0mmedian\u001b[0m\u001b[1;33m(\u001b[0m\u001b[1;33m)\u001b[0m\u001b[1;33m)\u001b[0m\u001b[1;33m\u001b[0m\u001b[1;33m\u001b[0m\u001b[0m\n\u001b[0m",
      "\u001b[1;32mc:\\Users\\giaco\\anaconda3\\lib\\site-packages\\pandas\\core\\series.py\u001b[0m in \u001b[0;36mapply\u001b[1;34m(self, func, convert_dtype, args, **kwds)\u001b[0m\n\u001b[0;32m   4211\u001b[0m             \u001b[1;32melse\u001b[0m\u001b[1;33m:\u001b[0m\u001b[1;33m\u001b[0m\u001b[1;33m\u001b[0m\u001b[0m\n\u001b[0;32m   4212\u001b[0m                 \u001b[0mvalues\u001b[0m \u001b[1;33m=\u001b[0m \u001b[0mself\u001b[0m\u001b[1;33m.\u001b[0m\u001b[0mastype\u001b[0m\u001b[1;33m(\u001b[0m\u001b[0mobject\u001b[0m\u001b[1;33m)\u001b[0m\u001b[1;33m.\u001b[0m\u001b[0m_values\u001b[0m\u001b[1;33m\u001b[0m\u001b[1;33m\u001b[0m\u001b[0m\n\u001b[1;32m-> 4213\u001b[1;33m                 \u001b[0mmapped\u001b[0m \u001b[1;33m=\u001b[0m \u001b[0mlib\u001b[0m\u001b[1;33m.\u001b[0m\u001b[0mmap_infer\u001b[0m\u001b[1;33m(\u001b[0m\u001b[0mvalues\u001b[0m\u001b[1;33m,\u001b[0m \u001b[0mf\u001b[0m\u001b[1;33m,\u001b[0m \u001b[0mconvert\u001b[0m\u001b[1;33m=\u001b[0m\u001b[0mconvert_dtype\u001b[0m\u001b[1;33m)\u001b[0m\u001b[1;33m\u001b[0m\u001b[1;33m\u001b[0m\u001b[0m\n\u001b[0m\u001b[0;32m   4214\u001b[0m \u001b[1;33m\u001b[0m\u001b[0m\n\u001b[0;32m   4215\u001b[0m         \u001b[1;32mif\u001b[0m \u001b[0mlen\u001b[0m\u001b[1;33m(\u001b[0m\u001b[0mmapped\u001b[0m\u001b[1;33m)\u001b[0m \u001b[1;32mand\u001b[0m \u001b[0misinstance\u001b[0m\u001b[1;33m(\u001b[0m\u001b[0mmapped\u001b[0m\u001b[1;33m[\u001b[0m\u001b[1;36m0\u001b[0m\u001b[1;33m]\u001b[0m\u001b[1;33m,\u001b[0m \u001b[0mSeries\u001b[0m\u001b[1;33m)\u001b[0m\u001b[1;33m:\u001b[0m\u001b[1;33m\u001b[0m\u001b[1;33m\u001b[0m\u001b[0m\n",
      "\u001b[1;32mpandas\\_libs\\lib.pyx\u001b[0m in \u001b[0;36mpandas._libs.lib.map_infer\u001b[1;34m()\u001b[0m\n",
      "\u001b[1;32m<ipython-input-351-2bb32e471ba2>\u001b[0m in \u001b[0;36m<lambda>\u001b[1;34m(x)\u001b[0m\n\u001b[1;32m----> 1\u001b[1;33m \u001b[0mdf_tweets_sample\u001b[0m\u001b[1;33m.\u001b[0m\u001b[0mnum_hashtags\u001b[0m \u001b[1;33m=\u001b[0m \u001b[0mdf_tweets_sample\u001b[0m\u001b[1;33m.\u001b[0m\u001b[0mnum_hashtags\u001b[0m\u001b[1;33m.\u001b[0m\u001b[0mapply\u001b[0m\u001b[1;33m(\u001b[0m\u001b[1;32mlambda\u001b[0m \u001b[0mx\u001b[0m\u001b[1;33m:\u001b[0m \u001b[0mx\u001b[0m \u001b[1;32mif\u001b[0m \u001b[0mx\u001b[0m \u001b[1;33m<\u001b[0m \u001b[1;36m280\u001b[0m \u001b[1;32melse\u001b[0m \u001b[0mdf_tweets_sample\u001b[0m\u001b[1;33m.\u001b[0m\u001b[0mnum_hashtags\u001b[0m\u001b[1;33m.\u001b[0m\u001b[0mmedian\u001b[0m\u001b[1;33m(\u001b[0m\u001b[1;33m)\u001b[0m\u001b[1;33m)\u001b[0m\u001b[1;33m\u001b[0m\u001b[1;33m\u001b[0m\u001b[0m\n\u001b[0m",
      "\u001b[1;32mpandas\\_libs\\missing.pyx\u001b[0m in \u001b[0;36mpandas._libs.missing.NAType.__bool__\u001b[1;34m()\u001b[0m\n",
      "\u001b[1;31mTypeError\u001b[0m: boolean value of NA is ambiguous"
     ]
    }
   ],
   "source": [
    "df_tweets_sample.num_hashtags = df_tweets_sample.num_hashtags.apply(lambda x: x if x < 280 else df_tweets_sample.num_hashtags.median())"
   ]
  },
  {
   "cell_type": "code",
   "execution_count": null,
   "metadata": {},
   "outputs": [
    {
     "data": {
      "image/png": "[encoded data removed]",
      "text/plain": [
       "<Figure size 1600x500 with 2 Axes>"
      ]
     },
     "metadata": {},
     "output_type": "display_data"
    }
   ],
   "source": [
    "fig, (ax1, ax2) = plt.subplots(1, 2, figsize=(16, 5))\n",
    "df_joined.boxplot(column=\"num_hashtags\", ax=ax1)\n",
    "#ax1.set_yscale('log')\n",
    "df_joined.hist(column=\"num_hashtags\", ax=ax2, stacked=True, bins=mr_bins(df_joined.retweet_count.count()))\n",
    "ax2.set_yscale('log')\n",
    "fig.subplots_adjust(wspace=0.3)"
   ]
  },
  {
   "cell_type": "markdown",
   "metadata": {},
   "source": [
    "'num_mentions' since the max char in a tweet is 280, and since a mention to a user needs a @ before the user's nickname (which could be just a letter) we decided to replace with the median number of hashtags everything that is above 280/2."
   ]
  },
  {
   "cell_type": "code",
   "execution_count": null,
   "metadata": {},
   "outputs": [],
   "source": [
    "df_joined.num_mentions = df_joined.num_mentions.apply(lambda x: x if x < 140 else df_joined.num_mentions.median())"
   ]
  },
  {
   "cell_type": "code",
   "execution_count": null,
   "metadata": {},
   "outputs": [
    {
     "data": {
      "image/png": "[encoded data removed]",
      "text/plain": [
       "<Figure size 1600x500 with 2 Axes>"
      ]
     },
     "metadata": {},
     "output_type": "display_data"
    }
   ],
   "source": [
    "fig, (ax1, ax2) = plt.subplots(1, 2, figsize=(16, 5))\n",
    "df_joined.boxplot(column=\"num_mentions\", ax=ax1)\n",
    "#ax1.set_yscale('log')\n",
    "df_joined.hist(column=\"num_mentions\", ax=ax2, stacked=True, bins=mr_bins(df_joined.num_mentions.count()))\n",
    "ax2.set_yscale('log')\n",
    "fig.subplots_adjust(wspace=0.3)"
   ]
  },
  {
   "cell_type": "markdown",
   "metadata": {},
   "source": [
    "'created_at' since Twitter was founded in 2006 and we are in 2022, we decided to substitute the years that are outside of this range with the median for the single user, if the date is still outside of the limits, we set the date to 1972 (which is a leap year, since we don't want any February 29th problems to occur)."
   ]
  },
  {
   "cell_type": "code",
   "execution_count": null,
   "metadata": {},
   "outputs": [],
   "source": [
    "def fix_year(row):\n",
    "    tweet_creation_date = row.created_at_tweet\n",
    "    min_date = np.datetime64('2006-07-15 00:00:00')\n",
    "    max_date = np.datetime64('2020-12-31 23:59:59')\n",
    "    \n",
    "    if tweet_creation_date < min_date or tweet_creation_date > max_date:\n",
    "        tweet_creation_date = row.created_at_tweet.replace(pd.NA)\n",
    "\n",
    "    return tweet_creation_date\n",
    "\n",
    "df_joined.created_at_tweet = df_joined.apply(fix_year, axis=1)"
   ]
  },
  {
   "cell_type": "code",
   "execution_count": null,
   "metadata": {},
   "outputs": [
    {
     "data": {
      "image/png": "[encoded data removed]",
      "text/plain": [
       "<Figure size 640x480 with 1 Axes>"
      ]
     },
     "metadata": {},
     "output_type": "display_data"
    }
   ],
   "source": [
    "df_joined.created_at_tweet.groupby(df_joined.created_at_tweet.dt.year).count().plot(kind='bar')\n",
    "plt.yscale('log')"
   ]
  },
  {
   "cell_type": "markdown",
   "metadata": {},
   "source": [
    "# Manage duplicates"
   ]
  },
  {
   "cell_type": "markdown",
   "metadata": {},
   "source": [
    "Remove duplicates in user dataframe"
   ]
  },
  {
   "cell_type": "code",
   "execution_count": null,
   "metadata": {},
   "outputs": [],
   "source": [
    "#MANAGE DUPLICATES\n",
    "\n",
    "# USERS\n",
    "\n",
    "df_users.reset_index(inplace=True)\n",
    "df_users_duplicates = df_users\n",
    "\n",
    "#Drop duplicati\n",
    "df_users_duplicates.drop_duplicates(inplace=True)\n",
    "\n",
    "#Ricerca duplicati sui campi id\n",
    "df_users_duplicates_check = df_users_duplicates.duplicated([\"id\"])\n",
    "\n",
    "#Selezione [\"id\"] che possiedono dei cloni (da cui effettuare recover info)\n",
    "df_users_duplicates_2 = df_users_duplicates[df_users_duplicates_check]\n",
    "df_users_duplicates_R = df_users_duplicates_2[[\"id\"]]\n",
    "\n",
    "#Right Join per selezionarli\n",
    "df_users_merge = df_users_duplicates.merge(df_users_duplicates_R,on=[\"id\"],how=\"right\")\n",
    "\n",
    "df_users_merge.dropna(subset=['id'], inplace=True)\n",
    "df_users_merge.sort_values([\"id\"])\n",
    "\n",
    "df_users.drop_duplicates(subset='id', inplace=True)\n",
    "\n",
    "\n",
    "# TWEETS\n",
    "\n",
    "df_tweets_duplicates = df_tweets_sample\n",
    "#Impostare index (id tweet) come colonna del df\n",
    "df_tweets_duplicates.reset_index(inplace=True)\n",
    "\n",
    "#Drop duplicati\n",
    "df_tweets_duplicates.drop_duplicates(inplace=True)\n",
    "\n",
    "#Ricerca duplicati sui campi id (del tweet) e user_id (scrittore del tweet)\n",
    "df_tweets_duplicates_check = df_tweets_duplicates.duplicated([\"id\", \"user_id\"])\n",
    "\n",
    "#Selezione [\"id\", \"user_id\"] che possiedono dei cloni (da cui effettuare recover info)\n",
    "df_tweets_duplicates_2 = df_tweets_duplicates[df_tweets_duplicates_check]\n",
    "df_tweets_duplicates_R = df_tweets_duplicates_2[[\"id\", \"user_id\"]]\n",
    "\n",
    "#Right Join per selezionarli\n",
    "df_tweets_merge = df_tweets_duplicates.merge(df_tweets_duplicates_R,on=[\"id\",\"user_id\"],how=\"right\")\n",
    "\n",
    "df_tweets_merge.dropna(subset=['user_id'], inplace=True)\n",
    "df_tweets_merge.sort_values([\"id\", \"user_id\"])"
   ]
  },
  {
   "cell_type": "markdown",
   "metadata": {},
   "source": [
    "# Manage NaN"
   ]
  },
  {
   "cell_type": "markdown",
   "metadata": {},
   "source": [
    "Fill the NaN in the numeric columns"
   ]
  },
  {
   "cell_type": "markdown",
   "metadata": {},
   "source": [
    "Create Dataframe with count of valid (== non-null) numeric tweet attributes grouped by users"
   ]
  },
  {
   "cell_type": "code",
   "execution_count": null,
   "metadata": {},
   "outputs": [],
   "source": [
    "df_grouped_by_user_num_valid = df_joined.groupby(['user_id']).count().iloc[:, 0 : 6]\n"
   ]
  },
  {
   "cell_type": "markdown",
   "metadata": {},
   "source": [
    "Create Dataframe with median value of numeric tweet attributes grouped by users"
   ]
  },
  {
   "cell_type": "code",
   "execution_count": null,
   "metadata": {},
   "outputs": [],
   "source": [
    "df_grouped_by_user_median = df_joined.groupby(['user_id']).median().iloc[:, 0 : 6]"
   ]
  },
  {
   "cell_type": "markdown",
   "metadata": {},
   "source": [
    "Define substitue function that replace NaN features with user tweets median or with bot/not-bot median if not enough valid tweet features for that user"
   ]
  },
  {
   "cell_type": "code",
   "execution_count": null,
   "metadata": {},
   "outputs": [],
   "source": [
    "def subsititute_with_median(row, col_name, bot_median, not_bot_median, min_valid_user_values):\n",
    "    if pd.isnull(row[col_name]):\n",
    "        user_feature_num_valid = df_grouped_by_user_num_valid.loc[df_grouped_by_user_num_valid.index == row.user_id][col_name]\n",
    "        if user_feature_num_valid.count() > min_valid_user_values:\n",
    "\n",
    "            user_feature_median = df_grouped_by_user_median.loc[df_grouped_by_user_median.index == row.user_id][col_name]\n",
    "            # If there are at least a min number of user tweets with valid attribute\n",
    "            if not pd.isna(user_feature_median):\n",
    "                # Use median of attribute of same user tweets\n",
    "                row[col_name] = user_feature_median.astype(np.int64)\n",
    "            elif row['bot'] == True:\n",
    "                row[col_name] = bot_median\n",
    "            else:\n",
    "                row[col_name] = not_bot_median\n",
    "            # Else use median of bot/not_bot\n",
    "        elif row['bot'] == True:\n",
    "            row[col_name] = bot_median\n",
    "        else:\n",
    "            row[col_name] = not_bot_median\n",
    "    return row"
   ]
  },
  {
   "cell_type": "code",
   "execution_count": null,
   "metadata": {},
   "outputs": [
    {
     "name": "stdout",
     "output_type": "stream",
     "text": [
      "bot median retweet_count: 0\n",
      "not bot median retweet_count: 0\n",
      "bot median reply_count: 0\n",
      "not bot median reply_count: 0\n",
      "bot median favorite_count: 0\n",
      "not bot median favorite_count: 0\n",
      "bot median num_hashtags: 0\n",
      "not bot median num_hashtags: 0\n",
      "bot median num_urls: 0\n",
      "not bot median num_urls: 0\n",
      "bot median num_mentions: 0\n",
      "not bot median num_mentions: 1\n"
     ]
    }
   ],
   "source": [
    "# Minimum value of other tweets with not-NaN feature\n",
    "min_valid_user_values = 4 #da calcolare eventualmente\n",
    "\n",
    "for col_name in df_tweets_sample.iloc[:, 1 : 7]:\n",
    "    # Calculate median on the feature for bots and not-bots\n",
    "    bot_median = df_joined.loc[df_joined['bot'] == True][col_name].median().astype(np.int64)\n",
    "    not_bot_median = df_joined.loc[df_joined['bot'] == False][col_name].median().astype(np.int64)\n",
    "    print('bot median {}:'.format(col_name), bot_median)\n",
    "    print('not bot median {}:'.format(col_name), not_bot_median)\n",
    "\n",
    "    df_joined.apply(\n",
    "        func=subsititute_with_median, axis=1, args=(col_name, bot_median, not_bot_median, min_valid_user_values))"
   ]
  },
  {
   "cell_type": "code",
   "execution_count": null,
   "metadata": {},
   "outputs": [],
   "source": [
    "for col_name in df_tweets_sample.iloc[:, 1 : 7]:\n",
    "    # Calculate median on the feature for bots and not-bots\n",
    "    bot_median = df_joined.loc[df_joined['bot'] == True][col_name].median().astype(np.int64)\n",
    "    not_bot_median = df_joined.loc[df_joined['bot'] == False][col_name].median().astype(np.int64)\n",
    "    print('bot median {}:'.format(col_name), bot_median)\n",
    "    print('not bot median {}:'.format(col_name), not_bot_median)\n",
    "\n",
    "    df_joined.apply(\n",
    "        func=subsititute_with_median, axis=1, args=(col_name, bot_median, not_bot_median, min_valid_user_values))"
   ]
  },
  {
   "cell_type": "markdown",
   "metadata": {},
   "source": [
    "As statuses_count in df_users contains only tweet count and not replies, while df_tweets contains also replies, we cannot estimate NaN statuses_count with the number of the users tweets, so we fill those NaNs with median"
   ]
  },
  {
   "cell_type": "code",
   "execution_count": null,
   "metadata": {},
   "outputs": [
    {
     "name": "stdout",
     "output_type": "stream",
     "text": [
      "68\n"
     ]
    }
   ],
   "source": [
    "median = df_users.statuses_count.median().astype(np.int64)\n",
    "print(median)\n",
    "df_users.statuses_count.fillna(median, inplace=True)"
   ]
  },
  {
   "cell_type": "markdown",
   "metadata": {},
   "source": [
    "Fill NaN name in df_users  with \"\""
   ]
  },
  {
   "cell_type": "code",
   "execution_count": null,
   "metadata": {},
   "outputs": [],
   "source": [
    "df_users.name.fillna(\"\", inplace=True)"
   ]
  },
  {
   "cell_type": "code",
   "execution_count": null,
   "metadata": {},
   "outputs": [
    {
     "name": "stdout",
     "output_type": "stream",
     "text": [
      "<class 'pandas.core.frame.DataFrame'>\n",
      "Int64Index: 11508 entries, 2353593986 to 933183398\n",
      "Data columns (total 5 columns):\n",
      " #   Column          Non-Null Count  Dtype         \n",
      "---  ------          --------------  -----         \n",
      " 0   name            11508 non-null  string        \n",
      " 1   lang            11508 non-null  object        \n",
      " 2   bot             11508 non-null  bool          \n",
      " 3   created_at      11508 non-null  datetime64[ns]\n",
      " 4   statuses_count  11508 non-null  Int64         \n",
      "dtypes: Int64(1), bool(1), datetime64[ns](1), object(1), string(1)\n",
      "memory usage: 472.0+ KB\n"
     ]
    }
   ],
   "source": [
    "df_users.info()"
   ]
  }
 ],
 "metadata": {
  "kernelspec": {
   "display_name": "Python 3.7.13 ('dataMiningEnv')",
   "language": "python",
   "name": "python3"
  },
  "language_info": {
   "codemirror_mode": {
    "name": "ipython",
    "version": 3
   },
   "file_extension": ".py",
   "mimetype": "text/x-python",
   "name": "python",
   "nbconvert_exporter": "python",
   "pygments_lexer": "ipython3",
   "version": "3.7.13"
  },
  "orig_nbformat": 4,
  "vscode": {
   "interpreter": {
    "hash": "ce66766ca3893cb1226d696fde69a866d0cab1d434d25c0e4ac78a42eaec01f7"
   }
  }
 },
 "nbformat": 4,
 "nbformat_minor": 2
}
