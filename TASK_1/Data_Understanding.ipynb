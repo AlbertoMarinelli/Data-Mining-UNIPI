{
 "cells": [
  {
   "cell_type": "markdown",
   "metadata": {},
   "source": [
    "# Task 1.1 Data Understanding\n",
    "*Alberto Roberto Marinelli, Giacomo Cignoni, Alessandro Bucci*\n",
    "## Importing Libraries\n",
    "First we import the libraries necessary to analyze the data"
   ]
  },
  {
   "cell_type": "code",
   "execution_count": 1,
   "metadata": {},
   "outputs": [],
   "source": [
    "import math\n",
    "import sys\n",
    "import numpy as np\n",
    "import pandas as pd\n",
    "import seaborn as sn\n",
    "import scipy.stats as stats\n",
    "import matplotlib.pyplot as plt\n",
    "from sklearn import decomposition"
   ]
  },
  {
   "cell_type": "code",
   "execution_count": 2,
   "metadata": {},
   "outputs": [],
   "source": [
    "pd.set_option('mode.use_inf_as_na', True)\n",
    "\n",
    "def mr_bins(number_of_samples):\n",
    "    return (np.log2(number_of_samples)).astype(np.int64) + 1\n"
   ]
  },
  {
   "cell_type": "markdown",
   "metadata": {},
   "source": [
    "Then we load the datasets"
   ]
  },
  {
   "cell_type": "code",
   "execution_count": 3,
   "metadata": {},
   "outputs": [],
   "source": [
    "df_tweets_sample = pd.read_csv('../dataset/tweets.csv', sep=',', index_col=0)  # load tweets\n",
    "df_users = pd.read_csv('../dataset/users.csv', sep=',', index_col=0)  # load users"
   ]
  },
  {
   "cell_type": "code",
   "execution_count": 4,
   "metadata": {},
   "outputs": [
    {
     "name": "stdout",
     "output_type": "stream",
     "text": [
      "<class 'pandas.core.frame.DataFrame'>\n",
      "Int64Index: 11508 entries, 2353593986 to 933183398\n",
      "Data columns (total 5 columns):\n",
      " #   Column          Non-Null Count  Dtype  \n",
      "---  ------          --------------  -----  \n",
      " 0   name            11507 non-null  object \n",
      " 1   lang            11508 non-null  object \n",
      " 2   bot             11508 non-null  int64  \n",
      " 3   created_at      11508 non-null  object \n",
      " 4   statuses_count  11109 non-null  float64\n",
      "dtypes: float64(1), int64(1), object(3)\n",
      "memory usage: 539.4+ KB\n",
      "<class 'pandas.core.frame.DataFrame'>\n",
      "Index: 13664696 entries, 509354017856950272 to 486479812614451200\n",
      "Data columns (total 9 columns):\n",
      " #   Column          Dtype \n",
      "---  ------          ----- \n",
      " 0   user_id         object\n",
      " 1   retweet_count   object\n",
      " 2   reply_count     object\n",
      " 3   favorite_count  object\n",
      " 4   num_hashtags    object\n",
      " 5   num_urls        object\n",
      " 6   num_mentions    object\n",
      " 7   created_at      object\n",
      " 8   text            object\n",
      "dtypes: object(9)\n",
      "memory usage: 1.0+ GB\n"
     ]
    }
   ],
   "source": [
    "df_users.info()\n",
    "df_tweets_sample.info()"
   ]
  },
  {
   "cell_type": "code",
   "execution_count": 5,
   "metadata": {},
   "outputs": [
    {
     "data": {
      "text/plain": [
       "Index(['509354017856950272', '583002592529121280', '461498835362013185',\n",
       "       '528808127366692864', '575336690904006656', '583448653542596609',\n",
       "        '79540398988595200', '344253939950182400', '335131564512006144',\n",
       "       '424575175074385920',\n",
       "       ...\n",
       "       '452035665484460032',          '838370060', '427109081338621952',\n",
       "                     'idjn', '459163209170046976', '329829994169786368',\n",
       "       '588535254207467520',    '718157017970961', '441301348676415488',\n",
       "       '486479812614451200'],\n",
       "      dtype='object', name='id', length=11672136)"
      ]
     },
     "execution_count": 5,
     "metadata": {},
     "output_type": "execute_result"
    }
   ],
   "source": [
    "df_tweets_sample.index.unique()"
   ]
  },
  {
   "cell_type": "code",
   "execution_count": 6,
   "metadata": {},
   "outputs": [],
   "source": [
    "df_users.reset_index(inplace=True)\n",
    "df_tweets_sample.reset_index(inplace=True)"
   ]
  },
  {
   "cell_type": "code",
   "execution_count": 7,
   "metadata": {},
   "outputs": [
    {
     "name": "stdout",
     "output_type": "stream",
     "text": [
      "<class 'pandas.core.frame.DataFrame'>\n",
      "RangeIndex: 11508 entries, 0 to 11507\n",
      "Data columns (total 6 columns):\n",
      " #   Column          Non-Null Count  Dtype  \n",
      "---  ------          --------------  -----  \n",
      " 0   id              11508 non-null  int64  \n",
      " 1   name            11507 non-null  object \n",
      " 2   lang            11508 non-null  object \n",
      " 3   bot             11508 non-null  int64  \n",
      " 4   created_at      11508 non-null  object \n",
      " 5   statuses_count  11109 non-null  float64\n",
      "dtypes: float64(1), int64(2), object(3)\n",
      "memory usage: 539.6+ KB\n"
     ]
    }
   ],
   "source": [
    "df_users.info()"
   ]
  },
  {
   "cell_type": "code",
   "execution_count": 8,
   "metadata": {},
   "outputs": [
    {
     "name": "stdout",
     "output_type": "stream",
     "text": [
      "<class 'pandas.core.frame.DataFrame'>\n",
      "RangeIndex: 13664696 entries, 0 to 13664695\n",
      "Data columns (total 10 columns):\n",
      " #   Column          Dtype \n",
      "---  ------          ----- \n",
      " 0   id              object\n",
      " 1   user_id         object\n",
      " 2   retweet_count   object\n",
      " 3   reply_count     object\n",
      " 4   favorite_count  object\n",
      " 5   num_hashtags    object\n",
      " 6   num_urls        object\n",
      " 7   num_mentions    object\n",
      " 8   created_at      object\n",
      " 9   text            object\n",
      "dtypes: object(10)\n",
      "memory usage: 1.0+ GB\n"
     ]
    }
   ],
   "source": [
    "df_tweets_sample.info()"
   ]
  },
  {
   "cell_type": "code",
   "execution_count": 9,
   "metadata": {},
   "outputs": [
    {
     "data": {
      "text/html": [
       "<div>\n",
       "<style scoped>\n",
       "    .dataframe tbody tr th:only-of-type {\n",
       "        vertical-align: middle;\n",
       "    }\n",
       "\n",
       "    .dataframe tbody tr th {\n",
       "        vertical-align: top;\n",
       "    }\n",
       "\n",
       "    .dataframe thead th {\n",
       "        text-align: right;\n",
       "    }\n",
       "</style>\n",
       "<table border=\"1\" class=\"dataframe\">\n",
       "  <thead>\n",
       "    <tr style=\"text-align: right;\">\n",
       "      <th></th>\n",
       "      <th>id</th>\n",
       "      <th>user_id</th>\n",
       "      <th>retweet_count</th>\n",
       "      <th>reply_count</th>\n",
       "      <th>favorite_count</th>\n",
       "      <th>num_hashtags</th>\n",
       "      <th>num_urls</th>\n",
       "      <th>num_mentions</th>\n",
       "      <th>created_at</th>\n",
       "      <th>text</th>\n",
       "    </tr>\n",
       "  </thead>\n",
       "  <tbody>\n",
       "    <tr>\n",
       "      <th>0</th>\n",
       "      <td>509354017856950272</td>\n",
       "      <td>327746321</td>\n",
       "      <td>0</td>\n",
       "      <td>0</td>\n",
       "      <td>0</td>\n",
       "      <td>0</td>\n",
       "      <td>0</td>\n",
       "      <td>0</td>\n",
       "      <td>2019-09-11 14:53:55</td>\n",
       "      <td>If man is a little lower than angels, then ang...</td>\n",
       "    </tr>\n",
       "    <tr>\n",
       "      <th>1</th>\n",
       "      <td>583002592529121280</td>\n",
       "      <td>333722906</td>\n",
       "      <td>1</td>\n",
       "      <td>0</td>\n",
       "      <td>0</td>\n",
       "      <td>0</td>\n",
       "      <td>0</td>\n",
       "      <td>1</td>\n",
       "      <td>2020-04-01 20:27:04</td>\n",
       "      <td>\"@BestWSHHVids: how do you say these words wit...</td>\n",
       "    </tr>\n",
       "    <tr>\n",
       "      <th>2</th>\n",
       "      <td>461498835362013185</td>\n",
       "      <td>2379755827</td>\n",
       "      <td>0</td>\n",
       "      <td>0</td>\n",
       "      <td>0</td>\n",
       "      <td>0</td>\n",
       "      <td>0</td>\n",
       "      <td>1</td>\n",
       "      <td>2019-05-02 13:34:31</td>\n",
       "      <td>@LOLatComedy awsome</td>\n",
       "    </tr>\n",
       "    <tr>\n",
       "      <th>3</th>\n",
       "      <td>528808127366692864</td>\n",
       "      <td>466226882</td>\n",
       "      <td>0</td>\n",
       "      <td>0</td>\n",
       "      <td>0</td>\n",
       "      <td>0</td>\n",
       "      <td>0</td>\n",
       "      <td>0</td>\n",
       "      <td>2019-11-04 07:17:37</td>\n",
       "      <td>Stephen Hawkins: i buchi neri non esistono se ...</td>\n",
       "    </tr>\n",
       "    <tr>\n",
       "      <th>4</th>\n",
       "      <td>575336690904006656</td>\n",
       "      <td>1355537995</td>\n",
       "      <td>114</td>\n",
       "      <td>0</td>\n",
       "      <td>0</td>\n",
       "      <td>1</td>\n",
       "      <td>0</td>\n",
       "      <td>1</td>\n",
       "      <td>2020-03-11 16:45:31</td>\n",
       "      <td>RT @tibbs_montris: So ready for Wednesday!</td>\n",
       "    </tr>\n",
       "    <tr>\n",
       "      <th>...</th>\n",
       "      <td>...</td>\n",
       "      <td>...</td>\n",
       "      <td>...</td>\n",
       "      <td>...</td>\n",
       "      <td>...</td>\n",
       "      <td>...</td>\n",
       "      <td>...</td>\n",
       "      <td>...</td>\n",
       "      <td>...</td>\n",
       "      <td>...</td>\n",
       "    </tr>\n",
       "    <tr>\n",
       "      <th>13664691</th>\n",
       "      <td>588535254207467520</td>\n",
       "      <td>587491046</td>\n",
       "      <td>0</td>\n",
       "      <td>0</td>\n",
       "      <td>0</td>\n",
       "      <td>0</td>\n",
       "      <td>0</td>\n",
       "      <td>1</td>\n",
       "      <td>2020-04-17 02:51:53</td>\n",
       "      <td>@warriors Congrats, maybe I'll be able to get ...</td>\n",
       "    </tr>\n",
       "    <tr>\n",
       "      <th>13664692</th>\n",
       "      <td>580420653666402304</td>\n",
       "      <td>1414080518</td>\n",
       "      <td>0</td>\n",
       "      <td>0</td>\n",
       "      <td>1</td>\n",
       "      <td>0</td>\n",
       "      <td>0</td>\n",
       "      <td>1</td>\n",
       "      <td>2020-03-25 17:27:22</td>\n",
       "      <td>@DaddieEzme fr??</td>\n",
       "    </tr>\n",
       "    <tr>\n",
       "      <th>13664693</th>\n",
       "      <td>718157017970961</td>\n",
       "      <td>91781300</td>\n",
       "      <td>0</td>\n",
       "      <td>NaN</td>\n",
       "      <td>l25suv5</td>\n",
       "      <td>NaN</td>\n",
       "      <td>0.0</td>\n",
       "      <td>NaN</td>\n",
       "      <td>2016-07-10 22:43:09</td>\n",
       "      <td>NaN</td>\n",
       "    </tr>\n",
       "    <tr>\n",
       "      <th>13664694</th>\n",
       "      <td>441301348676415488</td>\n",
       "      <td>127895572</td>\n",
       "      <td>0</td>\n",
       "      <td>0</td>\n",
       "      <td>1</td>\n",
       "      <td>1</td>\n",
       "      <td>0</td>\n",
       "      <td>0</td>\n",
       "      <td>2019-03-07 19:56:55</td>\n",
       "      <td>Shooting crew of porn movies. #TheWorstJobToHave</td>\n",
       "    </tr>\n",
       "    <tr>\n",
       "      <th>13664695</th>\n",
       "      <td>486479812614451200</td>\n",
       "      <td>465421036</td>\n",
       "      <td>3</td>\n",
       "      <td>0</td>\n",
       "      <td>4</td>\n",
       "      <td>0</td>\n",
       "      <td>0</td>\n",
       "      <td>0</td>\n",
       "      <td>2019-07-10 12:00:00</td>\n",
       "      <td>Qualcuno dovrÃ  pur dire a quelli che \"Twitter...</td>\n",
       "    </tr>\n",
       "  </tbody>\n",
       "</table>\n",
       "<p>13664696 rows × 10 columns</p>\n",
       "</div>"
      ],
      "text/plain": [
       "                          id     user_id retweet_count reply_count  \\\n",
       "0         509354017856950272   327746321             0           0   \n",
       "1         583002592529121280   333722906             1           0   \n",
       "2         461498835362013185  2379755827             0           0   \n",
       "3         528808127366692864   466226882             0           0   \n",
       "4         575336690904006656  1355537995           114           0   \n",
       "...                      ...         ...           ...         ...   \n",
       "13664691  588535254207467520   587491046             0           0   \n",
       "13664692  580420653666402304  1414080518             0           0   \n",
       "13664693     718157017970961    91781300             0         NaN   \n",
       "13664694  441301348676415488   127895572             0           0   \n",
       "13664695  486479812614451200   465421036             3           0   \n",
       "\n",
       "         favorite_count num_hashtags num_urls num_mentions  \\\n",
       "0                     0            0        0            0   \n",
       "1                     0            0        0            1   \n",
       "2                     0            0        0            1   \n",
       "3                     0            0        0            0   \n",
       "4                     0            1        0            1   \n",
       "...                 ...          ...      ...          ...   \n",
       "13664691              0            0        0            1   \n",
       "13664692              1            0        0            1   \n",
       "13664693        l25suv5          NaN      0.0          NaN   \n",
       "13664694              1            1        0            0   \n",
       "13664695              4            0        0            0   \n",
       "\n",
       "                   created_at  \\\n",
       "0         2019-09-11 14:53:55   \n",
       "1         2020-04-01 20:27:04   \n",
       "2         2019-05-02 13:34:31   \n",
       "3         2019-11-04 07:17:37   \n",
       "4         2020-03-11 16:45:31   \n",
       "...                       ...   \n",
       "13664691  2020-04-17 02:51:53   \n",
       "13664692  2020-03-25 17:27:22   \n",
       "13664693  2016-07-10 22:43:09   \n",
       "13664694  2019-03-07 19:56:55   \n",
       "13664695  2019-07-10 12:00:00   \n",
       "\n",
       "                                                       text  \n",
       "0         If man is a little lower than angels, then ang...  \n",
       "1         \"@BestWSHHVids: how do you say these words wit...  \n",
       "2                                       @LOLatComedy awsome  \n",
       "3         Stephen Hawkins: i buchi neri non esistono se ...  \n",
       "4               RT @tibbs_montris: So ready for Wednesday!   \n",
       "...                                                     ...  \n",
       "13664691  @warriors Congrats, maybe I'll be able to get ...  \n",
       "13664692                                   @DaddieEzme fr??  \n",
       "13664693                                                NaN  \n",
       "13664694   Shooting crew of porn movies. #TheWorstJobToHave  \n",
       "13664695  Qualcuno dovrÃ  pur dire a quelli che \"Twitter...  \n",
       "\n",
       "[13664696 rows x 10 columns]"
      ]
     },
     "execution_count": 9,
     "metadata": {},
     "output_type": "execute_result"
    }
   ],
   "source": [
    "df_tweets_sample"
   ]
  },
  {
   "cell_type": "markdown",
   "metadata": {},
   "source": [
    "## Features informations\n",
    "\"Type\" indicates the wanted feature Datatype for conversion in \"Casting\" section\n",
    "\n",
    "### Users dataset\n",
    "id, name, lang, bot, created_at and statuses_count\n",
    "* **id** (*Numerical*)\n",
    "  * Type: **Int64**\n",
    "  * Description: Is the identifier of the single user, it will be used to join the datasets, so it is necessary that this data is a non-null integer.\n",
    "* **name** (*Categorical*)\n",
    "  * Type: **String**\n",
    "  * Description: The name of the user.\n",
    "* **lang** (*Categorical*)\n",
    "  * Type: **String**\n",
    "  * Description: The user’s language selected\n",
    "* **bot** (*Numerical*)\n",
    "  * Type: **Boolean**\n",
    "  * Description: A binary variable that indicates if a user is a bot or a genuine user\n",
    "* **created_at** (*Numerical*)\n",
    "  * Type: **Datetime64**\n",
    "  * Description: The timestamp of when the user was created\n",
    "* **statuses_count** (*Numerical*)\n",
    "  * Type: **Int64**\n",
    "  * Description: The count of the tweets made by the user at the moment of data crawling.\n",
    "### Tweets dataset\n",
    "* **id** (*Numerical*)\n",
    "  * Type: **Object**\n",
    "  * Description: Is the identifier of the single tweet, it should be int64, but we decided to consder it object because it does not affect the data if it is not an integer.\n",
    "* **user_id** (*Numerical*)\n",
    "  * Type: **Int64**\n",
    "  * Description: Is the identifier of the single user, it will be used to join the datasets, so it is necessary that this data is a non-null integer\n",
    "* **retweet_count** (*Numerical*)\n",
    "  * Type: **Int64**\n",
    "  * Description: The number of retweets of the single tweet\n",
    "* **reply_count** (*Numerical*)\n",
    "  * Type: **Int64**\n",
    "  * Description: The number of replies of the single tweet\n",
    "* **favorite_count** (*Numerical*)\n",
    "  * Type: **Int64**\n",
    "  * Description: The number of favorites (or likes) of the single tweet\n",
    "* **num_hashtags** (*Numerical*)\n",
    "  * Type: **Int64**\n",
    "  * Description: The number of hashtags in the single tweet\n",
    "* **num_urls** (*Numerical*)\n",
    "  * Type: **Int64**\n",
    "  * Description: The number of urls in the single tweet\n",
    "* **num_mentions** (*Numerical*)\n",
    "  * Type: **Int64**\n",
    "  * Description: The number of mentions in the single tweet\n",
    "* **created_at** (*Numerical*)\n",
    "  * Type: **Datetime64**\n",
    "  * Description: The timestamp of when the single tweet was created\n",
    "* **text** (*Categorical*)\n",
    "  * Type: **String**\n",
    "  * Description: The text of the single tweet"
   ]
  },
  {
   "cell_type": "markdown",
   "metadata": {},
   "source": [
    "## Datatype Casting\n",
    "### Users dataframe casting"
   ]
  },
  {
   "cell_type": "code",
   "execution_count": 10,
   "metadata": {},
   "outputs": [
    {
     "name": "stdout",
     "output_type": "stream",
     "text": [
      "<class 'pandas.core.frame.DataFrame'>\n",
      "RangeIndex: 11508 entries, 0 to 11507\n",
      "Data columns (total 6 columns):\n",
      " #   Column          Non-Null Count  Dtype  \n",
      "---  ------          --------------  -----  \n",
      " 0   id              11508 non-null  int64  \n",
      " 1   name            11507 non-null  object \n",
      " 2   lang            11508 non-null  object \n",
      " 3   bot             11508 non-null  int64  \n",
      " 4   created_at      11508 non-null  object \n",
      " 5   statuses_count  11109 non-null  float64\n",
      "dtypes: float64(1), int64(2), object(3)\n",
      "memory usage: 539.6+ KB\n"
     ]
    }
   ],
   "source": [
    "df_users.info()"
   ]
  },
  {
   "cell_type": "markdown",
   "metadata": {},
   "source": [
    "Cast name and lang columns to string and created_at to DateTime in df_users"
   ]
  },
  {
   "cell_type": "code",
   "execution_count": 11,
   "metadata": {},
   "outputs": [],
   "source": [
    "df_users.id = df_users.id.astype('Int64')\n",
    "df_users.name = df_users.name.astype('string')\n",
    "df_users.lang = df_users.lang.astype('string')"
   ]
  },
  {
   "cell_type": "markdown",
   "metadata": {},
   "source": [
    "Cast statuses_count to Int64, bot to bool and created_at to DateTime in df_users"
   ]
  },
  {
   "cell_type": "code",
   "execution_count": 12,
   "metadata": {},
   "outputs": [],
   "source": [
    "df_users.statuses_count = df_users.statuses_count.astype('Int64', errors='raise')\n",
    "df_users.bot = df_users.bot.astype('bool', errors='raise')\n",
    "df_users.created_at = pd.to_datetime(df_users.created_at, errors='coerce')\n"
   ]
  },
  {
   "cell_type": "code",
   "execution_count": 13,
   "metadata": {},
   "outputs": [
    {
     "name": "stdout",
     "output_type": "stream",
     "text": [
      "<class 'pandas.core.frame.DataFrame'>\n",
      "RangeIndex: 11508 entries, 0 to 11507\n",
      "Data columns (total 6 columns):\n",
      " #   Column          Non-Null Count  Dtype         \n",
      "---  ------          --------------  -----         \n",
      " 0   id              11508 non-null  Int64         \n",
      " 1   name            11507 non-null  string        \n",
      " 2   lang            11508 non-null  string        \n",
      " 3   bot             11508 non-null  bool          \n",
      " 4   created_at      11508 non-null  datetime64[ns]\n",
      " 5   statuses_count  11109 non-null  Int64         \n",
      "dtypes: Int64(2), bool(1), datetime64[ns](1), string(2)\n",
      "memory usage: 483.4 KB\n"
     ]
    }
   ],
   "source": [
    "df_users.info()"
   ]
  },
  {
   "cell_type": "markdown",
   "metadata": {},
   "source": [
    "### Tweets dataframe casting"
   ]
  },
  {
   "cell_type": "code",
   "execution_count": 14,
   "metadata": {},
   "outputs": [
    {
     "name": "stdout",
     "output_type": "stream",
     "text": [
      "<class 'pandas.core.frame.DataFrame'>\n",
      "RangeIndex: 13664696 entries, 0 to 13664695\n",
      "Data columns (total 10 columns):\n",
      " #   Column          Dtype \n",
      "---  ------          ----- \n",
      " 0   id              object\n",
      " 1   user_id         object\n",
      " 2   retweet_count   object\n",
      " 3   reply_count     object\n",
      " 4   favorite_count  object\n",
      " 5   num_hashtags    object\n",
      " 6   num_urls        object\n",
      " 7   num_mentions    object\n",
      " 8   created_at      object\n",
      " 9   text            object\n",
      "dtypes: object(10)\n",
      "memory usage: 1.0+ GB\n"
     ]
    }
   ],
   "source": [
    "df_tweets_sample.info()"
   ]
  },
  {
   "cell_type": "markdown",
   "metadata": {},
   "source": [
    "Cast id to int64 for memory optimization"
   ]
  },
  {
   "cell_type": "code",
   "execution_count": 15,
   "metadata": {},
   "outputs": [],
   "source": [
    "df_tweets_sample.id = pd.to_numeric(\n",
    "    df_tweets_sample.id, downcast= 'integer', errors='coerce').astype('Int64', errors='raise')\n"
   ]
  },
  {
   "cell_type": "markdown",
   "metadata": {},
   "source": [
    "Int64 casting for numeric columns in df_tweets"
   ]
  },
  {
   "cell_type": "code",
   "execution_count": 16,
   "metadata": {},
   "outputs": [],
   "source": [
    "def cast_int(x):\n",
    "    try:\n",
    "        return np.int64(x)\n",
    "    except:\n",
    "        return pd.NA\n",
    "    \n",
    "\n",
    "for col_name in df_tweets_sample.iloc[:, : 8]:\n",
    "    # Substitute values outside of Int64 limits with NaN\n",
    "    df_tweets_sample[col_name] = df_tweets_sample[col_name].apply(cast_int)\n",
    "\n",
    "    # Cast to Int64\n",
    "    df_tweets_sample[col_name] = df_tweets_sample[col_name].astype('Int64', errors='raise')\n",
    "\n"
   ]
  },
  {
   "cell_type": "markdown",
   "metadata": {},
   "source": [
    "Cast text column to string and created_at to DateTime in df_tweets"
   ]
  },
  {
   "cell_type": "code",
   "execution_count": 17,
   "metadata": {},
   "outputs": [],
   "source": [
    "df_tweets_sample.text = df_tweets_sample.text.astype('string')\n",
    "df_tweets_sample.created_at = pd.to_datetime(\n",
    "    df_tweets_sample.created_at, errors='coerce') #The invalid dates are set to NaT"
   ]
  },
  {
   "cell_type": "code",
   "execution_count": 18,
   "metadata": {},
   "outputs": [
    {
     "name": "stdout",
     "output_type": "stream",
     "text": [
      "<class 'pandas.core.frame.DataFrame'>\n",
      "RangeIndex: 13664696 entries, 0 to 13664695\n",
      "Data columns (total 10 columns):\n",
      " #   Column          Dtype         \n",
      "---  ------          -----         \n",
      " 0   id              Int64         \n",
      " 1   user_id         Int64         \n",
      " 2   retweet_count   Int64         \n",
      " 3   reply_count     Int64         \n",
      " 4   favorite_count  Int64         \n",
      " 5   num_hashtags    Int64         \n",
      " 6   num_urls        Int64         \n",
      " 7   num_mentions    Int64         \n",
      " 8   created_at      datetime64[ns]\n",
      " 9   text            string        \n",
      "dtypes: Int64(8), datetime64[ns](1), string(1)\n",
      "memory usage: 1.1 GB\n"
     ]
    }
   ],
   "source": [
    "df_tweets_sample.info()"
   ]
  },
  {
   "cell_type": "markdown",
   "metadata": {},
   "source": [
    "## Attributes exploration and outliers fixing\n",
    "\n",
    "We now explore the distributions in order to find the outliers of each attribute."
   ]
  },
  {
   "cell_type": "markdown",
   "metadata": {},
   "source": [
    "### User dataset attributes exploration and outliers fixing\n",
    "\n",
    "We check 'created_at' whit a bar plot by year."
   ]
  },
  {
   "cell_type": "code",
   "execution_count": 19,
   "metadata": {},
   "outputs": [
    {
     "data": {
      "image/png": "[encoded data removed]",
      "text/plain": [
       "<Figure size 640x480 with 1 Axes>"
      ]
     },
     "metadata": {},
     "output_type": "display_data"
    }
   ],
   "source": [
    "df_users.created_at.groupby(df_users.created_at.dt.year).count().plot(kind='bar')\n",
    "plt.show()"
   ]
  },
  {
   "cell_type": "markdown",
   "metadata": {},
   "source": [
    "Since Twitter was founded in 2006 and the oldest user is from 2012, there are no lower bound outliers.\n",
    "\n",
    "Since the crawling was done in 2020, and there are no users created later than 2020, there are no upper bound outliers."
   ]
  },
  {
   "cell_type": "markdown",
   "metadata": {},
   "source": [
    "Now we check **'lang'**.\n",
    "\n",
    "Showing how 'lang' is composed with a logarithmic scale bar plot"
   ]
  },
  {
   "cell_type": "code",
   "execution_count": 20,
   "metadata": {},
   "outputs": [
    {
     "name": "stdout",
     "output_type": "stream",
     "text": [
      "Langs in the user dataset:\n"
     ]
    },
    {
     "data": {
      "image/png": "[encoded data removed]",
      "text/plain": [
       "<Figure size 640x480 with 1 Axes>"
      ]
     },
     "metadata": {},
     "output_type": "display_data"
    }
   ],
   "source": [
    "lang_distribution = df_users.lang.value_counts()\n",
    "print('Langs in the user dataset:')\n",
    "#print(lang_distribution)\n",
    "\n",
    "lang_distribution.plot(kind=\"bar\")\n",
    "plt.yscale('log')\n",
    "plt.show()"
   ]
  },
  {
   "cell_type": "markdown",
   "metadata": {},
   "source": [
    "We decided that if the lang contains a dash, we'll take into consideration only the lang before it.\n",
    "\n",
    "E.g.: \"en-gb\" will become \"en\", \"zh-tw\" will become \"zh\"."
   ]
  },
  {
   "cell_type": "code",
   "execution_count": 21,
   "metadata": {},
   "outputs": [],
   "source": [
    "import re\n",
    "\n",
    "def lang_correction(lang_string):\n",
    "    lang = lang_string\n",
    "    lang = re.sub('-.*$', '', lang)\n",
    "\n",
    "    return lang\n",
    "\n",
    "df_users.lang = df_users.lang.apply(lang_correction).astype('string')\n"
   ]
  },
  {
   "cell_type": "markdown",
   "metadata": {},
   "source": [
    "The two only invalid values are \"Select Language...\" and \"xx\". We can manage them directly"
   ]
  },
  {
   "cell_type": "markdown",
   "metadata": {},
   "source": [
    "Substituting \"Select Language...\" with the mode. "
   ]
  },
  {
   "cell_type": "code",
   "execution_count": 22,
   "metadata": {},
   "outputs": [],
   "source": [
    "df_users.lang.replace(to_replace=\"Select Language...\",value=df_users.lang.mode()[0], inplace=True)"
   ]
  },
  {
   "cell_type": "markdown",
   "metadata": {},
   "source": [
    "We looked at the tweets with the user id equal to the one who has 'lang' equal to xx, and determined that theier posts were english, so we changed 'lang' to 'en', which is also the mode."
   ]
  },
  {
   "cell_type": "code",
   "execution_count": 23,
   "metadata": {},
   "outputs": [],
   "source": [
    "df_users.lang.replace(to_replace=\"xx\",value=df_users.lang.mode()[0], inplace=True)"
   ]
  },
  {
   "cell_type": "markdown",
   "metadata": {},
   "source": [
    "Now we show the cleaned 'lang' distribution."
   ]
  },
  {
   "cell_type": "code",
   "execution_count": 24,
   "metadata": {},
   "outputs": [
    {
     "name": "stdout",
     "output_type": "stream",
     "text": [
      "Langs in the user dataset:\n"
     ]
    },
    {
     "data": {
      "image/png": "[encoded data removed]",
      "text/plain": [
       "<Figure size 640x480 with 1 Axes>"
      ]
     },
     "metadata": {},
     "output_type": "display_data"
    }
   ],
   "source": [
    "lang_distribution = df_users.lang.value_counts()\n",
    "print('Langs in the user dataset:')\n",
    "lang_distribution.plot(kind=\"bar\")\n",
    "plt.yscale('log')\n",
    "plt.show()"
   ]
  },
  {
   "cell_type": "markdown",
   "metadata": {},
   "source": [
    "Having cleaned the \"lang\" attribute, we can convert it to categorical in order to simplify the subsequent clustering and classification phases."
   ]
  },
  {
   "cell_type": "code",
   "execution_count": 25,
   "metadata": {},
   "outputs": [],
   "source": [
    "df_users.lang = pd.Categorical(df_users.lang)"
   ]
  },
  {
   "cell_type": "markdown",
   "metadata": {},
   "source": [
    "Now we check **\"statuses_count\"**"
   ]
  },
  {
   "cell_type": "code",
   "execution_count": 26,
   "metadata": {},
   "outputs": [
    {
     "data": {
      "image/png": "[encoded data removed]",
      "text/plain": [
       "<Figure size 1600x500 with 2 Axes>"
      ]
     },
     "metadata": {},
     "output_type": "display_data"
    }
   ],
   "source": [
    "\n",
    "fig, (ax1, ax2) = plt.subplots(1, 2, figsize=(16, 5))\n",
    "df_users.boxplot(column=\"statuses_count\", ax=ax1)\n",
    "ax1.set_yscale('log')\n",
    "df_users.hist(column=\"statuses_count\", ax=ax2, stacked=True, bins=mr_bins(df_users.statuses_count.count()))\n",
    "ax2.set_yscale('log')\n",
    "fig.subplots_adjust(wspace=0.3)\n",
    "plt.show()\n"
   ]
  },
  {
   "cell_type": "markdown",
   "metadata": {},
   "source": [
    "There are no outliers, because there is no user that violate limit of 5 * 10^7 tweets and also there are not negative values that would be invalid."
   ]
  },
  {
   "cell_type": "markdown",
   "metadata": {},
   "source": [
    "### Tweets dataset attributes exploration and outliers fixing"
   ]
  },
  {
   "cell_type": "markdown",
   "metadata": {},
   "source": [
    "We check **\"retweet_count\"** attribute\n",
    "\n",
    "The most retweet tweet ever has more than 4*10^6 retweets, so we not consider a retweet count over that threshold (we set them to NaN)"
   ]
  },
  {
   "cell_type": "code",
   "execution_count": 27,
   "metadata": {},
   "outputs": [],
   "source": [
    "max_retweets = 4*(10**6)\n",
    "df_tweets_sample.retweet_count = df_tweets_sample.retweet_count.apply(\n",
    "    lambda x: x if not pd.isna(x) and x < max_retweets and x >= 0 else pd.NA)\n",
    "df_tweets_sample.retweet_count = df_tweets_sample.retweet_count.astype(\"Int64\")\n"
   ]
  },
  {
   "cell_type": "code",
   "execution_count": 28,
   "metadata": {},
   "outputs": [
    {
     "data": {
      "image/png": "[encoded data removed]",
      "text/plain": [
       "<Figure size 1600x500 with 2 Axes>"
      ]
     },
     "metadata": {},
     "output_type": "display_data"
    }
   ],
   "source": [
    "\n",
    "# Then we display the plots\n",
    "fig, (ax1, ax2) = plt.subplots(1, 2, figsize=(16, 5))\n",
    "df_tweets_sample.boxplot(column=\"retweet_count\", ax=ax1)\n",
    "ax1.set_yscale('log')\n",
    "df_tweets_sample.hist(column=\"retweet_count\", ax=ax2, stacked=True, bins=mr_bins(\n",
    "    df_tweets_sample.retweet_count.count()))\n",
    "ax2.set_yscale('log')\n",
    "fig.subplots_adjust(wspace=0.3)\n",
    "plt.show()"
   ]
  },
  {
   "cell_type": "markdown",
   "metadata": {},
   "source": [
    "Now we check **'reply_count'** attribute.\n",
    "\n",
    "The most replied tweet can't be much more replies than the highest number of replies, so we limit also the number of replies to 4*10^6"
   ]
  },
  {
   "cell_type": "code",
   "execution_count": 29,
   "metadata": {},
   "outputs": [
    {
     "data": {
      "image/png": "[encoded data removed]",
      "text/plain": [
       "<Figure size 1600x500 with 2 Axes>"
      ]
     },
     "metadata": {},
     "output_type": "display_data"
    }
   ],
   "source": [
    "max_replies = 4*(10**6)\n",
    "df_tweets_sample.reply_count = df_tweets_sample.reply_count.apply(\n",
    "    lambda x: x if not pd.isna(x) and x < max_replies and x >= 0 else pd.NA)\n",
    "df_tweets_sample.reply_count = df_tweets_sample.reply_count.astype(\"Int64\")\n",
    "\n",
    "# Then we display the plots\n",
    "fig, (ax1, ax2) = plt.subplots(1, 2, figsize=(16, 5))\n",
    "df_tweets_sample.boxplot(column=\"reply_count\", ax=ax1)\n",
    "#ax1.set_yscale('log')\n",
    "df_tweets_sample.hist(column=\"reply_count\", ax=ax2, stacked=True, bins=mr_bins(\n",
    "    df_tweets_sample.reply_count.count()))\n",
    "ax2.set_yscale('log')\n",
    "fig.subplots_adjust(wspace=0.3)\n",
    "plt.show()"
   ]
  },
  {
   "cell_type": "markdown",
   "metadata": {},
   "source": [
    "Now we check **'favorite_count'** attribute\n",
    "\n",
    "The most liked tweets has 7*10^6 likes, so we should limit the number of likes to that threshold"
   ]
  },
  {
   "cell_type": "code",
   "execution_count": 30,
   "metadata": {},
   "outputs": [
    {
     "data": {
      "image/png": "[encoded data removed]",
      "text/plain": [
       "<Figure size 1600x500 with 2 Axes>"
      ]
     },
     "metadata": {},
     "output_type": "display_data"
    }
   ],
   "source": [
    "max_likes = 7*(10**6)\n",
    "df_tweets_sample.favorite_count = df_tweets_sample.favorite_count.apply(\n",
    "    lambda x: x if not pd.isna(x) and x < max_likes and x >= 0 else pd.NA)\n",
    "df_tweets_sample.favorite_count = df_tweets_sample.favorite_count.astype(\"Int64\")\n",
    "\n",
    "# Then we display the plots\n",
    "fig, (ax1, ax2) = plt.subplots(1, 2, figsize=(16, 5))\n",
    "df_tweets_sample.boxplot(column=\"favorite_count\", ax=ax1)\n",
    "ax1.set_yscale('log')\n",
    "df_tweets_sample.hist(column=\"favorite_count\", ax=ax2, stacked=True, bins=mr_bins(\n",
    "    df_tweets_sample.favorite_count.count()))\n",
    "ax2.set_yscale('log')\n",
    "fig.subplots_adjust(wspace=0.3)\n",
    "plt.show()"
   ]
  },
  {
   "cell_type": "markdown",
   "metadata": {},
   "source": [
    "**'num_hashtags'**, since the max char in a tweet is 280, we decided to replace with the median number of hashtags everything that is above that threshold"
   ]
  },
  {
   "cell_type": "code",
   "execution_count": 31,
   "metadata": {},
   "outputs": [
    {
     "data": {
      "image/png": "[encoded data removed]",
      "text/plain": [
       "<Figure size 1600x500 with 2 Axes>"
      ]
     },
     "metadata": {},
     "output_type": "display_data"
    }
   ],
   "source": [
    "max_num_hashtags = 280\n",
    "df_tweets_sample.num_hashtags = df_tweets_sample.num_hashtags.apply(\n",
    "    lambda x: x if not pd.isna(x) and x < max_num_hashtags else pd.NA)\n",
    "df_tweets_sample.num_hashtags = df_tweets_sample.num_hashtags.astype(\"Int64\")\n",
    "\n",
    "# Then we display the boxplot\n",
    "fig, (ax1, ax2) = plt.subplots(1, 2, figsize=(16, 5))\n",
    "df_tweets_sample.boxplot(column=\"num_hashtags\", ax=ax1)\n",
    "#ax1.set_yscale('log')\n",
    "df_tweets_sample.hist(column=\"num_hashtags\", ax=ax2, stacked=True, bins=mr_bins(\n",
    "    df_tweets_sample.num_hashtags.count()))\n",
    "ax2.set_yscale('log')\n",
    "fig.subplots_adjust(wspace=0.3)\n",
    "plt.show()"
   ]
  },
  {
   "cell_type": "markdown",
   "metadata": {},
   "source": [
    "**'num_mentions'** since the max char in a tweet is 280, and since a mention to a user needs a @ before the user's nickname (which could be just a letter) we decided to replace with the median number of hashtags everything that is above 280/2."
   ]
  },
  {
   "cell_type": "code",
   "execution_count": 32,
   "metadata": {},
   "outputs": [
    {
     "data": {
      "image/png": "[encoded data removed]",
      "text/plain": [
       "<Figure size 1600x500 with 2 Axes>"
      ]
     },
     "metadata": {},
     "output_type": "display_data"
    }
   ],
   "source": [
    "max_num_mentions = 140\n",
    "df_tweets_sample.num_mentions = df_tweets_sample.num_mentions.apply(\n",
    "    lambda x: x if not pd.isna(x) and x < max_num_mentions and x >= 0 else pd.NA)\n",
    "df_tweets_sample.num_mentions = df_tweets_sample.num_mentions.astype(\"Int64\")\n",
    "\n",
    "# Then we display the boxplot\n",
    "fig, (ax1, ax2) = plt.subplots(1, 2, figsize=(16, 5))\n",
    "df_tweets_sample.boxplot(column=\"num_mentions\", ax=ax1)\n",
    "#ax1.set_yscale('log')\n",
    "df_tweets_sample.hist(column=\"num_mentions\", ax=ax2, stacked=True, bins=mr_bins(\n",
    "    df_tweets_sample.num_mentions.count()))\n",
    "ax2.set_yscale('log')\n",
    "fig.subplots_adjust(wspace=0.3)\n",
    "plt.show()"
   ]
  },
  {
   "cell_type": "markdown",
   "metadata": {},
   "source": [
    "'created_at' since Twitter was founded in 2006 and we are in 2022, when we will analyze the years we will consider only the ones between 2006 and 2020"
   ]
  },
  {
   "cell_type": "markdown",
   "metadata": {},
   "source": [
    "## Preliminary cleaning"
   ]
  },
  {
   "cell_type": "markdown",
   "metadata": {},
   "source": [
    "Drop tweets where user_id is NaN. Tweets that clearly cannot be associated to any user do not contain useful info for further steps."
   ]
  },
  {
   "cell_type": "code",
   "execution_count": 33,
   "metadata": {},
   "outputs": [],
   "source": [
    "df_tweets_sample.dropna(subset=['user_id'], how='any', inplace=True)"
   ]
  },
  {
   "cell_type": "markdown",
   "metadata": {},
   "source": [
    "Drop name column in user Dataframe. It is not useful information to our purpuse."
   ]
  },
  {
   "cell_type": "code",
   "execution_count": 34,
   "metadata": {},
   "outputs": [],
   "source": [
    "df_users.drop(columns=['name'], inplace=True)"
   ]
  },
  {
   "cell_type": "markdown",
   "metadata": {},
   "source": [
    "## Manage duplicates"
   ]
  },
  {
   "cell_type": "markdown",
   "metadata": {},
   "source": [
    "Before we manage the duplicates, we firsly view the heatmap of users and tweets:"
   ]
  },
  {
   "cell_type": "code",
   "execution_count": 35,
   "metadata": {},
   "outputs": [
    {
     "data": {
      "image/png": "[encoded data removed]",
      "text/plain": [
       "<Figure size 1200x500 with 1 Axes>"
      ]
     },
     "metadata": {},
     "output_type": "display_data"
    }
   ],
   "source": [
    "fig, ax = plt.subplots(figsize=(12,5)) \n",
    "sn.heatmap(df_users.isnull(), cbar=False, xticklabels=True, ax=ax, yticklabels=False)\n",
    "plt.show()"
   ]
  },
  {
   "cell_type": "code",
   "execution_count": 36,
   "metadata": {},
   "outputs": [
    {
     "data": {
      "image/png": "[encoded data removed]",
      "text/plain": [
       "<Figure size 1200x500 with 1 Axes>"
      ]
     },
     "metadata": {},
     "output_type": "display_data"
    }
   ],
   "source": [
    "fig, ax = plt.subplots(figsize=(12,5)) \n",
    "sn.heatmap(df_tweets_sample.isnull(), cbar=False, xticklabels=True, ax=ax, yticklabels=False)\n",
    "plt.show()"
   ]
  },
  {
   "cell_type": "markdown",
   "metadata": {},
   "source": [
    "### User Dataframe\n",
    "Drop full row duplicates"
   ]
  },
  {
   "cell_type": "code",
   "execution_count": 37,
   "metadata": {},
   "outputs": [],
   "source": [
    "df_users.drop_duplicates(inplace=True)"
   ]
  },
  {
   "cell_type": "markdown",
   "metadata": {},
   "source": [
    "See if there are duplicate users with different NaN attributes, in order to recover missing ones from the clone"
   ]
  },
  {
   "cell_type": "code",
   "execution_count": 38,
   "metadata": {},
   "outputs": [],
   "source": [
    "df_users_duplicates = df_users.copy()\n",
    "\n",
    "# Find users with duplicate id\n",
    "df_users_duplicates_check = df_users_duplicates.duplicated([\"id\"])\n",
    "\n",
    "# Select [\"id\"] that have clones (to recover missing values)\n",
    "df_users_duplicates_2 = df_users_duplicates[df_users_duplicates_check].copy()\n",
    "df_users_duplicates_R = df_users_duplicates_2[[\"id\"]].copy()\n",
    "\n",
    "# Right Join to select them\n",
    "df_users_merge = df_users_duplicates.merge(df_users_duplicates_R, on=[\"id\"], how=\"right\")\n",
    "\n",
    "df_users_merge.dropna(subset=['id'], inplace=True)\n",
    "df_users_merge.sort_values([\"id\"])\n",
    "\n",
    "# Drop users with same id, as it would create problems in joining tables\n",
    "df_users.drop_duplicates(subset='id', inplace=True)\n"
   ]
  },
  {
   "cell_type": "code",
   "execution_count": 39,
   "metadata": {},
   "outputs": [
    {
     "name": "stdout",
     "output_type": "stream",
     "text": [
      "<class 'pandas.core.frame.DataFrame'>\n",
      "Int64Index: 11508 entries, 0 to 11507\n",
      "Data columns (total 5 columns):\n",
      " #   Column          Non-Null Count  Dtype         \n",
      "---  ------          --------------  -----         \n",
      " 0   id              11508 non-null  Int64         \n",
      " 1   lang            11508 non-null  category      \n",
      " 2   bot             11508 non-null  bool          \n",
      " 3   created_at      11508 non-null  datetime64[ns]\n",
      " 4   statuses_count  11109 non-null  Int64         \n",
      "dtypes: Int64(2), bool(1), category(1), datetime64[ns](1)\n",
      "memory usage: 405.3 KB\n"
     ]
    }
   ],
   "source": [
    "df_users.info()"
   ]
  },
  {
   "cell_type": "markdown",
   "metadata": {},
   "source": [
    "### Tweets Dataframe\n",
    "Drop full row duplicates\n"
   ]
  },
  {
   "cell_type": "code",
   "execution_count": 40,
   "metadata": {},
   "outputs": [],
   "source": [
    "df_tweets_sample.drop_duplicates(inplace=True)"
   ]
  },
  {
   "cell_type": "markdown",
   "metadata": {},
   "source": [
    "See if there are duplicate tweets with different NaN attributes, in order to recover missing ones from the clone"
   ]
  },
  {
   "cell_type": "code",
   "execution_count": 41,
   "metadata": {},
   "outputs": [
    {
     "name": "stdout",
     "output_type": "stream",
     "text": [
      "11278579\n"
     ]
    },
    {
     "data": {
      "text/html": [
       "<div>\n",
       "<style scoped>\n",
       "    .dataframe tbody tr th:only-of-type {\n",
       "        vertical-align: middle;\n",
       "    }\n",
       "\n",
       "    .dataframe tbody tr th {\n",
       "        vertical-align: top;\n",
       "    }\n",
       "\n",
       "    .dataframe thead th {\n",
       "        text-align: right;\n",
       "    }\n",
       "</style>\n",
       "<table border=\"1\" class=\"dataframe\">\n",
       "  <thead>\n",
       "    <tr style=\"text-align: right;\">\n",
       "      <th></th>\n",
       "      <th>id</th>\n",
       "      <th>user_id</th>\n",
       "      <th>retweet_count</th>\n",
       "      <th>reply_count</th>\n",
       "      <th>favorite_count</th>\n",
       "      <th>num_hashtags</th>\n",
       "      <th>num_urls</th>\n",
       "      <th>num_mentions</th>\n",
       "      <th>created_at</th>\n",
       "      <th>text</th>\n",
       "    </tr>\n",
       "  </thead>\n",
       "  <tbody>\n",
       "    <tr>\n",
       "      <th>28980220</th>\n",
       "      <td>199269133416792064</td>\n",
       "      <td>270494010</td>\n",
       "      <td>0</td>\n",
       "      <td>0</td>\n",
       "      <td>0</td>\n",
       "      <td>0</td>\n",
       "      <td>1</td>\n",
       "      <td>1</td>\n",
       "      <td>2017-05-08 22:47:18</td>\n",
       "      <td>Ik heb een video toegevoegd aan een @YouTube-a...</td>\n",
       "    </tr>\n",
       "    <tr>\n",
       "      <th>28980221</th>\n",
       "      <td>199269133416792064</td>\n",
       "      <td>270494010</td>\n",
       "      <td>0</td>\n",
       "      <td>0</td>\n",
       "      <td>0</td>\n",
       "      <td>0</td>\n",
       "      <td>1</td>\n",
       "      <td>1</td>\n",
       "      <td>2017-05-08 22:47:18</td>\n",
       "      <td>Ik heb een video toegevoegd aan een @YouTube-a...</td>\n",
       "    </tr>\n",
       "    <tr>\n",
       "      <th>33653334</th>\n",
       "      <td>458097180310400960</td>\n",
       "      <td>385121466</td>\n",
       "      <td>1</td>\n",
       "      <td>0</td>\n",
       "      <td>0</td>\n",
       "      <td>0</td>\n",
       "      <td>0</td>\n",
       "      <td>1</td>\n",
       "      <td>2019-04-23 04:17:33</td>\n",
       "      <td>RT @jameon_heard: Having to beat around the bu...</td>\n",
       "    </tr>\n",
       "    <tr>\n",
       "      <th>33653335</th>\n",
       "      <td>458097180310400960</td>\n",
       "      <td>385121466</td>\n",
       "      <td>1</td>\n",
       "      <td>0</td>\n",
       "      <td>0</td>\n",
       "      <td>0</td>\n",
       "      <td>0</td>\n",
       "      <td>1</td>\n",
       "      <td>2019-04-23 04:17:33</td>\n",
       "      <td>RT @jameon_heard: Either wayy</td>\n",
       "    </tr>\n",
       "    <tr>\n",
       "      <th>25344223</th>\n",
       "      <td>473413979579351040</td>\n",
       "      <td>1395978913</td>\n",
       "      <td>0</td>\n",
       "      <td>0</td>\n",
       "      <td>0</td>\n",
       "      <td>0</td>\n",
       "      <td>0</td>\n",
       "      <td>0</td>\n",
       "      <td>2019-06-04 10:41:03</td>\n",
       "      <td>the universe always has a plan</td>\n",
       "    </tr>\n",
       "    <tr>\n",
       "      <th>...</th>\n",
       "      <td>...</td>\n",
       "      <td>...</td>\n",
       "      <td>...</td>\n",
       "      <td>...</td>\n",
       "      <td>...</td>\n",
       "      <td>...</td>\n",
       "      <td>...</td>\n",
       "      <td>...</td>\n",
       "      <td>...</td>\n",
       "      <td>...</td>\n",
       "    </tr>\n",
       "    <tr>\n",
       "      <th>31027787</th>\n",
       "      <td>&lt;NA&gt;</td>\n",
       "      <td>3159993463</td>\n",
       "      <td>&lt;NA&gt;</td>\n",
       "      <td>&lt;NA&gt;</td>\n",
       "      <td>&lt;NA&gt;</td>\n",
       "      <td>&lt;NA&gt;</td>\n",
       "      <td>&lt;NA&gt;</td>\n",
       "      <td>0</td>\n",
       "      <td>2020-04-25 02:03:35</td>\n",
       "      <td>Renovation hell continues. Fifth day....</td>\n",
       "    </tr>\n",
       "    <tr>\n",
       "      <th>31027788</th>\n",
       "      <td>&lt;NA&gt;</td>\n",
       "      <td>3159993463</td>\n",
       "      <td>&lt;NA&gt;</td>\n",
       "      <td>&lt;NA&gt;</td>\n",
       "      <td>&lt;NA&gt;</td>\n",
       "      <td>&lt;NA&gt;</td>\n",
       "      <td>&lt;NA&gt;</td>\n",
       "      <td>1</td>\n",
       "      <td>2020-05-02 10:01:31</td>\n",
       "      <td>@Sandrasstories I'm much more of a fly by the ...</td>\n",
       "    </tr>\n",
       "    <tr>\n",
       "      <th>31027789</th>\n",
       "      <td>&lt;NA&gt;</td>\n",
       "      <td>3159993463</td>\n",
       "      <td>0</td>\n",
       "      <td>&lt;NA&gt;</td>\n",
       "      <td>&lt;NA&gt;</td>\n",
       "      <td>&lt;NA&gt;</td>\n",
       "      <td>&lt;NA&gt;</td>\n",
       "      <td>&lt;NA&gt;</td>\n",
       "      <td>2020-04-24 00:11:11</td>\n",
       "      <td>Wonderful pictures of China\n",
       "\n",
       "Isabella Bird: pi...</td>\n",
       "    </tr>\n",
       "    <tr>\n",
       "      <th>31027790</th>\n",
       "      <td>&lt;NA&gt;</td>\n",
       "      <td>3159993463</td>\n",
       "      <td>&lt;NA&gt;</td>\n",
       "      <td>&lt;NA&gt;</td>\n",
       "      <td>&lt;NA&gt;</td>\n",
       "      <td>&lt;NA&gt;</td>\n",
       "      <td>&lt;NA&gt;</td>\n",
       "      <td>&lt;NA&gt;</td>\n",
       "      <td>2020-04-30 06:25:47</td>\n",
       "      <td>All the fiddly bits of banking. Why do they ma...</td>\n",
       "    </tr>\n",
       "    <tr>\n",
       "      <th>31027791</th>\n",
       "      <td>&lt;NA&gt;</td>\n",
       "      <td>3159993463</td>\n",
       "      <td>2</td>\n",
       "      <td>&lt;NA&gt;</td>\n",
       "      <td>&lt;NA&gt;</td>\n",
       "      <td>&lt;NA&gt;</td>\n",
       "      <td>&lt;NA&gt;</td>\n",
       "      <td>2</td>\n",
       "      <td>2020-04-30 13:26:48</td>\n",
       "      <td>RT @eva_dolan: nominate your favourites in the...</td>\n",
       "    </tr>\n",
       "  </tbody>\n",
       "</table>\n",
       "<p>34762878 rows × 10 columns</p>\n",
       "</div>"
      ],
      "text/plain": [
       "                          id     user_id  retweet_count  reply_count  \\\n",
       "28980220  199269133416792064   270494010              0            0   \n",
       "28980221  199269133416792064   270494010              0            0   \n",
       "33653334  458097180310400960   385121466              1            0   \n",
       "33653335  458097180310400960   385121466              1            0   \n",
       "25344223  473413979579351040  1395978913              0            0   \n",
       "...                      ...         ...            ...          ...   \n",
       "31027787                <NA>  3159993463           <NA>         <NA>   \n",
       "31027788                <NA>  3159993463           <NA>         <NA>   \n",
       "31027789                <NA>  3159993463              0         <NA>   \n",
       "31027790                <NA>  3159993463           <NA>         <NA>   \n",
       "31027791                <NA>  3159993463              2         <NA>   \n",
       "\n",
       "          favorite_count  num_hashtags  num_urls  num_mentions  \\\n",
       "28980220               0             0         1             1   \n",
       "28980221               0             0         1             1   \n",
       "33653334               0             0         0             1   \n",
       "33653335               0             0         0             1   \n",
       "25344223               0             0         0             0   \n",
       "...                  ...           ...       ...           ...   \n",
       "31027787            <NA>          <NA>      <NA>             0   \n",
       "31027788            <NA>          <NA>      <NA>             1   \n",
       "31027789            <NA>          <NA>      <NA>          <NA>   \n",
       "31027790            <NA>          <NA>      <NA>          <NA>   \n",
       "31027791            <NA>          <NA>      <NA>             2   \n",
       "\n",
       "                  created_at  \\\n",
       "28980220 2017-05-08 22:47:18   \n",
       "28980221 2017-05-08 22:47:18   \n",
       "33653334 2019-04-23 04:17:33   \n",
       "33653335 2019-04-23 04:17:33   \n",
       "25344223 2019-06-04 10:41:03   \n",
       "...                      ...   \n",
       "31027787 2020-04-25 02:03:35   \n",
       "31027788 2020-05-02 10:01:31   \n",
       "31027789 2020-04-24 00:11:11   \n",
       "31027790 2020-04-30 06:25:47   \n",
       "31027791 2020-04-30 13:26:48   \n",
       "\n",
       "                                                       text  \n",
       "28980220  Ik heb een video toegevoegd aan een @YouTube-a...  \n",
       "28980221  Ik heb een video toegevoegd aan een @YouTube-a...  \n",
       "33653334  RT @jameon_heard: Having to beat around the bu...  \n",
       "33653335                      RT @jameon_heard: Either wayy  \n",
       "25344223                     the universe always has a plan  \n",
       "...                                                     ...  \n",
       "31027787           Renovation hell continues. Fifth day....  \n",
       "31027788  @Sandrasstories I'm much more of a fly by the ...  \n",
       "31027789  Wonderful pictures of China\n",
       "\n",
       "Isabella Bird: pi...  \n",
       "31027790  All the fiddly bits of banking. Why do they ma...  \n",
       "31027791  RT @eva_dolan: nominate your favourites in the...  \n",
       "\n",
       "[34762878 rows x 10 columns]"
      ]
     },
     "execution_count": 41,
     "metadata": {},
     "output_type": "execute_result"
    }
   ],
   "source": [
    "df_tweets_duplicates = df_tweets_sample.copy()\n",
    "# Find duplicates on tweet id and user_id features\n",
    "df_tweets_duplicates_check = df_tweets_duplicates.duplicated(subset=[\"id\", \"user_id\"])\n",
    "print(len(df_tweets_duplicates_check))\n",
    "\n",
    "# Select [\"id\", \"user_id\"] that have clones\n",
    "df_tweets_duplicates_2 = df_tweets_duplicates[df_tweets_duplicates_check]\n",
    "df_tweets_duplicates_R = df_tweets_duplicates_2[[\"id\", \"user_id\"]]\n",
    "\n",
    "# Right join to select them\n",
    "df_tweets_merge = df_tweets_duplicates.merge(df_tweets_duplicates_R,on=[\"id\",\"user_id\"],how=\"right\")\n",
    "\n",
    "df_tweets_merge.dropna(subset=['user_id'], inplace=True)\n",
    "df_tweets_merge.sort_values([\"id\", \"user_id\"])"
   ]
  },
  {
   "cell_type": "code",
   "execution_count": 42,
   "metadata": {},
   "outputs": [
    {
     "data": {
      "text/html": [
       "<div>\n",
       "<style scoped>\n",
       "    .dataframe tbody tr th:only-of-type {\n",
       "        vertical-align: middle;\n",
       "    }\n",
       "\n",
       "    .dataframe tbody tr th {\n",
       "        vertical-align: top;\n",
       "    }\n",
       "\n",
       "    .dataframe thead th {\n",
       "        text-align: right;\n",
       "    }\n",
       "</style>\n",
       "<table border=\"1\" class=\"dataframe\">\n",
       "  <thead>\n",
       "    <tr style=\"text-align: right;\">\n",
       "      <th></th>\n",
       "      <th>id</th>\n",
       "      <th>user_id</th>\n",
       "      <th>retweet_count</th>\n",
       "      <th>reply_count</th>\n",
       "      <th>favorite_count</th>\n",
       "      <th>num_hashtags</th>\n",
       "      <th>num_urls</th>\n",
       "      <th>num_mentions</th>\n",
       "      <th>created_at</th>\n",
       "      <th>text</th>\n",
       "    </tr>\n",
       "  </thead>\n",
       "  <tbody>\n",
       "    <tr>\n",
       "      <th>0</th>\n",
       "      <td>509354017856950336</td>\n",
       "      <td>327746321</td>\n",
       "      <td>0</td>\n",
       "      <td>0</td>\n",
       "      <td>0</td>\n",
       "      <td>0</td>\n",
       "      <td>0</td>\n",
       "      <td>0</td>\n",
       "      <td>2019-09-11 14:53:55</td>\n",
       "      <td>If man is a little lower than angels, then ang...</td>\n",
       "    </tr>\n",
       "    <tr>\n",
       "      <th>1</th>\n",
       "      <td>583002592529121280</td>\n",
       "      <td>333722906</td>\n",
       "      <td>1</td>\n",
       "      <td>0</td>\n",
       "      <td>0</td>\n",
       "      <td>0</td>\n",
       "      <td>0</td>\n",
       "      <td>1</td>\n",
       "      <td>2020-04-01 20:27:04</td>\n",
       "      <td>\"@BestWSHHVids: how do you say these words wit...</td>\n",
       "    </tr>\n",
       "    <tr>\n",
       "      <th>2</th>\n",
       "      <td>461498835362013184</td>\n",
       "      <td>2379755827</td>\n",
       "      <td>0</td>\n",
       "      <td>0</td>\n",
       "      <td>0</td>\n",
       "      <td>0</td>\n",
       "      <td>0</td>\n",
       "      <td>1</td>\n",
       "      <td>2019-05-02 13:34:31</td>\n",
       "      <td>@LOLatComedy awsome</td>\n",
       "    </tr>\n",
       "    <tr>\n",
       "      <th>3</th>\n",
       "      <td>528808127366692864</td>\n",
       "      <td>466226882</td>\n",
       "      <td>0</td>\n",
       "      <td>0</td>\n",
       "      <td>0</td>\n",
       "      <td>0</td>\n",
       "      <td>0</td>\n",
       "      <td>0</td>\n",
       "      <td>2019-11-04 07:17:37</td>\n",
       "      <td>Stephen Hawkins: i buchi neri non esistono se ...</td>\n",
       "    </tr>\n",
       "    <tr>\n",
       "      <th>4</th>\n",
       "      <td>575336690904006656</td>\n",
       "      <td>1355537995</td>\n",
       "      <td>114</td>\n",
       "      <td>0</td>\n",
       "      <td>0</td>\n",
       "      <td>1</td>\n",
       "      <td>0</td>\n",
       "      <td>1</td>\n",
       "      <td>2020-03-11 16:45:31</td>\n",
       "      <td>RT @tibbs_montris: So ready for Wednesday!</td>\n",
       "    </tr>\n",
       "  </tbody>\n",
       "</table>\n",
       "</div>"
      ],
      "text/plain": [
       "                   id     user_id  retweet_count  reply_count  favorite_count  \\\n",
       "0  509354017856950336   327746321              0            0               0   \n",
       "1  583002592529121280   333722906              1            0               0   \n",
       "2  461498835362013184  2379755827              0            0               0   \n",
       "3  528808127366692864   466226882              0            0               0   \n",
       "4  575336690904006656  1355537995            114            0               0   \n",
       "\n",
       "   num_hashtags  num_urls  num_mentions          created_at  \\\n",
       "0             0         0             0 2019-09-11 14:53:55   \n",
       "1             0         0             1 2020-04-01 20:27:04   \n",
       "2             0         0             1 2019-05-02 13:34:31   \n",
       "3             0         0             0 2019-11-04 07:17:37   \n",
       "4             1         0             1 2020-03-11 16:45:31   \n",
       "\n",
       "                                                text  \n",
       "0  If man is a little lower than angels, then ang...  \n",
       "1  \"@BestWSHHVids: how do you say these words wit...  \n",
       "2                                @LOLatComedy awsome  \n",
       "3  Stephen Hawkins: i buchi neri non esistono se ...  \n",
       "4        RT @tibbs_montris: So ready for Wednesday!   "
      ]
     },
     "execution_count": 42,
     "metadata": {},
     "output_type": "execute_result"
    }
   ],
   "source": [
    "df_tweets_duplicates.head()"
   ]
  },
  {
   "cell_type": "code",
   "execution_count": 43,
   "metadata": {},
   "outputs": [
    {
     "name": "stdout",
     "output_type": "stream",
     "text": [
      "<class 'pandas.core.frame.DataFrame'>\n",
      "Int64Index: 11278579 entries, 0 to 13664695\n",
      "Data columns (total 10 columns):\n",
      " #   Column          Dtype         \n",
      "---  ------          -----         \n",
      " 0   id              Int64         \n",
      " 1   user_id         Int64         \n",
      " 2   retweet_count   Int64         \n",
      " 3   reply_count     Int64         \n",
      " 4   favorite_count  Int64         \n",
      " 5   num_hashtags    Int64         \n",
      " 6   num_urls        Int64         \n",
      " 7   num_mentions    Int64         \n",
      " 8   created_at      datetime64[ns]\n",
      " 9   text            string        \n",
      "dtypes: Int64(8), datetime64[ns](1), string(1)\n",
      "memory usage: 1.0 GB\n"
     ]
    }
   ],
   "source": [
    "df_tweets_sample.info()"
   ]
  },
  {
   "cell_type": "markdown",
   "metadata": {},
   "source": [
    "We now see the heatmap of user and tweets without duplicates:"
   ]
  },
  {
   "cell_type": "code",
   "execution_count": 44,
   "metadata": {},
   "outputs": [
    {
     "data": {
      "image/png": "[encoded data removed]",
      "text/plain": [
       "<Figure size 1200x500 with 1 Axes>"
      ]
     },
     "metadata": {},
     "output_type": "display_data"
    }
   ],
   "source": [
    "fig, ax = plt.subplots(figsize=(12,5)) \n",
    "sn.heatmap(df_users.isnull(), cbar=False, xticklabels=True, ax=ax, yticklabels=False)\n",
    "plt.show()"
   ]
  },
  {
   "cell_type": "code",
   "execution_count": 45,
   "metadata": {},
   "outputs": [
    {
     "data": {
      "image/png": "[encoded data removed]",
      "text/plain": [
       "<Figure size 1200x500 with 1 Axes>"
      ]
     },
     "metadata": {},
     "output_type": "display_data"
    }
   ],
   "source": [
    "fig, ax = plt.subplots(figsize=(12,5)) \n",
    "sn.heatmap(df_tweets_sample.isnull(), cbar=False, xticklabels=True, ax=ax, yticklabels=False)\n",
    "plt.show()"
   ]
  },
  {
   "cell_type": "markdown",
   "metadata": {},
   "source": [
    "## Manage NaN before joining tables"
   ]
  },
  {
   "cell_type": "markdown",
   "metadata": {},
   "source": [
    "Better do before join in order to work only on Users Dataframe which is significantly smaller"
   ]
  },
  {
   "cell_type": "markdown",
   "metadata": {},
   "source": [
    "As statuses_count in df_users contains only tweet count and not replies, while df_tweets contains also replies, we cannot estimate NaN statuses_count with the number of the users tweets, so we fill those NaNs with median of bot and median of not-bot users"
   ]
  },
  {
   "cell_type": "code",
   "execution_count": 46,
   "metadata": {},
   "outputs": [],
   "source": [
    "def subsititute_with_median_user(row, bot_median, not_bot_median):\n",
    "    if pd.isnull(row.statuses_count):\n",
    "        if row['bot'] == True:\n",
    "            row.statuses_count = bot_median\n",
    "        else:\n",
    "            row.statuses_count = not_bot_median\n",
    "    return row"
   ]
  },
  {
   "cell_type": "code",
   "execution_count": 47,
   "metadata": {},
   "outputs": [
    {
     "name": "stdout",
     "output_type": "stream",
     "text": [
      "<class 'pandas.core.frame.DataFrame'>\n",
      "Int64Index: 11508 entries, 0 to 11507\n",
      "Data columns (total 5 columns):\n",
      " #   Column          Non-Null Count  Dtype         \n",
      "---  ------          --------------  -----         \n",
      " 0   id              11508 non-null  Int64         \n",
      " 1   lang            11508 non-null  category      \n",
      " 2   bot             11508 non-null  bool          \n",
      " 3   created_at      11508 non-null  datetime64[ns]\n",
      " 4   statuses_count  11109 non-null  Int64         \n",
      "dtypes: Int64(2), bool(1), category(1), datetime64[ns](1)\n",
      "memory usage: 405.3 KB\n"
     ]
    }
   ],
   "source": [
    "df_users.info()"
   ]
  },
  {
   "cell_type": "code",
   "execution_count": 48,
   "metadata": {},
   "outputs": [
    {
     "name": "stdout",
     "output_type": "stream",
     "text": [
      "bot median statuses_count: 53\n",
      "not bot median statuses_count: 2041\n"
     ]
    }
   ],
   "source": [
    "# Statuses_count median for bot and not-bot users\n",
    "bot_median = df_users.loc[df_users['bot'] == True].statuses_count.median().astype(np.int64)\n",
    "not_bot_median = df_users.loc[df_users['bot'] == False].statuses_count.median().astype(np.int64)\n",
    "print('bot median statuses_count:', bot_median)\n",
    "print('not bot median statuses_count:', not_bot_median)\n",
    "\n",
    "# Apply substitution\n",
    "df_users = df_users.apply(func=subsititute_with_median_user, axis=1, args=(bot_median, not_bot_median))"
   ]
  },
  {
   "cell_type": "code",
   "execution_count": 49,
   "metadata": {},
   "outputs": [
    {
     "name": "stdout",
     "output_type": "stream",
     "text": [
      "<class 'pandas.core.frame.DataFrame'>\n",
      "Int64Index: 11508 entries, 0 to 11507\n",
      "Data columns (total 5 columns):\n",
      " #   Column          Non-Null Count  Dtype         \n",
      "---  ------          --------------  -----         \n",
      " 0   id              11508 non-null  int64         \n",
      " 1   lang            11508 non-null  object        \n",
      " 2   bot             11508 non-null  bool          \n",
      " 3   created_at      11508 non-null  datetime64[ns]\n",
      " 4   statuses_count  11508 non-null  int64         \n",
      "dtypes: bool(1), datetime64[ns](1), int64(2), object(1)\n",
      "memory usage: 460.8+ KB\n"
     ]
    }
   ],
   "source": [
    "df_users.info()"
   ]
  },
  {
   "cell_type": "markdown",
   "metadata": {},
   "source": [
    "## Joining tables\n",
    "Joining the tables to make sure we work only on the user into the user DB"
   ]
  },
  {
   "cell_type": "code",
   "execution_count": 50,
   "metadata": {},
   "outputs": [
    {
     "name": "stdout",
     "output_type": "stream",
     "text": [
      "<class 'pandas.core.frame.DataFrame'>\n",
      "Int64Index: 11278579 entries, 0 to 13664695\n",
      "Data columns (total 10 columns):\n",
      " #   Column          Dtype         \n",
      "---  ------          -----         \n",
      " 0   id              Int64         \n",
      " 1   user_id         Int64         \n",
      " 2   retweet_count   Int64         \n",
      " 3   reply_count     Int64         \n",
      " 4   favorite_count  Int64         \n",
      " 5   num_hashtags    Int64         \n",
      " 6   num_urls        Int64         \n",
      " 7   num_mentions    Int64         \n",
      " 8   created_at      datetime64[ns]\n",
      " 9   text            string        \n",
      "dtypes: Int64(8), datetime64[ns](1), string(1)\n",
      "memory usage: 1.0 GB\n"
     ]
    }
   ],
   "source": [
    "df_tweets_sample.info()"
   ]
  },
  {
   "cell_type": "code",
   "execution_count": 51,
   "metadata": {},
   "outputs": [],
   "source": [
    "# Join\n",
    "df_joined = pd.merge(df_tweets_sample, df_users, left_on='user_id', right_on='id', how='inner', suffixes=('', '_user'))"
   ]
  },
  {
   "cell_type": "code",
   "execution_count": 52,
   "metadata": {},
   "outputs": [],
   "source": [
    "# Drop duplicate user_id column\n",
    "df_joined.drop(columns=['id_user'], inplace=True)"
   ]
  },
  {
   "cell_type": "code",
   "execution_count": 53,
   "metadata": {},
   "outputs": [
    {
     "name": "stdout",
     "output_type": "stream",
     "text": [
      "<class 'pandas.core.frame.DataFrame'>\n",
      "Int64Index: 11277758 entries, 0 to 11277757\n",
      "Data columns (total 14 columns):\n",
      " #   Column           Dtype         \n",
      "---  ------           -----         \n",
      " 0   id               Int64         \n",
      " 1   user_id          Int64         \n",
      " 2   retweet_count    Int64         \n",
      " 3   reply_count      Int64         \n",
      " 4   favorite_count   Int64         \n",
      " 5   num_hashtags     Int64         \n",
      " 6   num_urls         Int64         \n",
      " 7   num_mentions     Int64         \n",
      " 8   created_at       datetime64[ns]\n",
      " 9   text             string        \n",
      " 10  lang             object        \n",
      " 11  bot              bool          \n",
      " 12  created_at_user  datetime64[ns]\n",
      " 13  statuses_count   int64         \n",
      "dtypes: Int64(8), bool(1), datetime64[ns](2), int64(1), object(1), string(1)\n",
      "memory usage: 1.3+ GB\n"
     ]
    }
   ],
   "source": [
    "df_joined.info()"
   ]
  },
  {
   "cell_type": "markdown",
   "metadata": {},
   "source": [
    "## Manage NaN after joining tables"
   ]
  },
  {
   "cell_type": "markdown",
   "metadata": {},
   "source": [
    "### Tweets Manage NaN\n",
    "Fill the NaN in the numeric columns"
   ]
  },
  {
   "cell_type": "markdown",
   "metadata": {},
   "source": [
    "Create Dataframe with count of **valid** (== non-null) numeric tweet attributes grouped by users"
   ]
  },
  {
   "cell_type": "code",
   "execution_count": 54,
   "metadata": {},
   "outputs": [],
   "source": [
    "df_grouped_by_user_num_valid = df_joined.groupby(['user_id']).count().iloc[:, 1 : 7]"
   ]
  },
  {
   "cell_type": "code",
   "execution_count": 55,
   "metadata": {},
   "outputs": [
    {
     "name": "stdout",
     "output_type": "stream",
     "text": [
      "<class 'pandas.core.frame.DataFrame'>\n",
      "RangeIndex: 11508 entries, 0 to 11507\n",
      "Data columns (total 7 columns):\n",
      " #   Column          Non-Null Count  Dtype\n",
      "---  ------          --------------  -----\n",
      " 0   user_id         11508 non-null  int64\n",
      " 1   retweet_count   11508 non-null  int64\n",
      " 2   reply_count     11508 non-null  int64\n",
      " 3   favorite_count  11508 non-null  int64\n",
      " 4   num_hashtags    11508 non-null  int64\n",
      " 5   num_urls        11508 non-null  int64\n",
      " 6   num_mentions    11508 non-null  int64\n",
      "dtypes: int64(7)\n",
      "memory usage: 629.5 KB\n"
     ]
    }
   ],
   "source": [
    "df_grouped_by_user_num_valid.reset_index(inplace=True)\n",
    "df_grouped_by_user_num_valid.info()"
   ]
  },
  {
   "cell_type": "markdown",
   "metadata": {},
   "source": [
    "Create Dataframe with **median** value of numeric tweet attributes grouped by users"
   ]
  },
  {
   "cell_type": "code",
   "execution_count": 56,
   "metadata": {},
   "outputs": [],
   "source": [
    "df_grouped_by_user_median = df_joined.groupby(['user_id']).median().iloc[:, 1 : 7]\n",
    "df_grouped_by_user_median.apply(cast_int)\n",
    "df_grouped_by_user_median = df_grouped_by_user_median.astype('Int64')"
   ]
  },
  {
   "cell_type": "code",
   "execution_count": 57,
   "metadata": {},
   "outputs": [
    {
     "name": "stdout",
     "output_type": "stream",
     "text": [
      "<class 'pandas.core.frame.DataFrame'>\n",
      "RangeIndex: 11508 entries, 0 to 11507\n",
      "Data columns (total 7 columns):\n",
      " #   Column          Non-Null Count  Dtype\n",
      "---  ------          --------------  -----\n",
      " 0   user_id         11508 non-null  int64\n",
      " 1   retweet_count   11508 non-null  Int64\n",
      " 2   reply_count     11508 non-null  Int64\n",
      " 3   favorite_count  11508 non-null  Int64\n",
      " 4   num_hashtags    11508 non-null  Int64\n",
      " 5   num_urls        11508 non-null  Int64\n",
      " 6   num_mentions    11508 non-null  Int64\n",
      "dtypes: Int64(6), int64(1)\n",
      "memory usage: 696.9 KB\n"
     ]
    }
   ],
   "source": [
    "df_grouped_by_user_median.reset_index(inplace=True)\n",
    "df_grouped_by_user_median.info()"
   ]
  },
  {
   "cell_type": "markdown",
   "metadata": {},
   "source": [
    "Join the two support dataframes since they are both grouped by *user_id*"
   ]
  },
  {
   "cell_type": "code",
   "execution_count": 58,
   "metadata": {},
   "outputs": [],
   "source": [
    "df_grouped_by_user_joined = pd.merge(df_grouped_by_user_median, df_grouped_by_user_num_valid, left_on='user_id', right_on='user_id', how='inner', suffixes=('_median', '_valid'))"
   ]
  },
  {
   "cell_type": "code",
   "execution_count": 59,
   "metadata": {},
   "outputs": [
    {
     "name": "stdout",
     "output_type": "stream",
     "text": [
      "<class 'pandas.core.frame.DataFrame'>\n",
      "Int64Index: 11508 entries, 0 to 11507\n",
      "Data columns (total 13 columns):\n",
      " #   Column                 Non-Null Count  Dtype\n",
      "---  ------                 --------------  -----\n",
      " 0   user_id                11508 non-null  int64\n",
      " 1   retweet_count_median   11508 non-null  Int64\n",
      " 2   reply_count_median     11508 non-null  Int64\n",
      " 3   favorite_count_median  11508 non-null  Int64\n",
      " 4   num_hashtags_median    11508 non-null  Int64\n",
      " 5   num_urls_median        11508 non-null  Int64\n",
      " 6   num_mentions_median    11508 non-null  Int64\n",
      " 7   retweet_count_valid    11508 non-null  int64\n",
      " 8   reply_count_valid      11508 non-null  int64\n",
      " 9   favorite_count_valid   11508 non-null  int64\n",
      " 10  num_hashtags_valid     11508 non-null  int64\n",
      " 11  num_urls_valid         11508 non-null  int64\n",
      " 12  num_mentions_valid     11508 non-null  int64\n",
      "dtypes: Int64(6), int64(7)\n",
      "memory usage: 1.3 MB\n"
     ]
    }
   ],
   "source": [
    "df_grouped_by_user_joined.info()"
   ]
  },
  {
   "cell_type": "markdown",
   "metadata": {},
   "source": [
    "Add 'bot' column for each user with a merge with users DataFrame"
   ]
  },
  {
   "cell_type": "code",
   "execution_count": 60,
   "metadata": {},
   "outputs": [],
   "source": [
    "df_grouped_by_user_joined = pd.merge(df_grouped_by_user_joined, df_users[['id', 'bot']], left_on='user_id', right_on='id', how='inner', suffixes=('_', '_user'))\n",
    "df_grouped_by_user_joined.drop(columns=['id'], inplace=True)\n"
   ]
  },
  {
   "cell_type": "code",
   "execution_count": 61,
   "metadata": {},
   "outputs": [
    {
     "name": "stdout",
     "output_type": "stream",
     "text": [
      "<class 'pandas.core.frame.DataFrame'>\n",
      "Int64Index: 11508 entries, 0 to 11507\n",
      "Data columns (total 14 columns):\n",
      " #   Column                 Non-Null Count  Dtype\n",
      "---  ------                 --------------  -----\n",
      " 0   user_id                11508 non-null  int64\n",
      " 1   retweet_count_median   11508 non-null  Int64\n",
      " 2   reply_count_median     11508 non-null  Int64\n",
      " 3   favorite_count_median  11508 non-null  Int64\n",
      " 4   num_hashtags_median    11508 non-null  Int64\n",
      " 5   num_urls_median        11508 non-null  Int64\n",
      " 6   num_mentions_median    11508 non-null  Int64\n",
      " 7   retweet_count_valid    11508 non-null  int64\n",
      " 8   reply_count_valid      11508 non-null  int64\n",
      " 9   favorite_count_valid   11508 non-null  int64\n",
      " 10  num_hashtags_valid     11508 non-null  int64\n",
      " 11  num_urls_valid         11508 non-null  int64\n",
      " 12  num_mentions_valid     11508 non-null  int64\n",
      " 13  bot                    11508 non-null  bool \n",
      "dtypes: Int64(6), bool(1), int64(7)\n",
      "memory usage: 1.3 MB\n"
     ]
    }
   ],
   "source": [
    "df_grouped_by_user_joined.info()"
   ]
  },
  {
   "cell_type": "markdown",
   "metadata": {},
   "source": [
    "Define a function that for each attribute and for each user define the median value to use in case null substitution is needed.\n",
    "\n",
    "If for the user has less than *min_valid_user_values* tweets with a valid attribute, we use bot/not-bot median for that attribute and user instead of user attribute median."
   ]
  },
  {
   "cell_type": "code",
   "execution_count": 62,
   "metadata": {},
   "outputs": [],
   "source": [
    "def use_bot_or_user_median (row, col_name, bot_median, not_bot_median, min_valid_user_values):\n",
    "    col_median = col_name + '_median'\n",
    "    col_num_val = col_name + '_valid'\n",
    "\n",
    "    if row[col_num_val] < min_valid_user_values or pd.isna(row[col_num_val]):\n",
    "        if row['bot'] == True:\n",
    "            row[col_median] = bot_median\n",
    "        else:\n",
    "            row[col_median] = not_bot_median\n",
    "    return row\n",
    "    "
   ]
  },
  {
   "cell_type": "code",
   "execution_count": 63,
   "metadata": {},
   "outputs": [
    {
     "name": "stdout",
     "output_type": "stream",
     "text": [
      "bot median retweet_count: 0\n",
      "not bot median retweet_count: 0\n",
      "bot median reply_count: 0\n",
      "not bot median reply_count: 0\n",
      "bot median favorite_count: 0\n",
      "not bot median favorite_count: 0\n",
      "bot median num_hashtags: 0\n",
      "not bot median num_hashtags: 0\n",
      "bot median num_urls: 0\n",
      "not bot median num_urls: 0\n",
      "bot median num_mentions: 0\n",
      "not bot median num_mentions: 1\n"
     ]
    }
   ],
   "source": [
    "# Minimum value of other tweets with not-NaN feature\n",
    "min_valid_user_values = 20 \n",
    "\n",
    "for col_name in df_joined.iloc[:, 2 : 8]:\n",
    "    # Calculate median on the feature for bots and not-bots\n",
    "    bot_median = df_joined.loc[df_joined['bot'] == True][col_name].median().astype(np.int64)\n",
    "    not_bot_median = df_joined.loc[df_joined['bot'] == False][col_name].median().astype(np.int64)\n",
    "    print('bot median {}:'.format(col_name), bot_median)\n",
    "    print('not bot median {}:'.format(col_name), not_bot_median)\n",
    "\n",
    "    # Substittute in the support DataFrame the median for each user\n",
    "    df_grouped_by_user_joined = df_grouped_by_user_joined.apply(\n",
    "        func=use_bot_or_user_median, axis=1, args=(\n",
    "            col_name, bot_median, not_bot_median, min_valid_user_values))"
   ]
  },
  {
   "cell_type": "markdown",
   "metadata": {},
   "source": [
    "Drop *_num_valid* and 'bot' columns in support DataFrame"
   ]
  },
  {
   "cell_type": "code",
   "execution_count": 64,
   "metadata": {},
   "outputs": [],
   "source": [
    "df_grouped_by_user_joined = df_grouped_by_user_joined.iloc[: , :-7]"
   ]
  },
  {
   "cell_type": "code",
   "execution_count": 65,
   "metadata": {},
   "outputs": [
    {
     "name": "stdout",
     "output_type": "stream",
     "text": [
      "<class 'pandas.core.frame.DataFrame'>\n",
      "Int64Index: 11508 entries, 0 to 11507\n",
      "Data columns (total 7 columns):\n",
      " #   Column                 Non-Null Count  Dtype\n",
      "---  ------                 --------------  -----\n",
      " 0   user_id                11508 non-null  Int64\n",
      " 1   retweet_count_median   11508 non-null  Int64\n",
      " 2   reply_count_median     11508 non-null  Int64\n",
      " 3   favorite_count_median  11508 non-null  Int64\n",
      " 4   num_hashtags_median    11508 non-null  Int64\n",
      " 5   num_urls_median        11508 non-null  Int64\n",
      " 6   num_mentions_median    11508 non-null  Int64\n",
      "dtypes: Int64(7)\n",
      "memory usage: 797.9 KB\n"
     ]
    }
   ],
   "source": [
    "df_grouped_by_user_joined.info()"
   ]
  },
  {
   "cell_type": "markdown",
   "metadata": {},
   "source": [
    "Convert support DataFrame of medians into a nested dictionary in order to optimize access speed.\n",
    "\n",
    "Each key of the dict is the column name (*col_name_median*), each value is a subdictionary.\n",
    "Each subdictionary contains a key for each user_id with the eventual median to subsititute for that user in that column."
   ]
  },
  {
   "cell_type": "code",
   "execution_count": 66,
   "metadata": {},
   "outputs": [],
   "source": [
    "median_nested_dict = df_grouped_by_user_joined.set_index('user_id').to_dict()"
   ]
  },
  {
   "cell_type": "code",
   "execution_count": 67,
   "metadata": {},
   "outputs": [
    {
     "name": "stdout",
     "output_type": "stream",
     "text": [
      "<class 'pandas.core.frame.DataFrame'>\n",
      "Int64Index: 11277758 entries, 0 to 11277757\n",
      "Data columns (total 14 columns):\n",
      " #   Column           Dtype         \n",
      "---  ------           -----         \n",
      " 0   id               Int64         \n",
      " 1   user_id          Int64         \n",
      " 2   retweet_count    Int64         \n",
      " 3   reply_count      Int64         \n",
      " 4   favorite_count   Int64         \n",
      " 5   num_hashtags     Int64         \n",
      " 6   num_urls         Int64         \n",
      " 7   num_mentions     Int64         \n",
      " 8   created_at       datetime64[ns]\n",
      " 9   text             string        \n",
      " 10  lang             object        \n",
      " 11  bot              bool          \n",
      " 12  created_at_user  datetime64[ns]\n",
      " 13  statuses_count   int64         \n",
      "dtypes: Int64(8), bool(1), datetime64[ns](2), int64(1), object(1), string(1)\n",
      "memory usage: 1.3+ GB\n"
     ]
    }
   ],
   "source": [
    "df_joined.info()"
   ]
  },
  {
   "cell_type": "markdown",
   "metadata": {},
   "source": [
    "Substitute for each numeric tweet attributr in the *df_joined* DataFrame NaN values with values from median nested dictionary."
   ]
  },
  {
   "cell_type": "code",
   "execution_count": 68,
   "metadata": {},
   "outputs": [
    {
     "name": "stdout",
     "output_type": "stream",
     "text": [
      "Doing: retweet_count\n",
      "Doing: reply_count\n",
      "Doing: favorite_count\n",
      "Doing: num_hashtags\n",
      "Doing: num_urls\n",
      "Doing: num_mentions\n"
     ]
    }
   ],
   "source": [
    "# Minimum value of other tweets with not-NaN feature\n",
    "min_valid_user_values = 20 \n",
    "\n",
    "col_idx = 0\n",
    "\n",
    "df_joined.set_index('user_id', inplace=True)\n",
    "\n",
    "for col_name in df_joined.iloc[:, 1 : 7]:\n",
    "    print('Doing:',  col_name)\n",
    "    col_median = col_name + '_median'\n",
    "\n",
    "    df_joined[col_name].fillna(median_nested_dict[col_median], inplace=True)"
   ]
  },
  {
   "cell_type": "markdown",
   "metadata": {},
   "source": [
    "Substitute all NaN 'text' strings with \"\", the void string"
   ]
  },
  {
   "cell_type": "code",
   "execution_count": 69,
   "metadata": {},
   "outputs": [],
   "source": [
    "df_joined.text.fillna(value=\"\", inplace=True)"
   ]
  },
  {
   "cell_type": "code",
   "execution_count": 70,
   "metadata": {},
   "outputs": [
    {
     "name": "stdout",
     "output_type": "stream",
     "text": [
      "<class 'pandas.core.frame.DataFrame'>\n",
      "Index: 11277758 entries, 327746321 to 334249560\n",
      "Data columns (total 13 columns):\n",
      " #   Column           Dtype         \n",
      "---  ------           -----         \n",
      " 0   id               Int64         \n",
      " 1   retweet_count    Int64         \n",
      " 2   reply_count      Int64         \n",
      " 3   favorite_count   Int64         \n",
      " 4   num_hashtags     Int64         \n",
      " 5   num_urls         Int64         \n",
      " 6   num_mentions     Int64         \n",
      " 7   created_at       datetime64[ns]\n",
      " 8   text             string        \n",
      " 9   lang             object        \n",
      " 10  bot              bool          \n",
      " 11  created_at_user  datetime64[ns]\n",
      " 12  statuses_count   int64         \n",
      "dtypes: Int64(7), bool(1), datetime64[ns](2), int64(1), object(1), string(1)\n",
      "memory usage: 1.2+ GB\n"
     ]
    }
   ],
   "source": [
    "df_joined.info()"
   ]
  },
  {
   "cell_type": "code",
   "execution_count": 71,
   "metadata": {},
   "outputs": [
    {
     "data": {
      "text/html": [
       "<div>\n",
       "<style scoped>\n",
       "    .dataframe tbody tr th:only-of-type {\n",
       "        vertical-align: middle;\n",
       "    }\n",
       "\n",
       "    .dataframe tbody tr th {\n",
       "        vertical-align: top;\n",
       "    }\n",
       "\n",
       "    .dataframe thead th {\n",
       "        text-align: right;\n",
       "    }\n",
       "</style>\n",
       "<table border=\"1\" class=\"dataframe\">\n",
       "  <thead>\n",
       "    <tr style=\"text-align: right;\">\n",
       "      <th></th>\n",
       "      <th>id</th>\n",
       "      <th>retweet_count</th>\n",
       "      <th>reply_count</th>\n",
       "      <th>favorite_count</th>\n",
       "      <th>num_hashtags</th>\n",
       "      <th>num_urls</th>\n",
       "      <th>num_mentions</th>\n",
       "      <th>created_at</th>\n",
       "      <th>text</th>\n",
       "      <th>lang</th>\n",
       "      <th>bot</th>\n",
       "      <th>created_at_user</th>\n",
       "      <th>statuses_count</th>\n",
       "    </tr>\n",
       "    <tr>\n",
       "      <th>user_id</th>\n",
       "      <th></th>\n",
       "      <th></th>\n",
       "      <th></th>\n",
       "      <th></th>\n",
       "      <th></th>\n",
       "      <th></th>\n",
       "      <th></th>\n",
       "      <th></th>\n",
       "      <th></th>\n",
       "      <th></th>\n",
       "      <th></th>\n",
       "      <th></th>\n",
       "      <th></th>\n",
       "    </tr>\n",
       "  </thead>\n",
       "  <tbody>\n",
       "    <tr>\n",
       "      <th>327746321</th>\n",
       "      <td>509354017856950336</td>\n",
       "      <td>0</td>\n",
       "      <td>0</td>\n",
       "      <td>0</td>\n",
       "      <td>0</td>\n",
       "      <td>0</td>\n",
       "      <td>0</td>\n",
       "      <td>2019-09-11 14:53:55</td>\n",
       "      <td>If man is a little lower than angels, then ang...</td>\n",
       "      <td>en</td>\n",
       "      <td>True</td>\n",
       "      <td>2016-07-03 02:37:46</td>\n",
       "      <td>12288</td>\n",
       "    </tr>\n",
       "    <tr>\n",
       "      <th>327746321</th>\n",
       "      <td>523891871761039360</td>\n",
       "      <td>0</td>\n",
       "      <td>0</td>\n",
       "      <td>0</td>\n",
       "      <td>0</td>\n",
       "      <td>1</td>\n",
       "      <td>0</td>\n",
       "      <td>2019-10-21 17:42:10</td>\n",
       "      <td>Read the Biography of Don Henley  http://t.co/...</td>\n",
       "      <td>en</td>\n",
       "      <td>True</td>\n",
       "      <td>2016-07-03 02:37:46</td>\n",
       "      <td>12288</td>\n",
       "    </tr>\n",
       "    <tr>\n",
       "      <th>327746321</th>\n",
       "      <td>528202577788559360</td>\n",
       "      <td>0</td>\n",
       "      <td>0</td>\n",
       "      <td>0</td>\n",
       "      <td>0</td>\n",
       "      <td>0</td>\n",
       "      <td>0</td>\n",
       "      <td>2019-11-02 15:11:22</td>\n",
       "      <td>Don't tell me where your priorities are. Show ...</td>\n",
       "      <td>en</td>\n",
       "      <td>True</td>\n",
       "      <td>2016-07-03 02:37:46</td>\n",
       "      <td>12288</td>\n",
       "    </tr>\n",
       "    <tr>\n",
       "      <th>327746321</th>\n",
       "      <td>530119198710964160</td>\n",
       "      <td>0</td>\n",
       "      <td>0</td>\n",
       "      <td>0</td>\n",
       "      <td>0</td>\n",
       "      <td>1</td>\n",
       "      <td>0</td>\n",
       "      <td>2019-11-07 22:07:20</td>\n",
       "      <td>Learn About the Great Music of Bill Justis  ht...</td>\n",
       "      <td>en</td>\n",
       "      <td>True</td>\n",
       "      <td>2016-07-03 02:37:46</td>\n",
       "      <td>12288</td>\n",
       "    </tr>\n",
       "    <tr>\n",
       "      <th>327746321</th>\n",
       "      <td>520435124048248832</td>\n",
       "      <td>0</td>\n",
       "      <td>0</td>\n",
       "      <td>0</td>\n",
       "      <td>0</td>\n",
       "      <td>1</td>\n",
       "      <td>0</td>\n",
       "      <td>2019-10-12 04:46:17</td>\n",
       "      <td>Do you love James Bond? Â Check out these cool...</td>\n",
       "      <td>en</td>\n",
       "      <td>True</td>\n",
       "      <td>2016-07-03 02:37:46</td>\n",
       "      <td>12288</td>\n",
       "    </tr>\n",
       "  </tbody>\n",
       "</table>\n",
       "</div>"
      ],
      "text/plain": [
       "                           id  retweet_count  reply_count  favorite_count  \\\n",
       "user_id                                                                     \n",
       "327746321  509354017856950336              0            0               0   \n",
       "327746321  523891871761039360              0            0               0   \n",
       "327746321  528202577788559360              0            0               0   \n",
       "327746321  530119198710964160              0            0               0   \n",
       "327746321  520435124048248832              0            0               0   \n",
       "\n",
       "           num_hashtags  num_urls  num_mentions          created_at  \\\n",
       "user_id                                                               \n",
       "327746321             0         0             0 2019-09-11 14:53:55   \n",
       "327746321             0         1             0 2019-10-21 17:42:10   \n",
       "327746321             0         0             0 2019-11-02 15:11:22   \n",
       "327746321             0         1             0 2019-11-07 22:07:20   \n",
       "327746321             0         1             0 2019-10-12 04:46:17   \n",
       "\n",
       "                                                        text lang   bot  \\\n",
       "user_id                                                                   \n",
       "327746321  If man is a little lower than angels, then ang...   en  True   \n",
       "327746321  Read the Biography of Don Henley  http://t.co/...   en  True   \n",
       "327746321  Don't tell me where your priorities are. Show ...   en  True   \n",
       "327746321  Learn About the Great Music of Bill Justis  ht...   en  True   \n",
       "327746321  Do you love James Bond? Â Check out these cool...   en  True   \n",
       "\n",
       "              created_at_user  statuses_count  \n",
       "user_id                                        \n",
       "327746321 2016-07-03 02:37:46           12288  \n",
       "327746321 2016-07-03 02:37:46           12288  \n",
       "327746321 2016-07-03 02:37:46           12288  \n",
       "327746321 2016-07-03 02:37:46           12288  \n",
       "327746321 2016-07-03 02:37:46           12288  "
      ]
     },
     "execution_count": 71,
     "metadata": {},
     "output_type": "execute_result"
    }
   ],
   "source": [
    "df_joined.head()"
   ]
  },
  {
   "cell_type": "markdown",
   "metadata": {},
   "source": [
    "## Correlation matrix\n",
    "Now we see the correlation matrix to spot if there are any significant correlations between the attributes in the sample:"
   ]
  },
  {
   "cell_type": "code",
   "execution_count": 72,
   "metadata": {},
   "outputs": [
    {
     "data": {
      "image/png": "[encoded data removed]",
      "text/plain": [
       "<Figure size 1500x1500 with 2 Axes>"
      ]
     },
     "metadata": {},
     "output_type": "display_data"
    }
   ],
   "source": [
    "corr_matrix = df_joined.corr()\n",
    "\n",
    "fig, ax = plt.subplots(figsize=(15,15))         # Sample figsize in inches\n",
    "mask = np.zeros_like(corr_matrix)\n",
    "mask[np.triu_indices_from(mask)] = True\n",
    "\n",
    "# Draw the heatmap with the mask\n",
    "sn.heatmap(corr_matrix, annot=True, mask=mask, square=True)\n",
    "\n",
    "plt.show()"
   ]
  },
  {
   "cell_type": "markdown",
   "metadata": {},
   "source": [
    "We found no attribute with high enough correlation to be excluded"
   ]
  },
  {
   "cell_type": "markdown",
   "metadata": {},
   "source": [
    "See how many tweets are generated from bot users and how many from not bot users with a pie pchart"
   ]
  },
  {
   "cell_type": "code",
   "execution_count": 73,
   "metadata": {},
   "outputs": [
    {
     "data": {
      "image/png": "[encoded data removed]",
      "text/plain": [
       "<Figure size 640x480 with 1 Axes>"
      ]
     },
     "metadata": {},
     "output_type": "display_data"
    }
   ],
   "source": [
    "label= ['humans', 'bots']\n",
    "plt.pie(df_joined['bot'].value_counts(), labels=label)\n",
    "plt.show()"
   ]
  },
  {
   "cell_type": "markdown",
   "metadata": {},
   "source": [
    "### Save cleaned joined matrix"
   ]
  },
  {
   "cell_type": "code",
   "execution_count": 74,
   "metadata": {},
   "outputs": [],
   "source": [
    "df_joined.to_csv(\"../dataset/cleaned_joined_tweets.csv\")"
   ]
  }
 ],
 "metadata": {
  "kernelspec": {
   "display_name": "Python 3.7.13 ('dataMiningEnv')",
   "language": "python",
   "name": "python3"
  },
  "language_info": {
   "codemirror_mode": {
    "name": "ipython",
    "version": 3
   },
   "file_extension": ".py",
   "mimetype": "text/x-python",
   "name": "python",
   "nbconvert_exporter": "python",
   "pygments_lexer": "ipython3",
   "version": "3.7.13"
  },
  "orig_nbformat": 4,
  "vscode": {
   "interpreter": {
    "hash": "ce66766ca3893cb1226d696fde69a866d0cab1d434d25c0e4ac78a42eaec01f7"
   }
  }
 },
 "nbformat": 4,
 "nbformat_minor": 2
}
