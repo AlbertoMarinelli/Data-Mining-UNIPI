{
 "cells": [
  {
   "cell_type": "markdown",
   "metadata": {},
   "source": [
    "# Task 1.1 Data Understanding\n",
    "*Alberto Roberto Marinelli, Giacomo Cignoni, Alessandro Bucci*\n",
    "## Importing Libraries\n",
    "First we import the libraries necessary to analyze the data"
   ]
  },
  {
   "cell_type": "code",
   "execution_count": 80,
   "metadata": {},
   "outputs": [],
   "source": [
    "import math\n",
    "import sys\n",
    "import numpy as np\n",
    "import pandas as pd\n",
    "import seaborn as sn\n",
    "import scipy.stats as stats\n",
    "import matplotlib.pyplot as plt\n",
    "from sklearn import decomposition"
   ]
  },
  {
   "cell_type": "code",
   "execution_count": 81,
   "metadata": {},
   "outputs": [],
   "source": [
    "pd.set_option('mode.use_inf_as_na', True)\n",
    "\n",
    "def mr_bins(number_of_samples):\n",
    "    return (np.log2(number_of_samples)).astype('int64') + 1\n"
   ]
  },
  {
   "cell_type": "markdown",
   "metadata": {},
   "source": [
    "Then we load the datasets"
   ]
  },
  {
   "cell_type": "code",
   "execution_count": 82,
   "metadata": {},
   "outputs": [],
   "source": [
    "df_tweets_sample = pd.read_csv('../dataset/tweets.csv', sep=',', index_col=0)  # load tweets\n",
    "df_users = pd.read_csv('../dataset/users.csv', sep=',', index_col=0)  # load users"
   ]
  },
  {
   "cell_type": "code",
   "execution_count": 83,
   "metadata": {},
   "outputs": [
    {
     "name": "stdout",
     "output_type": "stream",
     "text": [
      "<class 'pandas.core.frame.DataFrame'>\n",
      "Int64Index: 11508 entries, 2353593986 to 933183398\n",
      "Data columns (total 5 columns):\n",
      " #   Column          Non-Null Count  Dtype  \n",
      "---  ------          --------------  -----  \n",
      " 0   name            11507 non-null  object \n",
      " 1   lang            11508 non-null  object \n",
      " 2   bot             11508 non-null  int64  \n",
      " 3   created_at      11508 non-null  object \n",
      " 4   statuses_count  11109 non-null  float64\n",
      "dtypes: float64(1), int64(1), object(3)\n",
      "memory usage: 539.4+ KB\n"
     ]
    }
   ],
   "source": [
    "df_users.info()"
   ]
  },
  {
   "cell_type": "code",
   "execution_count": 84,
   "metadata": {},
   "outputs": [
    {
     "name": "stdout",
     "output_type": "stream",
     "text": [
      "<class 'pandas.core.frame.DataFrame'>\n",
      "Index: 13664696 entries, 509354017856950272 to 486479812614451200\n",
      "Data columns (total 9 columns):\n",
      " #   Column          Dtype \n",
      "---  ------          ----- \n",
      " 0   user_id         object\n",
      " 1   retweet_count   object\n",
      " 2   reply_count     object\n",
      " 3   favorite_count  object\n",
      " 4   num_hashtags    object\n",
      " 5   num_urls        object\n",
      " 6   num_mentions    object\n",
      " 7   created_at      object\n",
      " 8   text            object\n",
      "dtypes: object(9)\n",
      "memory usage: 1.0+ GB\n"
     ]
    }
   ],
   "source": [
    "df_tweets_sample.info()"
   ]
  },
  {
   "cell_type": "code",
   "execution_count": 85,
   "metadata": {},
   "outputs": [
    {
     "data": {
      "text/html": [
       "<div>\n",
       "<style scoped>\n",
       "    .dataframe tbody tr th:only-of-type {\n",
       "        vertical-align: middle;\n",
       "    }\n",
       "\n",
       "    .dataframe tbody tr th {\n",
       "        vertical-align: top;\n",
       "    }\n",
       "\n",
       "    .dataframe thead th {\n",
       "        text-align: right;\n",
       "    }\n",
       "</style>\n",
       "<table border=\"1\" class=\"dataframe\">\n",
       "  <thead>\n",
       "    <tr style=\"text-align: right;\">\n",
       "      <th></th>\n",
       "      <th>user_id</th>\n",
       "      <th>retweet_count</th>\n",
       "      <th>reply_count</th>\n",
       "      <th>favorite_count</th>\n",
       "      <th>num_hashtags</th>\n",
       "      <th>num_urls</th>\n",
       "      <th>num_mentions</th>\n",
       "      <th>created_at</th>\n",
       "      <th>text</th>\n",
       "    </tr>\n",
       "    <tr>\n",
       "      <th>id</th>\n",
       "      <th></th>\n",
       "      <th></th>\n",
       "      <th></th>\n",
       "      <th></th>\n",
       "      <th></th>\n",
       "      <th></th>\n",
       "      <th></th>\n",
       "      <th></th>\n",
       "      <th></th>\n",
       "    </tr>\n",
       "  </thead>\n",
       "  <tbody>\n",
       "    <tr>\n",
       "      <th>509354017856950272</th>\n",
       "      <td>327746321</td>\n",
       "      <td>0</td>\n",
       "      <td>0</td>\n",
       "      <td>0</td>\n",
       "      <td>0</td>\n",
       "      <td>0</td>\n",
       "      <td>0</td>\n",
       "      <td>2019-09-11 14:53:55</td>\n",
       "      <td>If man is a little lower than angels, then ang...</td>\n",
       "    </tr>\n",
       "    <tr>\n",
       "      <th>583002592529121280</th>\n",
       "      <td>333722906</td>\n",
       "      <td>1</td>\n",
       "      <td>0</td>\n",
       "      <td>0</td>\n",
       "      <td>0</td>\n",
       "      <td>0</td>\n",
       "      <td>1</td>\n",
       "      <td>2020-04-01 20:27:04</td>\n",
       "      <td>\"@BestWSHHVids: how do you say these words wit...</td>\n",
       "    </tr>\n",
       "    <tr>\n",
       "      <th>461498835362013185</th>\n",
       "      <td>2379755827</td>\n",
       "      <td>0</td>\n",
       "      <td>0</td>\n",
       "      <td>0</td>\n",
       "      <td>0</td>\n",
       "      <td>0</td>\n",
       "      <td>1</td>\n",
       "      <td>2019-05-02 13:34:31</td>\n",
       "      <td>@LOLatComedy awsome</td>\n",
       "    </tr>\n",
       "    <tr>\n",
       "      <th>528808127366692864</th>\n",
       "      <td>466226882</td>\n",
       "      <td>0</td>\n",
       "      <td>0</td>\n",
       "      <td>0</td>\n",
       "      <td>0</td>\n",
       "      <td>0</td>\n",
       "      <td>0</td>\n",
       "      <td>2019-11-04 07:17:37</td>\n",
       "      <td>Stephen Hawkins: i buchi neri non esistono se ...</td>\n",
       "    </tr>\n",
       "    <tr>\n",
       "      <th>575336690904006656</th>\n",
       "      <td>1355537995</td>\n",
       "      <td>114</td>\n",
       "      <td>0</td>\n",
       "      <td>0</td>\n",
       "      <td>1</td>\n",
       "      <td>0</td>\n",
       "      <td>1</td>\n",
       "      <td>2020-03-11 16:45:31</td>\n",
       "      <td>RT @tibbs_montris: So ready for Wednesday!</td>\n",
       "    </tr>\n",
       "    <tr>\n",
       "      <th>...</th>\n",
       "      <td>...</td>\n",
       "      <td>...</td>\n",
       "      <td>...</td>\n",
       "      <td>...</td>\n",
       "      <td>...</td>\n",
       "      <td>...</td>\n",
       "      <td>...</td>\n",
       "      <td>...</td>\n",
       "      <td>...</td>\n",
       "    </tr>\n",
       "    <tr>\n",
       "      <th>588535254207467520</th>\n",
       "      <td>587491046</td>\n",
       "      <td>0</td>\n",
       "      <td>0</td>\n",
       "      <td>0</td>\n",
       "      <td>0</td>\n",
       "      <td>0</td>\n",
       "      <td>1</td>\n",
       "      <td>2020-04-17 02:51:53</td>\n",
       "      <td>@warriors Congrats, maybe I'll be able to get ...</td>\n",
       "    </tr>\n",
       "    <tr>\n",
       "      <th>580420653666402304</th>\n",
       "      <td>1414080518</td>\n",
       "      <td>0</td>\n",
       "      <td>0</td>\n",
       "      <td>1</td>\n",
       "      <td>0</td>\n",
       "      <td>0</td>\n",
       "      <td>1</td>\n",
       "      <td>2020-03-25 17:27:22</td>\n",
       "      <td>@DaddieEzme fr??</td>\n",
       "    </tr>\n",
       "    <tr>\n",
       "      <th>718157017970961</th>\n",
       "      <td>91781300</td>\n",
       "      <td>0</td>\n",
       "      <td>NaN</td>\n",
       "      <td>l25suv5</td>\n",
       "      <td>NaN</td>\n",
       "      <td>0.0</td>\n",
       "      <td>NaN</td>\n",
       "      <td>2016-07-10 22:43:09</td>\n",
       "      <td>NaN</td>\n",
       "    </tr>\n",
       "    <tr>\n",
       "      <th>441301348676415488</th>\n",
       "      <td>127895572</td>\n",
       "      <td>0</td>\n",
       "      <td>0</td>\n",
       "      <td>1</td>\n",
       "      <td>1</td>\n",
       "      <td>0</td>\n",
       "      <td>0</td>\n",
       "      <td>2019-03-07 19:56:55</td>\n",
       "      <td>Shooting crew of porn movies. #TheWorstJobToHave</td>\n",
       "    </tr>\n",
       "    <tr>\n",
       "      <th>486479812614451200</th>\n",
       "      <td>465421036</td>\n",
       "      <td>3</td>\n",
       "      <td>0</td>\n",
       "      <td>4</td>\n",
       "      <td>0</td>\n",
       "      <td>0</td>\n",
       "      <td>0</td>\n",
       "      <td>2019-07-10 12:00:00</td>\n",
       "      <td>Qualcuno dovrÃ  pur dire a quelli che \"Twitter...</td>\n",
       "    </tr>\n",
       "  </tbody>\n",
       "</table>\n",
       "<p>13664696 rows × 9 columns</p>\n",
       "</div>"
      ],
      "text/plain": [
       "                       user_id retweet_count reply_count favorite_count  \\\n",
       "id                                                                        \n",
       "509354017856950272   327746321             0           0              0   \n",
       "583002592529121280   333722906             1           0              0   \n",
       "461498835362013185  2379755827             0           0              0   \n",
       "528808127366692864   466226882             0           0              0   \n",
       "575336690904006656  1355537995           114           0              0   \n",
       "...                        ...           ...         ...            ...   \n",
       "588535254207467520   587491046             0           0              0   \n",
       "580420653666402304  1414080518             0           0              1   \n",
       "718157017970961       91781300             0         NaN        l25suv5   \n",
       "441301348676415488   127895572             0           0              1   \n",
       "486479812614451200   465421036             3           0              4   \n",
       "\n",
       "                   num_hashtags num_urls num_mentions           created_at  \\\n",
       "id                                                                           \n",
       "509354017856950272            0        0            0  2019-09-11 14:53:55   \n",
       "583002592529121280            0        0            1  2020-04-01 20:27:04   \n",
       "461498835362013185            0        0            1  2019-05-02 13:34:31   \n",
       "528808127366692864            0        0            0  2019-11-04 07:17:37   \n",
       "575336690904006656            1        0            1  2020-03-11 16:45:31   \n",
       "...                         ...      ...          ...                  ...   \n",
       "588535254207467520            0        0            1  2020-04-17 02:51:53   \n",
       "580420653666402304            0        0            1  2020-03-25 17:27:22   \n",
       "718157017970961             NaN      0.0          NaN  2016-07-10 22:43:09   \n",
       "441301348676415488            1        0            0  2019-03-07 19:56:55   \n",
       "486479812614451200            0        0            0  2019-07-10 12:00:00   \n",
       "\n",
       "                                                                 text  \n",
       "id                                                                     \n",
       "509354017856950272  If man is a little lower than angels, then ang...  \n",
       "583002592529121280  \"@BestWSHHVids: how do you say these words wit...  \n",
       "461498835362013185                                @LOLatComedy awsome  \n",
       "528808127366692864  Stephen Hawkins: i buchi neri non esistono se ...  \n",
       "575336690904006656        RT @tibbs_montris: So ready for Wednesday!   \n",
       "...                                                               ...  \n",
       "588535254207467520  @warriors Congrats, maybe I'll be able to get ...  \n",
       "580420653666402304                                   @DaddieEzme fr??  \n",
       "718157017970961                                                   NaN  \n",
       "441301348676415488   Shooting crew of porn movies. #TheWorstJobToHave  \n",
       "486479812614451200  Qualcuno dovrÃ  pur dire a quelli che \"Twitter...  \n",
       "\n",
       "[13664696 rows x 9 columns]"
      ]
     },
     "execution_count": 85,
     "metadata": {},
     "output_type": "execute_result"
    }
   ],
   "source": [
    "df_tweets_sample"
   ]
  },
  {
   "cell_type": "markdown",
   "metadata": {},
   "source": [
    "## Features informations\n",
    "\"Type\" indicates the wanted feature Datatype for conversion in \"Casting\" section\n",
    "\n",
    "### Users dataset\n",
    "id, name, lang, bot, created_at and statuses_count\n",
    "* **id** (*Numerical*)\n",
    "  * Type: **Int64**\n",
    "  * Description: Is the identifier of the single user, it will be used to join the datasets, so it is necessary that this data is a non-null integer.\n",
    "* **name** (*Categorical*)\n",
    "  * Type: **String**\n",
    "  * Description: The name of the user.\n",
    "* **lang** (*Categorical*)\n",
    "  * Type: **String**\n",
    "  * Description: The user’s language selected\n",
    "* **bot** (*Numerical*)\n",
    "  * Type: **Boolean**\n",
    "  * Description: A binary variable that indicates if a user is a bot or a genuine user\n",
    "* **created_at** (*Numerical*)\n",
    "  * Type: **Datetime64**\n",
    "  * Description: The timestamp of when the user was created\n",
    "* **statuses_count** (*Numerical*)\n",
    "  * Type: **Int64**\n",
    "  * Description: The count of the tweets made by the user at the moment of data crawling.\n",
    "### Tweets dataset\n",
    "* **id** (*Numerical*)\n",
    "  * Type: **Object**\n",
    "  * Description: Is the identifier of the single tweet, it should be int64, but we decided to consder it object because it does not affect the data if it is not an integer.\n",
    "* **user_id** (*Numerical*)\n",
    "  * Type: **Int64**\n",
    "  * Description: Is the identifier of the single user, it will be used to join the datasets, so it is necessary that this data is a non-null integer\n",
    "* **retweet_count** (*Numerical*)\n",
    "  * Type: **Int64**\n",
    "  * Description: The number of retweets of the single tweet\n",
    "* **reply_count** (*Numerical*)\n",
    "  * Type: **Int64**\n",
    "  * Description: The number of replies of the single tweet\n",
    "* **favorite_count** (*Numerical*)\n",
    "  * Type: **Int64**\n",
    "  * Description: The number of favorites (or likes) of the single tweet\n",
    "* **num_hashtags** (*Numerical*)\n",
    "  * Type: **Int64**\n",
    "  * Description: The number of hashtags in the single tweet\n",
    "* **num_urls** (*Numerical*)\n",
    "  * Type: **Int64**\n",
    "  * Description: The number of urls in the single tweet\n",
    "* **num_mentions** (*Numerical*)\n",
    "  * Type: **Int64**\n",
    "  * Description: The number of mentions in the single tweet\n",
    "* **created_at** (*Numerical*)\n",
    "  * Type: **Datetime64**\n",
    "  * Description: The timestamp of when the single tweet was created\n",
    "* **text** (*Categorical*)\n",
    "  * Type: **String**\n",
    "  * Description: The text of the single tweet"
   ]
  },
  {
   "cell_type": "markdown",
   "metadata": {},
   "source": [
    "## Datatype Casting\n",
    "### Users dataframe casting"
   ]
  },
  {
   "cell_type": "code",
   "execution_count": 86,
   "metadata": {},
   "outputs": [
    {
     "name": "stdout",
     "output_type": "stream",
     "text": [
      "<class 'pandas.core.frame.DataFrame'>\n",
      "Int64Index: 11508 entries, 2353593986 to 933183398\n",
      "Data columns (total 5 columns):\n",
      " #   Column          Non-Null Count  Dtype  \n",
      "---  ------          --------------  -----  \n",
      " 0   name            11507 non-null  object \n",
      " 1   lang            11508 non-null  object \n",
      " 2   bot             11508 non-null  int64  \n",
      " 3   created_at      11508 non-null  object \n",
      " 4   statuses_count  11109 non-null  float64\n",
      "dtypes: float64(1), int64(1), object(3)\n",
      "memory usage: 539.4+ KB\n"
     ]
    }
   ],
   "source": [
    "df_users.info()"
   ]
  },
  {
   "cell_type": "markdown",
   "metadata": {},
   "source": [
    "Cast name and lang columns to string and created_at to DateTime in df_users"
   ]
  },
  {
   "cell_type": "code",
   "execution_count": 87,
   "metadata": {},
   "outputs": [],
   "source": [
    "df_users.name = df_users.name.astype('string')\n",
    "df_users.lang = df_users.lang.astype('string')"
   ]
  },
  {
   "cell_type": "markdown",
   "metadata": {},
   "source": [
    "Showing how 'lang' is composed with a logarithmic scale bar plot"
   ]
  },
  {
   "cell_type": "code",
   "execution_count": 88,
   "metadata": {},
   "outputs": [
    {
     "name": "stdout",
     "output_type": "stream",
     "text": [
      "Langs in the user dataset:\n",
      "en                    0.866354\n",
      "it                    0.078728\n",
      "es                     0.02772\n",
      "pt                    0.005648\n",
      "en-gb                 0.004345\n",
      "ru                     0.00365\n",
      "fr                    0.003128\n",
      "ja                    0.002868\n",
      "zh-tw                 0.001477\n",
      "tr                    0.001217\n",
      "id                    0.001043\n",
      "ko                    0.000782\n",
      "de                    0.000695\n",
      "nl                    0.000521\n",
      "en-GB                 0.000348\n",
      "ar                    0.000261\n",
      "zh-TW                 0.000261\n",
      "da                    0.000174\n",
      "Select Language...    0.000174\n",
      "en-AU                 0.000087\n",
      "zh-cn                 0.000087\n",
      "pl                    0.000087\n",
      "el                    0.000087\n",
      "fil                   0.000087\n",
      "sv                    0.000087\n",
      "xx-lc                 0.000087\n",
      "Name: lang, dtype: Float64\n"
     ]
    },
    {
     "data": {
      "image/png": "[encoded data removed]",
      "text/plain": [
       "<Figure size 640x480 with 1 Axes>"
      ]
     },
     "metadata": {},
     "output_type": "display_data"
    }
   ],
   "source": [
    "lang_distribution = df_users.lang.value_counts(normalize=True)\n",
    "print('Langs in the user dataset:')\n",
    "print(lang_distribution)\n",
    "\n",
    "lang_distribution.plot(kind=\"bar\")\n",
    "plt.yscale('log')\n",
    "plt.show()"
   ]
  },
  {
   "cell_type": "markdown",
   "metadata": {},
   "source": [
    "We decided that if the lang contains a dash, we'll take into consideration only the lang before it.\n",
    "\n",
    "E.g.: \"en-gb\" will become \"en\", \"zh-tw\" will become \"zh\"."
   ]
  },
  {
   "cell_type": "code",
   "execution_count": 89,
   "metadata": {},
   "outputs": [],
   "source": [
    "import re\n",
    "\n",
    "def lang_correction(lang_string):\n",
    "    lang = lang_string\n",
    "    lang = re.sub('-.*$', '', lang)\n",
    "\n",
    "    return lang\n",
    "\n",
    "df_users.lang = df_users.lang.apply(lang_correction)\n"
   ]
  },
  {
   "cell_type": "markdown",
   "metadata": {},
   "source": [
    "Substituting \"Select Language...\" with the mode. "
   ]
  },
  {
   "cell_type": "code",
   "execution_count": 90,
   "metadata": {},
   "outputs": [],
   "source": [
    "df_users.lang.replace(to_replace=\"Select Language...\",value=df_users.lang.mode()[0], inplace=True)"
   ]
  },
  {
   "cell_type": "markdown",
   "metadata": {},
   "source": [
    "We looked at the tweets with the user id equal to the one who has 'lang' equal to xx, and determined that theier posts were english, so we changed 'lang' to 'en', which is also the mode."
   ]
  },
  {
   "cell_type": "code",
   "execution_count": 91,
   "metadata": {},
   "outputs": [],
   "source": [
    "df_users.lang.replace(to_replace=\"xx\",value=df_users.lang.mode()[0], inplace=True)"
   ]
  },
  {
   "cell_type": "markdown",
   "metadata": {},
   "source": [
    "Displaying the cleaned 'lang' in log scale:"
   ]
  },
  {
   "cell_type": "code",
   "execution_count": 92,
   "metadata": {},
   "outputs": [
    {
     "name": "stdout",
     "output_type": "stream",
     "text": [
      "Langs in the user dataset:\n",
      "en     0.871394\n",
      "it     0.078728\n",
      "es     0.027720\n",
      "pt     0.005648\n",
      "ru     0.003650\n",
      "fr     0.003128\n",
      "ja     0.002868\n",
      "zh     0.001825\n",
      "tr     0.001217\n",
      "id     0.001043\n",
      "ko     0.000782\n",
      "de     0.000695\n",
      "nl     0.000521\n",
      "ar     0.000261\n",
      "da     0.000174\n",
      "pl     0.000087\n",
      "el     0.000087\n",
      "fil    0.000087\n",
      "sv     0.000087\n",
      "Name: lang, dtype: float64\n"
     ]
    },
    {
     "data": {
      "image/png": "[encoded data removed]",
      "text/plain": [
       "<Figure size 640x480 with 1 Axes>"
      ]
     },
     "metadata": {},
     "output_type": "display_data"
    }
   ],
   "source": [
    "lang_distribution = df_users.lang.value_counts(normalize=True)\n",
    "print('Langs in the user dataset:')\n",
    "print(lang_distribution)\n",
    "\n",
    "lang_distribution.plot(kind=\"bar\")\n",
    "plt.yscale('log')\n",
    "plt.show()"
   ]
  },
  {
   "cell_type": "markdown",
   "metadata": {},
   "source": [
    "Cast statuses_count to Int64, bot to bool and created_at to DateTime in df_users"
   ]
  },
  {
   "cell_type": "code",
   "execution_count": 93,
   "metadata": {},
   "outputs": [],
   "source": [
    "df_users.statuses_count = df_users.statuses_count.astype('Int64', errors='raise')\n",
    "df_users.bot = df_users.bot.astype('bool', errors='raise')\n",
    "df_users.created_at = pd.to_datetime(df_users.created_at, errors='coerce')\n"
   ]
  },
  {
   "cell_type": "code",
   "execution_count": 94,
   "metadata": {},
   "outputs": [
    {
     "name": "stdout",
     "output_type": "stream",
     "text": [
      "<class 'pandas.core.frame.DataFrame'>\n",
      "Int64Index: 11508 entries, 2353593986 to 933183398\n",
      "Data columns (total 5 columns):\n",
      " #   Column          Non-Null Count  Dtype         \n",
      "---  ------          --------------  -----         \n",
      " 0   name            11507 non-null  string        \n",
      " 1   lang            11508 non-null  object        \n",
      " 2   bot             11508 non-null  bool          \n",
      " 3   created_at      11508 non-null  datetime64[ns]\n",
      " 4   statuses_count  11109 non-null  Int64         \n",
      "dtypes: Int64(1), bool(1), datetime64[ns](1), object(1), string(1)\n",
      "memory usage: 472.0+ KB\n"
     ]
    }
   ],
   "source": [
    "df_users.info()"
   ]
  },
  {
   "cell_type": "markdown",
   "metadata": {},
   "source": [
    "### Tweets dataframe casting"
   ]
  },
  {
   "cell_type": "code",
   "execution_count": 95,
   "metadata": {},
   "outputs": [
    {
     "name": "stdout",
     "output_type": "stream",
     "text": [
      "<class 'pandas.core.frame.DataFrame'>\n",
      "Index: 13664696 entries, 509354017856950272 to 486479812614451200\n",
      "Data columns (total 9 columns):\n",
      " #   Column          Dtype \n",
      "---  ------          ----- \n",
      " 0   user_id         object\n",
      " 1   retweet_count   object\n",
      " 2   reply_count     object\n",
      " 3   favorite_count  object\n",
      " 4   num_hashtags    object\n",
      " 5   num_urls        object\n",
      " 6   num_mentions    object\n",
      " 7   created_at      object\n",
      " 8   text            object\n",
      "dtypes: object(9)\n",
      "memory usage: 1.0+ GB\n"
     ]
    }
   ],
   "source": [
    "df_tweets_sample.info()"
   ]
  },
  {
   "cell_type": "markdown",
   "metadata": {},
   "source": [
    "Int64 casting for numeric columns in df_tweets"
   ]
  },
  {
   "cell_type": "code",
   "execution_count": 96,
   "metadata": {},
   "outputs": [],
   "source": [
    "def cast_int(x):\n",
    "    try:\n",
    "        return np.int64(x)\n",
    "    except:\n",
    "        return pd.NA\n",
    "    \n",
    "\n",
    "for col_name in df_tweets_sample.iloc[:, : 7]:\n",
    "    # Cast objects to float. after this instruction the column becomes numerics\n",
    "    df_tweets_sample[col_name] = pd.to_numeric(df_tweets_sample[col_name], downcast= 'float', errors='coerce')\n",
    "\n",
    "    # Substitute values outside of Int64 limits with NaN\n",
    "    df_tweets_sample[col_name] = df_tweets_sample[col_name].apply(cast_int)\n",
    "\n",
    "    # Cast to Int64\n",
    "    df_tweets_sample[col_name] = df_tweets_sample[col_name].astype('Int64', errors='raise')\n",
    "\n"
   ]
  },
  {
   "cell_type": "markdown",
   "metadata": {},
   "source": [
    "Cast text column to string and created_at to DateTime in df_tweets"
   ]
  },
  {
   "cell_type": "code",
   "execution_count": 97,
   "metadata": {},
   "outputs": [],
   "source": [
    "df_tweets_sample.text = df_tweets_sample.text.astype('string')\n",
    "df_tweets_sample.created_at = pd.to_datetime(\n",
    "    df_tweets_sample.created_at, errors='coerce') #The invalid dates are set to NaT"
   ]
  },
  {
   "cell_type": "code",
   "execution_count": 98,
   "metadata": {},
   "outputs": [
    {
     "name": "stdout",
     "output_type": "stream",
     "text": [
      "<class 'pandas.core.frame.DataFrame'>\n",
      "Index: 13664696 entries, 509354017856950272 to 486479812614451200\n",
      "Data columns (total 9 columns):\n",
      " #   Column          Dtype         \n",
      "---  ------          -----         \n",
      " 0   user_id         Int64         \n",
      " 1   retweet_count   Int64         \n",
      " 2   reply_count     Int64         \n",
      " 3   favorite_count  Int64         \n",
      " 4   num_hashtags    Int64         \n",
      " 5   num_urls        Int64         \n",
      " 6   num_mentions    Int64         \n",
      " 7   created_at      datetime64[ns]\n",
      " 8   text            string        \n",
      "dtypes: Int64(7), datetime64[ns](1), string(1)\n",
      "memory usage: 1.1+ GB\n"
     ]
    }
   ],
   "source": [
    "df_tweets_sample.info()"
   ]
  },
  {
   "cell_type": "markdown",
   "metadata": {},
   "source": [
    "## Attributes fixing\n",
    "\n",
    "We now explore the distributions in order to find the outliers of each attribute."
   ]
  },
  {
   "cell_type": "markdown",
   "metadata": {},
   "source": [
    "### User dataset attributes fixing\n",
    "\n",
    "We check 'created_at' whit a bar plot by year."
   ]
  },
  {
   "cell_type": "code",
   "execution_count": 99,
   "metadata": {},
   "outputs": [
    {
     "data": {
      "image/png": "[encoded data removed]",
      "text/plain": [
       "<Figure size 640x480 with 1 Axes>"
      ]
     },
     "metadata": {},
     "output_type": "display_data"
    }
   ],
   "source": [
    "df_users.created_at.groupby(df_users.created_at.dt.year).count().plot(kind='bar')\n",
    "plt.show()"
   ]
  },
  {
   "cell_type": "markdown",
   "metadata": {},
   "source": [
    "Since Twitter was founded in 2006 and the oldest user is from 2012, there are no lower bound outliers.\n",
    "\n",
    "Since the crawling was done in 2020, and there are no users created later than 2020, there are no upper bound outliers.\n",
    "\n",
    "Now we check **\"statuses_count\"**"
   ]
  },
  {
   "cell_type": "code",
   "execution_count": 100,
   "metadata": {},
   "outputs": [
    {
     "data": {
      "image/png": "[encoded data removed]",
      "text/plain": [
       "<Figure size 1600x500 with 2 Axes>"
      ]
     },
     "metadata": {},
     "output_type": "display_data"
    }
   ],
   "source": [
    "\n",
    "fig, (ax1, ax2) = plt.subplots(1, 2, figsize=(16, 5))\n",
    "df_users.boxplot(column=\"statuses_count\", ax=ax1)\n",
    "ax1.set_yscale('log')\n",
    "df_users.hist(column=\"statuses_count\", ax=ax2, stacked=True, bins=mr_bins(df_users.statuses_count.count()))\n",
    "ax2.set_yscale('log')\n",
    "fig.subplots_adjust(wspace=0.3)\n",
    "plt.show()\n"
   ]
  },
  {
   "cell_type": "markdown",
   "metadata": {},
   "source": [
    "There are no outliers, because there is no limit on how much a user can publish in a given period of time and also there are not negative values that would be invalid.\n",
    "\n",
    "### Tweets dataset attributes fixing"
   ]
  },
  {
   "cell_type": "markdown",
   "metadata": {},
   "source": [
    "We check **\"retweet_count\"** attribute\n",
    "\n",
    "The most retweet tweet ever has more than 4*10^6 retweets, so we not consider a retweet count over that threshold (we set them to NaN)"
   ]
  },
  {
   "cell_type": "code",
   "execution_count": 101,
   "metadata": {},
   "outputs": [
    {
     "data": {
      "image/png": "[encoded data removed]",
      "text/plain": [
       "<Figure size 640x480 with 1 Axes>"
      ]
     },
     "metadata": {},
     "output_type": "display_data"
    }
   ],
   "source": [
    "df_tweets_sample.boxplot(column=\"retweet_count\")\n",
    "plt.yscale('log')\n",
    "plt.show()"
   ]
  },
  {
   "cell_type": "code",
   "execution_count": 102,
   "metadata": {},
   "outputs": [
    {
     "data": {
      "image/png": "[encoded data removed]",
      "text/plain": [
       "<Figure size 640x480 with 1 Axes>"
      ]
     },
     "metadata": {},
     "output_type": "display_data"
    }
   ],
   "source": [
    "max_retweets = 4*(10**6)\n",
    "df_tweets_sample.retweet_count = df_tweets_sample.retweet_count.apply(\n",
    "    lambda x: x if not pd.isna(x) and x < max_retweets and x >= 0 else pd.NA)\n",
    "df_tweets_sample.retweet_count = df_tweets_sample.retweet_count.astype(\"Int64\")\n",
    "\n",
    "# Then we display the boxplot\n",
    "df_tweets_sample.boxplot(column=\"retweet_count\")\n",
    "plt.yscale('log')\n",
    "plt.show()"
   ]
  },
  {
   "cell_type": "markdown",
   "metadata": {},
   "source": [
    "Now we check **'reply_count'** attribute.\n",
    "\n",
    "The most replied tweet can't be much more replies than the highest number of replies, so we limit also the number of replies to 4*10^6"
   ]
  },
  {
   "cell_type": "code",
   "execution_count": 103,
   "metadata": {},
   "outputs": [
    {
     "data": {
      "image/png": "[encoded data removed]",
      "text/plain": [
       "<Figure size 640x480 with 1 Axes>"
      ]
     },
     "metadata": {},
     "output_type": "display_data"
    }
   ],
   "source": [
    "df_tweets_sample.boxplot(column=\"reply_count\")\n",
    "plt.show()"
   ]
  },
  {
   "cell_type": "code",
   "execution_count": 104,
   "metadata": {},
   "outputs": [
    {
     "data": {
      "image/png": "[encoded data removed]",
      "text/plain": [
       "<Figure size 640x480 with 1 Axes>"
      ]
     },
     "metadata": {},
     "output_type": "display_data"
    }
   ],
   "source": [
    "max_replies = 4*(10**6)\n",
    "df_tweets_sample.reply_count = df_tweets_sample.reply_count.apply(\n",
    "    lambda x: x if not pd.isna(x) and x < max_replies and x >= 0 else x)\n",
    "df_tweets_sample.reply_count = df_tweets_sample.reply_count.astype(\"Int64\")\n",
    "\n",
    "# Then we display the boxplot\n",
    "df_tweets_sample.boxplot(column=\"reply_count\")\n",
    "plt.show()"
   ]
  },
  {
   "cell_type": "markdown",
   "metadata": {},
   "source": [
    "Now we check **'favorite_count'** attribute\n",
    "\n",
    "The most liked tweets has 7*10^6 likes, so we should limit the number of likes to that threshold"
   ]
  },
  {
   "cell_type": "code",
   "execution_count": 105,
   "metadata": {},
   "outputs": [
    {
     "data": {
      "image/png": "[encoded data removed]",
      "text/plain": [
       "<Figure size 640x480 with 1 Axes>"
      ]
     },
     "metadata": {},
     "output_type": "display_data"
    }
   ],
   "source": [
    "df_tweets_sample.boxplot(column=\"favorite_count\")\n",
    "plt.yscale('log')\n",
    "plt.show()"
   ]
  },
  {
   "cell_type": "code",
   "execution_count": 106,
   "metadata": {},
   "outputs": [
    {
     "data": {
      "image/png": "[encoded data removed]",
      "text/plain": [
       "<Figure size 640x480 with 1 Axes>"
      ]
     },
     "metadata": {},
     "output_type": "display_data"
    }
   ],
   "source": [
    "max_likes = 7*(10**6)\n",
    "df_tweets_sample.favorite_count = df_tweets_sample.favorite_count.apply(\n",
    "    lambda x: x if not pd.isna(x) and x < max_likes and x >= 0 else pd.NA)\n",
    "df_tweets_sample.favorite_count = df_tweets_sample.favorite_count.astype(\"Int64\")\n",
    "\n",
    "# Then we display the boxplot\n",
    "df_tweets_sample.boxplot(column=\"favorite_count\")\n",
    "plt.yscale('log')\n",
    "plt.show()"
   ]
  },
  {
   "cell_type": "markdown",
   "metadata": {},
   "source": [
    "**'num_hashtags'**, since the max char in a tweet is 280, we decided to replace with the median number of hashtags everything that is above that threshold"
   ]
  },
  {
   "cell_type": "code",
   "execution_count": 107,
   "metadata": {},
   "outputs": [
    {
     "data": {
      "image/png": "[encoded data removed]",
      "text/plain": [
       "<Figure size 640x480 with 1 Axes>"
      ]
     },
     "metadata": {},
     "output_type": "display_data"
    }
   ],
   "source": [
    "df_tweets_sample.boxplot(column=\"num_hashtags\")\n",
    "plt.yscale(\"log\")\n",
    "plt.show()"
   ]
  },
  {
   "cell_type": "code",
   "execution_count": 108,
   "metadata": {},
   "outputs": [
    {
     "data": {
      "image/png": "[encoded data removed]",
      "text/plain": [
       "<Figure size 640x480 with 1 Axes>"
      ]
     },
     "metadata": {},
     "output_type": "display_data"
    }
   ],
   "source": [
    "max_num_hashtags = 280\n",
    "df_tweets_sample.num_hashtags = df_tweets_sample.num_hashtags.apply(\n",
    "    lambda x: x if not pd.isna(x) and x < max_num_hashtags else pd.NA)\n",
    "df_tweets_sample.num_hashtags = df_tweets_sample.num_hashtags.astype(\"Int64\")\n",
    "\n",
    "# Then we display the boxplot\n",
    "df_tweets_sample.boxplot(column=\"num_hashtags\")\n",
    "plt.show()"
   ]
  },
  {
   "cell_type": "markdown",
   "metadata": {},
   "source": [
    "**'num_mentions'** since the max char in a tweet is 280, and since a mention to a user needs a @ before the user's nickname (which could be just a letter) we decided to replace with the median number of hashtags everything that is above 280/2."
   ]
  },
  {
   "cell_type": "code",
   "execution_count": 109,
   "metadata": {},
   "outputs": [
    {
     "data": {
      "image/png": "[encoded data removed]",
      "text/plain": [
       "<Figure size 640x480 with 1 Axes>"
      ]
     },
     "metadata": {},
     "output_type": "display_data"
    }
   ],
   "source": [
    "df_tweets_sample.boxplot(column=\"num_mentions\")\n",
    "plt.yscale(\"log\")\n",
    "plt.show()"
   ]
  },
  {
   "cell_type": "code",
   "execution_count": 110,
   "metadata": {},
   "outputs": [
    {
     "data": {
      "image/png": "[encoded data removed]",
      "text/plain": [
       "<Figure size 640x480 with 1 Axes>"
      ]
     },
     "metadata": {},
     "output_type": "display_data"
    }
   ],
   "source": [
    "max_num_mentions = 140\n",
    "df_tweets_sample.num_mentions = df_tweets_sample.num_mentions.apply(\n",
    "    lambda x: x if not pd.isna(x) and x < max_num_mentions and x >= 0 else pd.NA)\n",
    "df_tweets_sample.num_mentions = df_tweets_sample.num_mentions.astype(\"Int64\")\n",
    "\n",
    "# Then we display the boxplot\n",
    "df_tweets_sample.boxplot(column=\"num_mentions\")\n",
    "plt.show()"
   ]
  },
  {
   "cell_type": "markdown",
   "metadata": {},
   "source": [
    "'created_at' since Twitter was founded in 2006 and we are in 2022, when we will analyze the years we will consider only the ones between 2006 and 2020"
   ]
  },
  {
   "cell_type": "markdown",
   "metadata": {},
   "source": [
    "## Preliminary cleaning"
   ]
  },
  {
   "cell_type": "markdown",
   "metadata": {},
   "source": [
    "Drop tweets where user_id is NaN. Tweets that clearly cannot be associated to any user do not contain useful info for further steps."
   ]
  },
  {
   "cell_type": "code",
   "execution_count": 111,
   "metadata": {},
   "outputs": [],
   "source": [
    "df_tweets_sample.dropna(subset=['user_id'], how='any', inplace=True)"
   ]
  },
  {
   "cell_type": "markdown",
   "metadata": {},
   "source": [
    "Drop name column in user Dataframe. It is not useful information to our purpuse."
   ]
  },
  {
   "cell_type": "code",
   "execution_count": 112,
   "metadata": {},
   "outputs": [],
   "source": [
    "df_users.drop(columns=['name'], inplace=True)"
   ]
  },
  {
   "cell_type": "markdown",
   "metadata": {},
   "source": [
    "## Manage duplicates"
   ]
  },
  {
   "cell_type": "markdown",
   "metadata": {},
   "source": [
    "Before we manage the duplicates, we firsly view the heatmap of users and tweets:"
   ]
  },
  {
   "cell_type": "code",
   "execution_count": 113,
   "metadata": {},
   "outputs": [
    {
     "data": {
      "image/png": "[encoded data removed]",
      "text/plain": [
       "<Figure size 1200x500 with 1 Axes>"
      ]
     },
     "metadata": {},
     "output_type": "display_data"
    }
   ],
   "source": [
    "fig, ax = plt.subplots(figsize=(12,5)) \n",
    "sn.heatmap(df_users.isnull(), cbar=False, xticklabels=True, ax=ax, yticklabels=False)\n",
    "plt.show()"
   ]
  },
  {
   "cell_type": "code",
   "execution_count": 114,
   "metadata": {},
   "outputs": [
    {
     "data": {
      "image/png": "[encoded data removed]",
      "text/plain": [
       "<Figure size 1200x500 with 1 Axes>"
      ]
     },
     "metadata": {},
     "output_type": "display_data"
    }
   ],
   "source": [
    "fig, ax = plt.subplots(figsize=(12,5)) \n",
    "sn.heatmap(df_tweets_sample.isnull(), cbar=False, xticklabels=True, ax=ax, yticklabels=False)\n",
    "plt.show()"
   ]
  },
  {
   "cell_type": "code",
   "execution_count": 115,
   "metadata": {},
   "outputs": [
    {
     "data": {
      "text/html": [
       "<div>\n",
       "<style scoped>\n",
       "    .dataframe tbody tr th:only-of-type {\n",
       "        vertical-align: middle;\n",
       "    }\n",
       "\n",
       "    .dataframe tbody tr th {\n",
       "        vertical-align: top;\n",
       "    }\n",
       "\n",
       "    .dataframe thead th {\n",
       "        text-align: right;\n",
       "    }\n",
       "</style>\n",
       "<table border=\"1\" class=\"dataframe\">\n",
       "  <thead>\n",
       "    <tr style=\"text-align: right;\">\n",
       "      <th></th>\n",
       "      <th>user_id</th>\n",
       "      <th>retweet_count</th>\n",
       "      <th>reply_count</th>\n",
       "      <th>favorite_count</th>\n",
       "      <th>num_hashtags</th>\n",
       "      <th>num_urls</th>\n",
       "      <th>num_mentions</th>\n",
       "      <th>created_at</th>\n",
       "      <th>text</th>\n",
       "    </tr>\n",
       "    <tr>\n",
       "      <th>id</th>\n",
       "      <th></th>\n",
       "      <th></th>\n",
       "      <th></th>\n",
       "      <th></th>\n",
       "      <th></th>\n",
       "      <th></th>\n",
       "      <th></th>\n",
       "      <th></th>\n",
       "      <th></th>\n",
       "    </tr>\n",
       "  </thead>\n",
       "  <tbody>\n",
       "    <tr>\n",
       "      <th>509354017856950272</th>\n",
       "      <td>327746336</td>\n",
       "      <td>0</td>\n",
       "      <td>0</td>\n",
       "      <td>0</td>\n",
       "      <td>0</td>\n",
       "      <td>0</td>\n",
       "      <td>0</td>\n",
       "      <td>2019-09-11 14:53:55</td>\n",
       "      <td>If man is a little lower than angels, then ang...</td>\n",
       "    </tr>\n",
       "    <tr>\n",
       "      <th>583002592529121280</th>\n",
       "      <td>333722912</td>\n",
       "      <td>1</td>\n",
       "      <td>0</td>\n",
       "      <td>0</td>\n",
       "      <td>0</td>\n",
       "      <td>0</td>\n",
       "      <td>1</td>\n",
       "      <td>2020-04-01 20:27:04</td>\n",
       "      <td>\"@BestWSHHVids: how do you say these words wit...</td>\n",
       "    </tr>\n",
       "    <tr>\n",
       "      <th>461498835362013185</th>\n",
       "      <td>2379755776</td>\n",
       "      <td>0</td>\n",
       "      <td>0</td>\n",
       "      <td>0</td>\n",
       "      <td>0</td>\n",
       "      <td>0</td>\n",
       "      <td>1</td>\n",
       "      <td>2019-05-02 13:34:31</td>\n",
       "      <td>@LOLatComedy awsome</td>\n",
       "    </tr>\n",
       "    <tr>\n",
       "      <th>528808127366692864</th>\n",
       "      <td>466226880</td>\n",
       "      <td>0</td>\n",
       "      <td>0</td>\n",
       "      <td>0</td>\n",
       "      <td>0</td>\n",
       "      <td>0</td>\n",
       "      <td>0</td>\n",
       "      <td>2019-11-04 07:17:37</td>\n",
       "      <td>Stephen Hawkins: i buchi neri non esistono se ...</td>\n",
       "    </tr>\n",
       "    <tr>\n",
       "      <th>575336690904006656</th>\n",
       "      <td>1355538048</td>\n",
       "      <td>114</td>\n",
       "      <td>0</td>\n",
       "      <td>0</td>\n",
       "      <td>1</td>\n",
       "      <td>0</td>\n",
       "      <td>1</td>\n",
       "      <td>2020-03-11 16:45:31</td>\n",
       "      <td>RT @tibbs_montris: So ready for Wednesday!</td>\n",
       "    </tr>\n",
       "  </tbody>\n",
       "</table>\n",
       "</div>"
      ],
      "text/plain": [
       "                       user_id  retweet_count  reply_count  favorite_count  \\\n",
       "id                                                                           \n",
       "509354017856950272   327746336              0            0               0   \n",
       "583002592529121280   333722912              1            0               0   \n",
       "461498835362013185  2379755776              0            0               0   \n",
       "528808127366692864   466226880              0            0               0   \n",
       "575336690904006656  1355538048            114            0               0   \n",
       "\n",
       "                    num_hashtags  num_urls  num_mentions          created_at  \\\n",
       "id                                                                             \n",
       "509354017856950272             0         0             0 2019-09-11 14:53:55   \n",
       "583002592529121280             0         0             1 2020-04-01 20:27:04   \n",
       "461498835362013185             0         0             1 2019-05-02 13:34:31   \n",
       "528808127366692864             0         0             0 2019-11-04 07:17:37   \n",
       "575336690904006656             1         0             1 2020-03-11 16:45:31   \n",
       "\n",
       "                                                                 text  \n",
       "id                                                                     \n",
       "509354017856950272  If man is a little lower than angels, then ang...  \n",
       "583002592529121280  \"@BestWSHHVids: how do you say these words wit...  \n",
       "461498835362013185                                @LOLatComedy awsome  \n",
       "528808127366692864  Stephen Hawkins: i buchi neri non esistono se ...  \n",
       "575336690904006656        RT @tibbs_montris: So ready for Wednesday!   "
      ]
     },
     "execution_count": 115,
     "metadata": {},
     "output_type": "execute_result"
    }
   ],
   "source": [
    "df_tweets_sample.head(5)"
   ]
  },
  {
   "cell_type": "markdown",
   "metadata": {},
   "source": [
    "Remove and merge duplicates in users dataframe"
   ]
  },
  {
   "cell_type": "code",
   "execution_count": 116,
   "metadata": {},
   "outputs": [],
   "source": [
    "df_users.reset_index(inplace=True)\n",
    "df_users_duplicates = df_users.copy()\n",
    "\n",
    "#Drop duplicati\n",
    "df_users_duplicates.drop_duplicates(inplace=True)\n",
    "\n",
    "#Ricerca duplicati sui campi id\n",
    "df_users_duplicates_check = df_users_duplicates.duplicated([\"id\"])\n",
    "\n",
    "#Selezione [\"id\"] che possiedono dei cloni (da cui effettuare recover info)\n",
    "df_users_duplicates_2 = df_users_duplicates[df_users_duplicates_check].copy()\n",
    "df_users_duplicates_R = df_users_duplicates_2[[\"id\"]].copy()\n",
    "\n",
    "#Right Join per selezionarli\n",
    "df_users_merge = df_users_duplicates.merge(df_users_duplicates_R,on=[\"id\"],how=\"right\")\n",
    "\n",
    "df_users_merge.dropna(subset=['id'], inplace=True)\n",
    "df_users_merge.sort_values([\"id\"])\n",
    "\n",
    "df_users.drop_duplicates(subset='id', inplace=True) #PERCHè UN DROP DUPLICATES IN FONDO SUL DATAFRAME INIZIALE?\n",
    "\n",
    "# COSA RESTITUISCE?"
   ]
  },
  {
   "cell_type": "code",
   "execution_count": 117,
   "metadata": {},
   "outputs": [
    {
     "data": {
      "text/html": [
       "<div>\n",
       "<style scoped>\n",
       "    .dataframe tbody tr th:only-of-type {\n",
       "        vertical-align: middle;\n",
       "    }\n",
       "\n",
       "    .dataframe tbody tr th {\n",
       "        vertical-align: top;\n",
       "    }\n",
       "\n",
       "    .dataframe thead th {\n",
       "        text-align: right;\n",
       "    }\n",
       "</style>\n",
       "<table border=\"1\" class=\"dataframe\">\n",
       "  <thead>\n",
       "    <tr style=\"text-align: right;\">\n",
       "      <th></th>\n",
       "      <th>id</th>\n",
       "      <th>lang</th>\n",
       "      <th>bot</th>\n",
       "      <th>created_at</th>\n",
       "      <th>statuses_count</th>\n",
       "    </tr>\n",
       "  </thead>\n",
       "  <tbody>\n",
       "  </tbody>\n",
       "</table>\n",
       "</div>"
      ],
      "text/plain": [
       "Empty DataFrame\n",
       "Columns: [id, lang, bot, created_at, statuses_count]\n",
       "Index: []"
      ]
     },
     "execution_count": 117,
     "metadata": {},
     "output_type": "execute_result"
    }
   ],
   "source": [
    "df_users_duplicates_2"
   ]
  },
  {
   "cell_type": "markdown",
   "metadata": {},
   "source": [
    "Remove and merge duplicates in tweets dataframe"
   ]
  },
  {
   "cell_type": "code",
   "execution_count": 118,
   "metadata": {},
   "outputs": [
    {
     "data": {
      "text/html": [
       "<div>\n",
       "<style scoped>\n",
       "    .dataframe tbody tr th:only-of-type {\n",
       "        vertical-align: middle;\n",
       "    }\n",
       "\n",
       "    .dataframe tbody tr th {\n",
       "        vertical-align: top;\n",
       "    }\n",
       "\n",
       "    .dataframe thead th {\n",
       "        text-align: right;\n",
       "    }\n",
       "</style>\n",
       "<table border=\"1\" class=\"dataframe\">\n",
       "  <thead>\n",
       "    <tr style=\"text-align: right;\">\n",
       "      <th></th>\n",
       "      <th>id</th>\n",
       "      <th>user_id</th>\n",
       "      <th>retweet_count</th>\n",
       "      <th>reply_count</th>\n",
       "      <th>favorite_count</th>\n",
       "      <th>num_hashtags</th>\n",
       "      <th>num_urls</th>\n",
       "      <th>num_mentions</th>\n",
       "      <th>created_at</th>\n",
       "      <th>text</th>\n",
       "    </tr>\n",
       "  </thead>\n",
       "  <tbody>\n",
       "    <tr>\n",
       "      <th>0</th>\n",
       "      <td>blm</td>\n",
       "      <td>23571734</td>\n",
       "      <td>0</td>\n",
       "      <td>0</td>\n",
       "      <td>&lt;NA&gt;</td>\n",
       "      <td>&lt;NA&gt;</td>\n",
       "      <td>&lt;NA&gt;</td>\n",
       "      <td>&lt;NA&gt;</td>\n",
       "      <td>2020-01-24 05:01:28</td>\n",
       "      <td>@EricCrampton probably the people working on m...</td>\n",
       "    </tr>\n",
       "    <tr>\n",
       "      <th>1</th>\n",
       "      <td>blm</td>\n",
       "      <td>23571734</td>\n",
       "      <td>0</td>\n",
       "      <td>&lt;NA&gt;</td>\n",
       "      <td>&lt;NA&gt;</td>\n",
       "      <td>&lt;NA&gt;</td>\n",
       "      <td>&lt;NA&gt;</td>\n",
       "      <td>&lt;NA&gt;</td>\n",
       "      <td>2020-01-24 05:02:46</td>\n",
       "      <td>@merxplat definitely vital: surprisingly hard ...</td>\n",
       "    </tr>\n",
       "    <tr>\n",
       "      <th>2</th>\n",
       "      <td>cvs</td>\n",
       "      <td>48008292</td>\n",
       "      <td>&lt;NA&gt;</td>\n",
       "      <td>&lt;NA&gt;</td>\n",
       "      <td>&lt;NA&gt;</td>\n",
       "      <td>&lt;NA&gt;</td>\n",
       "      <td>0</td>\n",
       "      <td>1</td>\n",
       "      <td>2020-04-13 05:58:51</td>\n",
       "      <td>@realbowiemekko Are you feeling better?</td>\n",
       "    </tr>\n",
       "    <tr>\n",
       "      <th>3</th>\n",
       "      <td>cvs</td>\n",
       "      <td>48008292</td>\n",
       "      <td>&lt;NA&gt;</td>\n",
       "      <td>&lt;NA&gt;</td>\n",
       "      <td>&lt;NA&gt;</td>\n",
       "      <td>&lt;NA&gt;</td>\n",
       "      <td>0</td>\n",
       "      <td>0</td>\n",
       "      <td>2020-04-28 21:46:06</td>\n",
       "      <td>Hoping windbag doesn't make a patronizing stat...</td>\n",
       "    </tr>\n",
       "    <tr>\n",
       "      <th>14</th>\n",
       "      <td>djq</td>\n",
       "      <td>70142272</td>\n",
       "      <td>&lt;NA&gt;</td>\n",
       "      <td>&lt;NA&gt;</td>\n",
       "      <td>&lt;NA&gt;</td>\n",
       "      <td>&lt;NA&gt;</td>\n",
       "      <td>0</td>\n",
       "      <td>&lt;NA&gt;</td>\n",
       "      <td>2019-06-27 13:38:06</td>\n",
       "      <td>&lt;NA&gt;</td>\n",
       "    </tr>\n",
       "    <tr>\n",
       "      <th>15</th>\n",
       "      <td>djq</td>\n",
       "      <td>70142272</td>\n",
       "      <td>&lt;NA&gt;</td>\n",
       "      <td>&lt;NA&gt;</td>\n",
       "      <td>&lt;NA&gt;</td>\n",
       "      <td>&lt;NA&gt;</td>\n",
       "      <td>0</td>\n",
       "      <td>&lt;NA&gt;</td>\n",
       "      <td>2020-04-23 12:43:47</td>\n",
       "      <td>&lt;NA&gt;</td>\n",
       "    </tr>\n",
       "    <tr>\n",
       "      <th>8</th>\n",
       "      <td>efh</td>\n",
       "      <td>1573156608</td>\n",
       "      <td>&lt;NA&gt;</td>\n",
       "      <td>&lt;NA&gt;</td>\n",
       "      <td>&lt;NA&gt;</td>\n",
       "      <td>&lt;NA&gt;</td>\n",
       "      <td>&lt;NA&gt;</td>\n",
       "      <td>&lt;NA&gt;</td>\n",
       "      <td>2020-03-12 02:12:50</td>\n",
       "      <td>&lt;NA&gt;</td>\n",
       "    </tr>\n",
       "    <tr>\n",
       "      <th>9</th>\n",
       "      <td>efh</td>\n",
       "      <td>1573156608</td>\n",
       "      <td>0</td>\n",
       "      <td>&lt;NA&gt;</td>\n",
       "      <td>&lt;NA&gt;</td>\n",
       "      <td>&lt;NA&gt;</td>\n",
       "      <td>&lt;NA&gt;</td>\n",
       "      <td>&lt;NA&gt;</td>\n",
       "      <td>2020-03-07 04:35:15</td>\n",
       "      <td>&lt;NA&gt;</td>\n",
       "    </tr>\n",
       "    <tr>\n",
       "      <th>18</th>\n",
       "      <td>fkn</td>\n",
       "      <td>1978992000</td>\n",
       "      <td>&lt;NA&gt;</td>\n",
       "      <td>&lt;NA&gt;</td>\n",
       "      <td>&lt;NA&gt;</td>\n",
       "      <td>&lt;NA&gt;</td>\n",
       "      <td>&lt;NA&gt;</td>\n",
       "      <td>&lt;NA&gt;</td>\n",
       "      <td>2020-04-03 16:24:47</td>\n",
       "      <td>&lt;NA&gt;</td>\n",
       "    </tr>\n",
       "    <tr>\n",
       "      <th>19</th>\n",
       "      <td>fkn</td>\n",
       "      <td>1978992000</td>\n",
       "      <td>&lt;NA&gt;</td>\n",
       "      <td>&lt;NA&gt;</td>\n",
       "      <td>&lt;NA&gt;</td>\n",
       "      <td>&lt;NA&gt;</td>\n",
       "      <td>&lt;NA&gt;</td>\n",
       "      <td>&lt;NA&gt;</td>\n",
       "      <td>2020-03-21 23:10:07</td>\n",
       "      <td>&lt;NA&gt;</td>\n",
       "    </tr>\n",
       "    <tr>\n",
       "      <th>28</th>\n",
       "      <td>gaj</td>\n",
       "      <td>251905552</td>\n",
       "      <td>&lt;NA&gt;</td>\n",
       "      <td>&lt;NA&gt;</td>\n",
       "      <td>&lt;NA&gt;</td>\n",
       "      <td>&lt;NA&gt;</td>\n",
       "      <td>&lt;NA&gt;</td>\n",
       "      <td>&lt;NA&gt;</td>\n",
       "      <td>2020-04-04 23:35:19</td>\n",
       "      <td>&lt;NA&gt;</td>\n",
       "    </tr>\n",
       "    <tr>\n",
       "      <th>29</th>\n",
       "      <td>gaj</td>\n",
       "      <td>251905552</td>\n",
       "      <td>&lt;NA&gt;</td>\n",
       "      <td>&lt;NA&gt;</td>\n",
       "      <td>&lt;NA&gt;</td>\n",
       "      <td>&lt;NA&gt;</td>\n",
       "      <td>&lt;NA&gt;</td>\n",
       "      <td>&lt;NA&gt;</td>\n",
       "      <td>2020-04-25 17:51:35</td>\n",
       "      <td>&lt;NA&gt;</td>\n",
       "    </tr>\n",
       "    <tr>\n",
       "      <th>16</th>\n",
       "      <td>gnn</td>\n",
       "      <td>24295752</td>\n",
       "      <td>&lt;NA&gt;</td>\n",
       "      <td>&lt;NA&gt;</td>\n",
       "      <td>&lt;NA&gt;</td>\n",
       "      <td>&lt;NA&gt;</td>\n",
       "      <td>&lt;NA&gt;</td>\n",
       "      <td>&lt;NA&gt;</td>\n",
       "      <td>2020-03-14 00:09:55</td>\n",
       "      <td>&lt;NA&gt;</td>\n",
       "    </tr>\n",
       "    <tr>\n",
       "      <th>17</th>\n",
       "      <td>gnn</td>\n",
       "      <td>24295752</td>\n",
       "      <td>&lt;NA&gt;</td>\n",
       "      <td>&lt;NA&gt;</td>\n",
       "      <td>&lt;NA&gt;</td>\n",
       "      <td>&lt;NA&gt;</td>\n",
       "      <td>&lt;NA&gt;</td>\n",
       "      <td>&lt;NA&gt;</td>\n",
       "      <td>2020-03-15 15:12:05</td>\n",
       "      <td>&lt;NA&gt;</td>\n",
       "    </tr>\n",
       "    <tr>\n",
       "      <th>22</th>\n",
       "      <td>hfq</td>\n",
       "      <td>2513067520</td>\n",
       "      <td>&lt;NA&gt;</td>\n",
       "      <td>&lt;NA&gt;</td>\n",
       "      <td>&lt;NA&gt;</td>\n",
       "      <td>&lt;NA&gt;</td>\n",
       "      <td>0</td>\n",
       "      <td>1</td>\n",
       "      <td>2020-04-20 16:38:54</td>\n",
       "      <td>@lucciola013 まだいけるよ？（笑）</td>\n",
       "    </tr>\n",
       "    <tr>\n",
       "      <th>23</th>\n",
       "      <td>hfq</td>\n",
       "      <td>2513067520</td>\n",
       "      <td>&lt;NA&gt;</td>\n",
       "      <td>&lt;NA&gt;</td>\n",
       "      <td>&lt;NA&gt;</td>\n",
       "      <td>&lt;NA&gt;</td>\n",
       "      <td>0</td>\n",
       "      <td>0</td>\n",
       "      <td>2020-04-16 07:18:25</td>\n",
       "      <td>雨雲接近 http://t.co/y258zNmYZ7</td>\n",
       "    </tr>\n",
       "    <tr>\n",
       "      <th>26</th>\n",
       "      <td>kws</td>\n",
       "      <td>531236288</td>\n",
       "      <td>0</td>\n",
       "      <td>0</td>\n",
       "      <td>&lt;NA&gt;</td>\n",
       "      <td>&lt;NA&gt;</td>\n",
       "      <td>&lt;NA&gt;</td>\n",
       "      <td>&lt;NA&gt;</td>\n",
       "      <td>2019-10-25 00:52:55</td>\n",
       "      <td>&lt;NA&gt;</td>\n",
       "    </tr>\n",
       "    <tr>\n",
       "      <th>27</th>\n",
       "      <td>kws</td>\n",
       "      <td>531236288</td>\n",
       "      <td>&lt;NA&gt;</td>\n",
       "      <td>0</td>\n",
       "      <td>&lt;NA&gt;</td>\n",
       "      <td>&lt;NA&gt;</td>\n",
       "      <td>&lt;NA&gt;</td>\n",
       "      <td>&lt;NA&gt;</td>\n",
       "      <td>2019-11-08 14:53:10</td>\n",
       "      <td>&lt;NA&gt;</td>\n",
       "    </tr>\n",
       "    <tr>\n",
       "      <th>10</th>\n",
       "      <td>oby</td>\n",
       "      <td>114910552</td>\n",
       "      <td>&lt;NA&gt;</td>\n",
       "      <td>&lt;NA&gt;</td>\n",
       "      <td>&lt;NA&gt;</td>\n",
       "      <td>&lt;NA&gt;</td>\n",
       "      <td>&lt;NA&gt;</td>\n",
       "      <td>&lt;NA&gt;</td>\n",
       "      <td>2020-04-06 21:33:27</td>\n",
       "      <td>&lt;NA&gt;</td>\n",
       "    </tr>\n",
       "    <tr>\n",
       "      <th>11</th>\n",
       "      <td>oby</td>\n",
       "      <td>114910552</td>\n",
       "      <td>&lt;NA&gt;</td>\n",
       "      <td>&lt;NA&gt;</td>\n",
       "      <td>&lt;NA&gt;</td>\n",
       "      <td>&lt;NA&gt;</td>\n",
       "      <td>&lt;NA&gt;</td>\n",
       "      <td>&lt;NA&gt;</td>\n",
       "      <td>2020-03-15 03:51:40</td>\n",
       "      <td>&lt;NA&gt;</td>\n",
       "    </tr>\n",
       "    <tr>\n",
       "      <th>6</th>\n",
       "      <td>ptb</td>\n",
       "      <td>467116832</td>\n",
       "      <td>&lt;NA&gt;</td>\n",
       "      <td>0</td>\n",
       "      <td>0</td>\n",
       "      <td>&lt;NA&gt;</td>\n",
       "      <td>&lt;NA&gt;</td>\n",
       "      <td>&lt;NA&gt;</td>\n",
       "      <td>2019-10-15 21:01:24</td>\n",
       "      <td>&lt;NA&gt;</td>\n",
       "    </tr>\n",
       "    <tr>\n",
       "      <th>7</th>\n",
       "      <td>ptb</td>\n",
       "      <td>467116832</td>\n",
       "      <td>0</td>\n",
       "      <td>0</td>\n",
       "      <td>0</td>\n",
       "      <td>&lt;NA&gt;</td>\n",
       "      <td>&lt;NA&gt;</td>\n",
       "      <td>&lt;NA&gt;</td>\n",
       "      <td>2019-06-17 09:34:56</td>\n",
       "      <td>&lt;NA&gt;</td>\n",
       "    </tr>\n",
       "    <tr>\n",
       "      <th>24</th>\n",
       "      <td>tgg</td>\n",
       "      <td>576226496</td>\n",
       "      <td>0</td>\n",
       "      <td>0</td>\n",
       "      <td>&lt;NA&gt;</td>\n",
       "      <td>&lt;NA&gt;</td>\n",
       "      <td>&lt;NA&gt;</td>\n",
       "      <td>&lt;NA&gt;</td>\n",
       "      <td>2018-12-14 08:19:54</td>\n",
       "      <td>&lt;NA&gt;</td>\n",
       "    </tr>\n",
       "    <tr>\n",
       "      <th>25</th>\n",
       "      <td>tgg</td>\n",
       "      <td>576226496</td>\n",
       "      <td>0</td>\n",
       "      <td>0</td>\n",
       "      <td>&lt;NA&gt;</td>\n",
       "      <td>&lt;NA&gt;</td>\n",
       "      <td>&lt;NA&gt;</td>\n",
       "      <td>&lt;NA&gt;</td>\n",
       "      <td>2018-11-28 13:28:02</td>\n",
       "      <td>&lt;NA&gt;</td>\n",
       "    </tr>\n",
       "    <tr>\n",
       "      <th>4</th>\n",
       "      <td>vada</td>\n",
       "      <td>331806624</td>\n",
       "      <td>0</td>\n",
       "      <td>&lt;NA&gt;</td>\n",
       "      <td>&lt;NA&gt;</td>\n",
       "      <td>&lt;NA&gt;</td>\n",
       "      <td>&lt;NA&gt;</td>\n",
       "      <td>&lt;NA&gt;</td>\n",
       "      <td>2019-10-18 12:45:40</td>\n",
       "      <td>&lt;NA&gt;</td>\n",
       "    </tr>\n",
       "    <tr>\n",
       "      <th>5</th>\n",
       "      <td>vada</td>\n",
       "      <td>331806624</td>\n",
       "      <td>&lt;NA&gt;</td>\n",
       "      <td>&lt;NA&gt;</td>\n",
       "      <td>&lt;NA&gt;</td>\n",
       "      <td>&lt;NA&gt;</td>\n",
       "      <td>&lt;NA&gt;</td>\n",
       "      <td>&lt;NA&gt;</td>\n",
       "      <td>2019-10-16 23:49:32</td>\n",
       "      <td>&lt;NA&gt;</td>\n",
       "    </tr>\n",
       "    <tr>\n",
       "      <th>20</th>\n",
       "      <td>vam</td>\n",
       "      <td>1499931136</td>\n",
       "      <td>0</td>\n",
       "      <td>&lt;NA&gt;</td>\n",
       "      <td>0</td>\n",
       "      <td>&lt;NA&gt;</td>\n",
       "      <td>0</td>\n",
       "      <td>&lt;NA&gt;</td>\n",
       "      <td>2020-03-20 05:03:20</td>\n",
       "      <td>&lt;NA&gt;</td>\n",
       "    </tr>\n",
       "    <tr>\n",
       "      <th>21</th>\n",
       "      <td>vam</td>\n",
       "      <td>1499931136</td>\n",
       "      <td>1222</td>\n",
       "      <td>&lt;NA&gt;</td>\n",
       "      <td>0</td>\n",
       "      <td>&lt;NA&gt;</td>\n",
       "      <td>1</td>\n",
       "      <td>&lt;NA&gt;</td>\n",
       "      <td>2020-03-15 14:54:04</td>\n",
       "      <td>&lt;NA&gt;</td>\n",
       "    </tr>\n",
       "    <tr>\n",
       "      <th>12</th>\n",
       "      <td>yfj</td>\n",
       "      <td>2445641728</td>\n",
       "      <td>&lt;NA&gt;</td>\n",
       "      <td>&lt;NA&gt;</td>\n",
       "      <td>&lt;NA&gt;</td>\n",
       "      <td>&lt;NA&gt;</td>\n",
       "      <td>&lt;NA&gt;</td>\n",
       "      <td>&lt;NA&gt;</td>\n",
       "      <td>2019-06-25 14:00:15</td>\n",
       "      <td>&lt;NA&gt;</td>\n",
       "    </tr>\n",
       "    <tr>\n",
       "      <th>13</th>\n",
       "      <td>yfj</td>\n",
       "      <td>2445641728</td>\n",
       "      <td>&lt;NA&gt;</td>\n",
       "      <td>&lt;NA&gt;</td>\n",
       "      <td>&lt;NA&gt;</td>\n",
       "      <td>&lt;NA&gt;</td>\n",
       "      <td>&lt;NA&gt;</td>\n",
       "      <td>&lt;NA&gt;</td>\n",
       "      <td>2019-04-29 23:52:04</td>\n",
       "      <td>&lt;NA&gt;</td>\n",
       "    </tr>\n",
       "  </tbody>\n",
       "</table>\n",
       "</div>"
      ],
      "text/plain": [
       "      id     user_id  retweet_count  reply_count  favorite_count  \\\n",
       "0    blm    23571734              0            0            <NA>   \n",
       "1    blm    23571734              0         <NA>            <NA>   \n",
       "2    cvs    48008292           <NA>         <NA>            <NA>   \n",
       "3    cvs    48008292           <NA>         <NA>            <NA>   \n",
       "14   djq    70142272           <NA>         <NA>            <NA>   \n",
       "15   djq    70142272           <NA>         <NA>            <NA>   \n",
       "8    efh  1573156608           <NA>         <NA>            <NA>   \n",
       "9    efh  1573156608              0         <NA>            <NA>   \n",
       "18   fkn  1978992000           <NA>         <NA>            <NA>   \n",
       "19   fkn  1978992000           <NA>         <NA>            <NA>   \n",
       "28   gaj   251905552           <NA>         <NA>            <NA>   \n",
       "29   gaj   251905552           <NA>         <NA>            <NA>   \n",
       "16   gnn    24295752           <NA>         <NA>            <NA>   \n",
       "17   gnn    24295752           <NA>         <NA>            <NA>   \n",
       "22   hfq  2513067520           <NA>         <NA>            <NA>   \n",
       "23   hfq  2513067520           <NA>         <NA>            <NA>   \n",
       "26   kws   531236288              0            0            <NA>   \n",
       "27   kws   531236288           <NA>            0            <NA>   \n",
       "10   oby   114910552           <NA>         <NA>            <NA>   \n",
       "11   oby   114910552           <NA>         <NA>            <NA>   \n",
       "6    ptb   467116832           <NA>            0               0   \n",
       "7    ptb   467116832              0            0               0   \n",
       "24   tgg   576226496              0            0            <NA>   \n",
       "25   tgg   576226496              0            0            <NA>   \n",
       "4   vada   331806624              0         <NA>            <NA>   \n",
       "5   vada   331806624           <NA>         <NA>            <NA>   \n",
       "20   vam  1499931136              0         <NA>               0   \n",
       "21   vam  1499931136           1222         <NA>               0   \n",
       "12   yfj  2445641728           <NA>         <NA>            <NA>   \n",
       "13   yfj  2445641728           <NA>         <NA>            <NA>   \n",
       "\n",
       "    num_hashtags  num_urls  num_mentions          created_at  \\\n",
       "0           <NA>      <NA>          <NA> 2020-01-24 05:01:28   \n",
       "1           <NA>      <NA>          <NA> 2020-01-24 05:02:46   \n",
       "2           <NA>         0             1 2020-04-13 05:58:51   \n",
       "3           <NA>         0             0 2020-04-28 21:46:06   \n",
       "14          <NA>         0          <NA> 2019-06-27 13:38:06   \n",
       "15          <NA>         0          <NA> 2020-04-23 12:43:47   \n",
       "8           <NA>      <NA>          <NA> 2020-03-12 02:12:50   \n",
       "9           <NA>      <NA>          <NA> 2020-03-07 04:35:15   \n",
       "18          <NA>      <NA>          <NA> 2020-04-03 16:24:47   \n",
       "19          <NA>      <NA>          <NA> 2020-03-21 23:10:07   \n",
       "28          <NA>      <NA>          <NA> 2020-04-04 23:35:19   \n",
       "29          <NA>      <NA>          <NA> 2020-04-25 17:51:35   \n",
       "16          <NA>      <NA>          <NA> 2020-03-14 00:09:55   \n",
       "17          <NA>      <NA>          <NA> 2020-03-15 15:12:05   \n",
       "22          <NA>         0             1 2020-04-20 16:38:54   \n",
       "23          <NA>         0             0 2020-04-16 07:18:25   \n",
       "26          <NA>      <NA>          <NA> 2019-10-25 00:52:55   \n",
       "27          <NA>      <NA>          <NA> 2019-11-08 14:53:10   \n",
       "10          <NA>      <NA>          <NA> 2020-04-06 21:33:27   \n",
       "11          <NA>      <NA>          <NA> 2020-03-15 03:51:40   \n",
       "6           <NA>      <NA>          <NA> 2019-10-15 21:01:24   \n",
       "7           <NA>      <NA>          <NA> 2019-06-17 09:34:56   \n",
       "24          <NA>      <NA>          <NA> 2018-12-14 08:19:54   \n",
       "25          <NA>      <NA>          <NA> 2018-11-28 13:28:02   \n",
       "4           <NA>      <NA>          <NA> 2019-10-18 12:45:40   \n",
       "5           <NA>      <NA>          <NA> 2019-10-16 23:49:32   \n",
       "20          <NA>         0          <NA> 2020-03-20 05:03:20   \n",
       "21          <NA>         1          <NA> 2020-03-15 14:54:04   \n",
       "12          <NA>      <NA>          <NA> 2019-06-25 14:00:15   \n",
       "13          <NA>      <NA>          <NA> 2019-04-29 23:52:04   \n",
       "\n",
       "                                                 text  \n",
       "0   @EricCrampton probably the people working on m...  \n",
       "1   @merxplat definitely vital: surprisingly hard ...  \n",
       "2             @realbowiemekko Are you feeling better?  \n",
       "3   Hoping windbag doesn't make a patronizing stat...  \n",
       "14                                               <NA>  \n",
       "15                                               <NA>  \n",
       "8                                                <NA>  \n",
       "9                                                <NA>  \n",
       "18                                               <NA>  \n",
       "19                                               <NA>  \n",
       "28                                               <NA>  \n",
       "29                                               <NA>  \n",
       "16                                               <NA>  \n",
       "17                                               <NA>  \n",
       "22                            @lucciola013 まだいけるよ？（笑）  \n",
       "23                        雨雲接近 http://t.co/y258zNmYZ7  \n",
       "26                                               <NA>  \n",
       "27                                               <NA>  \n",
       "10                                               <NA>  \n",
       "11                                               <NA>  \n",
       "6                                                <NA>  \n",
       "7                                                <NA>  \n",
       "24                                               <NA>  \n",
       "25                                               <NA>  \n",
       "4                                                <NA>  \n",
       "5                                                <NA>  \n",
       "20                                               <NA>  \n",
       "21                                               <NA>  \n",
       "12                                               <NA>  \n",
       "13                                               <NA>  "
      ]
     },
     "execution_count": 118,
     "metadata": {},
     "output_type": "execute_result"
    }
   ],
   "source": [
    "df_tweets_duplicates = df_tweets_sample.copy()\n",
    "#Impostare index (id tweet) come colonna del df\n",
    "df_tweets_duplicates.reset_index(inplace=True)\n",
    "\n",
    "#Drop duplicati\n",
    "df_tweets_duplicates.drop_duplicates(inplace=True)\n",
    "\n",
    "#Ricerca duplicati sui campi id (del tweet) e user_id (scrittore del tweet)\n",
    "df_tweets_duplicates_check = df_tweets_duplicates.duplicated([\"id\", \"user_id\"]).copy()\n",
    "\n",
    "#Selezione [\"id\", \"user_id\"] che possiedono dei cloni (da cui effettuare recover info)\n",
    "df_tweets_duplicates_2 = df_tweets_duplicates[df_tweets_duplicates_check].copy()\n",
    "df_tweets_duplicates_R = df_tweets_duplicates_2[[\"id\", \"user_id\"]].copy()\n",
    "\n",
    "#Right Join per selezionarli\n",
    "df_tweets_merge = df_tweets_duplicates.merge(df_tweets_duplicates_R,on=[\"id\",\"user_id\"],how=\"right\")\n",
    "\n",
    "df_tweets_merge.dropna(subset=['user_id'], inplace=True)\n",
    "df_tweets_merge.sort_values([\"id\", \"user_id\"])\n",
    "\n",
    "# COSA RESTITUISCE?"
   ]
  },
  {
   "cell_type": "code",
   "execution_count": 119,
   "metadata": {},
   "outputs": [
    {
     "data": {
      "text/html": [
       "<div>\n",
       "<style scoped>\n",
       "    .dataframe tbody tr th:only-of-type {\n",
       "        vertical-align: middle;\n",
       "    }\n",
       "\n",
       "    .dataframe tbody tr th {\n",
       "        vertical-align: top;\n",
       "    }\n",
       "\n",
       "    .dataframe thead th {\n",
       "        text-align: right;\n",
       "    }\n",
       "</style>\n",
       "<table border=\"1\" class=\"dataframe\">\n",
       "  <thead>\n",
       "    <tr style=\"text-align: right;\">\n",
       "      <th></th>\n",
       "      <th>id</th>\n",
       "      <th>user_id</th>\n",
       "      <th>retweet_count</th>\n",
       "      <th>reply_count</th>\n",
       "      <th>favorite_count</th>\n",
       "      <th>num_hashtags</th>\n",
       "      <th>num_urls</th>\n",
       "      <th>num_mentions</th>\n",
       "      <th>created_at</th>\n",
       "      <th>text</th>\n",
       "    </tr>\n",
       "  </thead>\n",
       "  <tbody>\n",
       "    <tr>\n",
       "      <th>0</th>\n",
       "      <td>blm</td>\n",
       "      <td>23571734</td>\n",
       "      <td>0</td>\n",
       "      <td>0</td>\n",
       "      <td>&lt;NA&gt;</td>\n",
       "      <td>&lt;NA&gt;</td>\n",
       "      <td>&lt;NA&gt;</td>\n",
       "      <td>&lt;NA&gt;</td>\n",
       "      <td>2020-01-24 05:01:28</td>\n",
       "      <td>@EricCrampton probably the people working on m...</td>\n",
       "    </tr>\n",
       "    <tr>\n",
       "      <th>1</th>\n",
       "      <td>blm</td>\n",
       "      <td>23571734</td>\n",
       "      <td>0</td>\n",
       "      <td>&lt;NA&gt;</td>\n",
       "      <td>&lt;NA&gt;</td>\n",
       "      <td>&lt;NA&gt;</td>\n",
       "      <td>&lt;NA&gt;</td>\n",
       "      <td>&lt;NA&gt;</td>\n",
       "      <td>2020-01-24 05:02:46</td>\n",
       "      <td>@merxplat definitely vital: surprisingly hard ...</td>\n",
       "    </tr>\n",
       "    <tr>\n",
       "      <th>2</th>\n",
       "      <td>cvs</td>\n",
       "      <td>48008292</td>\n",
       "      <td>&lt;NA&gt;</td>\n",
       "      <td>&lt;NA&gt;</td>\n",
       "      <td>&lt;NA&gt;</td>\n",
       "      <td>&lt;NA&gt;</td>\n",
       "      <td>0</td>\n",
       "      <td>1</td>\n",
       "      <td>2020-04-13 05:58:51</td>\n",
       "      <td>@realbowiemekko Are you feeling better?</td>\n",
       "    </tr>\n",
       "    <tr>\n",
       "      <th>3</th>\n",
       "      <td>cvs</td>\n",
       "      <td>48008292</td>\n",
       "      <td>&lt;NA&gt;</td>\n",
       "      <td>&lt;NA&gt;</td>\n",
       "      <td>&lt;NA&gt;</td>\n",
       "      <td>&lt;NA&gt;</td>\n",
       "      <td>0</td>\n",
       "      <td>0</td>\n",
       "      <td>2020-04-28 21:46:06</td>\n",
       "      <td>Hoping windbag doesn't make a patronizing stat...</td>\n",
       "    </tr>\n",
       "    <tr>\n",
       "      <th>4</th>\n",
       "      <td>vada</td>\n",
       "      <td>331806624</td>\n",
       "      <td>0</td>\n",
       "      <td>&lt;NA&gt;</td>\n",
       "      <td>&lt;NA&gt;</td>\n",
       "      <td>&lt;NA&gt;</td>\n",
       "      <td>&lt;NA&gt;</td>\n",
       "      <td>&lt;NA&gt;</td>\n",
       "      <td>2019-10-18 12:45:40</td>\n",
       "      <td>&lt;NA&gt;</td>\n",
       "    </tr>\n",
       "    <tr>\n",
       "      <th>5</th>\n",
       "      <td>vada</td>\n",
       "      <td>331806624</td>\n",
       "      <td>&lt;NA&gt;</td>\n",
       "      <td>&lt;NA&gt;</td>\n",
       "      <td>&lt;NA&gt;</td>\n",
       "      <td>&lt;NA&gt;</td>\n",
       "      <td>&lt;NA&gt;</td>\n",
       "      <td>&lt;NA&gt;</td>\n",
       "      <td>2019-10-16 23:49:32</td>\n",
       "      <td>&lt;NA&gt;</td>\n",
       "    </tr>\n",
       "    <tr>\n",
       "      <th>6</th>\n",
       "      <td>ptb</td>\n",
       "      <td>467116832</td>\n",
       "      <td>&lt;NA&gt;</td>\n",
       "      <td>0</td>\n",
       "      <td>0</td>\n",
       "      <td>&lt;NA&gt;</td>\n",
       "      <td>&lt;NA&gt;</td>\n",
       "      <td>&lt;NA&gt;</td>\n",
       "      <td>2019-10-15 21:01:24</td>\n",
       "      <td>&lt;NA&gt;</td>\n",
       "    </tr>\n",
       "    <tr>\n",
       "      <th>7</th>\n",
       "      <td>ptb</td>\n",
       "      <td>467116832</td>\n",
       "      <td>0</td>\n",
       "      <td>0</td>\n",
       "      <td>0</td>\n",
       "      <td>&lt;NA&gt;</td>\n",
       "      <td>&lt;NA&gt;</td>\n",
       "      <td>&lt;NA&gt;</td>\n",
       "      <td>2019-06-17 09:34:56</td>\n",
       "      <td>&lt;NA&gt;</td>\n",
       "    </tr>\n",
       "    <tr>\n",
       "      <th>8</th>\n",
       "      <td>efh</td>\n",
       "      <td>1573156608</td>\n",
       "      <td>&lt;NA&gt;</td>\n",
       "      <td>&lt;NA&gt;</td>\n",
       "      <td>&lt;NA&gt;</td>\n",
       "      <td>&lt;NA&gt;</td>\n",
       "      <td>&lt;NA&gt;</td>\n",
       "      <td>&lt;NA&gt;</td>\n",
       "      <td>2020-03-12 02:12:50</td>\n",
       "      <td>&lt;NA&gt;</td>\n",
       "    </tr>\n",
       "    <tr>\n",
       "      <th>9</th>\n",
       "      <td>efh</td>\n",
       "      <td>1573156608</td>\n",
       "      <td>0</td>\n",
       "      <td>&lt;NA&gt;</td>\n",
       "      <td>&lt;NA&gt;</td>\n",
       "      <td>&lt;NA&gt;</td>\n",
       "      <td>&lt;NA&gt;</td>\n",
       "      <td>&lt;NA&gt;</td>\n",
       "      <td>2020-03-07 04:35:15</td>\n",
       "      <td>&lt;NA&gt;</td>\n",
       "    </tr>\n",
       "    <tr>\n",
       "      <th>10</th>\n",
       "      <td>oby</td>\n",
       "      <td>114910552</td>\n",
       "      <td>&lt;NA&gt;</td>\n",
       "      <td>&lt;NA&gt;</td>\n",
       "      <td>&lt;NA&gt;</td>\n",
       "      <td>&lt;NA&gt;</td>\n",
       "      <td>&lt;NA&gt;</td>\n",
       "      <td>&lt;NA&gt;</td>\n",
       "      <td>2020-04-06 21:33:27</td>\n",
       "      <td>&lt;NA&gt;</td>\n",
       "    </tr>\n",
       "    <tr>\n",
       "      <th>11</th>\n",
       "      <td>oby</td>\n",
       "      <td>114910552</td>\n",
       "      <td>&lt;NA&gt;</td>\n",
       "      <td>&lt;NA&gt;</td>\n",
       "      <td>&lt;NA&gt;</td>\n",
       "      <td>&lt;NA&gt;</td>\n",
       "      <td>&lt;NA&gt;</td>\n",
       "      <td>&lt;NA&gt;</td>\n",
       "      <td>2020-03-15 03:51:40</td>\n",
       "      <td>&lt;NA&gt;</td>\n",
       "    </tr>\n",
       "    <tr>\n",
       "      <th>12</th>\n",
       "      <td>yfj</td>\n",
       "      <td>2445641728</td>\n",
       "      <td>&lt;NA&gt;</td>\n",
       "      <td>&lt;NA&gt;</td>\n",
       "      <td>&lt;NA&gt;</td>\n",
       "      <td>&lt;NA&gt;</td>\n",
       "      <td>&lt;NA&gt;</td>\n",
       "      <td>&lt;NA&gt;</td>\n",
       "      <td>2019-06-25 14:00:15</td>\n",
       "      <td>&lt;NA&gt;</td>\n",
       "    </tr>\n",
       "    <tr>\n",
       "      <th>13</th>\n",
       "      <td>yfj</td>\n",
       "      <td>2445641728</td>\n",
       "      <td>&lt;NA&gt;</td>\n",
       "      <td>&lt;NA&gt;</td>\n",
       "      <td>&lt;NA&gt;</td>\n",
       "      <td>&lt;NA&gt;</td>\n",
       "      <td>&lt;NA&gt;</td>\n",
       "      <td>&lt;NA&gt;</td>\n",
       "      <td>2019-04-29 23:52:04</td>\n",
       "      <td>&lt;NA&gt;</td>\n",
       "    </tr>\n",
       "    <tr>\n",
       "      <th>14</th>\n",
       "      <td>djq</td>\n",
       "      <td>70142272</td>\n",
       "      <td>&lt;NA&gt;</td>\n",
       "      <td>&lt;NA&gt;</td>\n",
       "      <td>&lt;NA&gt;</td>\n",
       "      <td>&lt;NA&gt;</td>\n",
       "      <td>0</td>\n",
       "      <td>&lt;NA&gt;</td>\n",
       "      <td>2019-06-27 13:38:06</td>\n",
       "      <td>&lt;NA&gt;</td>\n",
       "    </tr>\n",
       "    <tr>\n",
       "      <th>15</th>\n",
       "      <td>djq</td>\n",
       "      <td>70142272</td>\n",
       "      <td>&lt;NA&gt;</td>\n",
       "      <td>&lt;NA&gt;</td>\n",
       "      <td>&lt;NA&gt;</td>\n",
       "      <td>&lt;NA&gt;</td>\n",
       "      <td>0</td>\n",
       "      <td>&lt;NA&gt;</td>\n",
       "      <td>2020-04-23 12:43:47</td>\n",
       "      <td>&lt;NA&gt;</td>\n",
       "    </tr>\n",
       "    <tr>\n",
       "      <th>16</th>\n",
       "      <td>gnn</td>\n",
       "      <td>24295752</td>\n",
       "      <td>&lt;NA&gt;</td>\n",
       "      <td>&lt;NA&gt;</td>\n",
       "      <td>&lt;NA&gt;</td>\n",
       "      <td>&lt;NA&gt;</td>\n",
       "      <td>&lt;NA&gt;</td>\n",
       "      <td>&lt;NA&gt;</td>\n",
       "      <td>2020-03-14 00:09:55</td>\n",
       "      <td>&lt;NA&gt;</td>\n",
       "    </tr>\n",
       "    <tr>\n",
       "      <th>17</th>\n",
       "      <td>gnn</td>\n",
       "      <td>24295752</td>\n",
       "      <td>&lt;NA&gt;</td>\n",
       "      <td>&lt;NA&gt;</td>\n",
       "      <td>&lt;NA&gt;</td>\n",
       "      <td>&lt;NA&gt;</td>\n",
       "      <td>&lt;NA&gt;</td>\n",
       "      <td>&lt;NA&gt;</td>\n",
       "      <td>2020-03-15 15:12:05</td>\n",
       "      <td>&lt;NA&gt;</td>\n",
       "    </tr>\n",
       "    <tr>\n",
       "      <th>18</th>\n",
       "      <td>fkn</td>\n",
       "      <td>1978992000</td>\n",
       "      <td>&lt;NA&gt;</td>\n",
       "      <td>&lt;NA&gt;</td>\n",
       "      <td>&lt;NA&gt;</td>\n",
       "      <td>&lt;NA&gt;</td>\n",
       "      <td>&lt;NA&gt;</td>\n",
       "      <td>&lt;NA&gt;</td>\n",
       "      <td>2020-04-03 16:24:47</td>\n",
       "      <td>&lt;NA&gt;</td>\n",
       "    </tr>\n",
       "    <tr>\n",
       "      <th>19</th>\n",
       "      <td>fkn</td>\n",
       "      <td>1978992000</td>\n",
       "      <td>&lt;NA&gt;</td>\n",
       "      <td>&lt;NA&gt;</td>\n",
       "      <td>&lt;NA&gt;</td>\n",
       "      <td>&lt;NA&gt;</td>\n",
       "      <td>&lt;NA&gt;</td>\n",
       "      <td>&lt;NA&gt;</td>\n",
       "      <td>2020-03-21 23:10:07</td>\n",
       "      <td>&lt;NA&gt;</td>\n",
       "    </tr>\n",
       "    <tr>\n",
       "      <th>20</th>\n",
       "      <td>vam</td>\n",
       "      <td>1499931136</td>\n",
       "      <td>0</td>\n",
       "      <td>&lt;NA&gt;</td>\n",
       "      <td>0</td>\n",
       "      <td>&lt;NA&gt;</td>\n",
       "      <td>0</td>\n",
       "      <td>&lt;NA&gt;</td>\n",
       "      <td>2020-03-20 05:03:20</td>\n",
       "      <td>&lt;NA&gt;</td>\n",
       "    </tr>\n",
       "    <tr>\n",
       "      <th>21</th>\n",
       "      <td>vam</td>\n",
       "      <td>1499931136</td>\n",
       "      <td>1222</td>\n",
       "      <td>&lt;NA&gt;</td>\n",
       "      <td>0</td>\n",
       "      <td>&lt;NA&gt;</td>\n",
       "      <td>1</td>\n",
       "      <td>&lt;NA&gt;</td>\n",
       "      <td>2020-03-15 14:54:04</td>\n",
       "      <td>&lt;NA&gt;</td>\n",
       "    </tr>\n",
       "    <tr>\n",
       "      <th>22</th>\n",
       "      <td>hfq</td>\n",
       "      <td>2513067520</td>\n",
       "      <td>&lt;NA&gt;</td>\n",
       "      <td>&lt;NA&gt;</td>\n",
       "      <td>&lt;NA&gt;</td>\n",
       "      <td>&lt;NA&gt;</td>\n",
       "      <td>0</td>\n",
       "      <td>1</td>\n",
       "      <td>2020-04-20 16:38:54</td>\n",
       "      <td>@lucciola013 まだいけるよ？（笑）</td>\n",
       "    </tr>\n",
       "    <tr>\n",
       "      <th>23</th>\n",
       "      <td>hfq</td>\n",
       "      <td>2513067520</td>\n",
       "      <td>&lt;NA&gt;</td>\n",
       "      <td>&lt;NA&gt;</td>\n",
       "      <td>&lt;NA&gt;</td>\n",
       "      <td>&lt;NA&gt;</td>\n",
       "      <td>0</td>\n",
       "      <td>0</td>\n",
       "      <td>2020-04-16 07:18:25</td>\n",
       "      <td>雨雲接近 http://t.co/y258zNmYZ7</td>\n",
       "    </tr>\n",
       "    <tr>\n",
       "      <th>24</th>\n",
       "      <td>tgg</td>\n",
       "      <td>576226496</td>\n",
       "      <td>0</td>\n",
       "      <td>0</td>\n",
       "      <td>&lt;NA&gt;</td>\n",
       "      <td>&lt;NA&gt;</td>\n",
       "      <td>&lt;NA&gt;</td>\n",
       "      <td>&lt;NA&gt;</td>\n",
       "      <td>2018-12-14 08:19:54</td>\n",
       "      <td>&lt;NA&gt;</td>\n",
       "    </tr>\n",
       "    <tr>\n",
       "      <th>25</th>\n",
       "      <td>tgg</td>\n",
       "      <td>576226496</td>\n",
       "      <td>0</td>\n",
       "      <td>0</td>\n",
       "      <td>&lt;NA&gt;</td>\n",
       "      <td>&lt;NA&gt;</td>\n",
       "      <td>&lt;NA&gt;</td>\n",
       "      <td>&lt;NA&gt;</td>\n",
       "      <td>2018-11-28 13:28:02</td>\n",
       "      <td>&lt;NA&gt;</td>\n",
       "    </tr>\n",
       "    <tr>\n",
       "      <th>26</th>\n",
       "      <td>kws</td>\n",
       "      <td>531236288</td>\n",
       "      <td>0</td>\n",
       "      <td>0</td>\n",
       "      <td>&lt;NA&gt;</td>\n",
       "      <td>&lt;NA&gt;</td>\n",
       "      <td>&lt;NA&gt;</td>\n",
       "      <td>&lt;NA&gt;</td>\n",
       "      <td>2019-10-25 00:52:55</td>\n",
       "      <td>&lt;NA&gt;</td>\n",
       "    </tr>\n",
       "    <tr>\n",
       "      <th>27</th>\n",
       "      <td>kws</td>\n",
       "      <td>531236288</td>\n",
       "      <td>&lt;NA&gt;</td>\n",
       "      <td>0</td>\n",
       "      <td>&lt;NA&gt;</td>\n",
       "      <td>&lt;NA&gt;</td>\n",
       "      <td>&lt;NA&gt;</td>\n",
       "      <td>&lt;NA&gt;</td>\n",
       "      <td>2019-11-08 14:53:10</td>\n",
       "      <td>&lt;NA&gt;</td>\n",
       "    </tr>\n",
       "    <tr>\n",
       "      <th>28</th>\n",
       "      <td>gaj</td>\n",
       "      <td>251905552</td>\n",
       "      <td>&lt;NA&gt;</td>\n",
       "      <td>&lt;NA&gt;</td>\n",
       "      <td>&lt;NA&gt;</td>\n",
       "      <td>&lt;NA&gt;</td>\n",
       "      <td>&lt;NA&gt;</td>\n",
       "      <td>&lt;NA&gt;</td>\n",
       "      <td>2020-04-04 23:35:19</td>\n",
       "      <td>&lt;NA&gt;</td>\n",
       "    </tr>\n",
       "    <tr>\n",
       "      <th>29</th>\n",
       "      <td>gaj</td>\n",
       "      <td>251905552</td>\n",
       "      <td>&lt;NA&gt;</td>\n",
       "      <td>&lt;NA&gt;</td>\n",
       "      <td>&lt;NA&gt;</td>\n",
       "      <td>&lt;NA&gt;</td>\n",
       "      <td>&lt;NA&gt;</td>\n",
       "      <td>&lt;NA&gt;</td>\n",
       "      <td>2020-04-25 17:51:35</td>\n",
       "      <td>&lt;NA&gt;</td>\n",
       "    </tr>\n",
       "  </tbody>\n",
       "</table>\n",
       "</div>"
      ],
      "text/plain": [
       "      id     user_id  retweet_count  reply_count  favorite_count  \\\n",
       "0    blm    23571734              0            0            <NA>   \n",
       "1    blm    23571734              0         <NA>            <NA>   \n",
       "2    cvs    48008292           <NA>         <NA>            <NA>   \n",
       "3    cvs    48008292           <NA>         <NA>            <NA>   \n",
       "4   vada   331806624              0         <NA>            <NA>   \n",
       "5   vada   331806624           <NA>         <NA>            <NA>   \n",
       "6    ptb   467116832           <NA>            0               0   \n",
       "7    ptb   467116832              0            0               0   \n",
       "8    efh  1573156608           <NA>         <NA>            <NA>   \n",
       "9    efh  1573156608              0         <NA>            <NA>   \n",
       "10   oby   114910552           <NA>         <NA>            <NA>   \n",
       "11   oby   114910552           <NA>         <NA>            <NA>   \n",
       "12   yfj  2445641728           <NA>         <NA>            <NA>   \n",
       "13   yfj  2445641728           <NA>         <NA>            <NA>   \n",
       "14   djq    70142272           <NA>         <NA>            <NA>   \n",
       "15   djq    70142272           <NA>         <NA>            <NA>   \n",
       "16   gnn    24295752           <NA>         <NA>            <NA>   \n",
       "17   gnn    24295752           <NA>         <NA>            <NA>   \n",
       "18   fkn  1978992000           <NA>         <NA>            <NA>   \n",
       "19   fkn  1978992000           <NA>         <NA>            <NA>   \n",
       "20   vam  1499931136              0         <NA>               0   \n",
       "21   vam  1499931136           1222         <NA>               0   \n",
       "22   hfq  2513067520           <NA>         <NA>            <NA>   \n",
       "23   hfq  2513067520           <NA>         <NA>            <NA>   \n",
       "24   tgg   576226496              0            0            <NA>   \n",
       "25   tgg   576226496              0            0            <NA>   \n",
       "26   kws   531236288              0            0            <NA>   \n",
       "27   kws   531236288           <NA>            0            <NA>   \n",
       "28   gaj   251905552           <NA>         <NA>            <NA>   \n",
       "29   gaj   251905552           <NA>         <NA>            <NA>   \n",
       "\n",
       "    num_hashtags  num_urls  num_mentions          created_at  \\\n",
       "0           <NA>      <NA>          <NA> 2020-01-24 05:01:28   \n",
       "1           <NA>      <NA>          <NA> 2020-01-24 05:02:46   \n",
       "2           <NA>         0             1 2020-04-13 05:58:51   \n",
       "3           <NA>         0             0 2020-04-28 21:46:06   \n",
       "4           <NA>      <NA>          <NA> 2019-10-18 12:45:40   \n",
       "5           <NA>      <NA>          <NA> 2019-10-16 23:49:32   \n",
       "6           <NA>      <NA>          <NA> 2019-10-15 21:01:24   \n",
       "7           <NA>      <NA>          <NA> 2019-06-17 09:34:56   \n",
       "8           <NA>      <NA>          <NA> 2020-03-12 02:12:50   \n",
       "9           <NA>      <NA>          <NA> 2020-03-07 04:35:15   \n",
       "10          <NA>      <NA>          <NA> 2020-04-06 21:33:27   \n",
       "11          <NA>      <NA>          <NA> 2020-03-15 03:51:40   \n",
       "12          <NA>      <NA>          <NA> 2019-06-25 14:00:15   \n",
       "13          <NA>      <NA>          <NA> 2019-04-29 23:52:04   \n",
       "14          <NA>         0          <NA> 2019-06-27 13:38:06   \n",
       "15          <NA>         0          <NA> 2020-04-23 12:43:47   \n",
       "16          <NA>      <NA>          <NA> 2020-03-14 00:09:55   \n",
       "17          <NA>      <NA>          <NA> 2020-03-15 15:12:05   \n",
       "18          <NA>      <NA>          <NA> 2020-04-03 16:24:47   \n",
       "19          <NA>      <NA>          <NA> 2020-03-21 23:10:07   \n",
       "20          <NA>         0          <NA> 2020-03-20 05:03:20   \n",
       "21          <NA>         1          <NA> 2020-03-15 14:54:04   \n",
       "22          <NA>         0             1 2020-04-20 16:38:54   \n",
       "23          <NA>         0             0 2020-04-16 07:18:25   \n",
       "24          <NA>      <NA>          <NA> 2018-12-14 08:19:54   \n",
       "25          <NA>      <NA>          <NA> 2018-11-28 13:28:02   \n",
       "26          <NA>      <NA>          <NA> 2019-10-25 00:52:55   \n",
       "27          <NA>      <NA>          <NA> 2019-11-08 14:53:10   \n",
       "28          <NA>      <NA>          <NA> 2020-04-04 23:35:19   \n",
       "29          <NA>      <NA>          <NA> 2020-04-25 17:51:35   \n",
       "\n",
       "                                                 text  \n",
       "0   @EricCrampton probably the people working on m...  \n",
       "1   @merxplat definitely vital: surprisingly hard ...  \n",
       "2             @realbowiemekko Are you feeling better?  \n",
       "3   Hoping windbag doesn't make a patronizing stat...  \n",
       "4                                                <NA>  \n",
       "5                                                <NA>  \n",
       "6                                                <NA>  \n",
       "7                                                <NA>  \n",
       "8                                                <NA>  \n",
       "9                                                <NA>  \n",
       "10                                               <NA>  \n",
       "11                                               <NA>  \n",
       "12                                               <NA>  \n",
       "13                                               <NA>  \n",
       "14                                               <NA>  \n",
       "15                                               <NA>  \n",
       "16                                               <NA>  \n",
       "17                                               <NA>  \n",
       "18                                               <NA>  \n",
       "19                                               <NA>  \n",
       "20                                               <NA>  \n",
       "21                                               <NA>  \n",
       "22                            @lucciola013 まだいけるよ？（笑）  \n",
       "23                        雨雲接近 http://t.co/y258zNmYZ7  \n",
       "24                                               <NA>  \n",
       "25                                               <NA>  \n",
       "26                                               <NA>  \n",
       "27                                               <NA>  \n",
       "28                                               <NA>  \n",
       "29                                               <NA>  "
      ]
     },
     "execution_count": 119,
     "metadata": {},
     "output_type": "execute_result"
    }
   ],
   "source": [
    "df_tweets_merge"
   ]
  },
  {
   "cell_type": "markdown",
   "metadata": {},
   "source": [
    "We now see the heatmap of user and tweets without duplicates:"
   ]
  },
  {
   "cell_type": "code",
   "execution_count": 40,
   "metadata": {},
   "outputs": [
    {
     "data": {
      "image/png": "[encoded data removed]",
      "text/plain": [
       "<Figure size 1200x500 with 1 Axes>"
      ]
     },
     "metadata": {},
     "output_type": "display_data"
    }
   ],
   "source": [
    "fig, ax = plt.subplots(figsize=(12,5)) \n",
    "sn.heatmap(df_users.isnull(), cbar=False, xticklabels=True, ax=ax, yticklabels=False)\n",
    "plt.show()"
   ]
  },
  {
   "cell_type": "code",
   "execution_count": 41,
   "metadata": {},
   "outputs": [
    {
     "ename": "ValueError",
     "evalue": "zero-size array to reduction operation fmin which has no identity",
     "output_type": "error",
     "traceback": [
      "\u001b[1;31m---------------------------------------------------------------------------\u001b[0m",
      "\u001b[1;31mValueError\u001b[0m                                Traceback (most recent call last)",
      "\u001b[1;32m~\\AppData\\Local\\Temp\\ipykernel_17388\\3180393391.py\u001b[0m in \u001b[0;36m<module>\u001b[1;34m\u001b[0m\n\u001b[0;32m      1\u001b[0m \u001b[0mfig\u001b[0m\u001b[1;33m,\u001b[0m \u001b[0max\u001b[0m \u001b[1;33m=\u001b[0m \u001b[0mplt\u001b[0m\u001b[1;33m.\u001b[0m\u001b[0msubplots\u001b[0m\u001b[1;33m(\u001b[0m\u001b[0mfigsize\u001b[0m\u001b[1;33m=\u001b[0m\u001b[1;33m(\u001b[0m\u001b[1;36m12\u001b[0m\u001b[1;33m,\u001b[0m\u001b[1;36m5\u001b[0m\u001b[1;33m)\u001b[0m\u001b[1;33m)\u001b[0m\u001b[1;33m\u001b[0m\u001b[1;33m\u001b[0m\u001b[0m\n\u001b[1;32m----> 2\u001b[1;33m \u001b[0msn\u001b[0m\u001b[1;33m.\u001b[0m\u001b[0mheatmap\u001b[0m\u001b[1;33m(\u001b[0m\u001b[0mdf_tweets_sample\u001b[0m\u001b[1;33m.\u001b[0m\u001b[0misnull\u001b[0m\u001b[1;33m(\u001b[0m\u001b[1;33m)\u001b[0m\u001b[1;33m,\u001b[0m \u001b[0mcbar\u001b[0m\u001b[1;33m=\u001b[0m\u001b[1;32mFalse\u001b[0m\u001b[1;33m,\u001b[0m \u001b[0mxticklabels\u001b[0m\u001b[1;33m=\u001b[0m\u001b[1;32mTrue\u001b[0m\u001b[1;33m,\u001b[0m \u001b[0max\u001b[0m\u001b[1;33m=\u001b[0m\u001b[0max\u001b[0m\u001b[1;33m,\u001b[0m \u001b[0myticklabels\u001b[0m\u001b[1;33m=\u001b[0m\u001b[1;32mFalse\u001b[0m\u001b[1;33m)\u001b[0m\u001b[1;33m\u001b[0m\u001b[1;33m\u001b[0m\u001b[0m\n\u001b[0m\u001b[0;32m      3\u001b[0m \u001b[0mplt\u001b[0m\u001b[1;33m.\u001b[0m\u001b[0mshow\u001b[0m\u001b[1;33m(\u001b[0m\u001b[1;33m)\u001b[0m\u001b[1;33m\u001b[0m\u001b[1;33m\u001b[0m\u001b[0m\n",
      "\u001b[1;32mc:\\Users\\alber\\anaconda3\\envs\\dataMiningEnv\\lib\\site-packages\\seaborn\\_decorators.py\u001b[0m in \u001b[0;36minner_f\u001b[1;34m(*args, **kwargs)\u001b[0m\n\u001b[0;32m     44\u001b[0m             )\n\u001b[0;32m     45\u001b[0m         \u001b[0mkwargs\u001b[0m\u001b[1;33m.\u001b[0m\u001b[0mupdate\u001b[0m\u001b[1;33m(\u001b[0m\u001b[1;33m{\u001b[0m\u001b[0mk\u001b[0m\u001b[1;33m:\u001b[0m \u001b[0marg\u001b[0m \u001b[1;32mfor\u001b[0m \u001b[0mk\u001b[0m\u001b[1;33m,\u001b[0m \u001b[0marg\u001b[0m \u001b[1;32min\u001b[0m \u001b[0mzip\u001b[0m\u001b[1;33m(\u001b[0m\u001b[0msig\u001b[0m\u001b[1;33m.\u001b[0m\u001b[0mparameters\u001b[0m\u001b[1;33m,\u001b[0m \u001b[0margs\u001b[0m\u001b[1;33m)\u001b[0m\u001b[1;33m}\u001b[0m\u001b[1;33m)\u001b[0m\u001b[1;33m\u001b[0m\u001b[1;33m\u001b[0m\u001b[0m\n\u001b[1;32m---> 46\u001b[1;33m         \u001b[1;32mreturn\u001b[0m \u001b[0mf\u001b[0m\u001b[1;33m(\u001b[0m\u001b[1;33m**\u001b[0m\u001b[0mkwargs\u001b[0m\u001b[1;33m)\u001b[0m\u001b[1;33m\u001b[0m\u001b[1;33m\u001b[0m\u001b[0m\n\u001b[0m\u001b[0;32m     47\u001b[0m     \u001b[1;32mreturn\u001b[0m \u001b[0minner_f\u001b[0m\u001b[1;33m\u001b[0m\u001b[1;33m\u001b[0m\u001b[0m\n\u001b[0;32m     48\u001b[0m \u001b[1;33m\u001b[0m\u001b[0m\n",
      "\u001b[1;32mc:\\Users\\alber\\anaconda3\\envs\\dataMiningEnv\\lib\\site-packages\\seaborn\\matrix.py\u001b[0m in \u001b[0;36mheatmap\u001b[1;34m(data, vmin, vmax, cmap, center, robust, annot, fmt, annot_kws, linewidths, linecolor, cbar, cbar_kws, cbar_ax, square, xticklabels, yticklabels, mask, ax, **kwargs)\u001b[0m\n\u001b[0;32m    540\u001b[0m     plotter = _HeatMapper(data, vmin, vmax, cmap, center, robust, annot, fmt,\n\u001b[0;32m    541\u001b[0m                           \u001b[0mannot_kws\u001b[0m\u001b[1;33m,\u001b[0m \u001b[0mcbar\u001b[0m\u001b[1;33m,\u001b[0m \u001b[0mcbar_kws\u001b[0m\u001b[1;33m,\u001b[0m \u001b[0mxticklabels\u001b[0m\u001b[1;33m,\u001b[0m\u001b[1;33m\u001b[0m\u001b[1;33m\u001b[0m\u001b[0m\n\u001b[1;32m--> 542\u001b[1;33m                           yticklabels, mask)\n\u001b[0m\u001b[0;32m    543\u001b[0m \u001b[1;33m\u001b[0m\u001b[0m\n\u001b[0;32m    544\u001b[0m     \u001b[1;31m# Add the pcolormesh kwargs here\u001b[0m\u001b[1;33m\u001b[0m\u001b[1;33m\u001b[0m\u001b[1;33m\u001b[0m\u001b[0m\n",
      "\u001b[1;32mc:\\Users\\alber\\anaconda3\\envs\\dataMiningEnv\\lib\\site-packages\\seaborn\\matrix.py\u001b[0m in \u001b[0;36m__init__\u001b[1;34m(self, data, vmin, vmax, cmap, center, robust, annot, fmt, annot_kws, cbar, cbar_kws, xticklabels, yticklabels, mask)\u001b[0m\n\u001b[0;32m    158\u001b[0m         \u001b[1;31m# Determine good default values for the colormapping\u001b[0m\u001b[1;33m\u001b[0m\u001b[1;33m\u001b[0m\u001b[1;33m\u001b[0m\u001b[0m\n\u001b[0;32m    159\u001b[0m         self._determine_cmap_params(plot_data, vmin, vmax,\n\u001b[1;32m--> 160\u001b[1;33m                                     cmap, center, robust)\n\u001b[0m\u001b[0;32m    161\u001b[0m \u001b[1;33m\u001b[0m\u001b[0m\n\u001b[0;32m    162\u001b[0m         \u001b[1;31m# Sort out the annotations\u001b[0m\u001b[1;33m\u001b[0m\u001b[1;33m\u001b[0m\u001b[1;33m\u001b[0m\u001b[0m\n",
      "\u001b[1;32mc:\\Users\\alber\\anaconda3\\envs\\dataMiningEnv\\lib\\site-packages\\seaborn\\matrix.py\u001b[0m in \u001b[0;36m_determine_cmap_params\u001b[1;34m(self, plot_data, vmin, vmax, cmap, center, robust)\u001b[0m\n\u001b[0;32m    196\u001b[0m                 \u001b[0mvmin\u001b[0m \u001b[1;33m=\u001b[0m \u001b[0mnp\u001b[0m\u001b[1;33m.\u001b[0m\u001b[0mnanpercentile\u001b[0m\u001b[1;33m(\u001b[0m\u001b[0mcalc_data\u001b[0m\u001b[1;33m,\u001b[0m \u001b[1;36m2\u001b[0m\u001b[1;33m)\u001b[0m\u001b[1;33m\u001b[0m\u001b[1;33m\u001b[0m\u001b[0m\n\u001b[0;32m    197\u001b[0m             \u001b[1;32melse\u001b[0m\u001b[1;33m:\u001b[0m\u001b[1;33m\u001b[0m\u001b[1;33m\u001b[0m\u001b[0m\n\u001b[1;32m--> 198\u001b[1;33m                 \u001b[0mvmin\u001b[0m \u001b[1;33m=\u001b[0m \u001b[0mnp\u001b[0m\u001b[1;33m.\u001b[0m\u001b[0mnanmin\u001b[0m\u001b[1;33m(\u001b[0m\u001b[0mcalc_data\u001b[0m\u001b[1;33m)\u001b[0m\u001b[1;33m\u001b[0m\u001b[1;33m\u001b[0m\u001b[0m\n\u001b[0m\u001b[0;32m    199\u001b[0m         \u001b[1;32mif\u001b[0m \u001b[0mvmax\u001b[0m \u001b[1;32mis\u001b[0m \u001b[1;32mNone\u001b[0m\u001b[1;33m:\u001b[0m\u001b[1;33m\u001b[0m\u001b[1;33m\u001b[0m\u001b[0m\n\u001b[0;32m    200\u001b[0m             \u001b[1;32mif\u001b[0m \u001b[0mrobust\u001b[0m\u001b[1;33m:\u001b[0m\u001b[1;33m\u001b[0m\u001b[1;33m\u001b[0m\u001b[0m\n",
      "\u001b[1;32m<__array_function__ internals>\u001b[0m in \u001b[0;36mnanmin\u001b[1;34m(*args, **kwargs)\u001b[0m\n",
      "\u001b[1;32mc:\\Users\\alber\\anaconda3\\envs\\dataMiningEnv\\lib\\site-packages\\numpy\\lib\\nanfunctions.py\u001b[0m in \u001b[0;36mnanmin\u001b[1;34m(a, axis, out, keepdims)\u001b[0m\n\u001b[0;32m    317\u001b[0m         \u001b[1;31m# Fast, but not safe for subclasses of ndarray, or object arrays,\u001b[0m\u001b[1;33m\u001b[0m\u001b[1;33m\u001b[0m\u001b[1;33m\u001b[0m\u001b[0m\n\u001b[0;32m    318\u001b[0m         \u001b[1;31m# which do not implement isnan (gh-9009), or fmin correctly (gh-8975)\u001b[0m\u001b[1;33m\u001b[0m\u001b[1;33m\u001b[0m\u001b[1;33m\u001b[0m\u001b[0m\n\u001b[1;32m--> 319\u001b[1;33m         \u001b[0mres\u001b[0m \u001b[1;33m=\u001b[0m \u001b[0mnp\u001b[0m\u001b[1;33m.\u001b[0m\u001b[0mfmin\u001b[0m\u001b[1;33m.\u001b[0m\u001b[0mreduce\u001b[0m\u001b[1;33m(\u001b[0m\u001b[0ma\u001b[0m\u001b[1;33m,\u001b[0m \u001b[0maxis\u001b[0m\u001b[1;33m=\u001b[0m\u001b[0maxis\u001b[0m\u001b[1;33m,\u001b[0m \u001b[0mout\u001b[0m\u001b[1;33m=\u001b[0m\u001b[0mout\u001b[0m\u001b[1;33m,\u001b[0m \u001b[1;33m**\u001b[0m\u001b[0mkwargs\u001b[0m\u001b[1;33m)\u001b[0m\u001b[1;33m\u001b[0m\u001b[1;33m\u001b[0m\u001b[0m\n\u001b[0m\u001b[0;32m    320\u001b[0m         \u001b[1;32mif\u001b[0m \u001b[0mnp\u001b[0m\u001b[1;33m.\u001b[0m\u001b[0misnan\u001b[0m\u001b[1;33m(\u001b[0m\u001b[0mres\u001b[0m\u001b[1;33m)\u001b[0m\u001b[1;33m.\u001b[0m\u001b[0many\u001b[0m\u001b[1;33m(\u001b[0m\u001b[1;33m)\u001b[0m\u001b[1;33m:\u001b[0m\u001b[1;33m\u001b[0m\u001b[1;33m\u001b[0m\u001b[0m\n\u001b[0;32m    321\u001b[0m             warnings.warn(\"All-NaN slice encountered\", RuntimeWarning,\n",
      "\u001b[1;31mValueError\u001b[0m: zero-size array to reduction operation fmin which has no identity"
     ]
    },
    {
     "data": {
      "image/png": "[encoded data removed]",
      "text/plain": [
       "<Figure size 1200x500 with 1 Axes>"
      ]
     },
     "metadata": {},
     "output_type": "display_data"
    }
   ],
   "source": [
    "fig, ax = plt.subplots(figsize=(12,5)) \n",
    "sn.heatmap(df_tweets_sample.isnull(), cbar=False, xticklabels=True, ax=ax, yticklabels=False)\n",
    "plt.show()"
   ]
  },
  {
   "cell_type": "code",
   "execution_count": 78,
   "metadata": {},
   "outputs": [
    {
     "name": "stdout",
     "output_type": "stream",
     "text": [
      "<class 'pandas.core.frame.DataFrame'>\n",
      "Int64Index: 11508 entries, 0 to 11507\n",
      "Data columns (total 5 columns):\n",
      " #   Column          Non-Null Count  Dtype         \n",
      "---  ------          --------------  -----         \n",
      " 0   id              11508 non-null  int64         \n",
      " 1   lang            11508 non-null  object        \n",
      " 2   bot             11508 non-null  bool          \n",
      " 3   created_at      11508 non-null  datetime64[ns]\n",
      " 4   statuses_count  11109 non-null  Int64         \n",
      "dtypes: Int64(1), bool(1), datetime64[ns](1), int64(1), object(1)\n",
      "memory usage: 472.0+ KB\n"
     ]
    }
   ],
   "source": [
    "df_users.info()"
   ]
  },
  {
   "cell_type": "code",
   "execution_count": 120,
   "metadata": {},
   "outputs": [
    {
     "name": "stdout",
     "output_type": "stream",
     "text": [
      "<class 'pandas.core.frame.DataFrame'>\n",
      "Index: 13230783 entries, 509354017856950272 to 486479812614451200\n",
      "Data columns (total 9 columns):\n",
      " #   Column          Dtype         \n",
      "---  ------          -----         \n",
      " 0   user_id         Int64         \n",
      " 1   retweet_count   Int64         \n",
      " 2   reply_count     Int64         \n",
      " 3   favorite_count  Int64         \n",
      " 4   num_hashtags    Int64         \n",
      " 5   num_urls        Int64         \n",
      " 6   num_mentions    Int64         \n",
      " 7   created_at      datetime64[ns]\n",
      " 8   text            string        \n",
      "dtypes: Int64(7), datetime64[ns](1), string(1)\n",
      "memory usage: 1.1+ GB\n"
     ]
    }
   ],
   "source": [
    "df_tweets_sample.info()"
   ]
  },
  {
   "cell_type": "markdown",
   "metadata": {},
   "source": [
    "## Manage NaN before joining tables"
   ]
  },
  {
   "cell_type": "markdown",
   "metadata": {},
   "source": [
    "Better do before join in order to work only on Users Dataframe which is significantly smaller"
   ]
  },
  {
   "cell_type": "markdown",
   "metadata": {},
   "source": [
    "As statuses_count in df_users contains only tweet count and not replies, while df_tweets contains also replies, we cannot estimate NaN statuses_count with the number of the users tweets, so we fill those NaNs with median of bot and median of not-bot users"
   ]
  },
  {
   "cell_type": "code",
   "execution_count": 336,
   "metadata": {},
   "outputs": [],
   "source": [
    "def subsititute_with_median_user(row, bot_median, not_bot_median):\n",
    "    if pd.isnull(row.statuses_count):\n",
    "        if row['bot'] == True:\n",
    "            row.statuses_count = bot_median\n",
    "        else:\n",
    "            row.statuses_count = not_bot_median\n",
    "    return row"
   ]
  },
  {
   "cell_type": "code",
   "execution_count": 337,
   "metadata": {},
   "outputs": [
    {
     "name": "stdout",
     "output_type": "stream",
     "text": [
      "<class 'pandas.core.frame.DataFrame'>\n",
      "Int64Index: 11508 entries, 2353593986 to 933183398\n",
      "Data columns (total 4 columns):\n",
      " #   Column          Non-Null Count  Dtype  \n",
      "---  ------          --------------  -----  \n",
      " 0   lang            11508 non-null  string \n",
      " 1   bot             11508 non-null  int64  \n",
      " 2   created_at      11508 non-null  object \n",
      " 3   statuses_count  11109 non-null  float64\n",
      "dtypes: float64(1), int64(1), object(1), string(1)\n",
      "memory usage: 449.5+ KB\n"
     ]
    }
   ],
   "source": [
    "df_users.info()"
   ]
  },
  {
   "cell_type": "code",
   "execution_count": 338,
   "metadata": {},
   "outputs": [
    {
     "ename": "AttributeError",
     "evalue": "'float' object has no attribute 'astype'",
     "output_type": "error",
     "traceback": [
      "\u001b[1;31m---------------------------------------------------------------------------\u001b[0m",
      "\u001b[1;31mAttributeError\u001b[0m                            Traceback (most recent call last)",
      "\u001b[1;32m<ipython-input-338-9cc483d168db>\u001b[0m in \u001b[0;36m<module>\u001b[1;34m\u001b[0m\n\u001b[0;32m      1\u001b[0m \u001b[1;31m# statuses_count median for bot and not-bot users\u001b[0m\u001b[1;33m\u001b[0m\u001b[1;33m\u001b[0m\u001b[1;33m\u001b[0m\u001b[0m\n\u001b[1;32m----> 2\u001b[1;33m \u001b[0mbot_median\u001b[0m \u001b[1;33m=\u001b[0m \u001b[0mdf_users\u001b[0m\u001b[1;33m.\u001b[0m\u001b[0mloc\u001b[0m\u001b[1;33m[\u001b[0m\u001b[0mdf_users\u001b[0m\u001b[1;33m[\u001b[0m\u001b[1;34m'bot'\u001b[0m\u001b[1;33m]\u001b[0m \u001b[1;33m==\u001b[0m \u001b[1;32mTrue\u001b[0m\u001b[1;33m]\u001b[0m\u001b[1;33m.\u001b[0m\u001b[0mstatuses_count\u001b[0m\u001b[1;33m.\u001b[0m\u001b[0mmedian\u001b[0m\u001b[1;33m(\u001b[0m\u001b[1;33m)\u001b[0m\u001b[1;33m.\u001b[0m\u001b[0mastype\u001b[0m\u001b[1;33m(\u001b[0m\u001b[0mnp\u001b[0m\u001b[1;33m.\u001b[0m\u001b[0mint64\u001b[0m\u001b[1;33m)\u001b[0m\u001b[1;33m\u001b[0m\u001b[1;33m\u001b[0m\u001b[0m\n\u001b[0m\u001b[0;32m      3\u001b[0m \u001b[0mnot_bot_median\u001b[0m \u001b[1;33m=\u001b[0m \u001b[0mdf_users\u001b[0m\u001b[1;33m.\u001b[0m\u001b[0mloc\u001b[0m\u001b[1;33m[\u001b[0m\u001b[0mdf_users\u001b[0m\u001b[1;33m[\u001b[0m\u001b[1;34m'bot'\u001b[0m\u001b[1;33m]\u001b[0m \u001b[1;33m==\u001b[0m \u001b[1;32mFalse\u001b[0m\u001b[1;33m]\u001b[0m\u001b[1;33m.\u001b[0m\u001b[0mstatuses_count\u001b[0m\u001b[1;33m.\u001b[0m\u001b[0mmedian\u001b[0m\u001b[1;33m(\u001b[0m\u001b[1;33m)\u001b[0m\u001b[1;33m.\u001b[0m\u001b[0mastype\u001b[0m\u001b[1;33m(\u001b[0m\u001b[0mnp\u001b[0m\u001b[1;33m.\u001b[0m\u001b[0mint64\u001b[0m\u001b[1;33m)\u001b[0m\u001b[1;33m\u001b[0m\u001b[1;33m\u001b[0m\u001b[0m\n\u001b[0;32m      4\u001b[0m \u001b[0mprint\u001b[0m\u001b[1;33m(\u001b[0m\u001b[1;34m'bot median statuses_count:'\u001b[0m\u001b[1;33m,\u001b[0m \u001b[0mbot_median\u001b[0m\u001b[1;33m)\u001b[0m\u001b[1;33m\u001b[0m\u001b[1;33m\u001b[0m\u001b[0m\n\u001b[0;32m      5\u001b[0m \u001b[0mprint\u001b[0m\u001b[1;33m(\u001b[0m\u001b[1;34m'not bot median statuses_count:'\u001b[0m\u001b[1;33m,\u001b[0m \u001b[0mnot_bot_median\u001b[0m\u001b[1;33m)\u001b[0m\u001b[1;33m\u001b[0m\u001b[1;33m\u001b[0m\u001b[0m\n",
      "\u001b[1;31mAttributeError\u001b[0m: 'float' object has no attribute 'astype'"
     ]
    }
   ],
   "source": [
    "# statuses_count median for bot and not-bot users\n",
    "bot_median = df_users.loc[df_users['bot'] == True].statuses_count.median().astype(np.int64)\n",
    "not_bot_median = df_users.loc[df_users['bot'] == False].statuses_count.median().astype(np.int64)\n",
    "print('bot median statuses_count:', bot_median)\n",
    "print('not bot median statuses_count:', not_bot_median)\n",
    "\n",
    "# Apply substitution\n",
    "df_users = df_users.apply(func=subsititute_with_median_user, axis=1, args=(bot_median, not_bot_median))"
   ]
  },
  {
   "cell_type": "code",
   "execution_count": null,
   "metadata": {},
   "outputs": [
    {
     "name": "stdout",
     "output_type": "stream",
     "text": [
      "<class 'pandas.core.frame.DataFrame'>\n",
      "Int64Index: 11508 entries, 2353593986 to 933183398\n",
      "Data columns (total 4 columns):\n",
      " #   Column          Non-Null Count  Dtype         \n",
      "---  ------          --------------  -----         \n",
      " 0   lang            11508 non-null  object        \n",
      " 1   bot             11508 non-null  bool          \n",
      " 2   created_at      11508 non-null  datetime64[ns]\n",
      " 3   statuses_count  11508 non-null  int64         \n",
      "dtypes: bool(1), datetime64[ns](1), int64(1), object(1)\n",
      "memory usage: 628.9+ KB\n"
     ]
    }
   ],
   "source": [
    "df_users.info()"
   ]
  },
  {
   "cell_type": "markdown",
   "metadata": {},
   "source": [
    "## Joining tables\n",
    "Joining the tables to make sure we work only on the user into the user DB"
   ]
  },
  {
   "cell_type": "code",
   "execution_count": null,
   "metadata": {},
   "outputs": [
    {
     "name": "stdout",
     "output_type": "stream",
     "text": [
      "<class 'pandas.core.frame.DataFrame'>\n",
      "Index: 132272 entries, 528578456452612097 to 520574848935153664\n",
      "Data columns (total 9 columns):\n",
      " #   Column          Non-Null Count   Dtype         \n",
      "---  ------          --------------   -----         \n",
      " 0   user_id         132272 non-null  Int64         \n",
      " 1   retweet_count   127111 non-null  Int64         \n",
      " 2   reply_count     125657 non-null  Int64         \n",
      " 3   favorite_count  125727 non-null  Int64         \n",
      " 4   num_hashtags    123114 non-null  Int64         \n",
      " 5   num_urls        125691 non-null  Int64         \n",
      " 6   num_mentions    124373 non-null  Int64         \n",
      " 7   created_at      132272 non-null  datetime64[ns]\n",
      " 8   text            128058 non-null  string        \n",
      "dtypes: Int64(7), datetime64[ns](1), string(1)\n",
      "memory usage: 11.0+ MB\n"
     ]
    }
   ],
   "source": [
    "df_tweets_sample.info()"
   ]
  },
  {
   "cell_type": "code",
   "execution_count": null,
   "metadata": {},
   "outputs": [
    {
     "name": "stdout",
     "output_type": "stream",
     "text": [
      "<class 'pandas.core.frame.DataFrame'>\n",
      "RangeIndex: 11508 entries, 0 to 11507\n",
      "Data columns (total 5 columns):\n",
      " #   Column          Non-Null Count  Dtype         \n",
      "---  ------          --------------  -----         \n",
      " 0   id              11508 non-null  int64         \n",
      " 1   lang            11508 non-null  object        \n",
      " 2   bot             11508 non-null  bool          \n",
      " 3   created_at      11508 non-null  datetime64[ns]\n",
      " 4   statuses_count  11508 non-null  int64         \n",
      "dtypes: bool(1), datetime64[ns](1), int64(2), object(1)\n",
      "memory usage: 371.0+ KB\n"
     ]
    }
   ],
   "source": [
    "#Impostare index (id tweet) come colonna del df\n",
    "df_users_with_index = df_users.reset_index()\n",
    "df_users_with_index.info()"
   ]
  },
  {
   "cell_type": "code",
   "execution_count": null,
   "metadata": {},
   "outputs": [],
   "source": [
    "\n",
    "\n",
    "df_joined = df_tweets_sample.merge(df_users_with_index, left_on='user_id', right_on=\"id\", how='inner', suffixes=('_tweet', '_user'))"
   ]
  },
  {
   "cell_type": "code",
   "execution_count": null,
   "metadata": {},
   "outputs": [
    {
     "data": {
      "text/html": [
       "<div>\n",
       "<style scoped>\n",
       "    .dataframe tbody tr th:only-of-type {\n",
       "        vertical-align: middle;\n",
       "    }\n",
       "\n",
       "    .dataframe tbody tr th {\n",
       "        vertical-align: top;\n",
       "    }\n",
       "\n",
       "    .dataframe thead th {\n",
       "        text-align: right;\n",
       "    }\n",
       "</style>\n",
       "<table border=\"1\" class=\"dataframe\">\n",
       "  <thead>\n",
       "    <tr style=\"text-align: right;\">\n",
       "      <th></th>\n",
       "      <th>user_id</th>\n",
       "      <th>retweet_count</th>\n",
       "      <th>reply_count</th>\n",
       "      <th>favorite_count</th>\n",
       "      <th>num_hashtags</th>\n",
       "      <th>num_urls</th>\n",
       "      <th>num_mentions</th>\n",
       "      <th>created_at_tweet</th>\n",
       "      <th>text</th>\n",
       "      <th>id</th>\n",
       "      <th>lang</th>\n",
       "      <th>bot</th>\n",
       "      <th>created_at_user</th>\n",
       "      <th>statuses_count</th>\n",
       "    </tr>\n",
       "  </thead>\n",
       "  <tbody>\n",
       "    <tr>\n",
       "      <th>0</th>\n",
       "      <td>30759478</td>\n",
       "      <td>1</td>\n",
       "      <td>0</td>\n",
       "      <td>&lt;NA&gt;</td>\n",
       "      <td>0</td>\n",
       "      <td>0</td>\n",
       "      <td>&lt;NA&gt;</td>\n",
       "      <td>2020-04-22 20:32:39</td>\n",
       "      <td>true michelle rodriguez made a good point that...</td>\n",
       "      <td>30759478</td>\n",
       "      <td>en</td>\n",
       "      <td>False</td>\n",
       "      <td>2014-04-15 00:26:15</td>\n",
       "      <td>69057</td>\n",
       "    </tr>\n",
       "    <tr>\n",
       "      <th>1</th>\n",
       "      <td>30759478</td>\n",
       "      <td>0</td>\n",
       "      <td>0</td>\n",
       "      <td>0</td>\n",
       "      <td>0</td>\n",
       "      <td>0</td>\n",
       "      <td>0</td>\n",
       "      <td>2020-04-26 04:12:24</td>\n",
       "      <td>you know what i miss having in my room? my des...</td>\n",
       "      <td>30759478</td>\n",
       "      <td>en</td>\n",
       "      <td>False</td>\n",
       "      <td>2014-04-15 00:26:15</td>\n",
       "      <td>69057</td>\n",
       "    </tr>\n",
       "    <tr>\n",
       "      <th>2</th>\n",
       "      <td>30759478</td>\n",
       "      <td>0</td>\n",
       "      <td>0</td>\n",
       "      <td>1</td>\n",
       "      <td>0</td>\n",
       "      <td>0</td>\n",
       "      <td>2</td>\n",
       "      <td>2020-04-25 01:46:21</td>\n",
       "      <td>@Iuplns @bahorels I love this girl. this is fa...</td>\n",
       "      <td>30759478</td>\n",
       "      <td>en</td>\n",
       "      <td>False</td>\n",
       "      <td>2014-04-15 00:26:15</td>\n",
       "      <td>69057</td>\n",
       "    </tr>\n",
       "    <tr>\n",
       "      <th>3</th>\n",
       "      <td>30759478</td>\n",
       "      <td>0</td>\n",
       "      <td>0</td>\n",
       "      <td>1</td>\n",
       "      <td>0</td>\n",
       "      <td>0</td>\n",
       "      <td>1</td>\n",
       "      <td>2020-03-31 16:05:20</td>\n",
       "      <td>@peggyVEVO it definitely would've been!! haha</td>\n",
       "      <td>30759478</td>\n",
       "      <td>en</td>\n",
       "      <td>False</td>\n",
       "      <td>2014-04-15 00:26:15</td>\n",
       "      <td>69057</td>\n",
       "    </tr>\n",
       "    <tr>\n",
       "      <th>4</th>\n",
       "      <td>30759478</td>\n",
       "      <td>0</td>\n",
       "      <td>0</td>\n",
       "      <td>0</td>\n",
       "      <td>0</td>\n",
       "      <td>0</td>\n",
       "      <td>0</td>\n",
       "      <td>2020-04-13 15:10:26</td>\n",
       "      <td>i'm already all packed go me</td>\n",
       "      <td>30759478</td>\n",
       "      <td>en</td>\n",
       "      <td>False</td>\n",
       "      <td>2014-04-15 00:26:15</td>\n",
       "      <td>69057</td>\n",
       "    </tr>\n",
       "  </tbody>\n",
       "</table>\n",
       "</div>"
      ],
      "text/plain": [
       "    user_id  retweet_count  reply_count  favorite_count  num_hashtags  \\\n",
       "0  30759478              1            0            <NA>             0   \n",
       "1  30759478              0            0               0             0   \n",
       "2  30759478              0            0               1             0   \n",
       "3  30759478              0            0               1             0   \n",
       "4  30759478              0            0               0             0   \n",
       "\n",
       "   num_urls  num_mentions    created_at_tweet  \\\n",
       "0         0          <NA> 2020-04-22 20:32:39   \n",
       "1         0             0 2020-04-26 04:12:24   \n",
       "2         0             2 2020-04-25 01:46:21   \n",
       "3         0             1 2020-03-31 16:05:20   \n",
       "4         0             0 2020-04-13 15:10:26   \n",
       "\n",
       "                                                text        id lang    bot  \\\n",
       "0  true michelle rodriguez made a good point that...  30759478   en  False   \n",
       "1  you know what i miss having in my room? my des...  30759478   en  False   \n",
       "2  @Iuplns @bahorels I love this girl. this is fa...  30759478   en  False   \n",
       "3      @peggyVEVO it definitely would've been!! haha  30759478   en  False   \n",
       "4                       i'm already all packed go me  30759478   en  False   \n",
       "\n",
       "      created_at_user  statuses_count  \n",
       "0 2014-04-15 00:26:15           69057  \n",
       "1 2014-04-15 00:26:15           69057  \n",
       "2 2014-04-15 00:26:15           69057  \n",
       "3 2014-04-15 00:26:15           69057  \n",
       "4 2014-04-15 00:26:15           69057  "
      ]
     },
     "execution_count": 325,
     "metadata": {},
     "output_type": "execute_result"
    }
   ],
   "source": [
    "df_joined.head()"
   ]
  },
  {
   "cell_type": "markdown",
   "metadata": {},
   "source": [
    "Function that returns the substitute attribute of a tweet. It ish the median value of the attribute of other tweets of the same user, if there are enough valid tweets, otherwise it is the median value from users which have same 'bot' attribute"
   ]
  },
  {
   "cell_type": "markdown",
   "metadata": {},
   "source": [
    "## Manage NaN after joining tables"
   ]
  },
  {
   "cell_type": "markdown",
   "metadata": {},
   "source": [
    "### Tweets Manage NaN\n",
    "Fill the NaN in the numeric columns"
   ]
  },
  {
   "cell_type": "markdown",
   "metadata": {},
   "source": [
    "Create Dataframe with count of valid (== non-null) numeric tweet attributes grouped by users"
   ]
  },
  {
   "cell_type": "code",
   "execution_count": null,
   "metadata": {},
   "outputs": [],
   "source": [
    "df_grouped_by_user_num_valid = df_joined.groupby(['user_id']).count().iloc[:, 0 : 6]\n"
   ]
  },
  {
   "cell_type": "markdown",
   "metadata": {},
   "source": [
    "Create Dataframe with median value of numeric tweet attributes grouped by users"
   ]
  },
  {
   "cell_type": "code",
   "execution_count": null,
   "metadata": {},
   "outputs": [],
   "source": [
    "df_grouped_by_user_median = df_joined.groupby(['user_id']).median().iloc[:, 0 : 6]"
   ]
  },
  {
   "cell_type": "markdown",
   "metadata": {},
   "source": [
    "Define substitue function that replace NaN features with user tweets median or with bot/not-bot median if not enough valid tweet features for that user"
   ]
  },
  {
   "cell_type": "code",
   "execution_count": null,
   "metadata": {},
   "outputs": [],
   "source": [
    "def subsititute_with_median_tweet(row, col_name, bot_median, not_bot_median, min_valid_user_values):\n",
    "    if pd.isnull(row[col_name]):\n",
    "        user_feature_num_valid = df_grouped_by_user_num_valid.loc[df_grouped_by_user_num_valid.index == row.user_id][col_name]\n",
    "        if user_feature_num_valid.count() > min_valid_user_values:\n",
    "\n",
    "            user_feature_median = df_grouped_by_user_median.loc[df_grouped_by_user_median.index == row.user_id][col_name]\n",
    "            # If there are at least a min number of user tweets with valid attribute\n",
    "            if not pd.isna(user_feature_median):\n",
    "                # Use median of attribute of same user tweets\n",
    "                row[col_name] = user_feature_median.astype(np.int64)\n",
    "            elif row['bot'] == True:\n",
    "                row[col_name] = bot_median\n",
    "            else:\n",
    "                row[col_name] = not_bot_median\n",
    "            # Else use median of bot/not_bot\n",
    "        elif row['bot'] == True:\n",
    "            row[col_name] = bot_median\n",
    "        else:\n",
    "            row[col_name] = not_bot_median\n",
    "    return row"
   ]
  },
  {
   "cell_type": "code",
   "execution_count": null,
   "metadata": {},
   "outputs": [
    {
     "name": "stdout",
     "output_type": "stream",
     "text": [
      "bot median retweet_count: 0\n",
      "not bot median retweet_count: 0\n",
      "bot median reply_count: 0\n",
      "not bot median reply_count: 0\n",
      "bot median favorite_count: 0\n",
      "not bot median favorite_count: 0\n",
      "bot median num_hashtags: 0\n",
      "not bot median num_hashtags: 0\n",
      "bot median num_urls: 0\n",
      "not bot median num_urls: 0\n",
      "bot median num_mentions: 0\n",
      "not bot median num_mentions: 1\n"
     ]
    }
   ],
   "source": [
    "# Minimum value of other tweets with not-NaN feature\n",
    "min_valid_user_values = 4 #da calcolare eventualmente\n",
    "\n",
    "for col_name in df_joined.iloc[:, 1 : 7]:\n",
    "    # Calculate median on the feature for bots and not-bots\n",
    "    bot_median = df_joined.loc[df_joined['bot'] == True][col_name].median().astype(np.int64)\n",
    "    not_bot_median = df_joined.loc[df_joined['bot'] == False][col_name].median().astype(np.int64)\n",
    "    print('bot median {}:'.format(col_name), bot_median)\n",
    "    print('not bot median {}:'.format(col_name), not_bot_median)\n",
    "\n",
    "    df_joined.apply(\n",
    "        func=subsititute_with_median_tweet, axis=1, args=(\n",
    "            col_name, bot_median, not_bot_median, min_valid_user_values))"
   ]
  },
  {
   "cell_type": "markdown",
   "metadata": {},
   "source": [
    "We now see the heatmap of user and tweets without duplicates:"
   ]
  },
  {
   "cell_type": "code",
   "execution_count": null,
   "metadata": {},
   "outputs": [
    {
     "data": {
      "text/plain": [
       "<AxesSubplot:ylabel='id'>"
      ]
     },
     "execution_count": 307,
     "metadata": {},
     "output_type": "execute_result"
    }
   ],
   "source": [
    "fig, ax = plt.subplots(figsize=(12,5)) \n",
    "sn.heatmap(df_users.isnull(), cbar=False, xticklabels=True, ax=ax, yticklabels=False)"
   ]
  },
  {
   "cell_type": "code",
   "execution_count": null,
   "metadata": {},
   "outputs": [
    {
     "data": {
      "text/plain": [
       "<AxesSubplot:ylabel='id'>"
      ]
     },
     "execution_count": 308,
     "metadata": {},
     "output_type": "execute_result"
    }
   ],
   "source": [
    "fig, ax = plt.subplots(figsize=(12,5)) \n",
    "sn.heatmap(df_tweets_sample.isnull(), cbar=False, xticklabels=True, ax=ax, yticklabels=False)"
   ]
  },
  {
   "cell_type": "markdown",
   "metadata": {},
   "source": [
    "## Correlation matrix\n",
    "Now we see the correlation matrix to spot if there are any significant correlations between the attributes in the sample:"
   ]
  },
  {
   "cell_type": "code",
   "execution_count": null,
   "metadata": {},
   "outputs": [],
   "source": [
    "corr_matrix = df_joined.corr()\n",
    "\n",
    "fig, ax = plt.subplots(figsize=(15,15))         # Sample figsize in inches\n",
    "mask = np.zeros_like(corr_matrix)\n",
    "mask[np.triu_indices_from(mask)] = True\n",
    "\n",
    "# Draw the heatmap with the mask\n",
    "sn.heatmap(corr_matrix, annot=True, mask=mask, square=True)\n",
    "\n",
    "plt.show()\n",
    "\n",
    "\n",
    "label= ['humans', 'bots']\n",
    "plt.pie(df_joined['bot'].value_counts(), labels=label)\n",
    "plt.show()"
   ]
  }
 ],
 "metadata": {
  "kernelspec": {
   "display_name": "Python 3.7.13 ('dataMiningEnv')",
   "language": "python",
   "name": "python3"
  },
  "language_info": {
   "codemirror_mode": {
    "name": "ipython",
    "version": 3
   },
   "file_extension": ".py",
   "mimetype": "text/x-python",
   "name": "python",
   "nbconvert_exporter": "python",
   "pygments_lexer": "ipython3",
   "version": "3.7.13"
  },
  "orig_nbformat": 4,
  "vscode": {
   "interpreter": {
    "hash": "c40c772eaee8ca11ff79c6ae9ceb6f8cf9a67edeabb89d2b5d546b1f7b0ef101"
   }
  }
 },
 "nbformat": 4,
 "nbformat_minor": 2
}
