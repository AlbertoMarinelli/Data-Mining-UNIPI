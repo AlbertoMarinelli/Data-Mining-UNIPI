{
 "cells": [
  {
   "cell_type": "markdown",
   "metadata": {},
   "source": [
    "# Task 1.1 Data Understanding\n",
    "*Alberto Roberto Marinelli, Giacomo Cignoni, Alessandro Bucci*\n",
    "## Importing Libraries\n",
    "First we import the libraries necessary to analyze the data"
   ]
  },
  {
   "cell_type": "code",
   "execution_count": 740,
   "metadata": {},
   "outputs": [],
   "source": [
    "import math\n",
    "import sys\n",
    "import numpy as np\n",
    "import pandas as pd\n",
    "import seaborn as sn\n",
    "import scipy.stats as stats\n",
    "import matplotlib.pyplot as plt\n",
    "from sklearn import decomposition"
   ]
  },
  {
   "cell_type": "code",
   "execution_count": 741,
   "metadata": {},
   "outputs": [],
   "source": [
    "pd.set_option('mode.use_inf_as_na', True)\n",
    "\n",
    "def mr_bins(number_of_samples):\n",
    "    return (np.log2(number_of_samples)).astype(np.int64) + 1\n"
   ]
  },
  {
   "cell_type": "markdown",
   "metadata": {},
   "source": [
    "Then we load the datasets"
   ]
  },
  {
   "cell_type": "code",
   "execution_count": 742,
   "metadata": {},
   "outputs": [],
   "source": [
    "df_tweets_sample = pd.read_csv('../dataset/tweets_sample.csv', sep=',', index_col=0)  # load tweets\n",
    "df_users = pd.read_csv('../dataset/users.csv', sep=',', index_col=0)  # load users"
   ]
  },
  {
   "cell_type": "code",
   "execution_count": 743,
   "metadata": {},
   "outputs": [
    {
     "name": "stdout",
     "output_type": "stream",
     "text": [
      "<class 'pandas.core.frame.DataFrame'>\n",
      "Int64Index: 11508 entries, 2353593986 to 933183398\n",
      "Data columns (total 5 columns):\n",
      " #   Column          Non-Null Count  Dtype  \n",
      "---  ------          --------------  -----  \n",
      " 0   name            11507 non-null  object \n",
      " 1   lang            11508 non-null  object \n",
      " 2   bot             11508 non-null  int64  \n",
      " 3   created_at      11508 non-null  object \n",
      " 4   statuses_count  11109 non-null  float64\n",
      "dtypes: float64(1), int64(1), object(3)\n",
      "memory usage: 539.4+ KB\n",
      "<class 'pandas.core.frame.DataFrame'>\n",
      "Index: 136647 entries, 528578456452612097 to 520574848935153664\n",
      "Data columns (total 9 columns):\n",
      " #   Column          Non-Null Count   Dtype \n",
      "---  ------          --------------   ----- \n",
      " 0   user_id         134464 non-null  object\n",
      " 1   retweet_count   132232 non-null  object\n",
      " 2   reply_count     130163 non-null  object\n",
      " 3   favorite_count  130128 non-null  object\n",
      " 4   num_hashtags    126020 non-null  object\n",
      " 5   num_urls        130145 non-null  object\n",
      " 6   num_mentions    128069 non-null  object\n",
      " 7   created_at      136647 non-null  object\n",
      " 8   text            131286 non-null  object\n",
      "dtypes: object(9)\n",
      "memory usage: 10.4+ MB\n"
     ]
    }
   ],
   "source": [
    "df_users.info()\n",
    "df_tweets_sample.info()"
   ]
  },
  {
   "cell_type": "code",
   "execution_count": 744,
   "metadata": {},
   "outputs": [
    {
     "data": {
      "text/plain": [
       "Index(['528578456452612097', '492852780101406721',    '888885286917605',\n",
       "       '516101108960206848', '528187250392461312', '570832754230697984',\n",
       "       '513989622138171392', '528228030565867520', '593418231051759618',\n",
       "       '571343376034844672',\n",
       "       ...\n",
       "       '486865957533388800', '484685296236498944', '468829855912824832',\n",
       "       '528268412032942080', '291215078842618705', '500184073814700033',\n",
       "       '578072909085724672', '588013533557841920', '591597103090020352',\n",
       "       '520574848935153664'],\n",
       "      dtype='object', name='id', length=136445)"
      ]
     },
     "execution_count": 744,
     "metadata": {},
     "output_type": "execute_result"
    }
   ],
   "source": [
    "df_tweets_sample.index.unique()"
   ]
  },
  {
   "cell_type": "code",
   "execution_count": 745,
   "metadata": {},
   "outputs": [],
   "source": [
    "df_users.reset_index(inplace=True)\n",
    "df_tweets_sample.reset_index(inplace=True)"
   ]
  },
  {
   "cell_type": "code",
   "execution_count": 746,
   "metadata": {},
   "outputs": [
    {
     "name": "stdout",
     "output_type": "stream",
     "text": [
      "<class 'pandas.core.frame.DataFrame'>\n",
      "RangeIndex: 11508 entries, 0 to 11507\n",
      "Data columns (total 6 columns):\n",
      " #   Column          Non-Null Count  Dtype  \n",
      "---  ------          --------------  -----  \n",
      " 0   id              11508 non-null  int64  \n",
      " 1   name            11507 non-null  object \n",
      " 2   lang            11508 non-null  object \n",
      " 3   bot             11508 non-null  int64  \n",
      " 4   created_at      11508 non-null  object \n",
      " 5   statuses_count  11109 non-null  float64\n",
      "dtypes: float64(1), int64(2), object(3)\n",
      "memory usage: 539.6+ KB\n"
     ]
    }
   ],
   "source": [
    "df_users.info()"
   ]
  },
  {
   "cell_type": "code",
   "execution_count": 747,
   "metadata": {},
   "outputs": [
    {
     "name": "stdout",
     "output_type": "stream",
     "text": [
      "<class 'pandas.core.frame.DataFrame'>\n",
      "RangeIndex: 136647 entries, 0 to 136646\n",
      "Data columns (total 10 columns):\n",
      " #   Column          Non-Null Count   Dtype \n",
      "---  ------          --------------   ----- \n",
      " 0   id              136646 non-null  object\n",
      " 1   user_id         134464 non-null  object\n",
      " 2   retweet_count   132232 non-null  object\n",
      " 3   reply_count     130163 non-null  object\n",
      " 4   favorite_count  130128 non-null  object\n",
      " 5   num_hashtags    126020 non-null  object\n",
      " 6   num_urls        130145 non-null  object\n",
      " 7   num_mentions    128069 non-null  object\n",
      " 8   created_at      136647 non-null  object\n",
      " 9   text            131286 non-null  object\n",
      "dtypes: object(10)\n",
      "memory usage: 10.4+ MB\n"
     ]
    }
   ],
   "source": [
    "df_tweets_sample.info()"
   ]
  },
  {
   "cell_type": "code",
   "execution_count": 748,
   "metadata": {},
   "outputs": [
    {
     "data": {
      "text/html": [
       "<div>\n",
       "<style scoped>\n",
       "    .dataframe tbody tr th:only-of-type {\n",
       "        vertical-align: middle;\n",
       "    }\n",
       "\n",
       "    .dataframe tbody tr th {\n",
       "        vertical-align: top;\n",
       "    }\n",
       "\n",
       "    .dataframe thead th {\n",
       "        text-align: right;\n",
       "    }\n",
       "</style>\n",
       "<table border=\"1\" class=\"dataframe\">\n",
       "  <thead>\n",
       "    <tr style=\"text-align: right;\">\n",
       "      <th></th>\n",
       "      <th>id</th>\n",
       "      <th>user_id</th>\n",
       "      <th>retweet_count</th>\n",
       "      <th>reply_count</th>\n",
       "      <th>favorite_count</th>\n",
       "      <th>num_hashtags</th>\n",
       "      <th>num_urls</th>\n",
       "      <th>num_mentions</th>\n",
       "      <th>created_at</th>\n",
       "      <th>text</th>\n",
       "    </tr>\n",
       "  </thead>\n",
       "  <tbody>\n",
       "    <tr>\n",
       "      <th>0</th>\n",
       "      <td>528578456452612097</td>\n",
       "      <td>567430901</td>\n",
       "      <td>0</td>\n",
       "      <td>0</td>\n",
       "      <td>0</td>\n",
       "      <td>0</td>\n",
       "      <td>0</td>\n",
       "      <td>0</td>\n",
       "      <td>2019-11-03 16:04:59</td>\n",
       "      <td>La sera, a letto.Lui:- FarÃ² di te la donna pi...</td>\n",
       "    </tr>\n",
       "    <tr>\n",
       "      <th>1</th>\n",
       "      <td>492852780101406721</td>\n",
       "      <td>277506943</td>\n",
       "      <td>0</td>\n",
       "      <td>0</td>\n",
       "      <td>2</td>\n",
       "      <td>1</td>\n",
       "      <td>0</td>\n",
       "      <td>0</td>\n",
       "      <td>2019-07-28 02:03:54</td>\n",
       "      <td>#RFGoNaked http://t.co/eaf1sO4TWL</td>\n",
       "    </tr>\n",
       "    <tr>\n",
       "      <th>2</th>\n",
       "      <td>888885286917605</td>\n",
       "      <td>317296274</td>\n",
       "      <td>0</td>\n",
       "      <td>dcl83oci</td>\n",
       "      <td>NaN</td>\n",
       "      <td>NaN</td>\n",
       "      <td>NaN</td>\n",
       "      <td>NaN</td>\n",
       "      <td>2020-03-21 17:43:22</td>\n",
       "      <td>Volunteers report 100% retail tobacco complian...</td>\n",
       "    </tr>\n",
       "    <tr>\n",
       "      <th>3</th>\n",
       "      <td>516101108960206848</td>\n",
       "      <td>1372026204</td>\n",
       "      <td>0</td>\n",
       "      <td>0</td>\n",
       "      <td>0</td>\n",
       "      <td>4</td>\n",
       "      <td>1</td>\n",
       "      <td>0</td>\n",
       "      <td>2019-09-30 05:44:27</td>\n",
       "      <td>What HR Lessons Did I Learn Whilst Managing Me...</td>\n",
       "    </tr>\n",
       "    <tr>\n",
       "      <th>4</th>\n",
       "      <td>528187250392461312</td>\n",
       "      <td>468101494</td>\n",
       "      <td>0</td>\n",
       "      <td>0</td>\n",
       "      <td>0</td>\n",
       "      <td>0</td>\n",
       "      <td>0</td>\n",
       "      <td>0</td>\n",
       "      <td>2019-11-02 14:10:28</td>\n",
       "      <td>-Cara, ti voglio POSSEDERE dove non te ti ha m...</td>\n",
       "    </tr>\n",
       "    <tr>\n",
       "      <th>...</th>\n",
       "      <td>...</td>\n",
       "      <td>...</td>\n",
       "      <td>...</td>\n",
       "      <td>...</td>\n",
       "      <td>...</td>\n",
       "      <td>...</td>\n",
       "      <td>...</td>\n",
       "      <td>...</td>\n",
       "      <td>...</td>\n",
       "      <td>...</td>\n",
       "    </tr>\n",
       "    <tr>\n",
       "      <th>136642</th>\n",
       "      <td>500184073814700033</td>\n",
       "      <td>576148031</td>\n",
       "      <td>0</td>\n",
       "      <td>0</td>\n",
       "      <td>0</td>\n",
       "      <td>0</td>\n",
       "      <td>0</td>\n",
       "      <td>0</td>\n",
       "      <td>2019-08-17 07:35:50</td>\n",
       "      <td>Porta bene Renzi!  Grazie \"presidente\"</td>\n",
       "    </tr>\n",
       "    <tr>\n",
       "      <th>136643</th>\n",
       "      <td>578072909085724672</td>\n",
       "      <td>25693756</td>\n",
       "      <td>0</td>\n",
       "      <td>0</td>\n",
       "      <td>0</td>\n",
       "      <td>0</td>\n",
       "      <td>0</td>\n",
       "      <td>1</td>\n",
       "      <td>2020-03-19 05:58:16</td>\n",
       "      <td>@malakhstudios You OK?</td>\n",
       "    </tr>\n",
       "    <tr>\n",
       "      <th>136644</th>\n",
       "      <td>588013533557841920</td>\n",
       "      <td>2395918790</td>\n",
       "      <td>0</td>\n",
       "      <td>0</td>\n",
       "      <td>0</td>\n",
       "      <td>0</td>\n",
       "      <td>0</td>\n",
       "      <td>0</td>\n",
       "      <td>2020-04-15 16:18:45</td>\n",
       "      <td>If there is Jacob Whiteside, there is also Jac...</td>\n",
       "    </tr>\n",
       "    <tr>\n",
       "      <th>136645</th>\n",
       "      <td>591597103090020352</td>\n",
       "      <td>2290983830</td>\n",
       "      <td>8</td>\n",
       "      <td>0</td>\n",
       "      <td>0</td>\n",
       "      <td>0</td>\n",
       "      <td>0</td>\n",
       "      <td>1</td>\n",
       "      <td>2020-04-25 13:38:35</td>\n",
       "      <td>RT @Katie_Edwards_: RT if you like watermelon!...</td>\n",
       "    </tr>\n",
       "    <tr>\n",
       "      <th>136646</th>\n",
       "      <td>520574848935153664</td>\n",
       "      <td>161256906</td>\n",
       "      <td>0</td>\n",
       "      <td>0</td>\n",
       "      <td>0</td>\n",
       "      <td>0</td>\n",
       "      <td>1</td>\n",
       "      <td>0</td>\n",
       "      <td>2019-10-12 14:01:30</td>\n",
       "      <td>Check out these top 10 science fiction authors...</td>\n",
       "    </tr>\n",
       "  </tbody>\n",
       "</table>\n",
       "<p>136647 rows × 10 columns</p>\n",
       "</div>"
      ],
      "text/plain": [
       "                        id     user_id retweet_count reply_count  \\\n",
       "0       528578456452612097   567430901             0           0   \n",
       "1       492852780101406721   277506943             0           0   \n",
       "2          888885286917605   317296274             0    dcl83oci   \n",
       "3       516101108960206848  1372026204             0           0   \n",
       "4       528187250392461312   468101494             0           0   \n",
       "...                    ...         ...           ...         ...   \n",
       "136642  500184073814700033   576148031             0           0   \n",
       "136643  578072909085724672    25693756             0           0   \n",
       "136644  588013533557841920  2395918790             0           0   \n",
       "136645  591597103090020352  2290983830             8           0   \n",
       "136646  520574848935153664   161256906             0           0   \n",
       "\n",
       "       favorite_count num_hashtags num_urls num_mentions           created_at  \\\n",
       "0                   0            0        0            0  2019-11-03 16:04:59   \n",
       "1                   2            1        0            0  2019-07-28 02:03:54   \n",
       "2                 NaN          NaN      NaN          NaN  2020-03-21 17:43:22   \n",
       "3                   0            4        1            0  2019-09-30 05:44:27   \n",
       "4                   0            0        0            0  2019-11-02 14:10:28   \n",
       "...               ...          ...      ...          ...                  ...   \n",
       "136642              0            0        0            0  2019-08-17 07:35:50   \n",
       "136643              0            0        0            1  2020-03-19 05:58:16   \n",
       "136644              0            0        0            0  2020-04-15 16:18:45   \n",
       "136645              0            0        0            1  2020-04-25 13:38:35   \n",
       "136646              0            0        1            0  2019-10-12 14:01:30   \n",
       "\n",
       "                                                     text  \n",
       "0       La sera, a letto.Lui:- FarÃ² di te la donna pi...  \n",
       "1                       #RFGoNaked http://t.co/eaf1sO4TWL  \n",
       "2       Volunteers report 100% retail tobacco complian...  \n",
       "3       What HR Lessons Did I Learn Whilst Managing Me...  \n",
       "4       -Cara, ti voglio POSSEDERE dove non te ti ha m...  \n",
       "...                                                   ...  \n",
       "136642             Porta bene Renzi!  Grazie \"presidente\"  \n",
       "136643                             @malakhstudios You OK?  \n",
       "136644  If there is Jacob Whiteside, there is also Jac...  \n",
       "136645  RT @Katie_Edwards_: RT if you like watermelon!...  \n",
       "136646  Check out these top 10 science fiction authors...  \n",
       "\n",
       "[136647 rows x 10 columns]"
      ]
     },
     "execution_count": 748,
     "metadata": {},
     "output_type": "execute_result"
    }
   ],
   "source": [
    "df_tweets_sample"
   ]
  },
  {
   "cell_type": "markdown",
   "metadata": {},
   "source": [
    "## Features informations\n",
    "\"Type\" indicates the wanted feature Datatype for conversion in \"Casting\" section\n",
    "\n",
    "### Users dataset\n",
    "id, name, lang, bot, created_at and statuses_count\n",
    "* **id** (*Numerical*)\n",
    "  * Type: **Int64**\n",
    "  * Description: Is the identifier of the single user, it will be used to join the datasets, so it is necessary that this data is a non-null integer.\n",
    "* **name** (*Categorical*)\n",
    "  * Type: **String**\n",
    "  * Description: The name of the user.\n",
    "* **lang** (*Categorical*)\n",
    "  * Type: **String**\n",
    "  * Description: The user’s language selected\n",
    "* **bot** (*Numerical*)\n",
    "  * Type: **Boolean**\n",
    "  * Description: A binary variable that indicates if a user is a bot or a genuine user\n",
    "* **created_at** (*Numerical*)\n",
    "  * Type: **Datetime64**\n",
    "  * Description: The timestamp of when the user was created\n",
    "* **statuses_count** (*Numerical*)\n",
    "  * Type: **Int64**\n",
    "  * Description: The count of the tweets made by the user at the moment of data crawling.\n",
    "### Tweets dataset\n",
    "* **id** (*Numerical*)\n",
    "  * Type: **Object**\n",
    "  * Description: Is the identifier of the single tweet, it should be int64, but we decided to consder it object because it does not affect the data if it is not an integer.\n",
    "* **user_id** (*Numerical*)\n",
    "  * Type: **Int64**\n",
    "  * Description: Is the identifier of the single user, it will be used to join the datasets, so it is necessary that this data is a non-null integer\n",
    "* **retweet_count** (*Numerical*)\n",
    "  * Type: **Int64**\n",
    "  * Description: The number of retweets of the single tweet\n",
    "* **reply_count** (*Numerical*)\n",
    "  * Type: **Int64**\n",
    "  * Description: The number of replies of the single tweet\n",
    "* **favorite_count** (*Numerical*)\n",
    "  * Type: **Int64**\n",
    "  * Description: The number of favorites (or likes) of the single tweet\n",
    "* **num_hashtags** (*Numerical*)\n",
    "  * Type: **Int64**\n",
    "  * Description: The number of hashtags in the single tweet\n",
    "* **num_urls** (*Numerical*)\n",
    "  * Type: **Int64**\n",
    "  * Description: The number of urls in the single tweet\n",
    "* **num_mentions** (*Numerical*)\n",
    "  * Type: **Int64**\n",
    "  * Description: The number of mentions in the single tweet\n",
    "* **created_at** (*Numerical*)\n",
    "  * Type: **Datetime64**\n",
    "  * Description: The timestamp of when the single tweet was created\n",
    "* **text** (*Categorical*)\n",
    "  * Type: **String**\n",
    "  * Description: The text of the single tweet"
   ]
  },
  {
   "cell_type": "markdown",
   "metadata": {},
   "source": [
    "## Datatype Casting\n",
    "### Users dataframe casting"
   ]
  },
  {
   "cell_type": "code",
   "execution_count": 749,
   "metadata": {},
   "outputs": [
    {
     "name": "stdout",
     "output_type": "stream",
     "text": [
      "<class 'pandas.core.frame.DataFrame'>\n",
      "RangeIndex: 11508 entries, 0 to 11507\n",
      "Data columns (total 6 columns):\n",
      " #   Column          Non-Null Count  Dtype  \n",
      "---  ------          --------------  -----  \n",
      " 0   id              11508 non-null  int64  \n",
      " 1   name            11507 non-null  object \n",
      " 2   lang            11508 non-null  object \n",
      " 3   bot             11508 non-null  int64  \n",
      " 4   created_at      11508 non-null  object \n",
      " 5   statuses_count  11109 non-null  float64\n",
      "dtypes: float64(1), int64(2), object(3)\n",
      "memory usage: 539.6+ KB\n"
     ]
    }
   ],
   "source": [
    "df_users.info()"
   ]
  },
  {
   "cell_type": "markdown",
   "metadata": {},
   "source": [
    "Cast name and lang columns to string and created_at to DateTime in df_users"
   ]
  },
  {
   "cell_type": "code",
   "execution_count": 750,
   "metadata": {},
   "outputs": [],
   "source": [
    "df_users.id = df_users.id.astype('Int64')\n",
    "df_users.name = df_users.name.astype('string')\n",
    "df_users.lang = df_users.lang.astype('string')"
   ]
  },
  {
   "cell_type": "markdown",
   "metadata": {},
   "source": [
    "Cast statuses_count to Int64, bot to bool and created_at to DateTime in df_users"
   ]
  },
  {
   "cell_type": "code",
   "execution_count": 751,
   "metadata": {},
   "outputs": [],
   "source": [
    "df_users.statuses_count = df_users.statuses_count.astype('Int64', errors='raise')\n",
    "df_users.bot = df_users.bot.astype('bool', errors='raise')\n",
    "df_users.created_at = pd.to_datetime(df_users.created_at, errors='coerce')\n"
   ]
  },
  {
   "cell_type": "code",
   "execution_count": 752,
   "metadata": {},
   "outputs": [
    {
     "name": "stdout",
     "output_type": "stream",
     "text": [
      "<class 'pandas.core.frame.DataFrame'>\n",
      "RangeIndex: 11508 entries, 0 to 11507\n",
      "Data columns (total 6 columns):\n",
      " #   Column          Non-Null Count  Dtype         \n",
      "---  ------          --------------  -----         \n",
      " 0   id              11508 non-null  Int64         \n",
      " 1   name            11507 non-null  string        \n",
      " 2   lang            11508 non-null  string        \n",
      " 3   bot             11508 non-null  bool          \n",
      " 4   created_at      11508 non-null  datetime64[ns]\n",
      " 5   statuses_count  11109 non-null  Int64         \n",
      "dtypes: Int64(2), bool(1), datetime64[ns](1), string(2)\n",
      "memory usage: 483.4 KB\n"
     ]
    }
   ],
   "source": [
    "df_users.info()"
   ]
  },
  {
   "cell_type": "markdown",
   "metadata": {},
   "source": [
    "### Tweets dataframe casting"
   ]
  },
  {
   "cell_type": "code",
   "execution_count": 753,
   "metadata": {},
   "outputs": [
    {
     "name": "stdout",
     "output_type": "stream",
     "text": [
      "<class 'pandas.core.frame.DataFrame'>\n",
      "RangeIndex: 136647 entries, 0 to 136646\n",
      "Data columns (total 10 columns):\n",
      " #   Column          Non-Null Count   Dtype \n",
      "---  ------          --------------   ----- \n",
      " 0   id              136646 non-null  object\n",
      " 1   user_id         134464 non-null  object\n",
      " 2   retweet_count   132232 non-null  object\n",
      " 3   reply_count     130163 non-null  object\n",
      " 4   favorite_count  130128 non-null  object\n",
      " 5   num_hashtags    126020 non-null  object\n",
      " 6   num_urls        130145 non-null  object\n",
      " 7   num_mentions    128069 non-null  object\n",
      " 8   created_at      136647 non-null  object\n",
      " 9   text            131286 non-null  object\n",
      "dtypes: object(10)\n",
      "memory usage: 10.4+ MB\n"
     ]
    }
   ],
   "source": [
    "df_tweets_sample.info()"
   ]
  },
  {
   "cell_type": "markdown",
   "metadata": {},
   "source": [
    "Cast id to int64 for memory optimization"
   ]
  },
  {
   "cell_type": "code",
   "execution_count": 754,
   "metadata": {},
   "outputs": [],
   "source": [
    "df_tweets_sample.id = pd.to_numeric(\n",
    "    df_tweets_sample.id, downcast= 'integer', errors='coerce').astype('Int64', errors='raise')\n"
   ]
  },
  {
   "cell_type": "markdown",
   "metadata": {},
   "source": [
    "Int64 casting for numeric columns in df_tweets"
   ]
  },
  {
   "cell_type": "code",
   "execution_count": 755,
   "metadata": {},
   "outputs": [],
   "source": [
    "def cast_int(x):\n",
    "    try:\n",
    "        return np.int64(x)\n",
    "    except:\n",
    "        return pd.NA\n",
    "    \n",
    "\n",
    "for col_name in df_tweets_sample.iloc[:, : 8]:\n",
    "    # Substitute values outside of Int64 limits with NaN\n",
    "    df_tweets_sample[col_name] = df_tweets_sample[col_name].apply(cast_int)\n",
    "\n",
    "    # Cast to Int64\n",
    "    df_tweets_sample[col_name] = df_tweets_sample[col_name].astype('Int64', errors='raise')\n",
    "\n"
   ]
  },
  {
   "cell_type": "markdown",
   "metadata": {},
   "source": [
    "Cast text column to string and created_at to DateTime in df_tweets"
   ]
  },
  {
   "cell_type": "code",
   "execution_count": 756,
   "metadata": {},
   "outputs": [],
   "source": [
    "df_tweets_sample.text = df_tweets_sample.text.astype('string')\n",
    "df_tweets_sample.created_at = pd.to_datetime(\n",
    "    df_tweets_sample.created_at, errors='coerce') #The invalid dates are set to NaT"
   ]
  },
  {
   "cell_type": "code",
   "execution_count": 757,
   "metadata": {},
   "outputs": [
    {
     "name": "stdout",
     "output_type": "stream",
     "text": [
      "<class 'pandas.core.frame.DataFrame'>\n",
      "RangeIndex: 136647 entries, 0 to 136646\n",
      "Data columns (total 10 columns):\n",
      " #   Column          Non-Null Count   Dtype         \n",
      "---  ------          --------------   -----         \n",
      " 0   id              132306 non-null  Int64         \n",
      " 1   user_id         132271 non-null  Int64         \n",
      " 2   retweet_count   130362 non-null  Int64         \n",
      " 3   reply_count     117956 non-null  Int64         \n",
      " 4   favorite_count  117960 non-null  Int64         \n",
      " 5   num_hashtags    117958 non-null  Int64         \n",
      " 6   num_urls        117960 non-null  Int64         \n",
      " 7   num_mentions    126736 non-null  Int64         \n",
      " 8   created_at      136647 non-null  datetime64[ns]\n",
      " 9   text            131286 non-null  string        \n",
      "dtypes: Int64(8), datetime64[ns](1), string(1)\n",
      "memory usage: 11.5 MB\n"
     ]
    }
   ],
   "source": [
    "df_tweets_sample.info()"
   ]
  },
  {
   "cell_type": "markdown",
   "metadata": {},
   "source": [
    "## Attributes exploration and outliers fixing\n",
    "\n",
    "We now explore the distributions in order to find the outliers of each attribute."
   ]
  },
  {
   "cell_type": "markdown",
   "metadata": {},
   "source": [
    "### User dataset attributes exploration and outliers fixing\n",
    "\n",
    "We check 'created_at' whit a bar plot by year."
   ]
  },
  {
   "cell_type": "code",
   "execution_count": 758,
   "metadata": {},
   "outputs": [
    {
     "data": {
      "image/png": "[encoded data removed]",
      "text/plain": [
       "<Figure size 640x480 with 1 Axes>"
      ]
     },
     "metadata": {},
     "output_type": "display_data"
    }
   ],
   "source": [
    "df_users.created_at.groupby(df_users.created_at.dt.year).count().plot(kind='bar')\n",
    "plt.show()"
   ]
  },
  {
   "cell_type": "markdown",
   "metadata": {},
   "source": [
    "Since Twitter was founded in 2006 and the oldest user is from 2012, there are no lower bound outliers.\n",
    "\n",
    "Since the crawling was done in 2020, and there are no users created later than 2020, there are no upper bound outliers."
   ]
  },
  {
   "cell_type": "markdown",
   "metadata": {},
   "source": [
    "Now we check **'lang'**.\n",
    "\n",
    "Showing how 'lang' is composed with a logarithmic scale bar plot"
   ]
  },
  {
   "cell_type": "code",
   "execution_count": 759,
   "metadata": {},
   "outputs": [
    {
     "name": "stdout",
     "output_type": "stream",
     "text": [
      "Langs in the user dataset:\n"
     ]
    },
    {
     "data": {
      "image/png": "[encoded data removed]",
      "text/plain": [
       "<Figure size 640x480 with 1 Axes>"
      ]
     },
     "metadata": {},
     "output_type": "display_data"
    }
   ],
   "source": [
    "lang_distribution = df_users.lang.value_counts()\n",
    "print('Langs in the user dataset:')\n",
    "#print(lang_distribution)\n",
    "\n",
    "lang_distribution.plot(kind=\"bar\")\n",
    "plt.yscale('log')\n",
    "plt.show()"
   ]
  },
  {
   "cell_type": "markdown",
   "metadata": {},
   "source": [
    "We decided that if the lang contains a dash, we'll take into consideration only the lang before it.\n",
    "\n",
    "E.g.: \"en-gb\" will become \"en\", \"zh-tw\" will become \"zh\"."
   ]
  },
  {
   "cell_type": "code",
   "execution_count": 760,
   "metadata": {},
   "outputs": [],
   "source": [
    "import re\n",
    "\n",
    "def lang_correction(lang_string):\n",
    "    lang = lang_string\n",
    "    lang = re.sub('-.*$', '', lang)\n",
    "\n",
    "    return lang\n",
    "\n",
    "df_users.lang = df_users.lang.apply(lang_correction).astype('string')\n"
   ]
  },
  {
   "cell_type": "markdown",
   "metadata": {},
   "source": [
    "The two only invalid values are \"Select Language...\" and \"xx\". We can manage them directly"
   ]
  },
  {
   "cell_type": "markdown",
   "metadata": {},
   "source": [
    "Substituting \"Select Language...\" with the mode. "
   ]
  },
  {
   "cell_type": "code",
   "execution_count": 761,
   "metadata": {},
   "outputs": [],
   "source": [
    "df_users.lang.replace(to_replace=\"Select Language...\",value=df_users.lang.mode()[0], inplace=True)"
   ]
  },
  {
   "cell_type": "markdown",
   "metadata": {},
   "source": [
    "We looked at the tweets with the user id equal to the one who has 'lang' equal to xx, and determined that theier posts were english, so we changed 'lang' to 'en', which is also the mode."
   ]
  },
  {
   "cell_type": "code",
   "execution_count": 762,
   "metadata": {},
   "outputs": [],
   "source": [
    "df_users.lang.replace(to_replace=\"xx\",value=df_users.lang.mode()[0], inplace=True)"
   ]
  },
  {
   "cell_type": "markdown",
   "metadata": {},
   "source": [
    "Now we show the cleaned 'lang' distribution."
   ]
  },
  {
   "cell_type": "code",
   "execution_count": 763,
   "metadata": {},
   "outputs": [
    {
     "name": "stdout",
     "output_type": "stream",
     "text": [
      "Langs in the user dataset:\n"
     ]
    },
    {
     "data": {
      "image/png": "[encoded data removed]",
      "text/plain": [
       "<Figure size 640x480 with 1 Axes>"
      ]
     },
     "metadata": {},
     "output_type": "display_data"
    }
   ],
   "source": [
    "lang_distribution = df_users.lang.value_counts()\n",
    "print('Langs in the user dataset:')\n",
    "lang_distribution.plot(kind=\"bar\")\n",
    "plt.yscale('log')\n",
    "plt.show()"
   ]
  },
  {
   "cell_type": "markdown",
   "metadata": {},
   "source": [
    "Having cleaned the \"lang\" attribute, we can convert it to categorical in order to simplify the subsequent clustering and classification phases."
   ]
  },
  {
   "cell_type": "code",
   "execution_count": 764,
   "metadata": {},
   "outputs": [],
   "source": [
    "df_users.lang = pd.Categorical(df_users.lang)"
   ]
  },
  {
   "cell_type": "markdown",
   "metadata": {},
   "source": [
    "Now we check **\"statuses_count\"**"
   ]
  },
  {
   "cell_type": "code",
   "execution_count": 765,
   "metadata": {},
   "outputs": [
    {
     "data": {
      "image/png": "[encoded data removed]",
      "text/plain": [
       "<Figure size 1600x500 with 2 Axes>"
      ]
     },
     "metadata": {},
     "output_type": "display_data"
    }
   ],
   "source": [
    "\n",
    "fig, (ax1, ax2) = plt.subplots(1, 2, figsize=(16, 5))\n",
    "df_users.boxplot(column=\"statuses_count\", ax=ax1)\n",
    "ax1.set_yscale('log')\n",
    "df_users.hist(column=\"statuses_count\", ax=ax2, stacked=True, bins=mr_bins(df_users.statuses_count.count()))\n",
    "ax2.set_yscale('log')\n",
    "fig.subplots_adjust(wspace=0.3)\n",
    "plt.show()\n"
   ]
  },
  {
   "cell_type": "markdown",
   "metadata": {},
   "source": [
    "There are no outliers, because there is no user that violate limit of 5 * 10^7 tweets and also there are not negative values that would be invalid."
   ]
  },
  {
   "cell_type": "markdown",
   "metadata": {},
   "source": [
    "### Tweets dataset attributes exploration and outliers fixing"
   ]
  },
  {
   "cell_type": "markdown",
   "metadata": {},
   "source": [
    "We check **\"retweet_count\"** attribute\n",
    "\n",
    "The most retweet tweet ever has more than 4*10^6 retweets, so we not consider a retweet count over that threshold (we set them to NaN)"
   ]
  },
  {
   "cell_type": "code",
   "execution_count": 766,
   "metadata": {},
   "outputs": [],
   "source": [
    "max_retweets = 4*(10**6)\n",
    "df_tweets_sample.retweet_count = df_tweets_sample.retweet_count.apply(\n",
    "    lambda x: x if not pd.isna(x) and x < max_retweets and x >= 0 else pd.NA)\n",
    "df_tweets_sample.retweet_count = df_tweets_sample.retweet_count.astype(\"Int64\")\n"
   ]
  },
  {
   "cell_type": "code",
   "execution_count": 767,
   "metadata": {},
   "outputs": [
    {
     "data": {
      "image/png": "[encoded data removed]",
      "text/plain": [
       "<Figure size 1600x500 with 2 Axes>"
      ]
     },
     "metadata": {},
     "output_type": "display_data"
    }
   ],
   "source": [
    "\n",
    "# Then we display the plots\n",
    "fig, (ax1, ax2) = plt.subplots(1, 2, figsize=(16, 5))\n",
    "df_tweets_sample.boxplot(column=\"retweet_count\", ax=ax1)\n",
    "ax1.set_yscale('log')\n",
    "df_tweets_sample.hist(column=\"retweet_count\", ax=ax2, stacked=True, bins=mr_bins(\n",
    "    df_tweets_sample.retweet_count.count()))\n",
    "ax2.set_yscale('log')\n",
    "fig.subplots_adjust(wspace=0.3)\n",
    "plt.show()"
   ]
  },
  {
   "cell_type": "markdown",
   "metadata": {},
   "source": [
    "Now we check **'reply_count'** attribute.\n",
    "\n",
    "The most replied tweet can't be much more replies than the highest number of replies, so we limit also the number of replies to 4*10^6"
   ]
  },
  {
   "cell_type": "code",
   "execution_count": 768,
   "metadata": {},
   "outputs": [
    {
     "data": {
      "image/png": "[encoded data removed]",
      "text/plain": [
       "<Figure size 1600x500 with 2 Axes>"
      ]
     },
     "metadata": {},
     "output_type": "display_data"
    }
   ],
   "source": [
    "max_replies = 4*(10**6)\n",
    "df_tweets_sample.reply_count = df_tweets_sample.reply_count.apply(\n",
    "    lambda x: x if not pd.isna(x) and x < max_replies and x >= 0 else pd.NA)\n",
    "df_tweets_sample.reply_count = df_tweets_sample.reply_count.astype(\"Int64\")\n",
    "\n",
    "# Then we display the plots\n",
    "fig, (ax1, ax2) = plt.subplots(1, 2, figsize=(16, 5))\n",
    "df_tweets_sample.boxplot(column=\"reply_count\", ax=ax1)\n",
    "#ax1.set_yscale('log')\n",
    "df_tweets_sample.hist(column=\"reply_count\", ax=ax2, stacked=True, bins=mr_bins(\n",
    "    df_tweets_sample.reply_count.count()))\n",
    "ax2.set_yscale('log')\n",
    "fig.subplots_adjust(wspace=0.3)\n",
    "plt.show()"
   ]
  },
  {
   "cell_type": "markdown",
   "metadata": {},
   "source": [
    "Now we check **'favorite_count'** attribute\n",
    "\n",
    "The most liked tweets has 7*10^6 likes, so we should limit the number of likes to that threshold"
   ]
  },
  {
   "cell_type": "code",
   "execution_count": 769,
   "metadata": {},
   "outputs": [
    {
     "data": {
      "image/png": "[encoded data removed]",
      "text/plain": [
       "<Figure size 1600x500 with 2 Axes>"
      ]
     },
     "metadata": {},
     "output_type": "display_data"
    }
   ],
   "source": [
    "max_likes = 7*(10**6)\n",
    "df_tweets_sample.favorite_count = df_tweets_sample.favorite_count.apply(\n",
    "    lambda x: x if not pd.isna(x) and x < max_likes and x >= 0 else pd.NA)\n",
    "df_tweets_sample.favorite_count = df_tweets_sample.favorite_count.astype(\"Int64\")\n",
    "\n",
    "# Then we display the plots\n",
    "fig, (ax1, ax2) = plt.subplots(1, 2, figsize=(16, 5))\n",
    "df_tweets_sample.boxplot(column=\"favorite_count\", ax=ax1)\n",
    "ax1.set_yscale('log')\n",
    "df_tweets_sample.hist(column=\"favorite_count\", ax=ax2, stacked=True, bins=mr_bins(\n",
    "    df_tweets_sample.favorite_count.count()))\n",
    "ax2.set_yscale('log')\n",
    "fig.subplots_adjust(wspace=0.3)\n",
    "plt.show()"
   ]
  },
  {
   "cell_type": "markdown",
   "metadata": {},
   "source": [
    "**'num_hashtags'**, since the max char in a tweet is 280, we decided to replace with the median number of hashtags everything that is above that threshold"
   ]
  },
  {
   "cell_type": "code",
   "execution_count": 770,
   "metadata": {},
   "outputs": [
    {
     "data": {
      "image/png": "[encoded data removed]",
      "text/plain": [
       "<Figure size 1600x500 with 2 Axes>"
      ]
     },
     "metadata": {},
     "output_type": "display_data"
    }
   ],
   "source": [
    "max_num_hashtags = 280\n",
    "df_tweets_sample.num_hashtags = df_tweets_sample.num_hashtags.apply(\n",
    "    lambda x: x if not pd.isna(x) and x < max_num_hashtags else pd.NA)\n",
    "df_tweets_sample.num_hashtags = df_tweets_sample.num_hashtags.astype(\"Int64\")\n",
    "\n",
    "# Then we display the boxplot\n",
    "fig, (ax1, ax2) = plt.subplots(1, 2, figsize=(16, 5))\n",
    "df_tweets_sample.boxplot(column=\"num_hashtags\", ax=ax1)\n",
    "#ax1.set_yscale('log')\n",
    "df_tweets_sample.hist(column=\"num_hashtags\", ax=ax2, stacked=True, bins=mr_bins(\n",
    "    df_tweets_sample.num_hashtags.count()))\n",
    "ax2.set_yscale('log')\n",
    "fig.subplots_adjust(wspace=0.3)\n",
    "plt.show()"
   ]
  },
  {
   "cell_type": "markdown",
   "metadata": {},
   "source": [
    "**'num_mentions'** since the max char in a tweet is 280, and since a mention to a user needs a @ before the user's nickname (which could be just a letter) we decided to replace with the median number of hashtags everything that is above 280/2."
   ]
  },
  {
   "cell_type": "code",
   "execution_count": 771,
   "metadata": {},
   "outputs": [
    {
     "data": {
      "image/png": "[encoded data removed]",
      "text/plain": [
       "<Figure size 1600x500 with 2 Axes>"
      ]
     },
     "metadata": {},
     "output_type": "display_data"
    }
   ],
   "source": [
    "max_num_mentions = 140\n",
    "df_tweets_sample.num_mentions = df_tweets_sample.num_mentions.apply(\n",
    "    lambda x: x if not pd.isna(x) and x < max_num_mentions and x >= 0 else pd.NA)\n",
    "df_tweets_sample.num_mentions = df_tweets_sample.num_mentions.astype(\"Int64\")\n",
    "\n",
    "# Then we display the boxplot\n",
    "fig, (ax1, ax2) = plt.subplots(1, 2, figsize=(16, 5))\n",
    "df_tweets_sample.boxplot(column=\"num_mentions\", ax=ax1)\n",
    "#ax1.set_yscale('log')\n",
    "df_tweets_sample.hist(column=\"num_mentions\", ax=ax2, stacked=True, bins=mr_bins(\n",
    "    df_tweets_sample.num_mentions.count()))\n",
    "ax2.set_yscale('log')\n",
    "fig.subplots_adjust(wspace=0.3)\n",
    "plt.show()"
   ]
  },
  {
   "cell_type": "markdown",
   "metadata": {},
   "source": [
    "'created_at' since Twitter was founded in 2006 and we are in 2022, when we will analyze the years we will consider only the ones between 2006 and 2020"
   ]
  },
  {
   "cell_type": "markdown",
   "metadata": {},
   "source": [
    "## Preliminary cleaning"
   ]
  },
  {
   "cell_type": "markdown",
   "metadata": {},
   "source": [
    "Drop tweets where user_id is NaN. Tweets that clearly cannot be associated to any user do not contain useful info for further steps."
   ]
  },
  {
   "cell_type": "code",
   "execution_count": 772,
   "metadata": {},
   "outputs": [],
   "source": [
    "df_tweets_sample.dropna(subset=['user_id'], how='any', inplace=True)"
   ]
  },
  {
   "cell_type": "markdown",
   "metadata": {},
   "source": [
    "Drop name column in user Dataframe. It is not useful information to our purpuse."
   ]
  },
  {
   "cell_type": "code",
   "execution_count": 773,
   "metadata": {},
   "outputs": [],
   "source": [
    "df_users.drop(columns=['name'], inplace=True)"
   ]
  },
  {
   "cell_type": "markdown",
   "metadata": {},
   "source": [
    "## Manage duplicates"
   ]
  },
  {
   "cell_type": "markdown",
   "metadata": {},
   "source": [
    "Before we manage the duplicates, we firsly view the heatmap of users and tweets:"
   ]
  },
  {
   "cell_type": "code",
   "execution_count": 774,
   "metadata": {},
   "outputs": [
    {
     "data": {
      "image/png": "[encoded data removed]",
      "text/plain": [
       "<Figure size 1200x500 with 1 Axes>"
      ]
     },
     "metadata": {},
     "output_type": "display_data"
    }
   ],
   "source": [
    "fig, ax = plt.subplots(figsize=(12,5)) \n",
    "sn.heatmap(df_users.isnull(), cbar=False, xticklabels=True, ax=ax, yticklabels=False)\n",
    "plt.show()"
   ]
  },
  {
   "cell_type": "code",
   "execution_count": 775,
   "metadata": {},
   "outputs": [
    {
     "data": {
      "image/png": "[encoded data removed]",
      "text/plain": [
       "<Figure size 1200x500 with 1 Axes>"
      ]
     },
     "metadata": {},
     "output_type": "display_data"
    }
   ],
   "source": [
    "fig, ax = plt.subplots(figsize=(12,5)) \n",
    "sn.heatmap(df_tweets_sample.isnull(), cbar=False, xticklabels=True, ax=ax, yticklabels=False)\n",
    "plt.show()"
   ]
  },
  {
   "cell_type": "markdown",
   "metadata": {},
   "source": [
    "### User Dataframe\n",
    "Drop full row duplicates"
   ]
  },
  {
   "cell_type": "code",
   "execution_count": 776,
   "metadata": {},
   "outputs": [],
   "source": [
    "df_users.drop_duplicates(inplace=True)"
   ]
  },
  {
   "cell_type": "markdown",
   "metadata": {},
   "source": [
    "See if there are duplicate users with different NaN attributes, in order to recover missing ones from the clone"
   ]
  },
  {
   "cell_type": "code",
   "execution_count": 777,
   "metadata": {},
   "outputs": [],
   "source": [
    "df_users_duplicates = df_users.copy()\n",
    "\n",
    "# Find users with duplicate id\n",
    "df_users_duplicates_check = df_users_duplicates.duplicated([\"id\"])\n",
    "\n",
    "# Select [\"id\"] that have clones (to recover missing values)\n",
    "df_users_duplicates_2 = df_users_duplicates[df_users_duplicates_check].copy()\n",
    "df_users_duplicates_R = df_users_duplicates_2[[\"id\"]].copy()\n",
    "\n",
    "# Right Join to select them\n",
    "df_users_merge = df_users_duplicates.merge(df_users_duplicates_R, on=[\"id\"], how=\"right\")\n",
    "\n",
    "df_users_merge.dropna(subset=['id'], inplace=True)\n",
    "df_users_merge.sort_values([\"id\"])\n",
    "\n",
    "# Drop users with same id, as it would create problems in joining tables\n",
    "df_users.drop_duplicates(subset='id', inplace=True)\n"
   ]
  },
  {
   "cell_type": "code",
   "execution_count": 778,
   "metadata": {},
   "outputs": [
    {
     "name": "stdout",
     "output_type": "stream",
     "text": [
      "<class 'pandas.core.frame.DataFrame'>\n",
      "Int64Index: 11508 entries, 0 to 11507\n",
      "Data columns (total 5 columns):\n",
      " #   Column          Non-Null Count  Dtype         \n",
      "---  ------          --------------  -----         \n",
      " 0   id              11508 non-null  Int64         \n",
      " 1   lang            11508 non-null  category      \n",
      " 2   bot             11508 non-null  bool          \n",
      " 3   created_at      11508 non-null  datetime64[ns]\n",
      " 4   statuses_count  11109 non-null  Int64         \n",
      "dtypes: Int64(2), bool(1), category(1), datetime64[ns](1)\n",
      "memory usage: 405.3 KB\n"
     ]
    }
   ],
   "source": [
    "df_users.info()"
   ]
  },
  {
   "cell_type": "markdown",
   "metadata": {},
   "source": [
    "### Tweets Dataframe\n",
    "Drop full row duplicates\n"
   ]
  },
  {
   "cell_type": "code",
   "execution_count": 779,
   "metadata": {},
   "outputs": [],
   "source": [
    "df_tweets_sample.drop_duplicates(inplace=True)"
   ]
  },
  {
   "cell_type": "markdown",
   "metadata": {},
   "source": [
    "See if there are duplicate tweets with different NaN attributes, in order to recover missing ones from the clone"
   ]
  },
  {
   "cell_type": "code",
   "execution_count": 780,
   "metadata": {},
   "outputs": [
    {
     "name": "stdout",
     "output_type": "stream",
     "text": [
      "132076\n"
     ]
    },
    {
     "data": {
      "text/html": [
       "<div>\n",
       "<style scoped>\n",
       "    .dataframe tbody tr th:only-of-type {\n",
       "        vertical-align: middle;\n",
       "    }\n",
       "\n",
       "    .dataframe tbody tr th {\n",
       "        vertical-align: top;\n",
       "    }\n",
       "\n",
       "    .dataframe thead th {\n",
       "        text-align: right;\n",
       "    }\n",
       "</style>\n",
       "<table border=\"1\" class=\"dataframe\">\n",
       "  <thead>\n",
       "    <tr style=\"text-align: right;\">\n",
       "      <th></th>\n",
       "      <th>id</th>\n",
       "      <th>user_id</th>\n",
       "      <th>retweet_count</th>\n",
       "      <th>reply_count</th>\n",
       "      <th>favorite_count</th>\n",
       "      <th>num_hashtags</th>\n",
       "      <th>num_urls</th>\n",
       "      <th>num_mentions</th>\n",
       "      <th>created_at</th>\n",
       "      <th>text</th>\n",
       "    </tr>\n",
       "  </thead>\n",
       "  <tbody>\n",
       "    <tr>\n",
       "      <th>937</th>\n",
       "      <td>&lt;NA&gt;</td>\n",
       "      <td>14980820</td>\n",
       "      <td>2</td>\n",
       "      <td>&lt;NA&gt;</td>\n",
       "      <td>&lt;NA&gt;</td>\n",
       "      <td>&lt;NA&gt;</td>\n",
       "      <td>&lt;NA&gt;</td>\n",
       "      <td>3</td>\n",
       "      <td>2020-05-02 10:36:41</td>\n",
       "      <td>RT @First4Traffic: Chopper4 over I-270 at the ...</td>\n",
       "    </tr>\n",
       "    <tr>\n",
       "      <th>938</th>\n",
       "      <td>&lt;NA&gt;</td>\n",
       "      <td>14980820</td>\n",
       "      <td>10</td>\n",
       "      <td>&lt;NA&gt;</td>\n",
       "      <td>&lt;NA&gt;</td>\n",
       "      <td>&lt;NA&gt;</td>\n",
       "      <td>&lt;NA&gt;</td>\n",
       "      <td>&lt;NA&gt;</td>\n",
       "      <td>2020-04-02 22:00:22</td>\n",
       "      <td>&lt;NA&gt;</td>\n",
       "    </tr>\n",
       "    <tr>\n",
       "      <th>3483</th>\n",
       "      <td>&lt;NA&gt;</td>\n",
       "      <td>15084319</td>\n",
       "      <td>63</td>\n",
       "      <td>&lt;NA&gt;</td>\n",
       "      <td>&lt;NA&gt;</td>\n",
       "      <td>&lt;NA&gt;</td>\n",
       "      <td>&lt;NA&gt;</td>\n",
       "      <td>1</td>\n",
       "      <td>2019-06-05 15:11:02</td>\n",
       "      <td>RT @hao520: 任何人都應該做好隨時從一份工作中撤離的準備，不論多喜歡或做了多久。工...</td>\n",
       "    </tr>\n",
       "    <tr>\n",
       "      <th>3484</th>\n",
       "      <td>&lt;NA&gt;</td>\n",
       "      <td>15084319</td>\n",
       "      <td>0</td>\n",
       "      <td>&lt;NA&gt;</td>\n",
       "      <td>&lt;NA&gt;</td>\n",
       "      <td>&lt;NA&gt;</td>\n",
       "      <td>&lt;NA&gt;</td>\n",
       "      <td>0</td>\n",
       "      <td>2019-01-24 02:50:52</td>\n",
       "      <td>原來最擋餓是油脂，可是我不想餓也不想胖啊囧</td>\n",
       "    </tr>\n",
       "    <tr>\n",
       "      <th>1709</th>\n",
       "      <td>&lt;NA&gt;</td>\n",
       "      <td>15367428</td>\n",
       "      <td>&lt;NA&gt;</td>\n",
       "      <td>&lt;NA&gt;</td>\n",
       "      <td>&lt;NA&gt;</td>\n",
       "      <td>&lt;NA&gt;</td>\n",
       "      <td>&lt;NA&gt;</td>\n",
       "      <td>&lt;NA&gt;</td>\n",
       "      <td>2017-03-07 12:04:51</td>\n",
       "      <td>Where the FUCK is the runway?  I'm like 30 met...</td>\n",
       "    </tr>\n",
       "    <tr>\n",
       "      <th>...</th>\n",
       "      <td>...</td>\n",
       "      <td>...</td>\n",
       "      <td>...</td>\n",
       "      <td>...</td>\n",
       "      <td>...</td>\n",
       "      <td>...</td>\n",
       "      <td>...</td>\n",
       "      <td>...</td>\n",
       "      <td>...</td>\n",
       "      <td>...</td>\n",
       "    </tr>\n",
       "    <tr>\n",
       "      <th>3043</th>\n",
       "      <td>&lt;NA&gt;</td>\n",
       "      <td>3156622237</td>\n",
       "      <td>0</td>\n",
       "      <td>&lt;NA&gt;</td>\n",
       "      <td>&lt;NA&gt;</td>\n",
       "      <td>&lt;NA&gt;</td>\n",
       "      <td>&lt;NA&gt;</td>\n",
       "      <td>0</td>\n",
       "      <td>2020-05-01 10:47:00</td>\n",
       "      <td>ಠ_ಠ</td>\n",
       "    </tr>\n",
       "    <tr>\n",
       "      <th>3044</th>\n",
       "      <td>&lt;NA&gt;</td>\n",
       "      <td>3156622237</td>\n",
       "      <td>0</td>\n",
       "      <td>&lt;NA&gt;</td>\n",
       "      <td>&lt;NA&gt;</td>\n",
       "      <td>&lt;NA&gt;</td>\n",
       "      <td>&lt;NA&gt;</td>\n",
       "      <td>&lt;NA&gt;</td>\n",
       "      <td>2020-04-30 22:14:21</td>\n",
       "      <td>&lt;NA&gt;</td>\n",
       "    </tr>\n",
       "    <tr>\n",
       "      <th>3045</th>\n",
       "      <td>&lt;NA&gt;</td>\n",
       "      <td>3156622237</td>\n",
       "      <td>0</td>\n",
       "      <td>&lt;NA&gt;</td>\n",
       "      <td>&lt;NA&gt;</td>\n",
       "      <td>&lt;NA&gt;</td>\n",
       "      <td>&lt;NA&gt;</td>\n",
       "      <td>0</td>\n",
       "      <td>2020-05-01 16:11:14</td>\n",
       "      <td>Ever seen http://t.co/mL3TmFuRkl? they have us...</td>\n",
       "    </tr>\n",
       "    <tr>\n",
       "      <th>3046</th>\n",
       "      <td>&lt;NA&gt;</td>\n",
       "      <td>3156622237</td>\n",
       "      <td>0</td>\n",
       "      <td>&lt;NA&gt;</td>\n",
       "      <td>&lt;NA&gt;</td>\n",
       "      <td>&lt;NA&gt;</td>\n",
       "      <td>&lt;NA&gt;</td>\n",
       "      <td>&lt;NA&gt;</td>\n",
       "      <td>2020-05-01 21:20:46</td>\n",
       "      <td>&lt;NA&gt;</td>\n",
       "    </tr>\n",
       "    <tr>\n",
       "      <th>3047</th>\n",
       "      <td>&lt;NA&gt;</td>\n",
       "      <td>3156622237</td>\n",
       "      <td>0</td>\n",
       "      <td>&lt;NA&gt;</td>\n",
       "      <td>&lt;NA&gt;</td>\n",
       "      <td>&lt;NA&gt;</td>\n",
       "      <td>&lt;NA&gt;</td>\n",
       "      <td>0</td>\n",
       "      <td>2020-05-01 15:41:47</td>\n",
       "      <td>I think. It was Michael Jackson cover band ever.</td>\n",
       "    </tr>\n",
       "  </tbody>\n",
       "</table>\n",
       "<p>3656 rows × 10 columns</p>\n",
       "</div>"
      ],
      "text/plain": [
       "        id     user_id  retweet_count  reply_count  favorite_count  \\\n",
       "937   <NA>    14980820              2         <NA>            <NA>   \n",
       "938   <NA>    14980820             10         <NA>            <NA>   \n",
       "3483  <NA>    15084319             63         <NA>            <NA>   \n",
       "3484  <NA>    15084319              0         <NA>            <NA>   \n",
       "1709  <NA>    15367428           <NA>         <NA>            <NA>   \n",
       "...    ...         ...            ...          ...             ...   \n",
       "3043  <NA>  3156622237              0         <NA>            <NA>   \n",
       "3044  <NA>  3156622237              0         <NA>            <NA>   \n",
       "3045  <NA>  3156622237              0         <NA>            <NA>   \n",
       "3046  <NA>  3156622237              0         <NA>            <NA>   \n",
       "3047  <NA>  3156622237              0         <NA>            <NA>   \n",
       "\n",
       "      num_hashtags  num_urls  num_mentions          created_at  \\\n",
       "937           <NA>      <NA>             3 2020-05-02 10:36:41   \n",
       "938           <NA>      <NA>          <NA> 2020-04-02 22:00:22   \n",
       "3483          <NA>      <NA>             1 2019-06-05 15:11:02   \n",
       "3484          <NA>      <NA>             0 2019-01-24 02:50:52   \n",
       "1709          <NA>      <NA>          <NA> 2017-03-07 12:04:51   \n",
       "...            ...       ...           ...                 ...   \n",
       "3043          <NA>      <NA>             0 2020-05-01 10:47:00   \n",
       "3044          <NA>      <NA>          <NA> 2020-04-30 22:14:21   \n",
       "3045          <NA>      <NA>             0 2020-05-01 16:11:14   \n",
       "3046          <NA>      <NA>          <NA> 2020-05-01 21:20:46   \n",
       "3047          <NA>      <NA>             0 2020-05-01 15:41:47   \n",
       "\n",
       "                                                   text  \n",
       "937   RT @First4Traffic: Chopper4 over I-270 at the ...  \n",
       "938                                                <NA>  \n",
       "3483  RT @hao520: 任何人都應該做好隨時從一份工作中撤離的準備，不論多喜歡或做了多久。工...  \n",
       "3484                              原來最擋餓是油脂，可是我不想餓也不想胖啊囧  \n",
       "1709  Where the FUCK is the runway?  I'm like 30 met...  \n",
       "...                                                 ...  \n",
       "3043                                                ಠ_ಠ  \n",
       "3044                                               <NA>  \n",
       "3045  Ever seen http://t.co/mL3TmFuRkl? they have us...  \n",
       "3046                                               <NA>  \n",
       "3047   I think. It was Michael Jackson cover band ever.  \n",
       "\n",
       "[3656 rows x 10 columns]"
      ]
     },
     "execution_count": 780,
     "metadata": {},
     "output_type": "execute_result"
    }
   ],
   "source": [
    "df_tweets_duplicates = df_tweets_sample.copy()\n",
    "# Find duplicates on tweet id and user_id features\n",
    "df_tweets_duplicates_check = df_tweets_duplicates.duplicated(subset=[\"id\", \"user_id\"])\n",
    "print(len(df_tweets_duplicates_check))\n",
    "\n",
    "# Select [\"id\", \"user_id\"] that have clones\n",
    "df_tweets_duplicates_2 = df_tweets_duplicates[df_tweets_duplicates_check]\n",
    "df_tweets_duplicates_R = df_tweets_duplicates_2[[\"id\", \"user_id\"]]\n",
    "\n",
    "# Right join to select them\n",
    "df_tweets_merge = df_tweets_duplicates.merge(df_tweets_duplicates_R,on=[\"id\",\"user_id\"],how=\"right\")\n",
    "\n",
    "df_tweets_merge.dropna(subset=['user_id'], inplace=True)\n",
    "df_tweets_merge.sort_values([\"id\", \"user_id\"])"
   ]
  },
  {
   "cell_type": "code",
   "execution_count": 781,
   "metadata": {},
   "outputs": [
    {
     "data": {
      "text/html": [
       "<div>\n",
       "<style scoped>\n",
       "    .dataframe tbody tr th:only-of-type {\n",
       "        vertical-align: middle;\n",
       "    }\n",
       "\n",
       "    .dataframe tbody tr th {\n",
       "        vertical-align: top;\n",
       "    }\n",
       "\n",
       "    .dataframe thead th {\n",
       "        text-align: right;\n",
       "    }\n",
       "</style>\n",
       "<table border=\"1\" class=\"dataframe\">\n",
       "  <thead>\n",
       "    <tr style=\"text-align: right;\">\n",
       "      <th></th>\n",
       "      <th>id</th>\n",
       "      <th>user_id</th>\n",
       "      <th>retweet_count</th>\n",
       "      <th>reply_count</th>\n",
       "      <th>favorite_count</th>\n",
       "      <th>num_hashtags</th>\n",
       "      <th>num_urls</th>\n",
       "      <th>num_mentions</th>\n",
       "      <th>created_at</th>\n",
       "      <th>text</th>\n",
       "    </tr>\n",
       "  </thead>\n",
       "  <tbody>\n",
       "    <tr>\n",
       "      <th>0</th>\n",
       "      <td>528578456452612096</td>\n",
       "      <td>567430901</td>\n",
       "      <td>0</td>\n",
       "      <td>0</td>\n",
       "      <td>0</td>\n",
       "      <td>0</td>\n",
       "      <td>0</td>\n",
       "      <td>0</td>\n",
       "      <td>2019-11-03 16:04:59</td>\n",
       "      <td>La sera, a letto.Lui:- FarÃ² di te la donna pi...</td>\n",
       "    </tr>\n",
       "    <tr>\n",
       "      <th>1</th>\n",
       "      <td>492852780101406720</td>\n",
       "      <td>277506943</td>\n",
       "      <td>0</td>\n",
       "      <td>0</td>\n",
       "      <td>2</td>\n",
       "      <td>1</td>\n",
       "      <td>0</td>\n",
       "      <td>0</td>\n",
       "      <td>2019-07-28 02:03:54</td>\n",
       "      <td>#RFGoNaked http://t.co/eaf1sO4TWL</td>\n",
       "    </tr>\n",
       "    <tr>\n",
       "      <th>2</th>\n",
       "      <td>888885286917605</td>\n",
       "      <td>317296274</td>\n",
       "      <td>0</td>\n",
       "      <td>&lt;NA&gt;</td>\n",
       "      <td>&lt;NA&gt;</td>\n",
       "      <td>&lt;NA&gt;</td>\n",
       "      <td>&lt;NA&gt;</td>\n",
       "      <td>&lt;NA&gt;</td>\n",
       "      <td>2020-03-21 17:43:22</td>\n",
       "      <td>Volunteers report 100% retail tobacco complian...</td>\n",
       "    </tr>\n",
       "    <tr>\n",
       "      <th>3</th>\n",
       "      <td>516101108960206848</td>\n",
       "      <td>1372026204</td>\n",
       "      <td>0</td>\n",
       "      <td>0</td>\n",
       "      <td>0</td>\n",
       "      <td>4</td>\n",
       "      <td>1</td>\n",
       "      <td>0</td>\n",
       "      <td>2019-09-30 05:44:27</td>\n",
       "      <td>What HR Lessons Did I Learn Whilst Managing Me...</td>\n",
       "    </tr>\n",
       "    <tr>\n",
       "      <th>4</th>\n",
       "      <td>528187250392461312</td>\n",
       "      <td>468101494</td>\n",
       "      <td>0</td>\n",
       "      <td>0</td>\n",
       "      <td>0</td>\n",
       "      <td>0</td>\n",
       "      <td>0</td>\n",
       "      <td>0</td>\n",
       "      <td>2019-11-02 14:10:28</td>\n",
       "      <td>-Cara, ti voglio POSSEDERE dove non te ti ha m...</td>\n",
       "    </tr>\n",
       "  </tbody>\n",
       "</table>\n",
       "</div>"
      ],
      "text/plain": [
       "                   id     user_id  retweet_count  reply_count  favorite_count  \\\n",
       "0  528578456452612096   567430901              0            0               0   \n",
       "1  492852780101406720   277506943              0            0               2   \n",
       "2     888885286917605   317296274              0         <NA>            <NA>   \n",
       "3  516101108960206848  1372026204              0            0               0   \n",
       "4  528187250392461312   468101494              0            0               0   \n",
       "\n",
       "   num_hashtags  num_urls  num_mentions          created_at  \\\n",
       "0             0         0             0 2019-11-03 16:04:59   \n",
       "1             1         0             0 2019-07-28 02:03:54   \n",
       "2          <NA>      <NA>          <NA> 2020-03-21 17:43:22   \n",
       "3             4         1             0 2019-09-30 05:44:27   \n",
       "4             0         0             0 2019-11-02 14:10:28   \n",
       "\n",
       "                                                text  \n",
       "0  La sera, a letto.Lui:- FarÃ² di te la donna pi...  \n",
       "1                  #RFGoNaked http://t.co/eaf1sO4TWL  \n",
       "2  Volunteers report 100% retail tobacco complian...  \n",
       "3  What HR Lessons Did I Learn Whilst Managing Me...  \n",
       "4  -Cara, ti voglio POSSEDERE dove non te ti ha m...  "
      ]
     },
     "execution_count": 781,
     "metadata": {},
     "output_type": "execute_result"
    }
   ],
   "source": [
    "df_tweets_duplicates.head()"
   ]
  },
  {
   "cell_type": "code",
   "execution_count": 782,
   "metadata": {},
   "outputs": [
    {
     "name": "stdout",
     "output_type": "stream",
     "text": [
      "<class 'pandas.core.frame.DataFrame'>\n",
      "Int64Index: 132076 entries, 0 to 136646\n",
      "Data columns (total 10 columns):\n",
      " #   Column          Non-Null Count   Dtype         \n",
      "---  ------          --------------   -----         \n",
      " 0   id              128264 non-null  Int64         \n",
      " 1   user_id         132076 non-null  Int64         \n",
      " 2   retweet_count   126915 non-null  Int64         \n",
      " 3   reply_count     117760 non-null  Int64         \n",
      " 4   favorite_count  117765 non-null  Int64         \n",
      " 5   num_hashtags    117758 non-null  Int64         \n",
      " 6   num_urls        117764 non-null  Int64         \n",
      " 7   num_mentions    124178 non-null  Int64         \n",
      " 8   created_at      132076 non-null  datetime64[ns]\n",
      " 9   text            127864 non-null  string        \n",
      "dtypes: Int64(8), datetime64[ns](1), string(1)\n",
      "memory usage: 12.1 MB\n"
     ]
    }
   ],
   "source": [
    "df_tweets_sample.info()"
   ]
  },
  {
   "cell_type": "markdown",
   "metadata": {},
   "source": [
    "We now see the heatmap of user and tweets without duplicates:"
   ]
  },
  {
   "cell_type": "code",
   "execution_count": 783,
   "metadata": {},
   "outputs": [
    {
     "data": {
      "image/png": "[encoded data removed]",
      "text/plain": [
       "<Figure size 1200x500 with 1 Axes>"
      ]
     },
     "metadata": {},
     "output_type": "display_data"
    }
   ],
   "source": [
    "fig, ax = plt.subplots(figsize=(12,5)) \n",
    "sn.heatmap(df_users.isnull(), cbar=False, xticklabels=True, ax=ax, yticklabels=False)\n",
    "plt.show()"
   ]
  },
  {
   "cell_type": "code",
   "execution_count": 784,
   "metadata": {},
   "outputs": [
    {
     "data": {
      "image/png": "[encoded data removed]",
      "text/plain": [
       "<Figure size 1200x500 with 1 Axes>"
      ]
     },
     "metadata": {},
     "output_type": "display_data"
    }
   ],
   "source": [
    "fig, ax = plt.subplots(figsize=(12,5)) \n",
    "sn.heatmap(df_tweets_sample.isnull(), cbar=False, xticklabels=True, ax=ax, yticklabels=False)\n",
    "plt.show()"
   ]
  },
  {
   "cell_type": "markdown",
   "metadata": {},
   "source": [
    "## Manage NaN before joining tables"
   ]
  },
  {
   "cell_type": "markdown",
   "metadata": {},
   "source": [
    "Better do before join in order to work only on Users Dataframe which is significantly smaller"
   ]
  },
  {
   "cell_type": "markdown",
   "metadata": {},
   "source": [
    "As statuses_count in df_users contains only tweet count and not replies, while df_tweets contains also replies, we cannot estimate NaN statuses_count with the number of the users tweets, so we fill those NaNs with median of bot and median of not-bot users"
   ]
  },
  {
   "cell_type": "code",
   "execution_count": 785,
   "metadata": {},
   "outputs": [],
   "source": [
    "def subsititute_with_median_user(row, bot_median, not_bot_median):\n",
    "    if pd.isnull(row.statuses_count):\n",
    "        if row['bot'] == True:\n",
    "            row.statuses_count = bot_median\n",
    "        else:\n",
    "            row.statuses_count = not_bot_median\n",
    "    return row"
   ]
  },
  {
   "cell_type": "code",
   "execution_count": 786,
   "metadata": {},
   "outputs": [
    {
     "name": "stdout",
     "output_type": "stream",
     "text": [
      "<class 'pandas.core.frame.DataFrame'>\n",
      "Int64Index: 11508 entries, 0 to 11507\n",
      "Data columns (total 5 columns):\n",
      " #   Column          Non-Null Count  Dtype         \n",
      "---  ------          --------------  -----         \n",
      " 0   id              11508 non-null  Int64         \n",
      " 1   lang            11508 non-null  category      \n",
      " 2   bot             11508 non-null  bool          \n",
      " 3   created_at      11508 non-null  datetime64[ns]\n",
      " 4   statuses_count  11109 non-null  Int64         \n",
      "dtypes: Int64(2), bool(1), category(1), datetime64[ns](1)\n",
      "memory usage: 405.3 KB\n"
     ]
    }
   ],
   "source": [
    "df_users.info()"
   ]
  },
  {
   "cell_type": "code",
   "execution_count": 787,
   "metadata": {},
   "outputs": [
    {
     "name": "stdout",
     "output_type": "stream",
     "text": [
      "bot median statuses_count: 53\n",
      "not bot median statuses_count: 2041\n"
     ]
    }
   ],
   "source": [
    "# Statuses_count median for bot and not-bot users\n",
    "bot_median = df_users.loc[df_users['bot'] == True].statuses_count.median().astype(np.int64)\n",
    "not_bot_median = df_users.loc[df_users['bot'] == False].statuses_count.median().astype(np.int64)\n",
    "print('bot median statuses_count:', bot_median)\n",
    "print('not bot median statuses_count:', not_bot_median)\n",
    "\n",
    "# Apply substitution\n",
    "df_users = df_users.apply(func=subsititute_with_median_user, axis=1, args=(bot_median, not_bot_median))"
   ]
  },
  {
   "cell_type": "code",
   "execution_count": 788,
   "metadata": {},
   "outputs": [
    {
     "name": "stdout",
     "output_type": "stream",
     "text": [
      "<class 'pandas.core.frame.DataFrame'>\n",
      "Int64Index: 11508 entries, 0 to 11507\n",
      "Data columns (total 5 columns):\n",
      " #   Column          Non-Null Count  Dtype         \n",
      "---  ------          --------------  -----         \n",
      " 0   id              11508 non-null  int64         \n",
      " 1   lang            11508 non-null  object        \n",
      " 2   bot             11508 non-null  bool          \n",
      " 3   created_at      11508 non-null  datetime64[ns]\n",
      " 4   statuses_count  11508 non-null  int64         \n",
      "dtypes: bool(1), datetime64[ns](1), int64(2), object(1)\n",
      "memory usage: 460.8+ KB\n"
     ]
    }
   ],
   "source": [
    "df_users.info()"
   ]
  },
  {
   "cell_type": "markdown",
   "metadata": {},
   "source": [
    "## Joining tables\n",
    "Joining the tables to make sure we work only on the user into the user DB"
   ]
  },
  {
   "cell_type": "code",
   "execution_count": 789,
   "metadata": {},
   "outputs": [
    {
     "name": "stdout",
     "output_type": "stream",
     "text": [
      "<class 'pandas.core.frame.DataFrame'>\n",
      "Int64Index: 132076 entries, 0 to 136646\n",
      "Data columns (total 10 columns):\n",
      " #   Column          Non-Null Count   Dtype         \n",
      "---  ------          --------------   -----         \n",
      " 0   id              128264 non-null  Int64         \n",
      " 1   user_id         132076 non-null  Int64         \n",
      " 2   retweet_count   126915 non-null  Int64         \n",
      " 3   reply_count     117760 non-null  Int64         \n",
      " 4   favorite_count  117765 non-null  Int64         \n",
      " 5   num_hashtags    117758 non-null  Int64         \n",
      " 6   num_urls        117764 non-null  Int64         \n",
      " 7   num_mentions    124178 non-null  Int64         \n",
      " 8   created_at      132076 non-null  datetime64[ns]\n",
      " 9   text            127864 non-null  string        \n",
      "dtypes: Int64(8), datetime64[ns](1), string(1)\n",
      "memory usage: 12.1 MB\n"
     ]
    }
   ],
   "source": [
    "df_tweets_sample.info()"
   ]
  },
  {
   "cell_type": "code",
   "execution_count": 790,
   "metadata": {},
   "outputs": [],
   "source": [
    "# Join\n",
    "df_joined = pd.merge(df_tweets_sample, df_users, left_on='user_id', right_on='id', how='inner', suffixes=('', '_user'))"
   ]
  },
  {
   "cell_type": "code",
   "execution_count": 791,
   "metadata": {},
   "outputs": [],
   "source": [
    "# Drop duplicate user_id column\n",
    "df_joined.drop(columns=['id_user'], inplace=True)"
   ]
  },
  {
   "cell_type": "code",
   "execution_count": 792,
   "metadata": {},
   "outputs": [
    {
     "name": "stdout",
     "output_type": "stream",
     "text": [
      "<class 'pandas.core.frame.DataFrame'>\n",
      "Int64Index: 132071 entries, 0 to 132070\n",
      "Data columns (total 14 columns):\n",
      " #   Column           Non-Null Count   Dtype         \n",
      "---  ------           --------------   -----         \n",
      " 0   id               128259 non-null  Int64         \n",
      " 1   user_id          132071 non-null  Int64         \n",
      " 2   retweet_count    126913 non-null  Int64         \n",
      " 3   reply_count      117760 non-null  Int64         \n",
      " 4   favorite_count   117765 non-null  Int64         \n",
      " 5   num_hashtags     117758 non-null  Int64         \n",
      " 6   num_urls         117764 non-null  Int64         \n",
      " 7   num_mentions     124175 non-null  Int64         \n",
      " 8   created_at       132071 non-null  datetime64[ns]\n",
      " 9   text             127860 non-null  string        \n",
      " 10  lang             132071 non-null  object        \n",
      " 11  bot              132071 non-null  bool          \n",
      " 12  created_at_user  132071 non-null  datetime64[ns]\n",
      " 13  statuses_count   132071 non-null  int64         \n",
      "dtypes: Int64(8), bool(1), datetime64[ns](2), int64(1), object(1), string(1)\n",
      "memory usage: 15.2+ MB\n"
     ]
    }
   ],
   "source": [
    "df_joined.info()"
   ]
  },
  {
   "cell_type": "markdown",
   "metadata": {},
   "source": [
    "## Manage NaN after joining tables"
   ]
  },
  {
   "cell_type": "markdown",
   "metadata": {},
   "source": [
    "### Tweets Manage NaN\n",
    "Fill the NaN in the numeric columns"
   ]
  },
  {
   "cell_type": "markdown",
   "metadata": {},
   "source": [
    "Create Dataframe with count of **valid** (== non-null) numeric tweet attributes grouped by users"
   ]
  },
  {
   "cell_type": "code",
   "execution_count": 793,
   "metadata": {},
   "outputs": [],
   "source": [
    "df_grouped_by_user_num_valid = df_joined.groupby(['user_id']).count().iloc[:, 1 : 7]"
   ]
  },
  {
   "cell_type": "code",
   "execution_count": 794,
   "metadata": {},
   "outputs": [
    {
     "name": "stdout",
     "output_type": "stream",
     "text": [
      "<class 'pandas.core.frame.DataFrame'>\n",
      "RangeIndex: 8381 entries, 0 to 8380\n",
      "Data columns (total 7 columns):\n",
      " #   Column          Non-Null Count  Dtype\n",
      "---  ------          --------------  -----\n",
      " 0   user_id         8381 non-null   int64\n",
      " 1   retweet_count   8381 non-null   int64\n",
      " 2   reply_count     8381 non-null   int64\n",
      " 3   favorite_count  8381 non-null   int64\n",
      " 4   num_hashtags    8381 non-null   int64\n",
      " 5   num_urls        8381 non-null   int64\n",
      " 6   num_mentions    8381 non-null   int64\n",
      "dtypes: int64(7)\n",
      "memory usage: 458.5 KB\n"
     ]
    }
   ],
   "source": [
    "df_grouped_by_user_num_valid.reset_index(inplace=True)\n",
    "df_grouped_by_user_num_valid.info()"
   ]
  },
  {
   "cell_type": "markdown",
   "metadata": {},
   "source": [
    "Create Dataframe with **median** value of numeric tweet attributes grouped by users"
   ]
  },
  {
   "cell_type": "code",
   "execution_count": 795,
   "metadata": {},
   "outputs": [],
   "source": [
    "df_grouped_by_user_median = df_joined.groupby(['user_id']).median().iloc[:, 1 : 7]\n",
    "df_grouped_by_user_median.apply(cast_int)\n",
    "df_grouped_by_user_median = df_grouped_by_user_median.astype('Int64')"
   ]
  },
  {
   "cell_type": "code",
   "execution_count": 796,
   "metadata": {},
   "outputs": [
    {
     "name": "stdout",
     "output_type": "stream",
     "text": [
      "<class 'pandas.core.frame.DataFrame'>\n",
      "RangeIndex: 8381 entries, 0 to 8380\n",
      "Data columns (total 7 columns):\n",
      " #   Column          Non-Null Count  Dtype\n",
      "---  ------          --------------  -----\n",
      " 0   user_id         8381 non-null   int64\n",
      " 1   retweet_count   8304 non-null   Int64\n",
      " 2   reply_count     8154 non-null   Int64\n",
      " 3   favorite_count  8154 non-null   Int64\n",
      " 4   num_hashtags    8154 non-null   Int64\n",
      " 5   num_urls        8154 non-null   Int64\n",
      " 6   num_mentions    8255 non-null   Int64\n",
      "dtypes: Int64(6), int64(1)\n",
      "memory usage: 507.6 KB\n"
     ]
    }
   ],
   "source": [
    "df_grouped_by_user_median.reset_index(inplace=True)\n",
    "df_grouped_by_user_median.info()"
   ]
  },
  {
   "cell_type": "markdown",
   "metadata": {},
   "source": [
    "Join the two support dataframes since they are both grouped by *user_id*"
   ]
  },
  {
   "cell_type": "code",
   "execution_count": 797,
   "metadata": {},
   "outputs": [],
   "source": [
    "df_grouped_by_user_joined = pd.merge(df_grouped_by_user_median, df_grouped_by_user_num_valid, left_on='user_id', right_on='user_id', how='inner', suffixes=('_median', '_valid'))"
   ]
  },
  {
   "cell_type": "code",
   "execution_count": 798,
   "metadata": {},
   "outputs": [
    {
     "name": "stdout",
     "output_type": "stream",
     "text": [
      "<class 'pandas.core.frame.DataFrame'>\n",
      "Int64Index: 8381 entries, 0 to 8380\n",
      "Data columns (total 13 columns):\n",
      " #   Column                 Non-Null Count  Dtype\n",
      "---  ------                 --------------  -----\n",
      " 0   user_id                8381 non-null   int64\n",
      " 1   retweet_count_median   8304 non-null   Int64\n",
      " 2   reply_count_median     8154 non-null   Int64\n",
      " 3   favorite_count_median  8154 non-null   Int64\n",
      " 4   num_hashtags_median    8154 non-null   Int64\n",
      " 5   num_urls_median        8154 non-null   Int64\n",
      " 6   num_mentions_median    8255 non-null   Int64\n",
      " 7   retweet_count_valid    8381 non-null   int64\n",
      " 8   reply_count_valid      8381 non-null   int64\n",
      " 9   favorite_count_valid   8381 non-null   int64\n",
      " 10  num_hashtags_valid     8381 non-null   int64\n",
      " 11  num_urls_valid         8381 non-null   int64\n",
      " 12  num_mentions_valid     8381 non-null   int64\n",
      "dtypes: Int64(6), int64(7)\n",
      "memory usage: 965.8 KB\n"
     ]
    }
   ],
   "source": [
    "df_grouped_by_user_joined.info()"
   ]
  },
  {
   "cell_type": "markdown",
   "metadata": {},
   "source": [
    "Add 'bot' column for each user with a merge with users DataFrame"
   ]
  },
  {
   "cell_type": "code",
   "execution_count": 799,
   "metadata": {},
   "outputs": [],
   "source": [
    "df_grouped_by_user_joined = pd.merge(df_grouped_by_user_joined, df_users[['id', 'bot']], left_on='user_id', right_on='id', how='inner', suffixes=('_', '_user'))\n",
    "df_grouped_by_user_joined.drop(columns=['id'], inplace=True)\n"
   ]
  },
  {
   "cell_type": "code",
   "execution_count": 800,
   "metadata": {},
   "outputs": [
    {
     "name": "stdout",
     "output_type": "stream",
     "text": [
      "<class 'pandas.core.frame.DataFrame'>\n",
      "Int64Index: 8381 entries, 0 to 8380\n",
      "Data columns (total 14 columns):\n",
      " #   Column                 Non-Null Count  Dtype\n",
      "---  ------                 --------------  -----\n",
      " 0   user_id                8381 non-null   int64\n",
      " 1   retweet_count_median   8304 non-null   Int64\n",
      " 2   reply_count_median     8154 non-null   Int64\n",
      " 3   favorite_count_median  8154 non-null   Int64\n",
      " 4   num_hashtags_median    8154 non-null   Int64\n",
      " 5   num_urls_median        8154 non-null   Int64\n",
      " 6   num_mentions_median    8255 non-null   Int64\n",
      " 7   retweet_count_valid    8381 non-null   int64\n",
      " 8   reply_count_valid      8381 non-null   int64\n",
      " 9   favorite_count_valid   8381 non-null   int64\n",
      " 10  num_hashtags_valid     8381 non-null   int64\n",
      " 11  num_urls_valid         8381 non-null   int64\n",
      " 12  num_mentions_valid     8381 non-null   int64\n",
      " 13  bot                    8381 non-null   bool \n",
      "dtypes: Int64(6), bool(1), int64(7)\n",
      "memory usage: 974.0 KB\n"
     ]
    }
   ],
   "source": [
    "df_grouped_by_user_joined.info()"
   ]
  },
  {
   "cell_type": "markdown",
   "metadata": {},
   "source": [
    "Define a function that for each attribute and for each user define the median value to use in case null substitution is needed.\n",
    "\n",
    "If for the user has less than *min_valid_user_values* tweets with a valid attribute, we use bot/not-bot median for that attribute and user instead of user attribute median."
   ]
  },
  {
   "cell_type": "code",
   "execution_count": 801,
   "metadata": {},
   "outputs": [],
   "source": [
    "def use_bot_or_user_median (row, col_name, bot_median, not_bot_median, min_valid_user_values):\n",
    "    col_median = col_name + '_median'\n",
    "    col_num_val = col_name + '_valid'\n",
    "\n",
    "    if row[col_num_val] < min_valid_user_values or pd.isna(row[col_num_val]):\n",
    "        if row['bot'] == True:\n",
    "            row[col_median] = bot_median\n",
    "        else:\n",
    "            row[col_median] = not_bot_median\n",
    "    return row\n",
    "    "
   ]
  },
  {
   "cell_type": "code",
   "execution_count": 802,
   "metadata": {},
   "outputs": [
    {
     "name": "stdout",
     "output_type": "stream",
     "text": [
      "bot median retweet_count: 0\n",
      "not bot median retweet_count: 0\n",
      "bot median reply_count: 0\n",
      "not bot median reply_count: 0\n",
      "bot median favorite_count: 0\n",
      "not bot median favorite_count: 0\n",
      "bot median num_hashtags: 0\n",
      "not bot median num_hashtags: 0\n",
      "bot median num_urls: 0\n",
      "not bot median num_urls: 0\n",
      "bot median num_mentions: 0\n",
      "not bot median num_mentions: 1\n"
     ]
    }
   ],
   "source": [
    "# Minimum value of other tweets with not-NaN feature\n",
    "min_valid_user_values = 20 \n",
    "\n",
    "for col_name in df_joined.iloc[:, 2 : 8]:\n",
    "    # Calculate median on the feature for bots and not-bots\n",
    "    bot_median = df_joined.loc[df_joined['bot'] == True][col_name].median().astype(np.int64)\n",
    "    not_bot_median = df_joined.loc[df_joined['bot'] == False][col_name].median().astype(np.int64)\n",
    "    print('bot median {}:'.format(col_name), bot_median)\n",
    "    print('not bot median {}:'.format(col_name), not_bot_median)\n",
    "\n",
    "    # Substittute in the support DataFrame the median for each user\n",
    "    df_grouped_by_user_joined = df_grouped_by_user_joined.apply(\n",
    "        func=use_bot_or_user_median, axis=1, args=(\n",
    "            col_name, bot_median, not_bot_median, min_valid_user_values))"
   ]
  },
  {
   "cell_type": "markdown",
   "metadata": {},
   "source": [
    "Drop *_num_valid* and 'bot' columns in support DataFrame"
   ]
  },
  {
   "cell_type": "code",
   "execution_count": 803,
   "metadata": {},
   "outputs": [],
   "source": [
    "df_grouped_by_user_joined = df_grouped_by_user_joined.iloc[: , :-7]"
   ]
  },
  {
   "cell_type": "code",
   "execution_count": 804,
   "metadata": {},
   "outputs": [
    {
     "name": "stdout",
     "output_type": "stream",
     "text": [
      "<class 'pandas.core.frame.DataFrame'>\n",
      "Int64Index: 8381 entries, 0 to 8380\n",
      "Data columns (total 7 columns):\n",
      " #   Column                 Non-Null Count  Dtype\n",
      "---  ------                 --------------  -----\n",
      " 0   user_id                8381 non-null   Int64\n",
      " 1   retweet_count_median   8381 non-null   Int64\n",
      " 2   reply_count_median     8381 non-null   Int64\n",
      " 3   favorite_count_median  8381 non-null   Int64\n",
      " 4   num_hashtags_median    8381 non-null   Int64\n",
      " 5   num_urls_median        8381 non-null   Int64\n",
      " 6   num_mentions_median    8381 non-null   Int64\n",
      "dtypes: Int64(7)\n",
      "memory usage: 581.1 KB\n"
     ]
    }
   ],
   "source": [
    "df_grouped_by_user_joined.info()"
   ]
  },
  {
   "cell_type": "markdown",
   "metadata": {},
   "source": [
    "Convert support DataFrame of medians into a nested dictionary in order to optimize access speed.\n",
    "\n",
    "Each key of the dict is the column name (*col_name_median*), each value is a subdictionary.\n",
    "Each subdictionary contains a key for each user_id with the eventual median to subsititute for that user in that column."
   ]
  },
  {
   "cell_type": "code",
   "execution_count": 805,
   "metadata": {},
   "outputs": [],
   "source": [
    "median_nested_dict = df_grouped_by_user_joined.set_index('user_id').to_dict()"
   ]
  },
  {
   "cell_type": "code",
   "execution_count": 809,
   "metadata": {},
   "outputs": [
    {
     "name": "stdout",
     "output_type": "stream",
     "text": [
      "<class 'pandas.core.frame.DataFrame'>\n",
      "Int64Index: 132071 entries, 0 to 132070\n",
      "Data columns (total 14 columns):\n",
      " #   Column           Non-Null Count   Dtype         \n",
      "---  ------           --------------   -----         \n",
      " 0   id               128259 non-null  Int64         \n",
      " 1   user_id          132071 non-null  Int64         \n",
      " 2   retweet_count    126913 non-null  Int64         \n",
      " 3   reply_count      117760 non-null  Int64         \n",
      " 4   favorite_count   117765 non-null  Int64         \n",
      " 5   num_hashtags     117758 non-null  Int64         \n",
      " 6   num_urls         117764 non-null  Int64         \n",
      " 7   num_mentions     124175 non-null  Int64         \n",
      " 8   created_at       132071 non-null  datetime64[ns]\n",
      " 9   text             127860 non-null  string        \n",
      " 10  lang             132071 non-null  object        \n",
      " 11  bot              132071 non-null  bool          \n",
      " 12  created_at_user  132071 non-null  datetime64[ns]\n",
      " 13  statuses_count   132071 non-null  int64         \n",
      "dtypes: Int64(8), bool(1), datetime64[ns](2), int64(1), object(1), string(1)\n",
      "memory usage: 15.2+ MB\n"
     ]
    }
   ],
   "source": [
    "df_joined.info()"
   ]
  },
  {
   "cell_type": "markdown",
   "metadata": {},
   "source": [
    "Substitute for each numeric tweet attributr in the *df_joined* DataFrame NaN values with values from median nested dictionary."
   ]
  },
  {
   "cell_type": "code",
   "execution_count": 811,
   "metadata": {},
   "outputs": [
    {
     "name": "stdout",
     "output_type": "stream",
     "text": [
      "Doing: retweet_count\n",
      "Doing: reply_count\n",
      "Doing: favorite_count\n",
      "Doing: num_hashtags\n",
      "Doing: num_urls\n",
      "Doing: num_mentions\n"
     ]
    }
   ],
   "source": [
    "# Minimum value of other tweets with not-NaN feature\n",
    "min_valid_user_values = 20 \n",
    "\n",
    "col_idx = 0\n",
    "\n",
    "df_joined.set_index('user_id', inplace=True)\n",
    "\n",
    "for col_name in df_joined.iloc[:, 1 : 7]:\n",
    "    print('Doing:',  col_name)\n",
    "    col_median = col_name + '_median'\n",
    "\n",
    "    df_joined[col_name].fillna(median_nested_dict[col_median], inplace=True)"
   ]
  },
  {
   "cell_type": "markdown",
   "metadata": {},
   "source": [
    "Substitute all NaN 'text' strings with \"\", the void string"
   ]
  },
  {
   "cell_type": "code",
   "execution_count": 812,
   "metadata": {},
   "outputs": [],
   "source": [
    "df_joined.text.fillna(value=\"\", inplace=True)"
   ]
  },
  {
   "cell_type": "code",
   "execution_count": 813,
   "metadata": {},
   "outputs": [
    {
     "name": "stdout",
     "output_type": "stream",
     "text": [
      "<class 'pandas.core.frame.DataFrame'>\n",
      "Index: 132071 entries, 567430901 to 2360925194\n",
      "Data columns (total 13 columns):\n",
      " #   Column           Non-Null Count   Dtype         \n",
      "---  ------           --------------   -----         \n",
      " 0   id               128259 non-null  Int64         \n",
      " 1   retweet_count    132071 non-null  Int64         \n",
      " 2   reply_count      132071 non-null  Int64         \n",
      " 3   favorite_count   132071 non-null  Int64         \n",
      " 4   num_hashtags     132071 non-null  Int64         \n",
      " 5   num_urls         132071 non-null  Int64         \n",
      " 6   num_mentions     132071 non-null  Int64         \n",
      " 7   created_at       132071 non-null  datetime64[ns]\n",
      " 8   text             132071 non-null  string        \n",
      " 9   lang             132071 non-null  object        \n",
      " 10  bot              132071 non-null  bool          \n",
      " 11  created_at_user  132071 non-null  datetime64[ns]\n",
      " 12  statuses_count   132071 non-null  int64         \n",
      "dtypes: Int64(7), bool(1), datetime64[ns](2), int64(1), object(1), string(1)\n",
      "memory usage: 14.1+ MB\n"
     ]
    }
   ],
   "source": [
    "df_joined.info()"
   ]
  },
  {
   "cell_type": "code",
   "execution_count": 814,
   "metadata": {},
   "outputs": [
    {
     "data": {
      "text/html": [
       "<div>\n",
       "<style scoped>\n",
       "    .dataframe tbody tr th:only-of-type {\n",
       "        vertical-align: middle;\n",
       "    }\n",
       "\n",
       "    .dataframe tbody tr th {\n",
       "        vertical-align: top;\n",
       "    }\n",
       "\n",
       "    .dataframe thead th {\n",
       "        text-align: right;\n",
       "    }\n",
       "</style>\n",
       "<table border=\"1\" class=\"dataframe\">\n",
       "  <thead>\n",
       "    <tr style=\"text-align: right;\">\n",
       "      <th></th>\n",
       "      <th>id</th>\n",
       "      <th>retweet_count</th>\n",
       "      <th>reply_count</th>\n",
       "      <th>favorite_count</th>\n",
       "      <th>num_hashtags</th>\n",
       "      <th>num_urls</th>\n",
       "      <th>num_mentions</th>\n",
       "      <th>created_at</th>\n",
       "      <th>text</th>\n",
       "      <th>lang</th>\n",
       "      <th>bot</th>\n",
       "      <th>created_at_user</th>\n",
       "      <th>statuses_count</th>\n",
       "    </tr>\n",
       "    <tr>\n",
       "      <th>user_id</th>\n",
       "      <th></th>\n",
       "      <th></th>\n",
       "      <th></th>\n",
       "      <th></th>\n",
       "      <th></th>\n",
       "      <th></th>\n",
       "      <th></th>\n",
       "      <th></th>\n",
       "      <th></th>\n",
       "      <th></th>\n",
       "      <th></th>\n",
       "      <th></th>\n",
       "      <th></th>\n",
       "    </tr>\n",
       "  </thead>\n",
       "  <tbody>\n",
       "    <tr>\n",
       "      <th>567430901</th>\n",
       "      <td>528578456452612096</td>\n",
       "      <td>0</td>\n",
       "      <td>0</td>\n",
       "      <td>0</td>\n",
       "      <td>0</td>\n",
       "      <td>0</td>\n",
       "      <td>0</td>\n",
       "      <td>2019-11-03 16:04:59</td>\n",
       "      <td>La sera, a letto.Lui:- FarÃ² di te la donna pi...</td>\n",
       "      <td>it</td>\n",
       "      <td>True</td>\n",
       "      <td>2017-05-02 18:18:01</td>\n",
       "      <td>2223</td>\n",
       "    </tr>\n",
       "    <tr>\n",
       "      <th>567430901</th>\n",
       "      <td>340666644739284992</td>\n",
       "      <td>0</td>\n",
       "      <td>0</td>\n",
       "      <td>0</td>\n",
       "      <td>0</td>\n",
       "      <td>0</td>\n",
       "      <td>0</td>\n",
       "      <td>2018-06-03 03:10:32</td>\n",
       "      <td>Non dimentichiamoci, per caritÃ , che il cane ...</td>\n",
       "      <td>it</td>\n",
       "      <td>True</td>\n",
       "      <td>2017-05-02 18:18:01</td>\n",
       "      <td>2223</td>\n",
       "    </tr>\n",
       "    <tr>\n",
       "      <th>567430901</th>\n",
       "      <td>515125748949348416</td>\n",
       "      <td>1</td>\n",
       "      <td>0</td>\n",
       "      <td>0</td>\n",
       "      <td>0</td>\n",
       "      <td>0</td>\n",
       "      <td>0</td>\n",
       "      <td>2019-09-27 13:08:43</td>\n",
       "      <td>ChissÃ , prima degli smartphone, a chi sorride...</td>\n",
       "      <td>it</td>\n",
       "      <td>True</td>\n",
       "      <td>2017-05-02 18:18:01</td>\n",
       "      <td>2223</td>\n",
       "    </tr>\n",
       "    <tr>\n",
       "      <th>567430901</th>\n",
       "      <td>353446566364844032</td>\n",
       "      <td>0</td>\n",
       "      <td>0</td>\n",
       "      <td>0</td>\n",
       "      <td>0</td>\n",
       "      <td>0</td>\n",
       "      <td>0</td>\n",
       "      <td>2018-07-08 09:33:22</td>\n",
       "      <td>\"Una cosa bella Ã¨ una gioia per sempre; la su...</td>\n",
       "      <td>it</td>\n",
       "      <td>True</td>\n",
       "      <td>2017-05-02 18:18:01</td>\n",
       "      <td>2223</td>\n",
       "    </tr>\n",
       "    <tr>\n",
       "      <th>567430901</th>\n",
       "      <td>369003095553884160</td>\n",
       "      <td>0</td>\n",
       "      <td>0</td>\n",
       "      <td>0</td>\n",
       "      <td>0</td>\n",
       "      <td>0</td>\n",
       "      <td>0</td>\n",
       "      <td>2018-08-20 07:49:28</td>\n",
       "      <td>Ho appena defollowato una mia mica su facebook</td>\n",
       "      <td>it</td>\n",
       "      <td>True</td>\n",
       "      <td>2017-05-02 18:18:01</td>\n",
       "      <td>2223</td>\n",
       "    </tr>\n",
       "  </tbody>\n",
       "</table>\n",
       "</div>"
      ],
      "text/plain": [
       "                           id  retweet_count  reply_count  favorite_count  \\\n",
       "user_id                                                                     \n",
       "567430901  528578456452612096              0            0               0   \n",
       "567430901  340666644739284992              0            0               0   \n",
       "567430901  515125748949348416              1            0               0   \n",
       "567430901  353446566364844032              0            0               0   \n",
       "567430901  369003095553884160              0            0               0   \n",
       "\n",
       "           num_hashtags  num_urls  num_mentions          created_at  \\\n",
       "user_id                                                               \n",
       "567430901             0         0             0 2019-11-03 16:04:59   \n",
       "567430901             0         0             0 2018-06-03 03:10:32   \n",
       "567430901             0         0             0 2019-09-27 13:08:43   \n",
       "567430901             0         0             0 2018-07-08 09:33:22   \n",
       "567430901             0         0             0 2018-08-20 07:49:28   \n",
       "\n",
       "                                                        text lang   bot  \\\n",
       "user_id                                                                   \n",
       "567430901  La sera, a letto.Lui:- FarÃ² di te la donna pi...   it  True   \n",
       "567430901  Non dimentichiamoci, per caritÃ , che il cane ...   it  True   \n",
       "567430901  ChissÃ , prima degli smartphone, a chi sorride...   it  True   \n",
       "567430901  \"Una cosa bella Ã¨ una gioia per sempre; la su...   it  True   \n",
       "567430901     Ho appena defollowato una mia mica su facebook   it  True   \n",
       "\n",
       "              created_at_user  statuses_count  \n",
       "user_id                                        \n",
       "567430901 2017-05-02 18:18:01            2223  \n",
       "567430901 2017-05-02 18:18:01            2223  \n",
       "567430901 2017-05-02 18:18:01            2223  \n",
       "567430901 2017-05-02 18:18:01            2223  \n",
       "567430901 2017-05-02 18:18:01            2223  "
      ]
     },
     "execution_count": 814,
     "metadata": {},
     "output_type": "execute_result"
    }
   ],
   "source": [
    "df_joined.head()"
   ]
  },
  {
   "cell_type": "markdown",
   "metadata": {},
   "source": [
    "## Correlation matrix\n",
    "Now we see the correlation matrix to spot if there are any significant correlations between the attributes in the sample:"
   ]
  },
  {
   "cell_type": "code",
   "execution_count": 815,
   "metadata": {},
   "outputs": [
    {
     "data": {
      "image/png": "[encoded data removed]",
      "text/plain": [
       "<Figure size 1500x1500 with 2 Axes>"
      ]
     },
     "metadata": {},
     "output_type": "display_data"
    }
   ],
   "source": [
    "corr_matrix = df_joined.corr()\n",
    "\n",
    "fig, ax = plt.subplots(figsize=(15,15))         # Sample figsize in inches\n",
    "mask = np.zeros_like(corr_matrix)\n",
    "mask[np.triu_indices_from(mask)] = True\n",
    "\n",
    "# Draw the heatmap with the mask\n",
    "sn.heatmap(corr_matrix, annot=True, mask=mask, square=True)\n",
    "\n",
    "plt.show()"
   ]
  },
  {
   "cell_type": "markdown",
   "metadata": {},
   "source": [
    "We found no attribute with high enough correlation to be excluded"
   ]
  },
  {
   "cell_type": "markdown",
   "metadata": {},
   "source": [
    "See how many tweets are generated from bot users and how many from not bot users with a pie pchart"
   ]
  },
  {
   "cell_type": "code",
   "execution_count": 816,
   "metadata": {},
   "outputs": [
    {
     "data": {
      "image/png": "[encoded data removed]",
      "text/plain": [
       "<Figure size 640x480 with 1 Axes>"
      ]
     },
     "metadata": {},
     "output_type": "display_data"
    }
   ],
   "source": [
    "label= ['humans', 'bots']\n",
    "plt.pie(df_joined['bot'].value_counts(), labels=label)\n",
    "plt.show()"
   ]
  },
  {
   "cell_type": "markdown",
   "metadata": {},
   "source": [
    "### Save cleaned joined matrix"
   ]
  },
  {
   "cell_type": "code",
   "execution_count": 817,
   "metadata": {},
   "outputs": [],
   "source": [
    "df_joined.to_csv(\"../dataset/cleaned_joined_tweets.csv\")"
   ]
  }
 ],
 "metadata": {
  "kernelspec": {
   "display_name": "Python 3.7.11 ('PythonGPU')",
   "language": "python",
   "name": "python3"
  },
  "language_info": {
   "codemirror_mode": {
    "name": "ipython",
    "version": 3
   },
   "file_extension": ".py",
   "mimetype": "text/x-python",
   "name": "python",
   "nbconvert_exporter": "python",
   "pygments_lexer": "ipython3",
   "version": "3.7.11"
  },
  "orig_nbformat": 4,
  "vscode": {
   "interpreter": {
    "hash": "d0730f60e148d57a1e4c6f650409706dbcf5ffb151704137abb6195cb5ab6161"
   }
  }
 },
 "nbformat": 4,
 "nbformat_minor": 2
}
