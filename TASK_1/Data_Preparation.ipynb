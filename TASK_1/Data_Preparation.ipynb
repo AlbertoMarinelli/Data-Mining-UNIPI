{
 "cells": [
  {
   "cell_type": "markdown",
   "metadata": {},
   "source": [
    "# Task 1.2 Data Preparation\n",
    "*Alberto Roberto Marinelli, Giacomo Cignoni, Alessandro Bucci*\n",
    "## Importing Libraries\n",
    "First we import the libraries necessary to process the data"
   ]
  },
  {
   "cell_type": "code",
   "execution_count": 85,
   "metadata": {},
   "outputs": [],
   "source": [
    "import math\n",
    "import sys\n",
    "import numpy as np\n",
    "import pandas as pd\n",
    "import seaborn as sn\n",
    "import scipy.stats as stats\n",
    "import matplotlib.pyplot as plt\n",
    "from tqdm.notebook import tqdm\n",
    "from sklearn import decomposition"
   ]
  },
  {
   "cell_type": "markdown",
   "metadata": {},
   "source": [
    "We set pandas options\n"
   ]
  },
  {
   "cell_type": "code",
   "execution_count": 61,
   "metadata": {},
   "outputs": [],
   "source": [
    "pd.set_option('mode.use_inf_as_na', True) #Set the inf values as pd.NA\n",
    "pd.set_option('max_info_rows',12_000_000)\n"
   ]
  },
  {
   "cell_type": "markdown",
   "metadata": {},
   "source": [
    "Then we load the cleaned dataset adn the users datset"
   ]
  },
  {
   "cell_type": "code",
   "execution_count": 62,
   "metadata": {},
   "outputs": [],
   "source": [
    "df_cleaned = pd.read_csv('../dataset/cleaned_joined_tweets.csv', sep=',', index_col=0) # Load cleaned dataset\n",
    "df_users = pd.read_csv('../dataset/cleaned_users.csv', sep=',', index_col=0)  # load users"
   ]
  },
  {
   "cell_type": "code",
   "execution_count": 63,
   "metadata": {},
   "outputs": [],
   "source": [
    "df_users.rename(columns={'id':'user_id'}, inplace=True)"
   ]
  },
  {
   "cell_type": "markdown",
   "metadata": {},
   "source": [
    "Then we cast the columns to the proper datatypes"
   ]
  },
  {
   "cell_type": "code",
   "execution_count": 64,
   "metadata": {},
   "outputs": [],
   "source": [
    "df_cleaned.created_at = pd.to_datetime(df_cleaned.created_at)\n",
    "df_cleaned.text = df_cleaned.text.astype('string')\n",
    "df_cleaned.lang = pd.Categorical(df_cleaned.lang)\n",
    "\n",
    "df_users.created_at = pd.to_datetime(df_users.created_at)\n",
    "df_users.lang = pd.Categorical(df_users.lang)"
   ]
  },
  {
   "cell_type": "code",
   "execution_count": 65,
   "metadata": {},
   "outputs": [
    {
     "name": "stdout",
     "output_type": "stream",
     "text": [
      "<class 'pandas.core.frame.DataFrame'>\n",
      "Int64Index: 11508 entries, 0 to 11507\n",
      "Data columns (total 5 columns):\n",
      " #   Column          Non-Null Count  Dtype         \n",
      "---  ------          --------------  -----         \n",
      " 0   user_id         11508 non-null  int64         \n",
      " 1   lang            11508 non-null  category      \n",
      " 2   bot             11508 non-null  int64         \n",
      " 3   created_at      11508 non-null  datetime64[ns]\n",
      " 4   statuses_count  11508 non-null  int64         \n",
      "dtypes: category(1), datetime64[ns](1), int64(3)\n",
      "memory usage: 461.5 KB\n"
     ]
    }
   ],
   "source": [
    "df_users.info()"
   ]
  },
  {
   "cell_type": "code",
   "execution_count": 66,
   "metadata": {},
   "outputs": [
    {
     "name": "stdout",
     "output_type": "stream",
     "text": [
      "<class 'pandas.core.frame.DataFrame'>\n",
      "Int64Index: 11277758 entries, 0 to 11277757\n",
      "Data columns (total 14 columns):\n",
      " #   Column           Non-Null Count     Dtype         \n",
      "---  ------           --------------     -----         \n",
      " 0   user_id          11277758 non-null  int64         \n",
      " 1   id               10901728 non-null  float64       \n",
      " 2   retweet_count    11277758 non-null  int64         \n",
      " 3   reply_count      11277758 non-null  int64         \n",
      " 4   favorite_count   11277758 non-null  int64         \n",
      " 5   num_hashtags     11277758 non-null  int64         \n",
      " 6   num_urls         11277758 non-null  int64         \n",
      " 7   num_mentions     11277758 non-null  int64         \n",
      " 8   created_at       11277758 non-null  datetime64[ns]\n",
      " 9   text             10860709 non-null  string        \n",
      " 10  lang             11277758 non-null  category      \n",
      " 11  bot              11277758 non-null  bool          \n",
      " 12  created_at_user  11277758 non-null  object        \n",
      " 13  statuses_count   11277758 non-null  int64         \n",
      "dtypes: bool(1), category(1), datetime64[ns](1), float64(1), int64(8), object(1), string(1)\n",
      "memory usage: 1.1+ GB\n"
     ]
    }
   ],
   "source": [
    "df_cleaned.info()"
   ]
  },
  {
   "cell_type": "markdown",
   "metadata": {},
   "source": [
    "## Plot graphics and correlation map"
   ]
  },
  {
   "cell_type": "markdown",
   "metadata": {},
   "source": [
    "## Extracting indicators\n",
    "Indicators per user covered: \n",
    "\n",
    "* total number of tweets    \n",
    "* average tweet length, \n",
    "* total number of likes, \n",
    "* like ratio per tweet,\n",
    "* counter of tweets outside of possible publishing years\n",
    "* entropy peer user with second wise precision"
   ]
  },
  {
   "cell_type": "markdown",
   "metadata": {},
   "source": [
    "### Functions used to extract indicators\n"
   ]
  },
  {
   "cell_type": "markdown",
   "metadata": {},
   "source": [
    "Function to determine if the tweet is outside of possible publishing years.\n",
    "\n",
    "It is delimited between the 2006, the creation year of twitter and 2020, the year of the data crawling"
   ]
  },
  {
   "cell_type": "code",
   "execution_count": 67,
   "metadata": {},
   "outputs": [],
   "source": [
    "min_date = np.datetime64('2006-07-15 00:00:00') # Twitter creation year, used to check if a tweet is published after the creation of twitter\n",
    "max_date = np.datetime64('2020-12-31 23:59:59') # Data scraping year, used to check if a tweet is published before the data scraping\n",
    "\n",
    "def get_tweet_outside_of_possible_publishing_years(tweet):\n",
    "    if tweet.created_at < min_date or tweet.created_at > max_date:  # if the tweet is outside of the publishable period of time\n",
    "        return 1\n",
    "    else:\n",
    "        return 0"
   ]
  },
  {
   "cell_type": "markdown",
   "metadata": {},
   "source": [
    "Function that returns the number of likes of a specific tweet"
   ]
  },
  {
   "cell_type": "code",
   "execution_count": 68,
   "metadata": {},
   "outputs": [],
   "source": [
    "def get_number_of_likes(tweet):\n",
    "    try:\n",
    "        return np.int64(tweet['favorite_count'])\n",
    "    except:\n",
    "        return 0"
   ]
  },
  {
   "cell_type": "markdown",
   "metadata": {},
   "source": [
    "Function that calculates average attribute value for user (es: average number of hashtags in a tweet)"
   ]
  },
  {
   "cell_type": "code",
   "execution_count": 69,
   "metadata": {},
   "outputs": [],
   "source": [
    "def avg_attributes(df, df_indicators): \n",
    "    df_avg = df.groupby(by='user_id').mean()\n",
    "\n",
    "    df_avg.rename(columns = lambda col : str(col)+'_avg', inplace=True)\n",
    "    #df_avg.info()\n",
    "\n",
    "    df_avg.reset_index(inplace=True)\n",
    "    \n",
    "    return df_indicators.merge(df_avg, on='user_id', how='left')\n"
   ]
  },
  {
   "cell_type": "code",
   "execution_count": 70,
   "metadata": {},
   "outputs": [],
   "source": [
    "def sum_attributes(df, df_indicators):\n",
    "    df_sum = df.groupby(by='user_id').sum()\n",
    "\n",
    "    df_sum.rename(columns = lambda col : str(col)+'_sum', inplace=True)\n",
    "    #df_sum.info()\n",
    "\n",
    "    df_sum.reset_index(inplace=True)\n",
    "    \n",
    "    return df_indicators.merge(df_sum, on='user_id', how='left')\n"
   ]
  },
  {
   "cell_type": "markdown",
   "metadata": {},
   "source": [
    "Function that returns 1 if the tweet has text inside it (if the lenght of it is > 0) and 0 otherwise"
   ]
  },
  {
   "cell_type": "code",
   "execution_count": 71,
   "metadata": {},
   "outputs": [],
   "source": [
    "def tweet_with_text_count(tweet):\n",
    "    tweet_len = len(str(tweet['text']))\n",
    "    if tweet_len > 0:\n",
    "        return 1\n",
    "    else:\n",
    "        return 0"
   ]
  },
  {
   "cell_type": "markdown",
   "metadata": {},
   "source": [
    "Function that returns the average tweet lenght of the tweets of a user, is a moving average that is calculated if the tweet has text inside it."
   ]
  },
  {
   "cell_type": "code",
   "execution_count": 72,
   "metadata": {},
   "outputs": [],
   "source": [
    "def get_avg_tweet_len(indicators_dataframe, user_id ,tweet):\n",
    "    tweet_len = len(str(tweet['text'])) # if tweet['text'] is np.nan, the len(str(np.nan)) is 0\n",
    "    previous_avg = indicators_dataframe.at[user_id, 'avg_tweet_len']\n",
    "\n",
    "    if np.isnan(previous_avg): #if the previous avg does not exist it means that the average has yet to be calculated\n",
    "        return tweet_len #it returns 0 if the len is 0, so if the tweet has no text\n",
    "\n",
    "    elif tweet_len > 0: #if the tweet has a text, use it to calculate the avg tweet len\n",
    "        tweet_count = indicators_dataframe.at[user_id, 'tweet_with_text_count']\n",
    "        \n",
    "        # summing the previous average multiplied for n/n+1 with the current tweet length multiplied for\n",
    "        # 1/n+1 gives us the current average where n is the previous tweet count\n",
    "        avg_tweet_len = previous_avg * ((tweet_count - 1) / tweet_count) \\\n",
    "                        + tweet_len * (1 / tweet_count)\n",
    "\n",
    "        return avg_tweet_len\n",
    "    else: #otherwise return the previous avg\n",
    "        return previous_avg\n",
    "\n"
   ]
  },
  {
   "cell_type": "markdown",
   "metadata": {},
   "source": [
    "Function that set the indicators for eache using the functions above."
   ]
  },
  {
   "cell_type": "code",
   "execution_count": 73,
   "metadata": {},
   "outputs": [],
   "source": [
    "def set_indicators(indicators_dataframe, user_id, tweet):\n",
    "    # if a user published a tweet and is not into the dataframe\n",
    "    if user_id not in indicators_dataframe.index:\n",
    "        # tweet count is set to 1 and the average length is the length of the sole tweet published\n",
    "        #Assign to the indicator dataframe\n",
    "        indicators_dataframe.at[user_id, 'tweet_count'] = 1\n",
    "        indicators_dataframe.at[user_id, 'tweet_with_text_count'] = tweet_with_text_count(tweet)\n",
    "        indicators_dataframe.at[user_id, 'total_num_of_likes'] = get_number_of_likes(tweet)\n",
    "        indicators_dataframe.at[user_id, 'avg_tweet_len'] = get_avg_tweet_len(indicators_dataframe, user_id ,tweet)\n",
    "        indicators_dataframe.at[user_id, 'tweet_outside_of_possible_publishing_years'] = get_tweet_outside_of_possible_publishing_years(tweet)\n",
    "\n",
    "    # if a user published a tweet and is into the dataframe\n",
    "    else:\n",
    "        #Update to the indicator dataframe\n",
    "        indicators_dataframe.at[user_id, 'tweet_count'] += 1\n",
    "        indicators_dataframe.at[user_id, 'tweet_with_text_count'] += tweet_with_text_count(tweet)\n",
    "        indicators_dataframe.at[user_id, 'total_num_of_likes'] += get_number_of_likes(tweet)\n",
    "        indicators_dataframe.at[user_id, 'avg_tweet_len'] = get_avg_tweet_len(indicators_dataframe, user_id ,tweet)\n",
    "        indicators_dataframe.at[user_id, 'tweet_outside_of_possible_publishing_years'] += get_tweet_outside_of_possible_publishing_years(tweet)"
   ]
  },
  {
   "cell_type": "markdown",
   "metadata": {},
   "source": [
    "Function to get the ratios using the values of each user, in this case is performed only the like ratio received per tweet of each user."
   ]
  },
  {
   "cell_type": "code",
   "execution_count": 74,
   "metadata": {},
   "outputs": [],
   "source": [
    "def get_ratios(indicators_dataframe):\n",
    "    for id_user, user in tqdm(indicators_dataframe.iterrows(),desc='Getting ratios',total=len(indicators_dataframe)):\n",
    "        # tweet count is always >0, so there is no risk of a zero division\n",
    "        user['like_ratio_per_tweet'] = user['total_num_of_likes'] / user['tweet_count']"
   ]
  },
  {
   "cell_type": "markdown",
   "metadata": {},
   "source": [
    "#### Entropy extraction functions"
   ]
  },
  {
   "cell_type": "markdown",
   "metadata": {},
   "source": [
    "get_entropy_dict_from_timedeltas is a function that give the dictionary 'dict_of_dict_of_timedeltas', it calculates the entropy of each user.\n",
    "\n",
    "'dict_of_dict_of_timedeltas' is in the form of  n*{user_id : m*{timedelta_i : number of times timedelta_i has been encountered}} where there are n users and m category of timedelta."
   ]
  },
  {
   "cell_type": "code",
   "execution_count": 75,
   "metadata": {},
   "outputs": [],
   "source": [
    "#The threshold is needed to consider a meaningful number of tweets for applying the entropy\n",
    "entropy_threshold = 10\n",
    "\n",
    "def get_entropy_dict_from_timedeltas(dict_of_dict_of_timedeltas):\n",
    "    entropy_dict = dict()\n",
    "    for user_id in tqdm(dict_of_dict_of_timedeltas,desc='Getting user\\'s entropy from timedeltas',total=len(dict_of_dict_of_timedeltas)):\n",
    "        dict_of_timedeltas_of_the_user = dict_of_dict_of_timedeltas[user_id]\n",
    "        total_number_of_timedeltas = sum(dict_of_timedeltas_of_the_user.values()) #the total number of timedeltas appeared\n",
    "        if total_number_of_timedeltas >= entropy_threshold:\n",
    "            entropy = 0. #entropy set to 0.\n",
    "            for timedelta in dict_of_timedeltas_of_the_user:\n",
    "                number_of_timedelta = dict_of_timedeltas_of_the_user[timedelta] #the number of times the unique timedelta has appeared\n",
    "                #The probability of a timedelta to appear is the number of times the unique timedelta has appeared over total number of times timedeltas appeared\n",
    "                entropy -= number_of_timedelta/total_number_of_timedeltas * np.log2(number_of_timedelta/total_number_of_timedeltas) #shannon's entropy\n",
    "\n",
    "            entropy_dict[user_id] = entropy\n",
    "        else:\n",
    "            entropy_dict[user_id] = np.nan\n",
    "    return entropy_dict"
   ]
  },
  {
   "cell_type": "markdown",
   "metadata": {},
   "source": [
    "apply_time_precision convert the timedelta to the desired precision specified by 'time_precision'.\n",
    "\n",
    "'time_precision' could be: 'seconds', 'minute', '15minutes', 'hour', 'day'."
   ]
  },
  {
   "cell_type": "code",
   "execution_count": 76,
   "metadata": {},
   "outputs": [],
   "source": [
    "def apply_time_precision(timedelta, time_precision='second'):\n",
    "    if time_precision=='minute':\n",
    "        return timedelta.round(freq='min') # approximate to nearest minute\n",
    "    elif time_precision=='15minutes':\n",
    "        return timedelta.round(freq='15min') # approximate to nearest 15 minutes\n",
    "    elif time_precision=='hour':\n",
    "        return timedelta.round(freq='h') # approximate to nearest hour\n",
    "    elif time_precision=='day': \n",
    "        return timedelta.round(freq='D') # approximate to nearest day\n",
    "    else:\n",
    "        return timedelta.round(freq='s') # # approximate to nearest second (default)"
   ]
  },
  {
   "cell_type": "markdown",
   "metadata": {},
   "source": [
    "get_timedelta_list_per_user generate the dictionary 'dict_of_dict_of_timedeltas' to get the entropies from."
   ]
  },
  {
   "cell_type": "code",
   "execution_count": 77,
   "metadata": {},
   "outputs": [],
   "source": [
    "def get_timedelta_list_per_user(time_precision='second'):\n",
    "    df_cleaned.sort_values(by=\"created_at\",inplace=True) # is needed to be sorted by date in order to be able to subtract the previous date from the current\n",
    "\n",
    "    last_tweet_encountered = dict() #a dict where the key is user_id and the value is the last post datetime64. It is needed to get the timedelta between posts\n",
    "    tweet_timedeltas = dict() #a dict where the key is user_id and the value is a dict containing the timedeltas:number_of_times_timedelta_encountered\n",
    "\n",
    "    for _, tweet in tqdm(df_cleaned.iterrows(),desc='Getting timedeltas list with '+time_precision+' precision', total=len(df_cleaned)): #iterating on rows\n",
    "        try: #if user_id cannot be casted into int64 it skips the tweet\n",
    "            user_id = np.int64(tweet['user_id'])\n",
    "        except:\n",
    "            continue\n",
    "\n",
    "        if user_id not in tweet_timedeltas.keys(): # if user is not into the timedeltas\n",
    "            last_tweet_encountered[user_id] = tweet.created_at #the first datetime is saved\n",
    "            tweet_timedeltas[user_id] = dict() #the dict containing timedelta:number_of_times_timedelta_encountered is created\n",
    "        else:\n",
    "            timedelta = tweet.created_at - last_tweet_encountered[user_id] #subrtacting the previous datetime64 to the current datetime64 gives the timedelta between the 2\n",
    "            timedelta = apply_time_precision(timedelta, time_precision) #approximate the time to the nearest timedelta given the precision\n",
    "            last_tweet_encountered[user_id] = tweet.created_at # the last datetime64 is saved\n",
    "            if timedelta not in tweet_timedeltas[user_id]: # if the timedelta is not in the dict containing timedelta:number_of_times_timedelta_encountered\n",
    "                tweet_timedeltas[user_id][timedelta] = 1 # it is the first timedelta, so it has appeared only 1 time\n",
    "            else:\n",
    "                tweet_timedeltas[user_id][timedelta] += 1 # it has already appeared, so the number of times encountered increases by 1\n",
    "    \n",
    "    return tweet_timedeltas"
   ]
  },
  {
   "cell_type": "markdown",
   "metadata": {},
   "source": [
    "get_entropy_over_time returns the dataframe with the user_id and the associated entropy."
   ]
  },
  {
   "cell_type": "code",
   "execution_count": 78,
   "metadata": {},
   "outputs": [],
   "source": [
    "def get_entropy_over_time(time_precision='second'):\n",
    "    #Subtract from each datetime the previous datetime, obtaining the timedeltas.\n",
    "    #Calculate the entropy on those timedeltas (if the timedeltas are the same, the entropy will be lower)\n",
    "    \n",
    "    list_of_timedeltas = get_timedelta_list_per_user(time_precision)\n",
    "    user_entropy_dict = get_entropy_dict_from_timedeltas(list_of_timedeltas) # a dict where the key is user_id and the value is the entropy of the user\n",
    "\n",
    "    df_entropy = pd.DataFrame(columns=['user_id', 'entropy_'+time_precision])\n",
    "\n",
    "    #saving the dict as a dataframe\n",
    "    index = 0\n",
    "    for user_id in tqdm(user_entropy_dict,desc='Converting dict to dataframe',total=len(user_entropy_dict)): \n",
    "        df_entropy.at[index, 'user_id'] = user_id\n",
    "        df_entropy.at[index, 'entropy_'+time_precision] = user_entropy_dict[user_id]\n",
    "        index += 1\n",
    "    \n",
    "    df_entropy['user_id'] = df_entropy['user_id'].astype('Int64')\n",
    "    df_entropy['entropy_'+time_precision] = df_entropy['entropy_'+time_precision].astype('Float64')\n",
    "    \n",
    "    return df_entropy\n",
    "    "
   ]
  },
  {
   "cell_type": "markdown",
   "metadata": {},
   "source": [
    "get_indicators_csv returns the dataframe with the users' ids and all the indicators associated to them."
   ]
  },
  {
   "cell_type": "code",
   "execution_count": 79,
   "metadata": {},
   "outputs": [],
   "source": [
    "def avg_tweet_length(df, df_indicators):\n",
    "    df_text_avg_len = df[['user_id', 'text_len']].groupby(by='user_id').mean()\n",
    "    df_text_avg_len.reset_index(inplace=True)\n",
    "    \n",
    "    df_text_avg_len.rename(columns={'text_len':'avg_text_len'}, inplace=True)\n",
    "    return df_indicators.merge(df_text_avg_len, on='user_id', how='left')\n"
   ]
  },
  {
   "cell_type": "code",
   "execution_count": 80,
   "metadata": {},
   "outputs": [],
   "source": [
    "def count_tweets_with_text(df, df_indicators):    \n",
    "\n",
    "    df_tweet_with_text_count = df[['user_id', 'text_len']].loc[df.text_len != 0].groupby(by='user_id').count()\n",
    "    df_tweet_with_text_count.reset_index(inplace=True)\n",
    "    df_tweet_with_text_count.rename(columns={'text_len':'tweet_with_text_count'}, inplace=True)\n",
    "\n",
    "    df_indicators_joined = df_indicators.merge(df_tweet_with_text_count, on='user_id', how='left')\n",
    "    df_indicators_joined.tweet_with_text_count.fillna(value=0, inplace=True)\n",
    "    \n",
    "    \n",
    "    return df_indicators_joined\n"
   ]
  },
  {
   "cell_type": "code",
   "execution_count": 81,
   "metadata": {},
   "outputs": [],
   "source": [
    "def extract_tweet_count(df):\n",
    "    df_count = df[['user_id', 'text']].groupby(by='user_id').count()\n",
    "    df_count.rename(columns={'text':'tweet_count'}, inplace=True)\n",
    "    df_count.reset_index(inplace=True)\n",
    "    \n",
    "    return df_count"
   ]
  },
  {
   "cell_type": "code",
   "execution_count": 89,
   "metadata": {},
   "outputs": [],
   "source": [
    "def bot_fill_na(df_indicators):\n",
    "    df_indicators.fillna(df_indicators[df_indicators['bot'] == 1].median(), inplace=True)\n",
    "    df_indicators.fillna(df_indicators[df_indicators['bot'] == 0].median(), inplace=True)\n"
   ]
  },
  {
   "cell_type": "code",
   "execution_count": 91,
   "metadata": {},
   "outputs": [],
   "source": [
    "def calculate_entropies(): \n",
    "    df_entropies = get_entropy_over_time(time_precision='second')\n",
    "    for time_precision in ['minute','15minutes','hour','day']:\n",
    "        df_entropy = get_entropy_over_time(time_precision=time_precision)\n",
    "        df_entropies = pd.merge(df_entropies, df_entropy, how='inner', left_on='user_id', right_on='user_id')\n",
    "    \n",
    "    df_entropies.to_csv('../dataset/entropies.csv')\n"
   ]
  },
  {
   "cell_type": "code",
   "execution_count": 92,
   "metadata": {},
   "outputs": [
    {
     "data": {
      "application/vnd.jupyter.widget-view+json": {
       "model_id": "5eb28b2ecca94a1eaf0cc974993382e3",
       "version_major": 2,
       "version_minor": 0
      },
      "text/plain": [
       "Getting timedeltas list with second precision:   0%|          | 0/11277758 [00:00<?, ?it/s]"
      ]
     },
     "metadata": {},
     "output_type": "display_data"
    },
    {
     "data": {
      "application/vnd.jupyter.widget-view+json": {
       "model_id": "92179e3f054c466380270dc354f43f12",
       "version_major": 2,
       "version_minor": 0
      },
      "text/plain": [
       "Getting user's entropy from timedeltas:   0%|          | 0/11508 [00:00<?, ?it/s]"
      ]
     },
     "metadata": {},
     "output_type": "display_data"
    },
    {
     "data": {
      "application/vnd.jupyter.widget-view+json": {
       "model_id": "a40d6eb1f86f4ba091008b759f7a45bb",
       "version_major": 2,
       "version_minor": 0
      },
      "text/plain": [
       "Converting dict to dataframe:   0%|          | 0/11508 [00:00<?, ?it/s]"
      ]
     },
     "metadata": {},
     "output_type": "display_data"
    },
    {
     "data": {
      "application/vnd.jupyter.widget-view+json": {
       "model_id": "50309484e9b7441ab6f0f3771e9ee51a",
       "version_major": 2,
       "version_minor": 0
      },
      "text/plain": [
       "Getting timedeltas list with minute precision:   0%|          | 0/11277758 [00:00<?, ?it/s]"
      ]
     },
     "metadata": {},
     "output_type": "display_data"
    },
    {
     "data": {
      "application/vnd.jupyter.widget-view+json": {
       "model_id": "c5c82e59a35349dfa5fafd5c98abef24",
       "version_major": 2,
       "version_minor": 0
      },
      "text/plain": [
       "Getting user's entropy from timedeltas:   0%|          | 0/11508 [00:00<?, ?it/s]"
      ]
     },
     "metadata": {},
     "output_type": "display_data"
    },
    {
     "data": {
      "application/vnd.jupyter.widget-view+json": {
       "model_id": "0818a931e6794b9d989405dadbba9e56",
       "version_major": 2,
       "version_minor": 0
      },
      "text/plain": [
       "Converting dict to dataframe:   0%|          | 0/11508 [00:00<?, ?it/s]"
      ]
     },
     "metadata": {},
     "output_type": "display_data"
    },
    {
     "data": {
      "application/vnd.jupyter.widget-view+json": {
       "model_id": "623f58f6ef624ab88525429adddb8534",
       "version_major": 2,
       "version_minor": 0
      },
      "text/plain": [
       "Getting timedeltas list with 15minutes precision:   0%|          | 0/11277758 [00:00<?, ?it/s]"
      ]
     },
     "metadata": {},
     "output_type": "display_data"
    },
    {
     "data": {
      "application/vnd.jupyter.widget-view+json": {
       "model_id": "9752034c209d4505b83a87fe6f749387",
       "version_major": 2,
       "version_minor": 0
      },
      "text/plain": [
       "Getting user's entropy from timedeltas:   0%|          | 0/11508 [00:00<?, ?it/s]"
      ]
     },
     "metadata": {},
     "output_type": "display_data"
    },
    {
     "data": {
      "application/vnd.jupyter.widget-view+json": {
       "model_id": "e16adaf36630485a8d020bf0d58e4090",
       "version_major": 2,
       "version_minor": 0
      },
      "text/plain": [
       "Converting dict to dataframe:   0%|          | 0/11508 [00:00<?, ?it/s]"
      ]
     },
     "metadata": {},
     "output_type": "display_data"
    },
    {
     "data": {
      "application/vnd.jupyter.widget-view+json": {
       "model_id": "8bb4e15bb05b471f92c358b2866383a6",
       "version_major": 2,
       "version_minor": 0
      },
      "text/plain": [
       "Getting timedeltas list with hour precision:   0%|          | 0/11277758 [00:00<?, ?it/s]"
      ]
     },
     "metadata": {},
     "output_type": "display_data"
    },
    {
     "data": {
      "application/vnd.jupyter.widget-view+json": {
       "model_id": "ae78b4bfd6ca4123a373e54b9ec25c5c",
       "version_major": 2,
       "version_minor": 0
      },
      "text/plain": [
       "Getting user's entropy from timedeltas:   0%|          | 0/11508 [00:00<?, ?it/s]"
      ]
     },
     "metadata": {},
     "output_type": "display_data"
    },
    {
     "data": {
      "application/vnd.jupyter.widget-view+json": {
       "model_id": "1d0468e3b75a4090a556281b45b50ddd",
       "version_major": 2,
       "version_minor": 0
      },
      "text/plain": [
       "Converting dict to dataframe:   0%|          | 0/11508 [00:00<?, ?it/s]"
      ]
     },
     "metadata": {},
     "output_type": "display_data"
    },
    {
     "data": {
      "application/vnd.jupyter.widget-view+json": {
       "model_id": "16927055b7b842dbbe5cdd4d474a386d",
       "version_major": 2,
       "version_minor": 0
      },
      "text/plain": [
       "Getting timedeltas list with day precision:   0%|          | 0/11277758 [00:00<?, ?it/s]"
      ]
     },
     "metadata": {},
     "output_type": "display_data"
    },
    {
     "data": {
      "application/vnd.jupyter.widget-view+json": {
       "model_id": "2d386722d25845898f56095d55d486d5",
       "version_major": 2,
       "version_minor": 0
      },
      "text/plain": [
       "Getting user's entropy from timedeltas:   0%|          | 0/11508 [00:00<?, ?it/s]"
      ]
     },
     "metadata": {},
     "output_type": "display_data"
    },
    {
     "data": {
      "application/vnd.jupyter.widget-view+json": {
       "model_id": "a48b81f639f4436fba9f83467515c0ae",
       "version_major": 2,
       "version_minor": 0
      },
      "text/plain": [
       "Converting dict to dataframe:   0%|          | 0/11508 [00:00<?, ?it/s]"
      ]
     },
     "metadata": {},
     "output_type": "display_data"
    }
   ],
   "source": [
    "calculate_entropies()"
   ]
  },
  {
   "cell_type": "code",
   "execution_count": 115,
   "metadata": {},
   "outputs": [],
   "source": [
    "def get_indicators_csv(df_cleaned):\n",
    "    # create a dataframe for storing indicators\n",
    "    #['tweet_count', 'tweet_with_text_count', 'avg_tweet_len', 'tweets_outside_of_possible_publishing_years'])\n",
    "    # setting the index column name to 'id'\n",
    "    df_indicators = extract_tweet_count(df_cleaned)\n",
    "    print('Done extract_tweet_count')\n",
    "    #print('AFTER TWEET COUNT')\n",
    "    #df_indicators.info()\n",
    "\n",
    "    df_cleaned['text_len'] = df_cleaned.text.apply(lambda text_str : len(str(text_str)))\n",
    "\n",
    "    df_indicators = avg_tweet_length(df_cleaned[['user_id', 'text_len']].copy(), df_indicators)\n",
    "    #print('AFTER AVG')\n",
    "    #df_indicators.info()\n",
    "\n",
    "    df_indicators = count_tweets_with_text(df_cleaned[['user_id', 'text_len']].copy(), df_indicators)\n",
    "\n",
    "    print('Done extract_text_indicators')\n",
    "\n",
    "    \n",
    "    #Entropies start merging \n",
    "    \n",
    "    df_entropies = pd.read_csv('../dataset/entropies.csv')\n",
    "\n",
    "    df_indicators = pd.merge(df_indicators, df_users, how='inner', left_on='user_id', right_on='user_id')\n",
    "\n",
    "    for col_name in [\"created_at\", \"lang\", \"statuses_count\"]: #dropping columns that are not useful to calculate the median\n",
    "        del df_indicators[col_name]\n",
    "\n",
    "    df_indicators = pd.merge(df_indicators, df_entropies, how='inner', left_on='user_id', right_on='user_id')\n",
    "\n",
    "    bot_fill_na(df_indicators) #filling nan entropies with the median with respect to the fact the user is bot or not\n",
    "\n",
    "    del df_indicators ['bot']\n",
    "    del df_indicators ['Unnamed: 0'] #scrap rom the merge\n",
    "\n",
    "    #Entropies end merging\n",
    "\n",
    "    for col_name in [\"id\", \"created_at\", \"text\", \"lang\", \"bot\", \"created_at_user\", \"statuses_count\", \"text_len\"]:\n",
    "        del df_cleaned[col_name]\n",
    "\n",
    "    df_indicators = avg_attributes(df_cleaned, df_indicators)\n",
    "    print('Done avg_attributes')\n",
    "\n",
    "    df_indicators = sum_attributes(df_cleaned, df_indicators)\n",
    "    print('Done sum_attributes')\n",
    "\n",
    "    \n",
    "    df_indicators.to_csv('../dataset/indicators.csv')\n",
    "\n",
    "    return df_indicators"
   ]
  },
  {
   "cell_type": "code",
   "execution_count": 116,
   "metadata": {},
   "outputs": [
    {
     "name": "stdout",
     "output_type": "stream",
     "text": [
      "Done extract_tweet_count\n",
      "Done extract_text_indicators\n",
      "Done avg_attributes\n",
      "Done sum_attributes\n"
     ]
    }
   ],
   "source": [
    "indicators = get_indicators_csv(df_cleaned.copy())"
   ]
  },
  {
   "cell_type": "markdown",
   "metadata": {},
   "source": [
    "## \n",
    "The reason behind the </> in the output is due to the fact that tqdm was used to get progress bars that can't be seen once the ipynb is reopened."
   ]
  },
  {
   "cell_type": "code",
   "execution_count": 117,
   "metadata": {},
   "outputs": [
    {
     "name": "stdout",
     "output_type": "stream",
     "text": [
      "<class 'pandas.core.frame.DataFrame'>\n",
      "Int64Index: 11508 entries, 0 to 11507\n",
      "Data columns (total 21 columns):\n",
      " #   Column                 Non-Null Count  Dtype  \n",
      "---  ------                 --------------  -----  \n",
      " 0   user_id                11508 non-null  int64  \n",
      " 1   tweet_count            11508 non-null  int64  \n",
      " 2   avg_text_len           11508 non-null  float64\n",
      " 3   tweet_with_text_count  11508 non-null  int64  \n",
      " 4   entropy_second         11508 non-null  float64\n",
      " 5   entropy_minute         11508 non-null  float64\n",
      " 6   entropy_15minutes      11508 non-null  float64\n",
      " 7   entropy_hour           11508 non-null  float64\n",
      " 8   entropy_day            11508 non-null  float64\n",
      " 9   retweet_count_avg      11508 non-null  float64\n",
      " 10  reply_count_avg        11508 non-null  float64\n",
      " 11  favorite_count_avg     11508 non-null  float64\n",
      " 12  num_hashtags_avg       11508 non-null  float64\n",
      " 13  num_urls_avg           11508 non-null  float64\n",
      " 14  num_mentions_avg       11508 non-null  float64\n",
      " 15  retweet_count_sum      11508 non-null  int64  \n",
      " 16  reply_count_sum        11508 non-null  int64  \n",
      " 17  favorite_count_sum     11508 non-null  int64  \n",
      " 18  num_hashtags_sum       11508 non-null  int64  \n",
      " 19  num_urls_sum           11508 non-null  int64  \n",
      " 20  num_mentions_sum       11508 non-null  int64  \n",
      "dtypes: float64(12), int64(9)\n",
      "memory usage: 1.9 MB\n"
     ]
    }
   ],
   "source": [
    "indicators.info(verbose=True)"
   ]
  },
  {
   "cell_type": "markdown",
   "metadata": {},
   "source": [
    "Merging the user dataframe to the user indicator dataframe, converting the dtypes and setting the user_id as the index.\n",
    "\n",
    "Then the final dataframe is saved as a csv because we will load them since we don't want to perform the computation every time since it takes around 4 hours."
   ]
  },
  {
   "cell_type": "code",
   "execution_count": 56,
   "metadata": {},
   "outputs": [
    {
     "name": "stdout",
     "output_type": "stream",
     "text": [
      "user_id                                       1.174713e+09\n",
      "bot                                           1.000000e+00\n",
      "statuses_count                                5.300000e+01\n",
      "Unnamed: 0                                    6.915000e+03\n",
      "tweet_count                                   1.140000e+02\n",
      "tweet_with_text_count                         1.140000e+02\n",
      "avg_tweet_len                                 6.615891e+01\n",
      "total_num_of_likes                            6.000000e+00\n",
      "like_ratio_per_tweet                          4.285714e-02\n",
      "tweet_outside_of_possible_publishing_years    0.000000e+00\n",
      "entropy_day                                   1.265081e+00\n",
      "entropy_second                                5.407369e+00\n",
      "entropy_minute                                4.000000e+00\n",
      "entropy_15minutes                             2.846439e+00\n",
      "entropy_hour                                  2.049230e+00\n",
      "dtype: float64\n"
     ]
    },
    {
     "name": "stderr",
     "output_type": "stream",
     "text": [
      "c:\\Users\\Kaos1\\anaconda3\\envs\\dataMiningEnv\\lib\\site-packages\\ipykernel_launcher.py:2: FutureWarning: DataFrame.mean and DataFrame.median with numeric_only=None will include datetime64 and datetime64tz columns in a future version.\n",
      "  \n",
      "c:\\Users\\Kaos1\\anaconda3\\envs\\dataMiningEnv\\lib\\site-packages\\ipykernel_launcher.py:2: FutureWarning: Dropping of nuisance columns in DataFrame reductions (with 'numeric_only=None') is deprecated; in a future version this will raise TypeError.  Select only valid columns before calling the reduction.\n",
      "  \n",
      "c:\\Users\\Kaos1\\anaconda3\\envs\\dataMiningEnv\\lib\\site-packages\\ipykernel_launcher.py:3: FutureWarning: DataFrame.mean and DataFrame.median with numeric_only=None will include datetime64 and datetime64tz columns in a future version.\n",
      "  This is separate from the ipykernel package so we can avoid doing imports until\n",
      "c:\\Users\\Kaos1\\anaconda3\\envs\\dataMiningEnv\\lib\\site-packages\\ipykernel_launcher.py:3: FutureWarning: Dropping of nuisance columns in DataFrame reductions (with 'numeric_only=None') is deprecated; in a future version this will raise TypeError.  Select only valid columns before calling the reduction.\n",
      "  This is separate from the ipykernel package so we can avoid doing imports until\n",
      "c:\\Users\\Kaos1\\anaconda3\\envs\\dataMiningEnv\\lib\\site-packages\\ipykernel_launcher.py:4: FutureWarning: DataFrame.mean and DataFrame.median with numeric_only=None will include datetime64 and datetime64tz columns in a future version.\n",
      "  after removing the cwd from sys.path.\n",
      "c:\\Users\\Kaos1\\anaconda3\\envs\\dataMiningEnv\\lib\\site-packages\\ipykernel_launcher.py:4: FutureWarning: Dropping of nuisance columns in DataFrame reductions (with 'numeric_only=None') is deprecated; in a future version this will raise TypeError.  Select only valid columns before calling the reduction.\n",
      "  after removing the cwd from sys.path.\n"
     ]
    },
    {
     "data": {
      "text/html": [
       "<div>\n",
       "<style scoped>\n",
       "    .dataframe tbody tr th:only-of-type {\n",
       "        vertical-align: middle;\n",
       "    }\n",
       "\n",
       "    .dataframe tbody tr th {\n",
       "        vertical-align: top;\n",
       "    }\n",
       "\n",
       "    .dataframe thead th {\n",
       "        text-align: right;\n",
       "    }\n",
       "</style>\n",
       "<table border=\"1\" class=\"dataframe\">\n",
       "  <thead>\n",
       "    <tr style=\"text-align: right;\">\n",
       "      <th></th>\n",
       "      <th>user_id</th>\n",
       "      <th>lang</th>\n",
       "      <th>bot</th>\n",
       "      <th>created_at</th>\n",
       "      <th>statuses_count</th>\n",
       "      <th>Unnamed: 0</th>\n",
       "      <th>tweet_count</th>\n",
       "      <th>tweet_with_text_count</th>\n",
       "      <th>avg_tweet_len</th>\n",
       "      <th>total_num_of_likes</th>\n",
       "      <th>like_ratio_per_tweet</th>\n",
       "      <th>tweet_outside_of_possible_publishing_years</th>\n",
       "      <th>entropy_day</th>\n",
       "      <th>entropy_second</th>\n",
       "      <th>entropy_minute</th>\n",
       "      <th>entropy_15minutes</th>\n",
       "      <th>entropy_hour</th>\n",
       "    </tr>\n",
       "  </thead>\n",
       "  <tbody>\n",
       "    <tr>\n",
       "      <th>11488</th>\n",
       "      <td>2353571924</td>\n",
       "      <td>en</td>\n",
       "      <td>1</td>\n",
       "      <td>2019-02-22 17:42:24</td>\n",
       "      <td>70</td>\n",
       "      <td>5399</td>\n",
       "      <td>156</td>\n",
       "      <td>156</td>\n",
       "      <td>63.032051</td>\n",
       "      <td>15</td>\n",
       "      <td>0.096154</td>\n",
       "      <td>0</td>\n",
       "      <td>1.200779</td>\n",
       "      <td>5.509171</td>\n",
       "      <td>2.367442</td>\n",
       "      <td>1.836238</td>\n",
       "      <td>1.797528</td>\n",
       "    </tr>\n",
       "    <tr>\n",
       "      <th>11489</th>\n",
       "      <td>532556025</td>\n",
       "      <td>en</td>\n",
       "      <td>0</td>\n",
       "      <td>2017-03-23 18:54:59</td>\n",
       "      <td>27689</td>\n",
       "      <td>1389</td>\n",
       "      <td>2494</td>\n",
       "      <td>2494</td>\n",
       "      <td>93.253809</td>\n",
       "      <td>329</td>\n",
       "      <td>0.131917</td>\n",
       "      <td>0</td>\n",
       "      <td>0.336131</td>\n",
       "      <td>9.465757</td>\n",
       "      <td>6.476635</td>\n",
       "      <td>3.650578</td>\n",
       "      <td>2.445202</td>\n",
       "    </tr>\n",
       "    <tr>\n",
       "      <th>11490</th>\n",
       "      <td>838827888</td>\n",
       "      <td>en</td>\n",
       "      <td>0</td>\n",
       "      <td>2017-09-24 01:01:04</td>\n",
       "      <td>25541</td>\n",
       "      <td>336</td>\n",
       "      <td>3579</td>\n",
       "      <td>3579</td>\n",
       "      <td>45.065940</td>\n",
       "      <td>1521</td>\n",
       "      <td>0.424979</td>\n",
       "      <td>0</td>\n",
       "      <td>0.058074</td>\n",
       "      <td>9.210478</td>\n",
       "      <td>5.262330</td>\n",
       "      <td>2.361560</td>\n",
       "      <td>1.294561</td>\n",
       "    </tr>\n",
       "    <tr>\n",
       "      <th>11491</th>\n",
       "      <td>797250055</td>\n",
       "      <td>en</td>\n",
       "      <td>0</td>\n",
       "      <td>2017-09-04 01:29:15</td>\n",
       "      <td>12659</td>\n",
       "      <td>319</td>\n",
       "      <td>2005</td>\n",
       "      <td>2005</td>\n",
       "      <td>41.035411</td>\n",
       "      <td>418</td>\n",
       "      <td>0.208479</td>\n",
       "      <td>0</td>\n",
       "      <td>0.325139</td>\n",
       "      <td>8.739245</td>\n",
       "      <td>5.281848</td>\n",
       "      <td>2.766964</td>\n",
       "      <td>1.789593</td>\n",
       "    </tr>\n",
       "    <tr>\n",
       "      <th>11492</th>\n",
       "      <td>2356252633</td>\n",
       "      <td>en</td>\n",
       "      <td>1</td>\n",
       "      <td>2019-02-24 11:56:57</td>\n",
       "      <td>72</td>\n",
       "      <td>9351</td>\n",
       "      <td>151</td>\n",
       "      <td>151</td>\n",
       "      <td>69.470199</td>\n",
       "      <td>3</td>\n",
       "      <td>0.019868</td>\n",
       "      <td>0</td>\n",
       "      <td>1.143154</td>\n",
       "      <td>5.556086</td>\n",
       "      <td>2.280849</td>\n",
       "      <td>1.620936</td>\n",
       "      <td>1.594269</td>\n",
       "    </tr>\n",
       "    <tr>\n",
       "      <th>11493</th>\n",
       "      <td>2275248397</td>\n",
       "      <td>it</td>\n",
       "      <td>1</td>\n",
       "      <td>2019-01-05 23:30:10</td>\n",
       "      <td>488</td>\n",
       "      <td>554</td>\n",
       "      <td>2017</td>\n",
       "      <td>2017</td>\n",
       "      <td>84.437283</td>\n",
       "      <td>844</td>\n",
       "      <td>0.418443</td>\n",
       "      <td>0</td>\n",
       "      <td>0.448801</td>\n",
       "      <td>9.735042</td>\n",
       "      <td>7.822233</td>\n",
       "      <td>4.859366</td>\n",
       "      <td>3.266325</td>\n",
       "    </tr>\n",
       "    <tr>\n",
       "      <th>11494</th>\n",
       "      <td>176688197</td>\n",
       "      <td>es</td>\n",
       "      <td>0</td>\n",
       "      <td>2015-08-12 04:55:53</td>\n",
       "      <td>8896</td>\n",
       "      <td>4076</td>\n",
       "      <td>2602</td>\n",
       "      <td>2602</td>\n",
       "      <td>81.229823</td>\n",
       "      <td>361</td>\n",
       "      <td>0.138739</td>\n",
       "      <td>0</td>\n",
       "      <td>0.730845</td>\n",
       "      <td>9.933883</td>\n",
       "      <td>7.835456</td>\n",
       "      <td>4.912119</td>\n",
       "      <td>3.348161</td>\n",
       "    </tr>\n",
       "    <tr>\n",
       "      <th>11495</th>\n",
       "      <td>1176247080</td>\n",
       "      <td>en</td>\n",
       "      <td>1</td>\n",
       "      <td>2018-02-15 17:31:37</td>\n",
       "      <td>19</td>\n",
       "      <td>10473</td>\n",
       "      <td>21</td>\n",
       "      <td>21</td>\n",
       "      <td>58.857143</td>\n",
       "      <td>0</td>\n",
       "      <td>0.000000</td>\n",
       "      <td>0</td>\n",
       "      <td>2.903702</td>\n",
       "      <td>4.221928</td>\n",
       "      <td>4.221928</td>\n",
       "      <td>4.121928</td>\n",
       "      <td>4.021928</td>\n",
       "    </tr>\n",
       "    <tr>\n",
       "      <th>11496</th>\n",
       "      <td>39220893</td>\n",
       "      <td>en</td>\n",
       "      <td>0</td>\n",
       "      <td>2014-05-13 09:14:56</td>\n",
       "      <td>11688</td>\n",
       "      <td>5192</td>\n",
       "      <td>1765</td>\n",
       "      <td>1765</td>\n",
       "      <td>75.931445</td>\n",
       "      <td>638</td>\n",
       "      <td>0.361473</td>\n",
       "      <td>0</td>\n",
       "      <td>0.685936</td>\n",
       "      <td>9.494167</td>\n",
       "      <td>7.273464</td>\n",
       "      <td>4.448719</td>\n",
       "      <td>3.079750</td>\n",
       "    </tr>\n",
       "    <tr>\n",
       "      <th>11497</th>\n",
       "      <td>2364069194</td>\n",
       "      <td>en</td>\n",
       "      <td>1</td>\n",
       "      <td>2019-03-01 11:59:58</td>\n",
       "      <td>50</td>\n",
       "      <td>4656</td>\n",
       "      <td>120</td>\n",
       "      <td>120</td>\n",
       "      <td>62.608333</td>\n",
       "      <td>9</td>\n",
       "      <td>0.075000</td>\n",
       "      <td>0</td>\n",
       "      <td>1.280932</td>\n",
       "      <td>5.397558</td>\n",
       "      <td>2.237159</td>\n",
       "      <td>1.717243</td>\n",
       "      <td>1.717243</td>\n",
       "    </tr>\n",
       "    <tr>\n",
       "      <th>11498</th>\n",
       "      <td>1208221152</td>\n",
       "      <td>en</td>\n",
       "      <td>1</td>\n",
       "      <td>2018-02-24 12:30:40</td>\n",
       "      <td>2</td>\n",
       "      <td>11319</td>\n",
       "      <td>2</td>\n",
       "      <td>2</td>\n",
       "      <td>42.000000</td>\n",
       "      <td>0</td>\n",
       "      <td>0.000000</td>\n",
       "      <td>0</td>\n",
       "      <td>1.265081</td>\n",
       "      <td>5.407369</td>\n",
       "      <td>4.000000</td>\n",
       "      <td>2.846439</td>\n",
       "      <td>2.049230</td>\n",
       "    </tr>\n",
       "    <tr>\n",
       "      <th>11499</th>\n",
       "      <td>1175797100</td>\n",
       "      <td>en</td>\n",
       "      <td>1</td>\n",
       "      <td>2018-02-15 15:58:58</td>\n",
       "      <td>18</td>\n",
       "      <td>7685</td>\n",
       "      <td>26</td>\n",
       "      <td>26</td>\n",
       "      <td>77.653846</td>\n",
       "      <td>0</td>\n",
       "      <td>0.000000</td>\n",
       "      <td>0</td>\n",
       "      <td>2.332879</td>\n",
       "      <td>3.683856</td>\n",
       "      <td>3.603856</td>\n",
       "      <td>3.041706</td>\n",
       "      <td>2.843074</td>\n",
       "    </tr>\n",
       "    <tr>\n",
       "      <th>11500</th>\n",
       "      <td>1176194977</td>\n",
       "      <td>en</td>\n",
       "      <td>1</td>\n",
       "      <td>2018-02-15 17:17:41</td>\n",
       "      <td>12</td>\n",
       "      <td>10838</td>\n",
       "      <td>14</td>\n",
       "      <td>14</td>\n",
       "      <td>55.357143</td>\n",
       "      <td>0</td>\n",
       "      <td>0.000000</td>\n",
       "      <td>0</td>\n",
       "      <td>2.777363</td>\n",
       "      <td>3.546594</td>\n",
       "      <td>3.334679</td>\n",
       "      <td>3.085055</td>\n",
       "      <td>3.085055</td>\n",
       "    </tr>\n",
       "    <tr>\n",
       "      <th>11501</th>\n",
       "      <td>2364683192</td>\n",
       "      <td>en</td>\n",
       "      <td>1</td>\n",
       "      <td>2019-03-01 21:47:03</td>\n",
       "      <td>63</td>\n",
       "      <td>6752</td>\n",
       "      <td>125</td>\n",
       "      <td>125</td>\n",
       "      <td>64.640000</td>\n",
       "      <td>6</td>\n",
       "      <td>0.048000</td>\n",
       "      <td>0</td>\n",
       "      <td>1.262131</td>\n",
       "      <td>5.504516</td>\n",
       "      <td>2.382980</td>\n",
       "      <td>1.840032</td>\n",
       "      <td>1.817815</td>\n",
       "    </tr>\n",
       "    <tr>\n",
       "      <th>11502</th>\n",
       "      <td>1901595415</td>\n",
       "      <td>en</td>\n",
       "      <td>0</td>\n",
       "      <td>2018-09-26 19:48:46</td>\n",
       "      <td>359</td>\n",
       "      <td>5235</td>\n",
       "      <td>418</td>\n",
       "      <td>418</td>\n",
       "      <td>84.755981</td>\n",
       "      <td>84</td>\n",
       "      <td>0.200957</td>\n",
       "      <td>0</td>\n",
       "      <td>0.738876</td>\n",
       "      <td>7.844399</td>\n",
       "      <td>7.110138</td>\n",
       "      <td>5.000718</td>\n",
       "      <td>3.543669</td>\n",
       "    </tr>\n",
       "    <tr>\n",
       "      <th>11503</th>\n",
       "      <td>2911861962</td>\n",
       "      <td>en</td>\n",
       "      <td>0</td>\n",
       "      <td>2019-11-29 13:16:02</td>\n",
       "      <td>1126</td>\n",
       "      <td>1285</td>\n",
       "      <td>1120</td>\n",
       "      <td>1120</td>\n",
       "      <td>52.387500</td>\n",
       "      <td>59</td>\n",
       "      <td>0.052679</td>\n",
       "      <td>0</td>\n",
       "      <td>0.424424</td>\n",
       "      <td>8.333599</td>\n",
       "      <td>4.903872</td>\n",
       "      <td>2.377405</td>\n",
       "      <td>1.494954</td>\n",
       "    </tr>\n",
       "    <tr>\n",
       "      <th>11504</th>\n",
       "      <td>1378532629</td>\n",
       "      <td>en</td>\n",
       "      <td>0</td>\n",
       "      <td>2018-04-27 03:01:58</td>\n",
       "      <td>3024</td>\n",
       "      <td>440</td>\n",
       "      <td>2088</td>\n",
       "      <td>2088</td>\n",
       "      <td>59.646073</td>\n",
       "      <td>419</td>\n",
       "      <td>0.200670</td>\n",
       "      <td>0</td>\n",
       "      <td>0.634400</td>\n",
       "      <td>9.149342</td>\n",
       "      <td>6.135423</td>\n",
       "      <td>3.566179</td>\n",
       "      <td>2.495282</td>\n",
       "    </tr>\n",
       "    <tr>\n",
       "      <th>11505</th>\n",
       "      <td>126984069</td>\n",
       "      <td>es</td>\n",
       "      <td>0</td>\n",
       "      <td>2015-03-29 17:01:24</td>\n",
       "      <td>6</td>\n",
       "      <td>11243</td>\n",
       "      <td>7</td>\n",
       "      <td>7</td>\n",
       "      <td>72.142857</td>\n",
       "      <td>0</td>\n",
       "      <td>0.000000</td>\n",
       "      <td>0</td>\n",
       "      <td>1.265081</td>\n",
       "      <td>5.407369</td>\n",
       "      <td>4.000000</td>\n",
       "      <td>2.846439</td>\n",
       "      <td>2.049230</td>\n",
       "    </tr>\n",
       "    <tr>\n",
       "      <th>11506</th>\n",
       "      <td>2383025796</td>\n",
       "      <td>en</td>\n",
       "      <td>1</td>\n",
       "      <td>2019-03-13 02:44:13</td>\n",
       "      <td>42</td>\n",
       "      <td>7869</td>\n",
       "      <td>105</td>\n",
       "      <td>105</td>\n",
       "      <td>62.742857</td>\n",
       "      <td>8</td>\n",
       "      <td>0.076190</td>\n",
       "      <td>0</td>\n",
       "      <td>1.344952</td>\n",
       "      <td>5.239178</td>\n",
       "      <td>2.161311</td>\n",
       "      <td>1.649293</td>\n",
       "      <td>1.630062</td>\n",
       "    </tr>\n",
       "    <tr>\n",
       "      <th>11507</th>\n",
       "      <td>933183398</td>\n",
       "      <td>en</td>\n",
       "      <td>0</td>\n",
       "      <td>2017-11-09 23:24:16</td>\n",
       "      <td>5279</td>\n",
       "      <td>3422</td>\n",
       "      <td>3694</td>\n",
       "      <td>3694</td>\n",
       "      <td>52.026800</td>\n",
       "      <td>436</td>\n",
       "      <td>0.118029</td>\n",
       "      <td>0</td>\n",
       "      <td>0.035462</td>\n",
       "      <td>8.132867</td>\n",
       "      <td>3.770400</td>\n",
       "      <td>1.478862</td>\n",
       "      <td>0.808677</td>\n",
       "    </tr>\n",
       "  </tbody>\n",
       "</table>\n",
       "</div>"
      ],
      "text/plain": [
       "          user_id lang  bot          created_at  statuses_count  Unnamed: 0  \\\n",
       "11488  2353571924   en    1 2019-02-22 17:42:24              70        5399   \n",
       "11489   532556025   en    0 2017-03-23 18:54:59           27689        1389   \n",
       "11490   838827888   en    0 2017-09-24 01:01:04           25541         336   \n",
       "11491   797250055   en    0 2017-09-04 01:29:15           12659         319   \n",
       "11492  2356252633   en    1 2019-02-24 11:56:57              72        9351   \n",
       "11493  2275248397   it    1 2019-01-05 23:30:10             488         554   \n",
       "11494   176688197   es    0 2015-08-12 04:55:53            8896        4076   \n",
       "11495  1176247080   en    1 2018-02-15 17:31:37              19       10473   \n",
       "11496    39220893   en    0 2014-05-13 09:14:56           11688        5192   \n",
       "11497  2364069194   en    1 2019-03-01 11:59:58              50        4656   \n",
       "11498  1208221152   en    1 2018-02-24 12:30:40               2       11319   \n",
       "11499  1175797100   en    1 2018-02-15 15:58:58              18        7685   \n",
       "11500  1176194977   en    1 2018-02-15 17:17:41              12       10838   \n",
       "11501  2364683192   en    1 2019-03-01 21:47:03              63        6752   \n",
       "11502  1901595415   en    0 2018-09-26 19:48:46             359        5235   \n",
       "11503  2911861962   en    0 2019-11-29 13:16:02            1126        1285   \n",
       "11504  1378532629   en    0 2018-04-27 03:01:58            3024         440   \n",
       "11505   126984069   es    0 2015-03-29 17:01:24               6       11243   \n",
       "11506  2383025796   en    1 2019-03-13 02:44:13              42        7869   \n",
       "11507   933183398   en    0 2017-11-09 23:24:16            5279        3422   \n",
       "\n",
       "       tweet_count  tweet_with_text_count  avg_tweet_len  total_num_of_likes  \\\n",
       "11488          156                    156      63.032051                  15   \n",
       "11489         2494                   2494      93.253809                 329   \n",
       "11490         3579                   3579      45.065940                1521   \n",
       "11491         2005                   2005      41.035411                 418   \n",
       "11492          151                    151      69.470199                   3   \n",
       "11493         2017                   2017      84.437283                 844   \n",
       "11494         2602                   2602      81.229823                 361   \n",
       "11495           21                     21      58.857143                   0   \n",
       "11496         1765                   1765      75.931445                 638   \n",
       "11497          120                    120      62.608333                   9   \n",
       "11498            2                      2      42.000000                   0   \n",
       "11499           26                     26      77.653846                   0   \n",
       "11500           14                     14      55.357143                   0   \n",
       "11501          125                    125      64.640000                   6   \n",
       "11502          418                    418      84.755981                  84   \n",
       "11503         1120                   1120      52.387500                  59   \n",
       "11504         2088                   2088      59.646073                 419   \n",
       "11505            7                      7      72.142857                   0   \n",
       "11506          105                    105      62.742857                   8   \n",
       "11507         3694                   3694      52.026800                 436   \n",
       "\n",
       "       like_ratio_per_tweet  tweet_outside_of_possible_publishing_years  \\\n",
       "11488              0.096154                                           0   \n",
       "11489              0.131917                                           0   \n",
       "11490              0.424979                                           0   \n",
       "11491              0.208479                                           0   \n",
       "11492              0.019868                                           0   \n",
       "11493              0.418443                                           0   \n",
       "11494              0.138739                                           0   \n",
       "11495              0.000000                                           0   \n",
       "11496              0.361473                                           0   \n",
       "11497              0.075000                                           0   \n",
       "11498              0.000000                                           0   \n",
       "11499              0.000000                                           0   \n",
       "11500              0.000000                                           0   \n",
       "11501              0.048000                                           0   \n",
       "11502              0.200957                                           0   \n",
       "11503              0.052679                                           0   \n",
       "11504              0.200670                                           0   \n",
       "11505              0.000000                                           0   \n",
       "11506              0.076190                                           0   \n",
       "11507              0.118029                                           0   \n",
       "\n",
       "       entropy_day  entropy_second  entropy_minute  entropy_15minutes  \\\n",
       "11488     1.200779        5.509171        2.367442           1.836238   \n",
       "11489     0.336131        9.465757        6.476635           3.650578   \n",
       "11490     0.058074        9.210478        5.262330           2.361560   \n",
       "11491     0.325139        8.739245        5.281848           2.766964   \n",
       "11492     1.143154        5.556086        2.280849           1.620936   \n",
       "11493     0.448801        9.735042        7.822233           4.859366   \n",
       "11494     0.730845        9.933883        7.835456           4.912119   \n",
       "11495     2.903702        4.221928        4.221928           4.121928   \n",
       "11496     0.685936        9.494167        7.273464           4.448719   \n",
       "11497     1.280932        5.397558        2.237159           1.717243   \n",
       "11498     1.265081        5.407369        4.000000           2.846439   \n",
       "11499     2.332879        3.683856        3.603856           3.041706   \n",
       "11500     2.777363        3.546594        3.334679           3.085055   \n",
       "11501     1.262131        5.504516        2.382980           1.840032   \n",
       "11502     0.738876        7.844399        7.110138           5.000718   \n",
       "11503     0.424424        8.333599        4.903872           2.377405   \n",
       "11504     0.634400        9.149342        6.135423           3.566179   \n",
       "11505     1.265081        5.407369        4.000000           2.846439   \n",
       "11506     1.344952        5.239178        2.161311           1.649293   \n",
       "11507     0.035462        8.132867        3.770400           1.478862   \n",
       "\n",
       "       entropy_hour  \n",
       "11488      1.797528  \n",
       "11489      2.445202  \n",
       "11490      1.294561  \n",
       "11491      1.789593  \n",
       "11492      1.594269  \n",
       "11493      3.266325  \n",
       "11494      3.348161  \n",
       "11495      4.021928  \n",
       "11496      3.079750  \n",
       "11497      1.717243  \n",
       "11498      2.049230  \n",
       "11499      2.843074  \n",
       "11500      3.085055  \n",
       "11501      1.817815  \n",
       "11502      3.543669  \n",
       "11503      1.494954  \n",
       "11504      2.495282  \n",
       "11505      2.049230  \n",
       "11506      1.630062  \n",
       "11507      0.808677  "
      ]
     },
     "execution_count": 56,
     "metadata": {},
     "output_type": "execute_result"
    }
   ],
   "source": [
    "#Merge indicators on user dataframe\n",
    "df_users_indicators = df_users.merge(indicators,on='user_id', how='left')\n",
    "df_users_indicators.drop(columns='tweet_with_text_count',inplace=True)\n",
    "df_users_indicators = df_users_indicators.convert_dtypes()"
   ]
  },
  {
   "cell_type": "markdown",
   "metadata": {},
   "source": [
    "Loading the indicators, because we don't want to perform the computation every time since it takes around 4 hours."
   ]
  },
  {
   "cell_type": "code",
   "execution_count": null,
   "metadata": {},
   "outputs": [
    {
     "name": "stdout",
     "output_type": "stream",
     "text": [
      "<class 'pandas.core.frame.DataFrame'>\n",
      "Int64Index: 11508 entries, 2353593986 to 933183398\n",
      "Data columns (total 15 columns):\n",
      " #   Column                                      Non-Null Count  Dtype         \n",
      "---  ------                                      --------------  -----         \n",
      " 0   name                                        11507 non-null  string        \n",
      " 1   lang                                        11508 non-null  category      \n",
      " 2   bot                                         11508 non-null  Int64         \n",
      " 3   created_at                                  11508 non-null  datetime64[ns]\n",
      " 4   statuses_count                              11109 non-null  Int64         \n",
      " 5   tweet_count                                 11508 non-null  Int64         \n",
      " 6   avg_tweet_len                               11508 non-null  Float64       \n",
      " 7   total_num_of_likes                          11508 non-null  Int64         \n",
      " 8   like_ratio_per_tweet                        11508 non-null  Float64       \n",
      " 9   tweet_outside_of_possible_publishing_years  11508 non-null  Int64         \n",
      " 10  entropy_day                                 11085 non-null  Float64       \n",
      " 11  entropy_second                              11085 non-null  Float64       \n",
      " 12  entropy_minute                              11085 non-null  Float64       \n",
      " 13  entropy_15minutes                           11085 non-null  Float64       \n",
      " 14  entropy_hour                                11085 non-null  Float64       \n",
      "dtypes: Float64(7), Int64(5), category(1), datetime64[ns](1), string(1)\n",
      "memory usage: 1.5 MB\n"
     ]
    }
   ],
   "source": [
    "df_users_indicators = df_users_indicators.convert_dtypes()\n",
    "df_users_indicators.lang = pd.Categorical(df_users_indicators.lang)\n",
    "df_users_indicators.created_at = pd.to_datetime(df_users_indicators.created_at, errors='coerce')\n",
    "df_users_indicators.info()"
   ]
  },
  {
   "cell_type": "markdown",
   "metadata": {},
   "source": [
    "## Correlation map on indicators"
   ]
  },
  {
   "cell_type": "markdown",
   "metadata": {},
   "source": [
    "Now we visualize the correlation matrix to highlist the correlation between the attributes"
   ]
  },
  {
   "cell_type": "code",
   "execution_count": 118,
   "metadata": {},
   "outputs": [
    {
     "data": {
      "image/png": "[encoded data removed]",
      "text/plain": [
       "<Figure size 1500x1500 with 2 Axes>"
      ]
     },
     "metadata": {},
     "output_type": "display_data"
    }
   ],
   "source": [
    "corr_matrix = indicators.corr()\n",
    "\n",
    "fig, ax = plt.subplots(figsize=(15,15))         # Sample figsize in inches\n",
    "mask = np.zeros_like(corr_matrix)\n",
    "mask[np.triu_indices_from(mask)] = True\n",
    "\n",
    "# Draw the heatmap with the mask\n",
    "sn.heatmap(corr_matrix, annot=True, mask=mask, square=True)\n",
    "\n",
    "plt.show()"
   ]
  },
  {
   "cell_type": "markdown",
   "metadata": {},
   "source": [
    "We discard the following features due to high correlation:\n",
    "TODO DA SISTEMARE\n",
    "* Entropy 15 minutes\n",
    "* Tweet count\n",
    "* Tweet outside of possible publishing year\n",
    "* Total number of likes\n",
    "* Like ratio per tweet \n",
    "* Avg tweet len"
   ]
  },
  {
   "cell_type": "markdown",
   "metadata": {},
   "source": [
    "## Remove useless features"
   ]
  },
  {
   "cell_type": "code",
   "execution_count": 77,
   "metadata": {},
   "outputs": [],
   "source": [
    "del df_users_indicators['tweet_with_text_count']\n",
    "del df_users_indicators['reply_count_sum']\n",
    "del df_users_indicators['num_hashtags_sum']\n",
    "del df_users_indicators['num_urls_sum']\n",
    "del df_users_indicators['num_mentions_sum']\n",
    "del df_users_indicators['entropy_15minutes']\n",
    "del df_users_indicators['entropy_second']"
   ]
  },
  {
   "cell_type": "code",
   "execution_count": 78,
   "metadata": {},
   "outputs": [],
   "source": [
    "df_users_indicators.set_index('user_id',inplace=True)\n",
    "df_users_indicators.to_csv('../dataset/user_indicators.csv')"
   ]
  },
  {
   "cell_type": "code",
   "execution_count": 79,
   "metadata": {},
   "outputs": [
    {
     "name": "stdout",
     "output_type": "stream",
     "text": [
      "<class 'pandas.core.frame.DataFrame'>\n",
      "Int64Index: 11508 entries, 2353593986 to 933183398\n",
      "Data columns (total 14 columns):\n",
      " #   Column              Non-Null Count  Dtype  \n",
      "---  ------              --------------  -----  \n",
      " 0   lang                11508 non-null  object \n",
      " 1   bot                 11508 non-null  bool   \n",
      " 2   created_at          11508 non-null  object \n",
      " 3   statuses_count      11508 non-null  int64  \n",
      " 4   tweet_count         11508 non-null  int64  \n",
      " 5   avg_text_len        11508 non-null  float64\n",
      " 6   retweet_count_avg   11508 non-null  float64\n",
      " 7   reply_count_avg     11508 non-null  float64\n",
      " 8   favorite_count_avg  11508 non-null  float64\n",
      " 9   num_hashtags_avg    11508 non-null  float64\n",
      " 10  num_urls_avg        11508 non-null  float64\n",
      " 11  num_mentions_avg    11508 non-null  float64\n",
      " 12  retweet_count_sum   11508 non-null  int64  \n",
      " 13  favorite_count_sum  11508 non-null  int64  \n",
      "dtypes: bool(1), float64(7), int64(4), object(2)\n",
      "memory usage: 1.2+ MB\n"
     ]
    }
   ],
   "source": [
    "df_users_indicators = pd.read_csv('../dataset/user_indicators.csv', sep=',', index_col=0)\n",
    "df_users_indicators.info(verbose=True)"
   ]
  }
 ],
 "metadata": {
  "kernelspec": {
   "display_name": "Python 3.7.11 ('PythonGPU')",
   "language": "python",
   "name": "python3"
  },
  "language_info": {
   "codemirror_mode": {
    "name": "ipython",
    "version": 3
   },
   "file_extension": ".py",
   "mimetype": "text/x-python",
   "name": "python",
   "nbconvert_exporter": "python",
   "pygments_lexer": "ipython3",
   "version": "3.7.11"
  },
  "orig_nbformat": 4,
  "vscode": {
   "interpreter": {
    "hash": "d0730f60e148d57a1e4c6f650409706dbcf5ffb151704137abb6195cb5ab6161"
   }
  }
 },
 "nbformat": 4,
 "nbformat_minor": 2
}
