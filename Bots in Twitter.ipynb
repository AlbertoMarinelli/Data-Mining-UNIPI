{
 "cells": [
  {
   "cell_type": "code",
   "execution_count": null,
   "outputs": [],
   "source": [
    "import math\n",
    "import numpy as np\n",
    "import pandas as pd\n",
    "import scipy.stats as stats\n",
    "import matplotlib.pyplot as plt\n",
    "\n",
    "from collections import defaultdict\n",
    "from scipy.stats.stats import pearsonr"
   ],
   "metadata": {
    "collapsed": false,
    "pycharm": {
     "name": "#%%\n"
    }
   }
  },
  {
   "cell_type": "code",
   "execution_count": null,
   "outputs": [],
   "source": [],
   "metadata": {
    "collapsed": false,
    "pycharm": {
     "name": "#%%\n"
    }
   }
  },
  {
   "cell_type": "code",
   "execution_count": null,
   "outputs": [],
   "source": [
    "def get_indicators_csv():  # v3\n",
    "    df_tweets = pd.read_csv('./dataset/tweets.csv', sep=',', index_col=0)  # load tweets\n",
    "    # create a dataframe for storing indicators\n",
    "    # current indicators: total number of tweets, average tweet length, total number of likes, like ratio per tweet\n",
    "    df_indicators = pd.DataFrame(columns=['tweet_count', 'avg_tweet_len', 'total_num_of_likes', 'like_ratio_per_tweet'])\n",
    "    # setting the index column name to 'id'\n",
    "    df_indicators.index.names = ['id']\n",
    "\n",
    "    # iterating on tweets\n",
    "    for id_tweet, tweet in df_tweets.iterrows():\n",
    "        user_id = tweet['user_id']\n",
    "\n",
    "        #Analisi/Pulizia dei dati prima dell'estrazione degli indicatori, per tenere traccia dei dati non validi\n",
    "        if str.isdigit(str(user_id)):\n",
    "            user_id = int(user_id)\n",
    "\n",
    "            # if a user published a tweet and is not into the dataframe\n",
    "            if user_id not in df_indicators.index:\n",
    "                avg_tweet_len = len(str(tweet['text']))\n",
    "                number_of_likes = tweet['favorite_count']\n",
    "                # tweet count is set to 1 and the average length is the length of the sole tweet published\n",
    "\n",
    "                df_indicators.at[user_id, 'tweet_count'] = 1\n",
    "                df_indicators.at[user_id, 'avg_tweet_len'] = avg_tweet_len\n",
    "\n",
    "                if str.isdigit(str(number_of_likes)):  # Vedi analisi sopra\n",
    "                    df_indicators.at[user_id, 'total_num_of_likes'] = int(number_of_likes)\n",
    "                else:\n",
    "                    df_indicators.at[user_id, 'total_num_of_likes'] = 0\n",
    "\n",
    "            # if a user published a tweet and is into the dataframe\n",
    "            else:\n",
    "                previous_tweet_count = df_indicators.at[user_id, 'tweet_count']\n",
    "                previous_avg = df_indicators.at[user_id, 'avg_tweet_len']\n",
    "\n",
    "                # summing the previous average multiplied for n/n+1 with the current tweet length multiplied for\n",
    "                # 1/n+1 gives us the current average where n is the previous tweet count\n",
    "                avg_tweet_len = previous_avg * (previous_tweet_count / (previous_tweet_count + 1)) \\\n",
    "                                + len(str(tweet['text'])) * (1 / (previous_tweet_count + 1))\n",
    "\n",
    "                number_of_likes = tweet['favorite_count']\n",
    "\n",
    "                df_indicators.at[user_id, 'tweet_count'] += 1\n",
    "                df_indicators.at[user_id, 'avg_tweet_len'] = avg_tweet_len\n",
    "\n",
    "                if str.isdigit(str(number_of_likes)):\n",
    "                    df_indicators.at[user_id, 'total_num_of_likes'] += int(number_of_likes)\n",
    "\n",
    "    # ratios\n",
    "    for id_user, user in df_indicators.iterrows():\n",
    "        # tweet count is always >0, so there is no risk of a zero division\n",
    "        user['like_ratio_per_tweet'] = user['total_num_of_likes'] / user['tweet_count']\n",
    "\n",
    "    df_indicators.to_csv('./dataset/users_avg_tweet_len.csv')"
   ],
   "metadata": {
    "collapsed": false,
    "pycharm": {
     "name": "#%%\n"
    }
   }
  },
  {
   "cell_type": "code",
   "execution_count": null,
   "outputs": [],
   "source": [
    "if __name__ == '__main__':\n",
    "    df_users = pd.read_csv('./dataset/users.csv', sep=',', index_col=0)  # load users\n",
    "    get_indicators_csv()"
   ],
   "metadata": {
    "collapsed": false,
    "pycharm": {
     "name": "#%%\n"
    }
   }
  }
 ],
 "metadata": {
  "kernelspec": {
   "display_name": "Python 3",
   "language": "python",
   "name": "python3"
  },
  "language_info": {
   "codemirror_mode": {
    "name": "ipython",
    "version": 2
   },
   "file_extension": ".py",
   "mimetype": "text/x-python",
   "name": "python",
   "nbconvert_exporter": "python",
   "pygments_lexer": "ipython2",
   "version": "2.7.6"
  }
 },
 "nbformat": 4,
 "nbformat_minor": 0
}