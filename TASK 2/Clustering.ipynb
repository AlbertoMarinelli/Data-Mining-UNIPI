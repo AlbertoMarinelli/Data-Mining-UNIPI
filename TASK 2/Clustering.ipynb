{
 "cells": [
  {
   "cell_type": "markdown",
   "metadata": {},
   "source": [
    "# Task 2 Clustering\n",
    "*Alberto Roberto Marinelli, Giacomo Cignoni, Alessandro Bucci*\n",
    "## Importing Libraries\n",
    "First we import the libraries necessary to cluster the data"
   ]
  },
  {
   "cell_type": "code",
   "execution_count": 12,
   "metadata": {},
   "outputs": [],
   "source": [
    "import numpy as np\n",
    "import pandas as pd\n",
    "import matplotlib.pyplot as plt\n",
    "from sklearn.preprocessing import StandardScaler, MinMaxScaler\n",
    "from sklearn.cluster import KMeans, DBSCAN\n",
    "from sklearn.metrics import silhouette_score\n",
    "from prettytable import PrettyTable\n",
    "from tqdm import tqdm"
   ]
  },
  {
   "cell_type": "code",
   "execution_count": 13,
   "metadata": {},
   "outputs": [
    {
     "data": {
      "text/html": [
       "<div>\n",
       "<style scoped>\n",
       "    .dataframe tbody tr th:only-of-type {\n",
       "        vertical-align: middle;\n",
       "    }\n",
       "\n",
       "    .dataframe tbody tr th {\n",
       "        vertical-align: top;\n",
       "    }\n",
       "\n",
       "    .dataframe thead th {\n",
       "        text-align: right;\n",
       "    }\n",
       "</style>\n",
       "<table border=\"1\" class=\"dataframe\">\n",
       "  <thead>\n",
       "    <tr style=\"text-align: right;\">\n",
       "      <th></th>\n",
       "      <th>user_id</th>\n",
       "      <th>lang</th>\n",
       "      <th>bot</th>\n",
       "      <th>created_at</th>\n",
       "      <th>statuses_count</th>\n",
       "      <th>tweet_count</th>\n",
       "      <th>avg_text_len</th>\n",
       "      <th>retweet_count_avg</th>\n",
       "      <th>reply_count_avg</th>\n",
       "      <th>favorite_count_avg</th>\n",
       "      <th>num_hashtags_avg</th>\n",
       "      <th>num_urls_avg</th>\n",
       "      <th>num_mentions_avg</th>\n",
       "      <th>retweet_count_sum</th>\n",
       "      <th>favorite_count_sum</th>\n",
       "    </tr>\n",
       "  </thead>\n",
       "  <tbody>\n",
       "    <tr>\n",
       "      <th>0</th>\n",
       "      <td>2353593986</td>\n",
       "      <td>en</td>\n",
       "      <td>True</td>\n",
       "      <td>2019-02-22 18:00:42</td>\n",
       "      <td>76</td>\n",
       "      <td>127</td>\n",
       "      <td>62.378788</td>\n",
       "      <td>0.037879</td>\n",
       "      <td>0.000000</td>\n",
       "      <td>0.037879</td>\n",
       "      <td>0.098485</td>\n",
       "      <td>0.000000</td>\n",
       "      <td>0.272727</td>\n",
       "      <td>5</td>\n",
       "      <td>5</td>\n",
       "    </tr>\n",
       "    <tr>\n",
       "      <th>1</th>\n",
       "      <td>2358850842</td>\n",
       "      <td>en</td>\n",
       "      <td>False</td>\n",
       "      <td>2019-02-26 03:02:32</td>\n",
       "      <td>54</td>\n",
       "      <td>119</td>\n",
       "      <td>68.762295</td>\n",
       "      <td>0.024590</td>\n",
       "      <td>0.000000</td>\n",
       "      <td>0.049180</td>\n",
       "      <td>0.024590</td>\n",
       "      <td>0.000000</td>\n",
       "      <td>0.336066</td>\n",
       "      <td>3</td>\n",
       "      <td>6</td>\n",
       "    </tr>\n",
       "    <tr>\n",
       "      <th>2</th>\n",
       "      <td>137959629</td>\n",
       "      <td>en</td>\n",
       "      <td>True</td>\n",
       "      <td>2015-04-30 07:09:56</td>\n",
       "      <td>3</td>\n",
       "      <td>4</td>\n",
       "      <td>19.250000</td>\n",
       "      <td>0.000000</td>\n",
       "      <td>0.000000</td>\n",
       "      <td>0.000000</td>\n",
       "      <td>0.000000</td>\n",
       "      <td>0.000000</td>\n",
       "      <td>0.000000</td>\n",
       "      <td>0</td>\n",
       "      <td>0</td>\n",
       "    </tr>\n",
       "    <tr>\n",
       "      <th>3</th>\n",
       "      <td>466124818</td>\n",
       "      <td>it</td>\n",
       "      <td>True</td>\n",
       "      <td>2017-01-18 02:49:18</td>\n",
       "      <td>50</td>\n",
       "      <td>1394</td>\n",
       "      <td>86.763030</td>\n",
       "      <td>0.826963</td>\n",
       "      <td>0.000000</td>\n",
       "      <td>0.166782</td>\n",
       "      <td>0.073662</td>\n",
       "      <td>0.022238</td>\n",
       "      <td>0.006254</td>\n",
       "      <td>1190</td>\n",
       "      <td>240</td>\n",
       "    </tr>\n",
       "    <tr>\n",
       "      <th>4</th>\n",
       "      <td>2571493866</td>\n",
       "      <td>en</td>\n",
       "      <td>False</td>\n",
       "      <td>2019-06-18 19:30:21</td>\n",
       "      <td>7085</td>\n",
       "      <td>3535</td>\n",
       "      <td>72.214442</td>\n",
       "      <td>0.016958</td>\n",
       "      <td>0.000000</td>\n",
       "      <td>0.056072</td>\n",
       "      <td>0.117888</td>\n",
       "      <td>0.000821</td>\n",
       "      <td>0.505470</td>\n",
       "      <td>62</td>\n",
       "      <td>205</td>\n",
       "    </tr>\n",
       "    <tr>\n",
       "      <th>5</th>\n",
       "      <td>2199062688</td>\n",
       "      <td>en</td>\n",
       "      <td>False</td>\n",
       "      <td>2018-11-19 06:58:18</td>\n",
       "      <td>7406</td>\n",
       "      <td>1989</td>\n",
       "      <td>45.100913</td>\n",
       "      <td>393.697261</td>\n",
       "      <td>0.000000</td>\n",
       "      <td>0.735704</td>\n",
       "      <td>0.024027</td>\n",
       "      <td>0.022585</td>\n",
       "      <td>0.928400</td>\n",
       "      <td>819284</td>\n",
       "      <td>1531</td>\n",
       "    </tr>\n",
       "    <tr>\n",
       "      <th>6</th>\n",
       "      <td>1174869769</td>\n",
       "      <td>en</td>\n",
       "      <td>True</td>\n",
       "      <td>2018-02-15 10:51:28</td>\n",
       "      <td>21</td>\n",
       "      <td>24</td>\n",
       "      <td>64.041667</td>\n",
       "      <td>630.166667</td>\n",
       "      <td>0.000000</td>\n",
       "      <td>94.666667</td>\n",
       "      <td>0.458333</td>\n",
       "      <td>0.125000</td>\n",
       "      <td>0.125000</td>\n",
       "      <td>15124</td>\n",
       "      <td>2272</td>\n",
       "    </tr>\n",
       "    <tr>\n",
       "      <th>7</th>\n",
       "      <td>3118659848</td>\n",
       "      <td>en</td>\n",
       "      <td>False</td>\n",
       "      <td>2020-03-31 21:19:59</td>\n",
       "      <td>115</td>\n",
       "      <td>130</td>\n",
       "      <td>62.400000</td>\n",
       "      <td>3090.303704</td>\n",
       "      <td>0.000000</td>\n",
       "      <td>0.925926</td>\n",
       "      <td>0.111111</td>\n",
       "      <td>0.088889</td>\n",
       "      <td>0.807407</td>\n",
       "      <td>417191</td>\n",
       "      <td>125</td>\n",
       "    </tr>\n",
       "    <tr>\n",
       "      <th>8</th>\n",
       "      <td>616225564</td>\n",
       "      <td>en</td>\n",
       "      <td>False</td>\n",
       "      <td>2017-06-25 15:49:36</td>\n",
       "      <td>2041</td>\n",
       "      <td>58</td>\n",
       "      <td>66.883333</td>\n",
       "      <td>69.850000</td>\n",
       "      <td>0.016667</td>\n",
       "      <td>0.050000</td>\n",
       "      <td>0.233333</td>\n",
       "      <td>0.033333</td>\n",
       "      <td>0.016667</td>\n",
       "      <td>4191</td>\n",
       "      <td>3</td>\n",
       "    </tr>\n",
       "    <tr>\n",
       "      <th>9</th>\n",
       "      <td>2357425536</td>\n",
       "      <td>en</td>\n",
       "      <td>True</td>\n",
       "      <td>2019-02-25 04:30:56</td>\n",
       "      <td>69</td>\n",
       "      <td>144</td>\n",
       "      <td>64.286667</td>\n",
       "      <td>0.040000</td>\n",
       "      <td>0.000000</td>\n",
       "      <td>0.033333</td>\n",
       "      <td>0.100000</td>\n",
       "      <td>0.000000</td>\n",
       "      <td>0.340000</td>\n",
       "      <td>6</td>\n",
       "      <td>5</td>\n",
       "    </tr>\n",
       "  </tbody>\n",
       "</table>\n",
       "</div>"
      ],
      "text/plain": [
       "      user_id lang    bot           created_at  statuses_count  tweet_count  \\\n",
       "0  2353593986   en   True  2019-02-22 18:00:42              76          127   \n",
       "1  2358850842   en  False  2019-02-26 03:02:32              54          119   \n",
       "2   137959629   en   True  2015-04-30 07:09:56               3            4   \n",
       "3   466124818   it   True  2017-01-18 02:49:18              50         1394   \n",
       "4  2571493866   en  False  2019-06-18 19:30:21            7085         3535   \n",
       "5  2199062688   en  False  2018-11-19 06:58:18            7406         1989   \n",
       "6  1174869769   en   True  2018-02-15 10:51:28              21           24   \n",
       "7  3118659848   en  False  2020-03-31 21:19:59             115          130   \n",
       "8   616225564   en  False  2017-06-25 15:49:36            2041           58   \n",
       "9  2357425536   en   True  2019-02-25 04:30:56              69          144   \n",
       "\n",
       "   avg_text_len  retweet_count_avg  reply_count_avg  favorite_count_avg  \\\n",
       "0     62.378788           0.037879         0.000000            0.037879   \n",
       "1     68.762295           0.024590         0.000000            0.049180   \n",
       "2     19.250000           0.000000         0.000000            0.000000   \n",
       "3     86.763030           0.826963         0.000000            0.166782   \n",
       "4     72.214442           0.016958         0.000000            0.056072   \n",
       "5     45.100913         393.697261         0.000000            0.735704   \n",
       "6     64.041667         630.166667         0.000000           94.666667   \n",
       "7     62.400000        3090.303704         0.000000            0.925926   \n",
       "8     66.883333          69.850000         0.016667            0.050000   \n",
       "9     64.286667           0.040000         0.000000            0.033333   \n",
       "\n",
       "   num_hashtags_avg  num_urls_avg  num_mentions_avg  retweet_count_sum  \\\n",
       "0          0.098485      0.000000          0.272727                  5   \n",
       "1          0.024590      0.000000          0.336066                  3   \n",
       "2          0.000000      0.000000          0.000000                  0   \n",
       "3          0.073662      0.022238          0.006254               1190   \n",
       "4          0.117888      0.000821          0.505470                 62   \n",
       "5          0.024027      0.022585          0.928400             819284   \n",
       "6          0.458333      0.125000          0.125000              15124   \n",
       "7          0.111111      0.088889          0.807407             417191   \n",
       "8          0.233333      0.033333          0.016667               4191   \n",
       "9          0.100000      0.000000          0.340000                  6   \n",
       "\n",
       "   favorite_count_sum  \n",
       "0                   5  \n",
       "1                   6  \n",
       "2                   0  \n",
       "3                 240  \n",
       "4                 205  \n",
       "5                1531  \n",
       "6                2272  \n",
       "7                 125  \n",
       "8                   3  \n",
       "9                   5  "
      ]
     },
     "execution_count": 13,
     "metadata": {},
     "output_type": "execute_result"
    }
   ],
   "source": [
    "df = pd.read_csv(\"../dataset/user_indicators.csv\")\n",
    "df.head(10)"
   ]
  },
  {
   "cell_type": "code",
   "execution_count": 14,
   "metadata": {},
   "outputs": [
    {
     "name": "stdout",
     "output_type": "stream",
     "text": [
      "<class 'pandas.core.frame.DataFrame'>\n",
      "RangeIndex: 11508 entries, 0 to 11507\n",
      "Data columns (total 15 columns):\n",
      " #   Column              Non-Null Count  Dtype  \n",
      "---  ------              --------------  -----  \n",
      " 0   user_id             11508 non-null  int64  \n",
      " 1   lang                11508 non-null  object \n",
      " 2   bot                 11508 non-null  bool   \n",
      " 3   created_at          11508 non-null  object \n",
      " 4   statuses_count      11508 non-null  int64  \n",
      " 5   tweet_count         11508 non-null  int64  \n",
      " 6   avg_text_len        11508 non-null  float64\n",
      " 7   retweet_count_avg   11508 non-null  float64\n",
      " 8   reply_count_avg     11508 non-null  float64\n",
      " 9   favorite_count_avg  11508 non-null  float64\n",
      " 10  num_hashtags_avg    11508 non-null  float64\n",
      " 11  num_urls_avg        11508 non-null  float64\n",
      " 12  num_mentions_avg    11508 non-null  float64\n",
      " 13  retweet_count_sum   11508 non-null  int64  \n",
      " 14  favorite_count_sum  11508 non-null  int64  \n",
      "dtypes: bool(1), float64(7), int64(5), object(2)\n",
      "memory usage: 1.2+ MB\n"
     ]
    }
   ],
   "source": [
    "df.info()"
   ]
  },
  {
   "cell_type": "code",
   "execution_count": 15,
   "metadata": {},
   "outputs": [
    {
     "data": {
      "text/html": [
       "<div>\n",
       "<style scoped>\n",
       "    .dataframe tbody tr th:only-of-type {\n",
       "        vertical-align: middle;\n",
       "    }\n",
       "\n",
       "    .dataframe tbody tr th {\n",
       "        vertical-align: top;\n",
       "    }\n",
       "\n",
       "    .dataframe thead th {\n",
       "        text-align: right;\n",
       "    }\n",
       "</style>\n",
       "<table border=\"1\" class=\"dataframe\">\n",
       "  <thead>\n",
       "    <tr style=\"text-align: right;\">\n",
       "      <th></th>\n",
       "      <th>statuses_count</th>\n",
       "      <th>tweet_count</th>\n",
       "      <th>avg_text_len</th>\n",
       "      <th>retweet_count_avg</th>\n",
       "      <th>reply_count_avg</th>\n",
       "      <th>favorite_count_avg</th>\n",
       "      <th>num_hashtags_avg</th>\n",
       "      <th>num_urls_avg</th>\n",
       "      <th>num_mentions_avg</th>\n",
       "      <th>retweet_count_sum</th>\n",
       "      <th>favorite_count_sum</th>\n",
       "    </tr>\n",
       "  </thead>\n",
       "  <tbody>\n",
       "    <tr>\n",
       "      <th>0</th>\n",
       "      <td>76</td>\n",
       "      <td>127</td>\n",
       "      <td>62.378788</td>\n",
       "      <td>0.037879</td>\n",
       "      <td>0.0</td>\n",
       "      <td>0.037879</td>\n",
       "      <td>0.098485</td>\n",
       "      <td>0.000000</td>\n",
       "      <td>0.272727</td>\n",
       "      <td>5</td>\n",
       "      <td>5</td>\n",
       "    </tr>\n",
       "    <tr>\n",
       "      <th>1</th>\n",
       "      <td>54</td>\n",
       "      <td>119</td>\n",
       "      <td>68.762295</td>\n",
       "      <td>0.024590</td>\n",
       "      <td>0.0</td>\n",
       "      <td>0.049180</td>\n",
       "      <td>0.024590</td>\n",
       "      <td>0.000000</td>\n",
       "      <td>0.336066</td>\n",
       "      <td>3</td>\n",
       "      <td>6</td>\n",
       "    </tr>\n",
       "    <tr>\n",
       "      <th>2</th>\n",
       "      <td>3</td>\n",
       "      <td>4</td>\n",
       "      <td>19.250000</td>\n",
       "      <td>0.000000</td>\n",
       "      <td>0.0</td>\n",
       "      <td>0.000000</td>\n",
       "      <td>0.000000</td>\n",
       "      <td>0.000000</td>\n",
       "      <td>0.000000</td>\n",
       "      <td>0</td>\n",
       "      <td>0</td>\n",
       "    </tr>\n",
       "    <tr>\n",
       "      <th>3</th>\n",
       "      <td>50</td>\n",
       "      <td>1394</td>\n",
       "      <td>86.763030</td>\n",
       "      <td>0.826963</td>\n",
       "      <td>0.0</td>\n",
       "      <td>0.166782</td>\n",
       "      <td>0.073662</td>\n",
       "      <td>0.022238</td>\n",
       "      <td>0.006254</td>\n",
       "      <td>1190</td>\n",
       "      <td>240</td>\n",
       "    </tr>\n",
       "    <tr>\n",
       "      <th>4</th>\n",
       "      <td>7085</td>\n",
       "      <td>3535</td>\n",
       "      <td>72.214442</td>\n",
       "      <td>0.016958</td>\n",
       "      <td>0.0</td>\n",
       "      <td>0.056072</td>\n",
       "      <td>0.117888</td>\n",
       "      <td>0.000821</td>\n",
       "      <td>0.505470</td>\n",
       "      <td>62</td>\n",
       "      <td>205</td>\n",
       "    </tr>\n",
       "  </tbody>\n",
       "</table>\n",
       "</div>"
      ],
      "text/plain": [
       "   statuses_count  tweet_count  avg_text_len  retweet_count_avg  \\\n",
       "0              76          127     62.378788           0.037879   \n",
       "1              54          119     68.762295           0.024590   \n",
       "2               3            4     19.250000           0.000000   \n",
       "3              50         1394     86.763030           0.826963   \n",
       "4            7085         3535     72.214442           0.016958   \n",
       "\n",
       "   reply_count_avg  favorite_count_avg  num_hashtags_avg  num_urls_avg  \\\n",
       "0              0.0            0.037879          0.098485      0.000000   \n",
       "1              0.0            0.049180          0.024590      0.000000   \n",
       "2              0.0            0.000000          0.000000      0.000000   \n",
       "3              0.0            0.166782          0.073662      0.022238   \n",
       "4              0.0            0.056072          0.117888      0.000821   \n",
       "\n",
       "   num_mentions_avg  retweet_count_sum  favorite_count_sum  \n",
       "0          0.272727                  5                   5  \n",
       "1          0.336066                  3                   6  \n",
       "2          0.000000                  0                   0  \n",
       "3          0.006254               1190                 240  \n",
       "4          0.505470                 62                 205  "
      ]
     },
     "execution_count": 15,
     "metadata": {},
     "output_type": "execute_result"
    }
   ],
   "source": [
    "cat_feature = df[['user_id', 'lang', 'created_at']]\n",
    "del df['user_id']\n",
    "del df['lang']\n",
    "del df['created_at']\n",
    "del df['bot']\n",
    "df.head()"
   ]
  },
  {
   "cell_type": "markdown",
   "metadata": {},
   "source": [
    "## Clustering Preprocessing - Normalization  \n",
    "A good practice in clustering to avoid the bias given by the range of the different attribute is normalization.  \n",
    "The most common adopted normalizations are: Z-Score and Min-Max"
   ]
  },
  {
   "cell_type": "code",
   "execution_count": 16,
   "metadata": {},
   "outputs": [
    {
     "data": {
      "text/plain": [
       "array([[-0.30258956, -0.66364966, -0.34704183, ..., -0.2293346 ,\n",
       "        -0.17600845, -0.07752062],\n",
       "       [-0.30376279, -0.67015003,  0.04770931, ..., -0.05664378,\n",
       "        -0.1760091 , -0.07748064],\n",
       "       [-0.30648253, -0.76359287, -3.0140927 , ..., -0.97292096,\n",
       "        -0.17601008, -0.07772051],\n",
       "       ...,\n",
       "       [-0.30632254, -0.76115523,  0.25676065, ...,  0.19557188,\n",
       "        -0.17601008, -0.07772051],\n",
       "       [-0.30440273, -0.68477587, -0.32452807, ...,  0.01380633,\n",
       "        -0.17600779, -0.07740068],\n",
       "       [-0.0251226 ,  2.11607153, -0.98720074, ...,  1.19040404,\n",
       "         0.48220648, -0.06028945]])"
      ]
     },
     "execution_count": 16,
     "metadata": {},
     "output_type": "execute_result"
    }
   ],
   "source": [
    "scaler = StandardScaler()\n",
    "X_std = scaler.fit_transform(df.values)\n",
    "X_std"
   ]
  },
  {
   "cell_type": "code",
   "execution_count": 17,
   "metadata": {},
   "outputs": [
    {
     "data": {
      "text/plain": [
       "array([[1.90211610e-04, 3.21510589e-02, 2.45366892e-01, ...,\n",
       "        4.64618484e-02, 4.96593715e-08, 5.40565085e-06],\n",
       "       [1.35150355e-04, 3.01097219e-02, 2.71745021e-01, ...,\n",
       "        5.72521684e-02, 2.97956229e-08, 6.48678102e-06],\n",
       "       [7.50835304e-06, 7.65501403e-04, 6.71487603e-02, ...,\n",
       "        0.00000000e+00, 0.00000000e+00, 0.00000000e+00],\n",
       "       ...,\n",
       "       [1.50167061e-05, 1.53100281e-03, 2.85714286e-01, ...,\n",
       "        7.30114761e-02, 0.00000000e+00, 0.00000000e+00],\n",
       "       [1.05116943e-04, 2.55167134e-02, 2.46871311e-01, ...,\n",
       "        6.16541353e-02, 6.95231201e-08, 8.64904136e-06],\n",
       "       [1.32121986e-02, 9.05077826e-01, 2.02590084e-01, ...,\n",
       "        1.35172032e-01, 2.00273564e-02, 4.71372754e-04]])"
      ]
     },
     "execution_count": 17,
     "metadata": {},
     "output_type": "execute_result"
    }
   ],
   "source": [
    "scaler = MinMaxScaler()\n",
    "X_minmax = scaler.fit_transform(df.values)\n",
    "X_minmax"
   ]
  },
  {
   "cell_type": "markdown",
   "metadata": {},
   "source": [
    "## K-MEANS"
   ]
  },
  {
   "cell_type": "markdown",
   "metadata": {},
   "source": [
    "For K-Means we use"
   ]
  },
  {
   "cell_type": "markdown",
   "metadata": {},
   "source": [
    "Best results without entropies obtained using **minmax scaler**"
   ]
  },
  {
   "cell_type": "code",
   "execution_count": 18,
   "metadata": {},
   "outputs": [],
   "source": [
    "def KMeansFunction (X, n_clusters_list, n_init_value, max_iter_value=300):\n",
    "    kmeans_list = list()\n",
    "\n",
    "    for numCluster in tqdm(n_clusters_list):\n",
    "\n",
    "        kmeans = KMeans(n_clusters=numCluster, n_init=n_init_value, max_iter=max_iter_value)\n",
    "        kmeans.fit(X)\n",
    "        kmeans_list.append(kmeans)\n",
    "    \n",
    "    return kmeans_list"
   ]
  },
  {
   "cell_type": "code",
   "execution_count": 36,
   "metadata": {},
   "outputs": [
    {
     "name": "stderr",
     "output_type": "stream",
     "text": [
      "100%|██████████| 30/30 [00:41<00:00,  1.40s/it]\n"
     ]
    },
    {
     "name": "stdout",
     "output_type": "stream",
     "text": [
      "K: 1  - SSE: 1312.752078323833 - SILHOUETTE: nan\n",
      "K: 2  - SSE: 380.22874165317205 - SILHOUETTE: 0.6768948380985009\n",
      "K: 3  - SSE: 209.90063980684494 - SILHOUETTE: 0.6637726026529703\n",
      "K: 4  - SSE: 181.8584228172617 - SILHOUETTE: 0.610024976410328\n",
      "K: 5  - SSE: 162.52658574430197 - SILHOUETTE: 0.5674766541257461\n",
      "K: 6  - SSE: 148.95483453978468 - SILHOUETTE: 0.5577737819849892\n",
      "K: 7  - SSE: 137.60846225445098 - SILHOUETTE: 0.5434075806439342\n",
      "K: 8  - SSE: 128.9781134447045 - SILHOUETTE: 0.5523860036715093\n",
      "K: 9  - SSE: 119.59374794170606 - SILHOUETTE: 0.5495080723262444\n",
      "K: 10  - SSE: 113.11932138181744 - SILHOUETTE: 0.355854332042706\n",
      "K: 11  - SSE: 105.94293357355956 - SILHOUETTE: 0.5524575136487407\n",
      "K: 12  - SSE: 99.68121642378169 - SILHOUETTE: 0.3630393965422243\n",
      "K: 13  - SSE: 94.12175161021777 - SILHOUETTE: 0.5539710780921174\n",
      "K: 14  - SSE: 88.84384650214821 - SILHOUETTE: 0.3730224129640013\n",
      "K: 15  - SSE: 84.75888498561106 - SILHOUETTE: 0.37356814954657114\n",
      "K: 16  - SSE: 79.85969786504567 - SILHOUETTE: 0.38784435264030953\n",
      "K: 17  - SSE: 76.8442041374391 - SILHOUETTE: 0.386599772295275\n",
      "K: 18  - SSE: 74.4916442732625 - SILHOUETTE: 0.39759642864486605\n",
      "K: 19  - SSE: 70.70024177253818 - SILHOUETTE: 0.4039032303731705\n",
      "K: 20  - SSE: 68.62350386342116 - SILHOUETTE: 0.4051661192396196\n",
      "K: 21  - SSE: 66.569471967265 - SILHOUETTE: 0.4131876408462221\n",
      "K: 22  - SSE: 65.0338547556712 - SILHOUETTE: 0.41368656055028863\n",
      "K: 23  - SSE: 63.90855767566131 - SILHOUETTE: 0.4107296106712477\n",
      "K: 24  - SSE: 61.50537493486923 - SILHOUETTE: 0.419845096935782\n",
      "K: 25  - SSE: 60.48420457713447 - SILHOUETTE: 0.406586266823767\n",
      "K: 26  - SSE: 58.82831087395204 - SILHOUETTE: 0.4182556895595697\n",
      "K: 27  - SSE: 57.221436416591054 - SILHOUETTE: 0.4187319238343219\n",
      "K: 28  - SSE: 55.94293718230393 - SILHOUETTE: 0.41678632640771174\n",
      "K: 29  - SSE: 55.010296730223025 - SILHOUETTE: 0.42227562501055876\n",
      "K: 30  - SSE: 53.65472975591456 - SILHOUETTE: 0.4175559046457671\n"
     ]
    }
   ],
   "source": [
    "clusters_list = [x for x in range(1, 31)]\n",
    "init_value = 10\n",
    "iter_value = 300\n",
    "\n",
    "kmeans_list = KMeansFunction (X_minmax, clusters_list, init_value, iter_value)\n",
    "\n",
    "sse_list = []\n",
    "silhouette_list = []\n",
    "for i, kmeans in enumerate(kmeans_list):\n",
    "    sse_list.append(kmeans.inertia_)\n",
    "    try:\n",
    "        silhouette = silhouette_score(X_minmax, kmeans.labels_)\n",
    "    except:\n",
    "        silhouette = np.nan # silhouette returns exception when there is only 1 label\n",
    "    silhouette_list.append(silhouette)\n",
    "\n",
    "    print('K:', clusters_list[i], ' - SSE:', kmeans.inertia_, '- SILHOUETTE:', silhouette)\n"
   ]
  },
  {
   "cell_type": "code",
   "execution_count": 39,
   "metadata": {},
   "outputs": [
    {
     "data": {
      "image/png": "[encoded data removed]",
      "text/plain": [
       "<Figure size 640x480 with 1 Axes>"
      ]
     },
     "metadata": {},
     "output_type": "display_data"
    }
   ],
   "source": [
    "plt.plot(range(2, len(sse_list) + 2), sse_list)\n",
    "plt.ylabel('SSE')\n",
    "plt.xlabel('K')\n",
    "plt.tick_params(axis='both', which='major', labelsize=22)\n",
    "plt.xticks(clusters_list[4::5])\n",
    "plt.title('SSE')\n",
    "plt.show()"
   ]
  },
  {
   "cell_type": "code",
   "execution_count": 40,
   "metadata": {},
   "outputs": [
    {
     "data": {
      "image/png": "[encoded data removed]",
      "text/plain": [
       "<Figure size 640x480 with 1 Axes>"
      ]
     },
     "metadata": {},
     "output_type": "display_data"
    }
   ],
   "source": [
    "plt.plot(range(2, len(silhouette_list) + 2), silhouette_list)\n",
    "plt.ylabel('SILHOUETTE')\n",
    "plt.xlabel('K')\n",
    "plt.tick_params(axis='both', which='major', labelsize=22)\n",
    "plt.xticks(clusters_list[4::5])\n",
    "plt.title('SILHOUETTE')\n",
    "plt.show()"
   ]
  },
  {
   "cell_type": "markdown",
   "metadata": {},
   "source": [
    "Scegliere k adeguato"
   ]
  },
  {
   "cell_type": "markdown",
   "metadata": {},
   "source": [
    "scatter con plot adeguato"
   ]
  },
  {
   "cell_type": "markdown",
   "metadata": {},
   "source": [
    "distribuzioni plot per ogni cluster (utilizzando label bot)"
   ]
  },
  {
   "cell_type": "markdown",
   "metadata": {},
   "source": [
    "# DBSCAN"
   ]
  },
  {
   "cell_type": "code",
   "execution_count": 22,
   "metadata": {},
   "outputs": [],
   "source": [
    "def db_scan_function (X, eps_list, minpts_list, max_iter_value=300):\n",
    "    dbscan_table = list()\n",
    "\n",
    "    for i, eps in tqdm(enumerate(eps_list)):\n",
    "        dbscan_table.append([]) \n",
    "\n",
    "        for minpts in tqdm(minpts_list, leave=False):\n",
    "            dbscan = DBSCAN(eps=eps, min_samples=minpts, n_jobs=-1)\n",
    "            dbscan.fit(X)\n",
    "            dbscan_table[i].append(dbscan)\n",
    "    \n",
    "    return dbscan_table"
   ]
  },
  {
   "cell_type": "markdown",
   "metadata": {},
   "source": [
    "DBSCAN with **minmax scaler**"
   ]
  },
  {
   "cell_type": "code",
   "execution_count": 23,
   "metadata": {},
   "outputs": [
    {
     "name": "stderr",
     "output_type": "stream",
     "text": [
      "6it [00:49,  8.33s/it]\n"
     ]
    }
   ],
   "source": [
    "eps_list = [0.01, 0.05, 0.1, 0.5, 0.7, 1] # min max vals\n",
    "minpts_list = [2, 3, 4, 5] # min-max\n",
    "\n",
    "dbscan_table = db_scan_function(X_minmax, eps_list, minpts_list)"
   ]
  },
  {
   "cell_type": "code",
   "execution_count": 33,
   "metadata": {},
   "outputs": [
    {
     "name": "stdout",
     "output_type": "stream",
     "text": [
      "['eps\\\\minpts', 2, 3, 4, 5]\n"
     ]
    },
    {
     "name": "stderr",
     "output_type": "stream",
     "text": [
      "6it [01:17, 12.87s/it]"
     ]
    },
    {
     "name": "stdout",
     "output_type": "stream",
     "text": [
      "+------------+-------------------+------------------+------------------+------------------+\n",
      "| eps\\minpts |         2         |        3         |        4         |        5         |\n",
      "+------------+-------------------+------------------+------------------+------------------+\n",
      "|    0.01    | -0.27-n_clust:113 | -0.14-n_clust:42 | -0.1-n_clust:27  | -0.09-n_clust:23 |\n",
      "|    0.05    |  -0.61-n_clust:84 | -0.31-n_clust:32 | -0.27-n_clust:16 | -0.29-n_clust:13 |\n",
      "|    0.1     |  -0.32-n_clust:28 | 0.01-n_clust:10  |  0.15-n_clust:6  |  0.19-n_clust:5  |\n",
      "|    0.5     |   0.67-n_clust:1  |  0.67-n_clust:1  |  0.67-n_clust:1  |  0.67-n_clust:1  |\n",
      "|    0.7     |   0.69-n_clust:1  |  0.69-n_clust:1  |  0.69-n_clust:1  |  0.69-n_clust:1  |\n",
      "|     1      |   nan-n_clust:0   |  nan-n_clust:0   |  nan-n_clust:0   |  nan-n_clust:0   |\n",
      "+------------+-------------------+------------------+------------------+------------------+\n"
     ]
    },
    {
     "name": "stderr",
     "output_type": "stream",
     "text": [
      "\n"
     ]
    }
   ],
   "source": [
    "silhouette_list = np.zeros((len(eps_list), len(minpts_list)))\n",
    "t = PrettyTable()\n",
    "t.field_names = ['eps\\minpts'] + minpts_list\n",
    "\n",
    "for i, eps in tqdm(enumerate(eps_list)):\n",
    "    row_str = [str(eps)]\n",
    "    for j, minpts  in tqdm(enumerate(minpts_list), leave=False):\n",
    "        dbscan = dbscan_table[i][j]\n",
    "\n",
    "        try:\n",
    "            silhouette = round(silhouette_score(X_minmax, dbscan.labels_), 2)\n",
    "        except:\n",
    "            silhouette = np.nan\n",
    "        silhouette_list[i][j] = silhouette\n",
    "        cell_str = str(silhouette) + '-n_clust:'+str(len(np.unique(dbscan.labels_))-1)\n",
    "        row_str.append(cell_str)\n",
    "\n",
    "    t.add_row(row_str)\n",
    "\n",
    "print(t)"
   ]
  },
  {
   "cell_type": "markdown",
   "metadata": {},
   "source": [
    "DBSCAN with **standard scaler**"
   ]
  },
  {
   "cell_type": "code",
   "execution_count": 34,
   "metadata": {},
   "outputs": [
    {
     "name": "stderr",
     "output_type": "stream",
     "text": [
      "6it [01:40, 16.82s/it]\n"
     ]
    }
   ],
   "source": [
    "eps_list = [1, 1.25, 1.5, 2, 2.5, 3] \n",
    "minpts_list = [3, 4, 5, 6] \n",
    "\n",
    "dbscan_table = db_scan_function(X_std, eps_list, minpts_list)"
   ]
  },
  {
   "cell_type": "code",
   "execution_count": 35,
   "metadata": {},
   "outputs": [
    {
     "name": "stdout",
     "output_type": "stream",
     "text": [
      "+------------+-----------------+-----------------+----------------+----------------+\n",
      "| eps\\minpts |        3        |        4        |       5        |       6        |\n",
      "+------------+-----------------+-----------------+----------------+----------------+\n",
      "|     1      | 0.18-n_clust:18 | 0.21-n_clust:10 | 0.43-n_clust:4 | 0.55-n_clust:3 |\n",
      "|    1.25    | 0.21-n_clust:16 |  0.26-n_clust:7 | 0.49-n_clust:3 | 0.55-n_clust:4 |\n",
      "|    1.5     | 0.31-n_clust:10 |  0.32-n_clust:7 | 0.3-n_clust:2  | 0.56-n_clust:2 |\n",
      "|     2      | 0.59-n_clust:10 |  0.59-n_clust:6 | 0.82-n_clust:1 | 0.81-n_clust:1 |\n",
      "|    2.5     |  0.65-n_clust:8 |  0.7-n_clust:4  | 0.81-n_clust:3 | 0.84-n_clust:2 |\n",
      "|     3      |  0.7-n_clust:7  |  0.7-n_clust:6  | 0.7-n_clust:5  | 0.71-n_clust:3 |\n",
      "+------------+-----------------+-----------------+----------------+----------------+\n"
     ]
    }
   ],
   "source": [
    "silhouette_arr = np.zeros((len(eps_list), len(minpts_list)))\n",
    "t = PrettyTable()\n",
    "t.field_names = ['eps\\minpts'] + minpts_list\n",
    "\n",
    "\n",
    "for i, eps in enumerate(eps_list):\n",
    "    row_str = [str(eps)]\n",
    "    for j, minpts  in enumerate(minpts_list):\n",
    "        dbscan = dbscan_table[i][j]\n",
    "\n",
    "        try:\n",
    "            silhouette = round(silhouette_score(X_std, dbscan.labels_), 2)\n",
    "        except:\n",
    "            silhouette = np.nan\n",
    "        silhouette_arr[i][j] = silhouette\n",
    "        cell_str = str(silhouette) + '-n_clust:'+str(len(np.unique(dbscan.labels_))-1)\n",
    "        row_str.append(cell_str)\n",
    "        #print('eps:', eps, 'minpts:', minpts ,' - Silhouette:', silhouette)\n",
    "        #print('unique labels:', np.unique(dbscan.labels_))\n",
    "    t.add_row(row_str)\n",
    "\n",
    "print(t)"
   ]
  },
  {
   "cell_type": "code",
   "execution_count": null,
   "metadata": {},
   "outputs": [
    {
     "ename": "NameError",
     "evalue": "name 'silhouette_list' is not defined",
     "output_type": "error",
     "traceback": [
      "\u001b[1;31m---------------------------------------------------------------------------\u001b[0m",
      "\u001b[1;31mNameError\u001b[0m                                 Traceback (most recent call last)",
      "\u001b[1;32m<ipython-input-10-d774efa5d08f>\u001b[0m in \u001b[0;36m<module>\u001b[1;34m\u001b[0m\n\u001b[0;32m      1\u001b[0m \u001b[1;32mfor\u001b[0m \u001b[0mi\u001b[0m\u001b[1;33m,\u001b[0m \u001b[0meps\u001b[0m \u001b[1;32min\u001b[0m \u001b[0menumerate\u001b[0m\u001b[1;33m(\u001b[0m\u001b[0meps_list\u001b[0m\u001b[1;33m)\u001b[0m\u001b[1;33m:\u001b[0m\u001b[1;33m\u001b[0m\u001b[1;33m\u001b[0m\u001b[0m\n\u001b[1;32m----> 2\u001b[1;33m     \u001b[0mplt\u001b[0m\u001b[1;33m.\u001b[0m\u001b[0mplot\u001b[0m\u001b[1;33m(\u001b[0m\u001b[0mrange\u001b[0m\u001b[1;33m(\u001b[0m\u001b[0mlen\u001b[0m\u001b[1;33m(\u001b[0m\u001b[0mminpts_list\u001b[0m\u001b[1;33m)\u001b[0m\u001b[1;33m)\u001b[0m\u001b[1;33m,\u001b[0m \u001b[0msilhouette_list\u001b[0m\u001b[1;33m[\u001b[0m\u001b[0mi\u001b[0m\u001b[1;33m]\u001b[0m\u001b[1;33m)\u001b[0m\u001b[1;33m\u001b[0m\u001b[1;33m\u001b[0m\u001b[0m\n\u001b[0m\u001b[0;32m      3\u001b[0m     \u001b[0mplt\u001b[0m\u001b[1;33m.\u001b[0m\u001b[0mylabel\u001b[0m\u001b[1;33m(\u001b[0m\u001b[1;34m'Silhouette'\u001b[0m\u001b[1;33m)\u001b[0m\u001b[1;33m\u001b[0m\u001b[1;33m\u001b[0m\u001b[0m\n\u001b[0;32m      4\u001b[0m     \u001b[0mplt\u001b[0m\u001b[1;33m.\u001b[0m\u001b[0mxlabel\u001b[0m\u001b[1;33m(\u001b[0m\u001b[1;34m'MinPts'\u001b[0m\u001b[1;33m)\u001b[0m\u001b[1;33m\u001b[0m\u001b[1;33m\u001b[0m\u001b[0m\n\u001b[0;32m      5\u001b[0m     \u001b[0mplt\u001b[0m\u001b[1;33m.\u001b[0m\u001b[0mtick_params\u001b[0m\u001b[1;33m(\u001b[0m\u001b[0maxis\u001b[0m\u001b[1;33m=\u001b[0m\u001b[1;34m'both'\u001b[0m\u001b[1;33m,\u001b[0m \u001b[0mwhich\u001b[0m\u001b[1;33m=\u001b[0m\u001b[1;34m'major'\u001b[0m\u001b[1;33m,\u001b[0m \u001b[0mlabelsize\u001b[0m\u001b[1;33m=\u001b[0m\u001b[1;36m22\u001b[0m\u001b[1;33m)\u001b[0m\u001b[1;33m\u001b[0m\u001b[1;33m\u001b[0m\u001b[0m\n",
      "\u001b[1;31mNameError\u001b[0m: name 'silhouette_list' is not defined"
     ]
    }
   ],
   "source": [
    "for i, eps in enumerate(eps_list):\n",
    "    plt.plot(range(len(minpts_list)), silhouette_list[i])\n",
    "    plt.ylabel('Silhouette')\n",
    "    plt.xlabel('MinPts')\n",
    "    plt.tick_params(axis='both', which='major', labelsize=22)\n",
    "    plt.xticks(minpts_list)\n",
    "    plt.title('EPS:', eps)\n",
    "\n",
    "    plt.show()"
   ]
  }
 ],
 "metadata": {
  "kernelspec": {
   "display_name": "Python 3.7.11 ('PythonGPU')",
   "language": "python",
   "name": "python3"
  },
  "language_info": {
   "codemirror_mode": {
    "name": "ipython",
    "version": 3
   },
   "file_extension": ".py",
   "mimetype": "text/x-python",
   "name": "python",
   "nbconvert_exporter": "python",
   "pygments_lexer": "ipython3",
   "version": "3.7.11"
  },
  "orig_nbformat": 4,
  "vscode": {
   "interpreter": {
    "hash": "d0730f60e148d57a1e4c6f650409706dbcf5ffb151704137abb6195cb5ab6161"
   }
  }
 },
 "nbformat": 4,
 "nbformat_minor": 2
}
