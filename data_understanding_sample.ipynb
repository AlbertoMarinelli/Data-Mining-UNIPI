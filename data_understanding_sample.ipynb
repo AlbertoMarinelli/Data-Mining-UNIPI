{
 "cells": [
  {
   "cell_type": "markdown",
   "metadata": {},
   "source": [
    "# Task 1.1 Data Understanding\n",
    "*Alberto Roberto Marinelli, Giacomo Cignoni, Alessandro Bucci*\n",
    "## Importing Libraries\n",
    "First we import the libraries necessary to analyze the data"
   ]
  },
  {
   "cell_type": "code",
   "execution_count": 123,
   "metadata": {},
   "outputs": [],
   "source": [
    "import math\n",
    "import sys\n",
    "import numpy as np\n",
    "import pandas as pd\n",
    "import seaborn as sn\n",
    "import scipy.stats as stats\n",
    "import matplotlib.pyplot as plt\n",
    "from sklearn import decomposition"
   ]
  },
  {
   "cell_type": "code",
   "execution_count": 161,
   "metadata": {},
   "outputs": [],
   "source": [
    "pd.set_option('mode.use_inf_as_na', True)\n",
    "\n",
    "def mr_bins(number_of_samples):\n",
    "    return (np.log2(number_of_samples)).astype('int64') + 1\n"
   ]
  },
  {
   "cell_type": "markdown",
   "metadata": {},
   "source": [
    "Then we load the datasets"
   ]
  },
  {
   "cell_type": "code",
   "execution_count": 125,
   "metadata": {},
   "outputs": [],
   "source": [
    "df_tweets_sample = pd.read_csv('./dataset/tweets_sample.csv', sep=',', index_col=0)  # load tweets\n",
    "df_users = pd.read_csv('./dataset/users.csv', sep=',', index_col=0)  # load users"
   ]
  },
  {
   "cell_type": "code",
   "execution_count": 126,
   "metadata": {},
   "outputs": [
    {
     "name": "stdout",
     "output_type": "stream",
     "text": [
      "<class 'pandas.core.frame.DataFrame'>\n",
      "Int64Index: 11508 entries, 2353593986 to 933183398\n",
      "Data columns (total 5 columns):\n",
      " #   Column          Non-Null Count  Dtype  \n",
      "---  ------          --------------  -----  \n",
      " 0   name            11507 non-null  object \n",
      " 1   lang            11508 non-null  object \n",
      " 2   bot             11508 non-null  int64  \n",
      " 3   created_at      11508 non-null  object \n",
      " 4   statuses_count  11109 non-null  float64\n",
      "dtypes: float64(1), int64(1), object(3)\n",
      "memory usage: 539.4+ KB\n"
     ]
    }
   ],
   "source": [
    "df_users.info()"
   ]
  },
  {
   "cell_type": "code",
   "execution_count": 127,
   "metadata": {},
   "outputs": [
    {
     "name": "stdout",
     "output_type": "stream",
     "text": [
      "<class 'pandas.core.frame.DataFrame'>\n",
      "Index: 136647 entries, 528578456452612097 to 520574848935153664\n",
      "Data columns (total 9 columns):\n",
      " #   Column          Non-Null Count   Dtype \n",
      "---  ------          --------------   ----- \n",
      " 0   user_id         134464 non-null  object\n",
      " 1   retweet_count   132232 non-null  object\n",
      " 2   reply_count     130163 non-null  object\n",
      " 3   favorite_count  130128 non-null  object\n",
      " 4   num_hashtags    126020 non-null  object\n",
      " 5   num_urls        130145 non-null  object\n",
      " 6   num_mentions    128069 non-null  object\n",
      " 7   created_at      136647 non-null  object\n",
      " 8   text            131286 non-null  object\n",
      "dtypes: object(9)\n",
      "memory usage: 10.4+ MB\n"
     ]
    }
   ],
   "source": [
    "df_tweets_sample.info()"
   ]
  },
  {
   "cell_type": "code",
   "execution_count": 128,
   "metadata": {},
   "outputs": [
    {
     "data": {
      "text/html": [
       "<div>\n",
       "<style scoped>\n",
       "    .dataframe tbody tr th:only-of-type {\n",
       "        vertical-align: middle;\n",
       "    }\n",
       "\n",
       "    .dataframe tbody tr th {\n",
       "        vertical-align: top;\n",
       "    }\n",
       "\n",
       "    .dataframe thead th {\n",
       "        text-align: right;\n",
       "    }\n",
       "</style>\n",
       "<table border=\"1\" class=\"dataframe\">\n",
       "  <thead>\n",
       "    <tr style=\"text-align: right;\">\n",
       "      <th></th>\n",
       "      <th>user_id</th>\n",
       "      <th>retweet_count</th>\n",
       "      <th>reply_count</th>\n",
       "      <th>favorite_count</th>\n",
       "      <th>num_hashtags</th>\n",
       "      <th>num_urls</th>\n",
       "      <th>num_mentions</th>\n",
       "      <th>created_at</th>\n",
       "      <th>text</th>\n",
       "    </tr>\n",
       "    <tr>\n",
       "      <th>id</th>\n",
       "      <th></th>\n",
       "      <th></th>\n",
       "      <th></th>\n",
       "      <th></th>\n",
       "      <th></th>\n",
       "      <th></th>\n",
       "      <th></th>\n",
       "      <th></th>\n",
       "      <th></th>\n",
       "    </tr>\n",
       "  </thead>\n",
       "  <tbody>\n",
       "    <tr>\n",
       "      <th>528578456452612097</th>\n",
       "      <td>567430901</td>\n",
       "      <td>0</td>\n",
       "      <td>0</td>\n",
       "      <td>0</td>\n",
       "      <td>0</td>\n",
       "      <td>0</td>\n",
       "      <td>0</td>\n",
       "      <td>2019-11-03 16:04:59</td>\n",
       "      <td>La sera, a letto.Lui:- FarÃ² di te la donna pi...</td>\n",
       "    </tr>\n",
       "    <tr>\n",
       "      <th>492852780101406721</th>\n",
       "      <td>277506943</td>\n",
       "      <td>0</td>\n",
       "      <td>0</td>\n",
       "      <td>2</td>\n",
       "      <td>1</td>\n",
       "      <td>0</td>\n",
       "      <td>0</td>\n",
       "      <td>2019-07-28 02:03:54</td>\n",
       "      <td>#RFGoNaked http://t.co/eaf1sO4TWL</td>\n",
       "    </tr>\n",
       "    <tr>\n",
       "      <th>888885286917605</th>\n",
       "      <td>317296274</td>\n",
       "      <td>0</td>\n",
       "      <td>dcl83oci</td>\n",
       "      <td>NaN</td>\n",
       "      <td>NaN</td>\n",
       "      <td>NaN</td>\n",
       "      <td>NaN</td>\n",
       "      <td>2020-03-21 17:43:22</td>\n",
       "      <td>Volunteers report 100% retail tobacco complian...</td>\n",
       "    </tr>\n",
       "    <tr>\n",
       "      <th>516101108960206848</th>\n",
       "      <td>1372026204</td>\n",
       "      <td>0</td>\n",
       "      <td>0</td>\n",
       "      <td>0</td>\n",
       "      <td>4</td>\n",
       "      <td>1</td>\n",
       "      <td>0</td>\n",
       "      <td>2019-09-30 05:44:27</td>\n",
       "      <td>What HR Lessons Did I Learn Whilst Managing Me...</td>\n",
       "    </tr>\n",
       "    <tr>\n",
       "      <th>528187250392461312</th>\n",
       "      <td>468101494</td>\n",
       "      <td>0</td>\n",
       "      <td>0</td>\n",
       "      <td>0</td>\n",
       "      <td>0</td>\n",
       "      <td>0</td>\n",
       "      <td>0</td>\n",
       "      <td>2019-11-02 14:10:28</td>\n",
       "      <td>-Cara, ti voglio POSSEDERE dove non te ti ha m...</td>\n",
       "    </tr>\n",
       "    <tr>\n",
       "      <th>...</th>\n",
       "      <td>...</td>\n",
       "      <td>...</td>\n",
       "      <td>...</td>\n",
       "      <td>...</td>\n",
       "      <td>...</td>\n",
       "      <td>...</td>\n",
       "      <td>...</td>\n",
       "      <td>...</td>\n",
       "      <td>...</td>\n",
       "    </tr>\n",
       "    <tr>\n",
       "      <th>500184073814700033</th>\n",
       "      <td>576148031</td>\n",
       "      <td>0</td>\n",
       "      <td>0</td>\n",
       "      <td>0</td>\n",
       "      <td>0</td>\n",
       "      <td>0</td>\n",
       "      <td>0</td>\n",
       "      <td>2019-08-17 07:35:50</td>\n",
       "      <td>Porta bene Renzi!  Grazie \"presidente\"</td>\n",
       "    </tr>\n",
       "    <tr>\n",
       "      <th>578072909085724672</th>\n",
       "      <td>25693756</td>\n",
       "      <td>0</td>\n",
       "      <td>0</td>\n",
       "      <td>0</td>\n",
       "      <td>0</td>\n",
       "      <td>0</td>\n",
       "      <td>1</td>\n",
       "      <td>2020-03-19 05:58:16</td>\n",
       "      <td>@malakhstudios You OK?</td>\n",
       "    </tr>\n",
       "    <tr>\n",
       "      <th>588013533557841920</th>\n",
       "      <td>2395918790</td>\n",
       "      <td>0</td>\n",
       "      <td>0</td>\n",
       "      <td>0</td>\n",
       "      <td>0</td>\n",
       "      <td>0</td>\n",
       "      <td>0</td>\n",
       "      <td>2020-04-15 16:18:45</td>\n",
       "      <td>If there is Jacob Whiteside, there is also Jac...</td>\n",
       "    </tr>\n",
       "    <tr>\n",
       "      <th>591597103090020352</th>\n",
       "      <td>2290983830</td>\n",
       "      <td>8</td>\n",
       "      <td>0</td>\n",
       "      <td>0</td>\n",
       "      <td>0</td>\n",
       "      <td>0</td>\n",
       "      <td>1</td>\n",
       "      <td>2020-04-25 13:38:35</td>\n",
       "      <td>RT @Katie_Edwards_: RT if you like watermelon!...</td>\n",
       "    </tr>\n",
       "    <tr>\n",
       "      <th>520574848935153664</th>\n",
       "      <td>161256906</td>\n",
       "      <td>0</td>\n",
       "      <td>0</td>\n",
       "      <td>0</td>\n",
       "      <td>0</td>\n",
       "      <td>1</td>\n",
       "      <td>0</td>\n",
       "      <td>2019-10-12 14:01:30</td>\n",
       "      <td>Check out these top 10 science fiction authors...</td>\n",
       "    </tr>\n",
       "  </tbody>\n",
       "</table>\n",
       "<p>136647 rows × 9 columns</p>\n",
       "</div>"
      ],
      "text/plain": [
       "                       user_id retweet_count reply_count favorite_count  \\\n",
       "id                                                                        \n",
       "528578456452612097   567430901             0           0              0   \n",
       "492852780101406721   277506943             0           0              2   \n",
       "888885286917605      317296274             0    dcl83oci            NaN   \n",
       "516101108960206848  1372026204             0           0              0   \n",
       "528187250392461312   468101494             0           0              0   \n",
       "...                        ...           ...         ...            ...   \n",
       "500184073814700033   576148031             0           0              0   \n",
       "578072909085724672    25693756             0           0              0   \n",
       "588013533557841920  2395918790             0           0              0   \n",
       "591597103090020352  2290983830             8           0              0   \n",
       "520574848935153664   161256906             0           0              0   \n",
       "\n",
       "                   num_hashtags num_urls num_mentions           created_at  \\\n",
       "id                                                                           \n",
       "528578456452612097            0        0            0  2019-11-03 16:04:59   \n",
       "492852780101406721            1        0            0  2019-07-28 02:03:54   \n",
       "888885286917605             NaN      NaN          NaN  2020-03-21 17:43:22   \n",
       "516101108960206848            4        1            0  2019-09-30 05:44:27   \n",
       "528187250392461312            0        0            0  2019-11-02 14:10:28   \n",
       "...                         ...      ...          ...                  ...   \n",
       "500184073814700033            0        0            0  2019-08-17 07:35:50   \n",
       "578072909085724672            0        0            1  2020-03-19 05:58:16   \n",
       "588013533557841920            0        0            0  2020-04-15 16:18:45   \n",
       "591597103090020352            0        0            1  2020-04-25 13:38:35   \n",
       "520574848935153664            0        1            0  2019-10-12 14:01:30   \n",
       "\n",
       "                                                                 text  \n",
       "id                                                                     \n",
       "528578456452612097  La sera, a letto.Lui:- FarÃ² di te la donna pi...  \n",
       "492852780101406721                  #RFGoNaked http://t.co/eaf1sO4TWL  \n",
       "888885286917605     Volunteers report 100% retail tobacco complian...  \n",
       "516101108960206848  What HR Lessons Did I Learn Whilst Managing Me...  \n",
       "528187250392461312  -Cara, ti voglio POSSEDERE dove non te ti ha m...  \n",
       "...                                                               ...  \n",
       "500184073814700033             Porta bene Renzi!  Grazie \"presidente\"  \n",
       "578072909085724672                             @malakhstudios You OK?  \n",
       "588013533557841920  If there is Jacob Whiteside, there is also Jac...  \n",
       "591597103090020352  RT @Katie_Edwards_: RT if you like watermelon!...  \n",
       "520574848935153664  Check out these top 10 science fiction authors...  \n",
       "\n",
       "[136647 rows x 9 columns]"
      ]
     },
     "execution_count": 128,
     "metadata": {},
     "output_type": "execute_result"
    }
   ],
   "source": [
    "df_tweets_sample"
   ]
  },
  {
   "cell_type": "code",
   "execution_count": 129,
   "metadata": {},
   "outputs": [
    {
     "data": {
      "text/html": [
       "<div>\n",
       "<style scoped>\n",
       "    .dataframe tbody tr th:only-of-type {\n",
       "        vertical-align: middle;\n",
       "    }\n",
       "\n",
       "    .dataframe tbody tr th {\n",
       "        vertical-align: top;\n",
       "    }\n",
       "\n",
       "    .dataframe thead th {\n",
       "        text-align: right;\n",
       "    }\n",
       "</style>\n",
       "<table border=\"1\" class=\"dataframe\">\n",
       "  <thead>\n",
       "    <tr style=\"text-align: right;\">\n",
       "      <th></th>\n",
       "      <th>user_id</th>\n",
       "      <th>retweet_count</th>\n",
       "      <th>reply_count</th>\n",
       "      <th>favorite_count</th>\n",
       "      <th>num_hashtags</th>\n",
       "      <th>num_urls</th>\n",
       "      <th>num_mentions</th>\n",
       "      <th>created_at</th>\n",
       "      <th>text</th>\n",
       "    </tr>\n",
       "    <tr>\n",
       "      <th>id</th>\n",
       "      <th></th>\n",
       "      <th></th>\n",
       "      <th></th>\n",
       "      <th></th>\n",
       "      <th></th>\n",
       "      <th></th>\n",
       "      <th></th>\n",
       "      <th></th>\n",
       "      <th></th>\n",
       "    </tr>\n",
       "  </thead>\n",
       "  <tbody>\n",
       "    <tr>\n",
       "      <th>160863737924956160</th>\n",
       "      <td>223329964</td>\n",
       "      <td>0</td>\n",
       "      <td>0</td>\n",
       "      <td>0</td>\n",
       "      <td>0</td>\n",
       "      <td>1</td>\n",
       "      <td>0</td>\n",
       "      <td>2017-01-22 23:17:58</td>\n",
       "      <td>tr4nsit: Auahuahuahuahauhauahuahuahuahauh @ al...</td>\n",
       "    </tr>\n",
       "    <tr>\n",
       "      <th>160863737924956160</th>\n",
       "      <td>223329964</td>\n",
       "      <td>0</td>\n",
       "      <td>0</td>\n",
       "      <td>0</td>\n",
       "      <td>0</td>\n",
       "      <td>1</td>\n",
       "      <td>0</td>\n",
       "      <td>2017-01-22 23:17:58</td>\n",
       "      <td>tr4nsit: Auahuahuahuahauhauahuahuahuahauh @ al...</td>\n",
       "    </tr>\n",
       "    <tr>\n",
       "      <th>166680904276783104</th>\n",
       "      <td>169147207</td>\n",
       "      <td>0</td>\n",
       "      <td>0</td>\n",
       "      <td>0</td>\n",
       "      <td>0</td>\n",
       "      <td>0</td>\n",
       "      <td>1</td>\n",
       "      <td>2017-02-08 00:33:19</td>\n",
       "      <td>@Van_Thomaz  precisamos de um AR CONDICIONADO ...</td>\n",
       "    </tr>\n",
       "    <tr>\n",
       "      <th>166680904276783104</th>\n",
       "      <td>169147207</td>\n",
       "      <td>0</td>\n",
       "      <td>0</td>\n",
       "      <td>0</td>\n",
       "      <td>0</td>\n",
       "      <td>0</td>\n",
       "      <td>1</td>\n",
       "      <td>2017-02-08 00:33:19</td>\n",
       "      <td>@Van_Thomaz  precisamos de um AR CONDICIONADO ...</td>\n",
       "    </tr>\n",
       "    <tr>\n",
       "      <th>187245601715519490</th>\n",
       "      <td>355303911</td>\n",
       "      <td>0</td>\n",
       "      <td>0</td>\n",
       "      <td>0</td>\n",
       "      <td>0</td>\n",
       "      <td>0</td>\n",
       "      <td>1</td>\n",
       "      <td>2017-04-05 18:30:04</td>\n",
       "      <td>Jajajajaja site yama Respondele nosea mala icu...</td>\n",
       "    </tr>\n",
       "    <tr>\n",
       "      <th>...</th>\n",
       "      <td>...</td>\n",
       "      <td>...</td>\n",
       "      <td>...</td>\n",
       "      <td>...</td>\n",
       "      <td>...</td>\n",
       "      <td>...</td>\n",
       "      <td>...</td>\n",
       "      <td>...</td>\n",
       "      <td>...</td>\n",
       "    </tr>\n",
       "    <tr>\n",
       "      <th>593889571135426560</th>\n",
       "      <td>796614044</td>\n",
       "      <td>0</td>\n",
       "      <td>0</td>\n",
       "      <td>0</td>\n",
       "      <td>0</td>\n",
       "      <td>0</td>\n",
       "      <td>0</td>\n",
       "      <td>2020-05-01 21:28:02</td>\n",
       "      <td>i literally just wanted to go to sleep but the...</td>\n",
       "    </tr>\n",
       "    <tr>\n",
       "      <th>593889571135426560</th>\n",
       "      <td>796614044</td>\n",
       "      <td>0</td>\n",
       "      <td>0</td>\n",
       "      <td>0</td>\n",
       "      <td>0</td>\n",
       "      <td>0</td>\n",
       "      <td>0</td>\n",
       "      <td>2020-05-01 21:28:02</td>\n",
       "      <td>i literally just wanted to go to sleep but the...</td>\n",
       "    </tr>\n",
       "    <tr>\n",
       "      <th>63985238547775489</th>\n",
       "      <td>33621311</td>\n",
       "      <td>0</td>\n",
       "      <td>0</td>\n",
       "      <td>5</td>\n",
       "      <td>0</td>\n",
       "      <td>0</td>\n",
       "      <td>0</td>\n",
       "      <td>2016-04-30 15:17:24</td>\n",
       "      <td>A Prince and a Princess who look at prints of ...</td>\n",
       "    </tr>\n",
       "    <tr>\n",
       "      <th>63985238547775489</th>\n",
       "      <td>33621311</td>\n",
       "      <td>0</td>\n",
       "      <td>0</td>\n",
       "      <td>5</td>\n",
       "      <td>0</td>\n",
       "      <td>0</td>\n",
       "      <td>0</td>\n",
       "      <td>2016-04-30 15:17:24</td>\n",
       "      <td>A Prince and a Princess who look at prints of ...</td>\n",
       "    </tr>\n",
       "    <tr>\n",
       "      <th>grx</th>\n",
       "      <td>334163536</td>\n",
       "      <td>NaN</td>\n",
       "      <td>NaN</td>\n",
       "      <td>NaN</td>\n",
       "      <td>NaN</td>\n",
       "      <td>NaN</td>\n",
       "      <td>NaN</td>\n",
       "      <td>2019-09-15 15:43:19</td>\n",
       "      <td>NaN</td>\n",
       "    </tr>\n",
       "  </tbody>\n",
       "</table>\n",
       "<p>391 rows × 9 columns</p>\n",
       "</div>"
      ],
      "text/plain": [
       "                      user_id retweet_count reply_count favorite_count  \\\n",
       "id                                                                       \n",
       "160863737924956160  223329964             0           0              0   \n",
       "160863737924956160  223329964             0           0              0   \n",
       "166680904276783104  169147207             0           0              0   \n",
       "166680904276783104  169147207             0           0              0   \n",
       "187245601715519490  355303911             0           0              0   \n",
       "...                       ...           ...         ...            ...   \n",
       "593889571135426560  796614044             0           0              0   \n",
       "593889571135426560  796614044             0           0              0   \n",
       "63985238547775489    33621311             0           0              5   \n",
       "63985238547775489    33621311             0           0              5   \n",
       "grx                 334163536           NaN         NaN            NaN   \n",
       "\n",
       "                   num_hashtags num_urls num_mentions           created_at  \\\n",
       "id                                                                           \n",
       "160863737924956160            0        1            0  2017-01-22 23:17:58   \n",
       "160863737924956160            0        1            0  2017-01-22 23:17:58   \n",
       "166680904276783104            0        0            1  2017-02-08 00:33:19   \n",
       "166680904276783104            0        0            1  2017-02-08 00:33:19   \n",
       "187245601715519490            0        0            1  2017-04-05 18:30:04   \n",
       "...                         ...      ...          ...                  ...   \n",
       "593889571135426560            0        0            0  2020-05-01 21:28:02   \n",
       "593889571135426560            0        0            0  2020-05-01 21:28:02   \n",
       "63985238547775489             0        0            0  2016-04-30 15:17:24   \n",
       "63985238547775489             0        0            0  2016-04-30 15:17:24   \n",
       "grx                         NaN      NaN          NaN  2019-09-15 15:43:19   \n",
       "\n",
       "                                                                 text  \n",
       "id                                                                     \n",
       "160863737924956160  tr4nsit: Auahuahuahuahauhauahuahuahuahauh @ al...  \n",
       "160863737924956160  tr4nsit: Auahuahuahuahauhauahuahuahuahauh @ al...  \n",
       "166680904276783104  @Van_Thomaz  precisamos de um AR CONDICIONADO ...  \n",
       "166680904276783104  @Van_Thomaz  precisamos de um AR CONDICIONADO ...  \n",
       "187245601715519490  Jajajajaja site yama Respondele nosea mala icu...  \n",
       "...                                                               ...  \n",
       "593889571135426560  i literally just wanted to go to sleep but the...  \n",
       "593889571135426560  i literally just wanted to go to sleep but the...  \n",
       "63985238547775489   A Prince and a Princess who look at prints of ...  \n",
       "63985238547775489   A Prince and a Princess who look at prints of ...  \n",
       "grx                                                               NaN  \n",
       "\n",
       "[391 rows x 9 columns]"
      ]
     },
     "execution_count": 129,
     "metadata": {},
     "output_type": "execute_result"
    }
   ],
   "source": [
    "#df_tweets_duplicates = df_tweets_sample[df_tweets_sample['user_id'].duplicated()]\n",
    "#df_tweets_duplicates.sort_index\n",
    "#from pandas import Index\n",
    "#df_tweets_sample.index.duplicated()\n",
    "#print(df_tweets_sample.index.get_duplicates())\n",
    "df_tweets_duplicates = df_tweets_sample[df_tweets_sample.index.isin(df_tweets_sample.index[df_tweets_sample.index.duplicated()])].sort_index()\n",
    "df_tweets_duplicates[df_tweets_duplicates[\"user_id\"].isin(df_tweets_duplicates[\"user_id\"][df_tweets_duplicates[\"user_id\"].duplicated()])].sort_index()"
   ]
  },
  {
   "cell_type": "markdown",
   "metadata": {},
   "source": []
  },
  {
   "cell_type": "code",
   "execution_count": 130,
   "metadata": {},
   "outputs": [
    {
     "name": "stdout",
     "output_type": "stream",
     "text": [
      "<class 'pandas.core.frame.DataFrame'>\n",
      "Index: 136647 entries, 528578456452612097 to 520574848935153664\n",
      "Data columns (total 9 columns):\n",
      " #   Column          Non-Null Count   Dtype  \n",
      "---  ------          --------------   -----  \n",
      " 0   user_id         134464 non-null  object \n",
      " 1   retweet_count   130362 non-null  float32\n",
      " 2   reply_count     130163 non-null  object \n",
      " 3   favorite_count  130128 non-null  object \n",
      " 4   num_hashtags    126020 non-null  object \n",
      " 5   num_urls        130145 non-null  object \n",
      " 6   num_mentions    128069 non-null  object \n",
      " 7   created_at      136647 non-null  object \n",
      " 8   text            131286 non-null  object \n",
      "dtypes: float32(1), object(8)\n",
      "memory usage: 13.9+ MB\n"
     ]
    }
   ],
   "source": [
    "df_tweets_sample['retweet_count'] = pd.to_numeric(df_tweets_sample['retweet_count'], downcast= 'float', errors='coerce') # After this instruction the column becomes numerics\n",
    "df_tweets_sample.info()"
   ]
  },
  {
   "cell_type": "markdown",
   "metadata": {},
   "source": [
    "## Features informations\n",
    "### Users dataset\n",
    "id, name, lang, bot, created_at and statuses_count\n",
    "* **id** (*Numerical*)\n",
    "  * Type: **Int64**\n",
    "  * Description: Is the identifier of the single user, it will be used to join the datasets, so it is necessary that this data is a non-null integer.\n",
    "* **name** (*Categorical*)\n",
    "  * Type: **String**\n",
    "  * Description: The name of the user.\n",
    "* **lang** (*Categorical*)\n",
    "  * Type: **String**\n",
    "  * Description: The user’s language selected\n",
    "* **bot** (*Numerical*)\n",
    "  * Type: **Boolean**\n",
    "  * Description: A binary variable that indicates if a user is a bot or a genuine user\n",
    "* **created_at** (*Numerical*)\n",
    "  * Type: **Datetime64**\n",
    "  * Description: The timestamp of when the user was created\n",
    "* **statuses_count** (*Numerical*)\n",
    "  * Type: **Int64**\n",
    "  * Description: The count of the tweets made by the user at the moment of data crawling.\n",
    "### Tweets dataset\n",
    "* **id** (*Numerical*)\n",
    "  * Type: **Object**\n",
    "  * Description: Is the identifier of the single tweet, it should be int64, but we decided to consder it object because it does not affect the data if it is not an integer.\n",
    "* **user_id** (*Numerical*)\n",
    "  * Type: **Int64**\n",
    "  * Description: Is the identifier of the single user, it will be used to join the datasets, so it is necessary that this data is a non-null integer\n",
    "* **retweet_count** (*Numerical*)\n",
    "  * Type: **Int64**\n",
    "  * Description: The number of retweets of the single tweet\n",
    "* **reply_count** (*Numerical*)\n",
    "  * Type: **Int64**\n",
    "  * Description: The number of replies of the single tweet\n",
    "* **favorite_count** (*Numerical*)\n",
    "  * Type: **Int64**\n",
    "  * Description: The number of favorites (or likes) of the single tweet\n",
    "* **num_hashtags** (*Numerical*)\n",
    "  * Type: **Int64**\n",
    "  * Description: The number of hashtags in the single tweet\n",
    "* **num_urls** (*Numerical*)\n",
    "  * Type: **Int64**\n",
    "  * Description: The number of urls in the single tweet\n",
    "* **num_mentions** (*Numerical*)\n",
    "  * Type: **Int64**\n",
    "  * Description: The number of mentions in the single tweet\n",
    "* **created_at** (*Numerical*)\n",
    "  * Type: **Datetime64**\n",
    "  * Description: The timestamp of when the single tweet was created\n",
    "* **text** (*Categorical*)\n",
    "  * Type: **String**\n",
    "  * Description: The text of the single tweet"
   ]
  },
  {
   "cell_type": "markdown",
   "metadata": {},
   "source": [
    "# Datatype Casting\n",
    "## Users dataframe casting"
   ]
  },
  {
   "cell_type": "code",
   "execution_count": 131,
   "metadata": {},
   "outputs": [
    {
     "name": "stdout",
     "output_type": "stream",
     "text": [
      "<class 'pandas.core.frame.DataFrame'>\n",
      "Int64Index: 11508 entries, 2353593986 to 933183398\n",
      "Data columns (total 5 columns):\n",
      " #   Column          Non-Null Count  Dtype  \n",
      "---  ------          --------------  -----  \n",
      " 0   name            11507 non-null  object \n",
      " 1   lang            11508 non-null  object \n",
      " 2   bot             11508 non-null  int64  \n",
      " 3   created_at      11508 non-null  object \n",
      " 4   statuses_count  11109 non-null  float64\n",
      "dtypes: float64(1), int64(1), object(3)\n",
      "memory usage: 539.4+ KB\n"
     ]
    }
   ],
   "source": [
    "df_users.info()"
   ]
  },
  {
   "cell_type": "markdown",
   "metadata": {},
   "source": [
    "Cast name and lang columns to string and created_at to DateTime in df_users"
   ]
  },
  {
   "cell_type": "code",
   "execution_count": 132,
   "metadata": {},
   "outputs": [],
   "source": [
    "df_users.name = df_users.name.astype('string')\n",
    "df_users.lang = df_users.lang.astype('string')\n"
   ]
  },
  {
   "cell_type": "markdown",
   "metadata": {},
   "source": [
    "Showing how 'lang' is composed"
   ]
  },
  {
   "cell_type": "code",
   "execution_count": 133,
   "metadata": {},
   "outputs": [
    {
     "name": "stdout",
     "output_type": "stream",
     "text": [
      "Langs in the user dataset:\n",
      "en                    0.866354\n",
      "it                    0.078728\n",
      "es                     0.02772\n",
      "pt                    0.005648\n",
      "en-gb                 0.004345\n",
      "ru                     0.00365\n",
      "fr                    0.003128\n",
      "ja                    0.002868\n",
      "zh-tw                 0.001477\n",
      "tr                    0.001217\n",
      "id                    0.001043\n",
      "ko                    0.000782\n",
      "de                    0.000695\n",
      "nl                    0.000521\n",
      "en-GB                 0.000348\n",
      "ar                    0.000261\n",
      "zh-TW                 0.000261\n",
      "da                    0.000174\n",
      "Select Language...    0.000174\n",
      "en-AU                 0.000087\n",
      "zh-cn                 0.000087\n",
      "pl                    0.000087\n",
      "el                    0.000087\n",
      "fil                   0.000087\n",
      "sv                    0.000087\n",
      "xx-lc                 0.000087\n",
      "Name: lang, dtype: Float64\n"
     ]
    },
    {
     "data": {
      "text/plain": [
       "<AxesSubplot:>"
      ]
     },
     "execution_count": 133,
     "metadata": {},
     "output_type": "execute_result"
    },
    {
     "data": {
      "image/png": "[encoded data removed]",
      "text/plain": [
       "<Figure size 640x480 with 1 Axes>"
      ]
     },
     "metadata": {},
     "output_type": "display_data"
    }
   ],
   "source": [
    "lang_distribution = df_users.lang.value_counts(normalize=True)\n",
    "print('Langs in the user dataset:')\n",
    "print(lang_distribution)\n",
    "\n",
    "lang_distribution.plot(kind=\"bar\")"
   ]
  },
  {
   "cell_type": "markdown",
   "metadata": {},
   "source": [
    "We decided that if the lang contains a dash, we'll take into consideration only the lang before it.\n",
    "\n",
    "E.g.: \"en-gb\" will become \"en\", \"zh-tw\" will become \"zh\"."
   ]
  },
  {
   "cell_type": "code",
   "execution_count": 134,
   "metadata": {},
   "outputs": [],
   "source": [
    "import re\n",
    "\n",
    "def lang_correction(lang_string):\n",
    "    lang = lang_string\n",
    "    lang = re.sub('-.*$', '', lang)\n",
    "\n",
    "    return lang\n",
    "\n",
    "df_users.lang = df_users.lang.apply(lang_correction)\n"
   ]
  },
  {
   "cell_type": "markdown",
   "metadata": {},
   "source": [
    "Substituting \"Select Language...\" with the mode. "
   ]
  },
  {
   "cell_type": "code",
   "execution_count": 135,
   "metadata": {},
   "outputs": [],
   "source": [
    "df_users.lang.replace(to_replace=\"Select Language...\",value=df_users.lang.mode()[0], inplace=True)"
   ]
  },
  {
   "cell_type": "markdown",
   "metadata": {},
   "source": [
    "We looked at the tweets with the user id equal to the one who has 'lang' equal to xx, and determined that theier posts were english, so we changed 'lang' to 'en', which is also the mode."
   ]
  },
  {
   "cell_type": "code",
   "execution_count": 136,
   "metadata": {},
   "outputs": [],
   "source": [
    "df_users.lang.replace(to_replace=\"xx\",value=df_users.lang.mode()[0], inplace=True)"
   ]
  },
  {
   "cell_type": "markdown",
   "metadata": {},
   "source": [
    "Displaying the cleaned 'lang':"
   ]
  },
  {
   "cell_type": "code",
   "execution_count": 137,
   "metadata": {},
   "outputs": [
    {
     "name": "stdout",
     "output_type": "stream",
     "text": [
      "Langs in the user dataset:\n",
      "en     0.871394\n",
      "it     0.078728\n",
      "es     0.027720\n",
      "pt     0.005648\n",
      "ru     0.003650\n",
      "fr     0.003128\n",
      "ja     0.002868\n",
      "zh     0.001825\n",
      "tr     0.001217\n",
      "id     0.001043\n",
      "ko     0.000782\n",
      "de     0.000695\n",
      "nl     0.000521\n",
      "ar     0.000261\n",
      "da     0.000174\n",
      "pl     0.000087\n",
      "el     0.000087\n",
      "fil    0.000087\n",
      "sv     0.000087\n",
      "Name: lang, dtype: float64\n"
     ]
    },
    {
     "data": {
      "image/png": "[encoded data removed]",
      "text/plain": [
       "<Figure size 640x480 with 1 Axes>"
      ]
     },
     "metadata": {},
     "output_type": "display_data"
    }
   ],
   "source": [
    "lang_distribution = df_users.lang.value_counts(normalize=True)\n",
    "print('Langs in the user dataset:')\n",
    "print(lang_distribution)\n",
    "\n",
    "lang_distribution.plot(kind=\"bar\")\n",
    "plt.yscale('log')"
   ]
  },
  {
   "cell_type": "markdown",
   "metadata": {},
   "source": [
    "Cast statuses_count to Int64, bot to bool and created_at to DateTime in df_users"
   ]
  },
  {
   "cell_type": "code",
   "execution_count": 138,
   "metadata": {},
   "outputs": [],
   "source": [
    "df_users.statuses_count = df_users.statuses_count.astype('Int64', errors='raise')\n",
    "df_users.bot = df_users.bot.astype('bool', errors='raise')\n",
    "df_users.created_at = pd.to_datetime(df_users.created_at, errors='coerce')\n"
   ]
  },
  {
   "cell_type": "code",
   "execution_count": 139,
   "metadata": {},
   "outputs": [
    {
     "name": "stdout",
     "output_type": "stream",
     "text": [
      "<class 'pandas.core.frame.DataFrame'>\n",
      "Int64Index: 11508 entries, 2353593986 to 933183398\n",
      "Data columns (total 5 columns):\n",
      " #   Column          Non-Null Count  Dtype         \n",
      "---  ------          --------------  -----         \n",
      " 0   name            11507 non-null  string        \n",
      " 1   lang            11508 non-null  object        \n",
      " 2   bot             11508 non-null  bool          \n",
      " 3   created_at      11508 non-null  datetime64[ns]\n",
      " 4   statuses_count  11109 non-null  Int64         \n",
      "dtypes: Int64(1), bool(1), datetime64[ns](1), object(1), string(1)\n",
      "memory usage: 472.0+ KB\n"
     ]
    }
   ],
   "source": [
    "df_users.info()"
   ]
  },
  {
   "cell_type": "markdown",
   "metadata": {},
   "source": [
    "## Tweets dataframe casting\n",
    "\n",
    "Int64 casting for numeric columns in df_tweets"
   ]
  },
  {
   "cell_type": "code",
   "execution_count": 140,
   "metadata": {},
   "outputs": [],
   "source": [
    "# Define max and min for Int64\n",
    "max_int = np.iinfo(np.int64).max\n",
    "min_int = np.iinfo(np.int64).min\n",
    "\n",
    "for col_name in df_tweets_sample.iloc[:, : 7]:\n",
    "    # Cast objects to float. after this instruction the column becomes numerics\n",
    "    df_tweets_sample[col_name] = pd.to_numeric(df_tweets_sample[col_name], downcast= 'float', errors='coerce')\n",
    "\n",
    "    # Substitute values outside of Int64 limits with NaN\n",
    "    df_tweets_sample[col_name] = df_tweets_sample[col_name].apply(lambda y: y if y <= max_int or y >= min_int else pd.NA)\n",
    "\n",
    "    # Cast to Int64\n",
    "    df_tweets_sample[col_name] = df_tweets_sample[col_name].astype('Int64', errors='raise')\n",
    "\n"
   ]
  },
  {
   "cell_type": "markdown",
   "metadata": {},
   "source": [
    "Cast text column to string and created_at to DateTime in df_tweets"
   ]
  },
  {
   "cell_type": "code",
   "execution_count": 141,
   "metadata": {},
   "outputs": [],
   "source": [
    "df_tweets_sample.text = df_tweets_sample.text.astype('string')\n",
    "df_tweets_sample.created_at = pd.to_datetime(df_tweets_sample.created_at, errors='coerce')"
   ]
  },
  {
   "cell_type": "code",
   "execution_count": 142,
   "metadata": {},
   "outputs": [
    {
     "name": "stdout",
     "output_type": "stream",
     "text": [
      "<class 'pandas.core.frame.DataFrame'>\n",
      "Index: 136647 entries, 528578456452612097 to 520574848935153664\n",
      "Data columns (total 9 columns):\n",
      " #   Column          Non-Null Count   Dtype         \n",
      "---  ------          --------------   -----         \n",
      " 0   user_id         132272 non-null  Int64         \n",
      " 1   retweet_count   130362 non-null  Int64         \n",
      " 2   reply_count     128457 non-null  Int64         \n",
      " 3   favorite_count  128519 non-null  Int64         \n",
      " 4   num_hashtags    124949 non-null  Int64         \n",
      " 5   num_urls        128514 non-null  Int64         \n",
      " 6   num_mentions    126737 non-null  Int64         \n",
      " 7   created_at      136647 non-null  datetime64[ns]\n",
      " 8   text            131286 non-null  string        \n",
      "dtypes: Int64(7), datetime64[ns](1), string(1)\n",
      "memory usage: 15.4+ MB\n"
     ]
    }
   ],
   "source": [
    "df_tweets_sample.info()"
   ]
  },
  {
   "cell_type": "markdown",
   "metadata": {},
   "source": [
    "# Manage NaN"
   ]
  },
  {
   "cell_type": "markdown",
   "metadata": {},
   "source": [
    "Drop rows where created_at or user_id are NaN"
   ]
  },
  {
   "cell_type": "code",
   "execution_count": 143,
   "metadata": {},
   "outputs": [],
   "source": [
    "df_tweets_sample.dropna(subset=['user_id', 'created_at'], how='any', inplace=True)"
   ]
  },
  {
   "cell_type": "markdown",
   "metadata": {},
   "source": [
    "Fill the NaN in the numeric columns"
   ]
  },
  {
   "cell_type": "code",
   "execution_count": 144,
   "metadata": {},
   "outputs": [
    {
     "name": "stdout",
     "output_type": "stream",
     "text": [
      "median retweet_count: 0\n",
      "median reply_count: 0\n",
      "median favorite_count: 0\n",
      "median num_hashtags: 0\n",
      "median num_urls: 0\n",
      "median num_mentions: 0\n"
     ]
    }
   ],
   "source": [
    "for col_name in df_tweets_sample.iloc[:, 1 : 7]:\n",
    "    median = df_tweets_sample[col_name].median().astype(np.int64)\n",
    "    print('median {}:'.format(col_name), median)\n",
    "\n",
    "    df_tweets_sample[col_name].fillna(median, inplace=True)\n"
   ]
  },
  {
   "cell_type": "code",
   "execution_count": 145,
   "metadata": {},
   "outputs": [
    {
     "name": "stdout",
     "output_type": "stream",
     "text": [
      "<class 'pandas.core.frame.DataFrame'>\n",
      "Index: 132272 entries, 528578456452612097 to 520574848935153664\n",
      "Data columns (total 9 columns):\n",
      " #   Column          Non-Null Count   Dtype         \n",
      "---  ------          --------------   -----         \n",
      " 0   user_id         132272 non-null  Int64         \n",
      " 1   retweet_count   132272 non-null  Int64         \n",
      " 2   reply_count     132272 non-null  Int64         \n",
      " 3   favorite_count  132272 non-null  Int64         \n",
      " 4   num_hashtags    132272 non-null  Int64         \n",
      " 5   num_urls        132272 non-null  Int64         \n",
      " 6   num_mentions    132272 non-null  Int64         \n",
      " 7   created_at      132272 non-null  datetime64[ns]\n",
      " 8   text            128058 non-null  string        \n",
      "dtypes: Int64(7), datetime64[ns](1), string(1)\n",
      "memory usage: 11.0+ MB\n"
     ]
    }
   ],
   "source": [
    "df_tweets_sample.info()"
   ]
  },
  {
   "cell_type": "markdown",
   "metadata": {},
   "source": [
    "As statuses_count in df_users contains only tweet count and not replies, while df_tweets contains also replies, we cannot estimate NaN statuses_count with the number of the users tweets, so we fill those NaNs with median"
   ]
  },
  {
   "cell_type": "code",
   "execution_count": 146,
   "metadata": {},
   "outputs": [
    {
     "name": "stdout",
     "output_type": "stream",
     "text": [
      "68\n"
     ]
    }
   ],
   "source": [
    "median = df_users.statuses_count.median().astype(np.int64)\n",
    "print(median)\n",
    "df_users.statuses_count.fillna(median, inplace=True)"
   ]
  },
  {
   "cell_type": "markdown",
   "metadata": {},
   "source": [
    "Fill NaN name in df_users  with \"\""
   ]
  },
  {
   "cell_type": "code",
   "execution_count": 147,
   "metadata": {},
   "outputs": [],
   "source": [
    "df_users.name.fillna(\"\", inplace=True)"
   ]
  },
  {
   "cell_type": "code",
   "execution_count": 148,
   "metadata": {},
   "outputs": [
    {
     "name": "stdout",
     "output_type": "stream",
     "text": [
      "<class 'pandas.core.frame.DataFrame'>\n",
      "Int64Index: 11508 entries, 2353593986 to 933183398\n",
      "Data columns (total 5 columns):\n",
      " #   Column          Non-Null Count  Dtype         \n",
      "---  ------          --------------  -----         \n",
      " 0   name            11508 non-null  string        \n",
      " 1   lang            11508 non-null  object        \n",
      " 2   bot             11508 non-null  bool          \n",
      " 3   created_at      11508 non-null  datetime64[ns]\n",
      " 4   statuses_count  11508 non-null  Int64         \n",
      "dtypes: Int64(1), bool(1), datetime64[ns](1), object(1), string(1)\n",
      "memory usage: 472.0+ KB\n"
     ]
    }
   ],
   "source": [
    "df_users.info()"
   ]
  },
  {
   "cell_type": "code",
   "execution_count": 149,
   "metadata": {},
   "outputs": [
    {
     "name": "stdout",
     "output_type": "stream",
     "text": [
      "0\n",
      "132272\n"
     ]
    }
   ],
   "source": [
    "print(len(df_tweets_sample[df_tweets_sample.created_at.isnull()]))\n",
    "print(len(df_tweets_sample))"
   ]
  },
  {
   "cell_type": "code",
   "execution_count": 150,
   "metadata": {},
   "outputs": [
    {
     "name": "stdout",
     "output_type": "stream",
     "text": [
      "<class 'pandas.core.frame.DataFrame'>\n",
      "Index: 132272 entries, 528578456452612097 to 520574848935153664\n",
      "Data columns (total 9 columns):\n",
      " #   Column          Non-Null Count   Dtype         \n",
      "---  ------          --------------   -----         \n",
      " 0   user_id         132272 non-null  Int64         \n",
      " 1   retweet_count   132272 non-null  Int64         \n",
      " 2   reply_count     132272 non-null  Int64         \n",
      " 3   favorite_count  132272 non-null  Int64         \n",
      " 4   num_hashtags    132272 non-null  Int64         \n",
      " 5   num_urls        132272 non-null  Int64         \n",
      " 6   num_mentions    132272 non-null  Int64         \n",
      " 7   created_at      132272 non-null  datetime64[ns]\n",
      " 8   text            128058 non-null  string        \n",
      "dtypes: Int64(7), datetime64[ns](1), string(1)\n",
      "memory usage: 11.0+ MB\n"
     ]
    }
   ],
   "source": [
    "df_tweets_sample.info()"
   ]
  },
  {
   "cell_type": "code",
   "execution_count": 151,
   "metadata": {},
   "outputs": [
    {
     "name": "stdout",
     "output_type": "stream",
     "text": [
      "<class 'pandas.core.frame.DataFrame'>\n",
      "Index: 132272 entries, 528578456452612097 to 520574848935153664\n",
      "Data columns (total 9 columns):\n",
      " #   Column          Non-Null Count   Dtype         \n",
      "---  ------          --------------   -----         \n",
      " 0   user_id         132272 non-null  Int64         \n",
      " 1   retweet_count   132272 non-null  Int64         \n",
      " 2   reply_count     132272 non-null  Int64         \n",
      " 3   favorite_count  132272 non-null  Int64         \n",
      " 4   num_hashtags    132272 non-null  Int64         \n",
      " 5   num_urls        132272 non-null  Int64         \n",
      " 6   num_mentions    132272 non-null  Int64         \n",
      " 7   created_at      132272 non-null  datetime64[ns]\n",
      " 8   text            128058 non-null  string        \n",
      "dtypes: Int64(7), datetime64[ns](1), string(1)\n",
      "memory usage: 11.0+ MB\n"
     ]
    }
   ],
   "source": [
    "df_tweets_sample.retweet_count = df_tweets_sample.retweet_count.astype('Int64', errors='ignore') # Cast to int\n",
    "df_tweets_sample.info()"
   ]
  },
  {
   "cell_type": "markdown",
   "metadata": {},
   "source": [
    "Remove infinite and cast them to NaN"
   ]
  },
  {
   "cell_type": "code",
   "execution_count": 152,
   "metadata": {},
   "outputs": [
    {
     "data": {
      "text/plain": [
       "id\n",
       "440322750146555904    3349947\n",
       "569644991355551745    1165422\n",
       "584543298745827329     450562\n",
       "581311850249265152     450529\n",
       "582852316321210368     449744\n",
       "582699110769131521     449637\n",
       "590159207602618368     430971\n",
       "587671827213848576     430580\n",
       "rnh                    402398\n",
       "590686978473066496     401361\n",
       "Name: retweet_count, dtype: Int64"
      ]
     },
     "execution_count": 152,
     "metadata": {},
     "output_type": "execute_result"
    }
   ],
   "source": [
    "\n",
    "df_tweets_sample['user_id'] = df_tweets_sample['user_id'].astype('Int64', errors='ignore') # Cast to int\n",
    "df_tweets_sample['retweet_count'].nlargest(10)"
   ]
  },
  {
   "cell_type": "code",
   "execution_count": 153,
   "metadata": {},
   "outputs": [
    {
     "data": {
      "text/html": [
       "<div>\n",
       "<style scoped>\n",
       "    .dataframe tbody tr th:only-of-type {\n",
       "        vertical-align: middle;\n",
       "    }\n",
       "\n",
       "    .dataframe tbody tr th {\n",
       "        vertical-align: top;\n",
       "    }\n",
       "\n",
       "    .dataframe thead th {\n",
       "        text-align: right;\n",
       "    }\n",
       "</style>\n",
       "<table border=\"1\" class=\"dataframe\">\n",
       "  <thead>\n",
       "    <tr style=\"text-align: right;\">\n",
       "      <th></th>\n",
       "      <th>user_id</th>\n",
       "      <th>retweet_count</th>\n",
       "      <th>reply_count</th>\n",
       "      <th>favorite_count</th>\n",
       "      <th>num_hashtags</th>\n",
       "      <th>num_urls</th>\n",
       "      <th>num_mentions</th>\n",
       "    </tr>\n",
       "  </thead>\n",
       "  <tbody>\n",
       "    <tr>\n",
       "      <th>count</th>\n",
       "      <td>1.322720e+05</td>\n",
       "      <td>1.322720e+05</td>\n",
       "      <td>132272.000000</td>\n",
       "      <td>132272.000000</td>\n",
       "      <td>1.322720e+05</td>\n",
       "      <td>132272.000000</td>\n",
       "      <td>132272.000000</td>\n",
       "    </tr>\n",
       "    <tr>\n",
       "      <th>mean</th>\n",
       "      <td>8.300216e+08</td>\n",
       "      <td>5.532574e+02</td>\n",
       "      <td>0.020927</td>\n",
       "      <td>1.332028</td>\n",
       "      <td>5.730682e+04</td>\n",
       "      <td>0.244383</td>\n",
       "      <td>1.414547</td>\n",
       "    </tr>\n",
       "    <tr>\n",
       "      <th>std</th>\n",
       "      <td>8.510603e+08</td>\n",
       "      <td>1.245368e+04</td>\n",
       "      <td>3.470514</td>\n",
       "      <td>67.848543</td>\n",
       "      <td>2.084180e+07</td>\n",
       "      <td>26.617722</td>\n",
       "      <td>255.325573</td>\n",
       "    </tr>\n",
       "    <tr>\n",
       "      <th>min</th>\n",
       "      <td>2.000000e+00</td>\n",
       "      <td>0.000000e+00</td>\n",
       "      <td>0.000000</td>\n",
       "      <td>0.000000</td>\n",
       "      <td>0.000000e+00</td>\n",
       "      <td>0.000000</td>\n",
       "      <td>0.000000</td>\n",
       "    </tr>\n",
       "    <tr>\n",
       "      <th>25%</th>\n",
       "      <td>2.346384e+08</td>\n",
       "      <td>0.000000e+00</td>\n",
       "      <td>0.000000</td>\n",
       "      <td>0.000000</td>\n",
       "      <td>0.000000e+00</td>\n",
       "      <td>0.000000</td>\n",
       "      <td>0.000000</td>\n",
       "    </tr>\n",
       "    <tr>\n",
       "      <th>50%</th>\n",
       "      <td>4.680735e+08</td>\n",
       "      <td>0.000000e+00</td>\n",
       "      <td>0.000000</td>\n",
       "      <td>0.000000</td>\n",
       "      <td>0.000000e+00</td>\n",
       "      <td>0.000000</td>\n",
       "      <td>0.000000</td>\n",
       "    </tr>\n",
       "    <tr>\n",
       "      <th>75%</th>\n",
       "      <td>1.226238e+09</td>\n",
       "      <td>1.000000e+00</td>\n",
       "      <td>0.000000</td>\n",
       "      <td>0.000000</td>\n",
       "      <td>0.000000e+00</td>\n",
       "      <td>0.000000</td>\n",
       "      <td>1.000000</td>\n",
       "    </tr>\n",
       "    <tr>\n",
       "      <th>max</th>\n",
       "      <td>3.164942e+09</td>\n",
       "      <td>3.349947e+06</td>\n",
       "      <td>902.000000</td>\n",
       "      <td>15648.000000</td>\n",
       "      <td>7.580000e+09</td>\n",
       "      <td>9592.000000</td>\n",
       "      <td>90000.000000</td>\n",
       "    </tr>\n",
       "  </tbody>\n",
       "</table>\n",
       "</div>"
      ],
      "text/plain": [
       "            user_id  retweet_count    reply_count  favorite_count  \\\n",
       "count  1.322720e+05   1.322720e+05  132272.000000   132272.000000   \n",
       "mean   8.300216e+08   5.532574e+02       0.020927        1.332028   \n",
       "std    8.510603e+08   1.245368e+04       3.470514       67.848543   \n",
       "min    2.000000e+00   0.000000e+00       0.000000        0.000000   \n",
       "25%    2.346384e+08   0.000000e+00       0.000000        0.000000   \n",
       "50%    4.680735e+08   0.000000e+00       0.000000        0.000000   \n",
       "75%    1.226238e+09   1.000000e+00       0.000000        0.000000   \n",
       "max    3.164942e+09   3.349947e+06     902.000000    15648.000000   \n",
       "\n",
       "       num_hashtags       num_urls   num_mentions  \n",
       "count  1.322720e+05  132272.000000  132272.000000  \n",
       "mean   5.730682e+04       0.244383       1.414547  \n",
       "std    2.084180e+07      26.617722     255.325573  \n",
       "min    0.000000e+00       0.000000       0.000000  \n",
       "25%    0.000000e+00       0.000000       0.000000  \n",
       "50%    0.000000e+00       0.000000       0.000000  \n",
       "75%    0.000000e+00       0.000000       1.000000  \n",
       "max    7.580000e+09    9592.000000   90000.000000  "
      ]
     },
     "execution_count": 153,
     "metadata": {},
     "output_type": "execute_result"
    }
   ],
   "source": [
    "df_tweets_sample.describe()"
   ]
  },
  {
   "cell_type": "code",
   "execution_count": 154,
   "metadata": {},
   "outputs": [
    {
     "data": {
      "text/plain": [
       "<AxesSubplot:ylabel='id'>"
      ]
     },
     "execution_count": 154,
     "metadata": {},
     "output_type": "execute_result"
    },
    {
     "data": {
      "image/png": "[encoded data removed]",
      "text/plain": [
       "<Figure size 1200x500 with 1 Axes>"
      ]
     },
     "metadata": {},
     "output_type": "display_data"
    }
   ],
   "source": [
    "fig, ax = plt.subplots(figsize=(12,5)) \n",
    "sn.heatmap(df_tweets_sample.isnull(), cbar=False, xticklabels=True, ax=ax, yticklabels=False)"
   ]
  },
  {
   "cell_type": "markdown",
   "metadata": {},
   "source": [
    "# Outliers Detection\n",
    "\n",
    "We now explore the distributions in order to find the outliers of each attribute."
   ]
  },
  {
   "cell_type": "markdown",
   "metadata": {},
   "source": [
    "## User Outliers\n",
    "\n",
    "We check 'created_at' whit a bar plot by year."
   ]
  },
  {
   "cell_type": "code",
   "execution_count": 157,
   "metadata": {},
   "outputs": [
    {
     "data": {
      "text/plain": [
       "<AxesSubplot:xlabel='created_at'>"
      ]
     },
     "execution_count": 157,
     "metadata": {},
     "output_type": "execute_result"
    },
    {
     "data": {
      "image/png": "[encoded data removed]",
      "text/plain": [
       "<Figure size 640x480 with 1 Axes>"
      ]
     },
     "metadata": {},
     "output_type": "display_data"
    }
   ],
   "source": [
    "df_users.created_at.groupby(df_users.created_at.dt.year).count().plot(kind='bar')"
   ]
  },
  {
   "cell_type": "markdown",
   "metadata": {},
   "source": [
    "Since Twitter was founded in 2006 and the oldest user is from 2012, there are no lower bound outliers.\n",
    "\n",
    "Since the crawling was done in 2020, and there are no users created later than 2020, there are no upper bound outliers.\n",
    "\n",
    "Now we check \"statuses_count\""
   ]
  },
  {
   "cell_type": "code",
   "execution_count": 168,
   "metadata": {},
   "outputs": [
    {
     "data": {
      "image/png": "[encoded data removed]",
      "text/plain": [
       "<Figure size 1600x500 with 2 Axes>"
      ]
     },
     "metadata": {},
     "output_type": "display_data"
    }
   ],
   "source": [
    "\n",
    "fig, (ax1, ax2) = plt.subplots(1, 2, figsize=(16, 5))\n",
    "df_users.boxplot(column=\"statuses_count\", ax=ax1)\n",
    "ax1.set_yscale('log')\n",
    "df_users.hist(column=\"statuses_count\", ax=ax2, stacked=True, bins=mr_bins(df_users.statuses_count.count()))\n",
    "ax2.set_yscale('log')\n",
    "fig.subplots_adjust(wspace=0.3)\n"
   ]
  },
  {
   "cell_type": "markdown",
   "metadata": {},
   "source": [
    "There are no outliers, because there is no limit on how much a user can publish in a given period of time and also there are not negative values that would be invalid."
   ]
  }
 ],
 "metadata": {
  "kernelspec": {
   "display_name": "Python 3.7.13 ('dataMiningEnv')",
   "language": "python",
   "name": "python3"
  },
  "language_info": {
   "codemirror_mode": {
    "name": "ipython",
    "version": 3
   },
   "file_extension": ".py",
   "mimetype": "text/x-python",
   "name": "python",
   "nbconvert_exporter": "python",
   "pygments_lexer": "ipython3",
   "version": "3.7.13"
  },
  "orig_nbformat": 4,
  "vscode": {
   "interpreter": {
    "hash": "ce66766ca3893cb1226d696fde69a866d0cab1d434d25c0e4ac78a42eaec01f7"
   }
  }
 },
 "nbformat": 4,
 "nbformat_minor": 2
}
