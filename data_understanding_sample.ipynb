{
 "cells": [
  {
   "cell_type": "markdown",
   "metadata": {},
   "source": [
    "# Task 1.1 Data Understanding\n",
    "*Alberto Roberto Marinelli, Giacomo Cignoni, Alessandro Bucci*\n",
    "## Importing Libraries\n",
    "First we import the libraries necessary to analyze the data"
   ]
  },
  {
   "cell_type": "code",
   "execution_count": 1,
   "metadata": {},
   "outputs": [],
   "source": [
    "import math\n",
    "import sys\n",
    "import numpy as np\n",
    "import pandas as pd\n",
    "import seaborn as sn\n",
    "import scipy.stats as stats\n",
    "import matplotlib.pyplot as plt\n",
    "from sklearn import decomposition"
   ]
  },
  {
   "cell_type": "code",
   "execution_count": 2,
   "metadata": {},
   "outputs": [],
   "source": [
    "pd.set_option('mode.use_inf_as_na', True)\n",
    "\n",
    "def mr_bins(number_of_samples):\n",
    "    return (np.log2(number_of_samples)).astype('int64') + 1\n"
   ]
  },
  {
   "cell_type": "markdown",
   "metadata": {},
   "source": [
    "Then we load the datasets"
   ]
  },
  {
   "cell_type": "code",
   "execution_count": 3,
   "metadata": {},
   "outputs": [],
   "source": [
    "df_tweets_sample = pd.read_csv('./dataset/tweets.csv', sep=',', index_col=0)  # load tweets\n",
    "df_users = pd.read_csv('./dataset/users.csv', sep=',', index_col=0)  # load users"
   ]
  },
  {
   "cell_type": "code",
   "execution_count": 4,
   "metadata": {},
   "outputs": [
    {
     "name": "stdout",
     "output_type": "stream",
     "text": [
      "<class 'pandas.core.frame.DataFrame'>\n",
      "Int64Index: 11508 entries, 2353593986 to 933183398\n",
      "Data columns (total 5 columns):\n",
      " #   Column          Non-Null Count  Dtype  \n",
      "---  ------          --------------  -----  \n",
      " 0   name            11507 non-null  object \n",
      " 1   lang            11508 non-null  object \n",
      " 2   bot             11508 non-null  int64  \n",
      " 3   created_at      11508 non-null  object \n",
      " 4   statuses_count  11109 non-null  float64\n",
      "dtypes: float64(1), int64(1), object(3)\n",
      "memory usage: 539.4+ KB\n"
     ]
    }
   ],
   "source": [
    "df_users.info()"
   ]
  },
  {
   "cell_type": "code",
   "execution_count": 5,
   "metadata": {},
   "outputs": [
    {
     "name": "stdout",
     "output_type": "stream",
     "text": [
      "<class 'pandas.core.frame.DataFrame'>\n",
      "Index: 13664696 entries, 509354017856950272 to 486479812614451200\n",
      "Data columns (total 9 columns):\n",
      " #   Column          Dtype \n",
      "---  ------          ----- \n",
      " 0   user_id         object\n",
      " 1   retweet_count   object\n",
      " 2   reply_count     object\n",
      " 3   favorite_count  object\n",
      " 4   num_hashtags    object\n",
      " 5   num_urls        object\n",
      " 6   num_mentions    object\n",
      " 7   created_at      object\n",
      " 8   text            object\n",
      "dtypes: object(9)\n",
      "memory usage: 1.0+ GB\n"
     ]
    }
   ],
   "source": [
    "df_tweets_sample.info()"
   ]
  },
  {
   "cell_type": "code",
   "execution_count": 6,
   "metadata": {},
   "outputs": [
    {
     "data": {
      "text/html": [
       "<div>\n",
       "<style scoped>\n",
       "    .dataframe tbody tr th:only-of-type {\n",
       "        vertical-align: middle;\n",
       "    }\n",
       "\n",
       "    .dataframe tbody tr th {\n",
       "        vertical-align: top;\n",
       "    }\n",
       "\n",
       "    .dataframe thead th {\n",
       "        text-align: right;\n",
       "    }\n",
       "</style>\n",
       "<table border=\"1\" class=\"dataframe\">\n",
       "  <thead>\n",
       "    <tr style=\"text-align: right;\">\n",
       "      <th></th>\n",
       "      <th>user_id</th>\n",
       "      <th>retweet_count</th>\n",
       "      <th>reply_count</th>\n",
       "      <th>favorite_count</th>\n",
       "      <th>num_hashtags</th>\n",
       "      <th>num_urls</th>\n",
       "      <th>num_mentions</th>\n",
       "      <th>created_at</th>\n",
       "      <th>text</th>\n",
       "    </tr>\n",
       "    <tr>\n",
       "      <th>id</th>\n",
       "      <th></th>\n",
       "      <th></th>\n",
       "      <th></th>\n",
       "      <th></th>\n",
       "      <th></th>\n",
       "      <th></th>\n",
       "      <th></th>\n",
       "      <th></th>\n",
       "      <th></th>\n",
       "    </tr>\n",
       "  </thead>\n",
       "  <tbody>\n",
       "    <tr>\n",
       "      <th>509354017856950272</th>\n",
       "      <td>327746321</td>\n",
       "      <td>0</td>\n",
       "      <td>0</td>\n",
       "      <td>0</td>\n",
       "      <td>0</td>\n",
       "      <td>0</td>\n",
       "      <td>0</td>\n",
       "      <td>2019-09-11 14:53:55</td>\n",
       "      <td>If man is a little lower than angels, then ang...</td>\n",
       "    </tr>\n",
       "    <tr>\n",
       "      <th>583002592529121280</th>\n",
       "      <td>333722906</td>\n",
       "      <td>1</td>\n",
       "      <td>0</td>\n",
       "      <td>0</td>\n",
       "      <td>0</td>\n",
       "      <td>0</td>\n",
       "      <td>1</td>\n",
       "      <td>2020-04-01 20:27:04</td>\n",
       "      <td>\"@BestWSHHVids: how do you say these words wit...</td>\n",
       "    </tr>\n",
       "    <tr>\n",
       "      <th>461498835362013185</th>\n",
       "      <td>2379755827</td>\n",
       "      <td>0</td>\n",
       "      <td>0</td>\n",
       "      <td>0</td>\n",
       "      <td>0</td>\n",
       "      <td>0</td>\n",
       "      <td>1</td>\n",
       "      <td>2019-05-02 13:34:31</td>\n",
       "      <td>@LOLatComedy awsome</td>\n",
       "    </tr>\n",
       "    <tr>\n",
       "      <th>528808127366692864</th>\n",
       "      <td>466226882</td>\n",
       "      <td>0</td>\n",
       "      <td>0</td>\n",
       "      <td>0</td>\n",
       "      <td>0</td>\n",
       "      <td>0</td>\n",
       "      <td>0</td>\n",
       "      <td>2019-11-04 07:17:37</td>\n",
       "      <td>Stephen Hawkins: i buchi neri non esistono se ...</td>\n",
       "    </tr>\n",
       "    <tr>\n",
       "      <th>575336690904006656</th>\n",
       "      <td>1355537995</td>\n",
       "      <td>114</td>\n",
       "      <td>0</td>\n",
       "      <td>0</td>\n",
       "      <td>1</td>\n",
       "      <td>0</td>\n",
       "      <td>1</td>\n",
       "      <td>2020-03-11 16:45:31</td>\n",
       "      <td>RT @tibbs_montris: So ready for Wednesday!</td>\n",
       "    </tr>\n",
       "    <tr>\n",
       "      <th>...</th>\n",
       "      <td>...</td>\n",
       "      <td>...</td>\n",
       "      <td>...</td>\n",
       "      <td>...</td>\n",
       "      <td>...</td>\n",
       "      <td>...</td>\n",
       "      <td>...</td>\n",
       "      <td>...</td>\n",
       "      <td>...</td>\n",
       "    </tr>\n",
       "    <tr>\n",
       "      <th>588535254207467520</th>\n",
       "      <td>587491046</td>\n",
       "      <td>0</td>\n",
       "      <td>0</td>\n",
       "      <td>0</td>\n",
       "      <td>0</td>\n",
       "      <td>0</td>\n",
       "      <td>1</td>\n",
       "      <td>2020-04-17 02:51:53</td>\n",
       "      <td>@warriors Congrats, maybe I'll be able to get ...</td>\n",
       "    </tr>\n",
       "    <tr>\n",
       "      <th>580420653666402304</th>\n",
       "      <td>1414080518</td>\n",
       "      <td>0</td>\n",
       "      <td>0</td>\n",
       "      <td>1</td>\n",
       "      <td>0</td>\n",
       "      <td>0</td>\n",
       "      <td>1</td>\n",
       "      <td>2020-03-25 17:27:22</td>\n",
       "      <td>@DaddieEzme fr??</td>\n",
       "    </tr>\n",
       "    <tr>\n",
       "      <th>718157017970961</th>\n",
       "      <td>91781300</td>\n",
       "      <td>0</td>\n",
       "      <td>NaN</td>\n",
       "      <td>l25suv5</td>\n",
       "      <td>NaN</td>\n",
       "      <td>0.0</td>\n",
       "      <td>NaN</td>\n",
       "      <td>2016-07-10 22:43:09</td>\n",
       "      <td>NaN</td>\n",
       "    </tr>\n",
       "    <tr>\n",
       "      <th>441301348676415488</th>\n",
       "      <td>127895572</td>\n",
       "      <td>0</td>\n",
       "      <td>0</td>\n",
       "      <td>1</td>\n",
       "      <td>1</td>\n",
       "      <td>0</td>\n",
       "      <td>0</td>\n",
       "      <td>2019-03-07 19:56:55</td>\n",
       "      <td>Shooting crew of porn movies. #TheWorstJobToHave</td>\n",
       "    </tr>\n",
       "    <tr>\n",
       "      <th>486479812614451200</th>\n",
       "      <td>465421036</td>\n",
       "      <td>3</td>\n",
       "      <td>0</td>\n",
       "      <td>4</td>\n",
       "      <td>0</td>\n",
       "      <td>0</td>\n",
       "      <td>0</td>\n",
       "      <td>2019-07-10 12:00:00</td>\n",
       "      <td>Qualcuno dovrÃ  pur dire a quelli che \"Twitter...</td>\n",
       "    </tr>\n",
       "  </tbody>\n",
       "</table>\n",
       "<p>13664696 rows × 9 columns</p>\n",
       "</div>"
      ],
      "text/plain": [
       "                       user_id retweet_count reply_count favorite_count  \\\n",
       "id                                                                        \n",
       "509354017856950272   327746321             0           0              0   \n",
       "583002592529121280   333722906             1           0              0   \n",
       "461498835362013185  2379755827             0           0              0   \n",
       "528808127366692864   466226882             0           0              0   \n",
       "575336690904006656  1355537995           114           0              0   \n",
       "...                        ...           ...         ...            ...   \n",
       "588535254207467520   587491046             0           0              0   \n",
       "580420653666402304  1414080518             0           0              1   \n",
       "718157017970961       91781300             0         NaN        l25suv5   \n",
       "441301348676415488   127895572             0           0              1   \n",
       "486479812614451200   465421036             3           0              4   \n",
       "\n",
       "                   num_hashtags num_urls num_mentions           created_at  \\\n",
       "id                                                                           \n",
       "509354017856950272            0        0            0  2019-09-11 14:53:55   \n",
       "583002592529121280            0        0            1  2020-04-01 20:27:04   \n",
       "461498835362013185            0        0            1  2019-05-02 13:34:31   \n",
       "528808127366692864            0        0            0  2019-11-04 07:17:37   \n",
       "575336690904006656            1        0            1  2020-03-11 16:45:31   \n",
       "...                         ...      ...          ...                  ...   \n",
       "588535254207467520            0        0            1  2020-04-17 02:51:53   \n",
       "580420653666402304            0        0            1  2020-03-25 17:27:22   \n",
       "718157017970961             NaN      0.0          NaN  2016-07-10 22:43:09   \n",
       "441301348676415488            1        0            0  2019-03-07 19:56:55   \n",
       "486479812614451200            0        0            0  2019-07-10 12:00:00   \n",
       "\n",
       "                                                                 text  \n",
       "id                                                                     \n",
       "509354017856950272  If man is a little lower than angels, then ang...  \n",
       "583002592529121280  \"@BestWSHHVids: how do you say these words wit...  \n",
       "461498835362013185                                @LOLatComedy awsome  \n",
       "528808127366692864  Stephen Hawkins: i buchi neri non esistono se ...  \n",
       "575336690904006656        RT @tibbs_montris: So ready for Wednesday!   \n",
       "...                                                               ...  \n",
       "588535254207467520  @warriors Congrats, maybe I'll be able to get ...  \n",
       "580420653666402304                                   @DaddieEzme fr??  \n",
       "718157017970961                                                   NaN  \n",
       "441301348676415488   Shooting crew of porn movies. #TheWorstJobToHave  \n",
       "486479812614451200  Qualcuno dovrÃ  pur dire a quelli che \"Twitter...  \n",
       "\n",
       "[13664696 rows x 9 columns]"
      ]
     },
     "execution_count": 6,
     "metadata": {},
     "output_type": "execute_result"
    }
   ],
   "source": [
    "df_tweets_sample"
   ]
  },
  {
   "cell_type": "code",
   "execution_count": 7,
   "metadata": {},
   "outputs": [
    {
     "data": {
      "text/html": [
       "<div>\n",
       "<style scoped>\n",
       "    .dataframe tbody tr th:only-of-type {\n",
       "        vertical-align: middle;\n",
       "    }\n",
       "\n",
       "    .dataframe tbody tr th {\n",
       "        vertical-align: top;\n",
       "    }\n",
       "\n",
       "    .dataframe thead th {\n",
       "        text-align: right;\n",
       "    }\n",
       "</style>\n",
       "<table border=\"1\" class=\"dataframe\">\n",
       "  <thead>\n",
       "    <tr style=\"text-align: right;\">\n",
       "      <th></th>\n",
       "      <th>user_id</th>\n",
       "      <th>retweet_count</th>\n",
       "      <th>reply_count</th>\n",
       "      <th>favorite_count</th>\n",
       "      <th>num_hashtags</th>\n",
       "      <th>num_urls</th>\n",
       "      <th>num_mentions</th>\n",
       "      <th>created_at</th>\n",
       "      <th>text</th>\n",
       "    </tr>\n",
       "    <tr>\n",
       "      <th>id</th>\n",
       "      <th></th>\n",
       "      <th></th>\n",
       "      <th></th>\n",
       "      <th></th>\n",
       "      <th></th>\n",
       "      <th></th>\n",
       "      <th></th>\n",
       "      <th></th>\n",
       "      <th></th>\n",
       "    </tr>\n",
       "  </thead>\n",
       "  <tbody>\n",
       "    <tr>\n",
       "      <th>509354017856950272</th>\n",
       "      <td>327746321</td>\n",
       "      <td>0</td>\n",
       "      <td>0</td>\n",
       "      <td>0</td>\n",
       "      <td>0</td>\n",
       "      <td>0</td>\n",
       "      <td>0</td>\n",
       "      <td>2019-09-11 14:53:55</td>\n",
       "      <td>If man is a little lower than angels, then ang...</td>\n",
       "    </tr>\n",
       "    <tr>\n",
       "      <th>583002592529121280</th>\n",
       "      <td>333722906</td>\n",
       "      <td>1</td>\n",
       "      <td>0</td>\n",
       "      <td>0</td>\n",
       "      <td>0</td>\n",
       "      <td>0</td>\n",
       "      <td>1</td>\n",
       "      <td>2020-04-01 20:27:04</td>\n",
       "      <td>\"@BestWSHHVids: how do you say these words wit...</td>\n",
       "    </tr>\n",
       "    <tr>\n",
       "      <th>528808127366692864</th>\n",
       "      <td>466226882</td>\n",
       "      <td>0</td>\n",
       "      <td>0</td>\n",
       "      <td>0</td>\n",
       "      <td>0</td>\n",
       "      <td>0</td>\n",
       "      <td>0</td>\n",
       "      <td>2019-11-04 07:17:37</td>\n",
       "      <td>Stephen Hawkins: i buchi neri non esistono se ...</td>\n",
       "    </tr>\n",
       "    <tr>\n",
       "      <th>575336690904006656</th>\n",
       "      <td>1355537995</td>\n",
       "      <td>114</td>\n",
       "      <td>0</td>\n",
       "      <td>0</td>\n",
       "      <td>1</td>\n",
       "      <td>0</td>\n",
       "      <td>1</td>\n",
       "      <td>2020-03-11 16:45:31</td>\n",
       "      <td>RT @tibbs_montris: So ready for Wednesday!</td>\n",
       "    </tr>\n",
       "    <tr>\n",
       "      <th>492967265063546880</th>\n",
       "      <td>2599346388</td>\n",
       "      <td>1</td>\n",
       "      <td>0</td>\n",
       "      <td>1</td>\n",
       "      <td>0</td>\n",
       "      <td>0</td>\n",
       "      <td>0</td>\n",
       "      <td>2019-07-28 09:38:49</td>\n",
       "      <td>Where df @Sassy_ileana at man. When she's awak...</td>\n",
       "    </tr>\n",
       "    <tr>\n",
       "      <th>...</th>\n",
       "      <td>...</td>\n",
       "      <td>...</td>\n",
       "      <td>...</td>\n",
       "      <td>...</td>\n",
       "      <td>...</td>\n",
       "      <td>...</td>\n",
       "      <td>...</td>\n",
       "      <td>...</td>\n",
       "      <td>...</td>\n",
       "    </tr>\n",
       "    <tr>\n",
       "      <th>jkv</th>\n",
       "      <td>370263238</td>\n",
       "      <td>0</td>\n",
       "      <td>NaN</td>\n",
       "      <td>NaN</td>\n",
       "      <td>NaN</td>\n",
       "      <td>NaN</td>\n",
       "      <td>NaN</td>\n",
       "      <td>2020-03-11 16:26:39</td>\n",
       "      <td>NaN</td>\n",
       "    </tr>\n",
       "    <tr>\n",
       "      <th>hgjz</th>\n",
       "      <td>181191283</td>\n",
       "      <td>0</td>\n",
       "      <td>0.0</td>\n",
       "      <td>0.0</td>\n",
       "      <td>0.0</td>\n",
       "      <td>NaN</td>\n",
       "      <td>1</td>\n",
       "      <td>2020-03-28 23:07:31</td>\n",
       "      <td>@whitequark what would I check on my 3V supply?</td>\n",
       "    </tr>\n",
       "    <tr>\n",
       "      <th>cgx</th>\n",
       "      <td>NaN</td>\n",
       "      <td>NaN</td>\n",
       "      <td>NaN</td>\n",
       "      <td>NaN</td>\n",
       "      <td>NaN</td>\n",
       "      <td>1.0</td>\n",
       "      <td>NaN</td>\n",
       "      <td>2019-02-01 09:49:26</td>\n",
       "      <td>NaN</td>\n",
       "    </tr>\n",
       "    <tr>\n",
       "      <th>tqn</th>\n",
       "      <td>2649554102</td>\n",
       "      <td>0</td>\n",
       "      <td>0.0</td>\n",
       "      <td>0.0</td>\n",
       "      <td>NaN</td>\n",
       "      <td>NaN</td>\n",
       "      <td>NaN</td>\n",
       "      <td>2020-04-12 15:10:20</td>\n",
       "      <td>NaN</td>\n",
       "    </tr>\n",
       "    <tr>\n",
       "      <th>twu</th>\n",
       "      <td>546096491</td>\n",
       "      <td>1</td>\n",
       "      <td>0.0</td>\n",
       "      <td>3.0</td>\n",
       "      <td>NaN</td>\n",
       "      <td>NaN</td>\n",
       "      <td>NaN</td>\n",
       "      <td>2020-04-29 17:46:57</td>\n",
       "      <td>NaN</td>\n",
       "    </tr>\n",
       "  </tbody>\n",
       "</table>\n",
       "<p>2006219 rows × 9 columns</p>\n",
       "</div>"
      ],
      "text/plain": [
       "                       user_id retweet_count reply_count favorite_count  \\\n",
       "id                                                                        \n",
       "509354017856950272   327746321             0           0              0   \n",
       "583002592529121280   333722906             1           0              0   \n",
       "528808127366692864   466226882             0           0              0   \n",
       "575336690904006656  1355537995           114           0              0   \n",
       "492967265063546880  2599346388             1           0              1   \n",
       "...                        ...           ...         ...            ...   \n",
       "jkv                  370263238             0         NaN            NaN   \n",
       "hgjz                 181191283             0         0.0            0.0   \n",
       "cgx                        NaN           NaN         NaN            NaN   \n",
       "tqn                 2649554102             0         0.0            0.0   \n",
       "twu                  546096491             1         0.0            3.0   \n",
       "\n",
       "                   num_hashtags num_urls num_mentions           created_at  \\\n",
       "id                                                                           \n",
       "509354017856950272            0        0            0  2019-09-11 14:53:55   \n",
       "583002592529121280            0        0            1  2020-04-01 20:27:04   \n",
       "528808127366692864            0        0            0  2019-11-04 07:17:37   \n",
       "575336690904006656            1        0            1  2020-03-11 16:45:31   \n",
       "492967265063546880            0        0            0  2019-07-28 09:38:49   \n",
       "...                         ...      ...          ...                  ...   \n",
       "jkv                         NaN      NaN          NaN  2020-03-11 16:26:39   \n",
       "hgjz                        0.0      NaN            1  2020-03-28 23:07:31   \n",
       "cgx                         NaN      1.0          NaN  2019-02-01 09:49:26   \n",
       "tqn                         NaN      NaN          NaN  2020-04-12 15:10:20   \n",
       "twu                         NaN      NaN          NaN  2020-04-29 17:46:57   \n",
       "\n",
       "                                                                 text  \n",
       "id                                                                     \n",
       "509354017856950272  If man is a little lower than angels, then ang...  \n",
       "583002592529121280  \"@BestWSHHVids: how do you say these words wit...  \n",
       "528808127366692864  Stephen Hawkins: i buchi neri non esistono se ...  \n",
       "575336690904006656        RT @tibbs_montris: So ready for Wednesday!   \n",
       "492967265063546880  Where df @Sassy_ileana at man. When she's awak...  \n",
       "...                                                               ...  \n",
       "jkv                                                               NaN  \n",
       "hgjz                  @whitequark what would I check on my 3V supply?  \n",
       "cgx                                                               NaN  \n",
       "tqn                                                               NaN  \n",
       "twu                                                               NaN  \n",
       "\n",
       "[2006219 rows x 9 columns]"
      ]
     },
     "execution_count": 7,
     "metadata": {},
     "output_type": "execute_result"
    }
   ],
   "source": [
    "#df_tweets_duplicates = df_tweets_sample[df_tweets_sample['user_id'].duplicated()]\n",
    "#df_tweets_duplicates.sort_index\n",
    "#from pandas import Index\n",
    "#df_tweets_sample.index.duplicated()\n",
    "#print(df_tweets_sample.index.get_duplicates())\n",
    "\n",
    "#df_tweets_sample.head(5)\n",
    "\n",
    "#Selezione da df_tweets_sample dei Tweet duplicati (su campo index)\n",
    "df_tweets_duplicates = df_tweets_sample[df_tweets_sample.index.isin(df_tweets_sample.index[df_tweets_sample.index.duplicated()])]\n",
    "\n",
    "#Selezione da df_tweets_duplicates dei Tweet duplicati (su campo user_id)\n",
    "df_tweets_duplicates = df_tweets_duplicates[df_tweets_duplicates[\"user_id\"].isin(df_tweets_duplicates[\"user_id\"][df_tweets_duplicates[\"user_id\"].duplicated()])]\n",
    "\n",
    "\n",
    "\n",
    "#Drop duplicati identici (da cui non è possibile fare restore dei dati)\n",
    "df_tweets_duplicates.drop_duplicates(inplace=True)\n",
    "df_tweets_duplicates\n",
    "\n",
    "\n",
    "#Count dei tweets singoli\n",
    "#count = df_tweets_duplicates['user_id'].value_counts()\n",
    "#index_count = df_tweets_duplicates.index.value_counts()\n",
    "\n",
    "#Drop tweets singoli\n",
    "#df_tweets_duplicates = df_tweets_duplicates[df_tweets_duplicates['user_id'].isin(user_id_count[user_id_count>1].index)]\n",
    "#df_tweets_duplicates = df_tweets_duplicates[df_tweets_duplicates.index.isin(index_count[index_count>1].index)]\n",
    "\n",
    "#df_tweets_duplicates.sort_values(\"user_id\")\n",
    "\n",
    "\n",
    "#Verifica (?) \n",
    "#single_data_count = df_tweets_duplicates['user_id'].value_counts()"
   ]
  },
  {
   "cell_type": "markdown",
   "metadata": {},
   "source": []
  },
  {
   "cell_type": "code",
   "execution_count": 8,
   "metadata": {},
   "outputs": [
    {
     "name": "stdout",
     "output_type": "stream",
     "text": [
      "<class 'pandas.core.frame.DataFrame'>\n",
      "Index: 13664696 entries, 509354017856950272 to 486479812614451200\n",
      "Data columns (total 9 columns):\n",
      " #   Column          Dtype  \n",
      "---  ------          -----  \n",
      " 0   user_id         object \n",
      " 1   retweet_count   float32\n",
      " 2   reply_count     object \n",
      " 3   favorite_count  object \n",
      " 4   num_hashtags    object \n",
      " 5   num_urls        object \n",
      " 6   num_mentions    object \n",
      " 7   created_at      object \n",
      " 8   text            object \n",
      "dtypes: float32(1), object(8)\n",
      "memory usage: 1.2+ GB\n"
     ]
    }
   ],
   "source": [
    "df_tweets_sample['retweet_count'] = pd.to_numeric(df_tweets_sample['retweet_count'], downcast= 'float', errors='coerce') # After this instruction the column becomes numerics\n",
    "df_tweets_sample.info()"
   ]
  },
  {
   "cell_type": "markdown",
   "metadata": {},
   "source": [
    "## Features informations\n",
    "### Users dataset\n",
    "id, name, lang, bot, created_at and statuses_count\n",
    "* **id** (*Numerical*)\n",
    "  * Type: **Int64**\n",
    "  * Description: Is the identifier of the single user, it will be used to join the datasets, so it is necessary that this data is a non-null integer.\n",
    "* **name** (*Categorical*)\n",
    "  * Type: **String**\n",
    "  * Description: The name of the user.\n",
    "* **lang** (*Categorical*)\n",
    "  * Type: **String**\n",
    "  * Description: The user’s language selected\n",
    "* **bot** (*Numerical*)\n",
    "  * Type: **Boolean**\n",
    "  * Description: A binary variable that indicates if a user is a bot or a genuine user\n",
    "* **created_at** (*Numerical*)\n",
    "  * Type: **Datetime64**\n",
    "  * Description: The timestamp of when the user was created\n",
    "* **statuses_count** (*Numerical*)\n",
    "  * Type: **Int64**\n",
    "  * Description: The count of the tweets made by the user at the moment of data crawling.\n",
    "### Tweets dataset\n",
    "* **id** (*Numerical*)\n",
    "  * Type: **Object**\n",
    "  * Description: Is the identifier of the single tweet, it should be int64, but we decided to consder it object because it does not affect the data if it is not an integer.\n",
    "* **user_id** (*Numerical*)\n",
    "  * Type: **Int64**\n",
    "  * Description: Is the identifier of the single user, it will be used to join the datasets, so it is necessary that this data is a non-null integer\n",
    "* **retweet_count** (*Numerical*)\n",
    "  * Type: **Int64**\n",
    "  * Description: The number of retweets of the single tweet\n",
    "* **reply_count** (*Numerical*)\n",
    "  * Type: **Int64**\n",
    "  * Description: The number of replies of the single tweet\n",
    "* **favorite_count** (*Numerical*)\n",
    "  * Type: **Int64**\n",
    "  * Description: The number of favorites (or likes) of the single tweet\n",
    "* **num_hashtags** (*Numerical*)\n",
    "  * Type: **Int64**\n",
    "  * Description: The number of hashtags in the single tweet\n",
    "* **num_urls** (*Numerical*)\n",
    "  * Type: **Int64**\n",
    "  * Description: The number of urls in the single tweet\n",
    "* **num_mentions** (*Numerical*)\n",
    "  * Type: **Int64**\n",
    "  * Description: The number of mentions in the single tweet\n",
    "* **created_at** (*Numerical*)\n",
    "  * Type: **Datetime64**\n",
    "  * Description: The timestamp of when the single tweet was created\n",
    "* **text** (*Categorical*)\n",
    "  * Type: **String**\n",
    "  * Description: The text of the single tweet"
   ]
  },
  {
   "cell_type": "markdown",
   "metadata": {},
   "source": [
    "# Datatype Casting\n",
    "## Users dataframe casting"
   ]
  },
  {
   "cell_type": "code",
   "execution_count": 9,
   "metadata": {},
   "outputs": [
    {
     "name": "stdout",
     "output_type": "stream",
     "text": [
      "<class 'pandas.core.frame.DataFrame'>\n",
      "Int64Index: 11508 entries, 2353593986 to 933183398\n",
      "Data columns (total 5 columns):\n",
      " #   Column          Non-Null Count  Dtype  \n",
      "---  ------          --------------  -----  \n",
      " 0   name            11507 non-null  object \n",
      " 1   lang            11508 non-null  object \n",
      " 2   bot             11508 non-null  int64  \n",
      " 3   created_at      11508 non-null  object \n",
      " 4   statuses_count  11109 non-null  float64\n",
      "dtypes: float64(1), int64(1), object(3)\n",
      "memory usage: 539.4+ KB\n"
     ]
    }
   ],
   "source": [
    "df_users.info()"
   ]
  },
  {
   "cell_type": "markdown",
   "metadata": {},
   "source": [
    "Cast name and lang columns to string and created_at to DateTime in df_users"
   ]
  },
  {
   "cell_type": "code",
   "execution_count": 10,
   "metadata": {},
   "outputs": [],
   "source": [
    "df_users.name = df_users.name.astype('string')\n",
    "df_users.lang = df_users.lang.astype('string')\n"
   ]
  },
  {
   "cell_type": "markdown",
   "metadata": {},
   "source": [
    "Showing how 'lang' is composed with a logarithmic scale bar plot"
   ]
  },
  {
   "cell_type": "code",
   "execution_count": 11,
   "metadata": {},
   "outputs": [
    {
     "name": "stdout",
     "output_type": "stream",
     "text": [
      "Langs in the user dataset:\n",
      "en                    0.866354\n",
      "it                    0.078728\n",
      "es                     0.02772\n",
      "pt                    0.005648\n",
      "en-gb                 0.004345\n",
      "ru                     0.00365\n",
      "fr                    0.003128\n",
      "ja                    0.002868\n",
      "zh-tw                 0.001477\n",
      "tr                    0.001217\n",
      "id                    0.001043\n",
      "ko                    0.000782\n",
      "de                    0.000695\n",
      "nl                    0.000521\n",
      "en-GB                 0.000348\n",
      "ar                    0.000261\n",
      "zh-TW                 0.000261\n",
      "da                    0.000174\n",
      "Select Language...    0.000174\n",
      "en-AU                 0.000087\n",
      "zh-cn                 0.000087\n",
      "pl                    0.000087\n",
      "el                    0.000087\n",
      "fil                   0.000087\n",
      "sv                    0.000087\n",
      "xx-lc                 0.000087\n",
      "Name: lang, dtype: Float64\n"
     ]
    },
    {
     "data": {
      "image/png": "[encoded data removed]",
      "text/plain": [
       "<Figure size 640x480 with 1 Axes>"
      ]
     },
     "metadata": {},
     "output_type": "display_data"
    }
   ],
   "source": [
    "lang_distribution = df_users.lang.value_counts(normalize=True)\n",
    "print('Langs in the user dataset:')\n",
    "print(lang_distribution)\n",
    "\n",
    "lang_distribution.plot(kind=\"bar\")\n",
    "plt.yscale('log')"
   ]
  },
  {
   "cell_type": "markdown",
   "metadata": {},
   "source": [
    "We decided that if the lang contains a dash, we'll take into consideration only the lang before it.\n",
    "\n",
    "E.g.: \"en-gb\" will become \"en\", \"zh-tw\" will become \"zh\"."
   ]
  },
  {
   "cell_type": "code",
   "execution_count": 12,
   "metadata": {},
   "outputs": [],
   "source": [
    "import re\n",
    "\n",
    "def lang_correction(lang_string):\n",
    "    lang = lang_string\n",
    "    lang = re.sub('-.*$', '', lang)\n",
    "\n",
    "    return lang\n",
    "\n",
    "df_users.lang = df_users.lang.apply(lang_correction)\n"
   ]
  },
  {
   "cell_type": "markdown",
   "metadata": {},
   "source": [
    "Substituting \"Select Language...\" with the mode. "
   ]
  },
  {
   "cell_type": "code",
   "execution_count": 13,
   "metadata": {},
   "outputs": [],
   "source": [
    "df_users.lang.replace(to_replace=\"Select Language...\",value=df_users.lang.mode()[0], inplace=True)"
   ]
  },
  {
   "cell_type": "markdown",
   "metadata": {},
   "source": [
    "We looked at the tweets with the user id equal to the one who has 'lang' equal to xx, and determined that theier posts were english, so we changed 'lang' to 'en', which is also the mode.\n",
    "\n",
    "TODO: check if other strange languages in full tweets dataset"
   ]
  },
  {
   "cell_type": "code",
   "execution_count": 14,
   "metadata": {},
   "outputs": [],
   "source": [
    "df_users.lang.replace(to_replace=\"xx\",value=df_users.lang.mode()[0], inplace=True)"
   ]
  },
  {
   "cell_type": "markdown",
   "metadata": {},
   "source": [
    "Displaying the cleaned 'lang' in log scale:"
   ]
  },
  {
   "cell_type": "code",
   "execution_count": 15,
   "metadata": {},
   "outputs": [
    {
     "name": "stdout",
     "output_type": "stream",
     "text": [
      "Langs in the user dataset:\n",
      "en     0.871394\n",
      "it     0.078728\n",
      "es     0.027720\n",
      "pt     0.005648\n",
      "ru     0.003650\n",
      "fr     0.003128\n",
      "ja     0.002868\n",
      "zh     0.001825\n",
      "tr     0.001217\n",
      "id     0.001043\n",
      "ko     0.000782\n",
      "de     0.000695\n",
      "nl     0.000521\n",
      "ar     0.000261\n",
      "da     0.000174\n",
      "pl     0.000087\n",
      "el     0.000087\n",
      "fil    0.000087\n",
      "sv     0.000087\n",
      "Name: lang, dtype: float64\n"
     ]
    },
    {
     "data": {
      "image/png": "[encoded data removed]",
      "text/plain": [
       "<Figure size 640x480 with 1 Axes>"
      ]
     },
     "metadata": {},
     "output_type": "display_data"
    }
   ],
   "source": [
    "lang_distribution = df_users.lang.value_counts(normalize=True)\n",
    "print('Langs in the user dataset:')\n",
    "print(lang_distribution)\n",
    "\n",
    "lang_distribution.plot(kind=\"bar\")\n",
    "plt.yscale('log')"
   ]
  },
  {
   "cell_type": "markdown",
   "metadata": {},
   "source": [
    "Cast statuses_count to Int64, bot to bool and created_at to DateTime in df_users"
   ]
  },
  {
   "cell_type": "code",
   "execution_count": 16,
   "metadata": {},
   "outputs": [],
   "source": [
    "df_users.statuses_count = df_users.statuses_count.astype('Int64', errors='raise')\n",
    "df_users.bot = df_users.bot.astype('bool', errors='raise')\n",
    "df_users.created_at = pd.to_datetime(df_users.created_at, errors='coerce')\n"
   ]
  },
  {
   "cell_type": "code",
   "execution_count": 17,
   "metadata": {},
   "outputs": [
    {
     "name": "stdout",
     "output_type": "stream",
     "text": [
      "<class 'pandas.core.frame.DataFrame'>\n",
      "Int64Index: 11508 entries, 2353593986 to 933183398\n",
      "Data columns (total 5 columns):\n",
      " #   Column          Non-Null Count  Dtype         \n",
      "---  ------          --------------  -----         \n",
      " 0   name            11507 non-null  string        \n",
      " 1   lang            11508 non-null  object        \n",
      " 2   bot             11508 non-null  bool          \n",
      " 3   created_at      11508 non-null  datetime64[ns]\n",
      " 4   statuses_count  11109 non-null  Int64         \n",
      "dtypes: Int64(1), bool(1), datetime64[ns](1), object(1), string(1)\n",
      "memory usage: 472.0+ KB\n"
     ]
    }
   ],
   "source": [
    "df_users.info()"
   ]
  },
  {
   "cell_type": "markdown",
   "metadata": {},
   "source": [
    "## Tweets dataframe casting\n",
    "\n",
    "Int64 casting for numeric columns in df_tweets"
   ]
  },
  {
   "cell_type": "code",
   "execution_count": 25,
   "metadata": {},
   "outputs": [],
   "source": [
    "# Define max and min for Int64\n",
    "max_int = np.iinfo(np.int64).max\n",
    "min_int = np.iinfo(np.int64).min\n",
    "\n",
    "def substitute_int(x):\n",
    "    if x < max_int or x > min_int:\n",
    "        print(x)\n",
    "        return x\n",
    "    else:\n",
    "        return pd.NA\n",
    "\n",
    "for col_name in df_tweets_sample.iloc[:, : 7]:\n",
    "    # Cast objects to float. after this instruction the column becomes numerics\n",
    "    df_tweets_sample[col_name] = pd.to_numeric(df_tweets_sample[col_name], downcast= 'integer', errors='coerce')\n",
    "\n",
    "    # Substitute values outside of Int64 limits with NaN\n",
    "    df_tweets_sample[col_name] = df_tweets_sample[col_name].apply(substitute_int)\n",
    "\n",
    "    # Cast to Int64\n",
    "    df_tweets_sample[col_name] = df_tweets_sample[col_name].astype('Int64', errors='ignore')\n",
    "\n"
   ]
  },
  {
   "cell_type": "markdown",
   "metadata": {},
   "source": [
    "Cast text column to string and created_at to DateTime in df_tweets"
   ]
  },
  {
   "cell_type": "code",
   "execution_count": null,
   "metadata": {},
   "outputs": [],
   "source": [
    "df_tweets_sample.text = df_tweets_sample.text.astype('string')\n",
    "df_tweets_sample.created_at = pd.to_datetime(df_tweets_sample.created_at, errors='coerce')"
   ]
  },
  {
   "cell_type": "code",
   "execution_count": null,
   "metadata": {},
   "outputs": [
    {
     "name": "stdout",
     "output_type": "stream",
     "text": [
      "<class 'pandas.core.frame.DataFrame'>\n",
      "Index: 136647 entries, 528578456452612097 to 520574848935153664\n",
      "Data columns (total 9 columns):\n",
      " #   Column          Non-Null Count   Dtype         \n",
      "---  ------          --------------   -----         \n",
      " 0   user_id         132272 non-null  Int64         \n",
      " 1   retweet_count   130362 non-null  Int64         \n",
      " 2   reply_count     128457 non-null  Int64         \n",
      " 3   favorite_count  128519 non-null  Int64         \n",
      " 4   num_hashtags    124949 non-null  Int64         \n",
      " 5   num_urls        128514 non-null  Int64         \n",
      " 6   num_mentions    126737 non-null  Int64         \n",
      " 7   created_at      136647 non-null  datetime64[ns]\n",
      " 8   text            131286 non-null  string        \n",
      "dtypes: Int64(7), datetime64[ns](1), string(1)\n",
      "memory usage: 16.3+ MB\n"
     ]
    }
   ],
   "source": [
    "df_tweets_sample.info()"
   ]
  },
  {
   "cell_type": "code",
   "execution_count": null,
   "metadata": {},
   "outputs": [
    {
     "data": {
      "text/plain": [
       "<AxesSubplot:ylabel='id'>"
      ]
     },
     "execution_count": 22,
     "metadata": {},
     "output_type": "execute_result"
    },
    {
     "data": {
      "image/png": "[encoded data removed]",
      "text/plain": [
       "<Figure size 864x360 with 1 Axes>"
      ]
     },
     "metadata": {
      "needs_background": "light"
     },
     "output_type": "display_data"
    }
   ],
   "source": [
    "fig, ax = plt.subplots(figsize=(12,5)) \n",
    "sn.heatmap(df_tweets_sample.isnull(), cbar=False, xticklabels=True, ax=ax, yticklabels=False)"
   ]
  },
  {
   "cell_type": "markdown",
   "metadata": {},
   "source": [
    "Drop tweets where user_id is NaN"
   ]
  },
  {
   "cell_type": "code",
   "execution_count": null,
   "metadata": {},
   "outputs": [],
   "source": [
    "df_tweets_sample.dropna(subset=['user_id'], how='any', inplace=True)"
   ]
  },
  {
   "cell_type": "markdown",
   "metadata": {},
   "source": [
    "# Joining tables\n",
    "Joining the tables to make sure we work only on the user into the user DB"
   ]
  },
  {
   "cell_type": "code",
   "execution_count": null,
   "metadata": {},
   "outputs": [],
   "source": [
    "#df_joined = df_tweets_sample.join(df_users, on='user_id', how='inner', lsuffix='_tweet', rsuffix='_user')\n",
    "df_joined = df_tweets_sample.join(df_users, on='user_id', how='inner', lsuffix='_tweet', rsuffix='_user')"
   ]
  },
  {
   "cell_type": "code",
   "execution_count": null,
   "metadata": {},
   "outputs": [
    {
     "name": "stdout",
     "output_type": "stream",
     "text": [
      "<class 'pandas.core.frame.DataFrame'>\n",
      "Index: 10579 entries, 46646049035625229 to 20257469400702069\n",
      "Data columns (total 14 columns):\n",
      " #   Column            Non-Null Count  Dtype         \n",
      "---  ------            --------------  -----         \n",
      " 0   user_id           10579 non-null  Int64         \n",
      " 1   retweet_count     10225 non-null  Int64         \n",
      " 2   reply_count       10167 non-null  Int64         \n",
      " 3   favorite_count    10147 non-null  Int64         \n",
      " 4   num_hashtags      9984 non-null   Int64         \n",
      " 5   num_urls          10160 non-null  Int64         \n",
      " 6   num_mentions      10069 non-null  Int64         \n",
      " 7   created_at_tweet  10579 non-null  datetime64[ns]\n",
      " 8   text              10327 non-null  string        \n",
      " 9   name              10579 non-null  string        \n",
      " 10  lang              10579 non-null  object        \n",
      " 11  bot               10579 non-null  bool          \n",
      " 12  created_at_user   10579 non-null  datetime64[ns]\n",
      " 13  statuses_count    10577 non-null  Int64         \n",
      "dtypes: Int64(8), bool(1), datetime64[ns](2), object(1), string(2)\n",
      "memory usage: 1.2+ MB\n"
     ]
    }
   ],
   "source": [
    "df_joined.num_hashtags = df_joined.num_hashtags.astype('Int64')\n",
    "df_joined.num_mentions = df_joined.num_mentions.astype('Int64')\n",
    "df_joined.info()"
   ]
  },
  {
   "cell_type": "markdown",
   "metadata": {},
   "source": [
    "Function that returns the substitute attribute of a tweet. It ish the median value of the attribute of other tweets of the same user, if there are enough valid tweets, otherwise it is the median value from users which have same 'bot' attribute"
   ]
  },
  {
   "cell_type": "markdown",
   "metadata": {},
   "source": [
    "# Outliers Detection\n",
    "\n",
    "We now explore the distributions in order to find the outliers of each attribute."
   ]
  },
  {
   "cell_type": "markdown",
   "metadata": {},
   "source": [
    "## User Outliers\n",
    "\n",
    "We check 'created_at' whit a bar plot by year."
   ]
  },
  {
   "cell_type": "code",
   "execution_count": null,
   "metadata": {},
   "outputs": [
    {
     "data": {
      "text/plain": [
       "<AxesSubplot:xlabel='created_at'>"
      ]
     },
     "execution_count": 26,
     "metadata": {},
     "output_type": "execute_result"
    },
    {
     "data": {
      "image/png": "[encoded data removed]",
      "text/plain": [
       "<Figure size 432x288 with 1 Axes>"
      ]
     },
     "metadata": {
      "needs_background": "light"
     },
     "output_type": "display_data"
    }
   ],
   "source": [
    "df_users.created_at.groupby(df_users.created_at.dt.year).count().plot(kind='bar')"
   ]
  },
  {
   "cell_type": "markdown",
   "metadata": {},
   "source": [
    "Since Twitter was founded in 2006 and the oldest user is from 2012, there are no lower bound outliers.\n",
    "\n",
    "Since the crawling was done in 2020, and there are no users created later than 2020, there are no upper bound outliers.\n",
    "\n",
    "Now we check \"statuses_count\""
   ]
  },
  {
   "cell_type": "code",
   "execution_count": null,
   "metadata": {},
   "outputs": [
    {
     "data": {
      "image/png": "[encoded data removed]",
      "text/plain": [
       "<Figure size 1152x360 with 2 Axes>"
      ]
     },
     "metadata": {
      "needs_background": "light"
     },
     "output_type": "display_data"
    }
   ],
   "source": [
    "\n",
    "fig, (ax1, ax2) = plt.subplots(1, 2, figsize=(16, 5))\n",
    "df_users.boxplot(column=\"statuses_count\", ax=ax1)\n",
    "ax1.set_yscale('log')\n",
    "df_users.hist(column=\"statuses_count\", ax=ax2, stacked=True, bins=mr_bins(df_users.statuses_count.count()))\n",
    "ax2.set_yscale('log')\n",
    "fig.subplots_adjust(wspace=0.3)\n"
   ]
  },
  {
   "cell_type": "markdown",
   "metadata": {},
   "source": [
    "There are no outliers, because there is no limit on how much a user can publish in a given period of time and also there are not negative values that would be invalid.\n",
    "\n",
    "## Tweets Outliers"
   ]
  },
  {
   "cell_type": "markdown",
   "metadata": {},
   "source": []
  },
  {
   "cell_type": "code",
   "execution_count": null,
   "metadata": {},
   "outputs": [],
   "source": [
    "#Da eliminare\n",
    "Q1 = df_tweets_sample.quantile(0.25)  # first quartile\n",
    "Q3 = df_tweets_sample.quantile(0.75)  # third quartile\n",
    "InterQRange = Q3 - Q1  # interquartile range\n",
    "\n",
    "lower_bound = (Q1 - 1.5 * InterQRange).astype('int64')  \n",
    "median = (df_tweets_sample.quantile(0.5)).astype('int64') \n",
    "upper_bound = (Q3 + 1.5 * InterQRange).astype('int64')"
   ]
  },
  {
   "cell_type": "markdown",
   "metadata": {},
   "source": [
    "Now we check \"retweet_count\""
   ]
  },
  {
   "cell_type": "code",
   "execution_count": null,
   "metadata": {},
   "outputs": [
    {
     "data": {
      "image/png": "[encoded data removed]",
      "text/plain": [
       "<Figure size 1152x360 with 2 Axes>"
      ]
     },
     "metadata": {
      "needs_background": "light"
     },
     "output_type": "display_data"
    }
   ],
   "source": [
    "fig, (ax1, ax2) = plt.subplots(1, 2, figsize=(16, 5))\n",
    "df_joined.boxplot(column=\"retweet_count\", ax=ax1)\n",
    "#ax1.set_yscale('log')\n",
    "df_joined.hist(column=\"retweet_count\", ax=ax2, stacked=True, bins=mr_bins(df_joined.retweet_count.count()))\n",
    "ax2.set_yscale('log')\n",
    "fig.subplots_adjust(wspace=0.3)"
   ]
  },
  {
   "cell_type": "markdown",
   "metadata": {},
   "source": [
    "The most retweet tweet has more than 4*10^6 retweets, so we not consider a retweet count over that threshold"
   ]
  },
  {
   "cell_type": "markdown",
   "metadata": {},
   "source": [
    "'reply_count'"
   ]
  },
  {
   "cell_type": "code",
   "execution_count": null,
   "metadata": {},
   "outputs": [
    {
     "data": {
      "image/png": "[encoded data removed]",
      "text/plain": [
       "<Figure size 1152x360 with 2 Axes>"
      ]
     },
     "metadata": {
      "needs_background": "light"
     },
     "output_type": "display_data"
    }
   ],
   "source": [
    "fig, (ax1, ax2) = plt.subplots(1, 2, figsize=(16, 5))\n",
    "df_joined.boxplot(column=\"reply_count\", ax=ax1)\n",
    "#ax1.set_yscale('log')\n",
    "df_joined.hist(column=\"reply_count\", ax=ax2, stacked=True, bins=mr_bins(df_joined.reply_count.count()))\n",
    "ax2.set_yscale('log')\n",
    "fig.subplots_adjust(wspace=0.3)"
   ]
  },
  {
   "cell_type": "markdown",
   "metadata": {},
   "source": [
    "'favorite_count'"
   ]
  },
  {
   "cell_type": "code",
   "execution_count": null,
   "metadata": {},
   "outputs": [
    {
     "data": {
      "image/png": "[encoded data removed]",
      "text/plain": [
       "<Figure size 1152x360 with 2 Axes>"
      ]
     },
     "metadata": {
      "needs_background": "light"
     },
     "output_type": "display_data"
    }
   ],
   "source": [
    "fig, (ax1, ax2) = plt.subplots(1, 2, figsize=(16, 5))\n",
    "df_joined.boxplot(column=\"favorite_count\", ax=ax1)\n",
    "#ax1.set_yscale('log')\n",
    "df_joined.hist(column=\"favorite_count\", ax=ax2, stacked=True, bins=mr_bins(df_joined.favorite_count.count()))\n",
    "ax2.set_yscale('log')\n",
    "fig.subplots_adjust(wspace=0.3)"
   ]
  },
  {
   "cell_type": "markdown",
   "metadata": {},
   "source": [
    "'num_hashtags', since the max char in a tweet is 280, we decided to replace with the median number of hashtags everything that is above that threshold"
   ]
  },
  {
   "cell_type": "code",
   "execution_count": null,
   "metadata": {},
   "outputs": [
    {
     "ename": "TypeError",
     "evalue": "boolean value of NA is ambiguous",
     "output_type": "error",
     "traceback": [
      "\u001b[1;31m---------------------------------------------------------------------------\u001b[0m",
      "\u001b[1;31mTypeError\u001b[0m                                 Traceback (most recent call last)",
      "\u001b[1;32m<ipython-input-32-2bb32e471ba2>\u001b[0m in \u001b[0;36m<module>\u001b[1;34m\u001b[0m\n\u001b[1;32m----> 1\u001b[1;33m \u001b[0mdf_tweets_sample\u001b[0m\u001b[1;33m.\u001b[0m\u001b[0mnum_hashtags\u001b[0m \u001b[1;33m=\u001b[0m \u001b[0mdf_tweets_sample\u001b[0m\u001b[1;33m.\u001b[0m\u001b[0mnum_hashtags\u001b[0m\u001b[1;33m.\u001b[0m\u001b[0mapply\u001b[0m\u001b[1;33m(\u001b[0m\u001b[1;32mlambda\u001b[0m \u001b[0mx\u001b[0m\u001b[1;33m:\u001b[0m \u001b[0mx\u001b[0m \u001b[1;32mif\u001b[0m \u001b[0mx\u001b[0m \u001b[1;33m<\u001b[0m \u001b[1;36m280\u001b[0m \u001b[1;32melse\u001b[0m \u001b[0mdf_tweets_sample\u001b[0m\u001b[1;33m.\u001b[0m\u001b[0mnum_hashtags\u001b[0m\u001b[1;33m.\u001b[0m\u001b[0mmedian\u001b[0m\u001b[1;33m(\u001b[0m\u001b[1;33m)\u001b[0m\u001b[1;33m)\u001b[0m\u001b[1;33m\u001b[0m\u001b[1;33m\u001b[0m\u001b[0m\n\u001b[0m",
      "\u001b[1;32mc:\\Users\\giaco\\anaconda3\\lib\\site-packages\\pandas\\core\\series.py\u001b[0m in \u001b[0;36mapply\u001b[1;34m(self, func, convert_dtype, args, **kwds)\u001b[0m\n\u001b[0;32m   4211\u001b[0m             \u001b[1;32melse\u001b[0m\u001b[1;33m:\u001b[0m\u001b[1;33m\u001b[0m\u001b[1;33m\u001b[0m\u001b[0m\n\u001b[0;32m   4212\u001b[0m                 \u001b[0mvalues\u001b[0m \u001b[1;33m=\u001b[0m \u001b[0mself\u001b[0m\u001b[1;33m.\u001b[0m\u001b[0mastype\u001b[0m\u001b[1;33m(\u001b[0m\u001b[0mobject\u001b[0m\u001b[1;33m)\u001b[0m\u001b[1;33m.\u001b[0m\u001b[0m_values\u001b[0m\u001b[1;33m\u001b[0m\u001b[1;33m\u001b[0m\u001b[0m\n\u001b[1;32m-> 4213\u001b[1;33m                 \u001b[0mmapped\u001b[0m \u001b[1;33m=\u001b[0m \u001b[0mlib\u001b[0m\u001b[1;33m.\u001b[0m\u001b[0mmap_infer\u001b[0m\u001b[1;33m(\u001b[0m\u001b[0mvalues\u001b[0m\u001b[1;33m,\u001b[0m \u001b[0mf\u001b[0m\u001b[1;33m,\u001b[0m \u001b[0mconvert\u001b[0m\u001b[1;33m=\u001b[0m\u001b[0mconvert_dtype\u001b[0m\u001b[1;33m)\u001b[0m\u001b[1;33m\u001b[0m\u001b[1;33m\u001b[0m\u001b[0m\n\u001b[0m\u001b[0;32m   4214\u001b[0m \u001b[1;33m\u001b[0m\u001b[0m\n\u001b[0;32m   4215\u001b[0m         \u001b[1;32mif\u001b[0m \u001b[0mlen\u001b[0m\u001b[1;33m(\u001b[0m\u001b[0mmapped\u001b[0m\u001b[1;33m)\u001b[0m \u001b[1;32mand\u001b[0m \u001b[0misinstance\u001b[0m\u001b[1;33m(\u001b[0m\u001b[0mmapped\u001b[0m\u001b[1;33m[\u001b[0m\u001b[1;36m0\u001b[0m\u001b[1;33m]\u001b[0m\u001b[1;33m,\u001b[0m \u001b[0mSeries\u001b[0m\u001b[1;33m)\u001b[0m\u001b[1;33m:\u001b[0m\u001b[1;33m\u001b[0m\u001b[1;33m\u001b[0m\u001b[0m\n",
      "\u001b[1;32mpandas\\_libs\\lib.pyx\u001b[0m in \u001b[0;36mpandas._libs.lib.map_infer\u001b[1;34m()\u001b[0m\n",
      "\u001b[1;32m<ipython-input-32-2bb32e471ba2>\u001b[0m in \u001b[0;36m<lambda>\u001b[1;34m(x)\u001b[0m\n\u001b[1;32m----> 1\u001b[1;33m \u001b[0mdf_tweets_sample\u001b[0m\u001b[1;33m.\u001b[0m\u001b[0mnum_hashtags\u001b[0m \u001b[1;33m=\u001b[0m \u001b[0mdf_tweets_sample\u001b[0m\u001b[1;33m.\u001b[0m\u001b[0mnum_hashtags\u001b[0m\u001b[1;33m.\u001b[0m\u001b[0mapply\u001b[0m\u001b[1;33m(\u001b[0m\u001b[1;32mlambda\u001b[0m \u001b[0mx\u001b[0m\u001b[1;33m:\u001b[0m \u001b[0mx\u001b[0m \u001b[1;32mif\u001b[0m \u001b[0mx\u001b[0m \u001b[1;33m<\u001b[0m \u001b[1;36m280\u001b[0m \u001b[1;32melse\u001b[0m \u001b[0mdf_tweets_sample\u001b[0m\u001b[1;33m.\u001b[0m\u001b[0mnum_hashtags\u001b[0m\u001b[1;33m.\u001b[0m\u001b[0mmedian\u001b[0m\u001b[1;33m(\u001b[0m\u001b[1;33m)\u001b[0m\u001b[1;33m)\u001b[0m\u001b[1;33m\u001b[0m\u001b[1;33m\u001b[0m\u001b[0m\n\u001b[0m",
      "\u001b[1;32mpandas\\_libs\\missing.pyx\u001b[0m in \u001b[0;36mpandas._libs.missing.NAType.__bool__\u001b[1;34m()\u001b[0m\n",
      "\u001b[1;31mTypeError\u001b[0m: boolean value of NA is ambiguous"
     ]
    }
   ],
   "source": [
    "df_tweets_sample.num_hashtags = df_tweets_sample.num_hashtags.apply(lambda x: x if x < 280 else df_tweets_sample.num_hashtags.median())"
   ]
  },
  {
   "cell_type": "code",
   "execution_count": null,
   "metadata": {},
   "outputs": [
    {
     "data": {
      "image/png": "[encoded data removed]",
      "text/plain": [
       "<Figure size 1600x500 with 2 Axes>"
      ]
     },
     "metadata": {},
     "output_type": "display_data"
    }
   ],
   "source": [
    "fig, (ax1, ax2) = plt.subplots(1, 2, figsize=(16, 5))\n",
    "df_joined.boxplot(column=\"num_hashtags\", ax=ax1)\n",
    "#ax1.set_yscale('log')\n",
    "df_joined.hist(column=\"num_hashtags\", ax=ax2, stacked=True, bins=mr_bins(df_joined.retweet_count.count()))\n",
    "ax2.set_yscale('log')\n",
    "fig.subplots_adjust(wspace=0.3)"
   ]
  },
  {
   "cell_type": "markdown",
   "metadata": {},
   "source": [
    "'num_mentions' since the max char in a tweet is 280, and since a mention to a user needs a @ before the user's nickname (which could be just a letter) we decided to replace with the median number of hashtags everything that is above 280/2."
   ]
  },
  {
   "cell_type": "code",
   "execution_count": null,
   "metadata": {},
   "outputs": [],
   "source": [
    "df_joined.num_mentions = df_joined.num_mentions.apply(lambda x: x if x < 140 else df_joined.num_mentions.median())"
   ]
  },
  {
   "cell_type": "code",
   "execution_count": null,
   "metadata": {},
   "outputs": [
    {
     "data": {
      "image/png": "[encoded data removed]",
      "text/plain": [
       "<Figure size 1600x500 with 2 Axes>"
      ]
     },
     "metadata": {},
     "output_type": "display_data"
    }
   ],
   "source": [
    "fig, (ax1, ax2) = plt.subplots(1, 2, figsize=(16, 5))\n",
    "df_joined.boxplot(column=\"num_mentions\", ax=ax1)\n",
    "#ax1.set_yscale('log')\n",
    "df_joined.hist(column=\"num_mentions\", ax=ax2, stacked=True, bins=mr_bins(df_joined.num_mentions.count()))\n",
    "ax2.set_yscale('log')\n",
    "fig.subplots_adjust(wspace=0.3)"
   ]
  },
  {
   "cell_type": "markdown",
   "metadata": {},
   "source": [
    "'created_at' since Twitter was founded in 2006 and we are in 2022, we decided to substitute the years that are outside of this range with the median for the single user, if the date is still outside of the limits, we set the date to 1972 (which is a leap year, since we don't want any February 29th problems to occur)."
   ]
  },
  {
   "cell_type": "code",
   "execution_count": null,
   "metadata": {},
   "outputs": [],
   "source": [
    "def fix_year(row):\n",
    "    tweet_creation_date = row.created_at_tweet\n",
    "    min_date = np.datetime64('2006-07-15 00:00:00')\n",
    "    max_date = np.datetime64('2020-12-31 23:59:59')\n",
    "    \n",
    "    if tweet_creation_date < min_date or tweet_creation_date > max_date:\n",
    "        tweet_creation_date = row.created_at_tweet.replace(pd.NA)\n",
    "\n",
    "    return tweet_creation_date\n",
    "\n",
    "df_joined.created_at_tweet = df_joined.apply(fix_year, axis=1)"
   ]
  },
  {
   "cell_type": "code",
   "execution_count": null,
   "metadata": {},
   "outputs": [
    {
     "data": {
      "image/png": "[encoded data removed]",
      "text/plain": [
       "<Figure size 640x480 with 1 Axes>"
      ]
     },
     "metadata": {},
     "output_type": "display_data"
    }
   ],
   "source": [
    "df_joined.created_at_tweet.groupby(df_joined.created_at_tweet.dt.year).count().plot(kind='bar')\n",
    "plt.yscale('log')"
   ]
  },
  {
   "cell_type": "markdown",
   "metadata": {},
   "source": [
    "# Manage NaN"
   ]
  },
  {
   "cell_type": "markdown",
   "metadata": {},
   "source": [
    "Fill the NaN in the numeric columns"
   ]
  },
  {
   "cell_type": "code",
   "execution_count": null,
   "metadata": {},
   "outputs": [
    {
     "ename": "AttributeError",
     "evalue": "'Series' object has no attribute 'columns'",
     "output_type": "error",
     "traceback": [
      "\u001b[1;31m---------------------------------------------------------------------------\u001b[0m",
      "\u001b[1;31mAttributeError\u001b[0m                            Traceback (most recent call last)",
      "\u001b[1;32m<ipython-input-62-10a6ca41adaa>\u001b[0m in \u001b[0;36m<module>\u001b[1;34m\u001b[0m\n\u001b[1;32m----> 1\u001b[1;33m \u001b[0mdf_joined\u001b[0m\u001b[1;33m.\u001b[0m\u001b[0mgroupby\u001b[0m\u001b[1;33m(\u001b[0m\u001b[1;33m[\u001b[0m\u001b[1;34m'user_id'\u001b[0m\u001b[1;33m]\u001b[0m\u001b[1;33m)\u001b[0m\u001b[1;33m.\u001b[0m\u001b[0msize\u001b[0m\u001b[1;33m(\u001b[0m\u001b[1;33m)\u001b[0m\u001b[1;33m.\u001b[0m\u001b[0mcolumns\u001b[0m\u001b[1;33m(\u001b[0m\u001b[1;33m)\u001b[0m\u001b[1;33m\u001b[0m\u001b[1;33m\u001b[0m\u001b[0m\n\u001b[0m",
      "\u001b[1;32mc:\\Users\\giaco\\anaconda3\\lib\\site-packages\\pandas\\core\\generic.py\u001b[0m in \u001b[0;36m__getattr__\u001b[1;34m(self, name)\u001b[0m\n\u001b[0;32m   5139\u001b[0m             \u001b[1;32mif\u001b[0m \u001b[0mself\u001b[0m\u001b[1;33m.\u001b[0m\u001b[0m_info_axis\u001b[0m\u001b[1;33m.\u001b[0m\u001b[0m_can_hold_identifiers_and_holds_name\u001b[0m\u001b[1;33m(\u001b[0m\u001b[0mname\u001b[0m\u001b[1;33m)\u001b[0m\u001b[1;33m:\u001b[0m\u001b[1;33m\u001b[0m\u001b[1;33m\u001b[0m\u001b[0m\n\u001b[0;32m   5140\u001b[0m                 \u001b[1;32mreturn\u001b[0m \u001b[0mself\u001b[0m\u001b[1;33m[\u001b[0m\u001b[0mname\u001b[0m\u001b[1;33m]\u001b[0m\u001b[1;33m\u001b[0m\u001b[1;33m\u001b[0m\u001b[0m\n\u001b[1;32m-> 5141\u001b[1;33m             \u001b[1;32mreturn\u001b[0m \u001b[0mobject\u001b[0m\u001b[1;33m.\u001b[0m\u001b[0m__getattribute__\u001b[0m\u001b[1;33m(\u001b[0m\u001b[0mself\u001b[0m\u001b[1;33m,\u001b[0m \u001b[0mname\u001b[0m\u001b[1;33m)\u001b[0m\u001b[1;33m\u001b[0m\u001b[1;33m\u001b[0m\u001b[0m\n\u001b[0m\u001b[0;32m   5142\u001b[0m \u001b[1;33m\u001b[0m\u001b[0m\n\u001b[0;32m   5143\u001b[0m     \u001b[1;32mdef\u001b[0m \u001b[0m__setattr__\u001b[0m\u001b[1;33m(\u001b[0m\u001b[0mself\u001b[0m\u001b[1;33m,\u001b[0m \u001b[0mname\u001b[0m\u001b[1;33m:\u001b[0m \u001b[0mstr\u001b[0m\u001b[1;33m,\u001b[0m \u001b[0mvalue\u001b[0m\u001b[1;33m)\u001b[0m \u001b[1;33m->\u001b[0m \u001b[1;32mNone\u001b[0m\u001b[1;33m:\u001b[0m\u001b[1;33m\u001b[0m\u001b[1;33m\u001b[0m\u001b[0m\n",
      "\u001b[1;31mAttributeError\u001b[0m: 'Series' object has no attribute 'columns'"
     ]
    }
   ],
   "source": []
  },
  {
   "cell_type": "code",
   "execution_count": null,
   "metadata": {},
   "outputs": [],
   "source": []
  },
  {
   "cell_type": "markdown",
   "metadata": {},
   "source": [
    "Create Dataframe with count of valid (== non-null) numeric tweet attributes grouped by users"
   ]
  },
  {
   "cell_type": "code",
   "execution_count": null,
   "metadata": {},
   "outputs": [],
   "source": [
    "df_grouped_by_user_num_valid = df_joined.groupby(['user_id']).count().iloc[:, 0 : 6]\n",
    "new_labels = ['num_valid_retweet_count', 'num_valid_reply_count', 'num_valid_favorite_count',\n",
    "'num_valid_num_hashtags', 'num_valid_num_urls', 'num_valid_num_mentions']\n",
    "df_grouped_by_user_num_valid.columns = new_labels"
   ]
  },
  {
   "cell_type": "markdown",
   "metadata": {},
   "source": [
    "Create Dataframe with median value of numeric tweet attributes grouped by users"
   ]
  },
  {
   "cell_type": "code",
   "execution_count": null,
   "metadata": {},
   "outputs": [],
   "source": [
    "df_grouped_by_user_median = df_joined.groupby(['user_id']).median().iloc[:, 0 : 6]\n",
    "new_labels = ['median_retweet_count', 'median_reply_count', 'median_favorite_count',\n",
    "'median_num_hashtags', 'median_num_urls', 'median_num_mentions']\n",
    "df_grouped_by_user_median.columns = new_labels"
   ]
  },
  {
   "cell_type": "markdown",
   "metadata": {},
   "source": [
    "Merge the previously generated Dataframes to form a user group-by dataframe"
   ]
  },
  {
   "cell_type": "code",
   "execution_count": null,
   "metadata": {},
   "outputs": [],
   "source": [
    "df_grouped_by_user = df_grouped_by_user_median.join(df_grouped_by_user_num_valid, on='user_id',\n",
    " how='inner', lsuffix='_median', rsuffix='_num_valid')"
   ]
  },
  {
   "cell_type": "code",
   "execution_count": null,
   "metadata": {},
   "outputs": [],
   "source": []
  },
  {
   "cell_type": "code",
   "execution_count": null,
   "metadata": {},
   "outputs": [
    {
     "name": "stdout",
     "output_type": "stream",
     "text": [
      "            retweet_count  reply_count  favorite_count  num_hashtags  \\\n",
      "user_id                                                                \n",
      "678033                 34           34              34            34   \n",
      "722623                 28           28              28            28   \n",
      "755116                 26           26              26            26   \n",
      "755746                 23           23              23            23   \n",
      "785080                 35           35              35            35   \n",
      "...                   ...          ...             ...           ...   \n",
      "2381821184              3            3               3             3   \n",
      "2644167680             49           51              48            50   \n",
      "2963287552             44           40              42            41   \n",
      "3092750592             18           17              18            18   \n",
      "3140211968             10           10              10            10   \n",
      "\n",
      "            num_urls  num_mentions  created_at_tweet  text  name  lang  bot  \\\n",
      "user_id                                                                       \n",
      "678033            34            34                34    34    34    34   34   \n",
      "722623            28            28                28    28    28    28   28   \n",
      "755116            26            26                26    26    26    26   26   \n",
      "755746            23            23                23    23    23    23   23   \n",
      "785080            35            35                35    35    35    35   35   \n",
      "...              ...           ...               ...   ...   ...   ...  ...   \n",
      "2381821184         3             3                 3     3     3     3    3   \n",
      "2644167680        51            52                53    52    53    53   53   \n",
      "2963287552        43            43                45    44    45    45   45   \n",
      "3092750592        18            18                18    18    18    18   18   \n",
      "3140211968        10            10                10    10    10    10   10   \n",
      "\n",
      "            created_at_user  statuses_count  \n",
      "user_id                                      \n",
      "678033                   34              34  \n",
      "722623                   28              28  \n",
      "755116                   26              26  \n",
      "755746                   23              23  \n",
      "785080                   35              35  \n",
      "...                     ...             ...  \n",
      "2381821184                3               3  \n",
      "2644167680               53              53  \n",
      "2963287552               45              45  \n",
      "3092750592               18              18  \n",
      "3140211968               10              10  \n",
      "\n",
      "[432 rows x 13 columns]\n"
     ]
    },
    {
     "ename": "ValueError",
     "evalue": "Wrong number of items passed 13, placement implies 1",
     "output_type": "error",
     "traceback": [
      "\u001b[1;31m---------------------------------------------------------------------------\u001b[0m",
      "\u001b[1;31mValueError\u001b[0m                                Traceback (most recent call last)",
      "\u001b[1;32m<ipython-input-79-5b48fe9c2b9f>\u001b[0m in \u001b[0;36m<module>\u001b[1;34m\u001b[0m\n\u001b[0;32m      1\u001b[0m \u001b[0mprint\u001b[0m\u001b[1;33m(\u001b[0m\u001b[0mdf_joined\u001b[0m\u001b[1;33m.\u001b[0m\u001b[0mgroupby\u001b[0m\u001b[1;33m(\u001b[0m\u001b[1;33m[\u001b[0m\u001b[1;34m'user_id'\u001b[0m\u001b[1;33m]\u001b[0m\u001b[1;33m)\u001b[0m\u001b[1;33m.\u001b[0m\u001b[0mcount\u001b[0m\u001b[1;33m(\u001b[0m\u001b[1;33m)\u001b[0m\u001b[1;33m)\u001b[0m\u001b[1;33m\u001b[0m\u001b[1;33m\u001b[0m\u001b[0m\n\u001b[0;32m      2\u001b[0m \u001b[0mdf_grouped_by_user\u001b[0m \u001b[1;33m=\u001b[0m \u001b[0mdf_joined\u001b[0m\u001b[1;33m.\u001b[0m\u001b[0mgroupby\u001b[0m\u001b[1;33m(\u001b[0m\u001b[1;33m[\u001b[0m\u001b[1;34m'user_id'\u001b[0m\u001b[1;33m]\u001b[0m\u001b[1;33m)\u001b[0m\u001b[1;33m.\u001b[0m\u001b[0mmedian\u001b[0m\u001b[1;33m(\u001b[0m\u001b[1;33m)\u001b[0m\u001b[1;33m\u001b[0m\u001b[1;33m\u001b[0m\u001b[0m\n\u001b[1;32m----> 3\u001b[1;33m \u001b[0mdf_grouped_by_user\u001b[0m\u001b[1;33m.\u001b[0m\u001b[0minsert\u001b[0m\u001b[1;33m(\u001b[0m\u001b[0mloc\u001b[0m\u001b[1;33m=\u001b[0m\u001b[1;36m0\u001b[0m\u001b[1;33m,\u001b[0m \u001b[0mcolumn\u001b[0m\u001b[1;33m=\u001b[0m\u001b[1;34m'num_tweets'\u001b[0m\u001b[1;33m,\u001b[0m \u001b[0mvalue\u001b[0m\u001b[1;33m=\u001b[0m\u001b[0mdf_joined\u001b[0m\u001b[1;33m.\u001b[0m\u001b[0mgroupby\u001b[0m\u001b[1;33m(\u001b[0m\u001b[1;33m[\u001b[0m\u001b[1;34m'user_id'\u001b[0m\u001b[1;33m]\u001b[0m\u001b[1;33m)\u001b[0m\u001b[1;33m.\u001b[0m\u001b[0mcount\u001b[0m\u001b[1;33m(\u001b[0m\u001b[1;33m)\u001b[0m\u001b[1;33m)\u001b[0m\u001b[1;33m\u001b[0m\u001b[1;33m\u001b[0m\u001b[0m\n\u001b[0m\u001b[0;32m      4\u001b[0m \u001b[0mdf_grouped_by_user\u001b[0m\u001b[1;33m.\u001b[0m\u001b[0minfo\u001b[0m\u001b[1;33m(\u001b[0m\u001b[1;33m)\u001b[0m\u001b[1;33m\u001b[0m\u001b[1;33m\u001b[0m\u001b[0m\n",
      "\u001b[1;32mc:\\Users\\giaco\\anaconda3\\lib\\site-packages\\pandas\\core\\frame.py\u001b[0m in \u001b[0;36minsert\u001b[1;34m(self, loc, column, value, allow_duplicates)\u001b[0m\n\u001b[0;32m   3626\u001b[0m         \u001b[0mself\u001b[0m\u001b[1;33m.\u001b[0m\u001b[0m_ensure_valid_index\u001b[0m\u001b[1;33m(\u001b[0m\u001b[0mvalue\u001b[0m\u001b[1;33m)\u001b[0m\u001b[1;33m\u001b[0m\u001b[1;33m\u001b[0m\u001b[0m\n\u001b[0;32m   3627\u001b[0m         \u001b[0mvalue\u001b[0m \u001b[1;33m=\u001b[0m \u001b[0mself\u001b[0m\u001b[1;33m.\u001b[0m\u001b[0m_sanitize_column\u001b[0m\u001b[1;33m(\u001b[0m\u001b[0mcolumn\u001b[0m\u001b[1;33m,\u001b[0m \u001b[0mvalue\u001b[0m\u001b[1;33m,\u001b[0m \u001b[0mbroadcast\u001b[0m\u001b[1;33m=\u001b[0m\u001b[1;32mFalse\u001b[0m\u001b[1;33m)\u001b[0m\u001b[1;33m\u001b[0m\u001b[1;33m\u001b[0m\u001b[0m\n\u001b[1;32m-> 3628\u001b[1;33m         \u001b[0mself\u001b[0m\u001b[1;33m.\u001b[0m\u001b[0m_mgr\u001b[0m\u001b[1;33m.\u001b[0m\u001b[0minsert\u001b[0m\u001b[1;33m(\u001b[0m\u001b[0mloc\u001b[0m\u001b[1;33m,\u001b[0m \u001b[0mcolumn\u001b[0m\u001b[1;33m,\u001b[0m \u001b[0mvalue\u001b[0m\u001b[1;33m,\u001b[0m \u001b[0mallow_duplicates\u001b[0m\u001b[1;33m=\u001b[0m\u001b[0mallow_duplicates\u001b[0m\u001b[1;33m)\u001b[0m\u001b[1;33m\u001b[0m\u001b[1;33m\u001b[0m\u001b[0m\n\u001b[0m\u001b[0;32m   3629\u001b[0m \u001b[1;33m\u001b[0m\u001b[0m\n\u001b[0;32m   3630\u001b[0m     \u001b[1;32mdef\u001b[0m \u001b[0massign\u001b[0m\u001b[1;33m(\u001b[0m\u001b[0mself\u001b[0m\u001b[1;33m,\u001b[0m \u001b[1;33m**\u001b[0m\u001b[0mkwargs\u001b[0m\u001b[1;33m)\u001b[0m \u001b[1;33m->\u001b[0m \u001b[1;34m\"DataFrame\"\u001b[0m\u001b[1;33m:\u001b[0m\u001b[1;33m\u001b[0m\u001b[1;33m\u001b[0m\u001b[0m\n",
      "\u001b[1;32mc:\\Users\\giaco\\anaconda3\\lib\\site-packages\\pandas\\core\\internals\\managers.py\u001b[0m in \u001b[0;36minsert\u001b[1;34m(self, loc, item, value, allow_duplicates)\u001b[0m\n\u001b[0;32m   1196\u001b[0m             \u001b[0mvalue\u001b[0m \u001b[1;33m=\u001b[0m \u001b[0m_safe_reshape\u001b[0m\u001b[1;33m(\u001b[0m\u001b[0mvalue\u001b[0m\u001b[1;33m,\u001b[0m \u001b[1;33m(\u001b[0m\u001b[1;36m1\u001b[0m\u001b[1;33m,\u001b[0m\u001b[1;33m)\u001b[0m \u001b[1;33m+\u001b[0m \u001b[0mvalue\u001b[0m\u001b[1;33m.\u001b[0m\u001b[0mshape\u001b[0m\u001b[1;33m)\u001b[0m\u001b[1;33m\u001b[0m\u001b[1;33m\u001b[0m\u001b[0m\n\u001b[0;32m   1197\u001b[0m \u001b[1;33m\u001b[0m\u001b[0m\n\u001b[1;32m-> 1198\u001b[1;33m         \u001b[0mblock\u001b[0m \u001b[1;33m=\u001b[0m \u001b[0mmake_block\u001b[0m\u001b[1;33m(\u001b[0m\u001b[0mvalues\u001b[0m\u001b[1;33m=\u001b[0m\u001b[0mvalue\u001b[0m\u001b[1;33m,\u001b[0m \u001b[0mndim\u001b[0m\u001b[1;33m=\u001b[0m\u001b[0mself\u001b[0m\u001b[1;33m.\u001b[0m\u001b[0mndim\u001b[0m\u001b[1;33m,\u001b[0m \u001b[0mplacement\u001b[0m\u001b[1;33m=\u001b[0m\u001b[0mslice\u001b[0m\u001b[1;33m(\u001b[0m\u001b[0mloc\u001b[0m\u001b[1;33m,\u001b[0m \u001b[0mloc\u001b[0m \u001b[1;33m+\u001b[0m \u001b[1;36m1\u001b[0m\u001b[1;33m)\u001b[0m\u001b[1;33m)\u001b[0m\u001b[1;33m\u001b[0m\u001b[1;33m\u001b[0m\u001b[0m\n\u001b[0m\u001b[0;32m   1199\u001b[0m \u001b[1;33m\u001b[0m\u001b[0m\n\u001b[0;32m   1200\u001b[0m         \u001b[1;32mfor\u001b[0m \u001b[0mblkno\u001b[0m\u001b[1;33m,\u001b[0m \u001b[0mcount\u001b[0m \u001b[1;32min\u001b[0m \u001b[0m_fast_count_smallints\u001b[0m\u001b[1;33m(\u001b[0m\u001b[0mself\u001b[0m\u001b[1;33m.\u001b[0m\u001b[0mblknos\u001b[0m\u001b[1;33m[\u001b[0m\u001b[0mloc\u001b[0m\u001b[1;33m:\u001b[0m\u001b[1;33m]\u001b[0m\u001b[1;33m)\u001b[0m\u001b[1;33m:\u001b[0m\u001b[1;33m\u001b[0m\u001b[1;33m\u001b[0m\u001b[0m\n",
      "\u001b[1;32mc:\\Users\\giaco\\anaconda3\\lib\\site-packages\\pandas\\core\\internals\\blocks.py\u001b[0m in \u001b[0;36mmake_block\u001b[1;34m(values, placement, klass, ndim, dtype)\u001b[0m\n\u001b[0;32m   2742\u001b[0m         \u001b[0mvalues\u001b[0m \u001b[1;33m=\u001b[0m \u001b[0mDatetimeArray\u001b[0m\u001b[1;33m.\u001b[0m\u001b[0m_simple_new\u001b[0m\u001b[1;33m(\u001b[0m\u001b[0mvalues\u001b[0m\u001b[1;33m,\u001b[0m \u001b[0mdtype\u001b[0m\u001b[1;33m=\u001b[0m\u001b[0mdtype\u001b[0m\u001b[1;33m)\u001b[0m\u001b[1;33m\u001b[0m\u001b[1;33m\u001b[0m\u001b[0m\n\u001b[0;32m   2743\u001b[0m \u001b[1;33m\u001b[0m\u001b[0m\n\u001b[1;32m-> 2744\u001b[1;33m     \u001b[1;32mreturn\u001b[0m \u001b[0mklass\u001b[0m\u001b[1;33m(\u001b[0m\u001b[0mvalues\u001b[0m\u001b[1;33m,\u001b[0m \u001b[0mndim\u001b[0m\u001b[1;33m=\u001b[0m\u001b[0mndim\u001b[0m\u001b[1;33m,\u001b[0m \u001b[0mplacement\u001b[0m\u001b[1;33m=\u001b[0m\u001b[0mplacement\u001b[0m\u001b[1;33m)\u001b[0m\u001b[1;33m\u001b[0m\u001b[1;33m\u001b[0m\u001b[0m\n\u001b[0m\u001b[0;32m   2745\u001b[0m \u001b[1;33m\u001b[0m\u001b[0m\n\u001b[0;32m   2746\u001b[0m \u001b[1;33m\u001b[0m\u001b[0m\n",
      "\u001b[1;32mc:\\Users\\giaco\\anaconda3\\lib\\site-packages\\pandas\\core\\internals\\blocks.py\u001b[0m in \u001b[0;36m__init__\u001b[1;34m(self, values, placement, ndim)\u001b[0m\n\u001b[0;32m    129\u001b[0m         \u001b[1;32mif\u001b[0m \u001b[0mself\u001b[0m\u001b[1;33m.\u001b[0m\u001b[0m_validate_ndim\u001b[0m \u001b[1;32mand\u001b[0m \u001b[0mself\u001b[0m\u001b[1;33m.\u001b[0m\u001b[0mndim\u001b[0m \u001b[1;32mand\u001b[0m \u001b[0mlen\u001b[0m\u001b[1;33m(\u001b[0m\u001b[0mself\u001b[0m\u001b[1;33m.\u001b[0m\u001b[0mmgr_locs\u001b[0m\u001b[1;33m)\u001b[0m \u001b[1;33m!=\u001b[0m \u001b[0mlen\u001b[0m\u001b[1;33m(\u001b[0m\u001b[0mself\u001b[0m\u001b[1;33m.\u001b[0m\u001b[0mvalues\u001b[0m\u001b[1;33m)\u001b[0m\u001b[1;33m:\u001b[0m\u001b[1;33m\u001b[0m\u001b[1;33m\u001b[0m\u001b[0m\n\u001b[0;32m    130\u001b[0m             raise ValueError(\n\u001b[1;32m--> 131\u001b[1;33m                 \u001b[1;34mf\"Wrong number of items passed {len(self.values)}, \"\u001b[0m\u001b[1;33m\u001b[0m\u001b[1;33m\u001b[0m\u001b[0m\n\u001b[0m\u001b[0;32m    132\u001b[0m                 \u001b[1;34mf\"placement implies {len(self.mgr_locs)}\"\u001b[0m\u001b[1;33m\u001b[0m\u001b[1;33m\u001b[0m\u001b[0m\n\u001b[0;32m    133\u001b[0m             )\n",
      "\u001b[1;31mValueError\u001b[0m: Wrong number of items passed 13, placement implies 1"
     ]
    }
   ],
   "source": [
    "print(df_joined.groupby(['user_id']).count())\n",
    "df_grouped_by_user = df_joined.groupby(['user_id']).median()\n",
    "df_grouped_by_user.insert(loc=0, column='num_tweets', value=df_joined.groupby(['user_id']).count())\n",
    "df_grouped_by_user.info()"
   ]
  },
  {
   "cell_type": "code",
   "execution_count": null,
   "metadata": {},
   "outputs": [],
   "source": [
    "def subsititue_with_median(row, col_name, bot_median, not_bot_median, min_valid_user_values):\n",
    "    if pd.isnull(row[col_name]):\n",
    "        num_valid_col_name = 'num_valid_' + col_name\n",
    "        num_valid_col_name = 'num_valid_' + col_name\n",
    "        # If there are at least a min number of user tweets with valid attribute\n",
    "        if .count() > min_valid_user_values:\n",
    "            # Use median of attribute of same user tweets\n",
    "            row[col_name] = tweets_of_same_user[col_name].median().astype(np.int64)\n",
    "        # Else use median of bot/not_bot\n",
    "        elif row['bot'] == True:\n",
    "            row[col_name] = bot_median\n",
    "        else:\n",
    "            row[col_name] = not_bot_median\n",
    "    return row"
   ]
  },
  {
   "cell_type": "code",
   "execution_count": null,
   "metadata": {},
   "outputs": [
    {
     "name": "stdout",
     "output_type": "stream",
     "text": [
      "bot median retweet_count: 0\n",
      "not bot median retweet_count: 0\n",
      "bot median reply_count: 0\n",
      "not bot median reply_count: 0\n",
      "bot median favorite_count: 0\n",
      "not bot median favorite_count: 0\n",
      "bot median num_hashtags: 0\n",
      "not bot median num_hashtags: 0\n",
      "bot median num_urls: 0\n",
      "not bot median num_urls: 0\n",
      "bot median num_mentions: 0\n",
      "not bot median num_mentions: 1\n"
     ]
    }
   ],
   "source": [
    "# Minimum value of other tweets with not-NaN feature\n",
    "min_valid_user_values = 4 #da calcolare eventualmente\n",
    "\n",
    "for col_name in df_tweets_sample.iloc[:, 1 : 7]:\n",
    "    \n",
    "    # Calculate median on the feature for bots and not-bots\n",
    "    bot_median = df_joined.loc[df_joined['bot'] == True][col_name].median().astype(np.int64)\n",
    "    not_bot_median = df_joined.loc[df_joined['bot'] == False][col_name].median().astype(np.int64)\n",
    "    print('bot median {}:'.format(col_name), bot_median)\n",
    "    print('not bot median {}:'.format(col_name), not_bot_median)\n",
    "\n",
    "    df_joined.apply(\n",
    "        func=subsititue_with_median, axis=1, args=(col_name, bot_median, not_bot_median, min_valid_user_values))"
   ]
  },
  {
   "cell_type": "markdown",
   "metadata": {},
   "source": [
    "As statuses_count in df_users contains only tweet count and not replies, while df_tweets contains also replies, we cannot estimate NaN statuses_count with the number of the users tweets, so we fill those NaNs with median"
   ]
  },
  {
   "cell_type": "code",
   "execution_count": null,
   "metadata": {},
   "outputs": [
    {
     "name": "stdout",
     "output_type": "stream",
     "text": [
      "68\n"
     ]
    }
   ],
   "source": [
    "median = df_users.statuses_count.median().astype(np.int64)\n",
    "print(median)\n",
    "df_users.statuses_count.fillna(median, inplace=True)"
   ]
  },
  {
   "cell_type": "markdown",
   "metadata": {},
   "source": [
    "Fill NaN name in df_users  with \"\""
   ]
  },
  {
   "cell_type": "code",
   "execution_count": null,
   "metadata": {},
   "outputs": [],
   "source": [
    "df_users.name.fillna(\"\", inplace=True)"
   ]
  },
  {
   "cell_type": "code",
   "execution_count": null,
   "metadata": {},
   "outputs": [
    {
     "name": "stdout",
     "output_type": "stream",
     "text": [
      "<class 'pandas.core.frame.DataFrame'>\n",
      "Int64Index: 11508 entries, 2353593986 to 933183398\n",
      "Data columns (total 5 columns):\n",
      " #   Column          Non-Null Count  Dtype         \n",
      "---  ------          --------------  -----         \n",
      " 0   name            11508 non-null  string        \n",
      " 1   lang            11508 non-null  object        \n",
      " 2   bot             11508 non-null  bool          \n",
      " 3   created_at      11508 non-null  datetime64[ns]\n",
      " 4   statuses_count  11508 non-null  Int64         \n",
      "dtypes: Int64(1), bool(1), datetime64[ns](1), object(1), string(1)\n",
      "memory usage: 472.0+ KB\n"
     ]
    }
   ],
   "source": [
    "df_users.info()"
   ]
  }
 ],
 "metadata": {
  "kernelspec": {
   "display_name": "Python 3.7.13 ('dataMiningEnv')",
   "language": "python",
   "name": "python3"
  },
  "language_info": {
   "codemirror_mode": {
    "name": "ipython",
    "version": 3
   },
   "file_extension": ".py",
   "mimetype": "text/x-python",
   "name": "python",
   "nbconvert_exporter": "python",
   "pygments_lexer": "ipython3",
   "version": "3.7.13"
  },
  "orig_nbformat": 4,
  "vscode": {
   "interpreter": {
    "hash": "ce66766ca3893cb1226d696fde69a866d0cab1d434d25c0e4ac78a42eaec01f7"
   }
  }
 },
 "nbformat": 4,
 "nbformat_minor": 2
}
