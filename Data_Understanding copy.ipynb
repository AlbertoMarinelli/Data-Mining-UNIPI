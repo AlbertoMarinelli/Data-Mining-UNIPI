{
 "cells": [
  {
   "cell_type": "markdown",
   "metadata": {},
   "source": [
    "# Task 1.1 Data Understanding\n",
    "*Alberto Roberto Marinelli, Giacomo Cignoni, Alessandro Bucci*\n",
    "## Importing Libraries\n",
    "First we import the libraries necessary to analyze the data"
   ]
  },
  {
   "cell_type": "code",
   "execution_count": 2,
   "metadata": {},
   "outputs": [],
   "source": [
    "import math\n",
    "import numpy as np\n",
    "import pandas as pd\n",
    "import seaborn as sn\n",
    "import scipy.stats as stats\n",
    "import matplotlib.pyplot as plt\n",
    "from sklearn import decomposition"
   ]
  },
  {
   "cell_type": "markdown",
   "metadata": {},
   "source": [
    "Then we load the datasets"
   ]
  },
  {
   "cell_type": "code",
   "execution_count": 87,
   "metadata": {},
   "outputs": [],
   "source": [
    "df_tweets = pd.read_csv('./dataset/tweets.csv', sep=',', index_col=0)  # load tweets\n",
    "df_users = pd.read_csv('./dataset/users.csv', sep=',', index_col=0)  # load users"
   ]
  },
  {
   "cell_type": "markdown",
   "metadata": {},
   "source": [
    "## Information about the datasets\n",
    "\n",
    "### User Dataset\n",
    "The user dataset is composed of 6 columns: id, name, lang, bot, created_at and statuses_count"
   ]
  },
  {
   "cell_type": "code",
   "execution_count": 88,
   "metadata": {},
   "outputs": [
    {
     "name": "stdout",
     "output_type": "stream",
     "text": [
      "<class 'pandas.core.frame.DataFrame'>\n",
      "Int64Index: 11508 entries, 2353593986 to 933183398\n",
      "Data columns (total 5 columns):\n",
      " #   Column          Non-Null Count  Dtype  \n",
      "---  ------          --------------  -----  \n",
      " 0   name            11507 non-null  object \n",
      " 1   lang            11508 non-null  object \n",
      " 2   bot             11508 non-null  int64  \n",
      " 3   created_at      11508 non-null  object \n",
      " 4   statuses_count  11109 non-null  float64\n",
      "dtypes: float64(1), int64(1), object(3)\n",
      "memory usage: 539.4+ KB\n"
     ]
    }
   ],
   "source": [
    "df_users.info()"
   ]
  },
  {
   "cell_type": "code",
   "execution_count": 89,
   "metadata": {},
   "outputs": [
    {
     "data": {
      "text/html": [
       "<div>\n",
       "<style scoped>\n",
       "    .dataframe tbody tr th:only-of-type {\n",
       "        vertical-align: middle;\n",
       "    }\n",
       "\n",
       "    .dataframe tbody tr th {\n",
       "        vertical-align: top;\n",
       "    }\n",
       "\n",
       "    .dataframe thead th {\n",
       "        text-align: right;\n",
       "    }\n",
       "</style>\n",
       "<table border=\"1\" class=\"dataframe\">\n",
       "  <thead>\n",
       "    <tr style=\"text-align: right;\">\n",
       "      <th></th>\n",
       "      <th>name</th>\n",
       "      <th>lang</th>\n",
       "      <th>bot</th>\n",
       "      <th>created_at</th>\n",
       "      <th>statuses_count</th>\n",
       "    </tr>\n",
       "    <tr>\n",
       "      <th>id</th>\n",
       "      <th></th>\n",
       "      <th></th>\n",
       "      <th></th>\n",
       "      <th></th>\n",
       "      <th></th>\n",
       "    </tr>\n",
       "  </thead>\n",
       "  <tbody>\n",
       "    <tr>\n",
       "      <th>2353593986</th>\n",
       "      <td>Lamonica Raborn</td>\n",
       "      <td>en</td>\n",
       "      <td>1</td>\n",
       "      <td>2019-02-22 18:00:42</td>\n",
       "      <td>76.0</td>\n",
       "    </tr>\n",
       "    <tr>\n",
       "      <th>2358850842</th>\n",
       "      <td>Lourie Botton</td>\n",
       "      <td>en</td>\n",
       "      <td>0</td>\n",
       "      <td>2019-02-26 03:02:32</td>\n",
       "      <td>54.0</td>\n",
       "    </tr>\n",
       "    <tr>\n",
       "      <th>137959629</th>\n",
       "      <td>Dadan Syarifudin</td>\n",
       "      <td>en</td>\n",
       "      <td>1</td>\n",
       "      <td>2015-04-30 07:09:56</td>\n",
       "      <td>3.0</td>\n",
       "    </tr>\n",
       "    <tr>\n",
       "      <th>466124818</th>\n",
       "      <td>Carletto Focia</td>\n",
       "      <td>it</td>\n",
       "      <td>1</td>\n",
       "      <td>2017-01-18 02:49:18</td>\n",
       "      <td>50.0</td>\n",
       "    </tr>\n",
       "    <tr>\n",
       "      <th>2571493866</th>\n",
       "      <td>MBK Ebook</td>\n",
       "      <td>en</td>\n",
       "      <td>0</td>\n",
       "      <td>2019-06-18 19:30:21</td>\n",
       "      <td>7085.0</td>\n",
       "    </tr>\n",
       "    <tr>\n",
       "      <th>...</th>\n",
       "      <td>...</td>\n",
       "      <td>...</td>\n",
       "      <td>...</td>\n",
       "      <td>...</td>\n",
       "      <td>...</td>\n",
       "    </tr>\n",
       "    <tr>\n",
       "      <th>2911861962</th>\n",
       "      <td>Madrid Lae Maika .</td>\n",
       "      <td>en</td>\n",
       "      <td>0</td>\n",
       "      <td>2019-11-29 13:16:02</td>\n",
       "      <td>1126.0</td>\n",
       "    </tr>\n",
       "    <tr>\n",
       "      <th>1378532629</th>\n",
       "      <td>Clau Sato</td>\n",
       "      <td>en</td>\n",
       "      <td>0</td>\n",
       "      <td>2018-04-27 03:01:58</td>\n",
       "      <td>3024.0</td>\n",
       "    </tr>\n",
       "    <tr>\n",
       "      <th>126984069</th>\n",
       "      <td>ALMA LETICIA NUÑO</td>\n",
       "      <td>es</td>\n",
       "      <td>0</td>\n",
       "      <td>2015-03-29 17:01:24</td>\n",
       "      <td>6.0</td>\n",
       "    </tr>\n",
       "    <tr>\n",
       "      <th>2383025796</th>\n",
       "      <td>Minnie Guadagno</td>\n",
       "      <td>en</td>\n",
       "      <td>1</td>\n",
       "      <td>2019-03-13 02:44:13</td>\n",
       "      <td>42.0</td>\n",
       "    </tr>\n",
       "    <tr>\n",
       "      <th>933183398</th>\n",
       "      <td>Corvanna</td>\n",
       "      <td>en</td>\n",
       "      <td>0</td>\n",
       "      <td>2017-11-09 23:24:16</td>\n",
       "      <td>5279.0</td>\n",
       "    </tr>\n",
       "  </tbody>\n",
       "</table>\n",
       "<p>11508 rows × 5 columns</p>\n",
       "</div>"
      ],
      "text/plain": [
       "                          name lang  bot           created_at  statuses_count\n",
       "id                                                                           \n",
       "2353593986     Lamonica Raborn   en    1  2019-02-22 18:00:42            76.0\n",
       "2358850842       Lourie Botton   en    0  2019-02-26 03:02:32            54.0\n",
       "137959629     Dadan Syarifudin   en    1  2015-04-30 07:09:56             3.0\n",
       "466124818       Carletto Focia   it    1  2017-01-18 02:49:18            50.0\n",
       "2571493866           MBK Ebook   en    0  2019-06-18 19:30:21          7085.0\n",
       "...                        ...  ...  ...                  ...             ...\n",
       "2911861962  Madrid Lae Maika .   en    0  2019-11-29 13:16:02          1126.0\n",
       "1378532629           Clau Sato   en    0  2018-04-27 03:01:58          3024.0\n",
       "126984069   ALMA LETICIA NUÑO    es    0  2015-03-29 17:01:24             6.0\n",
       "2383025796     Minnie Guadagno   en    1  2019-03-13 02:44:13            42.0\n",
       "933183398            Corvanna    en    0  2017-11-09 23:24:16          5279.0\n",
       "\n",
       "[11508 rows x 5 columns]"
      ]
     },
     "execution_count": 89,
     "metadata": {},
     "output_type": "execute_result"
    }
   ],
   "source": [
    "df_users"
   ]
  },
  {
   "cell_type": "markdown",
   "metadata": {},
   "source": [
    "The id of the users needs to be integer and not NULL to be successfully joined with the tweets"
   ]
  },
  {
   "cell_type": "code",
   "execution_count": 90,
   "metadata": {},
   "outputs": [
    {
     "name": "stdout",
     "output_type": "stream",
     "text": [
      "<class 'pandas.core.frame.DataFrame'>\n",
      "Int64Index: 11508 entries, 2353593986 to 933183398\n",
      "Data columns (total 5 columns):\n",
      " #   Column          Non-Null Count  Dtype  \n",
      "---  ------          --------------  -----  \n",
      " 0   name            11507 non-null  object \n",
      " 1   lang            11508 non-null  object \n",
      " 2   bot             11508 non-null  int64  \n",
      " 3   created_at      11508 non-null  object \n",
      " 4   statuses_count  11109 non-null  float64\n",
      "dtypes: float64(1), int64(1), object(3)\n",
      "memory usage: 539.4+ KB\n"
     ]
    }
   ],
   "source": [
    "df_users.index = pd.to_numeric(df_users.index, downcast= 'integer', errors='coerce') # After this instruction the column becomes numerics\n",
    "                                                                                                 # The coerce option converts all types != int in NaN\n",
    "df_users.drop(df_users[df_users.index.isnull()].index, inplace=True) # Drop NaN in col 'id'\n",
    "df_users.index = df_users.index.map(int) # Cast to int\n",
    "\n",
    "df_users.info()"
   ]
  },
  {
   "cell_type": "markdown",
   "metadata": {},
   "source": [
    "Now we give a look at the heatmap to show all the missing values"
   ]
  },
  {
   "cell_type": "code",
   "execution_count": 91,
   "metadata": {},
   "outputs": [
    {
     "data": {
      "text/plain": [
       "<AxesSubplot:ylabel='id'>"
      ]
     },
     "execution_count": 91,
     "metadata": {},
     "output_type": "execute_result"
    },
    {
     "data": {
      "image/png": "[encoded data removed]",
      "text/plain": [
       "<Figure size 1200x500 with 1 Axes>"
      ]
     },
     "metadata": {},
     "output_type": "display_data"
    }
   ],
   "source": [
    "fig, ax = plt.subplots(figsize=(12,5)) \n",
    "sn.heatmap(df_users.isnull(), cbar=False, xticklabels=True, ax=ax, yticklabels=False)"
   ]
  },
  {
   "cell_type": "markdown",
   "metadata": {},
   "source": [
    "### Tweets Dataset\n",
    "The tweets dataset is composed of 10 columns: id, user_id, retweet_count, reply_count, favorite_count, num_hashtags, num_urls, num_mentions, created_at and text"
   ]
  },
  {
   "cell_type": "code",
   "execution_count": 92,
   "metadata": {},
   "outputs": [
    {
     "name": "stdout",
     "output_type": "stream",
     "text": [
      "<class 'pandas.core.frame.DataFrame'>\n",
      "Index: 1000 entries, 509354017856950272 to 2312918930458324\n",
      "Data columns (total 9 columns):\n",
      " #   Column          Non-Null Count  Dtype \n",
      "---  ------          --------------  ----- \n",
      " 0   user_id         971 non-null    object\n",
      " 1   retweet_count   959 non-null    object\n",
      " 2   reply_count     949 non-null    object\n",
      " 3   favorite_count  951 non-null    object\n",
      " 4   num_hashtags    913 non-null    object\n",
      " 5   num_urls        947 non-null    object\n",
      " 6   num_mentions    937 non-null    object\n",
      " 7   created_at      1000 non-null   object\n",
      " 8   text            961 non-null    object\n",
      "dtypes: object(9)\n",
      "memory usage: 78.1+ KB\n"
     ]
    }
   ],
   "source": [
    "df_tweets.info()"
   ]
  },
  {
   "cell_type": "code",
   "execution_count": 93,
   "metadata": {},
   "outputs": [
    {
     "data": {
      "text/html": [
       "<div>\n",
       "<style scoped>\n",
       "    .dataframe tbody tr th:only-of-type {\n",
       "        vertical-align: middle;\n",
       "    }\n",
       "\n",
       "    .dataframe tbody tr th {\n",
       "        vertical-align: top;\n",
       "    }\n",
       "\n",
       "    .dataframe thead th {\n",
       "        text-align: right;\n",
       "    }\n",
       "</style>\n",
       "<table border=\"1\" class=\"dataframe\">\n",
       "  <thead>\n",
       "    <tr style=\"text-align: right;\">\n",
       "      <th></th>\n",
       "      <th>user_id</th>\n",
       "      <th>retweet_count</th>\n",
       "      <th>reply_count</th>\n",
       "      <th>favorite_count</th>\n",
       "      <th>num_hashtags</th>\n",
       "      <th>num_urls</th>\n",
       "      <th>num_mentions</th>\n",
       "      <th>created_at</th>\n",
       "      <th>text</th>\n",
       "    </tr>\n",
       "    <tr>\n",
       "      <th>id</th>\n",
       "      <th></th>\n",
       "      <th></th>\n",
       "      <th></th>\n",
       "      <th></th>\n",
       "      <th></th>\n",
       "      <th></th>\n",
       "      <th></th>\n",
       "      <th></th>\n",
       "      <th></th>\n",
       "    </tr>\n",
       "  </thead>\n",
       "  <tbody>\n",
       "    <tr>\n",
       "      <th>509354017856950272</th>\n",
       "      <td>327746321</td>\n",
       "      <td>0</td>\n",
       "      <td>0</td>\n",
       "      <td>0</td>\n",
       "      <td>0</td>\n",
       "      <td>0</td>\n",
       "      <td>0</td>\n",
       "      <td>2019-09-11 14:53:55</td>\n",
       "      <td>If man is a little lower than angels, then ang...</td>\n",
       "    </tr>\n",
       "    <tr>\n",
       "      <th>583002592529121280</th>\n",
       "      <td>333722906</td>\n",
       "      <td>1</td>\n",
       "      <td>0</td>\n",
       "      <td>0</td>\n",
       "      <td>0</td>\n",
       "      <td>0</td>\n",
       "      <td>1</td>\n",
       "      <td>2020-04-01 20:27:04</td>\n",
       "      <td>\"@BestWSHHVids: how do you say these words wit...</td>\n",
       "    </tr>\n",
       "    <tr>\n",
       "      <th>461498835362013185</th>\n",
       "      <td>2379755827</td>\n",
       "      <td>0</td>\n",
       "      <td>0</td>\n",
       "      <td>0</td>\n",
       "      <td>0</td>\n",
       "      <td>0</td>\n",
       "      <td>1</td>\n",
       "      <td>2019-05-02 13:34:31</td>\n",
       "      <td>@LOLatComedy awsome</td>\n",
       "    </tr>\n",
       "    <tr>\n",
       "      <th>528808127366692864</th>\n",
       "      <td>466226882</td>\n",
       "      <td>0</td>\n",
       "      <td>0</td>\n",
       "      <td>0</td>\n",
       "      <td>0</td>\n",
       "      <td>0</td>\n",
       "      <td>0</td>\n",
       "      <td>2019-11-04 07:17:37</td>\n",
       "      <td>Stephen Hawkins: i buchi neri non esistono se ...</td>\n",
       "    </tr>\n",
       "    <tr>\n",
       "      <th>575336690904006656</th>\n",
       "      <td>1355537995</td>\n",
       "      <td>114</td>\n",
       "      <td>0</td>\n",
       "      <td>0</td>\n",
       "      <td>1</td>\n",
       "      <td>0</td>\n",
       "      <td>1</td>\n",
       "      <td>2020-03-11 16:45:31</td>\n",
       "      <td>RT @tibbs_montris: So ready for Wednesday!</td>\n",
       "    </tr>\n",
       "    <tr>\n",
       "      <th>...</th>\n",
       "      <td>...</td>\n",
       "      <td>...</td>\n",
       "      <td>...</td>\n",
       "      <td>...</td>\n",
       "      <td>...</td>\n",
       "      <td>...</td>\n",
       "      <td>...</td>\n",
       "      <td>...</td>\n",
       "      <td>...</td>\n",
       "    </tr>\n",
       "    <tr>\n",
       "      <th>526638475425382400</th>\n",
       "      <td>466308751</td>\n",
       "      <td>1</td>\n",
       "      <td>0</td>\n",
       "      <td>0</td>\n",
       "      <td>0</td>\n",
       "      <td>0</td>\n",
       "      <td>0</td>\n",
       "      <td>2019-10-29 07:36:11</td>\n",
       "      <td>\"Essere fuori e dimenticarsi di tutti i proble...</td>\n",
       "    </tr>\n",
       "    <tr>\n",
       "      <th>590385348871643136</th>\n",
       "      <td>175418591</td>\n",
       "      <td>0</td>\n",
       "      <td>0</td>\n",
       "      <td>1</td>\n",
       "      <td>0</td>\n",
       "      <td>0</td>\n",
       "      <td>0</td>\n",
       "      <td>2020-04-22 05:23:30</td>\n",
       "      <td>STOP SYING GNARLY</td>\n",
       "    </tr>\n",
       "    <tr>\n",
       "      <th>aay</th>\n",
       "      <td>614313057</td>\n",
       "      <td>2</td>\n",
       "      <td>0.0</td>\n",
       "      <td>3.0</td>\n",
       "      <td>0.0</td>\n",
       "      <td>0.0</td>\n",
       "      <td>gt95f</td>\n",
       "      <td>2019-02-27 10:30:56</td>\n",
       "      <td>Chi ti vuole,ti cerca. Chi ti ama,ti trova. Ch...</td>\n",
       "    </tr>\n",
       "    <tr>\n",
       "      <th>587485987414155264</th>\n",
       "      <td>1361191681</td>\n",
       "      <td>0</td>\n",
       "      <td>0</td>\n",
       "      <td>1</td>\n",
       "      <td>0</td>\n",
       "      <td>0</td>\n",
       "      <td>1</td>\n",
       "      <td>2020-04-14 05:22:29</td>\n",
       "      <td>\"@IMBJTB: GANDANG NAKAKA TUNAW! @bernardokath ...</td>\n",
       "    </tr>\n",
       "    <tr>\n",
       "      <th>2312918930458324</th>\n",
       "      <td>NaN</td>\n",
       "      <td>NaN</td>\n",
       "      <td>NaN</td>\n",
       "      <td>NaN</td>\n",
       "      <td>NaN</td>\n",
       "      <td>0.0</td>\n",
       "      <td>b8hp1</td>\n",
       "      <td>2020-02-20 12:15:58</td>\n",
       "      <td>@joyskie__ @kissrkris oo na tita</td>\n",
       "    </tr>\n",
       "  </tbody>\n",
       "</table>\n",
       "<p>1000 rows × 9 columns</p>\n",
       "</div>"
      ],
      "text/plain": [
       "                       user_id retweet_count reply_count favorite_count  \\\n",
       "id                                                                        \n",
       "509354017856950272   327746321             0           0              0   \n",
       "583002592529121280   333722906             1           0              0   \n",
       "461498835362013185  2379755827             0           0              0   \n",
       "528808127366692864   466226882             0           0              0   \n",
       "575336690904006656  1355537995           114           0              0   \n",
       "...                        ...           ...         ...            ...   \n",
       "526638475425382400   466308751             1           0              0   \n",
       "590385348871643136   175418591             0           0              1   \n",
       "aay                  614313057             2         0.0            3.0   \n",
       "587485987414155264  1361191681             0           0              1   \n",
       "2312918930458324           NaN           NaN         NaN            NaN   \n",
       "\n",
       "                   num_hashtags num_urls num_mentions           created_at  \\\n",
       "id                                                                           \n",
       "509354017856950272            0        0            0  2019-09-11 14:53:55   \n",
       "583002592529121280            0        0            1  2020-04-01 20:27:04   \n",
       "461498835362013185            0        0            1  2019-05-02 13:34:31   \n",
       "528808127366692864            0        0            0  2019-11-04 07:17:37   \n",
       "575336690904006656            1        0            1  2020-03-11 16:45:31   \n",
       "...                         ...      ...          ...                  ...   \n",
       "526638475425382400            0        0            0  2019-10-29 07:36:11   \n",
       "590385348871643136            0        0            0  2020-04-22 05:23:30   \n",
       "aay                         0.0      0.0        gt95f  2019-02-27 10:30:56   \n",
       "587485987414155264            0        0            1  2020-04-14 05:22:29   \n",
       "2312918930458324            NaN      0.0        b8hp1  2020-02-20 12:15:58   \n",
       "\n",
       "                                                                 text  \n",
       "id                                                                     \n",
       "509354017856950272  If man is a little lower than angels, then ang...  \n",
       "583002592529121280  \"@BestWSHHVids: how do you say these words wit...  \n",
       "461498835362013185                                @LOLatComedy awsome  \n",
       "528808127366692864  Stephen Hawkins: i buchi neri non esistono se ...  \n",
       "575336690904006656         RT @tibbs_montris: So ready for Wednesday!  \n",
       "...                                                               ...  \n",
       "526638475425382400  \"Essere fuori e dimenticarsi di tutti i proble...  \n",
       "590385348871643136                                  STOP SYING GNARLY  \n",
       "aay                 Chi ti vuole,ti cerca. Chi ti ama,ti trova. Ch...  \n",
       "587485987414155264  \"@IMBJTB: GANDANG NAKAKA TUNAW! @bernardokath ...  \n",
       "2312918930458324                     @joyskie__ @kissrkris oo na tita  \n",
       "\n",
       "[1000 rows x 9 columns]"
      ]
     },
     "execution_count": 93,
     "metadata": {},
     "output_type": "execute_result"
    }
   ],
   "source": [
    "df_tweets"
   ]
  },
  {
   "cell_type": "markdown",
   "metadata": {},
   "source": [
    "We found out that some user_ids in the tweets were NaN or a different type rather than int, it means that we would not be able to join them with the user dataset, so we decided to drop them out of the dataframe."
   ]
  },
  {
   "cell_type": "code",
   "execution_count": 94,
   "metadata": {},
   "outputs": [
    {
     "name": "stdout",
     "output_type": "stream",
     "text": [
      "<class 'pandas.core.frame.DataFrame'>\n",
      "Index: 956 entries, 509354017856950272 to 587485987414155264\n",
      "Data columns (total 9 columns):\n",
      " #   Column          Non-Null Count  Dtype \n",
      "---  ------          --------------  ----- \n",
      " 0   user_id         956 non-null    Int64 \n",
      " 1   retweet_count   925 non-null    object\n",
      " 2   reply_count     921 non-null    object\n",
      " 3   favorite_count  919 non-null    object\n",
      " 4   num_hashtags    892 non-null    object\n",
      " 5   num_urls        912 non-null    object\n",
      " 6   num_mentions    910 non-null    object\n",
      " 7   created_at      956 non-null    object\n",
      " 8   text            927 non-null    object\n",
      "dtypes: Int64(1), object(8)\n",
      "memory usage: 75.6+ KB\n"
     ]
    }
   ],
   "source": [
    "df_tweets['user_id'] = pd.to_numeric(df_tweets['user_id'], downcast= 'integer', errors='coerce') # After this instruction the column becomes numerics\n",
    "                                                                                                 # The coerce option converts all types != int in NaN\n",
    "df_tweets.drop(df_tweets[df_tweets['user_id'].isnull()].index, inplace=True) # Drop NaN in col 'user_id'\n",
    "df_tweets['user_id'] = df_tweets['user_id'].astype('Int64', errors='ignore') # Cast to int\n",
    "\n",
    "df_tweets.info()"
   ]
  },
  {
   "cell_type": "markdown",
   "metadata": {},
   "source": [
    "Now we give a look at the heatmap to show all the missing values"
   ]
  },
  {
   "cell_type": "code",
   "execution_count": 95,
   "metadata": {},
   "outputs": [
    {
     "data": {
      "text/plain": [
       "<AxesSubplot:ylabel='id'>"
      ]
     },
     "execution_count": 95,
     "metadata": {},
     "output_type": "execute_result"
    },
    {
     "data": {
      "image/png": "[encoded data removed]",
      "text/plain": [
       "<Figure size 1200x500 with 1 Axes>"
      ]
     },
     "metadata": {},
     "output_type": "display_data"
    }
   ],
   "source": [
    "fig, ax = plt.subplots(figsize=(12,5)) \n",
    "sn.heatmap(df_tweets.isnull(), cbar=False, xticklabels=True, ax=ax, yticklabels=False)"
   ]
  },
  {
   "cell_type": "markdown",
   "metadata": {},
   "source": [
    "<a id='Features_informations'></a>\n",
    "\n",
    "## Features informations\n",
    "### Users dataset\n",
    "id, name, lang, bot, created_at and statuses_count\n",
    "* **id** (*Numerical*)\n",
    "  * Type: **Int64**\n",
    "  * Description: Is the identifier of the single user, it will be used to join the datasets, so it is necessary that this data is a non-null integer.\n",
    "* **name** (*Categorical*)\n",
    "  * Type: **String**\n",
    "  * Description: The name of the user.\n",
    "* **lang** (*Categorical*)\n",
    "  * Type: **Int64**\n",
    "  * Description: The user’s language selected\n",
    "* **bot** (*Numerical*)\n",
    "  * Type: **Boolean**\n",
    "  * Description: A binary variable that indicates if a user is a bot or a genuine user\n",
    "* **created_at** (*Numerical*)\n",
    "  * Type: **Datetime64**\n",
    "  * Description: The timestamp of when the user was created\n",
    "* **statuses_count** (*Numerical*)\n",
    "  * Type: **Int64**\n",
    "  * Description: The count of the tweets made by the user at the moment of data crawling.\n",
    "### Tweets dataset\n",
    "* **id** (*Numerical*)\n",
    "  * Type: **Object**\n",
    "  * Description: Is the identifier of the single tweet, it should be int64, but we decided to consder it object because it does not affect the data if it is not an integer.\n",
    "* **user_id** (*Numerical*)\n",
    "  * Type: **Int64**\n",
    "  * Description: Is the identifier of the single user, it will be used to join the datasets, so it is necessary that this data is a non-null integer\n",
    "* **retweet_count** (*Numerical*)\n",
    "  * Type: **Int64**\n",
    "  * Description: The number of retweets of the single tweet\n",
    "* **reply_count** (*Numerical*)\n",
    "  * Type: **Int64**\n",
    "  * Description: The number of replies of the single tweet\n",
    "* **favorite_count** (*Numerical*)\n",
    "  * Type: **Int64**\n",
    "  * Description: The number of favorites (or likes) of the single tweet\n",
    "* **num_hashtags** (*Numerical*)\n",
    "  * Type: **Int64**\n",
    "  * Description: The number of hashtags in the single tweet\n",
    "* **num_urls** (*Numerical*)\n",
    "  * Type: **Int64**\n",
    "  * Description: The number of urls in the single tweet\n",
    "* **num_mentions** (*Numerical*)\n",
    "  * Type: **Int64**\n",
    "  * Description: The number of mentions in the single tweet\n",
    "* **created_at** (*Numerical*)\n",
    "  * Type: **Datetime64**\n",
    "  * Description: The timestamp of when the single tweet was created\n",
    "* **text** (*Categorical*)\n",
    "  * Type: **String**\n",
    "  * Description: The text of the single tweet"
   ]
  },
  {
   "cell_type": "markdown",
   "metadata": {},
   "source": [
    "## Dropping tweets\n",
    "We drop duplicate users and tweets and tweets that contains NaN informations.\n",
    "\n",
    "DOMANDA: Dovremmo droppare anche i tweet con testo nullo?"
   ]
  },
  {
   "cell_type": "code",
   "execution_count": 96,
   "metadata": {},
   "outputs": [
    {
     "name": "stdout",
     "output_type": "stream",
     "text": [
      "<class 'pandas.core.frame.DataFrame'>\n",
      "Int64Index: 11508 entries, 2353593986 to 933183398\n",
      "Data columns (total 5 columns):\n",
      " #   Column          Non-Null Count  Dtype  \n",
      "---  ------          --------------  -----  \n",
      " 0   name            11507 non-null  object \n",
      " 1   lang            11508 non-null  object \n",
      " 2   bot             11508 non-null  int64  \n",
      " 3   created_at      11508 non-null  object \n",
      " 4   statuses_count  11109 non-null  float64\n",
      "dtypes: float64(1), int64(1), object(3)\n",
      "memory usage: 539.4+ KB\n",
      "<class 'pandas.core.frame.DataFrame'>\n",
      "Index: 927 entries, 509354017856950272 to 587485987414155264\n",
      "Data columns (total 9 columns):\n",
      " #   Column          Non-Null Count  Dtype \n",
      "---  ------          --------------  ----- \n",
      " 0   user_id         927 non-null    Int64 \n",
      " 1   retweet_count   897 non-null    object\n",
      " 2   reply_count     905 non-null    object\n",
      " 3   favorite_count  895 non-null    object\n",
      " 4   num_hashtags    891 non-null    object\n",
      " 5   num_urls        904 non-null    object\n",
      " 6   num_mentions    908 non-null    object\n",
      " 7   created_at      927 non-null    object\n",
      " 8   text            927 non-null    object\n",
      "dtypes: Int64(1), object(8)\n",
      "memory usage: 73.3+ KB\n"
     ]
    }
   ],
   "source": [
    "df_users.drop_duplicates(inplace=True)\n",
    "df_tweets.drop_duplicates(inplace=True)\n",
    "\n",
    "df_tweets.dropna(subset=['retweet_count','reply_count','favorite_count','num_hashtags','num_urls','num_mentions','text'], how='all', inplace=True)\n",
    "df_tweets.dropna(subset=['text'], inplace=True) # Da capire se farlo\n",
    "df_users.info()\n",
    "df_tweets.info()"
   ]
  },
  {
   "cell_type": "markdown",
   "metadata": {},
   "source": [
    "New Heatmap of users:"
   ]
  },
  {
   "cell_type": "code",
   "execution_count": 97,
   "metadata": {},
   "outputs": [
    {
     "data": {
      "text/plain": [
       "<AxesSubplot:ylabel='id'>"
      ]
     },
     "execution_count": 97,
     "metadata": {},
     "output_type": "execute_result"
    },
    {
     "data": {
      "image/png": "[encoded data removed]",
      "text/plain": [
       "<Figure size 1200x500 with 1 Axes>"
      ]
     },
     "metadata": {},
     "output_type": "display_data"
    }
   ],
   "source": [
    "fig, ax = plt.subplots(figsize=(12,5)) \n",
    "sn.heatmap(df_users.isnull(), cbar=False, xticklabels=True, ax=ax, yticklabels=False)"
   ]
  },
  {
   "cell_type": "markdown",
   "metadata": {},
   "source": [
    "New Heatmap of tweets:"
   ]
  },
  {
   "cell_type": "code",
   "execution_count": 98,
   "metadata": {},
   "outputs": [
    {
     "data": {
      "text/plain": [
       "<AxesSubplot:ylabel='id'>"
      ]
     },
     "execution_count": 98,
     "metadata": {},
     "output_type": "execute_result"
    },
    {
     "data": {
      "image/png": "[encoded data removed]",
      "text/plain": [
       "<Figure size 1200x500 with 1 Axes>"
      ]
     },
     "metadata": {},
     "output_type": "display_data"
    }
   ],
   "source": [
    "fig, ax = plt.subplots(figsize=(12,5)) \n",
    "sn.heatmap(df_tweets.isnull(), cbar=False, xticklabels=True, ax=ax, yticklabels=False)"
   ]
  },
  {
   "cell_type": "markdown",
   "metadata": {},
   "source": [
    "## Type Casting\n",
    "\n",
    "The dtypes of the datasets are:"
   ]
  },
  {
   "cell_type": "code",
   "execution_count": 99,
   "metadata": {},
   "outputs": [
    {
     "name": "stdout",
     "output_type": "stream",
     "text": [
      "<class 'pandas.core.frame.DataFrame'>\n",
      "Int64Index: 11508 entries, 2353593986 to 933183398\n",
      "Data columns (total 5 columns):\n",
      " #   Column          Non-Null Count  Dtype  \n",
      "---  ------          --------------  -----  \n",
      " 0   name            11507 non-null  object \n",
      " 1   lang            11508 non-null  object \n",
      " 2   bot             11508 non-null  int64  \n",
      " 3   created_at      11508 non-null  object \n",
      " 4   statuses_count  11109 non-null  float64\n",
      "dtypes: float64(1), int64(1), object(3)\n",
      "memory usage: 539.4+ KB\n",
      "<class 'pandas.core.frame.DataFrame'>\n",
      "Index: 927 entries, 509354017856950272 to 587485987414155264\n",
      "Data columns (total 9 columns):\n",
      " #   Column          Non-Null Count  Dtype \n",
      "---  ------          --------------  ----- \n",
      " 0   user_id         927 non-null    Int64 \n",
      " 1   retweet_count   897 non-null    object\n",
      " 2   reply_count     905 non-null    object\n",
      " 3   favorite_count  895 non-null    object\n",
      " 4   num_hashtags    891 non-null    object\n",
      " 5   num_urls        904 non-null    object\n",
      " 6   num_mentions    908 non-null    object\n",
      " 7   created_at      927 non-null    object\n",
      " 8   text            927 non-null    object\n",
      "dtypes: Int64(1), object(8)\n",
      "memory usage: 73.3+ KB\n"
     ]
    }
   ],
   "source": [
    "df_users.info()\n",
    "df_tweets.info()"
   ]
  },
  {
   "cell_type": "markdown",
   "metadata": {},
   "source": [
    "We need to cast them (and set eventual erros to null) to the types specified in **Feature Informations**"
   ]
  },
  {
   "cell_type": "code",
   "execution_count": 57,
   "metadata": {},
   "outputs": [
    {
     "name": "stdout",
     "output_type": "stream",
     "text": [
      "<class 'pandas.core.frame.DataFrame'>\n",
      "Index: 927 entries, 509354017856950272 to 587485987414155264\n",
      "Data columns (total 9 columns):\n",
      " #   Column          Non-Null Count  Dtype         \n",
      "---  ------          --------------  -----         \n",
      " 0   user_id         927 non-null    Int64         \n",
      " 1   retweet_count   891 non-null    Int64         \n",
      " 2   reply_count     897 non-null    Int64         \n",
      " 3   favorite_count  888 non-null    Int64         \n",
      " 4   num_hashtags    884 non-null    Int64         \n",
      " 5   num_urls        897 non-null    Int64         \n",
      " 6   num_mentions    892 non-null    Int64         \n",
      " 7   created_at      927 non-null    datetime64[ns]\n",
      " 8   text            927 non-null    string        \n",
      "dtypes: Int64(7), datetime64[ns](1), string(1)\n",
      "memory usage: 78.8+ KB\n"
     ]
    }
   ],
   "source": [
    "# Force the type of 'retweet_count' into integer, the errors will become null\n",
    "df_tweets['retweet_count'] = pd.to_numeric(df_tweets['retweet_count'],downcast= 'integer', errors='coerce') \n",
    "\n",
    "# Force the type of 'reply_count' into integer, the errors will become null\n",
    "df_tweets['reply_count'] = pd.to_numeric(df_tweets['reply_count'],downcast= 'integer', errors='coerce') \n",
    "\n",
    " # Force the type of 'favorite_count' into integer, the errors will become null\n",
    "df_tweets['favorite_count'] = pd.to_numeric(df_tweets['favorite_count'], downcast= 'integer', errors='coerce')\n",
    "\n",
    "# Force the type of 'num_hashtags' into integer, the errors will become null\n",
    "df_tweets['num_hashtags'] = pd.to_numeric(df_tweets['num_hashtags'], downcast= 'integer', errors='coerce') \n",
    "\n",
    "# Force the type of 'num_urls' into integer, the errors will become null\n",
    "df_tweets['num_urls'] = pd.to_numeric(df_tweets['num_urls'], downcast= 'integer', errors='coerce')\n",
    "\n",
    "# Force the type of 'num_mentions' into integer, the errors will become null\n",
    "df_tweets['num_mentions'] = pd.to_numeric(df_tweets['num_mentions'], downcast= 'integer', errors='coerce') \n",
    "\n",
    "# Force the type of 'created_at' into datetime64, the errors will become null\n",
    "df_tweets['created_at'] = pd.to_datetime(df_tweets['created_at'], errors='coerce')\n",
    "\n",
    "# Convert columns to best possible dtypes\n",
    "df_tweets = df_tweets.convert_dtypes()\n",
    "\n",
    "df_tweets.info()\n"
   ]
  }
 ],
 "metadata": {
  "kernelspec": {
   "display_name": "Python 3.7.13 ('dataMiningEnv')",
   "language": "python",
   "name": "python3"
  },
  "language_info": {
   "codemirror_mode": {
    "name": "ipython",
    "version": 3
   },
   "file_extension": ".py",
   "mimetype": "text/x-python",
   "name": "python",
   "nbconvert_exporter": "python",
   "pygments_lexer": "ipython3",
   "version": "3.7.13"
  },
  "orig_nbformat": 4,
  "vscode": {
   "interpreter": {
    "hash": "ce66766ca3893cb1226d696fde69a866d0cab1d434d25c0e4ac78a42eaec01f7"
   }
  }
 },
 "nbformat": 4,
 "nbformat_minor": 2
}
