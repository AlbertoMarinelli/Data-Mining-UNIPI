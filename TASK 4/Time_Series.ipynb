{
 "cells": [
  {
   "cell_type": "markdown",
   "metadata": {},
   "source": [
    "# Task 4 Time Series Analysis\n",
    "*Alberto Roberto Marinelli, Giacomo Cignoni, Alessandro Bucci*\n",
    "## Importing Libraries\n",
    "First we import the libraries necessary to extract the time series\n"
   ]
  },
  {
   "cell_type": "code",
   "execution_count": 103,
   "metadata": {},
   "outputs": [],
   "source": [
    "import numpy as np\n",
    "import pandas as pd\n",
    "import matplotlib.pyplot as plt\n",
    "from tqdm import tqdm\n",
    "from math import pi\n",
    "from sklearn.preprocessing import StandardScaler, MinMaxScaler\n",
    "from tslearn.preprocessing import TimeSeriesScalerMeanVariance, TimeSeriesScalerMinMax, TimeSeriesResampler\n",
    "from statsmodels.tsa.stattools import adfuller "
   ]
  },
  {
   "cell_type": "code",
   "execution_count": 104,
   "metadata": {},
   "outputs": [
    {
     "name": "stderr",
     "output_type": "stream",
     "text": [
      "c:\\Users\\giaco\\anaconda3\\envs\\PythonGPU\\lib\\site-packages\\numpy\\lib\\arraysetops.py:583: FutureWarning: elementwise comparison failed; returning scalar instead, but in the future will perform elementwise comparison\n",
      "  mask |= (ar1 == a)\n"
     ]
    }
   ],
   "source": [
    "df = pd.read_csv(\"../dataset/cleaned_joined_tweets.csv\", index_col = 0) \n",
    "del df['lang']\n",
    "del df['bot']\n",
    "del df['text']\n",
    "del df['created_at_user']\n",
    "del df['statuses_count']\n",
    "del df['id'] #of the tweet"
   ]
  },
  {
   "cell_type": "code",
   "execution_count": 105,
   "metadata": {},
   "outputs": [
    {
     "name": "stdout",
     "output_type": "stream",
     "text": [
      "<class 'pandas.core.frame.DataFrame'>\n",
      "Int64Index: 4722646 entries, 4499433 to 4080317\n",
      "Data columns (total 8 columns):\n",
      " #   Column          Dtype         \n",
      "---  ------          -----         \n",
      " 0   user_id         int64         \n",
      " 1   retweet_count   int64         \n",
      " 2   reply_count     int64         \n",
      " 3   favorite_count  int64         \n",
      " 4   num_hashtags    int64         \n",
      " 5   num_urls        int64         \n",
      " 6   num_mentions    int64         \n",
      " 7   created_at      datetime64[ns]\n",
      "dtypes: datetime64[ns](1), int64(7)\n",
      "memory usage: 324.3 MB\n"
     ]
    }
   ],
   "source": [
    "df.created_at = pd.to_datetime(df.created_at, errors='ignore').astype('datetime64[D]')\n",
    "df.sort_values(by=['user_id', 'created_at'], inplace=True)\n",
    "df.info()"
   ]
  },
  {
   "cell_type": "markdown",
   "metadata": {},
   "source": [
    "Get only the tweets in 2019:"
   ]
  },
  {
   "cell_type": "code",
   "execution_count": 106,
   "metadata": {},
   "outputs": [],
   "source": [
    "min_date = np.datetime64('2019-01-01 00:00:00')\n",
    "max_date = np.datetime64('2019-12-31 23:59:59')\n",
    "\n",
    "df_2019 = df[(df.created_at > min_date) & (df.created_at < max_date)].copy()"
   ]
  },
  {
   "cell_type": "markdown",
   "metadata": {},
   "source": [
    "For each user we define a series of 365 values initialized at -1, so we define a dataframe of Number_of_users * 365"
   ]
  },
  {
   "cell_type": "code",
   "execution_count": 107,
   "metadata": {},
   "outputs": [
    {
     "data": {
      "text/html": [
       "<div>\n",
       "<style scoped>\n",
       "    .dataframe tbody tr th:only-of-type {\n",
       "        vertical-align: middle;\n",
       "    }\n",
       "\n",
       "    .dataframe tbody tr th {\n",
       "        vertical-align: top;\n",
       "    }\n",
       "\n",
       "    .dataframe thead th {\n",
       "        text-align: right;\n",
       "    }\n",
       "</style>\n",
       "<table border=\"1\" class=\"dataframe\">\n",
       "  <thead>\n",
       "    <tr style=\"text-align: right;\">\n",
       "      <th></th>\n",
       "      <th>user_id</th>\n",
       "      <th>retweet_count</th>\n",
       "      <th>reply_count</th>\n",
       "      <th>favorite_count</th>\n",
       "      <th>num_hashtags</th>\n",
       "      <th>num_urls</th>\n",
       "      <th>num_mentions</th>\n",
       "      <th>created_at</th>\n",
       "    </tr>\n",
       "  </thead>\n",
       "  <tbody>\n",
       "    <tr>\n",
       "      <th>3343007</th>\n",
       "      <td>722623</td>\n",
       "      <td>1</td>\n",
       "      <td>0</td>\n",
       "      <td>0</td>\n",
       "      <td>0</td>\n",
       "      <td>0</td>\n",
       "      <td>2</td>\n",
       "      <td>2019-01-03</td>\n",
       "    </tr>\n",
       "    <tr>\n",
       "      <th>3343357</th>\n",
       "      <td>722623</td>\n",
       "      <td>0</td>\n",
       "      <td>0</td>\n",
       "      <td>2</td>\n",
       "      <td>0</td>\n",
       "      <td>0</td>\n",
       "      <td>0</td>\n",
       "      <td>2019-01-03</td>\n",
       "    </tr>\n",
       "    <tr>\n",
       "      <th>3343475</th>\n",
       "      <td>722623</td>\n",
       "      <td>0</td>\n",
       "      <td>0</td>\n",
       "      <td>0</td>\n",
       "      <td>0</td>\n",
       "      <td>0</td>\n",
       "      <td>0</td>\n",
       "      <td>2019-01-03</td>\n",
       "    </tr>\n",
       "    <tr>\n",
       "      <th>3343674</th>\n",
       "      <td>722623</td>\n",
       "      <td>0</td>\n",
       "      <td>0</td>\n",
       "      <td>0</td>\n",
       "      <td>0</td>\n",
       "      <td>0</td>\n",
       "      <td>0</td>\n",
       "      <td>2019-01-03</td>\n",
       "    </tr>\n",
       "    <tr>\n",
       "      <th>3344173</th>\n",
       "      <td>722623</td>\n",
       "      <td>3</td>\n",
       "      <td>0</td>\n",
       "      <td>0</td>\n",
       "      <td>0</td>\n",
       "      <td>0</td>\n",
       "      <td>1</td>\n",
       "      <td>2019-01-03</td>\n",
       "    </tr>\n",
       "  </tbody>\n",
       "</table>\n",
       "</div>"
      ],
      "text/plain": [
       "         user_id  retweet_count  reply_count  favorite_count  num_hashtags  \\\n",
       "3343007   722623              1            0               0             0   \n",
       "3343357   722623              0            0               2             0   \n",
       "3343475   722623              0            0               0             0   \n",
       "3343674   722623              0            0               0             0   \n",
       "3344173   722623              3            0               0             0   \n",
       "\n",
       "         num_urls  num_mentions created_at  \n",
       "3343007         0             2 2019-01-03  \n",
       "3343357         0             0 2019-01-03  \n",
       "3343475         0             0 2019-01-03  \n",
       "3343674         0             0 2019-01-03  \n",
       "3344173         0             1 2019-01-03  "
      ]
     },
     "execution_count": 107,
     "metadata": {},
     "output_type": "execute_result"
    }
   ],
   "source": [
    "df_2019.head()"
   ]
  },
  {
   "cell_type": "markdown",
   "metadata": {},
   "source": [
    "## Extract timeseries"
   ]
  },
  {
   "cell_type": "markdown",
   "metadata": {},
   "source": [
    "### Use pivoting"
   ]
  },
  {
   "cell_type": "code",
   "execution_count": 108,
   "metadata": {},
   "outputs": [],
   "source": [
    "user_2019 = df_2019.groupby(['user_id', 'created_at']).sum()"
   ]
  },
  {
   "cell_type": "markdown",
   "metadata": {},
   "source": [
    "Is possible to perform the following operation, sicne in the data cleaning we filled the NaN values."
   ]
  },
  {
   "cell_type": "code",
   "execution_count": 109,
   "metadata": {},
   "outputs": [],
   "source": [
    "user_2019['success_score'] = (user_2019.retweet_count + user_2019.reply_count + user_2019.favorite_count) / (user_2019.num_hashtags + user_2019.num_urls + user_2019.num_mentions + 0.1)"
   ]
  },
  {
   "cell_type": "markdown",
   "metadata": {},
   "source": [
    "Deleting the columns used for the calculation"
   ]
  },
  {
   "cell_type": "code",
   "execution_count": 110,
   "metadata": {},
   "outputs": [],
   "source": [
    "del user_2019['retweet_count']\n",
    "del user_2019['reply_count']\n",
    "del user_2019['favorite_count']\n",
    "del user_2019['num_hashtags']\n",
    "del user_2019['num_urls']\n",
    "del user_2019['num_mentions']"
   ]
  },
  {
   "cell_type": "code",
   "execution_count": 111,
   "metadata": {},
   "outputs": [],
   "source": [
    "user_2019 = user_2019.pivot_table('success_score','created_at','user_id')\n",
    "user_2019.rename_axis(columns=None, inplace=True)\n",
    "user_2019.reset_index(drop=False, inplace=True)"
   ]
  },
  {
   "cell_type": "code",
   "execution_count": 112,
   "metadata": {},
   "outputs": [],
   "source": [
    "dates = pd.Series(pd.date_range('01-01-2019','31-12-2019')).rename('created_at')\n",
    "\n",
    "user_2019 = user_2019.merge(dates, how='outer', on='created_at')\n",
    "user_2019.fillna(-1, inplace=True)\n",
    "user_2019.set_index('created_at', inplace=True)\n",
    "user_2019.sort_index(inplace=True)"
   ]
  },
  {
   "cell_type": "code",
   "execution_count": 113,
   "metadata": {},
   "outputs": [
    {
     "data": {
      "text/html": [
       "<div>\n",
       "<style scoped>\n",
       "    .dataframe tbody tr th:only-of-type {\n",
       "        vertical-align: middle;\n",
       "    }\n",
       "\n",
       "    .dataframe tbody tr th {\n",
       "        vertical-align: top;\n",
       "    }\n",
       "\n",
       "    .dataframe thead th {\n",
       "        text-align: right;\n",
       "    }\n",
       "</style>\n",
       "<table border=\"1\" class=\"dataframe\">\n",
       "  <thead>\n",
       "    <tr style=\"text-align: right;\">\n",
       "      <th></th>\n",
       "      <th>722623</th>\n",
       "      <th>755746</th>\n",
       "      <th>5812422</th>\n",
       "      <th>8657052</th>\n",
       "      <th>9272142</th>\n",
       "      <th>12287842</th>\n",
       "      <th>13126372</th>\n",
       "      <th>14290542</th>\n",
       "      <th>14391111</th>\n",
       "      <th>14558848</th>\n",
       "      <th>...</th>\n",
       "      <th>2469738596</th>\n",
       "      <th>2492782375</th>\n",
       "      <th>2497379616</th>\n",
       "      <th>2505222079</th>\n",
       "      <th>2528822924</th>\n",
       "      <th>2596494170</th>\n",
       "      <th>2599346388</th>\n",
       "      <th>2615998837</th>\n",
       "      <th>2619891104</th>\n",
       "      <th>2680793168</th>\n",
       "    </tr>\n",
       "    <tr>\n",
       "      <th>created_at</th>\n",
       "      <th></th>\n",
       "      <th></th>\n",
       "      <th></th>\n",
       "      <th></th>\n",
       "      <th></th>\n",
       "      <th></th>\n",
       "      <th></th>\n",
       "      <th></th>\n",
       "      <th></th>\n",
       "      <th></th>\n",
       "      <th></th>\n",
       "      <th></th>\n",
       "      <th></th>\n",
       "      <th></th>\n",
       "      <th></th>\n",
       "      <th></th>\n",
       "      <th></th>\n",
       "      <th></th>\n",
       "      <th></th>\n",
       "      <th></th>\n",
       "      <th></th>\n",
       "    </tr>\n",
       "  </thead>\n",
       "  <tbody>\n",
       "    <tr>\n",
       "      <th>2019-01-01</th>\n",
       "      <td>-1.000000</td>\n",
       "      <td>-1.0</td>\n",
       "      <td>-1.00000</td>\n",
       "      <td>-1.0</td>\n",
       "      <td>-1.0</td>\n",
       "      <td>-1.000000</td>\n",
       "      <td>-1.000000</td>\n",
       "      <td>-1.000000</td>\n",
       "      <td>-1.000000</td>\n",
       "      <td>-1.0</td>\n",
       "      <td>...</td>\n",
       "      <td>-1.0</td>\n",
       "      <td>-1.0</td>\n",
       "      <td>-1.0</td>\n",
       "      <td>-1.0</td>\n",
       "      <td>-1.0</td>\n",
       "      <td>-1.0</td>\n",
       "      <td>-1.0</td>\n",
       "      <td>-1.0</td>\n",
       "      <td>-1.0</td>\n",
       "      <td>-1.0</td>\n",
       "    </tr>\n",
       "    <tr>\n",
       "      <th>2019-01-02</th>\n",
       "      <td>-1.000000</td>\n",
       "      <td>-1.0</td>\n",
       "      <td>-1.00000</td>\n",
       "      <td>-1.0</td>\n",
       "      <td>-1.0</td>\n",
       "      <td>-1.000000</td>\n",
       "      <td>-1.000000</td>\n",
       "      <td>-1.000000</td>\n",
       "      <td>-1.000000</td>\n",
       "      <td>-1.0</td>\n",
       "      <td>...</td>\n",
       "      <td>-1.0</td>\n",
       "      <td>-1.0</td>\n",
       "      <td>-1.0</td>\n",
       "      <td>-1.0</td>\n",
       "      <td>-1.0</td>\n",
       "      <td>-1.0</td>\n",
       "      <td>-1.0</td>\n",
       "      <td>-1.0</td>\n",
       "      <td>-1.0</td>\n",
       "      <td>-1.0</td>\n",
       "    </tr>\n",
       "    <tr>\n",
       "      <th>2019-01-03</th>\n",
       "      <td>1.549296</td>\n",
       "      <td>0.0</td>\n",
       "      <td>0.10989</td>\n",
       "      <td>-1.0</td>\n",
       "      <td>-1.0</td>\n",
       "      <td>-1.000000</td>\n",
       "      <td>-1.000000</td>\n",
       "      <td>107.024030</td>\n",
       "      <td>0.243902</td>\n",
       "      <td>-1.0</td>\n",
       "      <td>...</td>\n",
       "      <td>-1.0</td>\n",
       "      <td>-1.0</td>\n",
       "      <td>-1.0</td>\n",
       "      <td>-1.0</td>\n",
       "      <td>-1.0</td>\n",
       "      <td>-1.0</td>\n",
       "      <td>-1.0</td>\n",
       "      <td>-1.0</td>\n",
       "      <td>-1.0</td>\n",
       "      <td>-1.0</td>\n",
       "    </tr>\n",
       "    <tr>\n",
       "      <th>2019-01-04</th>\n",
       "      <td>1626.393443</td>\n",
       "      <td>0.0</td>\n",
       "      <td>4.83871</td>\n",
       "      <td>-1.0</td>\n",
       "      <td>-1.0</td>\n",
       "      <td>99.503546</td>\n",
       "      <td>0.392157</td>\n",
       "      <td>39.321267</td>\n",
       "      <td>0.476190</td>\n",
       "      <td>-1.0</td>\n",
       "      <td>...</td>\n",
       "      <td>-1.0</td>\n",
       "      <td>-1.0</td>\n",
       "      <td>-1.0</td>\n",
       "      <td>-1.0</td>\n",
       "      <td>-1.0</td>\n",
       "      <td>-1.0</td>\n",
       "      <td>-1.0</td>\n",
       "      <td>-1.0</td>\n",
       "      <td>-1.0</td>\n",
       "      <td>-1.0</td>\n",
       "    </tr>\n",
       "    <tr>\n",
       "      <th>2019-01-05</th>\n",
       "      <td>1.818182</td>\n",
       "      <td>0.0</td>\n",
       "      <td>0.00000</td>\n",
       "      <td>-1.0</td>\n",
       "      <td>-1.0</td>\n",
       "      <td>0.000000</td>\n",
       "      <td>0.000000</td>\n",
       "      <td>415.352113</td>\n",
       "      <td>0.952381</td>\n",
       "      <td>20.0</td>\n",
       "      <td>...</td>\n",
       "      <td>-1.0</td>\n",
       "      <td>-1.0</td>\n",
       "      <td>-1.0</td>\n",
       "      <td>-1.0</td>\n",
       "      <td>-1.0</td>\n",
       "      <td>-1.0</td>\n",
       "      <td>-1.0</td>\n",
       "      <td>-1.0</td>\n",
       "      <td>-1.0</td>\n",
       "      <td>-1.0</td>\n",
       "    </tr>\n",
       "  </tbody>\n",
       "</table>\n",
       "<p>5 rows × 1221 columns</p>\n",
       "</div>"
      ],
      "text/plain": [
       "             722623      755746      5812422     8657052     9272142     \\\n",
       "created_at                                                                \n",
       "2019-01-01    -1.000000        -1.0    -1.00000        -1.0        -1.0   \n",
       "2019-01-02    -1.000000        -1.0    -1.00000        -1.0        -1.0   \n",
       "2019-01-03     1.549296         0.0     0.10989        -1.0        -1.0   \n",
       "2019-01-04  1626.393443         0.0     4.83871        -1.0        -1.0   \n",
       "2019-01-05     1.818182         0.0     0.00000        -1.0        -1.0   \n",
       "\n",
       "            12287842    13126372    14290542    14391111    14558848    ...  \\\n",
       "created_at                                                              ...   \n",
       "2019-01-01   -1.000000   -1.000000   -1.000000   -1.000000        -1.0  ...   \n",
       "2019-01-02   -1.000000   -1.000000   -1.000000   -1.000000        -1.0  ...   \n",
       "2019-01-03   -1.000000   -1.000000  107.024030    0.243902        -1.0  ...   \n",
       "2019-01-04   99.503546    0.392157   39.321267    0.476190        -1.0  ...   \n",
       "2019-01-05    0.000000    0.000000  415.352113    0.952381        20.0  ...   \n",
       "\n",
       "            2469738596  2492782375  2497379616  2505222079  2528822924  \\\n",
       "created_at                                                               \n",
       "2019-01-01        -1.0        -1.0        -1.0        -1.0        -1.0   \n",
       "2019-01-02        -1.0        -1.0        -1.0        -1.0        -1.0   \n",
       "2019-01-03        -1.0        -1.0        -1.0        -1.0        -1.0   \n",
       "2019-01-04        -1.0        -1.0        -1.0        -1.0        -1.0   \n",
       "2019-01-05        -1.0        -1.0        -1.0        -1.0        -1.0   \n",
       "\n",
       "            2596494170  2599346388  2615998837  2619891104  2680793168  \n",
       "created_at                                                              \n",
       "2019-01-01        -1.0        -1.0        -1.0        -1.0        -1.0  \n",
       "2019-01-02        -1.0        -1.0        -1.0        -1.0        -1.0  \n",
       "2019-01-03        -1.0        -1.0        -1.0        -1.0        -1.0  \n",
       "2019-01-04        -1.0        -1.0        -1.0        -1.0        -1.0  \n",
       "2019-01-05        -1.0        -1.0        -1.0        -1.0        -1.0  \n",
       "\n",
       "[5 rows x 1221 columns]"
      ]
     },
     "execution_count": 113,
     "metadata": {},
     "output_type": "execute_result"
    }
   ],
   "source": [
    "user_2019.head()"
   ]
  },
  {
   "cell_type": "code",
   "execution_count": 114,
   "metadata": {},
   "outputs": [],
   "source": [
    "user_2019.to_csv('../dataset/time_series.csv')"
   ]
  },
  {
   "cell_type": "markdown",
   "metadata": {},
   "source": [
    "## Preprocessing"
   ]
  },
  {
   "attachments": {},
   "cell_type": "markdown",
   "metadata": {},
   "source": [
    "### Detect and Remove trends"
   ]
  },
  {
   "cell_type": "code",
   "execution_count": 171,
   "metadata": {},
   "outputs": [
    {
     "name": "stderr",
     "output_type": "stream",
     "text": [
      "c:\\Users\\giaco\\anaconda3\\envs\\PythonGPU\\lib\\site-packages\\statsmodels\\regression\\linear_model.py:924: RuntimeWarning: divide by zero encountered in log\n",
      "  llf = -nobs2*np.log(2*np.pi) - nobs2*np.log(ssr / nobs) - nobs2\n"
     ]
    }
   ],
   "source": [
    "# Augmented Dickey-Fuller test\n",
    "# (to provide a quick check and confirmatory evidence that the time series is stationary or non-stationary)\n",
    "non_stationary_idx_list = []\n",
    "\n",
    "for col in user_2019.columns:\n",
    "    adf = adfuller(user_2019[col])\n",
    "    pvalue = adf[1]\n",
    "    if pvalue > 0.05:\n",
    "        non_stationary_idx_list.append(col)"
   ]
  },
  {
   "cell_type": "code",
   "execution_count": 172,
   "metadata": {},
   "outputs": [
    {
     "data": {
      "text/plain": [
       "0"
      ]
     },
     "execution_count": 172,
     "metadata": {},
     "output_type": "execute_result"
    }
   ],
   "source": [
    "len(non_stationary_idx_list)"
   ]
  },
  {
   "cell_type": "code",
   "execution_count": 161,
   "metadata": {},
   "outputs": [
    {
     "name": "stdout",
     "output_type": "stream",
     "text": [
      "ADF: -2.828828939207841\n",
      "p-value: 0.05427229497015501\n",
      "Critical values:\n",
      "1%: -3.449336554273722\n",
      "5%: -2.8699055166063085\n",
      "10%: -2.571226758215748\n"
     ]
    }
   ],
   "source": [
    "# Augmented Dickey-Fuller test of example of non sationary timeseries found before\n",
    "# (to provide a quick check and confirmatory evidence that the time series is stationary or non-stationary)\n",
    "adf = adfuller(user_2019[non_stationary_idx_list[14]])\n",
    "adf, pvalue, critical_values = adf[0], adf[1], adf[4]\n",
    "print(f\"ADF: {adf}\\np-value: {pvalue}\")\n",
    "print(\"Critical values:\")\n",
    "for k, v in critical_values.items():\n",
    "    print(f\"{k}: {v}\")"
   ]
  },
  {
   "cell_type": "code",
   "execution_count": 158,
   "metadata": {},
   "outputs": [
    {
     "data": {
      "image/png": "[encoded data removed]",
      "text/plain": [
       "<Figure size 640x480 with 1 Axes>"
      ]
     },
     "metadata": {},
     "output_type": "display_data"
    }
   ],
   "source": [
    "plt.plot(user_2019[non_stationary_idx_list[14]])\n",
    "plt.show()"
   ]
  },
  {
   "attachments": {},
   "cell_type": "markdown",
   "metadata": {},
   "source": [
    "Trend removal"
   ]
  },
  {
   "cell_type": "code",
   "execution_count": 166,
   "metadata": {},
   "outputs": [
    {
     "data": {
      "image/png": "[encoded data removed]",
      "text/plain": [
       "<Figure size 640x480 with 1 Axes>"
      ]
     },
     "metadata": {},
     "output_type": "display_data"
    }
   ],
   "source": [
    "ts_example = user_2019[non_stationary_idx_list[14]]\n",
    "\n",
    "ts_shift = ts_example - ts_example.rolling(window=12, min_periods=1).mean()\n",
    "plt.plot(ts_shift)\n",
    "plt.show()"
   ]
  },
  {
   "cell_type": "code",
   "execution_count": 169,
   "metadata": {},
   "outputs": [
    {
     "name": "stdout",
     "output_type": "stream",
     "text": [
      "ADF: -5.111788056262019\n",
      "p-value: 1.3273697292755686e-05\n",
      "Critical values:\n",
      "1%: -3.4492815848836296\n",
      "5%: -2.8698813715275406\n",
      "10%: -2.5712138845950587\n"
     ]
    }
   ],
   "source": [
    "# Augmented Dickey-Fuller test of example of timeseries after trend removal\n",
    "# (to provide a quick check and confirmatory evidence that the time series is stationary or non-stationary)\n",
    "adf = adfuller(ts_shift)\n",
    "adf, pvalue, critical_values = adf[0], adf[1], adf[4]\n",
    "print(f\"ADF: {adf}\\np-value: {pvalue}\")\n",
    "print(\"Critical values:\")\n",
    "for k, v in critical_values.items():\n",
    "    print(f\"{k}: {v}\")"
   ]
  },
  {
   "attachments": {},
   "cell_type": "markdown",
   "metadata": {},
   "source": [
    "Remove trends for all timeseries with trend"
   ]
  },
  {
   "cell_type": "code",
   "execution_count": 170,
   "metadata": {},
   "outputs": [],
   "source": [
    "user_2019_detrend = user_2019.copy()\n",
    "\n",
    "for col in non_stationary_idx_list:\n",
    "    user_2019_detrend[col] = user_2019_detrend[col] - user_2019_detrend[col].rolling(window=12, min_periods=1).mean()"
   ]
  },
  {
   "attachments": {},
   "cell_type": "markdown",
   "metadata": {},
   "source": [
    "### Noise detection\n",
    "(prova diverse window)"
   ]
  },
  {
   "cell_type": "code",
   "execution_count": 119,
   "metadata": {},
   "outputs": [
    {
     "name": "stdout",
     "output_type": "stream",
     "text": [
      "(365,)\n"
     ]
    },
    {
     "data": {
      "image/png": "[encoded data removed]",
      "text/plain": [
       "<Figure size 640x480 with 1 Axes>"
      ]
     },
     "metadata": {},
     "output_type": "display_data"
    }
   ],
   "source": [
    "ts_example = user_2019.iloc[:, 29]\n",
    "\n",
    "print(np.shape(ts_example))\n",
    "\n",
    "plt.plot(ts_example)\n",
    "plt.plot(ts_example.rolling(window=4).mean())\n",
    "plt.show()"
   ]
  },
  {
   "attachments": {},
   "cell_type": "markdown",
   "metadata": {},
   "source": [
    "### Scaler"
   ]
  },
  {
   "attachments": {},
   "cell_type": "markdown",
   "metadata": {},
   "source": [
    "#### Mean Variance"
   ]
  },
  {
   "cell_type": "code",
   "execution_count": 120,
   "metadata": {},
   "outputs": [
    {
     "ename": "IndexError",
     "evalue": "index 722623 is out of bounds for axis 0 with size 365",
     "output_type": "error",
     "traceback": [
      "\u001b[1;31m---------------------------------------------------------------------------\u001b[0m",
      "\u001b[1;31mIndexError\u001b[0m                                Traceback (most recent call last)",
      "\u001b[1;32m<ipython-input-120-ede2a7860c85>\u001b[0m in \u001b[0;36m<module>\u001b[1;34m\u001b[0m\n\u001b[0;32m      2\u001b[0m \u001b[0mscaler\u001b[0m \u001b[1;33m=\u001b[0m \u001b[0mTimeSeriesScalerMeanVariance\u001b[0m\u001b[1;33m(\u001b[0m\u001b[0mmu\u001b[0m\u001b[1;33m=\u001b[0m\u001b[1;36m0.\u001b[0m\u001b[1;33m,\u001b[0m \u001b[0mstd\u001b[0m\u001b[1;33m=\u001b[0m\u001b[1;36m1.\u001b[0m\u001b[1;33m)\u001b[0m\u001b[1;33m\u001b[0m\u001b[1;33m\u001b[0m\u001b[0m\n\u001b[0;32m      3\u001b[0m \u001b[1;32mfor\u001b[0m \u001b[0mcol\u001b[0m \u001b[1;32min\u001b[0m \u001b[0muser_2019\u001b[0m\u001b[1;33m.\u001b[0m\u001b[0mcolumns\u001b[0m\u001b[1;33m:\u001b[0m\u001b[1;33m\u001b[0m\u001b[1;33m\u001b[0m\u001b[0m\n\u001b[1;32m----> 4\u001b[1;33m     \u001b[0muser_2019_std\u001b[0m\u001b[1;33m[\u001b[0m\u001b[0mcol\u001b[0m\u001b[1;33m]\u001b[0m \u001b[1;33m=\u001b[0m \u001b[0mscaler\u001b[0m\u001b[1;33m.\u001b[0m\u001b[0mfit_transform\u001b[0m\u001b[1;33m(\u001b[0m\u001b[0muser_2019\u001b[0m\u001b[1;33m[\u001b[0m\u001b[0mcol\u001b[0m\u001b[1;33m]\u001b[0m\u001b[1;33m.\u001b[0m\u001b[0mvalues\u001b[0m\u001b[1;33m.\u001b[0m\u001b[0mreshape\u001b[0m\u001b[1;33m(\u001b[0m\u001b[1;36m1\u001b[0m\u001b[1;33m,\u001b[0m \u001b[1;33m-\u001b[0m\u001b[1;36m1\u001b[0m\u001b[1;33m)\u001b[0m\u001b[1;33m)\u001b[0m\u001b[1;33m.\u001b[0m\u001b[0mflatten\u001b[0m\u001b[1;33m(\u001b[0m\u001b[1;33m)\u001b[0m\u001b[1;33m\u001b[0m\u001b[1;33m\u001b[0m\u001b[0m\n\u001b[0m\u001b[0;32m      5\u001b[0m \u001b[1;33m\u001b[0m\u001b[0m\n\u001b[0;32m      6\u001b[0m \u001b[0mts_example_1\u001b[0m \u001b[1;33m=\u001b[0m \u001b[0muser_2019_std\u001b[0m\u001b[1;33m.\u001b[0m\u001b[0miloc\u001b[0m\u001b[1;33m[\u001b[0m\u001b[1;33m:\u001b[0m\u001b[1;33m,\u001b[0m \u001b[1;36m29\u001b[0m\u001b[1;33m]\u001b[0m\u001b[1;33m\u001b[0m\u001b[1;33m\u001b[0m\u001b[0m\n",
      "\u001b[1;31mIndexError\u001b[0m: index 722623 is out of bounds for axis 0 with size 365"
     ]
    }
   ],
   "source": [
    "#scaler mean variance\n",
    "user_2019_std = pd.DataFrame()\n",
    "scaler = TimeSeriesScalerMeanVariance(mu=0., std=1.)  \n",
    "for col in user_2019.columns:\n",
    "    user_2019_std[col] = scaler.fit_transform(user_2019[col].values.reshape(1, -1)).flatten()\n",
    "\n",
    "ts_example_1 = user_2019_std.iloc[:, 29]\n",
    "ts_example_2 = user_2019_std.iloc[:, 567]\n",
    "ts_example_3 = user_2019_std.iloc[:, 1000]\n",
    "ts_example_4 = user_2019_std.iloc[:, 867]\n",
    "plt.plot(ts_example_1)\n",
    "plt.plot(ts_example_2)\n",
    "plt.plot(ts_example_3)\n",
    "plt.plot(ts_example_4)\n",
    "plt.show()"
   ]
  },
  {
   "cell_type": "code",
   "execution_count": null,
   "metadata": {},
   "outputs": [],
   "source": [
    "user_2019.head()"
   ]
  },
  {
   "cell_type": "markdown",
   "metadata": {},
   "source": [
    "### Resample ??"
   ]
  },
  {
   "cell_type": "markdown",
   "metadata": {},
   "source": [
    "## Clustering timeseries"
   ]
  }
 ],
 "metadata": {
  "kernelspec": {
   "display_name": "Python 3.7.11 ('PythonGPU')",
   "language": "python",
   "name": "python3"
  },
  "language_info": {
   "codemirror_mode": {
    "name": "ipython",
    "version": 3
   },
   "file_extension": ".py",
   "mimetype": "text/x-python",
   "name": "python",
   "nbconvert_exporter": "python",
   "pygments_lexer": "ipython3",
   "version": "3.7.11"
  },
  "orig_nbformat": 4,
  "vscode": {
   "interpreter": {
    "hash": "d0730f60e148d57a1e4c6f650409706dbcf5ffb151704137abb6195cb5ab6161"
   }
  }
 },
 "nbformat": 4,
 "nbformat_minor": 2
}
